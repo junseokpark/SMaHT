{
 "cells": [
  {
   "cell_type": "code",
   "execution_count": null,
   "metadata": {},
   "outputs": [
    {
     "ename": "",
     "evalue": "",
     "output_type": "error",
     "traceback": [
      "\u001b[1;31mFailed to start the Kernel. \n",
      "\u001b[1;31mUnable to start Kernel 'SMaHT-3.9 (Python 3.9.19)' due to a timeout waiting for the ports to get used. \n",
      "\u001b[1;31mView Jupyter <a href='command:jupyter.viewOutput'>log</a> for further details."
     ]
    }
   ],
   "source": [
    "import os \n",
    "import igv_notebook\n",
    "from pathlib import Path"
   ]
  },
  {
   "cell_type": "code",
   "execution_count": null,
   "metadata": {},
   "outputs": [],
   "source": [
    "def get_realpath(file_path):\n",
    "    \"\"\"\n",
    "    This function checks if the specified file exists and returns its real, absolute path.\n",
    "    It includes exception handling to manage errors gracefully.\n",
    "    \n",
    "    Parameters:\n",
    "    file_path (str): The path to the file to be checked.\n",
    "\n",
    "    Returns:\n",
    "    str: The real, absolute path of the file if it exists.\n",
    "    None: If the file does not exist or an error occurs.\n",
    "    \"\"\"\n",
    "    try:\n",
    "        # Create a Path object\n",
    "        path = Path(file_path)\n",
    "\n",
    "        # Check if the file exists\n",
    "        if not path.exists():\n",
    "            print(f\"Error: The file '{file_path}' does not exist.\")\n",
    "            return None\n",
    "\n",
    "        # Get the real, absolute path\n",
    "        real_path = path.resolve()\n",
    "        return str(real_path)\n",
    "\n",
    "    except Exception as e:\n",
    "        # Handle any other exceptions\n",
    "        print(f\"An error occurred: {e}\")\n",
    "        return None"
   ]
  },
  {
   "cell_type": "code",
   "execution_count": null,
   "metadata": {},
   "outputs": [],
   "source": [
    "\n",
    "genome=\"hg38\"\n",
    "bamFileWithPath=\"../data/mixedDataRetroSom/D_Simul50x/CONT_15.recal.sorted.bam\"\n",
    "bamFilewithPath=get_realpath(bamFileWithPath)\n",
    "baiFileWithPath= bamFileWithPath+\".bai\"\n",
    "locus=\"chr22:24,376,166-24,376,456\""
   ]
  },
  {
   "cell_type": "code",
   "execution_count": null,
   "metadata": {},
   "outputs": [],
   "source": [
    "import igv_notebook\n",
    "igv_notebook.init()\n",
    "igv_browser= igv_notebook.Browser(\n",
    "    {\n",
    "        \"genome\": genome,\n",
    "        \"locus\": locus,\n",
    "        \"tracks\": [{\n",
    "            \"name\": \"BAM\",\n",
    "            \"path\": \"https://s3.amazonaws.com/igv.org.demo/gstt1_sample.bam\",\n",
    "            \"indexPath\": \"https://s3.amazonaws.com/igv.org.demo/gstt1_sample.bam.bai\",\n",
    "            \"format\": \"bam\",\n",
    "            \"type\": \"alignment\"\n",
    "        }]\n",
    "    }\n",
    ")"
   ]
  }
 ],
 "metadata": {
  "kernelspec": {
   "display_name": "dev-3.9",
   "language": "python",
   "name": "python3"
  },
  "language_info": {
   "name": "python",
   "version": "3.9.19"
  }
 },
 "nbformat": 4,
 "nbformat_minor": 2
}
