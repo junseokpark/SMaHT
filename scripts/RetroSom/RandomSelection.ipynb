{
 "cells": [
  {
   "cell_type": "markdown",
   "metadata": {},
   "source": [
    "# Random Selection for Xiaowei"
   ]
  },
  {
   "cell_type": "code",
   "execution_count": 5,
   "metadata": {},
   "outputs": [
    {
     "name": "stdout",
     "output_type": "stream",
     "text": [
      "2477\tchr7\t134739904\tchr7_134739904\tchr7_134739890\t.\t.\tchr7_134739890\t.\n",
      "3145\tchr9\t61798128\t.\t.\t.\t.\t.\tchr9_61798128\n",
      "1023\tchr21\t45622446\t.\tchr21_45622446\tchr21_45622446\t.\tchr21_45622446\t.\n",
      "1058\tchr19\t47305966\t.\tchr19_47305966\tchr19_47305966\t.\tchr19_47305966\tchr19_47305966\n",
      "1862\tchr7\t88751025\tchr7_88751025\tchr7_88751025\t.\tchr7_88751025\t.\t.\n",
      "91\tchr9\t4814225\t.\t.\tchr9_4814225\t.\t.\t.\n",
      "1151\tchr19\t53295867\t.\t.\t.\tchr19_53295867\tchr19_53295867\t.\n",
      "123\tchr2\t6377286\t.\t.\t.\tchr2_6377286\tchr2_6377286\t.\n",
      "1390\tchr5\t64727314\t.\t.\t.\t.\tchr5_64727314\tchr5_64727314\n",
      "398\tchr14\t20016136\tchr14_20016136\tchr14_20016141\tchr14_20016136\tchr14_20016150\t.\t.\n",
      "2097\tchr6\t104042793\t.\t.\tchr6_104042793\t.\t.\t.\n",
      "906\tchr2\t40075868\t.\t.\t.\t.\tchr2_40075868\tchr2_40075868\n",
      "1428\tchr11\t66240777\t.\t.\tchr11_66240777\t.\t.\tchr11_66240777\n",
      "2561\tchr2\t146090512\t.\t.\t.\tchr2_146090512\tchr2_146090512\t.\n",
      "524\tchr12\t24837036\tchr12_24837036\t.\tchr12_24837036\t.\t.\tchr12_24837036\n",
      "2174\tchr12\t109449831\tchr12_109449831\t.\t.\t.\tchr12_109449831\tchr12_109449831\n",
      "1705\tchr5\t79132972\t.\t.\tchr5_79132972\t.\t.\t.\n",
      "488\tchr13\t23480579\t.\t.\t.\tchr13_23480579\t.\t.\n",
      "2201\tchr3\t111268620\t.\t.\t.\tchr3_111268620\t.\t.\n",
      "605\tchr8\t28002542\t.\t.\t.\tchr8_28002542\t.\t.\n"
     ]
    }
   ],
   "source": [
    "import random\n",
    "\n",
    "file_path = '../../gold_standards/HapMapMix/Alu/Alu_concat_tier3.txt'\n",
    "\n",
    "number_of_rows_to_select = 20  # Change this number as needed\n",
    "\n",
    "# Open the file and read all lines\n",
    "with open(file_path, 'r') as file:\n",
    "    lines = file.readlines()\n",
    "\n",
    "# Randomly select the specified number of rows\n",
    "selected_rows = random.sample(lines, number_of_rows_to_select)\n",
    "\n",
    "# Print the randomly selected rows\n",
    "for row in selected_rows:\n",
    "    print(row.strip())  # strip() removes any extra newlines\n"
   ]
  },
  {
   "cell_type": "code",
   "execution_count": 4,
   "metadata": {},
   "outputs": [
    {
     "name": "stdout",
     "output_type": "stream",
     "text": [
      "284\tchr3\t82660969\tchr3_82660969\t.\t.\t.\t.\tchr3_82660969\n",
      "515\tchr2\t49159511\t.\t.\t.\t.\t.\tchr2_49159511\n",
      "232\tchr6\t66948022\t.\t.\t.\tchr6_66948022\t.\t.\n",
      "197\tchr8\t57435380\t.\t.\t.\t.\tchr8_57435380\t.\n",
      "140\tchr9\t40853993\t.\t.\tchr9_40853993\t.\t.\t.\n",
      "450\tchr5\t161008657\tchr5_161008657\t.\tchr5_161008657\t.\t.\t.\n",
      "256\tchr8\t71486994\tchr8_71486994\tchr8_71486985\t.\tchr8_71486994\tchr8_71486985\t.\n",
      "195\tchr6\t56864498\t.\t.\t.\t.\tchr6_56864498\t.\n",
      "273\tchr12\t78545358\t.\t.\t.\t.\tchr12_78545358\t.\n",
      "283\tchr3\t82095702\t.\t.\t.\tchr3_82095702\t.\tchr3_82095702\n",
      "267\tchr5\t75947466\t.\t.\t.\t.\tchr5_75947466\t.\n",
      "461\tchr3\t176373529\tchr3_176373529\tchr3_176373529\tchr3_176373529\tchr3_176373534\tchr3_176373534\tchr3_176373529\n",
      "29\tchr18\t12491252\t.\t.\t.\tchr18_12491252\tchr18_12491252\tchr18_12491256\n",
      "396\tchr6\t123326491\t.\tchr6_123326491\tchr6_123326482\t.\t.\t.\n",
      "561\tchr3\t144891229\t.\t.\t.\t.\t.\tchr3_144891229\n",
      "233\tchr14\t66953146\tchr14_66953146\tchr14_66953146\t.\tchr14_66953146\tchr14_66953146\tchr14_66953156\n",
      "305\tchr7\t87089896\t.\t.\t.\tchr7_87089896\t.\t.\n",
      "110\tchr17\t33091498\t.\t.\t.\tchr17_33091498\t.\t.\n",
      "276\tchr12\t78944242\t.\t.\tchr12_78944242\tchr12_78944242\t.\t.\n",
      "164\tchr12\t46975842\tchr12_46975842\tchr12_46975842\t.\t.\tchr12_46975842\t.\n"
     ]
    }
   ],
   "source": [
    "import random\n",
    "\n",
    "file_path = '../../gold_standards/HapMapMix/L1/L1_concat_tier3.txt'\n",
    "\n",
    "number_of_rows_to_select = 80  # Change this number as needed\n",
    "\n",
    "# Open the file and read all lines\n",
    "with open(file_path, 'r') as file:\n",
    "    lines = file.readlines()\n",
    "\n",
    "# Randomly select the specified number of rows\n",
    "selected_rows = random.sample(lines, number_of_rows_to_select)\n",
    "\n",
    "# Print the randomly selected rows\n",
    "for row in selected_rows:\n",
    "    print(row.strip())  # strip() removes any extra newlines\n"
   ]
  },
  {
   "cell_type": "code",
   "execution_count": null,
   "metadata": {},
   "outputs": [],
   "source": []
  }
 ],
 "metadata": {
  "kernelspec": {
   "display_name": "SMaHT-3.9",
   "language": "python",
   "name": "python3"
  },
  "language_info": {
   "codemirror_mode": {
    "name": "ipython",
    "version": 3
   },
   "file_extension": ".py",
   "mimetype": "text/x-python",
   "name": "python",
   "nbconvert_exporter": "python",
   "pygments_lexer": "ipython3",
   "version": "3.9.19"
  }
 },
 "nbformat": 4,
 "nbformat_minor": 2
}
