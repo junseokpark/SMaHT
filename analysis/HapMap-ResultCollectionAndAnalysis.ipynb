{
 "cells": [
  {
   "cell_type": "code",
   "execution_count": 8,
   "metadata": {},
   "outputs": [],
   "source": [
    "import pandas as pd\n",
    "import matplotlib.pyplot as plt\n",
    "import seaborn as sns\n",
    "from scipy.stats import t\n",
    "import numpy as np\n",
    "import os\n",
    "import itertools\n",
    "from matplotlib import pyplot as plt\n",
    "from tqdm.notebook import trange, tqdm\n",
    "from datetime import datetime\n",
    "import subprocess\n",
    "import logging\n",
    "import shutil\n",
    "\n",
    "# bedtools\n",
    "from pybedtools import BedTool\n",
    "\n",
    "# pysam\n",
    "import pysam\n",
    "\n",
    "# graphical utilities\n",
    "import pygwalker as pyg\n",
    "import plotly.express as px\n",
    "import plotly.offline as pyo\n"
   ]
  },
  {
   "cell_type": "code",
   "execution_count": 9,
   "metadata": {},
   "outputs": [],
   "source": [
    "# Configure logging\n",
    "logging.basicConfig(level=logging.INFO, format='%(asctime)s - %(levelname)s - %(message)s')\n"
   ]
  },
  {
   "cell_type": "code",
   "execution_count": 10,
   "metadata": {},
   "outputs": [],
   "source": [
    "# Function to find and count intersection with a window\n",
    "def find_intersection(bed_files, window=1000):\n",
    "    bedtools_objs = [BedTool(bed_file) for bed_file in bed_files]\n",
    "    intersection = bedtools_objs[0]\n",
    "    for bedtool in bedtools_objs[1:]:\n",
    "        intersection = intersection.intersect(bedtool, wa=True, wb=True, e=True, f=0.9, F=0.1)\n",
    "    #intersection.saveas('intersection.bed')\n",
    "    return intersection\n",
    "\n",
    "# Function to find and count union with a window\n",
    "def find_union(bed_files):\n",
    "    bedtools_objs = [BedTool(bed_file) for bed_file in bed_files]\n",
    "    union = bedtools_objs[0]\n",
    "    for bedtool in bedtools_objs[1:]:\n",
    "        union = union.cat(bedtool, postmerge=False)\n",
    "    union = union.sort().merge()\n",
    "    #union.saveas('union.bed')\n",
    "    return union\n",
    "\n",
    "# Function to find and count unique sets with a window\n",
    "def find_unique(bed_file, other_bed_files, index, window=1000):\n",
    "    bedtool = BedTool(bed_file)\n",
    "    other_bedtools = [BedTool(bed_file) for bed_file in other_bed_files]\n",
    "    unique = bedtool\n",
    "    for other_bedtool in other_bedtools:\n",
    "        unique = unique.subtract(other_bedtool, A=True, s=True, r=True, f=window/1000)\n",
    "    #unique.saveas(f'unique_{index}.bed')\n",
    "    return unique\n",
    "\n",
    "\n",
    "# Function to find intersections with a window\n",
    "def find_intersection_with_window(bed_files, l=300, r=20000):\n",
    "    bedtools_objs = [BedTool(bed_file) for bed_file in bed_files]\n",
    "    intersection = bedtools_objs[0]\n",
    "    for bedtool in bedtools_objs[1:]:\n",
    "        intersection = intersection.window(b=bedtool, l=l, r=r)\n",
    "    intersection.saveas('intersection_with_window.bed')\n",
    "    return len(intersection)\n",
    "\n",
    "# Function to find union\n",
    "def find_union(bed_files):\n",
    "    bedtools_objs = [BedTool(bed_file) for bed_file in bed_files]\n",
    "    union = bedtools_objs[0]\n",
    "    for bedtool in bedtools_objs[1:]:\n",
    "        union = union.cat(bedtool, postmerge=False)\n",
    "    union = union.sort().merge()\n",
    "    \n",
    "    #union.saveas('union.bed')\n",
    "    return union\n",
    "\n",
    "# Function to find unique sets with a window\n",
    "def find_unique_with_window(bed_file, other_bed_files, index, l=300, r=20000):\n",
    "    bedtool = BedTool(bed_file)\n",
    "    other_bedtools = [BedTool(bed_file) for bed_file in other_bed_files]\n",
    "    unique = bedtool\n",
    "    for other_bedtool in other_bedtools:\n",
    "        unique = unique.window(b=other_bedtool, l=l, r=r, v=True)\n",
    "    unique.saveas(f'unique_with_window_{index}.bed')\n",
    "    return len(unique)\n",
    "\n",
    "# # Paths to your BED files\n",
    "# bed_files = ['file1.bed', 'file2.bed', 'file3.bed']\n",
    "\n",
    "# # Finding the intersection of all BED files and counting intervals with a window\n",
    "# intersection_count = find_intersection_with_window(bed_files, l=300, r=20000)\n",
    "# print(f'Number of intervals in intersection with window: {intersection_count}')\n",
    "\n",
    "# # Finding the union of all BED files and counting intervals\n",
    "# union_count = find_union(bed_files)\n",
    "# print(f'Number of intervals in union: {union_count}')\n",
    "\n",
    "# # Finding unique sets for each file and counting intervals with a window\n",
    "# for i, bed_file in enumerate(bed_files):\n",
    "#     other_bed_files = [f for j, f in enumerate(bed_files) if j != i]\n",
    "#     unique_count = find_unique_with_window(bed_file, other_bed_files, i + 1, l=300, r=20000)\n",
    "#     print(f'Number of unique intervals in file {i+1} with window: {unique_count}')"
   ]
  },
  {
   "cell_type": "code",
   "execution_count": 11,
   "metadata": {},
   "outputs": [],
   "source": [
    "def LoadRetroSomResults(directory, te_type):\n",
    "    \n",
    "\n",
    "    # List all files in the directory\n",
    "    files = os.listdir(directory)\n",
    "        \n",
    "    # Filter files with '.svg' extension\n",
    "    svg_files = [file for file in files if file.endswith('.svg')]\n",
    "    \n",
    "    column_names = [\"strand\",\"family\",\"chrom\",\"position\"]\n",
    "    result_df = pd.DataFrame(columns=column_names)\n",
    "    \n",
    "    # Divide filenames by \"_\" and check if they start with \"strand*\"\n",
    "    relevant_files = []\n",
    "    for filename in svg_files:\n",
    "        filename = filename[filename.find('strand'):]\n",
    "        \n",
    "        parts = filename.split('_')\n",
    "        \n",
    "        \n",
    "        if parts[0] == \"strand1\":\n",
    "            parts[0] = \"-\"\n",
    "        else:\n",
    "            parts[0] = \"+\"\n",
    "        \n",
    "        parts[len(parts)-1] = parts[len(parts)-1].replace('.svg','')\n",
    "        row_df = pd.DataFrame([parts], columns=column_names)      \n",
    "        result_df = pd.concat([result_df,row_df], ignore_index=True)\n",
    "        relevant_files.append(filename)\n",
    "\n",
    "    \n",
    "    def extract_te_type(family):\n",
    "        if family.startswith('Alu'):\n",
    "            return 'Alu'\n",
    "        elif family.startswith('L1'):\n",
    "            return 'L1'\n",
    "        else:\n",
    "            return None\n",
    "    \n",
    "    result_df['class'] = result_df['family'].apply(extract_te_type)    \n",
    "\n",
    "    result_df = result_df.reindex(columns = [column_names[2],column_names[3],column_names[0],'class',column_names[1]])\n",
    "    \n",
    "    result_df = result_df[result_df['class'].str.upper().str.contains(te_type.upper())]\n",
    "\n",
    "    return result_df \n",
    "# # Specify the directory containing the files\n",
    "# directory = '../results/RetroSom/shortread/mosaic/mixedDataRetroSom/200x/v2/TITR_1/visual'\n",
    "\n",
    "# # Retrieve relevant SVG files\n",
    "# df = filter_svg_files(directory, \"l1\")\n",
    "\n",
    "# df\n",
    "\n",
    "\n",
    "def convertResultToBedFile(df, saveFileNameWithDir):\n",
    "    temp = df\n",
    "    temp['position'] = temp['position'].astype(int)\n",
    "    temp['position2'] = temp['position'] +1 \n",
    "    temp['name'] = '.'\n",
    "    temp['score'] = None\n",
    "\n",
    "    temp = temp\n",
    "    temp = temp[['chrom','position','position2','class','score','strand','family']]\n",
    "\n",
    "    temp.to_csv(saveFileNameWithDir, sep='\\t', index=False, header=False)\n",
    "    \n",
    "#    return temp\n",
    "\n",
    "def count_directories_with_string(directory, search_string):\n",
    "    count = 0\n",
    "    \n",
    "    if not checkFileExist(directory): return count\n",
    "    \n",
    "    for filename in os.listdir(directory):\n",
    "        if os.path.isdir(os.path.join(directory, filename)) and search_string in filename and \"NoModel\" not in filename:\n",
    "            count += 1\n",
    "    return count\n",
    "\n",
    "\n",
    "def loadVCF(file_path):\n",
    "    vcf = pysam.VariantFile(file_path)\n",
    "    print(file_path,countVCF(vcf))\n",
    "    return vcf\n",
    "\n",
    "def countVCF(vcf):\n",
    "    return sum(1 for _ in vcf)\n",
    "\n",
    "def filterVCF(vcf, filter_condition=None):\n",
    "    filtered_variants = []\n",
    "    for record in vcf.fetch():\n",
    "        if record.filter.keys() == [filter_condition]:\n",
    "            filtered_variants.append(record)\n",
    "    return filtered_variants\n",
    "\n",
    "def VCFtoBED(variants):\n",
    "    column_names = ['chrom','position','position2','class','score','strand','family']\n",
    "    bed_records = []\n",
    "    for variant in variants:\n",
    "        chrom = variant.chrom\n",
    "        start = variant.pos - 1  # BED format uses 0-based start\n",
    "        end = variant.pos + len(variant.ref) - 1\n",
    "        name =  variant.alts[0].replace(\"<INS:ME:\", \"\").replace(\">\", \"\").capitalize() if variant.alts else \".\"\n",
    "        if name == \"Line1\":\n",
    "            name = \"L1\"\n",
    "        \n",
    "        score = \"0\"  # BED score is optional, here we set it to 0\n",
    "        strand = \".\"  # Strand information is optional and not present in VCF, so set to '.'\n",
    "        bed_records.append([chrom, start, end, name, score, strand, \".\"])\n",
    "\n",
    "    return pd.DataFrame(bed_records, columns=column_names)\n",
    "\n",
    "def convertTEClassString(inputClass):\n",
    "    if inputClass == \"L1\":\n",
    "        return \"LINE1\"\n",
    "    else:\n",
    "        return inputClass.upper()\n",
    "\n",
    "def checkFileExist(fileNameWithPath):    \n",
    "    if os.path.exists(fileNameWithPath):\n",
    "        return True\n",
    "    else: \n",
    "        print(fileNameWithPath, \" is not existing\")\n",
    "        return False\n",
    "    \n",
    "    \n",
    "def getResultFunctionForTool(toolName,resultParentDirectory,caseSampleName,teClass):\n",
    "    if toolName.strip().lower() in [\"xtea-mosaic\", \"xtea\"] :\n",
    "        fileNameWithPath = os.path.join(resultParentDirectory,caseSampleName,teClass,caseSampleName+\"_\"+convertTEClassString(teClass)+\".vcf\")\n",
    "        if not checkFileExist(fileNameWithPath): return None\n",
    "        vcf = loadVCF(fileNameWithPath)\n",
    "        filtered_vcf = filterVCF(vcf,\"PASS\")\n",
    "        tempResultDF = VCFtoBED(filtered_vcf)\n",
    "    elif toolName.strip().lower() == \"melt\":\n",
    "        fileNameWithPath = os.path.join(resultParentDirectory,caseSampleName,convertTEClassString(teClass)+\".final_comp.vcf\")\n",
    "        if not checkFileExist(fileNameWithPath): return None\n",
    "        vcf = loadVCF(fileNameWithPath)\n",
    "        filtered_vcf = filterVCF(vcf,\"PASS\")\n",
    "        tempResultDF = VCFtoBED(filtered_vcf)\n",
    "    elif toolName.strip().lower() == \"retrosom\":\n",
    "        resultDirectory = caseSampleName + \"_NoModel\"\n",
    "        visualDirectory = \"visual\"\n",
    "        count = count_directories_with_string(resultParentDirectory,caseSampleName)\n",
    "        if count <= 1:\n",
    "            resultDirectory = os.path.join(resultParentDirectory, caseSampleName)\n",
    "        else:\n",
    "            resultDirectory = os.path.join(resultParentDirectory, resultDirectory)\n",
    "        \n",
    "        tempResultDF = LoadRetroSomResults(os.path.join(resultDirectory,visualDirectory) , teClass)\n",
    "    else:\n",
    "        print(toolName + \"is not available for the function\")\n",
    "        return None\n",
    "    \n",
    "    return tempResultDF\n",
    "\n",
    "def saveResultDFtoBedFileforTool(toolName, resultParentDirectory, resultFileName, resultDF):\n",
    "    if toolName.strip().lower() in [\"xtea-mosaic\", \"xtea\", \"melt\"] :\n",
    "        resultDF.to_csv(os.path.join(resultParentDirectory, resultFileName), sep='\\t', index=False, header=False)\n",
    "    elif toolName.strip().lower() == \"retrosom\":\n",
    "        convertResultToBedFile(resultDF, os.path.join(resultParentDirectory, resultFileName))\n",
    "\n",
    "    else: \n",
    "        print(toolName + \"is not available for the function\")\n",
    "        return None\n",
    "    \n",
    "def getUniqueWithWindowFromBeds (bed, other_beds, l=100, r=100):\n",
    "    unique = bed\n",
    "    for other_bed in other_beds:\n",
    "        unique = unique.window(b=other_bed, l=l, r=r, v=True)\n",
    "    unique = unique.sort()\n",
    "    \n",
    "    return unique\n",
    "\n",
    "def getUnionBed(beds):\n",
    "    union = beds[0]\n",
    "    #print(len(union))\n",
    "    for bed in beds[1:]:\n",
    "        union = union.cat(bed, postmerge=False)\n",
    "        #print(len(union))\n",
    "    union = union.sort().merge()\n",
    "    \n",
    "    return union\n",
    "\n",
    "def getIntersectBed(beds, l=100, r=100):\n",
    "    intersection = beds[0]\n",
    "    for bed in beds[1:]:\n",
    "        intersection = intersection.window(b=bed, l=l, r=r)\n",
    "    return intersection\n",
    "\n",
    "def getResultDF(toolName, teClass, depth, vaf, windowSize, resultBedDF, goldStandardDF, detailedBedFileOutputDir = \"results/resultComparisons\"):\n",
    "    resultColumns = ['toolName','teClass','depth', 'vaf', 'windowSize','totalEvents','TP','FP', 'FN','precision','recall']\n",
    "    resultdDF = pd.DataFrame(columns= resultColumns)\n",
    "\n",
    "\n",
    "    # Load Bed Files : This would be loop for all the results\n",
    "    caseBedFile = resultBedDF[(resultBedDF['toolName'] == toolName) &\n",
    "                        (resultBedDF['depth'] == depth) &\n",
    "                        (resultBedDF['class'] == teClass)]['filePath'].tolist()[0]\n",
    "    caseBed = BedTool(caseBedFile)\n",
    "\n",
    "    controlBedFile = goldStandardDF[(goldStandardDF['class'] == teClass) &\n",
    "                                (goldStandardDF['backBone'] == True)]['filePath'].tolist()[0]\n",
    "    controlBed = BedTool(controlBedFile)\n",
    "\n",
    "    answerBedFiles = goldStandardDF[(goldStandardDF['class'] == teClass) &\n",
    "                                (goldStandardDF['backBone'] == False)]['filePath'].tolist()\n",
    "    answerBeds = [BedTool(bed_file) for bed_file in answerBedFiles]\n",
    "\n",
    "\n",
    "    # False Positive\n",
    "    # (case) - (control) - Union (GoldStandard)\n",
    "    FP_bed = getUniqueWithWindowFromBeds(caseBed, [controlBed, getUnionBed(answerBeds)],windowSize,windowSize)\n",
    "    \n",
    "    # True Positive\n",
    "    # (1) Unique MEI\n",
    "    targetAnswerBedFiles = goldStandardDF[(goldStandardDF['class'] == teClass) & \n",
    "                                    (goldStandardDF['backBone'] == False) &\n",
    "                                    (goldStandardDF['mixedRatio'] == vaf)]['filePath'].tolist()\n",
    "\n",
    "    targetControlBedFiles = [item for item in answerBedFiles if item not in targetAnswerBedFiles]\n",
    "    targetControlBedFiles.append(controlBedFile)\n",
    "\n",
    "    if len(targetAnswerBedFiles) > 1 :\n",
    "        targetAnswerBed = getUnionBed([BedTool(bed_file) for bed_file in targetAnswerBedFiles])\n",
    "    else:\n",
    "        targetAnswerBed = BedTool(targetAnswerBedFiles[0])\n",
    "\n",
    "    targetControlBed = [BedTool(bed_file) for bed_file in targetControlBedFiles]\n",
    "    uniqueBed = getUniqueWithWindowFromBeds(targetAnswerBed,[getUnionBed(targetControlBed)], windowSize, windowSize)\n",
    "\n",
    "    # (2) Get True Positive\n",
    "    TP_bed = getIntersectBed([getUniqueWithWindowFromBeds(caseBed, [controlBed], windowSize, windowSize), uniqueBed],\n",
    "                            windowSize, windowSize)\n",
    "\n",
    "    # False Negative\n",
    "    FN_bed = getUniqueWithWindowFromBeds(caseBed, [TP_bed], windowSize, windowSize)\n",
    "    \n",
    "    \n",
    "    # Recalcuations (ingore the previous codes for FN and FP), 6/12\n",
    "    FP = len(caseBed) - len(TP_bed)\n",
    "    FN = len(uniqueBed) - len(TP_bed)\n",
    "    \n",
    "    ## Save Bed files\n",
    "    savefileName = toolName+\"-\"+teClass+\"-\"+depth+\"-\"+str(vaf)+\"-\"+str(windowSize)\n",
    "    os.makedirs(detailedBedFileOutputDir, exist_ok=True)\n",
    "    \n",
    "    if len(TP_bed) > 0 : TP_bed.saveas(os.path.join(detailedBedFileOutputDir,savefileName+\"-TP.bed\"))\n",
    "    \n",
    "    FP_bed = getUniqueWithWindowFromBeds(caseBed, [TP_bed], windowSize, windowSize)\n",
    "    if len(FP_bed) > 0 : FP_bed.saveas(os.path.join(detailedBedFileOutputDir,savefileName+\"-FP.bed\"))\n",
    "    \n",
    "    FN_bed = getUniqueWithWindowFromBeds(uniqueBed, [TP_bed], windowSize, windowSize)\n",
    "    if len(FN_bed) > 0 : FN_bed.saveas(os.path.join(detailedBedFileOutputDir,savefileName+\"-FN.bed\"))\n",
    "    \n",
    "    \n",
    "\n",
    "    # Precision and Recall\n",
    "    #precision = len(TP_bed) / (len(TP_bed) + len(FP_bed))\n",
    "    precision = len(TP_bed) / (len(TP_bed) + FP)\n",
    "    #recall = len(TP_bed) / (len(TP_bed) + len(FN_bed))\n",
    "    recall = len(TP_bed) / (len(TP_bed) + FN)\n",
    "    \n",
    "    # total results\n",
    "    #resultdDF.loc[len(resultdDF)] = [toolName, teClass, depth, vaf, windowSize, len(caseBed), len(TP_bed), len(FP_bed), len(FN_bed), precision, recall]\n",
    "    resultdDF.loc[len(resultdDF)] = [toolName, teClass, depth, vaf, windowSize, len(caseBed), len(TP_bed), FP, FN, precision, recall]\n",
    "    \n",
    "    # need to save each results\n",
    "    \n",
    "    return resultdDF\n",
    "    \n",
    "def checkRowCount(df, toolName, depth, TEclass):\n",
    "    return len(df[(df['toolName'] == toolName) & (df['depth'] == depth) & (df['class'] == TEclass)])\n",
    "\n",
    "def runCommand(command, outputFileWithPath = None):\n",
    "    \n",
    "    if isinstance(command, list):\n",
    "        command = ' '.join(command) \n",
    "    \n",
    "    try:\n",
    "        if (outputFileWithPath is not None):\n",
    "            with open(outputFileWithPath, 'w') as output_file:\n",
    "                logging.info(f\"Running command: {command}\")\n",
    "                subprocess.run(command, shell=True, check=True, stdout=output_file)\n",
    "                logging.info(f\"Successfully created: {outputFileWithPath}\")\n",
    "        else:\n",
    "            logging.info(f\"Running command: {command}\")\n",
    "            subprocess.run(command, shell=True, check=True)\n",
    "            logging.info(f\"Successfully executed: {outputFileWithPath}\")\n",
    "    except subprocess.CalledProcessError as e:\n",
    "        logging.error(f\"Error running command: {command}\")\n",
    "        logging.error(f\"Return code: {e.returncode}\")\n",
    "        logging.error(f\"Output: {e.output}\")\n",
    "    except Exception as e:\n",
    "        logging.error(f\"An unexpected error occurred: {e}\")\n",
    "    \n",
    "\n",
    "def runBedToolsSlop(bedFileWithPath, chromSizeFileWithPath, resultBedFileWithPath, windowSize):\n",
    "    command = (\n",
    "        f\"bedtools slop -i {bedFileWithPath} -g {chromSizeFileWithPath} -b {windowSize} \"\n",
    "        \"| sort -k1,1V -k1,1 -k2,2n\"\n",
    "    )\n",
    "    \n",
    "    try:\n",
    "        runCommand(command,resultBedFileWithPath)\n",
    "        return True\n",
    "    except Exception as e:\n",
    "        return False    \n",
    "\n",
    "\n",
    "def runInterveneVenn(bedFiles, title, outputDirectory, bedtools_options='f=0.5,r'): # ,r -l 1000 -r 1000'):\n",
    "    command = (\n",
    "        f\"intervene venn -i {bedFiles} --bedtools-options {bedtools_options} --filenames --title {title} \"\n",
    "        f\"--output {outputDirectory} --save-overlaps\"\n",
    "    )\n",
    "    \n",
    "    try:\n",
    "        runCommand(command)\n",
    "        return True\n",
    "    except Exception as e:\n",
    "        return False    \n",
    "    \n",
    "def runInterveneUpset(bedFiles, outputDirectory, bedtools_options='f=0.5,r'): # ,r -l 1000 -r 1000'):\n",
    "    \n",
    "    command = (\n",
    "        f\"intervene upset -i {bedFiles} --bedtools-options {bedtools_options} --filenames \"\n",
    "        f\"--output {outputDirectory} --save-overlaps --showzero --showsize --showshiny\"\n",
    "    ) \n",
    "    \n",
    "    try:\n",
    "        runCommand(command, \"shiny.fig.code\")\n",
    "        return True\n",
    "    except Exception as e:\n",
    "        return False    \n",
    "\n",
    "\n",
    "def removeRLibDir(removalLibPath = \"/home/jp394/R-3.5.1/library\"):\n",
    "    command = (\n",
    "        f\"Rscript -e '.libPaths(.libPaths()[.libPaths() != \\\"{removalLibPath}\\\"]); print(.libPaths())'\"\n",
    "    )\n",
    "    \n",
    "    try:\n",
    "        runCommand(command)\n",
    "        return True\n",
    "    except Exception as e:\n",
    "        return False        \n",
    "\n",
    "def generateComparisonFigures(resultBedDF,toolNames,depths,windows,outputDirectory,teClass,resultTitle,\n",
    "                              chromSizeFile = \"/n/data1/bch/genetics/lee/reference/hg38/hg38.chrom.sizes\",\n",
    "                              vennOutputDir=\"venn\",\n",
    "                              upsetOutputDir=\"upset\",\n",
    "                              prefix=\"E\",\n",
    "                              removalLibPath = None):\n",
    "    \n",
    "    ## WindowFileGeneration\n",
    "    selectedResults = resultBedDF[(resultBedDF['toolName'].isin(toolNames)) & ((resultBedDF['class'] == \"L1\")) & ((resultBedDF['depth'].isin(depths)))]\n",
    "\n",
    "    selectedResults['windowSize'] = windows\n",
    "    bedFiles=[]\n",
    "\n",
    "    if os.path.exists(outputDirectory):\n",
    "        \n",
    "        logging.info(f\"Directory exists: {outputDirectory}, removing it.\")\n",
    "        shutil.rmtree(outputDirectory, ignore_errors=True)\n",
    "\n",
    "    os.makedirs(outputDirectory, exist_ok=True)\n",
    "            \n",
    "\n",
    "    resultComparisonColumns = [\"toolName\", \"depth\", \"class\", \"windowSize\", \"extendedFileName\", \"extendedFileWithPath\"]\n",
    "    resultComparisonDF = pd.DataFrame(columns = resultComparisonColumns)\n",
    "\n",
    "    # 1. Generate extended bed files\n",
    "    for index, row in selectedResults.iterrows():\n",
    "        directory_path = os.path.dirname(row['filePath'])\n",
    "        resultFileName = row['toolName']+\"_\"+row['depth']+\"_\"+row['class']+\"_\"+prefix+str(row['windowSize'])+\".bed\"\n",
    "        \n",
    "        resultBedFileWithPath = os.path.join(outputDirectory, resultFileName)\n",
    "        \n",
    "        \n",
    "        runBedToolsSlop(row['filePath'], chromSizeFile, resultBedFileWithPath, windows)\n",
    "        resultComparisonDF.loc[len(resultComparisonDF)] = [toolName, depth, teClass, filePath, resultFileName, resultBedFileWithPath]\n",
    "\n",
    "    resultBedFileList = resultComparisonDF['extendedFileName'].tolist()\n",
    "    inputBedFiles = ' '.join(resultBedFileList)\n",
    "    currentDir = os.getcwd()\n",
    "    os.chdir(outputDirectory)\n",
    "\n",
    "    # 2. Generate Venn Diagram\n",
    "    if len(resultBedFileList) <= 6:    \n",
    "        runInterveneVenn(inputBedFiles, resultTitle, vennOutputDir, bedtools_options='f=0.5,r')\n",
    "    else:\n",
    "        logging.error(f\"Cannot create venn diagram because total number of bed files is {len(resultBedFileList)}\")\n",
    "\n",
    "    # 3. Generate Upset figure\n",
    "    #runCommand(\"Rscript -e 'system(\\\"defaults write org.R-project.R force.LANG en_US.UTF-8\\\")'\")\n",
    "    if removalLibPath is not None:\n",
    "        removeRLibDir(removalLibPath)\n",
    "\n",
    "    runInterveneUpset(inputBedFiles, upsetOutputDir, bedtools_options='f=0.5,r')\n",
    "\n",
    "    os.chdir(currentDir)\n"
   ]
  },
  {
   "cell_type": "markdown",
   "metadata": {},
   "source": [
    "# 1. Configuration for performance check"
   ]
  },
  {
   "cell_type": "code",
   "execution_count": 12,
   "metadata": {},
   "outputs": [],
   "source": [
    "sampleDepths = [\"50x\", \"100x\", \"200x\", \"200x_UW\", \"200x_UW_Corrine\", \"200x_UW_HK\", \n",
    "                \"200x_NYGC\", \"200x_NYGC_Corrine\", \"200x_NYGC_HK\",\n",
    "                \"300x\", \"400x\", \"400x_Corrine\", \"500x_WashU\"]\n",
    "teClasses = [\"Alu\", \"L1\"]\n",
    "backBoneCellLineName = \"HG005\"\n",
    "caseSampleName = \"HapMapMix\"\n",
    "\n",
    "toolAndResultDirectory = {\n",
    "    \"RetroSom\": \"/n/data1/bch/genetics/lee/projects/SMaHT/results/RetroSom/shortread/mosaic/HapMap/v2\",\n",
    "    \"RetroSom-v3\": \"/n/data1/bch/genetics/lee/projects/SMaHT/results/RetroSom/shortread/mosaic/HapMap/v3\",\n",
    "    \"xTea-mosaic\": \"/n/data1/bch/genetics/lee/projects/SMaHT/results/xTea/shortread/mosaic/HapMap\",\n",
    "    \"xTea\": \"/n/data1/bch/genetics/lee/projects/SMaHT/results/xTea/shortread/germline/HapMap\",\n",
    "    \"MELT\": \"/n/data1/bch/genetics/lee/projects/SMaHT/results/MELT/shortread/germline/HapMap\"\n",
    "}\n",
    "\n",
    "goldStandardDirectory = \"/n/data1/bch/genetics/lee/projects/SMaHT/gold_standards/HapMapMix\"\n",
    "goldStandardPrefix= \"tier1\"\n",
    "\n",
    "cellLinesAndMixtureRatio = {\n",
    "    \"HG00438\":0.5,\n",
    "    \"HG002\":2,\n",
    "    \"HG02257\":2,\n",
    "    \"HG02486\":2,\n",
    "    \"HG02622\":10,\n",
    "    \"HG005\": 83.5\n",
    "}\n",
    "\n",
    "\n",
    "resultExcelFileName = \"hapmapmix\"\n",
    "resultExcelPath=\"results/resultComparisons/HapMapMix\"\n",
    "\n",
    "current_date = datetime.now()\n",
    "formatted_date = current_date.strftime('%m%d%Y')\n",
    "bedFileResultSaveDirectory = \"results/resultComparisons/HapMapMix/\"+formatted_date+\"-resultBedFiles\""
   ]
  },
  {
   "cell_type": "markdown",
   "metadata": {},
   "source": [
    "# 2. Convert results to bed files under the depth"
   ]
  },
  {
   "cell_type": "code",
   "execution_count": 13,
   "metadata": {},
   "outputs": [
    {
     "data": {
      "application/vnd.jupyter.widget-view+json": {
       "model_id": "52c2ff4ee1df4a65bd2bb7092706591a",
       "version_major": 2,
       "version_minor": 0
      },
      "text/plain": [
       "Generating result files: 0it [00:00, ?it/s]"
      ]
     },
     "metadata": {},
     "output_type": "display_data"
    },
    {
     "name": "stdout",
     "output_type": "stream",
     "text": [
      "/n/data1/bch/genetics/lee/projects/SMaHT/results/RetroSom/shortread/mosaic/HapMap/v2/50x/Alu.bed is existing\n",
      "/n/data1/bch/genetics/lee/projects/SMaHT/results/RetroSom/shortread/mosaic/HapMap/v2/100x/Alu.bed is not exist. Generate the result.\n",
      "no rows from the result file, no save\n",
      "/n/data1/bch/genetics/lee/projects/SMaHT/results/RetroSom/shortread/mosaic/HapMap/v2/200x/Alu.bed is not exist. Generate the result.\n",
      "no rows from the result file, no save\n",
      "/n/data1/bch/genetics/lee/projects/SMaHT/results/RetroSom/shortread/mosaic/HapMap/v2/200x_UW/Alu.bed is not exist. Generate the result.\n",
      "no rows from the result file, no save\n",
      "/n/data1/bch/genetics/lee/projects/SMaHT/results/RetroSom/shortread/mosaic/HapMap/v2/200x_UW_Corrine  is not existing\n",
      "/n/data1/bch/genetics/lee/projects/SMaHT/results/RetroSom/shortread/mosaic/HapMap/v2/200x_NYGC/Alu.bed is not exist. Generate the result.\n",
      "no rows from the result file, no save\n",
      "/n/data1/bch/genetics/lee/projects/SMaHT/results/RetroSom/shortread/mosaic/HapMap/v2/200x_NYGC_Corrine  is not existing\n",
      "/n/data1/bch/genetics/lee/projects/SMaHT/results/RetroSom/shortread/mosaic/HapMap/v2/300x/Alu.bed is not exist. Generate the result.\n",
      "no rows from the result file, no save\n",
      "/n/data1/bch/genetics/lee/projects/SMaHT/results/RetroSom/shortread/mosaic/HapMap/v2/400x/Alu.bed is not exist. Generate the result.\n",
      "no rows from the result file, no save\n",
      "/n/data1/bch/genetics/lee/projects/SMaHT/results/RetroSom/shortread/mosaic/HapMap/v2/400x_Corrine  is not existing\n",
      "/n/data1/bch/genetics/lee/projects/SMaHT/results/RetroSom/shortread/mosaic/HapMap/v2/500x_WashU/Alu.bed is not exist. Generate the result.\n",
      "no rows from the result file, no save\n",
      "/n/data1/bch/genetics/lee/projects/SMaHT/results/RetroSom/shortread/mosaic/HapMap/v2/50x/L1.bed is existing\n",
      "/n/data1/bch/genetics/lee/projects/SMaHT/results/RetroSom/shortread/mosaic/HapMap/v2/100x/L1.bed is existing\n",
      "/n/data1/bch/genetics/lee/projects/SMaHT/results/RetroSom/shortread/mosaic/HapMap/v2/200x/L1.bed is existing\n",
      "/n/data1/bch/genetics/lee/projects/SMaHT/results/RetroSom/shortread/mosaic/HapMap/v2/200x_UW/L1.bed is existing\n",
      "/n/data1/bch/genetics/lee/projects/SMaHT/results/RetroSom/shortread/mosaic/HapMap/v2/200x_UW_Corrine  is not existing\n",
      "/n/data1/bch/genetics/lee/projects/SMaHT/results/RetroSom/shortread/mosaic/HapMap/v2/200x_NYGC/L1.bed is existing\n",
      "/n/data1/bch/genetics/lee/projects/SMaHT/results/RetroSom/shortread/mosaic/HapMap/v2/200x_NYGC_Corrine  is not existing\n",
      "/n/data1/bch/genetics/lee/projects/SMaHT/results/RetroSom/shortread/mosaic/HapMap/v2/300x/L1.bed is existing\n",
      "/n/data1/bch/genetics/lee/projects/SMaHT/results/RetroSom/shortread/mosaic/HapMap/v2/400x/L1.bed is existing\n",
      "/n/data1/bch/genetics/lee/projects/SMaHT/results/RetroSom/shortread/mosaic/HapMap/v2/400x_Corrine  is not existing\n",
      "/n/data1/bch/genetics/lee/projects/SMaHT/results/RetroSom/shortread/mosaic/HapMap/v2/500x_WashU/L1.bed is existing\n",
      "/n/data1/bch/genetics/lee/projects/SMaHT/results/RetroSom/shortread/mosaic/HapMap/v3/50x  is not existing\n",
      "/n/data1/bch/genetics/lee/projects/SMaHT/results/RetroSom/shortread/mosaic/HapMap/v3/100x  is not existing\n",
      "/n/data1/bch/genetics/lee/projects/SMaHT/results/RetroSom/shortread/mosaic/HapMap/v3/200x  is not existing\n",
      "/n/data1/bch/genetics/lee/projects/SMaHT/results/RetroSom/shortread/mosaic/HapMap/v3/200x_UW  is not existing\n",
      "/n/data1/bch/genetics/lee/projects/SMaHT/results/RetroSom/shortread/mosaic/HapMap/v3/200x_UW_Corrine  is not existing\n",
      "/n/data1/bch/genetics/lee/projects/SMaHT/results/RetroSom/shortread/mosaic/HapMap/v3/200x_NYGC  is not existing\n",
      "/n/data1/bch/genetics/lee/projects/SMaHT/results/RetroSom/shortread/mosaic/HapMap/v3/200x_NYGC_Corrine  is not existing\n",
      "/n/data1/bch/genetics/lee/projects/SMaHT/results/RetroSom/shortread/mosaic/HapMap/v3/300x  is not existing\n",
      "/n/data1/bch/genetics/lee/projects/SMaHT/results/RetroSom/shortread/mosaic/HapMap/v3/400x  is not existing\n",
      "/n/data1/bch/genetics/lee/projects/SMaHT/results/RetroSom/shortread/mosaic/HapMap/v3/400x_Corrine  is not existing\n",
      "/n/data1/bch/genetics/lee/projects/SMaHT/results/RetroSom/shortread/mosaic/HapMap/v3/500x_WashU  is not existing\n",
      "/n/data1/bch/genetics/lee/projects/SMaHT/results/RetroSom/shortread/mosaic/HapMap/v3/50x  is not existing\n",
      "/n/data1/bch/genetics/lee/projects/SMaHT/results/RetroSom/shortread/mosaic/HapMap/v3/100x  is not existing\n",
      "/n/data1/bch/genetics/lee/projects/SMaHT/results/RetroSom/shortread/mosaic/HapMap/v3/200x  is not existing\n",
      "/n/data1/bch/genetics/lee/projects/SMaHT/results/RetroSom/shortread/mosaic/HapMap/v3/200x_UW  is not existing\n",
      "/n/data1/bch/genetics/lee/projects/SMaHT/results/RetroSom/shortread/mosaic/HapMap/v3/200x_UW_Corrine  is not existing\n",
      "/n/data1/bch/genetics/lee/projects/SMaHT/results/RetroSom/shortread/mosaic/HapMap/v3/200x_NYGC  is not existing\n",
      "/n/data1/bch/genetics/lee/projects/SMaHT/results/RetroSom/shortread/mosaic/HapMap/v3/200x_NYGC_Corrine  is not existing\n",
      "/n/data1/bch/genetics/lee/projects/SMaHT/results/RetroSom/shortread/mosaic/HapMap/v3/300x  is not existing\n",
      "/n/data1/bch/genetics/lee/projects/SMaHT/results/RetroSom/shortread/mosaic/HapMap/v3/400x  is not existing\n",
      "/n/data1/bch/genetics/lee/projects/SMaHT/results/RetroSom/shortread/mosaic/HapMap/v3/400x_Corrine  is not existing\n",
      "/n/data1/bch/genetics/lee/projects/SMaHT/results/RetroSom/shortread/mosaic/HapMap/v3/500x_WashU  is not existing\n",
      "/n/data1/bch/genetics/lee/projects/SMaHT/results/xTea/shortread/mosaic/HapMap/50x/Alu.bed is existing\n",
      "/n/data1/bch/genetics/lee/projects/SMaHT/results/xTea/shortread/mosaic/HapMap/100x/Alu.bed is existing\n",
      "/n/data1/bch/genetics/lee/projects/SMaHT/results/xTea/shortread/mosaic/HapMap/200x/Alu.bed is existing\n",
      "/n/data1/bch/genetics/lee/projects/SMaHT/results/xTea/shortread/mosaic/HapMap/200x_UW/Alu.bed is existing\n",
      "/n/data1/bch/genetics/lee/projects/SMaHT/results/xTea/shortread/mosaic/HapMap/200x_UW_Corrine/Alu.bed is existing\n",
      "/n/data1/bch/genetics/lee/projects/SMaHT/results/xTea/shortread/mosaic/HapMap/200x_UW_HK  is not existing\n",
      "/n/data1/bch/genetics/lee/projects/SMaHT/results/xTea/shortread/mosaic/HapMap/200x_NYGC/Alu.bed is existing\n",
      "/n/data1/bch/genetics/lee/projects/SMaHT/results/xTea/shortread/mosaic/HapMap/200x_NYGC_Corrine/Alu.bed is existing\n",
      "/n/data1/bch/genetics/lee/projects/SMaHT/results/xTea/shortread/mosaic/HapMap/200x_NYGC_HK  is not existing\n",
      "/n/data1/bch/genetics/lee/projects/SMaHT/results/xTea/shortread/mosaic/HapMap/300x/Alu.bed is existing\n",
      "/n/data1/bch/genetics/lee/projects/SMaHT/results/xTea/shortread/mosaic/HapMap/400x/Alu.bed is existing\n",
      "/n/data1/bch/genetics/lee/projects/SMaHT/results/xTea/shortread/mosaic/HapMap/400x_Corrine/Alu.bed is existing\n",
      "/n/data1/bch/genetics/lee/projects/SMaHT/results/xTea/shortread/mosaic/HapMap/500x_WashU/Alu.bed is existing\n",
      "/n/data1/bch/genetics/lee/projects/SMaHT/results/xTea/shortread/mosaic/HapMap/50x/L1.bed is existing\n",
      "/n/data1/bch/genetics/lee/projects/SMaHT/results/xTea/shortread/mosaic/HapMap/100x/L1.bed is existing\n",
      "/n/data1/bch/genetics/lee/projects/SMaHT/results/xTea/shortread/mosaic/HapMap/200x/L1.bed is existing\n",
      "/n/data1/bch/genetics/lee/projects/SMaHT/results/xTea/shortread/mosaic/HapMap/200x_UW/L1.bed is existing\n",
      "/n/data1/bch/genetics/lee/projects/SMaHT/results/xTea/shortread/mosaic/HapMap/200x_UW_Corrine/L1.bed is not exist. Generate the result.\n",
      "/n/data1/bch/genetics/lee/projects/SMaHT/results/xTea/shortread/mosaic/HapMap/200x_UW_Corrine/HapMapMix/L1/HapMapMix_LINE1.vcf 0\n",
      "no rows from the result file, no save\n",
      "/n/data1/bch/genetics/lee/projects/SMaHT/results/xTea/shortread/mosaic/HapMap/200x_UW_HK  is not existing\n",
      "/n/data1/bch/genetics/lee/projects/SMaHT/results/xTea/shortread/mosaic/HapMap/200x_NYGC/L1.bed is existing\n",
      "/n/data1/bch/genetics/lee/projects/SMaHT/results/xTea/shortread/mosaic/HapMap/200x_NYGC_Corrine/L1.bed is existing\n",
      "/n/data1/bch/genetics/lee/projects/SMaHT/results/xTea/shortread/mosaic/HapMap/200x_NYGC_HK  is not existing\n",
      "/n/data1/bch/genetics/lee/projects/SMaHT/results/xTea/shortread/mosaic/HapMap/300x/L1.bed is existing\n",
      "/n/data1/bch/genetics/lee/projects/SMaHT/results/xTea/shortread/mosaic/HapMap/400x/L1.bed is existing\n",
      "/n/data1/bch/genetics/lee/projects/SMaHT/results/xTea/shortread/mosaic/HapMap/400x_Corrine/L1.bed is existing\n",
      "/n/data1/bch/genetics/lee/projects/SMaHT/results/xTea/shortread/mosaic/HapMap/500x_WashU/L1.bed is existing\n",
      "/n/data1/bch/genetics/lee/projects/SMaHT/results/xTea/shortread/germline/HapMap/50x/Alu.bed is existing\n",
      "/n/data1/bch/genetics/lee/projects/SMaHT/results/xTea/shortread/germline/HapMap/100x/Alu.bed is existing\n",
      "/n/data1/bch/genetics/lee/projects/SMaHT/results/xTea/shortread/germline/HapMap/200x/Alu.bed is existing\n",
      "/n/data1/bch/genetics/lee/projects/SMaHT/results/xTea/shortread/germline/HapMap/200x_UW/Alu.bed is existing\n",
      "/n/data1/bch/genetics/lee/projects/SMaHT/results/xTea/shortread/germline/HapMap/200x_UW_Corrine  is not existing\n",
      "/n/data1/bch/genetics/lee/projects/SMaHT/results/xTea/shortread/germline/HapMap/200x_UW_HK  is not existing\n",
      "/n/data1/bch/genetics/lee/projects/SMaHT/results/xTea/shortread/germline/HapMap/200x_NYGC/Alu.bed is existing\n",
      "/n/data1/bch/genetics/lee/projects/SMaHT/results/xTea/shortread/germline/HapMap/200x_NYGC_Corrine  is not existing\n",
      "/n/data1/bch/genetics/lee/projects/SMaHT/results/xTea/shortread/germline/HapMap/200x_NYGC_HK  is not existing\n",
      "/n/data1/bch/genetics/lee/projects/SMaHT/results/xTea/shortread/germline/HapMap/300x/Alu.bed is existing\n",
      "/n/data1/bch/genetics/lee/projects/SMaHT/results/xTea/shortread/germline/HapMap/400x/Alu.bed is existing\n",
      "/n/data1/bch/genetics/lee/projects/SMaHT/results/xTea/shortread/germline/HapMap/400x_Corrine  is not existing\n",
      "/n/data1/bch/genetics/lee/projects/SMaHT/results/xTea/shortread/germline/HapMap/500x_WashU/Alu.bed is existing\n",
      "/n/data1/bch/genetics/lee/projects/SMaHT/results/xTea/shortread/germline/HapMap/50x/L1.bed is existing\n",
      "/n/data1/bch/genetics/lee/projects/SMaHT/results/xTea/shortread/germline/HapMap/100x/L1.bed is existing\n",
      "/n/data1/bch/genetics/lee/projects/SMaHT/results/xTea/shortread/germline/HapMap/200x/L1.bed is existing\n",
      "/n/data1/bch/genetics/lee/projects/SMaHT/results/xTea/shortread/germline/HapMap/200x_UW/L1.bed is existing\n",
      "/n/data1/bch/genetics/lee/projects/SMaHT/results/xTea/shortread/germline/HapMap/200x_UW_Corrine  is not existing\n",
      "/n/data1/bch/genetics/lee/projects/SMaHT/results/xTea/shortread/germline/HapMap/200x_UW_HK  is not existing\n",
      "/n/data1/bch/genetics/lee/projects/SMaHT/results/xTea/shortread/germline/HapMap/200x_NYGC/L1.bed is existing\n",
      "/n/data1/bch/genetics/lee/projects/SMaHT/results/xTea/shortread/germline/HapMap/200x_NYGC_Corrine  is not existing\n",
      "/n/data1/bch/genetics/lee/projects/SMaHT/results/xTea/shortread/germline/HapMap/200x_NYGC_HK  is not existing\n",
      "/n/data1/bch/genetics/lee/projects/SMaHT/results/xTea/shortread/germline/HapMap/300x/L1.bed is existing\n",
      "/n/data1/bch/genetics/lee/projects/SMaHT/results/xTea/shortread/germline/HapMap/400x/L1.bed is existing\n",
      "/n/data1/bch/genetics/lee/projects/SMaHT/results/xTea/shortread/germline/HapMap/400x_Corrine  is not existing\n",
      "/n/data1/bch/genetics/lee/projects/SMaHT/results/xTea/shortread/germline/HapMap/500x_WashU/L1.bed is existing\n",
      "/n/data1/bch/genetics/lee/projects/SMaHT/results/MELT/shortread/germline/HapMap/50x/Alu.bed is existing\n",
      "/n/data1/bch/genetics/lee/projects/SMaHT/results/MELT/shortread/germline/HapMap/100x/Alu.bed is existing\n",
      "/n/data1/bch/genetics/lee/projects/SMaHT/results/MELT/shortread/germline/HapMap/200x/Alu.bed is not exist. Generate the result.\n",
      "/n/data1/bch/genetics/lee/projects/SMaHT/results/MELT/shortread/germline/HapMap/200x/HapMapMix/ALU.final_comp.vcf  is not existing\n",
      "/n/data1/bch/genetics/lee/projects/SMaHT/results/MELT/shortread/germline/HapMap/200x_UW/Alu.bed is existing\n",
      "/n/data1/bch/genetics/lee/projects/SMaHT/results/MELT/shortread/germline/HapMap/200x_UW_Corrine  is not existing\n",
      "/n/data1/bch/genetics/lee/projects/SMaHT/results/MELT/shortread/germline/HapMap/200x_UW_HK  is not existing\n",
      "/n/data1/bch/genetics/lee/projects/SMaHT/results/MELT/shortread/germline/HapMap/200x_NYGC/Alu.bed is existing\n",
      "/n/data1/bch/genetics/lee/projects/SMaHT/results/MELT/shortread/germline/HapMap/200x_NYGC_Corrine  is not existing\n",
      "/n/data1/bch/genetics/lee/projects/SMaHT/results/MELT/shortread/germline/HapMap/200x_NYGC_HK  is not existing\n",
      "/n/data1/bch/genetics/lee/projects/SMaHT/results/MELT/shortread/germline/HapMap/300x/Alu.bed is not exist. Generate the result.\n",
      "/n/data1/bch/genetics/lee/projects/SMaHT/results/MELT/shortread/germline/HapMap/300x/HapMapMix/ALU.final_comp.vcf  is not existing\n",
      "/n/data1/bch/genetics/lee/projects/SMaHT/results/MELT/shortread/germline/HapMap/400x/Alu.bed is not exist. Generate the result.\n",
      "/n/data1/bch/genetics/lee/projects/SMaHT/results/MELT/shortread/germline/HapMap/400x/HapMapMix/ALU.final_comp.vcf  is not existing\n",
      "/n/data1/bch/genetics/lee/projects/SMaHT/results/MELT/shortread/germline/HapMap/400x_Corrine  is not existing\n",
      "/n/data1/bch/genetics/lee/projects/SMaHT/results/MELT/shortread/germline/HapMap/500x_WashU/Alu.bed is not exist. Generate the result.\n",
      "/n/data1/bch/genetics/lee/projects/SMaHT/results/MELT/shortread/germline/HapMap/500x_WashU/HapMapMix/ALU.final_comp.vcf  is not existing\n",
      "/n/data1/bch/genetics/lee/projects/SMaHT/results/MELT/shortread/germline/HapMap/50x/L1.bed is existing\n",
      "/n/data1/bch/genetics/lee/projects/SMaHT/results/MELT/shortread/germline/HapMap/100x/L1.bed is existing\n",
      "/n/data1/bch/genetics/lee/projects/SMaHT/results/MELT/shortread/germline/HapMap/200x/L1.bed is not exist. Generate the result.\n",
      "/n/data1/bch/genetics/lee/projects/SMaHT/results/MELT/shortread/germline/HapMap/200x/HapMapMix/LINE1.final_comp.vcf  is not existing\n",
      "/n/data1/bch/genetics/lee/projects/SMaHT/results/MELT/shortread/germline/HapMap/200x_UW/L1.bed is existing\n",
      "/n/data1/bch/genetics/lee/projects/SMaHT/results/MELT/shortread/germline/HapMap/200x_UW_Corrine  is not existing\n",
      "/n/data1/bch/genetics/lee/projects/SMaHT/results/MELT/shortread/germline/HapMap/200x_UW_HK  is not existing\n",
      "/n/data1/bch/genetics/lee/projects/SMaHT/results/MELT/shortread/germline/HapMap/200x_NYGC/L1.bed is existing\n",
      "/n/data1/bch/genetics/lee/projects/SMaHT/results/MELT/shortread/germline/HapMap/200x_NYGC_Corrine  is not existing\n",
      "/n/data1/bch/genetics/lee/projects/SMaHT/results/MELT/shortread/germline/HapMap/200x_NYGC_HK  is not existing\n",
      "/n/data1/bch/genetics/lee/projects/SMaHT/results/MELT/shortread/germline/HapMap/300x/L1.bed is not exist. Generate the result.\n",
      "/n/data1/bch/genetics/lee/projects/SMaHT/results/MELT/shortread/germline/HapMap/300x/HapMapMix/LINE1.final_comp.vcf  is not existing\n",
      "/n/data1/bch/genetics/lee/projects/SMaHT/results/MELT/shortread/germline/HapMap/400x/L1.bed is not exist. Generate the result.\n",
      "/n/data1/bch/genetics/lee/projects/SMaHT/results/MELT/shortread/germline/HapMap/400x/HapMapMix/LINE1.final_comp.vcf  is not existing\n",
      "/n/data1/bch/genetics/lee/projects/SMaHT/results/MELT/shortread/germline/HapMap/400x_Corrine  is not existing\n",
      "/n/data1/bch/genetics/lee/projects/SMaHT/results/MELT/shortread/germline/HapMap/500x_WashU/L1.bed is not exist. Generate the result.\n",
      "/n/data1/bch/genetics/lee/projects/SMaHT/results/MELT/shortread/germline/HapMap/500x_WashU/HapMapMix/LINE1.final_comp.vcf  is not existing\n"
     ]
    }
   ],
   "source": [
    "resultFile_description = \"Generating result files\"\n",
    "\n",
    "resultFileCombinations = itertools.product(\n",
    "        toolAndResultDirectory.keys(),\n",
    "        teClasses,\n",
    "        sampleDepths)\n",
    "\n",
    "resultFile_progress_bar = tqdm(resultFileCombinations, desc=resultFile_description)\n",
    "\n",
    "for toolName, teClass, sampleDepth in resultFile_progress_bar:\n",
    "    \n",
    "    tempResultDF = []\n",
    "    resultFile_progress_bar.set_description(f\"{resultFile_description}-{toolName} {teClass} {sampleDepth}\")\n",
    "\n",
    "    \n",
    "    resultParentDirectory = os.path.join(toolAndResultDirectory[toolName],sampleDepth)\n",
    "    count = count_directories_with_string(resultParentDirectory,caseSampleName)\n",
    "    \n",
    "    if count == 0: continue\n",
    "    \n",
    "    resultFileName = teClass+\".bed\"\n",
    "    resultFileNameWithPath = os.path.join(resultParentDirectory, resultFileName)\n",
    "    if os.path.exists(resultFileNameWithPath):\n",
    "        print(resultFileNameWithPath + \" is existing\")\n",
    "        continue\n",
    "    else:\n",
    "        print(resultFileNameWithPath + \" is not exist. Generate the result.\")\n",
    "        #print(os.path.join(resultParentDirectory,caseSampleName,teClass,caseSampleName+\"_\"+convertTEClassString(teClass)+\".vcf\"))\n",
    "        tempResultDF = getResultFunctionForTool(toolName,resultParentDirectory,caseSampleName,teClass)\n",
    "    \n",
    "    if tempResultDF is None:\n",
    "        continue\n",
    "    elif len(tempResultDF) >= 1 :\n",
    "        print(\"result count: \" + str(len(tempResultDF)) )\n",
    "        saveResultDFtoBedFileforTool(toolName,resultParentDirectory, resultFileName, tempResultDF)\n",
    "        \n",
    "    else:\n",
    "        print(\"no rows from the result file, no save\")"
   ]
  },
  {
   "cell_type": "markdown",
   "metadata": {},
   "source": [
    "# 3. Load Files and calculate statistics of results"
   ]
  },
  {
   "cell_type": "code",
   "execution_count": 14,
   "metadata": {},
   "outputs": [
    {
     "name": "stdout",
     "output_type": "stream",
     "text": [
      "['HG00438', 0.5, 'Alu', '/n/data1/bch/genetics/lee/projects/SMaHT/gold_standards/HapMapMix/Alu/HG00438-tier1.bed', False, 1220]\n",
      "['HG00438', 0.5, 'L1', '/n/data1/bch/genetics/lee/projects/SMaHT/gold_standards/HapMapMix/L1/HG00438-tier1.bed', False, 267]\n",
      "['HG002', 2, 'Alu', '/n/data1/bch/genetics/lee/projects/SMaHT/gold_standards/HapMapMix/Alu/HG002-tier1.bed', False, 1188]\n",
      "['HG002', 2, 'L1', '/n/data1/bch/genetics/lee/projects/SMaHT/gold_standards/HapMapMix/L1/HG002-tier1.bed', False, 233]\n",
      "['HG02257', 2, 'Alu', '/n/data1/bch/genetics/lee/projects/SMaHT/gold_standards/HapMapMix/Alu/HG02257-tier1.bed', False, 1520]\n",
      "['HG02257', 2, 'L1', '/n/data1/bch/genetics/lee/projects/SMaHT/gold_standards/HapMapMix/L1/HG02257-tier1.bed', False, 286]\n",
      "['HG02486', 2, 'Alu', '/n/data1/bch/genetics/lee/projects/SMaHT/gold_standards/HapMapMix/Alu/HG02486-tier1.bed', False, 1458]\n",
      "['HG02486', 2, 'L1', '/n/data1/bch/genetics/lee/projects/SMaHT/gold_standards/HapMapMix/L1/HG02486-tier1.bed', False, 333]\n",
      "['HG02622', 10, 'Alu', '/n/data1/bch/genetics/lee/projects/SMaHT/gold_standards/HapMapMix/Alu/HG02622-tier1.bed', False, 1539]\n",
      "['HG02622', 10, 'L1', '/n/data1/bch/genetics/lee/projects/SMaHT/gold_standards/HapMapMix/L1/HG02622-tier1.bed', False, 320]\n",
      "['HG005', 83.5, 'Alu', '/n/data1/bch/genetics/lee/projects/SMaHT/gold_standards/HapMapMix/Alu/HG005-tier1.bed', True, 1196]\n",
      "['HG005', 83.5, 'L1', '/n/data1/bch/genetics/lee/projects/SMaHT/gold_standards/HapMapMix/L1/HG005-tier1.bed', True, 253]\n",
      "['RetroSom', '50x', 'Alu', '/n/data1/bch/genetics/lee/projects/SMaHT/results/RetroSom/shortread/mosaic/HapMap/v2/50x/Alu.bed', 263]\n",
      "['RetroSom', '50x', 'L1', '/n/data1/bch/genetics/lee/projects/SMaHT/results/RetroSom/shortread/mosaic/HapMap/v2/50x/L1.bed', 68]\n",
      "The file '/n/data1/bch/genetics/lee/projects/SMaHT/results/RetroSom/shortread/mosaic/HapMap/v2/100x/Alu.bed' does not exist. Continue to the next.\n",
      "['RetroSom', '100x', 'L1', '/n/data1/bch/genetics/lee/projects/SMaHT/results/RetroSom/shortread/mosaic/HapMap/v2/100x/L1.bed', 64]\n",
      "The file '/n/data1/bch/genetics/lee/projects/SMaHT/results/RetroSom/shortread/mosaic/HapMap/v2/200x/Alu.bed' does not exist. Continue to the next.\n",
      "['RetroSom', '200x', 'L1', '/n/data1/bch/genetics/lee/projects/SMaHT/results/RetroSom/shortread/mosaic/HapMap/v2/200x/L1.bed', 51]\n",
      "The file '/n/data1/bch/genetics/lee/projects/SMaHT/results/RetroSom/shortread/mosaic/HapMap/v2/200x_UW/Alu.bed' does not exist. Continue to the next.\n",
      "['RetroSom', '200x_UW', 'L1', '/n/data1/bch/genetics/lee/projects/SMaHT/results/RetroSom/shortread/mosaic/HapMap/v2/200x_UW/L1.bed', 60]\n",
      "The file '/n/data1/bch/genetics/lee/projects/SMaHT/results/RetroSom/shortread/mosaic/HapMap/v2/200x_UW_Corrine/Alu.bed' does not exist. Continue to the next.\n",
      "The file '/n/data1/bch/genetics/lee/projects/SMaHT/results/RetroSom/shortread/mosaic/HapMap/v2/200x_UW_Corrine/L1.bed' does not exist. Continue to the next.\n",
      "The file '/n/data1/bch/genetics/lee/projects/SMaHT/results/RetroSom/shortread/mosaic/HapMap/v2/200x_UW_HK/Alu.bed' does not exist. Continue to the next.\n",
      "['RetroSom', '200x_UW_HK', 'L1', '/n/data1/bch/genetics/lee/projects/SMaHT/results/RetroSom/shortread/mosaic/HapMap/v2/200x_UW_HK/L1.bed', 67]\n",
      "The file '/n/data1/bch/genetics/lee/projects/SMaHT/results/RetroSom/shortread/mosaic/HapMap/v2/200x_NYGC/Alu.bed' does not exist. Continue to the next.\n",
      "['RetroSom', '200x_NYGC', 'L1', '/n/data1/bch/genetics/lee/projects/SMaHT/results/RetroSom/shortread/mosaic/HapMap/v2/200x_NYGC/L1.bed', 117]\n",
      "The file '/n/data1/bch/genetics/lee/projects/SMaHT/results/RetroSom/shortread/mosaic/HapMap/v2/200x_NYGC_Corrine/Alu.bed' does not exist. Continue to the next.\n",
      "The file '/n/data1/bch/genetics/lee/projects/SMaHT/results/RetroSom/shortread/mosaic/HapMap/v2/200x_NYGC_Corrine/L1.bed' does not exist. Continue to the next.\n",
      "The file '/n/data1/bch/genetics/lee/projects/SMaHT/results/RetroSom/shortread/mosaic/HapMap/v2/200x_NYGC_HK/Alu.bed' does not exist. Continue to the next.\n",
      "['RetroSom', '200x_NYGC_HK', 'L1', '/n/data1/bch/genetics/lee/projects/SMaHT/results/RetroSom/shortread/mosaic/HapMap/v2/200x_NYGC_HK/L1.bed', 118]\n",
      "The file '/n/data1/bch/genetics/lee/projects/SMaHT/results/RetroSom/shortread/mosaic/HapMap/v2/300x/Alu.bed' does not exist. Continue to the next.\n",
      "['RetroSom', '300x', 'L1', '/n/data1/bch/genetics/lee/projects/SMaHT/results/RetroSom/shortread/mosaic/HapMap/v2/300x/L1.bed', 75]\n",
      "The file '/n/data1/bch/genetics/lee/projects/SMaHT/results/RetroSom/shortread/mosaic/HapMap/v2/400x/Alu.bed' does not exist. Continue to the next.\n",
      "['RetroSom', '400x', 'L1', '/n/data1/bch/genetics/lee/projects/SMaHT/results/RetroSom/shortread/mosaic/HapMap/v2/400x/L1.bed', 102]\n",
      "The file '/n/data1/bch/genetics/lee/projects/SMaHT/results/RetroSom/shortread/mosaic/HapMap/v2/400x_Corrine/Alu.bed' does not exist. Continue to the next.\n",
      "The file '/n/data1/bch/genetics/lee/projects/SMaHT/results/RetroSom/shortread/mosaic/HapMap/v2/400x_Corrine/L1.bed' does not exist. Continue to the next.\n",
      "The file '/n/data1/bch/genetics/lee/projects/SMaHT/results/RetroSom/shortread/mosaic/HapMap/v2/500x_WashU/Alu.bed' does not exist. Continue to the next.\n",
      "['RetroSom', '500x_WashU', 'L1', '/n/data1/bch/genetics/lee/projects/SMaHT/results/RetroSom/shortread/mosaic/HapMap/v2/500x_WashU/L1.bed', 88]\n",
      "The file '/n/data1/bch/genetics/lee/projects/SMaHT/results/RetroSom/shortread/mosaic/HapMap/v3/50x/Alu.bed' does not exist. Continue to the next.\n",
      "The file '/n/data1/bch/genetics/lee/projects/SMaHT/results/RetroSom/shortread/mosaic/HapMap/v3/50x/L1.bed' does not exist. Continue to the next.\n",
      "The file '/n/data1/bch/genetics/lee/projects/SMaHT/results/RetroSom/shortread/mosaic/HapMap/v3/100x/Alu.bed' does not exist. Continue to the next.\n",
      "The file '/n/data1/bch/genetics/lee/projects/SMaHT/results/RetroSom/shortread/mosaic/HapMap/v3/100x/L1.bed' does not exist. Continue to the next.\n",
      "The file '/n/data1/bch/genetics/lee/projects/SMaHT/results/RetroSom/shortread/mosaic/HapMap/v3/200x/Alu.bed' does not exist. Continue to the next.\n",
      "The file '/n/data1/bch/genetics/lee/projects/SMaHT/results/RetroSom/shortread/mosaic/HapMap/v3/200x/L1.bed' does not exist. Continue to the next.\n",
      "The file '/n/data1/bch/genetics/lee/projects/SMaHT/results/RetroSom/shortread/mosaic/HapMap/v3/200x_UW/Alu.bed' does not exist. Continue to the next.\n",
      "The file '/n/data1/bch/genetics/lee/projects/SMaHT/results/RetroSom/shortread/mosaic/HapMap/v3/200x_UW/L1.bed' does not exist. Continue to the next.\n",
      "The file '/n/data1/bch/genetics/lee/projects/SMaHT/results/RetroSom/shortread/mosaic/HapMap/v3/200x_UW_Corrine/Alu.bed' does not exist. Continue to the next.\n",
      "The file '/n/data1/bch/genetics/lee/projects/SMaHT/results/RetroSom/shortread/mosaic/HapMap/v3/200x_UW_Corrine/L1.bed' does not exist. Continue to the next.\n",
      "The file '/n/data1/bch/genetics/lee/projects/SMaHT/results/RetroSom/shortread/mosaic/HapMap/v3/200x_UW_HK/Alu.bed' does not exist. Continue to the next.\n",
      "['RetroSom-v3', '200x_UW_HK', 'L1', '/n/data1/bch/genetics/lee/projects/SMaHT/results/RetroSom/shortread/mosaic/HapMap/v3/200x_UW_HK/L1.bed', 148]\n",
      "The file '/n/data1/bch/genetics/lee/projects/SMaHT/results/RetroSom/shortread/mosaic/HapMap/v3/200x_NYGC/Alu.bed' does not exist. Continue to the next.\n",
      "The file '/n/data1/bch/genetics/lee/projects/SMaHT/results/RetroSom/shortread/mosaic/HapMap/v3/200x_NYGC/L1.bed' does not exist. Continue to the next.\n",
      "The file '/n/data1/bch/genetics/lee/projects/SMaHT/results/RetroSom/shortread/mosaic/HapMap/v3/200x_NYGC_Corrine/Alu.bed' does not exist. Continue to the next.\n",
      "The file '/n/data1/bch/genetics/lee/projects/SMaHT/results/RetroSom/shortread/mosaic/HapMap/v3/200x_NYGC_Corrine/L1.bed' does not exist. Continue to the next.\n",
      "The file '/n/data1/bch/genetics/lee/projects/SMaHT/results/RetroSom/shortread/mosaic/HapMap/v3/200x_NYGC_HK/Alu.bed' does not exist. Continue to the next.\n",
      "['RetroSom-v3', '200x_NYGC_HK', 'L1', '/n/data1/bch/genetics/lee/projects/SMaHT/results/RetroSom/shortread/mosaic/HapMap/v3/200x_NYGC_HK/L1.bed', 255]\n",
      "The file '/n/data1/bch/genetics/lee/projects/SMaHT/results/RetroSom/shortread/mosaic/HapMap/v3/300x/Alu.bed' does not exist. Continue to the next.\n",
      "The file '/n/data1/bch/genetics/lee/projects/SMaHT/results/RetroSom/shortread/mosaic/HapMap/v3/300x/L1.bed' does not exist. Continue to the next.\n",
      "The file '/n/data1/bch/genetics/lee/projects/SMaHT/results/RetroSom/shortread/mosaic/HapMap/v3/400x/Alu.bed' does not exist. Continue to the next.\n",
      "The file '/n/data1/bch/genetics/lee/projects/SMaHT/results/RetroSom/shortread/mosaic/HapMap/v3/400x/L1.bed' does not exist. Continue to the next.\n",
      "The file '/n/data1/bch/genetics/lee/projects/SMaHT/results/RetroSom/shortread/mosaic/HapMap/v3/400x_Corrine/Alu.bed' does not exist. Continue to the next.\n",
      "The file '/n/data1/bch/genetics/lee/projects/SMaHT/results/RetroSom/shortread/mosaic/HapMap/v3/400x_Corrine/L1.bed' does not exist. Continue to the next.\n",
      "The file '/n/data1/bch/genetics/lee/projects/SMaHT/results/RetroSom/shortread/mosaic/HapMap/v3/500x_WashU/Alu.bed' does not exist. Continue to the next.\n",
      "The file '/n/data1/bch/genetics/lee/projects/SMaHT/results/RetroSom/shortread/mosaic/HapMap/v3/500x_WashU/L1.bed' does not exist. Continue to the next.\n",
      "['xTea-mosaic', '50x', 'Alu', '/n/data1/bch/genetics/lee/projects/SMaHT/results/xTea/shortread/mosaic/HapMap/50x/Alu.bed', 1271]\n",
      "['xTea-mosaic', '50x', 'L1', '/n/data1/bch/genetics/lee/projects/SMaHT/results/xTea/shortread/mosaic/HapMap/50x/L1.bed', 201]\n",
      "['xTea-mosaic', '100x', 'Alu', '/n/data1/bch/genetics/lee/projects/SMaHT/results/xTea/shortread/mosaic/HapMap/100x/Alu.bed', 1364]\n",
      "['xTea-mosaic', '100x', 'L1', '/n/data1/bch/genetics/lee/projects/SMaHT/results/xTea/shortread/mosaic/HapMap/100x/L1.bed', 230]\n",
      "['xTea-mosaic', '200x', 'Alu', '/n/data1/bch/genetics/lee/projects/SMaHT/results/xTea/shortread/mosaic/HapMap/200x/Alu.bed', 1464]\n",
      "['xTea-mosaic', '200x', 'L1', '/n/data1/bch/genetics/lee/projects/SMaHT/results/xTea/shortread/mosaic/HapMap/200x/L1.bed', 245]\n",
      "['xTea-mosaic', '200x_UW', 'Alu', '/n/data1/bch/genetics/lee/projects/SMaHT/results/xTea/shortread/mosaic/HapMap/200x_UW/Alu.bed', 1588]\n",
      "['xTea-mosaic', '200x_UW', 'L1', '/n/data1/bch/genetics/lee/projects/SMaHT/results/xTea/shortread/mosaic/HapMap/200x_UW/L1.bed', 183]\n",
      "['xTea-mosaic', '200x_UW_Corrine', 'Alu', '/n/data1/bch/genetics/lee/projects/SMaHT/results/xTea/shortread/mosaic/HapMap/200x_UW_Corrine/Alu.bed', 1879]\n",
      "The file '/n/data1/bch/genetics/lee/projects/SMaHT/results/xTea/shortread/mosaic/HapMap/200x_UW_Corrine/L1.bed' does not exist. Continue to the next.\n",
      "The file '/n/data1/bch/genetics/lee/projects/SMaHT/results/xTea/shortread/mosaic/HapMap/200x_UW_HK/Alu.bed' does not exist. Continue to the next.\n",
      "The file '/n/data1/bch/genetics/lee/projects/SMaHT/results/xTea/shortread/mosaic/HapMap/200x_UW_HK/L1.bed' does not exist. Continue to the next.\n",
      "['xTea-mosaic', '200x_NYGC', 'Alu', '/n/data1/bch/genetics/lee/projects/SMaHT/results/xTea/shortread/mosaic/HapMap/200x_NYGC/Alu.bed', 1654]\n",
      "['xTea-mosaic', '200x_NYGC', 'L1', '/n/data1/bch/genetics/lee/projects/SMaHT/results/xTea/shortread/mosaic/HapMap/200x_NYGC/L1.bed', 282]\n",
      "['xTea-mosaic', '200x_NYGC_Corrine', 'Alu', '/n/data1/bch/genetics/lee/projects/SMaHT/results/xTea/shortread/mosaic/HapMap/200x_NYGC_Corrine/Alu.bed', 15]\n",
      "['xTea-mosaic', '200x_NYGC_Corrine', 'L1', '/n/data1/bch/genetics/lee/projects/SMaHT/results/xTea/shortread/mosaic/HapMap/200x_NYGC_Corrine/L1.bed', 1]\n",
      "The file '/n/data1/bch/genetics/lee/projects/SMaHT/results/xTea/shortread/mosaic/HapMap/200x_NYGC_HK/Alu.bed' does not exist. Continue to the next.\n",
      "The file '/n/data1/bch/genetics/lee/projects/SMaHT/results/xTea/shortread/mosaic/HapMap/200x_NYGC_HK/L1.bed' does not exist. Continue to the next.\n",
      "['xTea-mosaic', '300x', 'Alu', '/n/data1/bch/genetics/lee/projects/SMaHT/results/xTea/shortread/mosaic/HapMap/300x/Alu.bed', 1596]\n",
      "['xTea-mosaic', '300x', 'L1', '/n/data1/bch/genetics/lee/projects/SMaHT/results/xTea/shortread/mosaic/HapMap/300x/L1.bed', 293]\n",
      "['xTea-mosaic', '400x', 'Alu', '/n/data1/bch/genetics/lee/projects/SMaHT/results/xTea/shortread/mosaic/HapMap/400x/Alu.bed', 1674]\n",
      "['xTea-mosaic', '400x', 'L1', '/n/data1/bch/genetics/lee/projects/SMaHT/results/xTea/shortread/mosaic/HapMap/400x/L1.bed', 310]\n",
      "['xTea-mosaic', '400x_Corrine', 'Alu', '/n/data1/bch/genetics/lee/projects/SMaHT/results/xTea/shortread/mosaic/HapMap/400x_Corrine/Alu.bed', 20]\n",
      "['xTea-mosaic', '400x_Corrine', 'L1', '/n/data1/bch/genetics/lee/projects/SMaHT/results/xTea/shortread/mosaic/HapMap/400x_Corrine/L1.bed', 4]\n",
      "['xTea-mosaic', '500x_WashU', 'Alu', '/n/data1/bch/genetics/lee/projects/SMaHT/results/xTea/shortread/mosaic/HapMap/500x_WashU/Alu.bed', 1769]\n",
      "['xTea-mosaic', '500x_WashU', 'L1', '/n/data1/bch/genetics/lee/projects/SMaHT/results/xTea/shortread/mosaic/HapMap/500x_WashU/L1.bed', 335]\n",
      "['xTea', '50x', 'Alu', '/n/data1/bch/genetics/lee/projects/SMaHT/results/xTea/shortread/germline/HapMap/50x/Alu.bed', 1272]\n",
      "['xTea', '50x', 'L1', '/n/data1/bch/genetics/lee/projects/SMaHT/results/xTea/shortread/germline/HapMap/50x/L1.bed', 202]\n",
      "['xTea', '100x', 'Alu', '/n/data1/bch/genetics/lee/projects/SMaHT/results/xTea/shortread/germline/HapMap/100x/Alu.bed', 1364]\n",
      "['xTea', '100x', 'L1', '/n/data1/bch/genetics/lee/projects/SMaHT/results/xTea/shortread/germline/HapMap/100x/L1.bed', 229]\n",
      "['xTea', '200x', 'Alu', '/n/data1/bch/genetics/lee/projects/SMaHT/results/xTea/shortread/germline/HapMap/200x/Alu.bed', 1462]\n",
      "['xTea', '200x', 'L1', '/n/data1/bch/genetics/lee/projects/SMaHT/results/xTea/shortread/germline/HapMap/200x/L1.bed', 246]\n",
      "['xTea', '200x_UW', 'Alu', '/n/data1/bch/genetics/lee/projects/SMaHT/results/xTea/shortread/germline/HapMap/200x_UW/Alu.bed', 1584]\n",
      "['xTea', '200x_UW', 'L1', '/n/data1/bch/genetics/lee/projects/SMaHT/results/xTea/shortread/germline/HapMap/200x_UW/L1.bed', 183]\n",
      "The file '/n/data1/bch/genetics/lee/projects/SMaHT/results/xTea/shortread/germline/HapMap/200x_UW_Corrine/Alu.bed' does not exist. Continue to the next.\n",
      "The file '/n/data1/bch/genetics/lee/projects/SMaHT/results/xTea/shortread/germline/HapMap/200x_UW_Corrine/L1.bed' does not exist. Continue to the next.\n",
      "The file '/n/data1/bch/genetics/lee/projects/SMaHT/results/xTea/shortread/germline/HapMap/200x_UW_HK/Alu.bed' does not exist. Continue to the next.\n",
      "The file '/n/data1/bch/genetics/lee/projects/SMaHT/results/xTea/shortread/germline/HapMap/200x_UW_HK/L1.bed' does not exist. Continue to the next.\n",
      "['xTea', '200x_NYGC', 'Alu', '/n/data1/bch/genetics/lee/projects/SMaHT/results/xTea/shortread/germline/HapMap/200x_NYGC/Alu.bed', 1656]\n",
      "['xTea', '200x_NYGC', 'L1', '/n/data1/bch/genetics/lee/projects/SMaHT/results/xTea/shortread/germline/HapMap/200x_NYGC/L1.bed', 282]\n",
      "The file '/n/data1/bch/genetics/lee/projects/SMaHT/results/xTea/shortread/germline/HapMap/200x_NYGC_Corrine/Alu.bed' does not exist. Continue to the next.\n",
      "The file '/n/data1/bch/genetics/lee/projects/SMaHT/results/xTea/shortread/germline/HapMap/200x_NYGC_Corrine/L1.bed' does not exist. Continue to the next.\n",
      "The file '/n/data1/bch/genetics/lee/projects/SMaHT/results/xTea/shortread/germline/HapMap/200x_NYGC_HK/Alu.bed' does not exist. Continue to the next.\n",
      "The file '/n/data1/bch/genetics/lee/projects/SMaHT/results/xTea/shortread/germline/HapMap/200x_NYGC_HK/L1.bed' does not exist. Continue to the next.\n",
      "['xTea', '300x', 'Alu', '/n/data1/bch/genetics/lee/projects/SMaHT/results/xTea/shortread/germline/HapMap/300x/Alu.bed', 1596]\n",
      "['xTea', '300x', 'L1', '/n/data1/bch/genetics/lee/projects/SMaHT/results/xTea/shortread/germline/HapMap/300x/L1.bed', 293]\n",
      "['xTea', '400x', 'Alu', '/n/data1/bch/genetics/lee/projects/SMaHT/results/xTea/shortread/germline/HapMap/400x/Alu.bed', 1668]\n",
      "['xTea', '400x', 'L1', '/n/data1/bch/genetics/lee/projects/SMaHT/results/xTea/shortread/germline/HapMap/400x/L1.bed', 311]\n",
      "The file '/n/data1/bch/genetics/lee/projects/SMaHT/results/xTea/shortread/germline/HapMap/400x_Corrine/Alu.bed' does not exist. Continue to the next.\n",
      "The file '/n/data1/bch/genetics/lee/projects/SMaHT/results/xTea/shortread/germline/HapMap/400x_Corrine/L1.bed' does not exist. Continue to the next.\n",
      "['xTea', '500x_WashU', 'Alu', '/n/data1/bch/genetics/lee/projects/SMaHT/results/xTea/shortread/germline/HapMap/500x_WashU/Alu.bed', 1765]\n",
      "['xTea', '500x_WashU', 'L1', '/n/data1/bch/genetics/lee/projects/SMaHT/results/xTea/shortread/germline/HapMap/500x_WashU/L1.bed', 336]\n",
      "['MELT', '50x', 'Alu', '/n/data1/bch/genetics/lee/projects/SMaHT/results/MELT/shortread/germline/HapMap/50x/Alu.bed', 1086]\n",
      "['MELT', '50x', 'L1', '/n/data1/bch/genetics/lee/projects/SMaHT/results/MELT/shortread/germline/HapMap/50x/L1.bed', 147]\n",
      "['MELT', '100x', 'Alu', '/n/data1/bch/genetics/lee/projects/SMaHT/results/MELT/shortread/germline/HapMap/100x/Alu.bed', 1163]\n",
      "['MELT', '100x', 'L1', '/n/data1/bch/genetics/lee/projects/SMaHT/results/MELT/shortread/germline/HapMap/100x/L1.bed', 149]\n",
      "The file '/n/data1/bch/genetics/lee/projects/SMaHT/results/MELT/shortread/germline/HapMap/200x/Alu.bed' does not exist. Continue to the next.\n",
      "The file '/n/data1/bch/genetics/lee/projects/SMaHT/results/MELT/shortread/germline/HapMap/200x/L1.bed' does not exist. Continue to the next.\n",
      "['MELT', '200x_UW', 'Alu', '/n/data1/bch/genetics/lee/projects/SMaHT/results/MELT/shortread/germline/HapMap/200x_UW/Alu.bed', 136]\n",
      "['MELT', '200x_UW', 'L1', '/n/data1/bch/genetics/lee/projects/SMaHT/results/MELT/shortread/germline/HapMap/200x_UW/L1.bed', 16]\n",
      "The file '/n/data1/bch/genetics/lee/projects/SMaHT/results/MELT/shortread/germline/HapMap/200x_UW_Corrine/Alu.bed' does not exist. Continue to the next.\n",
      "The file '/n/data1/bch/genetics/lee/projects/SMaHT/results/MELT/shortread/germline/HapMap/200x_UW_Corrine/L1.bed' does not exist. Continue to the next.\n",
      "The file '/n/data1/bch/genetics/lee/projects/SMaHT/results/MELT/shortread/germline/HapMap/200x_UW_HK/Alu.bed' does not exist. Continue to the next.\n",
      "The file '/n/data1/bch/genetics/lee/projects/SMaHT/results/MELT/shortread/germline/HapMap/200x_UW_HK/L1.bed' does not exist. Continue to the next.\n",
      "['MELT', '200x_NYGC', 'Alu', '/n/data1/bch/genetics/lee/projects/SMaHT/results/MELT/shortread/germline/HapMap/200x_NYGC/Alu.bed', 805]\n",
      "['MELT', '200x_NYGC', 'L1', '/n/data1/bch/genetics/lee/projects/SMaHT/results/MELT/shortread/germline/HapMap/200x_NYGC/L1.bed', 95]\n",
      "The file '/n/data1/bch/genetics/lee/projects/SMaHT/results/MELT/shortread/germline/HapMap/200x_NYGC_Corrine/Alu.bed' does not exist. Continue to the next.\n",
      "The file '/n/data1/bch/genetics/lee/projects/SMaHT/results/MELT/shortread/germline/HapMap/200x_NYGC_Corrine/L1.bed' does not exist. Continue to the next.\n",
      "The file '/n/data1/bch/genetics/lee/projects/SMaHT/results/MELT/shortread/germline/HapMap/200x_NYGC_HK/Alu.bed' does not exist. Continue to the next.\n",
      "The file '/n/data1/bch/genetics/lee/projects/SMaHT/results/MELT/shortread/germline/HapMap/200x_NYGC_HK/L1.bed' does not exist. Continue to the next.\n",
      "The file '/n/data1/bch/genetics/lee/projects/SMaHT/results/MELT/shortread/germline/HapMap/300x/Alu.bed' does not exist. Continue to the next.\n",
      "The file '/n/data1/bch/genetics/lee/projects/SMaHT/results/MELT/shortread/germline/HapMap/300x/L1.bed' does not exist. Continue to the next.\n",
      "The file '/n/data1/bch/genetics/lee/projects/SMaHT/results/MELT/shortread/germline/HapMap/400x/Alu.bed' does not exist. Continue to the next.\n",
      "The file '/n/data1/bch/genetics/lee/projects/SMaHT/results/MELT/shortread/germline/HapMap/400x/L1.bed' does not exist. Continue to the next.\n",
      "The file '/n/data1/bch/genetics/lee/projects/SMaHT/results/MELT/shortread/germline/HapMap/400x_Corrine/Alu.bed' does not exist. Continue to the next.\n",
      "The file '/n/data1/bch/genetics/lee/projects/SMaHT/results/MELT/shortread/germline/HapMap/400x_Corrine/L1.bed' does not exist. Continue to the next.\n",
      "The file '/n/data1/bch/genetics/lee/projects/SMaHT/results/MELT/shortread/germline/HapMap/500x_WashU/Alu.bed' does not exist. Continue to the next.\n",
      "The file '/n/data1/bch/genetics/lee/projects/SMaHT/results/MELT/shortread/germline/HapMap/500x_WashU/L1.bed' does not exist. Continue to the next.\n"
     ]
    }
   ],
   "source": [
    "## Load Gold Standard Sets\n",
    "goldStandardColumns = ['cellLineName','mixedRatio','class', 'filePath', 'backBone', 'count']\n",
    "goldStandardDF = pd.DataFrame(columns= goldStandardColumns)\n",
    "\n",
    "for cellLine, teClass in itertools.product(cellLinesAndMixtureRatio.items(), teClasses):\n",
    "    # Extract cellLineName and mixtureRatio from the tuple\n",
    "    cellLineName, mixtureRatio = cellLine\n",
    "    filePath=os.path.join(goldStandardDirectory,teClass,cellLineName+\"-\"+goldStandardPrefix+\".bed\")\n",
    "    \n",
    "    if not os.path.exists(filePath):\n",
    "        print(f\"The file '{filePath}' does not exist. Stopping the script.\")\n",
    "        # Stop the script by exiting or raising an exception\n",
    "        exit\n",
    "    \n",
    "    backBone = False\n",
    "    if cellLineName == backBoneCellLineName:\n",
    "        backBone = True            \n",
    "            \n",
    "    print([cellLineName, mixtureRatio, teClass, filePath, backBone, len(BedTool(filePath))])\n",
    "    goldStandardDF.loc[len(goldStandardDF)] = [cellLineName, mixtureRatio, teClass, filePath, backBone, len(BedTool(filePath))]\n",
    "\n",
    "\n",
    "## Load Tool Files per each depth\n",
    "\n",
    "resultBedColumns = ['toolName','depth','class', 'filePath', 'count']\n",
    "resultBedDF = pd.DataFrame(columns= resultBedColumns)\n",
    "\n",
    "for toolInfo, depth, teClass in itertools.product(toolAndResultDirectory.items(), sampleDepths, teClasses):\n",
    "    toolName, resultDir = toolInfo\n",
    "            \n",
    "    filePath = os.path.join(resultDir,depth,teClass+\".bed\")\n",
    "    if not os.path.exists(filePath):\n",
    "        print(f\"The file '{filePath}' does not exist. Continue to the next.\")\n",
    "        # Stop the script by exiting or raising an exception\n",
    "        continue\n",
    "        \n",
    "    print([toolName, depth, teClass, filePath,len(BedTool(filePath))])\n",
    "    \n",
    "    resultBedDF.loc[len(resultBedDF)] = [toolName, depth, teClass, filePath, len(BedTool(filePath))]\n",
    "\n",
    "\n",
    "vafs = list(set(goldStandardDF[goldStandardDF['backBone'] == False]['mixedRatio'].tolist()))"
   ]
  },
  {
   "cell_type": "code",
   "execution_count": 15,
   "metadata": {},
   "outputs": [
    {
     "data": {
      "text/html": [
       "<div>\n",
       "<style scoped>\n",
       "    .dataframe tbody tr th:only-of-type {\n",
       "        vertical-align: middle;\n",
       "    }\n",
       "\n",
       "    .dataframe tbody tr th {\n",
       "        vertical-align: top;\n",
       "    }\n",
       "\n",
       "    .dataframe thead th {\n",
       "        text-align: right;\n",
       "    }\n",
       "</style>\n",
       "<table border=\"1\" class=\"dataframe\">\n",
       "  <thead>\n",
       "    <tr style=\"text-align: right;\">\n",
       "      <th></th>\n",
       "      <th>cellLineName</th>\n",
       "      <th>mixedRatio</th>\n",
       "      <th>class</th>\n",
       "      <th>filePath</th>\n",
       "      <th>backBone</th>\n",
       "      <th>count</th>\n",
       "    </tr>\n",
       "  </thead>\n",
       "  <tbody>\n",
       "    <tr>\n",
       "      <th>0</th>\n",
       "      <td>HG00438</td>\n",
       "      <td>0.5</td>\n",
       "      <td>Alu</td>\n",
       "      <td>/n/data1/bch/genetics/lee/projects/SMaHT/gold_...</td>\n",
       "      <td>False</td>\n",
       "      <td>1220</td>\n",
       "    </tr>\n",
       "    <tr>\n",
       "      <th>1</th>\n",
       "      <td>HG00438</td>\n",
       "      <td>0.5</td>\n",
       "      <td>L1</td>\n",
       "      <td>/n/data1/bch/genetics/lee/projects/SMaHT/gold_...</td>\n",
       "      <td>False</td>\n",
       "      <td>267</td>\n",
       "    </tr>\n",
       "    <tr>\n",
       "      <th>2</th>\n",
       "      <td>HG002</td>\n",
       "      <td>2.0</td>\n",
       "      <td>Alu</td>\n",
       "      <td>/n/data1/bch/genetics/lee/projects/SMaHT/gold_...</td>\n",
       "      <td>False</td>\n",
       "      <td>1188</td>\n",
       "    </tr>\n",
       "    <tr>\n",
       "      <th>3</th>\n",
       "      <td>HG002</td>\n",
       "      <td>2.0</td>\n",
       "      <td>L1</td>\n",
       "      <td>/n/data1/bch/genetics/lee/projects/SMaHT/gold_...</td>\n",
       "      <td>False</td>\n",
       "      <td>233</td>\n",
       "    </tr>\n",
       "    <tr>\n",
       "      <th>4</th>\n",
       "      <td>HG02257</td>\n",
       "      <td>2.0</td>\n",
       "      <td>Alu</td>\n",
       "      <td>/n/data1/bch/genetics/lee/projects/SMaHT/gold_...</td>\n",
       "      <td>False</td>\n",
       "      <td>1520</td>\n",
       "    </tr>\n",
       "    <tr>\n",
       "      <th>5</th>\n",
       "      <td>HG02257</td>\n",
       "      <td>2.0</td>\n",
       "      <td>L1</td>\n",
       "      <td>/n/data1/bch/genetics/lee/projects/SMaHT/gold_...</td>\n",
       "      <td>False</td>\n",
       "      <td>286</td>\n",
       "    </tr>\n",
       "    <tr>\n",
       "      <th>6</th>\n",
       "      <td>HG02486</td>\n",
       "      <td>2.0</td>\n",
       "      <td>Alu</td>\n",
       "      <td>/n/data1/bch/genetics/lee/projects/SMaHT/gold_...</td>\n",
       "      <td>False</td>\n",
       "      <td>1458</td>\n",
       "    </tr>\n",
       "    <tr>\n",
       "      <th>7</th>\n",
       "      <td>HG02486</td>\n",
       "      <td>2.0</td>\n",
       "      <td>L1</td>\n",
       "      <td>/n/data1/bch/genetics/lee/projects/SMaHT/gold_...</td>\n",
       "      <td>False</td>\n",
       "      <td>333</td>\n",
       "    </tr>\n",
       "    <tr>\n",
       "      <th>8</th>\n",
       "      <td>HG02622</td>\n",
       "      <td>10.0</td>\n",
       "      <td>Alu</td>\n",
       "      <td>/n/data1/bch/genetics/lee/projects/SMaHT/gold_...</td>\n",
       "      <td>False</td>\n",
       "      <td>1539</td>\n",
       "    </tr>\n",
       "    <tr>\n",
       "      <th>9</th>\n",
       "      <td>HG02622</td>\n",
       "      <td>10.0</td>\n",
       "      <td>L1</td>\n",
       "      <td>/n/data1/bch/genetics/lee/projects/SMaHT/gold_...</td>\n",
       "      <td>False</td>\n",
       "      <td>320</td>\n",
       "    </tr>\n",
       "    <tr>\n",
       "      <th>10</th>\n",
       "      <td>HG005</td>\n",
       "      <td>83.5</td>\n",
       "      <td>Alu</td>\n",
       "      <td>/n/data1/bch/genetics/lee/projects/SMaHT/gold_...</td>\n",
       "      <td>True</td>\n",
       "      <td>1196</td>\n",
       "    </tr>\n",
       "    <tr>\n",
       "      <th>11</th>\n",
       "      <td>HG005</td>\n",
       "      <td>83.5</td>\n",
       "      <td>L1</td>\n",
       "      <td>/n/data1/bch/genetics/lee/projects/SMaHT/gold_...</td>\n",
       "      <td>True</td>\n",
       "      <td>253</td>\n",
       "    </tr>\n",
       "  </tbody>\n",
       "</table>\n",
       "</div>"
      ],
      "text/plain": [
       "   cellLineName  mixedRatio class  \\\n",
       "0       HG00438         0.5   Alu   \n",
       "1       HG00438         0.5    L1   \n",
       "2         HG002         2.0   Alu   \n",
       "3         HG002         2.0    L1   \n",
       "4       HG02257         2.0   Alu   \n",
       "5       HG02257         2.0    L1   \n",
       "6       HG02486         2.0   Alu   \n",
       "7       HG02486         2.0    L1   \n",
       "8       HG02622        10.0   Alu   \n",
       "9       HG02622        10.0    L1   \n",
       "10        HG005        83.5   Alu   \n",
       "11        HG005        83.5    L1   \n",
       "\n",
       "                                             filePath  backBone  count  \n",
       "0   /n/data1/bch/genetics/lee/projects/SMaHT/gold_...     False   1220  \n",
       "1   /n/data1/bch/genetics/lee/projects/SMaHT/gold_...     False    267  \n",
       "2   /n/data1/bch/genetics/lee/projects/SMaHT/gold_...     False   1188  \n",
       "3   /n/data1/bch/genetics/lee/projects/SMaHT/gold_...     False    233  \n",
       "4   /n/data1/bch/genetics/lee/projects/SMaHT/gold_...     False   1520  \n",
       "5   /n/data1/bch/genetics/lee/projects/SMaHT/gold_...     False    286  \n",
       "6   /n/data1/bch/genetics/lee/projects/SMaHT/gold_...     False   1458  \n",
       "7   /n/data1/bch/genetics/lee/projects/SMaHT/gold_...     False    333  \n",
       "8   /n/data1/bch/genetics/lee/projects/SMaHT/gold_...     False   1539  \n",
       "9   /n/data1/bch/genetics/lee/projects/SMaHT/gold_...     False    320  \n",
       "10  /n/data1/bch/genetics/lee/projects/SMaHT/gold_...      True   1196  \n",
       "11  /n/data1/bch/genetics/lee/projects/SMaHT/gold_...      True    253  "
      ]
     },
     "execution_count": 15,
     "metadata": {},
     "output_type": "execute_result"
    }
   ],
   "source": [
    "goldStandardDF"
   ]
  },
  {
   "cell_type": "code",
   "execution_count": 16,
   "metadata": {},
   "outputs": [
    {
     "data": {
      "text/html": [
       "<div>\n",
       "<style scoped>\n",
       "    .dataframe tbody tr th:only-of-type {\n",
       "        vertical-align: middle;\n",
       "    }\n",
       "\n",
       "    .dataframe tbody tr th {\n",
       "        vertical-align: top;\n",
       "    }\n",
       "\n",
       "    .dataframe thead th {\n",
       "        text-align: right;\n",
       "    }\n",
       "</style>\n",
       "<table border=\"1\" class=\"dataframe\">\n",
       "  <thead>\n",
       "    <tr style=\"text-align: right;\">\n",
       "      <th></th>\n",
       "      <th>toolName</th>\n",
       "      <th>depth</th>\n",
       "      <th>class</th>\n",
       "      <th>filePath</th>\n",
       "      <th>count</th>\n",
       "    </tr>\n",
       "  </thead>\n",
       "  <tbody>\n",
       "    <tr>\n",
       "      <th>0</th>\n",
       "      <td>RetroSom</td>\n",
       "      <td>50x</td>\n",
       "      <td>Alu</td>\n",
       "      <td>/n/data1/bch/genetics/lee/projects/SMaHT/resul...</td>\n",
       "      <td>263</td>\n",
       "    </tr>\n",
       "    <tr>\n",
       "      <th>1</th>\n",
       "      <td>RetroSom</td>\n",
       "      <td>50x</td>\n",
       "      <td>L1</td>\n",
       "      <td>/n/data1/bch/genetics/lee/projects/SMaHT/resul...</td>\n",
       "      <td>68</td>\n",
       "    </tr>\n",
       "    <tr>\n",
       "      <th>2</th>\n",
       "      <td>RetroSom</td>\n",
       "      <td>100x</td>\n",
       "      <td>L1</td>\n",
       "      <td>/n/data1/bch/genetics/lee/projects/SMaHT/resul...</td>\n",
       "      <td>64</td>\n",
       "    </tr>\n",
       "    <tr>\n",
       "      <th>3</th>\n",
       "      <td>RetroSom</td>\n",
       "      <td>200x</td>\n",
       "      <td>L1</td>\n",
       "      <td>/n/data1/bch/genetics/lee/projects/SMaHT/resul...</td>\n",
       "      <td>51</td>\n",
       "    </tr>\n",
       "    <tr>\n",
       "      <th>4</th>\n",
       "      <td>RetroSom</td>\n",
       "      <td>200x_UW</td>\n",
       "      <td>L1</td>\n",
       "      <td>/n/data1/bch/genetics/lee/projects/SMaHT/resul...</td>\n",
       "      <td>60</td>\n",
       "    </tr>\n",
       "    <tr>\n",
       "      <th>5</th>\n",
       "      <td>RetroSom</td>\n",
       "      <td>200x_UW_HK</td>\n",
       "      <td>L1</td>\n",
       "      <td>/n/data1/bch/genetics/lee/projects/SMaHT/resul...</td>\n",
       "      <td>67</td>\n",
       "    </tr>\n",
       "    <tr>\n",
       "      <th>6</th>\n",
       "      <td>RetroSom</td>\n",
       "      <td>200x_NYGC</td>\n",
       "      <td>L1</td>\n",
       "      <td>/n/data1/bch/genetics/lee/projects/SMaHT/resul...</td>\n",
       "      <td>117</td>\n",
       "    </tr>\n",
       "    <tr>\n",
       "      <th>7</th>\n",
       "      <td>RetroSom</td>\n",
       "      <td>200x_NYGC_HK</td>\n",
       "      <td>L1</td>\n",
       "      <td>/n/data1/bch/genetics/lee/projects/SMaHT/resul...</td>\n",
       "      <td>118</td>\n",
       "    </tr>\n",
       "    <tr>\n",
       "      <th>8</th>\n",
       "      <td>RetroSom</td>\n",
       "      <td>300x</td>\n",
       "      <td>L1</td>\n",
       "      <td>/n/data1/bch/genetics/lee/projects/SMaHT/resul...</td>\n",
       "      <td>75</td>\n",
       "    </tr>\n",
       "    <tr>\n",
       "      <th>9</th>\n",
       "      <td>RetroSom</td>\n",
       "      <td>400x</td>\n",
       "      <td>L1</td>\n",
       "      <td>/n/data1/bch/genetics/lee/projects/SMaHT/resul...</td>\n",
       "      <td>102</td>\n",
       "    </tr>\n",
       "    <tr>\n",
       "      <th>10</th>\n",
       "      <td>RetroSom</td>\n",
       "      <td>500x_WashU</td>\n",
       "      <td>L1</td>\n",
       "      <td>/n/data1/bch/genetics/lee/projects/SMaHT/resul...</td>\n",
       "      <td>88</td>\n",
       "    </tr>\n",
       "    <tr>\n",
       "      <th>11</th>\n",
       "      <td>RetroSom-v3</td>\n",
       "      <td>200x_UW_HK</td>\n",
       "      <td>L1</td>\n",
       "      <td>/n/data1/bch/genetics/lee/projects/SMaHT/resul...</td>\n",
       "      <td>148</td>\n",
       "    </tr>\n",
       "    <tr>\n",
       "      <th>12</th>\n",
       "      <td>RetroSom-v3</td>\n",
       "      <td>200x_NYGC_HK</td>\n",
       "      <td>L1</td>\n",
       "      <td>/n/data1/bch/genetics/lee/projects/SMaHT/resul...</td>\n",
       "      <td>255</td>\n",
       "    </tr>\n",
       "    <tr>\n",
       "      <th>13</th>\n",
       "      <td>xTea-mosaic</td>\n",
       "      <td>50x</td>\n",
       "      <td>Alu</td>\n",
       "      <td>/n/data1/bch/genetics/lee/projects/SMaHT/resul...</td>\n",
       "      <td>1271</td>\n",
       "    </tr>\n",
       "    <tr>\n",
       "      <th>14</th>\n",
       "      <td>xTea-mosaic</td>\n",
       "      <td>50x</td>\n",
       "      <td>L1</td>\n",
       "      <td>/n/data1/bch/genetics/lee/projects/SMaHT/resul...</td>\n",
       "      <td>201</td>\n",
       "    </tr>\n",
       "    <tr>\n",
       "      <th>15</th>\n",
       "      <td>xTea-mosaic</td>\n",
       "      <td>100x</td>\n",
       "      <td>Alu</td>\n",
       "      <td>/n/data1/bch/genetics/lee/projects/SMaHT/resul...</td>\n",
       "      <td>1364</td>\n",
       "    </tr>\n",
       "    <tr>\n",
       "      <th>16</th>\n",
       "      <td>xTea-mosaic</td>\n",
       "      <td>100x</td>\n",
       "      <td>L1</td>\n",
       "      <td>/n/data1/bch/genetics/lee/projects/SMaHT/resul...</td>\n",
       "      <td>230</td>\n",
       "    </tr>\n",
       "    <tr>\n",
       "      <th>17</th>\n",
       "      <td>xTea-mosaic</td>\n",
       "      <td>200x</td>\n",
       "      <td>Alu</td>\n",
       "      <td>/n/data1/bch/genetics/lee/projects/SMaHT/resul...</td>\n",
       "      <td>1464</td>\n",
       "    </tr>\n",
       "    <tr>\n",
       "      <th>18</th>\n",
       "      <td>xTea-mosaic</td>\n",
       "      <td>200x</td>\n",
       "      <td>L1</td>\n",
       "      <td>/n/data1/bch/genetics/lee/projects/SMaHT/resul...</td>\n",
       "      <td>245</td>\n",
       "    </tr>\n",
       "    <tr>\n",
       "      <th>19</th>\n",
       "      <td>xTea-mosaic</td>\n",
       "      <td>200x_UW</td>\n",
       "      <td>Alu</td>\n",
       "      <td>/n/data1/bch/genetics/lee/projects/SMaHT/resul...</td>\n",
       "      <td>1588</td>\n",
       "    </tr>\n",
       "    <tr>\n",
       "      <th>20</th>\n",
       "      <td>xTea-mosaic</td>\n",
       "      <td>200x_UW</td>\n",
       "      <td>L1</td>\n",
       "      <td>/n/data1/bch/genetics/lee/projects/SMaHT/resul...</td>\n",
       "      <td>183</td>\n",
       "    </tr>\n",
       "    <tr>\n",
       "      <th>21</th>\n",
       "      <td>xTea-mosaic</td>\n",
       "      <td>200x_UW_Corrine</td>\n",
       "      <td>Alu</td>\n",
       "      <td>/n/data1/bch/genetics/lee/projects/SMaHT/resul...</td>\n",
       "      <td>1879</td>\n",
       "    </tr>\n",
       "    <tr>\n",
       "      <th>22</th>\n",
       "      <td>xTea-mosaic</td>\n",
       "      <td>200x_NYGC</td>\n",
       "      <td>Alu</td>\n",
       "      <td>/n/data1/bch/genetics/lee/projects/SMaHT/resul...</td>\n",
       "      <td>1654</td>\n",
       "    </tr>\n",
       "    <tr>\n",
       "      <th>23</th>\n",
       "      <td>xTea-mosaic</td>\n",
       "      <td>200x_NYGC</td>\n",
       "      <td>L1</td>\n",
       "      <td>/n/data1/bch/genetics/lee/projects/SMaHT/resul...</td>\n",
       "      <td>282</td>\n",
       "    </tr>\n",
       "    <tr>\n",
       "      <th>24</th>\n",
       "      <td>xTea-mosaic</td>\n",
       "      <td>200x_NYGC_Corrine</td>\n",
       "      <td>Alu</td>\n",
       "      <td>/n/data1/bch/genetics/lee/projects/SMaHT/resul...</td>\n",
       "      <td>15</td>\n",
       "    </tr>\n",
       "    <tr>\n",
       "      <th>25</th>\n",
       "      <td>xTea-mosaic</td>\n",
       "      <td>200x_NYGC_Corrine</td>\n",
       "      <td>L1</td>\n",
       "      <td>/n/data1/bch/genetics/lee/projects/SMaHT/resul...</td>\n",
       "      <td>1</td>\n",
       "    </tr>\n",
       "    <tr>\n",
       "      <th>26</th>\n",
       "      <td>xTea-mosaic</td>\n",
       "      <td>300x</td>\n",
       "      <td>Alu</td>\n",
       "      <td>/n/data1/bch/genetics/lee/projects/SMaHT/resul...</td>\n",
       "      <td>1596</td>\n",
       "    </tr>\n",
       "    <tr>\n",
       "      <th>27</th>\n",
       "      <td>xTea-mosaic</td>\n",
       "      <td>300x</td>\n",
       "      <td>L1</td>\n",
       "      <td>/n/data1/bch/genetics/lee/projects/SMaHT/resul...</td>\n",
       "      <td>293</td>\n",
       "    </tr>\n",
       "    <tr>\n",
       "      <th>28</th>\n",
       "      <td>xTea-mosaic</td>\n",
       "      <td>400x</td>\n",
       "      <td>Alu</td>\n",
       "      <td>/n/data1/bch/genetics/lee/projects/SMaHT/resul...</td>\n",
       "      <td>1674</td>\n",
       "    </tr>\n",
       "    <tr>\n",
       "      <th>29</th>\n",
       "      <td>xTea-mosaic</td>\n",
       "      <td>400x</td>\n",
       "      <td>L1</td>\n",
       "      <td>/n/data1/bch/genetics/lee/projects/SMaHT/resul...</td>\n",
       "      <td>310</td>\n",
       "    </tr>\n",
       "    <tr>\n",
       "      <th>30</th>\n",
       "      <td>xTea-mosaic</td>\n",
       "      <td>400x_Corrine</td>\n",
       "      <td>Alu</td>\n",
       "      <td>/n/data1/bch/genetics/lee/projects/SMaHT/resul...</td>\n",
       "      <td>20</td>\n",
       "    </tr>\n",
       "    <tr>\n",
       "      <th>31</th>\n",
       "      <td>xTea-mosaic</td>\n",
       "      <td>400x_Corrine</td>\n",
       "      <td>L1</td>\n",
       "      <td>/n/data1/bch/genetics/lee/projects/SMaHT/resul...</td>\n",
       "      <td>4</td>\n",
       "    </tr>\n",
       "    <tr>\n",
       "      <th>32</th>\n",
       "      <td>xTea-mosaic</td>\n",
       "      <td>500x_WashU</td>\n",
       "      <td>Alu</td>\n",
       "      <td>/n/data1/bch/genetics/lee/projects/SMaHT/resul...</td>\n",
       "      <td>1769</td>\n",
       "    </tr>\n",
       "    <tr>\n",
       "      <th>33</th>\n",
       "      <td>xTea-mosaic</td>\n",
       "      <td>500x_WashU</td>\n",
       "      <td>L1</td>\n",
       "      <td>/n/data1/bch/genetics/lee/projects/SMaHT/resul...</td>\n",
       "      <td>335</td>\n",
       "    </tr>\n",
       "    <tr>\n",
       "      <th>34</th>\n",
       "      <td>xTea</td>\n",
       "      <td>50x</td>\n",
       "      <td>Alu</td>\n",
       "      <td>/n/data1/bch/genetics/lee/projects/SMaHT/resul...</td>\n",
       "      <td>1272</td>\n",
       "    </tr>\n",
       "    <tr>\n",
       "      <th>35</th>\n",
       "      <td>xTea</td>\n",
       "      <td>50x</td>\n",
       "      <td>L1</td>\n",
       "      <td>/n/data1/bch/genetics/lee/projects/SMaHT/resul...</td>\n",
       "      <td>202</td>\n",
       "    </tr>\n",
       "    <tr>\n",
       "      <th>36</th>\n",
       "      <td>xTea</td>\n",
       "      <td>100x</td>\n",
       "      <td>Alu</td>\n",
       "      <td>/n/data1/bch/genetics/lee/projects/SMaHT/resul...</td>\n",
       "      <td>1364</td>\n",
       "    </tr>\n",
       "    <tr>\n",
       "      <th>37</th>\n",
       "      <td>xTea</td>\n",
       "      <td>100x</td>\n",
       "      <td>L1</td>\n",
       "      <td>/n/data1/bch/genetics/lee/projects/SMaHT/resul...</td>\n",
       "      <td>229</td>\n",
       "    </tr>\n",
       "    <tr>\n",
       "      <th>38</th>\n",
       "      <td>xTea</td>\n",
       "      <td>200x</td>\n",
       "      <td>Alu</td>\n",
       "      <td>/n/data1/bch/genetics/lee/projects/SMaHT/resul...</td>\n",
       "      <td>1462</td>\n",
       "    </tr>\n",
       "    <tr>\n",
       "      <th>39</th>\n",
       "      <td>xTea</td>\n",
       "      <td>200x</td>\n",
       "      <td>L1</td>\n",
       "      <td>/n/data1/bch/genetics/lee/projects/SMaHT/resul...</td>\n",
       "      <td>246</td>\n",
       "    </tr>\n",
       "    <tr>\n",
       "      <th>40</th>\n",
       "      <td>xTea</td>\n",
       "      <td>200x_UW</td>\n",
       "      <td>Alu</td>\n",
       "      <td>/n/data1/bch/genetics/lee/projects/SMaHT/resul...</td>\n",
       "      <td>1584</td>\n",
       "    </tr>\n",
       "    <tr>\n",
       "      <th>41</th>\n",
       "      <td>xTea</td>\n",
       "      <td>200x_UW</td>\n",
       "      <td>L1</td>\n",
       "      <td>/n/data1/bch/genetics/lee/projects/SMaHT/resul...</td>\n",
       "      <td>183</td>\n",
       "    </tr>\n",
       "    <tr>\n",
       "      <th>42</th>\n",
       "      <td>xTea</td>\n",
       "      <td>200x_NYGC</td>\n",
       "      <td>Alu</td>\n",
       "      <td>/n/data1/bch/genetics/lee/projects/SMaHT/resul...</td>\n",
       "      <td>1656</td>\n",
       "    </tr>\n",
       "    <tr>\n",
       "      <th>43</th>\n",
       "      <td>xTea</td>\n",
       "      <td>200x_NYGC</td>\n",
       "      <td>L1</td>\n",
       "      <td>/n/data1/bch/genetics/lee/projects/SMaHT/resul...</td>\n",
       "      <td>282</td>\n",
       "    </tr>\n",
       "    <tr>\n",
       "      <th>44</th>\n",
       "      <td>xTea</td>\n",
       "      <td>300x</td>\n",
       "      <td>Alu</td>\n",
       "      <td>/n/data1/bch/genetics/lee/projects/SMaHT/resul...</td>\n",
       "      <td>1596</td>\n",
       "    </tr>\n",
       "    <tr>\n",
       "      <th>45</th>\n",
       "      <td>xTea</td>\n",
       "      <td>300x</td>\n",
       "      <td>L1</td>\n",
       "      <td>/n/data1/bch/genetics/lee/projects/SMaHT/resul...</td>\n",
       "      <td>293</td>\n",
       "    </tr>\n",
       "    <tr>\n",
       "      <th>46</th>\n",
       "      <td>xTea</td>\n",
       "      <td>400x</td>\n",
       "      <td>Alu</td>\n",
       "      <td>/n/data1/bch/genetics/lee/projects/SMaHT/resul...</td>\n",
       "      <td>1668</td>\n",
       "    </tr>\n",
       "    <tr>\n",
       "      <th>47</th>\n",
       "      <td>xTea</td>\n",
       "      <td>400x</td>\n",
       "      <td>L1</td>\n",
       "      <td>/n/data1/bch/genetics/lee/projects/SMaHT/resul...</td>\n",
       "      <td>311</td>\n",
       "    </tr>\n",
       "    <tr>\n",
       "      <th>48</th>\n",
       "      <td>xTea</td>\n",
       "      <td>500x_WashU</td>\n",
       "      <td>Alu</td>\n",
       "      <td>/n/data1/bch/genetics/lee/projects/SMaHT/resul...</td>\n",
       "      <td>1765</td>\n",
       "    </tr>\n",
       "    <tr>\n",
       "      <th>49</th>\n",
       "      <td>xTea</td>\n",
       "      <td>500x_WashU</td>\n",
       "      <td>L1</td>\n",
       "      <td>/n/data1/bch/genetics/lee/projects/SMaHT/resul...</td>\n",
       "      <td>336</td>\n",
       "    </tr>\n",
       "    <tr>\n",
       "      <th>50</th>\n",
       "      <td>MELT</td>\n",
       "      <td>50x</td>\n",
       "      <td>Alu</td>\n",
       "      <td>/n/data1/bch/genetics/lee/projects/SMaHT/resul...</td>\n",
       "      <td>1086</td>\n",
       "    </tr>\n",
       "    <tr>\n",
       "      <th>51</th>\n",
       "      <td>MELT</td>\n",
       "      <td>50x</td>\n",
       "      <td>L1</td>\n",
       "      <td>/n/data1/bch/genetics/lee/projects/SMaHT/resul...</td>\n",
       "      <td>147</td>\n",
       "    </tr>\n",
       "    <tr>\n",
       "      <th>52</th>\n",
       "      <td>MELT</td>\n",
       "      <td>100x</td>\n",
       "      <td>Alu</td>\n",
       "      <td>/n/data1/bch/genetics/lee/projects/SMaHT/resul...</td>\n",
       "      <td>1163</td>\n",
       "    </tr>\n",
       "    <tr>\n",
       "      <th>53</th>\n",
       "      <td>MELT</td>\n",
       "      <td>100x</td>\n",
       "      <td>L1</td>\n",
       "      <td>/n/data1/bch/genetics/lee/projects/SMaHT/resul...</td>\n",
       "      <td>149</td>\n",
       "    </tr>\n",
       "    <tr>\n",
       "      <th>54</th>\n",
       "      <td>MELT</td>\n",
       "      <td>200x_UW</td>\n",
       "      <td>Alu</td>\n",
       "      <td>/n/data1/bch/genetics/lee/projects/SMaHT/resul...</td>\n",
       "      <td>136</td>\n",
       "    </tr>\n",
       "    <tr>\n",
       "      <th>55</th>\n",
       "      <td>MELT</td>\n",
       "      <td>200x_UW</td>\n",
       "      <td>L1</td>\n",
       "      <td>/n/data1/bch/genetics/lee/projects/SMaHT/resul...</td>\n",
       "      <td>16</td>\n",
       "    </tr>\n",
       "    <tr>\n",
       "      <th>56</th>\n",
       "      <td>MELT</td>\n",
       "      <td>200x_NYGC</td>\n",
       "      <td>Alu</td>\n",
       "      <td>/n/data1/bch/genetics/lee/projects/SMaHT/resul...</td>\n",
       "      <td>805</td>\n",
       "    </tr>\n",
       "    <tr>\n",
       "      <th>57</th>\n",
       "      <td>MELT</td>\n",
       "      <td>200x_NYGC</td>\n",
       "      <td>L1</td>\n",
       "      <td>/n/data1/bch/genetics/lee/projects/SMaHT/resul...</td>\n",
       "      <td>95</td>\n",
       "    </tr>\n",
       "  </tbody>\n",
       "</table>\n",
       "</div>"
      ],
      "text/plain": [
       "       toolName              depth class  \\\n",
       "0      RetroSom                50x   Alu   \n",
       "1      RetroSom                50x    L1   \n",
       "2      RetroSom               100x    L1   \n",
       "3      RetroSom               200x    L1   \n",
       "4      RetroSom            200x_UW    L1   \n",
       "5      RetroSom         200x_UW_HK    L1   \n",
       "6      RetroSom          200x_NYGC    L1   \n",
       "7      RetroSom       200x_NYGC_HK    L1   \n",
       "8      RetroSom               300x    L1   \n",
       "9      RetroSom               400x    L1   \n",
       "10     RetroSom         500x_WashU    L1   \n",
       "11  RetroSom-v3         200x_UW_HK    L1   \n",
       "12  RetroSom-v3       200x_NYGC_HK    L1   \n",
       "13  xTea-mosaic                50x   Alu   \n",
       "14  xTea-mosaic                50x    L1   \n",
       "15  xTea-mosaic               100x   Alu   \n",
       "16  xTea-mosaic               100x    L1   \n",
       "17  xTea-mosaic               200x   Alu   \n",
       "18  xTea-mosaic               200x    L1   \n",
       "19  xTea-mosaic            200x_UW   Alu   \n",
       "20  xTea-mosaic            200x_UW    L1   \n",
       "21  xTea-mosaic    200x_UW_Corrine   Alu   \n",
       "22  xTea-mosaic          200x_NYGC   Alu   \n",
       "23  xTea-mosaic          200x_NYGC    L1   \n",
       "24  xTea-mosaic  200x_NYGC_Corrine   Alu   \n",
       "25  xTea-mosaic  200x_NYGC_Corrine    L1   \n",
       "26  xTea-mosaic               300x   Alu   \n",
       "27  xTea-mosaic               300x    L1   \n",
       "28  xTea-mosaic               400x   Alu   \n",
       "29  xTea-mosaic               400x    L1   \n",
       "30  xTea-mosaic       400x_Corrine   Alu   \n",
       "31  xTea-mosaic       400x_Corrine    L1   \n",
       "32  xTea-mosaic         500x_WashU   Alu   \n",
       "33  xTea-mosaic         500x_WashU    L1   \n",
       "34         xTea                50x   Alu   \n",
       "35         xTea                50x    L1   \n",
       "36         xTea               100x   Alu   \n",
       "37         xTea               100x    L1   \n",
       "38         xTea               200x   Alu   \n",
       "39         xTea               200x    L1   \n",
       "40         xTea            200x_UW   Alu   \n",
       "41         xTea            200x_UW    L1   \n",
       "42         xTea          200x_NYGC   Alu   \n",
       "43         xTea          200x_NYGC    L1   \n",
       "44         xTea               300x   Alu   \n",
       "45         xTea               300x    L1   \n",
       "46         xTea               400x   Alu   \n",
       "47         xTea               400x    L1   \n",
       "48         xTea         500x_WashU   Alu   \n",
       "49         xTea         500x_WashU    L1   \n",
       "50         MELT                50x   Alu   \n",
       "51         MELT                50x    L1   \n",
       "52         MELT               100x   Alu   \n",
       "53         MELT               100x    L1   \n",
       "54         MELT            200x_UW   Alu   \n",
       "55         MELT            200x_UW    L1   \n",
       "56         MELT          200x_NYGC   Alu   \n",
       "57         MELT          200x_NYGC    L1   \n",
       "\n",
       "                                             filePath  count  \n",
       "0   /n/data1/bch/genetics/lee/projects/SMaHT/resul...    263  \n",
       "1   /n/data1/bch/genetics/lee/projects/SMaHT/resul...     68  \n",
       "2   /n/data1/bch/genetics/lee/projects/SMaHT/resul...     64  \n",
       "3   /n/data1/bch/genetics/lee/projects/SMaHT/resul...     51  \n",
       "4   /n/data1/bch/genetics/lee/projects/SMaHT/resul...     60  \n",
       "5   /n/data1/bch/genetics/lee/projects/SMaHT/resul...     67  \n",
       "6   /n/data1/bch/genetics/lee/projects/SMaHT/resul...    117  \n",
       "7   /n/data1/bch/genetics/lee/projects/SMaHT/resul...    118  \n",
       "8   /n/data1/bch/genetics/lee/projects/SMaHT/resul...     75  \n",
       "9   /n/data1/bch/genetics/lee/projects/SMaHT/resul...    102  \n",
       "10  /n/data1/bch/genetics/lee/projects/SMaHT/resul...     88  \n",
       "11  /n/data1/bch/genetics/lee/projects/SMaHT/resul...    148  \n",
       "12  /n/data1/bch/genetics/lee/projects/SMaHT/resul...    255  \n",
       "13  /n/data1/bch/genetics/lee/projects/SMaHT/resul...   1271  \n",
       "14  /n/data1/bch/genetics/lee/projects/SMaHT/resul...    201  \n",
       "15  /n/data1/bch/genetics/lee/projects/SMaHT/resul...   1364  \n",
       "16  /n/data1/bch/genetics/lee/projects/SMaHT/resul...    230  \n",
       "17  /n/data1/bch/genetics/lee/projects/SMaHT/resul...   1464  \n",
       "18  /n/data1/bch/genetics/lee/projects/SMaHT/resul...    245  \n",
       "19  /n/data1/bch/genetics/lee/projects/SMaHT/resul...   1588  \n",
       "20  /n/data1/bch/genetics/lee/projects/SMaHT/resul...    183  \n",
       "21  /n/data1/bch/genetics/lee/projects/SMaHT/resul...   1879  \n",
       "22  /n/data1/bch/genetics/lee/projects/SMaHT/resul...   1654  \n",
       "23  /n/data1/bch/genetics/lee/projects/SMaHT/resul...    282  \n",
       "24  /n/data1/bch/genetics/lee/projects/SMaHT/resul...     15  \n",
       "25  /n/data1/bch/genetics/lee/projects/SMaHT/resul...      1  \n",
       "26  /n/data1/bch/genetics/lee/projects/SMaHT/resul...   1596  \n",
       "27  /n/data1/bch/genetics/lee/projects/SMaHT/resul...    293  \n",
       "28  /n/data1/bch/genetics/lee/projects/SMaHT/resul...   1674  \n",
       "29  /n/data1/bch/genetics/lee/projects/SMaHT/resul...    310  \n",
       "30  /n/data1/bch/genetics/lee/projects/SMaHT/resul...     20  \n",
       "31  /n/data1/bch/genetics/lee/projects/SMaHT/resul...      4  \n",
       "32  /n/data1/bch/genetics/lee/projects/SMaHT/resul...   1769  \n",
       "33  /n/data1/bch/genetics/lee/projects/SMaHT/resul...    335  \n",
       "34  /n/data1/bch/genetics/lee/projects/SMaHT/resul...   1272  \n",
       "35  /n/data1/bch/genetics/lee/projects/SMaHT/resul...    202  \n",
       "36  /n/data1/bch/genetics/lee/projects/SMaHT/resul...   1364  \n",
       "37  /n/data1/bch/genetics/lee/projects/SMaHT/resul...    229  \n",
       "38  /n/data1/bch/genetics/lee/projects/SMaHT/resul...   1462  \n",
       "39  /n/data1/bch/genetics/lee/projects/SMaHT/resul...    246  \n",
       "40  /n/data1/bch/genetics/lee/projects/SMaHT/resul...   1584  \n",
       "41  /n/data1/bch/genetics/lee/projects/SMaHT/resul...    183  \n",
       "42  /n/data1/bch/genetics/lee/projects/SMaHT/resul...   1656  \n",
       "43  /n/data1/bch/genetics/lee/projects/SMaHT/resul...    282  \n",
       "44  /n/data1/bch/genetics/lee/projects/SMaHT/resul...   1596  \n",
       "45  /n/data1/bch/genetics/lee/projects/SMaHT/resul...    293  \n",
       "46  /n/data1/bch/genetics/lee/projects/SMaHT/resul...   1668  \n",
       "47  /n/data1/bch/genetics/lee/projects/SMaHT/resul...    311  \n",
       "48  /n/data1/bch/genetics/lee/projects/SMaHT/resul...   1765  \n",
       "49  /n/data1/bch/genetics/lee/projects/SMaHT/resul...    336  \n",
       "50  /n/data1/bch/genetics/lee/projects/SMaHT/resul...   1086  \n",
       "51  /n/data1/bch/genetics/lee/projects/SMaHT/resul...    147  \n",
       "52  /n/data1/bch/genetics/lee/projects/SMaHT/resul...   1163  \n",
       "53  /n/data1/bch/genetics/lee/projects/SMaHT/resul...    149  \n",
       "54  /n/data1/bch/genetics/lee/projects/SMaHT/resul...    136  \n",
       "55  /n/data1/bch/genetics/lee/projects/SMaHT/resul...     16  \n",
       "56  /n/data1/bch/genetics/lee/projects/SMaHT/resul...    805  \n",
       "57  /n/data1/bch/genetics/lee/projects/SMaHT/resul...     95  "
      ]
     },
     "execution_count": 16,
     "metadata": {},
     "output_type": "execute_result"
    }
   ],
   "source": [
    "resultBedDF"
   ]
  },
  {
   "cell_type": "code",
   "execution_count": 17,
   "metadata": {},
   "outputs": [
    {
     "data": {
      "text/plain": [
       "[0.5, 2.0, 10.0]"
      ]
     },
     "execution_count": 17,
     "metadata": {},
     "output_type": "execute_result"
    }
   ],
   "source": [
    "vafs"
   ]
  },
  {
   "cell_type": "code",
   "execution_count": 18,
   "metadata": {},
   "outputs": [
    {
     "name": "stderr",
     "output_type": "stream",
     "text": [
      "/tmp/ipykernel_10019/2763382808.py:357: SettingWithCopyWarning:\n",
      "\n",
      "\n",
      "A value is trying to be set on a copy of a slice from a DataFrame.\n",
      "Try using .loc[row_indexer,col_indexer] = value instead\n",
      "\n",
      "See the caveats in the documentation: https://pandas.pydata.org/pandas-docs/stable/user_guide/indexing.html#returning-a-view-versus-a-copy\n",
      "\n",
      "2024-06-17 18:23:57,314 - INFO - Directory exists: results/resultComparisons/HapMapMix/tool_Comparison_50x, removing it.\n",
      "2024-06-17 18:23:57,517 - INFO - Running command: bedtools slop -i /n/data1/bch/genetics/lee/projects/SMaHT/results/RetroSom/shortread/mosaic/HapMap/v2/50x/L1.bed -g /n/data1/bch/genetics/lee/reference/hg38/hg38.chrom.sizes -b 1000 | sort -k1,1V -k1,1 -k2,2n\n",
      "2024-06-17 18:23:57,568 - INFO - Successfully created: results/resultComparisons/HapMapMix/tool_Comparison_50x/RetroSom_50x_L1_E1000.bed\n",
      "2024-06-17 18:23:57,581 - INFO - Running command: bedtools slop -i /n/data1/bch/genetics/lee/projects/SMaHT/results/xTea/shortread/mosaic/HapMap/50x/L1.bed -g /n/data1/bch/genetics/lee/reference/hg38/hg38.chrom.sizes -b 1000 | sort -k1,1V -k1,1 -k2,2n\n",
      "2024-06-17 18:23:57,621 - INFO - Successfully created: results/resultComparisons/HapMapMix/tool_Comparison_50x/xTea-mosaic_50x_L1_E1000.bed\n",
      "2024-06-17 18:23:57,629 - INFO - Running command: bedtools slop -i /n/data1/bch/genetics/lee/projects/SMaHT/results/xTea/shortread/germline/HapMap/50x/L1.bed -g /n/data1/bch/genetics/lee/reference/hg38/hg38.chrom.sizes -b 1000 | sort -k1,1V -k1,1 -k2,2n\n",
      "2024-06-17 18:23:57,665 - INFO - Successfully created: results/resultComparisons/HapMapMix/tool_Comparison_50x/xTea_50x_L1_E1000.bed\n",
      "2024-06-17 18:23:57,676 - INFO - Running command: bedtools slop -i /n/data1/bch/genetics/lee/projects/SMaHT/results/MELT/shortread/germline/HapMap/50x/L1.bed -g /n/data1/bch/genetics/lee/reference/hg38/hg38.chrom.sizes -b 1000 | sort -k1,1V -k1,1 -k2,2n\n",
      "2024-06-17 18:23:57,706 - INFO - Successfully created: results/resultComparisons/HapMapMix/tool_Comparison_50x/MELT_50x_L1_E1000.bed\n",
      "2024-06-17 18:23:57,710 - INFO - Running command: intervene venn -i RetroSom_50x_L1_E1000.bed xTea-mosaic_50x_L1_E1000.bed xTea_50x_L1_E1000.bed MELT_50x_L1_E1000.bed --bedtools-options f=0.5,r --filenames --title Tool_Compared-50x --output venn --save-overlaps\n"
     ]
    },
    {
     "name": "stdout",
     "output_type": "stream",
     "text": [
      "\n",
      "Generating a 4-way \"venn\" diagram. Please wait...\n",
      "\n",
      "\n",
      "Done! Please check your results @ venn. \n",
      "Thank you for using Intervene!\n",
      "\n"
     ]
    },
    {
     "name": "stderr",
     "output_type": "stream",
     "text": [
      "2024-06-17 18:24:09,078 - INFO - Successfully executed: None\n",
      "2024-06-17 18:24:09,083 - INFO - Running command: intervene upset -i RetroSom_50x_L1_E1000.bed xTea-mosaic_50x_L1_E1000.bed xTea_50x_L1_E1000.bed MELT_50x_L1_E1000.bed --bedtools-options f=0.5,r --filenames --output upset --save-overlaps --showzero --showsize --showshiny\n",
      "During startup - Warning messages:\n",
      "1: Setting LC_CTYPE failed, using \"C\" \n",
      "2: Setting LC_COLLATE failed, using \"C\" \n",
      "3: Setting LC_TIME failed, using \"C\" \n",
      "4: Setting LC_MESSAGES failed, using \"C\" \n",
      "5: Setting LC_MONETARY failed, using \"C\" \n",
      "6: Setting LC_PAPER failed, using \"C\" \n",
      "7: Setting LC_MEASUREMENT failed, using \"C\" \n",
      "2024-06-17 18:24:18,709 - INFO - Successfully created: shiny.fig.code\n",
      "/tmp/ipykernel_10019/2763382808.py:357: SettingWithCopyWarning:\n",
      "\n",
      "\n",
      "A value is trying to be set on a copy of a slice from a DataFrame.\n",
      "Try using .loc[row_indexer,col_indexer] = value instead\n",
      "\n",
      "See the caveats in the documentation: https://pandas.pydata.org/pandas-docs/stable/user_guide/indexing.html#returning-a-view-versus-a-copy\n",
      "\n",
      "2024-06-17 18:24:18,714 - INFO - Directory exists: results/resultComparisons/HapMapMix/tool_Comparison_100x, removing it.\n",
      "2024-06-17 18:24:18,943 - INFO - Running command: bedtools slop -i /n/data1/bch/genetics/lee/projects/SMaHT/results/RetroSom/shortread/mosaic/HapMap/v2/100x/L1.bed -g /n/data1/bch/genetics/lee/reference/hg38/hg38.chrom.sizes -b 1000 | sort -k1,1V -k1,1 -k2,2n\n",
      "2024-06-17 18:24:18,989 - INFO - Successfully created: results/resultComparisons/HapMapMix/tool_Comparison_100x/RetroSom_100x_L1_E1000.bed\n",
      "2024-06-17 18:24:18,999 - INFO - Running command: bedtools slop -i /n/data1/bch/genetics/lee/projects/SMaHT/results/xTea/shortread/mosaic/HapMap/100x/L1.bed -g /n/data1/bch/genetics/lee/reference/hg38/hg38.chrom.sizes -b 1000 | sort -k1,1V -k1,1 -k2,2n\n",
      "2024-06-17 18:24:19,034 - INFO - Successfully created: results/resultComparisons/HapMapMix/tool_Comparison_100x/xTea-mosaic_100x_L1_E1000.bed\n",
      "2024-06-17 18:24:19,044 - INFO - Running command: bedtools slop -i /n/data1/bch/genetics/lee/projects/SMaHT/results/xTea/shortread/germline/HapMap/100x/L1.bed -g /n/data1/bch/genetics/lee/reference/hg38/hg38.chrom.sizes -b 1000 | sort -k1,1V -k1,1 -k2,2n\n",
      "2024-06-17 18:24:19,075 - INFO - Successfully created: results/resultComparisons/HapMapMix/tool_Comparison_100x/xTea_100x_L1_E1000.bed\n",
      "2024-06-17 18:24:19,083 - INFO - Running command: bedtools slop -i /n/data1/bch/genetics/lee/projects/SMaHT/results/MELT/shortread/germline/HapMap/100x/L1.bed -g /n/data1/bch/genetics/lee/reference/hg38/hg38.chrom.sizes -b 1000 | sort -k1,1V -k1,1 -k2,2n\n",
      "2024-06-17 18:24:19,136 - INFO - Successfully created: results/resultComparisons/HapMapMix/tool_Comparison_100x/MELT_100x_L1_E1000.bed\n",
      "2024-06-17 18:24:19,141 - INFO - Running command: intervene venn -i RetroSom_100x_L1_E1000.bed xTea-mosaic_100x_L1_E1000.bed xTea_100x_L1_E1000.bed MELT_100x_L1_E1000.bed --bedtools-options f=0.5,r --filenames --title Tool_Compared-100x --output venn --save-overlaps\n"
     ]
    },
    {
     "name": "stdout",
     "output_type": "stream",
     "text": [
      "\n",
      "Generating a 4-way \"venn\" diagram. Please wait...\n",
      "\n",
      "\n",
      "Done! Please check your results @ venn. \n",
      "Thank you for using Intervene!\n",
      "\n"
     ]
    },
    {
     "name": "stderr",
     "output_type": "stream",
     "text": [
      "2024-06-17 18:24:28,271 - INFO - Successfully executed: None\n",
      "2024-06-17 18:24:28,285 - INFO - Running command: intervene upset -i RetroSom_100x_L1_E1000.bed xTea-mosaic_100x_L1_E1000.bed xTea_100x_L1_E1000.bed MELT_100x_L1_E1000.bed --bedtools-options f=0.5,r --filenames --output upset --save-overlaps --showzero --showsize --showshiny\n",
      "During startup - Warning messages:\n",
      "1: Setting LC_CTYPE failed, using \"C\" \n",
      "2: Setting LC_COLLATE failed, using \"C\" \n",
      "3: Setting LC_TIME failed, using \"C\" \n",
      "4: Setting LC_MESSAGES failed, using \"C\" \n",
      "5: Setting LC_MONETARY failed, using \"C\" \n",
      "6: Setting LC_PAPER failed, using \"C\" \n",
      "7: Setting LC_MEASUREMENT failed, using \"C\" \n",
      "2024-06-17 18:24:38,094 - INFO - Successfully created: shiny.fig.code\n",
      "/tmp/ipykernel_10019/2763382808.py:357: SettingWithCopyWarning:\n",
      "\n",
      "\n",
      "A value is trying to be set on a copy of a slice from a DataFrame.\n",
      "Try using .loc[row_indexer,col_indexer] = value instead\n",
      "\n",
      "See the caveats in the documentation: https://pandas.pydata.org/pandas-docs/stable/user_guide/indexing.html#returning-a-view-versus-a-copy\n",
      "\n",
      "2024-06-17 18:24:38,098 - INFO - Directory exists: results/resultComparisons/HapMapMix/tool_Comparison_200x, removing it.\n",
      "2024-06-17 18:24:38,252 - INFO - Running command: bedtools slop -i /n/data1/bch/genetics/lee/projects/SMaHT/results/RetroSom/shortread/mosaic/HapMap/v2/200x/L1.bed -g /n/data1/bch/genetics/lee/reference/hg38/hg38.chrom.sizes -b 1000 | sort -k1,1V -k1,1 -k2,2n\n",
      "2024-06-17 18:24:38,303 - INFO - Successfully created: results/resultComparisons/HapMapMix/tool_Comparison_200x/RetroSom_200x_L1_E1000.bed\n",
      "2024-06-17 18:24:38,330 - INFO - Running command: bedtools slop -i /n/data1/bch/genetics/lee/projects/SMaHT/results/xTea/shortread/mosaic/HapMap/200x/L1.bed -g /n/data1/bch/genetics/lee/reference/hg38/hg38.chrom.sizes -b 1000 | sort -k1,1V -k1,1 -k2,2n\n",
      "2024-06-17 18:24:38,392 - INFO - Successfully created: results/resultComparisons/HapMapMix/tool_Comparison_200x/xTea-mosaic_200x_L1_E1000.bed\n",
      "2024-06-17 18:24:38,403 - INFO - Running command: bedtools slop -i /n/data1/bch/genetics/lee/projects/SMaHT/results/xTea/shortread/germline/HapMap/200x/L1.bed -g /n/data1/bch/genetics/lee/reference/hg38/hg38.chrom.sizes -b 1000 | sort -k1,1V -k1,1 -k2,2n\n",
      "2024-06-17 18:24:38,431 - INFO - Successfully created: results/resultComparisons/HapMapMix/tool_Comparison_200x/xTea_200x_L1_E1000.bed\n",
      "2024-06-17 18:24:38,435 - INFO - Running command: intervene venn -i RetroSom_200x_L1_E1000.bed xTea-mosaic_200x_L1_E1000.bed xTea_200x_L1_E1000.bed --bedtools-options f=0.5,r --filenames --title Tool_Compared-200x --output venn --save-overlaps\n"
     ]
    },
    {
     "name": "stdout",
     "output_type": "stream",
     "text": [
      "\n",
      "Generating a 3-way \"venn\" diagram. Please wait...\n",
      "\n",
      "\n",
      "Done! Please check your results @ venn. \n",
      "Thank you for using Intervene!\n",
      "\n"
     ]
    },
    {
     "name": "stderr",
     "output_type": "stream",
     "text": [
      "2024-06-17 18:24:45,528 - INFO - Successfully executed: None\n",
      "2024-06-17 18:24:45,538 - INFO - Running command: intervene upset -i RetroSom_200x_L1_E1000.bed xTea-mosaic_200x_L1_E1000.bed xTea_200x_L1_E1000.bed --bedtools-options f=0.5,r --filenames --output upset --save-overlaps --showzero --showsize --showshiny\n",
      "During startup - Warning messages:\n",
      "1: Setting LC_CTYPE failed, using \"C\" \n",
      "2: Setting LC_COLLATE failed, using \"C\" \n",
      "3: Setting LC_TIME failed, using \"C\" \n",
      "4: Setting LC_MESSAGES failed, using \"C\" \n",
      "5: Setting LC_MONETARY failed, using \"C\" \n",
      "6: Setting LC_PAPER failed, using \"C\" \n",
      "7: Setting LC_MEASUREMENT failed, using \"C\" \n",
      "2024-06-17 18:24:53,755 - INFO - Successfully created: shiny.fig.code\n",
      "/tmp/ipykernel_10019/2763382808.py:357: SettingWithCopyWarning:\n",
      "\n",
      "\n",
      "A value is trying to be set on a copy of a slice from a DataFrame.\n",
      "Try using .loc[row_indexer,col_indexer] = value instead\n",
      "\n",
      "See the caveats in the documentation: https://pandas.pydata.org/pandas-docs/stable/user_guide/indexing.html#returning-a-view-versus-a-copy\n",
      "\n",
      "2024-06-17 18:24:53,762 - INFO - Directory exists: results/resultComparisons/HapMapMix/tool_Comparison_300x, removing it.\n",
      "2024-06-17 18:24:53,896 - INFO - Running command: bedtools slop -i /n/data1/bch/genetics/lee/projects/SMaHT/results/RetroSom/shortread/mosaic/HapMap/v2/300x/L1.bed -g /n/data1/bch/genetics/lee/reference/hg38/hg38.chrom.sizes -b 1000 | sort -k1,1V -k1,1 -k2,2n\n",
      "2024-06-17 18:24:53,942 - INFO - Successfully created: results/resultComparisons/HapMapMix/tool_Comparison_300x/RetroSom_300x_L1_E1000.bed\n",
      "2024-06-17 18:24:53,952 - INFO - Running command: bedtools slop -i /n/data1/bch/genetics/lee/projects/SMaHT/results/xTea/shortread/mosaic/HapMap/300x/L1.bed -g /n/data1/bch/genetics/lee/reference/hg38/hg38.chrom.sizes -b 1000 | sort -k1,1V -k1,1 -k2,2n\n",
      "2024-06-17 18:24:53,987 - INFO - Successfully created: results/resultComparisons/HapMapMix/tool_Comparison_300x/xTea-mosaic_300x_L1_E1000.bed\n",
      "2024-06-17 18:24:54,003 - INFO - Running command: bedtools slop -i /n/data1/bch/genetics/lee/projects/SMaHT/results/xTea/shortread/germline/HapMap/300x/L1.bed -g /n/data1/bch/genetics/lee/reference/hg38/hg38.chrom.sizes -b 1000 | sort -k1,1V -k1,1 -k2,2n\n",
      "2024-06-17 18:24:54,039 - INFO - Successfully created: results/resultComparisons/HapMapMix/tool_Comparison_300x/xTea_300x_L1_E1000.bed\n",
      "2024-06-17 18:24:54,043 - INFO - Running command: intervene venn -i RetroSom_300x_L1_E1000.bed xTea-mosaic_300x_L1_E1000.bed xTea_300x_L1_E1000.bed --bedtools-options f=0.5,r --filenames --title Tool_Compared-300x --output venn --save-overlaps\n"
     ]
    },
    {
     "name": "stdout",
     "output_type": "stream",
     "text": [
      "\n",
      "Generating a 3-way \"venn\" diagram. Please wait...\n",
      "\n",
      "\n",
      "Done! Please check your results @ venn. \n",
      "Thank you for using Intervene!\n",
      "\n"
     ]
    },
    {
     "name": "stderr",
     "output_type": "stream",
     "text": [
      "2024-06-17 18:25:00,663 - INFO - Successfully executed: None\n",
      "2024-06-17 18:25:00,676 - INFO - Running command: intervene upset -i RetroSom_300x_L1_E1000.bed xTea-mosaic_300x_L1_E1000.bed xTea_300x_L1_E1000.bed --bedtools-options f=0.5,r --filenames --output upset --save-overlaps --showzero --showsize --showshiny\n",
      "During startup - Warning messages:\n",
      "1: Setting LC_CTYPE failed, using \"C\" \n",
      "2: Setting LC_COLLATE failed, using \"C\" \n",
      "3: Setting LC_TIME failed, using \"C\" \n",
      "4: Setting LC_MESSAGES failed, using \"C\" \n",
      "5: Setting LC_MONETARY failed, using \"C\" \n",
      "6: Setting LC_PAPER failed, using \"C\" \n",
      "7: Setting LC_MEASUREMENT failed, using \"C\" \n",
      "2024-06-17 18:25:11,727 - INFO - Successfully created: shiny.fig.code\n"
     ]
    }
   ],
   "source": [
    "toolComparisonDepths = [\"50x\", \"100x\", \"200x\", \"300x\"]\n",
    "tools = ['RetroSom', 'xTea', 'xTea-mosaic', 'MELT']\n",
    "\n",
    "for targetDepth in toolComparisonDepths:\n",
    "    \n",
    "    if targetDepth == \"300x\":\n",
    "        tools.remove(\"MELT\")    \n",
    "    \n",
    "    generateComparisonFigures(resultBedDF,             \n",
    "                          tools,\n",
    "                          [targetDepth],\n",
    "                          1000,\n",
    "                          \"results/resultComparisons/HapMapMix/tool_Comparison_\"+targetDepth,\n",
    "                          'L1',\n",
    "                          \"Tool_Compared-\"+targetDepth)"
   ]
  },
  {
   "cell_type": "code",
   "execution_count": 82,
   "metadata": {},
   "outputs": [
    {
     "name": "stderr",
     "output_type": "stream",
     "text": [
      "/tmp/ipykernel_2836/443462373.py:343: SettingWithCopyWarning:\n",
      "\n",
      "\n",
      "A value is trying to be set on a copy of a slice from a DataFrame.\n",
      "Try using .loc[row_indexer,col_indexer] = value instead\n",
      "\n",
      "See the caveats in the documentation: https://pandas.pydata.org/pandas-docs/stable/user_guide/indexing.html#returning-a-view-versus-a-copy\n",
      "\n",
      "2024-06-17 16:19:19,837 - INFO - Running command: bedtools slop -i /n/data1/bch/genetics/lee/projects/SMaHT/results/RetroSom/shortread/mosaic/HapMap/v2/200x_UW/L1.bed -g /n/data1/bch/genetics/lee/reference/hg38/hg38.chrom.sizes -b 1000 | sort -k1,1V -k1,1 -k2,2n\n",
      "2024-06-17 16:19:19,904 - INFO - Successfully created: results/resultComparisons/HapMapMix/retroSom_HK_Comparison/RetroSom_200x_UW_L1_E1000.bed\n",
      "2024-06-17 16:19:19,922 - INFO - Running command: bedtools slop -i /n/data1/bch/genetics/lee/projects/SMaHT/results/RetroSom/shortread/mosaic/HapMap/v2/200x_UW_HK/L1.bed -g /n/data1/bch/genetics/lee/reference/hg38/hg38.chrom.sizes -b 1000 | sort -k1,1V -k1,1 -k2,2n\n",
      "2024-06-17 16:19:19,990 - INFO - Successfully created: results/resultComparisons/HapMapMix/retroSom_HK_Comparison/RetroSom_200x_UW_HK_L1_E1000.bed\n",
      "2024-06-17 16:19:19,997 - INFO - Running command: bedtools slop -i /n/data1/bch/genetics/lee/projects/SMaHT/results/RetroSom/shortread/mosaic/HapMap/v2/200x_NYGC/L1.bed -g /n/data1/bch/genetics/lee/reference/hg38/hg38.chrom.sizes -b 1000 | sort -k1,1V -k1,1 -k2,2n\n",
      "2024-06-17 16:19:20,035 - INFO - Successfully created: results/resultComparisons/HapMapMix/retroSom_HK_Comparison/RetroSom_200x_NYGC_L1_E1000.bed\n",
      "2024-06-17 16:19:20,047 - INFO - Running command: bedtools slop -i /n/data1/bch/genetics/lee/projects/SMaHT/results/RetroSom/shortread/mosaic/HapMap/v2/200x_NYGC_HK/L1.bed -g /n/data1/bch/genetics/lee/reference/hg38/hg38.chrom.sizes -b 1000 | sort -k1,1V -k1,1 -k2,2n\n",
      "2024-06-17 16:19:20,078 - INFO - Successfully created: results/resultComparisons/HapMapMix/retroSom_HK_Comparison/RetroSom_200x_NYGC_HK_L1_E1000.bed\n",
      "2024-06-17 16:19:20,088 - INFO - Running command: bedtools slop -i /n/data1/bch/genetics/lee/projects/SMaHT/results/RetroSom/shortread/mosaic/HapMap/v3/200x_UW_HK/L1.bed -g /n/data1/bch/genetics/lee/reference/hg38/hg38.chrom.sizes -b 1000 | sort -k1,1V -k1,1 -k2,2n\n",
      "2024-06-17 16:19:20,119 - INFO - Successfully created: results/resultComparisons/HapMapMix/retroSom_HK_Comparison/RetroSom-v3_200x_UW_HK_L1_E1000.bed\n",
      "2024-06-17 16:19:20,129 - INFO - Running command: bedtools slop -i /n/data1/bch/genetics/lee/projects/SMaHT/results/RetroSom/shortread/mosaic/HapMap/v3/200x_NYGC_HK/L1.bed -g /n/data1/bch/genetics/lee/reference/hg38/hg38.chrom.sizes -b 1000 | sort -k1,1V -k1,1 -k2,2n\n",
      "2024-06-17 16:19:20,173 - INFO - Successfully created: results/resultComparisons/HapMapMix/retroSom_HK_Comparison/RetroSom-v3_200x_NYGC_HK_L1_E1000.bed\n",
      "2024-06-17 16:19:20,177 - INFO - Running command: intervene venn -i RetroSom_200x_UW_L1_E1000.bed RetroSom_200x_UW_HK_L1_E1000.bed RetroSom_200x_NYGC_L1_E1000.bed RetroSom_200x_NYGC_HK_L1_E1000.bed RetroSom-v3_200x_UW_HK_L1_E1000.bed RetroSom-v3_200x_NYGC_HK_L1_E1000.bed --bedtools-options f=0.5,r --filenames --title HK_Compared --output venn --save-overlaps\n"
     ]
    },
    {
     "name": "stdout",
     "output_type": "stream",
     "text": [
      "\n",
      "Generating a 6-way \"venn\" diagram. Please wait...\n",
      "\n",
      "\n",
      "Done! Please check your results @ venn. \n",
      "Thank you for using Intervene!\n",
      "\n"
     ]
    },
    {
     "name": "stderr",
     "output_type": "stream",
     "text": [
      "2024-06-17 16:19:35,998 - INFO - Successfully executed: None\n",
      "2024-06-17 16:19:36,004 - INFO - Running command: intervene upset -i RetroSom_200x_UW_L1_E1000.bed RetroSom_200x_UW_HK_L1_E1000.bed RetroSom_200x_NYGC_L1_E1000.bed RetroSom_200x_NYGC_HK_L1_E1000.bed RetroSom-v3_200x_UW_HK_L1_E1000.bed RetroSom-v3_200x_NYGC_HK_L1_E1000.bed --bedtools-options f=0.5,r --filenames --output upset --save-overlaps --showzero --showsize --showshiny\n",
      "During startup - Warning messages:\n",
      "1: Setting LC_CTYPE failed, using \"C\" \n",
      "2: Setting LC_COLLATE failed, using \"C\" \n",
      "3: Setting LC_TIME failed, using \"C\" \n",
      "4: Setting LC_MESSAGES failed, using \"C\" \n",
      "5: Setting LC_MONETARY failed, using \"C\" \n",
      "6: Setting LC_PAPER failed, using \"C\" \n",
      "7: Setting LC_MEASUREMENT failed, using \"C\" \n",
      "2024-06-17 16:19:49,122 - INFO - Successfully created: shiny.fig.code\n"
     ]
    }
   ],
   "source": [
    "# RetroSomComaprison comparison \n",
    "\n",
    "generateComparisonFigures(resultBedDF,             \n",
    "                          ['RetroSom', 'RetroSom-v3'],\n",
    "                          ['200x_UW', '200x_UW_HK', '200x_NYGC', '200x_NYGC_HK'],\n",
    "                          1000,\n",
    "                          \"results/resultComparisons/HapMapMix/retroSom_HK_Comparison\",\n",
    "                          'L1',\n",
    "                          \"HK_Compared\")\n",
    "\n"
   ]
  },
  {
   "cell_type": "code",
   "execution_count": 81,
   "metadata": {},
   "outputs": [
    {
     "name": "stderr",
     "output_type": "stream",
     "text": [
      "/tmp/ipykernel_2836/443462373.py:343: SettingWithCopyWarning:\n",
      "\n",
      "\n",
      "A value is trying to be set on a copy of a slice from a DataFrame.\n",
      "Try using .loc[row_indexer,col_indexer] = value instead\n",
      "\n",
      "See the caveats in the documentation: https://pandas.pydata.org/pandas-docs/stable/user_guide/indexing.html#returning-a-view-versus-a-copy\n",
      "\n",
      "2024-06-17 16:16:49,579 - INFO - Directory exists: results/resultComparisons/HapMapMix/xTea_Corrine_Comparison, removing it.\n",
      "2024-06-17 16:16:49,670 - INFO - Running command: bedtools slop -i /n/data1/bch/genetics/lee/projects/SMaHT/results/xTea/shortread/mosaic/HapMap/200x_UW/L1.bed -g /n/data1/bch/genetics/lee/reference/hg38/hg38.chrom.sizes -b 1000 | sort -k1,1V -k1,1 -k2,2n\n",
      "2024-06-17 16:16:49,725 - INFO - Successfully created: results/resultComparisons/HapMapMix/xTea_Corrine_Comparison/xTea-mosaic_200x_UW_L1_E1000.bed\n",
      "2024-06-17 16:16:49,732 - INFO - Running command: bedtools slop -i /n/data1/bch/genetics/lee/projects/SMaHT/results/xTea/shortread/mosaic/HapMap/200x_NYGC/L1.bed -g /n/data1/bch/genetics/lee/reference/hg38/hg38.chrom.sizes -b 1000 | sort -k1,1V -k1,1 -k2,2n\n",
      "2024-06-17 16:16:49,770 - INFO - Successfully created: results/resultComparisons/HapMapMix/xTea_Corrine_Comparison/xTea-mosaic_200x_NYGC_L1_E1000.bed\n",
      "2024-06-17 16:16:49,778 - INFO - Running command: bedtools slop -i /n/data1/bch/genetics/lee/projects/SMaHT/results/xTea/shortread/mosaic/HapMap/200x_NYGC_Corrine/L1.bed -g /n/data1/bch/genetics/lee/reference/hg38/hg38.chrom.sizes -b 1000 | sort -k1,1V -k1,1 -k2,2n\n",
      "2024-06-17 16:16:49,809 - INFO - Successfully created: results/resultComparisons/HapMapMix/xTea_Corrine_Comparison/xTea-mosaic_200x_NYGC_Corrine_L1_E1000.bed\n",
      "2024-06-17 16:16:49,814 - INFO - Running command: intervene venn -i xTea-mosaic_200x_UW_L1_E1000.bed xTea-mosaic_200x_NYGC_L1_E1000.bed xTea-mosaic_200x_NYGC_Corrine_L1_E1000.bed --bedtools-options f=0.5,r --filenames --title Corrine_Compared --output venn --save-overlaps\n"
     ]
    },
    {
     "name": "stdout",
     "output_type": "stream",
     "text": [
      "\n",
      "Generating a 3-way \"venn\" diagram. Please wait...\n",
      "\n",
      "\n",
      "Done! Please check your results @ venn. \n",
      "Thank you for using Intervene!\n",
      "\n"
     ]
    },
    {
     "name": "stderr",
     "output_type": "stream",
     "text": [
      "2024-06-17 16:16:57,367 - INFO - Successfully executed: None\n",
      "2024-06-17 16:16:57,373 - INFO - Running command: intervene upset -i xTea-mosaic_200x_UW_L1_E1000.bed xTea-mosaic_200x_NYGC_L1_E1000.bed xTea-mosaic_200x_NYGC_Corrine_L1_E1000.bed --bedtools-options f=0.5,r --filenames --output upset --save-overlaps --showzero --showsize --showshiny\n",
      "During startup - Warning messages:\n",
      "1: Setting LC_CTYPE failed, using \"C\" \n",
      "2: Setting LC_COLLATE failed, using \"C\" \n",
      "3: Setting LC_TIME failed, using \"C\" \n",
      "4: Setting LC_MESSAGES failed, using \"C\" \n",
      "5: Setting LC_MONETARY failed, using \"C\" \n",
      "6: Setting LC_PAPER failed, using \"C\" \n",
      "7: Setting LC_MEASUREMENT failed, using \"C\" \n",
      "2024-06-17 16:17:04,355 - INFO - Successfully created: shiny.fig.code\n"
     ]
    }
   ],
   "source": [
    "# CorrineComparison\n",
    "\n",
    "generateComparisonFigures(resultBedDF,             \n",
    "                          ['xTea-mosaic'],\n",
    "                          ['200x_UW', '200x_UW_Corrine', '200x_NYGC', '200x_NYGC_Corrine'],\n",
    "                          1000,\n",
    "                          \"results/resultComparisons/HapMapMix/xTea_Corrine_Comparison\",\n",
    "                          'L1',\n",
    "                          \"Corrine_Compared\")\n",
    "                        "
   ]
  },
  {
   "cell_type": "code",
   "execution_count": 14,
   "metadata": {},
   "outputs": [],
   "source": [
    "# Add counts above\n",
    "# Need to draw upset figure here? "
   ]
  },
  {
   "cell_type": "markdown",
   "metadata": {},
   "source": [
    "# 4. Calculate TP, FP, FN and a contingency table "
   ]
  },
  {
   "cell_type": "code",
   "execution_count": 19,
   "metadata": {},
   "outputs": [
    {
     "data": {
      "application/vnd.jupyter.widget-view+json": {
       "model_id": "3fcf801f2f744f9292e365317dc6cf63",
       "version_major": 2,
       "version_minor": 0
      },
      "text/plain": [
       "Processing combinations:   0%|          | 0/3900 [00:00<?, ?it/s]"
      ]
     },
     "metadata": {},
     "output_type": "display_data"
    },
    {
     "name": "stdout",
     "output_type": "stream",
     "text": [
      "      toolName teClass      depth   vaf  windowSize  totalEvents  TP  FP   FN  \\\n",
      "0     RetroSom      L1        50x   0.5           0           68   0  68   68   \n",
      "1     RetroSom      L1        50x   2.0           0           68   0  68  306   \n",
      "2     RetroSom      L1        50x  10.0           0           68   1  67  126   \n",
      "3     RetroSom      L1       100x   0.5           0           64   0  64   68   \n",
      "4     RetroSom      L1       100x   2.0           0           64   1  63  305   \n",
      "...        ...     ...        ...   ...         ...          ...  ..  ..  ...   \n",
      "1219      MELT      L1    200x_UW   2.0        1000           16   0  16  251   \n",
      "1220      MELT      L1    200x_UW  10.0        1000           16   4  12   97   \n",
      "1221      MELT      L1  200x_NYGC   0.5        1000           95   0  95   55   \n",
      "1222      MELT      L1  200x_NYGC   2.0        1000           95   8  87  243   \n",
      "1223      MELT      L1  200x_NYGC  10.0        1000           95  30  65   71   \n",
      "\n",
      "      precision    recall  \n",
      "0      0.000000  0.000000  \n",
      "1      0.000000  0.000000  \n",
      "2      0.014706  0.007874  \n",
      "3      0.000000  0.000000  \n",
      "4      0.015625  0.003268  \n",
      "...         ...       ...  \n",
      "1219   0.000000  0.000000  \n",
      "1220   0.250000  0.039604  \n",
      "1221   0.000000  0.000000  \n",
      "1222   0.084211  0.031873  \n",
      "1223   0.315789  0.297030  \n",
      "\n",
      "[1224 rows x 11 columns]\n"
     ]
    }
   ],
   "source": [
    "# Initial values\n",
    "initial_values = [0, 50, 100]\n",
    "\n",
    "# Generate values from 200 to 1000 with a step of 100\n",
    "incremental_values = list(range(200, 1100, 100))\n",
    "\n",
    "# Concatenate the lists\n",
    "window_sizes = initial_values + incremental_values\n",
    "\n",
    "teClass = \"L1\"\n",
    "\n",
    "vafCheck = 0\n",
    "filteredCellLinesAndMixtureRatio = {k: v for k, v in cellLinesAndMixtureRatio.items() if k != backBoneCellLineName}\n",
    "\n",
    "\n",
    "\n",
    "\n",
    "\n",
    "all_result_combinations = []\n",
    "for idx, window_size in enumerate(window_sizes, start=1):\n",
    "    resultCombinations = list(itertools.product(\n",
    "        toolAndResultDirectory.keys(),\n",
    "        sampleDepths,\n",
    "        filteredCellLinesAndMixtureRatio.values(),\n",
    "        [window_size]\n",
    "    ))\n",
    "    if idx > 1:\n",
    "        all_result_combinations += resultCombinations\n",
    "    else:\n",
    "        all_result_combinations = resultCombinations\n",
    "\n",
    "results = []\n",
    "\n",
    "calculateResults = lambda toolName, sampleDepth, vaf, window_size: (\n",
    "    (results.append(getResultDF(toolName, teClass,sampleDepth,vaf, window_size, resultBedDF, goldStandardDF, bedFileResultSaveDirectory)) )\n",
    "    if (globals().update(vafCheck=vaf) if vafCheck != vaf else False) is None else None\n",
    ")\n",
    "\n",
    "progress_bar = tqdm(all_result_combinations, desc=\"Processing combinations\")\n",
    "for toolName, sampleDepth, vaf, window_size in progress_bar:\n",
    "    progress_bar.set_description(f\"Processing: {toolName} {sampleDepth} {vaf} {window_size}\")\n",
    "    # Check whether they are existing or not from the resultBedDF\n",
    "    if checkRowCount(resultBedDF, toolName, sampleDepth, teClass) == 0: continue\n",
    "    calculateResults(toolName, sampleDepth, vaf, window_size)\n",
    "\n",
    "# Concatenate all DataFrames into a single DataFrame\n",
    "resultDF = pd.concat(results, ignore_index=True)\n",
    "\n",
    "# Display the final DataFrame\n",
    "print(resultDF)"
   ]
  },
  {
   "cell_type": "code",
   "execution_count": 20,
   "metadata": {},
   "outputs": [
    {
     "name": "stdout",
     "output_type": "stream",
     "text": [
      "DataFrames have been saved to results/resultComparisons/HapMapMix/06172024-hapmapmix.xlsx\n"
     ]
    }
   ],
   "source": [
    "#formatted_date = \"06122024\"\n",
    "resultExcelFile = os.path.join(resultExcelPath,formatted_date+'-'+resultExcelFileName+'.xlsx')\n",
    "with pd.ExcelWriter(resultExcelFile, engine='xlsxwriter') as writer:\n",
    "    resultDF.to_excel(writer, sheet_name='result', index=False)\n",
    "    resultBedDF.to_excel(writer, sheet_name='resultBeds', index=False)\n",
    "    goldStandardDF.to_excel(writer, sheet_name='goldStandards', index=False) \n",
    "\n",
    "print(\"DataFrames have been saved to \" + resultExcelFile)"
   ]
  },
  {
   "cell_type": "code",
   "execution_count": 21,
   "metadata": {},
   "outputs": [],
   "source": [
    "resultDF = pd.read_excel(resultExcelFile, sheet_name=\"result\")\n"
   ]
  },
  {
   "cell_type": "markdown",
   "metadata": {},
   "source": [
    "# 5. Check the results with figures"
   ]
  },
  {
   "cell_type": "code",
   "execution_count": 22,
   "metadata": {},
   "outputs": [
    {
     "data": {
      "application/vnd.jupyter.widget-view+json": {
       "model_id": "4049e32a2e5a4823ad83e13153381905",
       "version_major": 2,
       "version_minor": 0
      },
      "text/plain": [
       "Box(children=(HTML(value='<div id=\"ifr-pyg-00061b1db2c57f7cAD3p6WMHR4thfVEG\" style=\"height: auto\">\\n    <head>…"
      ]
     },
     "metadata": {},
     "output_type": "display_data"
    },
    {
     "data": {
      "text/html": [],
      "text/plain": [
       "<IPython.core.display.HTML object>"
      ]
     },
     "metadata": {},
     "output_type": "display_data"
    }
   ],
   "source": [
    "walker = pyg.walk(resultDF)"
   ]
  },
  {
   "cell_type": "markdown",
   "metadata": {},
   "source": [
    "## Performance Plot"
   ]
  },
  {
   "cell_type": "code",
   "execution_count": 41,
   "metadata": {},
   "outputs": [],
   "source": [
    "def create_line_plot(df, x_column, y_column, x_axis_range, colour_column, x_label, y_label, title):\n",
    "    \"\"\"\n",
    "    Create a line plot using Plotly Express.\n",
    "\n",
    "    Parameters:\n",
    "    - df (pd.DataFrame): DataFrame containing the data.\n",
    "    - x_column (str): Column for the x-axis.\n",
    "    - y_column (str): Column for the y-axis.\n",
    "    - x_label (str): Label for the x-axis.\n",
    "    - y_label (str): Label for the y-axis.\n",
    "    - title (str): Title of the plot.\n",
    "\n",
    "    Returns:\n",
    "    - None\n",
    "    \"\"\"\n",
    "    \n",
    "\n",
    "    fig = px.line(df, x=x_column, y=y_column, color=colour_column, markers=True,\n",
    "#                  line_group=colour_column, \n",
    "                  color_discrete_sequence=px.colors.qualitative.Set1,\n",
    "                  symbol=colour_column, symbol_sequence=[1, 3, 16, 17])\n",
    "\n",
    "    fig.update_traces(marker=dict(size=10))\n",
    "\n",
    "    fig.update_layout(\n",
    "        width=600,\n",
    "        xaxis_title=x_label,\n",
    "        yaxis_title=y_label,\n",
    "        xaxis=dict(\n",
    "            type='log',\n",
    "            tickvals=x_axis_range,\n",
    "            range=[-2, 3.25]\n",
    "        ),\n",
    "        yaxis=dict(\n",
    "            range=[0, 1.1],\n",
    "            tickvals=[0, 0.2, 0.4, 0.6, 0.8, 1]\n",
    "        ),\n",
    "        legend=dict(\n",
    "            traceorder='normal',\n",
    "            orientation='v',\n",
    "            y=1.1,\n",
    "            x=0.01,\n",
    "            font=dict(size=16),\n",
    "            title=dict(text=colour_column, font=dict(size=18, color='black'))\n",
    "        ),\n",
    "        font=dict(\n",
    "            family=\"Arial, sans-serif\",\n",
    "            size=18,\n",
    "            color=\"RebeccaPurple\"\n",
    "        ),\n",
    "        title=title\n",
    "    )\n",
    "\n",
    "    fig.show()\n"
   ]
  },
  {
   "cell_type": "code",
   "execution_count": 29,
   "metadata": {},
   "outputs": [],
   "source": [
    "windowSize = 1000"
   ]
  },
  {
   "cell_type": "code",
   "execution_count": 43,
   "metadata": {},
   "outputs": [],
   "source": [
    "figureCombinations = itertools.product(\n",
    "        toolAndResultDirectory.keys(),\n",
    "        teClasses)"
   ]
  },
  {
   "cell_type": "code",
   "execution_count": 44,
   "metadata": {},
   "outputs": [
    {
     "data": {
      "application/vnd.plotly.v1+json": {
       "config": {
        "plotlyServerURL": "https://plot.ly"
       },
       "data": [],
       "layout": {
        "font": {
         "color": "RebeccaPurple",
         "family": "Arial, sans-serif",
         "size": 18
        },
        "legend": {
         "font": {
          "size": 16
         },
         "orientation": "v",
         "title": {
          "font": {
           "color": "black",
           "size": 18
          },
          "text": "depth"
         },
         "tracegroupgap": 0,
         "traceorder": "normal",
         "x": 0.01,
         "y": 1.1
        },
        "margin": {
         "t": 60
        },
        "template": {
         "data": {
          "bar": [
           {
            "error_x": {
             "color": "#2a3f5f"
            },
            "error_y": {
             "color": "#2a3f5f"
            },
            "marker": {
             "line": {
              "color": "#E5ECF6",
              "width": 0.5
             },
             "pattern": {
              "fillmode": "overlay",
              "size": 10,
              "solidity": 0.2
             }
            },
            "type": "bar"
           }
          ],
          "barpolar": [
           {
            "marker": {
             "line": {
              "color": "#E5ECF6",
              "width": 0.5
             },
             "pattern": {
              "fillmode": "overlay",
              "size": 10,
              "solidity": 0.2
             }
            },
            "type": "barpolar"
           }
          ],
          "carpet": [
           {
            "aaxis": {
             "endlinecolor": "#2a3f5f",
             "gridcolor": "white",
             "linecolor": "white",
             "minorgridcolor": "white",
             "startlinecolor": "#2a3f5f"
            },
            "baxis": {
             "endlinecolor": "#2a3f5f",
             "gridcolor": "white",
             "linecolor": "white",
             "minorgridcolor": "white",
             "startlinecolor": "#2a3f5f"
            },
            "type": "carpet"
           }
          ],
          "choropleth": [
           {
            "colorbar": {
             "outlinewidth": 0,
             "ticks": ""
            },
            "type": "choropleth"
           }
          ],
          "contour": [
           {
            "colorbar": {
             "outlinewidth": 0,
             "ticks": ""
            },
            "colorscale": [
             [
              0,
              "#0d0887"
             ],
             [
              0.1111111111111111,
              "#46039f"
             ],
             [
              0.2222222222222222,
              "#7201a8"
             ],
             [
              0.3333333333333333,
              "#9c179e"
             ],
             [
              0.4444444444444444,
              "#bd3786"
             ],
             [
              0.5555555555555556,
              "#d8576b"
             ],
             [
              0.6666666666666666,
              "#ed7953"
             ],
             [
              0.7777777777777778,
              "#fb9f3a"
             ],
             [
              0.8888888888888888,
              "#fdca26"
             ],
             [
              1,
              "#f0f921"
             ]
            ],
            "type": "contour"
           }
          ],
          "contourcarpet": [
           {
            "colorbar": {
             "outlinewidth": 0,
             "ticks": ""
            },
            "type": "contourcarpet"
           }
          ],
          "heatmap": [
           {
            "colorbar": {
             "outlinewidth": 0,
             "ticks": ""
            },
            "colorscale": [
             [
              0,
              "#0d0887"
             ],
             [
              0.1111111111111111,
              "#46039f"
             ],
             [
              0.2222222222222222,
              "#7201a8"
             ],
             [
              0.3333333333333333,
              "#9c179e"
             ],
             [
              0.4444444444444444,
              "#bd3786"
             ],
             [
              0.5555555555555556,
              "#d8576b"
             ],
             [
              0.6666666666666666,
              "#ed7953"
             ],
             [
              0.7777777777777778,
              "#fb9f3a"
             ],
             [
              0.8888888888888888,
              "#fdca26"
             ],
             [
              1,
              "#f0f921"
             ]
            ],
            "type": "heatmap"
           }
          ],
          "heatmapgl": [
           {
            "colorbar": {
             "outlinewidth": 0,
             "ticks": ""
            },
            "colorscale": [
             [
              0,
              "#0d0887"
             ],
             [
              0.1111111111111111,
              "#46039f"
             ],
             [
              0.2222222222222222,
              "#7201a8"
             ],
             [
              0.3333333333333333,
              "#9c179e"
             ],
             [
              0.4444444444444444,
              "#bd3786"
             ],
             [
              0.5555555555555556,
              "#d8576b"
             ],
             [
              0.6666666666666666,
              "#ed7953"
             ],
             [
              0.7777777777777778,
              "#fb9f3a"
             ],
             [
              0.8888888888888888,
              "#fdca26"
             ],
             [
              1,
              "#f0f921"
             ]
            ],
            "type": "heatmapgl"
           }
          ],
          "histogram": [
           {
            "marker": {
             "pattern": {
              "fillmode": "overlay",
              "size": 10,
              "solidity": 0.2
             }
            },
            "type": "histogram"
           }
          ],
          "histogram2d": [
           {
            "colorbar": {
             "outlinewidth": 0,
             "ticks": ""
            },
            "colorscale": [
             [
              0,
              "#0d0887"
             ],
             [
              0.1111111111111111,
              "#46039f"
             ],
             [
              0.2222222222222222,
              "#7201a8"
             ],
             [
              0.3333333333333333,
              "#9c179e"
             ],
             [
              0.4444444444444444,
              "#bd3786"
             ],
             [
              0.5555555555555556,
              "#d8576b"
             ],
             [
              0.6666666666666666,
              "#ed7953"
             ],
             [
              0.7777777777777778,
              "#fb9f3a"
             ],
             [
              0.8888888888888888,
              "#fdca26"
             ],
             [
              1,
              "#f0f921"
             ]
            ],
            "type": "histogram2d"
           }
          ],
          "histogram2dcontour": [
           {
            "colorbar": {
             "outlinewidth": 0,
             "ticks": ""
            },
            "colorscale": [
             [
              0,
              "#0d0887"
             ],
             [
              0.1111111111111111,
              "#46039f"
             ],
             [
              0.2222222222222222,
              "#7201a8"
             ],
             [
              0.3333333333333333,
              "#9c179e"
             ],
             [
              0.4444444444444444,
              "#bd3786"
             ],
             [
              0.5555555555555556,
              "#d8576b"
             ],
             [
              0.6666666666666666,
              "#ed7953"
             ],
             [
              0.7777777777777778,
              "#fb9f3a"
             ],
             [
              0.8888888888888888,
              "#fdca26"
             ],
             [
              1,
              "#f0f921"
             ]
            ],
            "type": "histogram2dcontour"
           }
          ],
          "mesh3d": [
           {
            "colorbar": {
             "outlinewidth": 0,
             "ticks": ""
            },
            "type": "mesh3d"
           }
          ],
          "parcoords": [
           {
            "line": {
             "colorbar": {
              "outlinewidth": 0,
              "ticks": ""
             }
            },
            "type": "parcoords"
           }
          ],
          "pie": [
           {
            "automargin": true,
            "type": "pie"
           }
          ],
          "scatter": [
           {
            "fillpattern": {
             "fillmode": "overlay",
             "size": 10,
             "solidity": 0.2
            },
            "type": "scatter"
           }
          ],
          "scatter3d": [
           {
            "line": {
             "colorbar": {
              "outlinewidth": 0,
              "ticks": ""
             }
            },
            "marker": {
             "colorbar": {
              "outlinewidth": 0,
              "ticks": ""
             }
            },
            "type": "scatter3d"
           }
          ],
          "scattercarpet": [
           {
            "marker": {
             "colorbar": {
              "outlinewidth": 0,
              "ticks": ""
             }
            },
            "type": "scattercarpet"
           }
          ],
          "scattergeo": [
           {
            "marker": {
             "colorbar": {
              "outlinewidth": 0,
              "ticks": ""
             }
            },
            "type": "scattergeo"
           }
          ],
          "scattergl": [
           {
            "marker": {
             "colorbar": {
              "outlinewidth": 0,
              "ticks": ""
             }
            },
            "type": "scattergl"
           }
          ],
          "scattermapbox": [
           {
            "marker": {
             "colorbar": {
              "outlinewidth": 0,
              "ticks": ""
             }
            },
            "type": "scattermapbox"
           }
          ],
          "scatterpolar": [
           {
            "marker": {
             "colorbar": {
              "outlinewidth": 0,
              "ticks": ""
             }
            },
            "type": "scatterpolar"
           }
          ],
          "scatterpolargl": [
           {
            "marker": {
             "colorbar": {
              "outlinewidth": 0,
              "ticks": ""
             }
            },
            "type": "scatterpolargl"
           }
          ],
          "scatterternary": [
           {
            "marker": {
             "colorbar": {
              "outlinewidth": 0,
              "ticks": ""
             }
            },
            "type": "scatterternary"
           }
          ],
          "surface": [
           {
            "colorbar": {
             "outlinewidth": 0,
             "ticks": ""
            },
            "colorscale": [
             [
              0,
              "#0d0887"
             ],
             [
              0.1111111111111111,
              "#46039f"
             ],
             [
              0.2222222222222222,
              "#7201a8"
             ],
             [
              0.3333333333333333,
              "#9c179e"
             ],
             [
              0.4444444444444444,
              "#bd3786"
             ],
             [
              0.5555555555555556,
              "#d8576b"
             ],
             [
              0.6666666666666666,
              "#ed7953"
             ],
             [
              0.7777777777777778,
              "#fb9f3a"
             ],
             [
              0.8888888888888888,
              "#fdca26"
             ],
             [
              1,
              "#f0f921"
             ]
            ],
            "type": "surface"
           }
          ],
          "table": [
           {
            "cells": {
             "fill": {
              "color": "#EBF0F8"
             },
             "line": {
              "color": "white"
             }
            },
            "header": {
             "fill": {
              "color": "#C8D4E3"
             },
             "line": {
              "color": "white"
             }
            },
            "type": "table"
           }
          ]
         },
         "layout": {
          "annotationdefaults": {
           "arrowcolor": "#2a3f5f",
           "arrowhead": 0,
           "arrowwidth": 1
          },
          "autotypenumbers": "strict",
          "coloraxis": {
           "colorbar": {
            "outlinewidth": 0,
            "ticks": ""
           }
          },
          "colorscale": {
           "diverging": [
            [
             0,
             "#8e0152"
            ],
            [
             0.1,
             "#c51b7d"
            ],
            [
             0.2,
             "#de77ae"
            ],
            [
             0.3,
             "#f1b6da"
            ],
            [
             0.4,
             "#fde0ef"
            ],
            [
             0.5,
             "#f7f7f7"
            ],
            [
             0.6,
             "#e6f5d0"
            ],
            [
             0.7,
             "#b8e186"
            ],
            [
             0.8,
             "#7fbc41"
            ],
            [
             0.9,
             "#4d9221"
            ],
            [
             1,
             "#276419"
            ]
           ],
           "sequential": [
            [
             0,
             "#0d0887"
            ],
            [
             0.1111111111111111,
             "#46039f"
            ],
            [
             0.2222222222222222,
             "#7201a8"
            ],
            [
             0.3333333333333333,
             "#9c179e"
            ],
            [
             0.4444444444444444,
             "#bd3786"
            ],
            [
             0.5555555555555556,
             "#d8576b"
            ],
            [
             0.6666666666666666,
             "#ed7953"
            ],
            [
             0.7777777777777778,
             "#fb9f3a"
            ],
            [
             0.8888888888888888,
             "#fdca26"
            ],
            [
             1,
             "#f0f921"
            ]
           ],
           "sequentialminus": [
            [
             0,
             "#0d0887"
            ],
            [
             0.1111111111111111,
             "#46039f"
            ],
            [
             0.2222222222222222,
             "#7201a8"
            ],
            [
             0.3333333333333333,
             "#9c179e"
            ],
            [
             0.4444444444444444,
             "#bd3786"
            ],
            [
             0.5555555555555556,
             "#d8576b"
            ],
            [
             0.6666666666666666,
             "#ed7953"
            ],
            [
             0.7777777777777778,
             "#fb9f3a"
            ],
            [
             0.8888888888888888,
             "#fdca26"
            ],
            [
             1,
             "#f0f921"
            ]
           ]
          },
          "colorway": [
           "#636efa",
           "#EF553B",
           "#00cc96",
           "#ab63fa",
           "#FFA15A",
           "#19d3f3",
           "#FF6692",
           "#B6E880",
           "#FF97FF",
           "#FECB52"
          ],
          "font": {
           "color": "#2a3f5f"
          },
          "geo": {
           "bgcolor": "white",
           "lakecolor": "white",
           "landcolor": "#E5ECF6",
           "showlakes": true,
           "showland": true,
           "subunitcolor": "white"
          },
          "hoverlabel": {
           "align": "left"
          },
          "hovermode": "closest",
          "mapbox": {
           "style": "light"
          },
          "paper_bgcolor": "white",
          "plot_bgcolor": "#E5ECF6",
          "polar": {
           "angularaxis": {
            "gridcolor": "white",
            "linecolor": "white",
            "ticks": ""
           },
           "bgcolor": "#E5ECF6",
           "radialaxis": {
            "gridcolor": "white",
            "linecolor": "white",
            "ticks": ""
           }
          },
          "scene": {
           "xaxis": {
            "backgroundcolor": "#E5ECF6",
            "gridcolor": "white",
            "gridwidth": 2,
            "linecolor": "white",
            "showbackground": true,
            "ticks": "",
            "zerolinecolor": "white"
           },
           "yaxis": {
            "backgroundcolor": "#E5ECF6",
            "gridcolor": "white",
            "gridwidth": 2,
            "linecolor": "white",
            "showbackground": true,
            "ticks": "",
            "zerolinecolor": "white"
           },
           "zaxis": {
            "backgroundcolor": "#E5ECF6",
            "gridcolor": "white",
            "gridwidth": 2,
            "linecolor": "white",
            "showbackground": true,
            "ticks": "",
            "zerolinecolor": "white"
           }
          },
          "shapedefaults": {
           "line": {
            "color": "#2a3f5f"
           }
          },
          "ternary": {
           "aaxis": {
            "gridcolor": "white",
            "linecolor": "white",
            "ticks": ""
           },
           "baxis": {
            "gridcolor": "white",
            "linecolor": "white",
            "ticks": ""
           },
           "bgcolor": "#E5ECF6",
           "caxis": {
            "gridcolor": "white",
            "linecolor": "white",
            "ticks": ""
           }
          },
          "title": {
           "x": 0.05
          },
          "xaxis": {
           "automargin": true,
           "gridcolor": "white",
           "linecolor": "white",
           "ticks": "",
           "title": {
            "standoff": 15
           },
           "zerolinecolor": "white",
           "zerolinewidth": 2
          },
          "yaxis": {
           "automargin": true,
           "gridcolor": "white",
           "linecolor": "white",
           "ticks": "",
           "title": {
            "standoff": 15
           },
           "zerolinecolor": "white",
           "zerolinewidth": 2
          }
         }
        },
        "title": {
         "text": "Precision Plot-RetroSom"
        },
        "width": 600,
        "xaxis": {
         "anchor": "y",
         "domain": [
          0,
          1
         ],
         "range": [
          -2,
          3.25
         ],
         "tickvals": [
          0.5,
          2,
          10
         ],
         "title": {
          "text": "Level of Mosaicism (%)"
         },
         "type": "log"
        },
        "yaxis": {
         "anchor": "x",
         "domain": [
          0,
          1
         ],
         "range": [
          0,
          1.1
         ],
         "tickvals": [
          0,
          0.2,
          0.4,
          0.6,
          0.8,
          1
         ],
         "title": {
          "text": "Precision (Alu)"
         }
        }
       }
      },
      "text/html": [
       "<div>                            <div id=\"b50cd989-f48d-4ffa-a3ea-395397f49357\" class=\"plotly-graph-div\" style=\"height:525px; width:600px;\"></div>            <script type=\"text/javascript\">                require([\"plotly\"], function(Plotly) {                    window.PLOTLYENV=window.PLOTLYENV || {};                                    if (document.getElementById(\"b50cd989-f48d-4ffa-a3ea-395397f49357\")) {                    Plotly.newPlot(                        \"b50cd989-f48d-4ffa-a3ea-395397f49357\",                        [],                        {\"template\":{\"data\":{\"histogram2dcontour\":[{\"type\":\"histogram2dcontour\",\"colorbar\":{\"outlinewidth\":0,\"ticks\":\"\"},\"colorscale\":[[0.0,\"#0d0887\"],[0.1111111111111111,\"#46039f\"],[0.2222222222222222,\"#7201a8\"],[0.3333333333333333,\"#9c179e\"],[0.4444444444444444,\"#bd3786\"],[0.5555555555555556,\"#d8576b\"],[0.6666666666666666,\"#ed7953\"],[0.7777777777777778,\"#fb9f3a\"],[0.8888888888888888,\"#fdca26\"],[1.0,\"#f0f921\"]]}],\"choropleth\":[{\"type\":\"choropleth\",\"colorbar\":{\"outlinewidth\":0,\"ticks\":\"\"}}],\"histogram2d\":[{\"type\":\"histogram2d\",\"colorbar\":{\"outlinewidth\":0,\"ticks\":\"\"},\"colorscale\":[[0.0,\"#0d0887\"],[0.1111111111111111,\"#46039f\"],[0.2222222222222222,\"#7201a8\"],[0.3333333333333333,\"#9c179e\"],[0.4444444444444444,\"#bd3786\"],[0.5555555555555556,\"#d8576b\"],[0.6666666666666666,\"#ed7953\"],[0.7777777777777778,\"#fb9f3a\"],[0.8888888888888888,\"#fdca26\"],[1.0,\"#f0f921\"]]}],\"heatmap\":[{\"type\":\"heatmap\",\"colorbar\":{\"outlinewidth\":0,\"ticks\":\"\"},\"colorscale\":[[0.0,\"#0d0887\"],[0.1111111111111111,\"#46039f\"],[0.2222222222222222,\"#7201a8\"],[0.3333333333333333,\"#9c179e\"],[0.4444444444444444,\"#bd3786\"],[0.5555555555555556,\"#d8576b\"],[0.6666666666666666,\"#ed7953\"],[0.7777777777777778,\"#fb9f3a\"],[0.8888888888888888,\"#fdca26\"],[1.0,\"#f0f921\"]]}],\"heatmapgl\":[{\"type\":\"heatmapgl\",\"colorbar\":{\"outlinewidth\":0,\"ticks\":\"\"},\"colorscale\":[[0.0,\"#0d0887\"],[0.1111111111111111,\"#46039f\"],[0.2222222222222222,\"#7201a8\"],[0.3333333333333333,\"#9c179e\"],[0.4444444444444444,\"#bd3786\"],[0.5555555555555556,\"#d8576b\"],[0.6666666666666666,\"#ed7953\"],[0.7777777777777778,\"#fb9f3a\"],[0.8888888888888888,\"#fdca26\"],[1.0,\"#f0f921\"]]}],\"contourcarpet\":[{\"type\":\"contourcarpet\",\"colorbar\":{\"outlinewidth\":0,\"ticks\":\"\"}}],\"contour\":[{\"type\":\"contour\",\"colorbar\":{\"outlinewidth\":0,\"ticks\":\"\"},\"colorscale\":[[0.0,\"#0d0887\"],[0.1111111111111111,\"#46039f\"],[0.2222222222222222,\"#7201a8\"],[0.3333333333333333,\"#9c179e\"],[0.4444444444444444,\"#bd3786\"],[0.5555555555555556,\"#d8576b\"],[0.6666666666666666,\"#ed7953\"],[0.7777777777777778,\"#fb9f3a\"],[0.8888888888888888,\"#fdca26\"],[1.0,\"#f0f921\"]]}],\"surface\":[{\"type\":\"surface\",\"colorbar\":{\"outlinewidth\":0,\"ticks\":\"\"},\"colorscale\":[[0.0,\"#0d0887\"],[0.1111111111111111,\"#46039f\"],[0.2222222222222222,\"#7201a8\"],[0.3333333333333333,\"#9c179e\"],[0.4444444444444444,\"#bd3786\"],[0.5555555555555556,\"#d8576b\"],[0.6666666666666666,\"#ed7953\"],[0.7777777777777778,\"#fb9f3a\"],[0.8888888888888888,\"#fdca26\"],[1.0,\"#f0f921\"]]}],\"mesh3d\":[{\"type\":\"mesh3d\",\"colorbar\":{\"outlinewidth\":0,\"ticks\":\"\"}}],\"scatter\":[{\"fillpattern\":{\"fillmode\":\"overlay\",\"size\":10,\"solidity\":0.2},\"type\":\"scatter\"}],\"parcoords\":[{\"type\":\"parcoords\",\"line\":{\"colorbar\":{\"outlinewidth\":0,\"ticks\":\"\"}}}],\"scatterpolargl\":[{\"type\":\"scatterpolargl\",\"marker\":{\"colorbar\":{\"outlinewidth\":0,\"ticks\":\"\"}}}],\"bar\":[{\"error_x\":{\"color\":\"#2a3f5f\"},\"error_y\":{\"color\":\"#2a3f5f\"},\"marker\":{\"line\":{\"color\":\"#E5ECF6\",\"width\":0.5},\"pattern\":{\"fillmode\":\"overlay\",\"size\":10,\"solidity\":0.2}},\"type\":\"bar\"}],\"scattergeo\":[{\"type\":\"scattergeo\",\"marker\":{\"colorbar\":{\"outlinewidth\":0,\"ticks\":\"\"}}}],\"scatterpolar\":[{\"type\":\"scatterpolar\",\"marker\":{\"colorbar\":{\"outlinewidth\":0,\"ticks\":\"\"}}}],\"histogram\":[{\"marker\":{\"pattern\":{\"fillmode\":\"overlay\",\"size\":10,\"solidity\":0.2}},\"type\":\"histogram\"}],\"scattergl\":[{\"type\":\"scattergl\",\"marker\":{\"colorbar\":{\"outlinewidth\":0,\"ticks\":\"\"}}}],\"scatter3d\":[{\"type\":\"scatter3d\",\"line\":{\"colorbar\":{\"outlinewidth\":0,\"ticks\":\"\"}},\"marker\":{\"colorbar\":{\"outlinewidth\":0,\"ticks\":\"\"}}}],\"scattermapbox\":[{\"type\":\"scattermapbox\",\"marker\":{\"colorbar\":{\"outlinewidth\":0,\"ticks\":\"\"}}}],\"scatterternary\":[{\"type\":\"scatterternary\",\"marker\":{\"colorbar\":{\"outlinewidth\":0,\"ticks\":\"\"}}}],\"scattercarpet\":[{\"type\":\"scattercarpet\",\"marker\":{\"colorbar\":{\"outlinewidth\":0,\"ticks\":\"\"}}}],\"carpet\":[{\"aaxis\":{\"endlinecolor\":\"#2a3f5f\",\"gridcolor\":\"white\",\"linecolor\":\"white\",\"minorgridcolor\":\"white\",\"startlinecolor\":\"#2a3f5f\"},\"baxis\":{\"endlinecolor\":\"#2a3f5f\",\"gridcolor\":\"white\",\"linecolor\":\"white\",\"minorgridcolor\":\"white\",\"startlinecolor\":\"#2a3f5f\"},\"type\":\"carpet\"}],\"table\":[{\"cells\":{\"fill\":{\"color\":\"#EBF0F8\"},\"line\":{\"color\":\"white\"}},\"header\":{\"fill\":{\"color\":\"#C8D4E3\"},\"line\":{\"color\":\"white\"}},\"type\":\"table\"}],\"barpolar\":[{\"marker\":{\"line\":{\"color\":\"#E5ECF6\",\"width\":0.5},\"pattern\":{\"fillmode\":\"overlay\",\"size\":10,\"solidity\":0.2}},\"type\":\"barpolar\"}],\"pie\":[{\"automargin\":true,\"type\":\"pie\"}]},\"layout\":{\"autotypenumbers\":\"strict\",\"colorway\":[\"#636efa\",\"#EF553B\",\"#00cc96\",\"#ab63fa\",\"#FFA15A\",\"#19d3f3\",\"#FF6692\",\"#B6E880\",\"#FF97FF\",\"#FECB52\"],\"font\":{\"color\":\"#2a3f5f\"},\"hovermode\":\"closest\",\"hoverlabel\":{\"align\":\"left\"},\"paper_bgcolor\":\"white\",\"plot_bgcolor\":\"#E5ECF6\",\"polar\":{\"bgcolor\":\"#E5ECF6\",\"angularaxis\":{\"gridcolor\":\"white\",\"linecolor\":\"white\",\"ticks\":\"\"},\"radialaxis\":{\"gridcolor\":\"white\",\"linecolor\":\"white\",\"ticks\":\"\"}},\"ternary\":{\"bgcolor\":\"#E5ECF6\",\"aaxis\":{\"gridcolor\":\"white\",\"linecolor\":\"white\",\"ticks\":\"\"},\"baxis\":{\"gridcolor\":\"white\",\"linecolor\":\"white\",\"ticks\":\"\"},\"caxis\":{\"gridcolor\":\"white\",\"linecolor\":\"white\",\"ticks\":\"\"}},\"coloraxis\":{\"colorbar\":{\"outlinewidth\":0,\"ticks\":\"\"}},\"colorscale\":{\"sequential\":[[0.0,\"#0d0887\"],[0.1111111111111111,\"#46039f\"],[0.2222222222222222,\"#7201a8\"],[0.3333333333333333,\"#9c179e\"],[0.4444444444444444,\"#bd3786\"],[0.5555555555555556,\"#d8576b\"],[0.6666666666666666,\"#ed7953\"],[0.7777777777777778,\"#fb9f3a\"],[0.8888888888888888,\"#fdca26\"],[1.0,\"#f0f921\"]],\"sequentialminus\":[[0.0,\"#0d0887\"],[0.1111111111111111,\"#46039f\"],[0.2222222222222222,\"#7201a8\"],[0.3333333333333333,\"#9c179e\"],[0.4444444444444444,\"#bd3786\"],[0.5555555555555556,\"#d8576b\"],[0.6666666666666666,\"#ed7953\"],[0.7777777777777778,\"#fb9f3a\"],[0.8888888888888888,\"#fdca26\"],[1.0,\"#f0f921\"]],\"diverging\":[[0,\"#8e0152\"],[0.1,\"#c51b7d\"],[0.2,\"#de77ae\"],[0.3,\"#f1b6da\"],[0.4,\"#fde0ef\"],[0.5,\"#f7f7f7\"],[0.6,\"#e6f5d0\"],[0.7,\"#b8e186\"],[0.8,\"#7fbc41\"],[0.9,\"#4d9221\"],[1,\"#276419\"]]},\"xaxis\":{\"gridcolor\":\"white\",\"linecolor\":\"white\",\"ticks\":\"\",\"title\":{\"standoff\":15},\"zerolinecolor\":\"white\",\"automargin\":true,\"zerolinewidth\":2},\"yaxis\":{\"gridcolor\":\"white\",\"linecolor\":\"white\",\"ticks\":\"\",\"title\":{\"standoff\":15},\"zerolinecolor\":\"white\",\"automargin\":true,\"zerolinewidth\":2},\"scene\":{\"xaxis\":{\"backgroundcolor\":\"#E5ECF6\",\"gridcolor\":\"white\",\"linecolor\":\"white\",\"showbackground\":true,\"ticks\":\"\",\"zerolinecolor\":\"white\",\"gridwidth\":2},\"yaxis\":{\"backgroundcolor\":\"#E5ECF6\",\"gridcolor\":\"white\",\"linecolor\":\"white\",\"showbackground\":true,\"ticks\":\"\",\"zerolinecolor\":\"white\",\"gridwidth\":2},\"zaxis\":{\"backgroundcolor\":\"#E5ECF6\",\"gridcolor\":\"white\",\"linecolor\":\"white\",\"showbackground\":true,\"ticks\":\"\",\"zerolinecolor\":\"white\",\"gridwidth\":2}},\"shapedefaults\":{\"line\":{\"color\":\"#2a3f5f\"}},\"annotationdefaults\":{\"arrowcolor\":\"#2a3f5f\",\"arrowhead\":0,\"arrowwidth\":1},\"geo\":{\"bgcolor\":\"white\",\"landcolor\":\"#E5ECF6\",\"subunitcolor\":\"white\",\"showland\":true,\"showlakes\":true,\"lakecolor\":\"white\"},\"title\":{\"x\":0.05},\"mapbox\":{\"style\":\"light\"}}},\"xaxis\":{\"anchor\":\"y\",\"domain\":[0.0,1.0],\"title\":{\"text\":\"Level of Mosaicism (%)\"},\"type\":\"log\",\"tickvals\":[0.5,2.0,10.0],\"range\":[-2,3.25]},\"yaxis\":{\"anchor\":\"x\",\"domain\":[0.0,1.0],\"title\":{\"text\":\"Precision (Alu)\"},\"range\":[0,1.1],\"tickvals\":[0,0.2,0.4,0.6,0.8,1]},\"legend\":{\"tracegroupgap\":0,\"font\":{\"size\":16},\"title\":{\"font\":{\"size\":18,\"color\":\"black\"},\"text\":\"depth\"},\"traceorder\":\"normal\",\"orientation\":\"v\",\"y\":1.1,\"x\":0.01},\"margin\":{\"t\":60},\"font\":{\"family\":\"Arial, sans-serif\",\"size\":18,\"color\":\"RebeccaPurple\"},\"width\":600,\"title\":{\"text\":\"Precision Plot-RetroSom\"}},                        {\"responsive\": true}                    ).then(function(){\n",
       "                            \n",
       "var gd = document.getElementById('b50cd989-f48d-4ffa-a3ea-395397f49357');\n",
       "var x = new MutationObserver(function (mutations, observer) {{\n",
       "        var display = window.getComputedStyle(gd).display;\n",
       "        if (!display || display === 'none') {{\n",
       "            console.log([gd, 'removed!']);\n",
       "            Plotly.purge(gd);\n",
       "            observer.disconnect();\n",
       "        }}\n",
       "}});\n",
       "\n",
       "// Listen for the removal of the full notebook cells\n",
       "var notebookContainer = gd.closest('#notebook-container');\n",
       "if (notebookContainer) {{\n",
       "    x.observe(notebookContainer, {childList: true});\n",
       "}}\n",
       "\n",
       "// Listen for the clearing of the current output cell\n",
       "var outputEl = gd.closest('.output');\n",
       "if (outputEl) {{\n",
       "    x.observe(outputEl, {childList: true});\n",
       "}}\n",
       "\n",
       "                        })                };                });            </script>        </div>"
      ]
     },
     "metadata": {},
     "output_type": "display_data"
    },
    {
     "data": {
      "application/vnd.plotly.v1+json": {
       "config": {
        "plotlyServerURL": "https://plot.ly"
       },
       "data": [
        {
         "hovertemplate": "depth=50x<br>vaf=%{x}<br>precision=%{y}<extra></extra>",
         "legendgroup": "50x",
         "line": {
          "color": "rgb(228,26,28)",
          "dash": "solid"
         },
         "marker": {
          "size": 10,
          "symbol": 1
         },
         "mode": "lines+markers",
         "name": "50x",
         "orientation": "v",
         "showlegend": true,
         "type": "scatter",
         "x": [
          0.5,
          2,
          10
         ],
         "xaxis": "x",
         "y": [
          0.014705882352941176,
          0.25,
          0.35294117647058826
         ],
         "yaxis": "y"
        },
        {
         "hovertemplate": "depth=100x<br>vaf=%{x}<br>precision=%{y}<extra></extra>",
         "legendgroup": "100x",
         "line": {
          "color": "rgb(55,126,184)",
          "dash": "solid"
         },
         "marker": {
          "size": 10,
          "symbol": 3
         },
         "mode": "lines+markers",
         "name": "100x",
         "orientation": "v",
         "showlegend": true,
         "type": "scatter",
         "x": [
          0.5,
          2,
          10
         ],
         "xaxis": "x",
         "y": [
          0,
          0.296875,
          0.328125
         ],
         "yaxis": "y"
        },
        {
         "hovertemplate": "depth=200x<br>vaf=%{x}<br>precision=%{y}<extra></extra>",
         "legendgroup": "200x",
         "line": {
          "color": "rgb(77,175,74)",
          "dash": "solid"
         },
         "marker": {
          "size": 10,
          "symbol": 16
         },
         "mode": "lines+markers",
         "name": "200x",
         "orientation": "v",
         "showlegend": true,
         "type": "scatter",
         "x": [
          0.5,
          2,
          10
         ],
         "xaxis": "x",
         "y": [
          0.0196078431372549,
          0.2549019607843137,
          0.3333333333333333
         ],
         "yaxis": "y"
        },
        {
         "hovertemplate": "depth=200x_UW<br>vaf=%{x}<br>precision=%{y}<extra></extra>",
         "legendgroup": "200x_UW",
         "line": {
          "color": "rgb(152,78,163)",
          "dash": "solid"
         },
         "marker": {
          "size": 10,
          "symbol": 17
         },
         "mode": "lines+markers",
         "name": "200x_UW",
         "orientation": "v",
         "showlegend": true,
         "type": "scatter",
         "x": [
          0.5,
          2,
          10
         ],
         "xaxis": "x",
         "y": [
          0,
          0.08333333333333333,
          0.11666666666666667
         ],
         "yaxis": "y"
        },
        {
         "hovertemplate": "depth=200x_UW_HK<br>vaf=%{x}<br>precision=%{y}<extra></extra>",
         "legendgroup": "200x_UW_HK",
         "line": {
          "color": "rgb(255,127,0)",
          "dash": "solid"
         },
         "marker": {
          "size": 10,
          "symbol": 1
         },
         "mode": "lines+markers",
         "name": "200x_UW_HK",
         "orientation": "v",
         "showlegend": true,
         "type": "scatter",
         "x": [
          0.5,
          2,
          10
         ],
         "xaxis": "x",
         "y": [
          0,
          0.29850746268656714,
          0.31343283582089554
         ],
         "yaxis": "y"
        },
        {
         "hovertemplate": "depth=200x_NYGC<br>vaf=%{x}<br>precision=%{y}<extra></extra>",
         "legendgroup": "200x_NYGC",
         "line": {
          "color": "rgb(255,255,51)",
          "dash": "solid"
         },
         "marker": {
          "size": 10,
          "symbol": 3
         },
         "mode": "lines+markers",
         "name": "200x_NYGC",
         "orientation": "v",
         "showlegend": true,
         "type": "scatter",
         "x": [
          0.5,
          2,
          10
         ],
         "xaxis": "x",
         "y": [
          0,
          0.15384615384615385,
          0.17094017094017094
         ],
         "yaxis": "y"
        },
        {
         "hovertemplate": "depth=200x_NYGC_HK<br>vaf=%{x}<br>precision=%{y}<extra></extra>",
         "legendgroup": "200x_NYGC_HK",
         "line": {
          "color": "rgb(166,86,40)",
          "dash": "solid"
         },
         "marker": {
          "size": 10,
          "symbol": 16
         },
         "mode": "lines+markers",
         "name": "200x_NYGC_HK",
         "orientation": "v",
         "showlegend": true,
         "type": "scatter",
         "x": [
          0.5,
          2,
          10
         ],
         "xaxis": "x",
         "y": [
          0.025423728813559324,
          0.423728813559322,
          0.2033898305084746
         ],
         "yaxis": "y"
        },
        {
         "hovertemplate": "depth=300x<br>vaf=%{x}<br>precision=%{y}<extra></extra>",
         "legendgroup": "300x",
         "line": {
          "color": "rgb(247,129,191)",
          "dash": "solid"
         },
         "marker": {
          "size": 10,
          "symbol": 17
         },
         "mode": "lines+markers",
         "name": "300x",
         "orientation": "v",
         "showlegend": true,
         "type": "scatter",
         "x": [
          0.5,
          2,
          10
         ],
         "xaxis": "x",
         "y": [
          0,
          0.22666666666666666,
          0.28
         ],
         "yaxis": "y"
        },
        {
         "hovertemplate": "depth=400x<br>vaf=%{x}<br>precision=%{y}<extra></extra>",
         "legendgroup": "400x",
         "line": {
          "color": "rgb(153,153,153)",
          "dash": "solid"
         },
         "marker": {
          "size": 10,
          "symbol": 1
         },
         "mode": "lines+markers",
         "name": "400x",
         "orientation": "v",
         "showlegend": true,
         "type": "scatter",
         "x": [
          0.5,
          2,
          10
         ],
         "xaxis": "x",
         "y": [
          0,
          0.13725490196078433,
          0.19607843137254902
         ],
         "yaxis": "y"
        },
        {
         "hovertemplate": "depth=500x_WashU<br>vaf=%{x}<br>precision=%{y}<extra></extra>",
         "legendgroup": "500x_WashU",
         "line": {
          "color": "rgb(228,26,28)",
          "dash": "solid"
         },
         "marker": {
          "size": 10,
          "symbol": 3
         },
         "mode": "lines+markers",
         "name": "500x_WashU",
         "orientation": "v",
         "showlegend": true,
         "type": "scatter",
         "x": [
          0.5,
          2,
          10
         ],
         "xaxis": "x",
         "y": [
          0.011363636363636364,
          0.11363636363636363,
          0.19318181818181818
         ],
         "yaxis": "y"
        }
       ],
       "layout": {
        "font": {
         "color": "RebeccaPurple",
         "family": "Arial, sans-serif",
         "size": 18
        },
        "legend": {
         "font": {
          "size": 16
         },
         "orientation": "v",
         "title": {
          "font": {
           "color": "black",
           "size": 18
          },
          "text": "depth"
         },
         "tracegroupgap": 0,
         "traceorder": "normal",
         "x": 0.01,
         "y": 1.1
        },
        "margin": {
         "t": 60
        },
        "template": {
         "data": {
          "bar": [
           {
            "error_x": {
             "color": "#2a3f5f"
            },
            "error_y": {
             "color": "#2a3f5f"
            },
            "marker": {
             "line": {
              "color": "#E5ECF6",
              "width": 0.5
             },
             "pattern": {
              "fillmode": "overlay",
              "size": 10,
              "solidity": 0.2
             }
            },
            "type": "bar"
           }
          ],
          "barpolar": [
           {
            "marker": {
             "line": {
              "color": "#E5ECF6",
              "width": 0.5
             },
             "pattern": {
              "fillmode": "overlay",
              "size": 10,
              "solidity": 0.2
             }
            },
            "type": "barpolar"
           }
          ],
          "carpet": [
           {
            "aaxis": {
             "endlinecolor": "#2a3f5f",
             "gridcolor": "white",
             "linecolor": "white",
             "minorgridcolor": "white",
             "startlinecolor": "#2a3f5f"
            },
            "baxis": {
             "endlinecolor": "#2a3f5f",
             "gridcolor": "white",
             "linecolor": "white",
             "minorgridcolor": "white",
             "startlinecolor": "#2a3f5f"
            },
            "type": "carpet"
           }
          ],
          "choropleth": [
           {
            "colorbar": {
             "outlinewidth": 0,
             "ticks": ""
            },
            "type": "choropleth"
           }
          ],
          "contour": [
           {
            "colorbar": {
             "outlinewidth": 0,
             "ticks": ""
            },
            "colorscale": [
             [
              0,
              "#0d0887"
             ],
             [
              0.1111111111111111,
              "#46039f"
             ],
             [
              0.2222222222222222,
              "#7201a8"
             ],
             [
              0.3333333333333333,
              "#9c179e"
             ],
             [
              0.4444444444444444,
              "#bd3786"
             ],
             [
              0.5555555555555556,
              "#d8576b"
             ],
             [
              0.6666666666666666,
              "#ed7953"
             ],
             [
              0.7777777777777778,
              "#fb9f3a"
             ],
             [
              0.8888888888888888,
              "#fdca26"
             ],
             [
              1,
              "#f0f921"
             ]
            ],
            "type": "contour"
           }
          ],
          "contourcarpet": [
           {
            "colorbar": {
             "outlinewidth": 0,
             "ticks": ""
            },
            "type": "contourcarpet"
           }
          ],
          "heatmap": [
           {
            "colorbar": {
             "outlinewidth": 0,
             "ticks": ""
            },
            "colorscale": [
             [
              0,
              "#0d0887"
             ],
             [
              0.1111111111111111,
              "#46039f"
             ],
             [
              0.2222222222222222,
              "#7201a8"
             ],
             [
              0.3333333333333333,
              "#9c179e"
             ],
             [
              0.4444444444444444,
              "#bd3786"
             ],
             [
              0.5555555555555556,
              "#d8576b"
             ],
             [
              0.6666666666666666,
              "#ed7953"
             ],
             [
              0.7777777777777778,
              "#fb9f3a"
             ],
             [
              0.8888888888888888,
              "#fdca26"
             ],
             [
              1,
              "#f0f921"
             ]
            ],
            "type": "heatmap"
           }
          ],
          "heatmapgl": [
           {
            "colorbar": {
             "outlinewidth": 0,
             "ticks": ""
            },
            "colorscale": [
             [
              0,
              "#0d0887"
             ],
             [
              0.1111111111111111,
              "#46039f"
             ],
             [
              0.2222222222222222,
              "#7201a8"
             ],
             [
              0.3333333333333333,
              "#9c179e"
             ],
             [
              0.4444444444444444,
              "#bd3786"
             ],
             [
              0.5555555555555556,
              "#d8576b"
             ],
             [
              0.6666666666666666,
              "#ed7953"
             ],
             [
              0.7777777777777778,
              "#fb9f3a"
             ],
             [
              0.8888888888888888,
              "#fdca26"
             ],
             [
              1,
              "#f0f921"
             ]
            ],
            "type": "heatmapgl"
           }
          ],
          "histogram": [
           {
            "marker": {
             "pattern": {
              "fillmode": "overlay",
              "size": 10,
              "solidity": 0.2
             }
            },
            "type": "histogram"
           }
          ],
          "histogram2d": [
           {
            "colorbar": {
             "outlinewidth": 0,
             "ticks": ""
            },
            "colorscale": [
             [
              0,
              "#0d0887"
             ],
             [
              0.1111111111111111,
              "#46039f"
             ],
             [
              0.2222222222222222,
              "#7201a8"
             ],
             [
              0.3333333333333333,
              "#9c179e"
             ],
             [
              0.4444444444444444,
              "#bd3786"
             ],
             [
              0.5555555555555556,
              "#d8576b"
             ],
             [
              0.6666666666666666,
              "#ed7953"
             ],
             [
              0.7777777777777778,
              "#fb9f3a"
             ],
             [
              0.8888888888888888,
              "#fdca26"
             ],
             [
              1,
              "#f0f921"
             ]
            ],
            "type": "histogram2d"
           }
          ],
          "histogram2dcontour": [
           {
            "colorbar": {
             "outlinewidth": 0,
             "ticks": ""
            },
            "colorscale": [
             [
              0,
              "#0d0887"
             ],
             [
              0.1111111111111111,
              "#46039f"
             ],
             [
              0.2222222222222222,
              "#7201a8"
             ],
             [
              0.3333333333333333,
              "#9c179e"
             ],
             [
              0.4444444444444444,
              "#bd3786"
             ],
             [
              0.5555555555555556,
              "#d8576b"
             ],
             [
              0.6666666666666666,
              "#ed7953"
             ],
             [
              0.7777777777777778,
              "#fb9f3a"
             ],
             [
              0.8888888888888888,
              "#fdca26"
             ],
             [
              1,
              "#f0f921"
             ]
            ],
            "type": "histogram2dcontour"
           }
          ],
          "mesh3d": [
           {
            "colorbar": {
             "outlinewidth": 0,
             "ticks": ""
            },
            "type": "mesh3d"
           }
          ],
          "parcoords": [
           {
            "line": {
             "colorbar": {
              "outlinewidth": 0,
              "ticks": ""
             }
            },
            "type": "parcoords"
           }
          ],
          "pie": [
           {
            "automargin": true,
            "type": "pie"
           }
          ],
          "scatter": [
           {
            "fillpattern": {
             "fillmode": "overlay",
             "size": 10,
             "solidity": 0.2
            },
            "type": "scatter"
           }
          ],
          "scatter3d": [
           {
            "line": {
             "colorbar": {
              "outlinewidth": 0,
              "ticks": ""
             }
            },
            "marker": {
             "colorbar": {
              "outlinewidth": 0,
              "ticks": ""
             }
            },
            "type": "scatter3d"
           }
          ],
          "scattercarpet": [
           {
            "marker": {
             "colorbar": {
              "outlinewidth": 0,
              "ticks": ""
             }
            },
            "type": "scattercarpet"
           }
          ],
          "scattergeo": [
           {
            "marker": {
             "colorbar": {
              "outlinewidth": 0,
              "ticks": ""
             }
            },
            "type": "scattergeo"
           }
          ],
          "scattergl": [
           {
            "marker": {
             "colorbar": {
              "outlinewidth": 0,
              "ticks": ""
             }
            },
            "type": "scattergl"
           }
          ],
          "scattermapbox": [
           {
            "marker": {
             "colorbar": {
              "outlinewidth": 0,
              "ticks": ""
             }
            },
            "type": "scattermapbox"
           }
          ],
          "scatterpolar": [
           {
            "marker": {
             "colorbar": {
              "outlinewidth": 0,
              "ticks": ""
             }
            },
            "type": "scatterpolar"
           }
          ],
          "scatterpolargl": [
           {
            "marker": {
             "colorbar": {
              "outlinewidth": 0,
              "ticks": ""
             }
            },
            "type": "scatterpolargl"
           }
          ],
          "scatterternary": [
           {
            "marker": {
             "colorbar": {
              "outlinewidth": 0,
              "ticks": ""
             }
            },
            "type": "scatterternary"
           }
          ],
          "surface": [
           {
            "colorbar": {
             "outlinewidth": 0,
             "ticks": ""
            },
            "colorscale": [
             [
              0,
              "#0d0887"
             ],
             [
              0.1111111111111111,
              "#46039f"
             ],
             [
              0.2222222222222222,
              "#7201a8"
             ],
             [
              0.3333333333333333,
              "#9c179e"
             ],
             [
              0.4444444444444444,
              "#bd3786"
             ],
             [
              0.5555555555555556,
              "#d8576b"
             ],
             [
              0.6666666666666666,
              "#ed7953"
             ],
             [
              0.7777777777777778,
              "#fb9f3a"
             ],
             [
              0.8888888888888888,
              "#fdca26"
             ],
             [
              1,
              "#f0f921"
             ]
            ],
            "type": "surface"
           }
          ],
          "table": [
           {
            "cells": {
             "fill": {
              "color": "#EBF0F8"
             },
             "line": {
              "color": "white"
             }
            },
            "header": {
             "fill": {
              "color": "#C8D4E3"
             },
             "line": {
              "color": "white"
             }
            },
            "type": "table"
           }
          ]
         },
         "layout": {
          "annotationdefaults": {
           "arrowcolor": "#2a3f5f",
           "arrowhead": 0,
           "arrowwidth": 1
          },
          "autotypenumbers": "strict",
          "coloraxis": {
           "colorbar": {
            "outlinewidth": 0,
            "ticks": ""
           }
          },
          "colorscale": {
           "diverging": [
            [
             0,
             "#8e0152"
            ],
            [
             0.1,
             "#c51b7d"
            ],
            [
             0.2,
             "#de77ae"
            ],
            [
             0.3,
             "#f1b6da"
            ],
            [
             0.4,
             "#fde0ef"
            ],
            [
             0.5,
             "#f7f7f7"
            ],
            [
             0.6,
             "#e6f5d0"
            ],
            [
             0.7,
             "#b8e186"
            ],
            [
             0.8,
             "#7fbc41"
            ],
            [
             0.9,
             "#4d9221"
            ],
            [
             1,
             "#276419"
            ]
           ],
           "sequential": [
            [
             0,
             "#0d0887"
            ],
            [
             0.1111111111111111,
             "#46039f"
            ],
            [
             0.2222222222222222,
             "#7201a8"
            ],
            [
             0.3333333333333333,
             "#9c179e"
            ],
            [
             0.4444444444444444,
             "#bd3786"
            ],
            [
             0.5555555555555556,
             "#d8576b"
            ],
            [
             0.6666666666666666,
             "#ed7953"
            ],
            [
             0.7777777777777778,
             "#fb9f3a"
            ],
            [
             0.8888888888888888,
             "#fdca26"
            ],
            [
             1,
             "#f0f921"
            ]
           ],
           "sequentialminus": [
            [
             0,
             "#0d0887"
            ],
            [
             0.1111111111111111,
             "#46039f"
            ],
            [
             0.2222222222222222,
             "#7201a8"
            ],
            [
             0.3333333333333333,
             "#9c179e"
            ],
            [
             0.4444444444444444,
             "#bd3786"
            ],
            [
             0.5555555555555556,
             "#d8576b"
            ],
            [
             0.6666666666666666,
             "#ed7953"
            ],
            [
             0.7777777777777778,
             "#fb9f3a"
            ],
            [
             0.8888888888888888,
             "#fdca26"
            ],
            [
             1,
             "#f0f921"
            ]
           ]
          },
          "colorway": [
           "#636efa",
           "#EF553B",
           "#00cc96",
           "#ab63fa",
           "#FFA15A",
           "#19d3f3",
           "#FF6692",
           "#B6E880",
           "#FF97FF",
           "#FECB52"
          ],
          "font": {
           "color": "#2a3f5f"
          },
          "geo": {
           "bgcolor": "white",
           "lakecolor": "white",
           "landcolor": "#E5ECF6",
           "showlakes": true,
           "showland": true,
           "subunitcolor": "white"
          },
          "hoverlabel": {
           "align": "left"
          },
          "hovermode": "closest",
          "mapbox": {
           "style": "light"
          },
          "paper_bgcolor": "white",
          "plot_bgcolor": "#E5ECF6",
          "polar": {
           "angularaxis": {
            "gridcolor": "white",
            "linecolor": "white",
            "ticks": ""
           },
           "bgcolor": "#E5ECF6",
           "radialaxis": {
            "gridcolor": "white",
            "linecolor": "white",
            "ticks": ""
           }
          },
          "scene": {
           "xaxis": {
            "backgroundcolor": "#E5ECF6",
            "gridcolor": "white",
            "gridwidth": 2,
            "linecolor": "white",
            "showbackground": true,
            "ticks": "",
            "zerolinecolor": "white"
           },
           "yaxis": {
            "backgroundcolor": "#E5ECF6",
            "gridcolor": "white",
            "gridwidth": 2,
            "linecolor": "white",
            "showbackground": true,
            "ticks": "",
            "zerolinecolor": "white"
           },
           "zaxis": {
            "backgroundcolor": "#E5ECF6",
            "gridcolor": "white",
            "gridwidth": 2,
            "linecolor": "white",
            "showbackground": true,
            "ticks": "",
            "zerolinecolor": "white"
           }
          },
          "shapedefaults": {
           "line": {
            "color": "#2a3f5f"
           }
          },
          "ternary": {
           "aaxis": {
            "gridcolor": "white",
            "linecolor": "white",
            "ticks": ""
           },
           "baxis": {
            "gridcolor": "white",
            "linecolor": "white",
            "ticks": ""
           },
           "bgcolor": "#E5ECF6",
           "caxis": {
            "gridcolor": "white",
            "linecolor": "white",
            "ticks": ""
           }
          },
          "title": {
           "x": 0.05
          },
          "xaxis": {
           "automargin": true,
           "gridcolor": "white",
           "linecolor": "white",
           "ticks": "",
           "title": {
            "standoff": 15
           },
           "zerolinecolor": "white",
           "zerolinewidth": 2
          },
          "yaxis": {
           "automargin": true,
           "gridcolor": "white",
           "linecolor": "white",
           "ticks": "",
           "title": {
            "standoff": 15
           },
           "zerolinecolor": "white",
           "zerolinewidth": 2
          }
         }
        },
        "title": {
         "text": "Precision Plot-RetroSom"
        },
        "width": 600,
        "xaxis": {
         "anchor": "y",
         "domain": [
          0,
          1
         ],
         "range": [
          -2,
          3.25
         ],
         "tickvals": [
          0.5,
          2,
          10
         ],
         "title": {
          "text": "Level of Mosaicism (%)"
         },
         "type": "log"
        },
        "yaxis": {
         "anchor": "x",
         "domain": [
          0,
          1
         ],
         "range": [
          0,
          1.1
         ],
         "tickvals": [
          0,
          0.2,
          0.4,
          0.6,
          0.8,
          1
         ],
         "title": {
          "text": "Precision (L1)"
         }
        }
       }
      },
      "text/html": [
       "<div>                            <div id=\"994846f0-3a86-43cf-919e-0a6282f04b24\" class=\"plotly-graph-div\" style=\"height:525px; width:600px;\"></div>            <script type=\"text/javascript\">                require([\"plotly\"], function(Plotly) {                    window.PLOTLYENV=window.PLOTLYENV || {};                                    if (document.getElementById(\"994846f0-3a86-43cf-919e-0a6282f04b24\")) {                    Plotly.newPlot(                        \"994846f0-3a86-43cf-919e-0a6282f04b24\",                        [{\"hovertemplate\":\"depth=50x\\u003cbr\\u003evaf=%{x}\\u003cbr\\u003eprecision=%{y}\\u003cextra\\u003e\\u003c\\u002fextra\\u003e\",\"legendgroup\":\"50x\",\"line\":{\"color\":\"rgb(228,26,28)\",\"dash\":\"solid\"},\"marker\":{\"symbol\":1,\"size\":10},\"mode\":\"lines+markers\",\"name\":\"50x\",\"orientation\":\"v\",\"showlegend\":true,\"x\":[0.5,2.0,10.0],\"xaxis\":\"x\",\"y\":[0.014705882352941176,0.25,0.35294117647058826],\"yaxis\":\"y\",\"type\":\"scatter\"},{\"hovertemplate\":\"depth=100x\\u003cbr\\u003evaf=%{x}\\u003cbr\\u003eprecision=%{y}\\u003cextra\\u003e\\u003c\\u002fextra\\u003e\",\"legendgroup\":\"100x\",\"line\":{\"color\":\"rgb(55,126,184)\",\"dash\":\"solid\"},\"marker\":{\"symbol\":3,\"size\":10},\"mode\":\"lines+markers\",\"name\":\"100x\",\"orientation\":\"v\",\"showlegend\":true,\"x\":[0.5,2.0,10.0],\"xaxis\":\"x\",\"y\":[0.0,0.296875,0.328125],\"yaxis\":\"y\",\"type\":\"scatter\"},{\"hovertemplate\":\"depth=200x\\u003cbr\\u003evaf=%{x}\\u003cbr\\u003eprecision=%{y}\\u003cextra\\u003e\\u003c\\u002fextra\\u003e\",\"legendgroup\":\"200x\",\"line\":{\"color\":\"rgb(77,175,74)\",\"dash\":\"solid\"},\"marker\":{\"symbol\":16,\"size\":10},\"mode\":\"lines+markers\",\"name\":\"200x\",\"orientation\":\"v\",\"showlegend\":true,\"x\":[0.5,2.0,10.0],\"xaxis\":\"x\",\"y\":[0.0196078431372549,0.2549019607843137,0.3333333333333333],\"yaxis\":\"y\",\"type\":\"scatter\"},{\"hovertemplate\":\"depth=200x_UW\\u003cbr\\u003evaf=%{x}\\u003cbr\\u003eprecision=%{y}\\u003cextra\\u003e\\u003c\\u002fextra\\u003e\",\"legendgroup\":\"200x_UW\",\"line\":{\"color\":\"rgb(152,78,163)\",\"dash\":\"solid\"},\"marker\":{\"symbol\":17,\"size\":10},\"mode\":\"lines+markers\",\"name\":\"200x_UW\",\"orientation\":\"v\",\"showlegend\":true,\"x\":[0.5,2.0,10.0],\"xaxis\":\"x\",\"y\":[0.0,0.08333333333333333,0.11666666666666667],\"yaxis\":\"y\",\"type\":\"scatter\"},{\"hovertemplate\":\"depth=200x_UW_HK\\u003cbr\\u003evaf=%{x}\\u003cbr\\u003eprecision=%{y}\\u003cextra\\u003e\\u003c\\u002fextra\\u003e\",\"legendgroup\":\"200x_UW_HK\",\"line\":{\"color\":\"rgb(255,127,0)\",\"dash\":\"solid\"},\"marker\":{\"symbol\":1,\"size\":10},\"mode\":\"lines+markers\",\"name\":\"200x_UW_HK\",\"orientation\":\"v\",\"showlegend\":true,\"x\":[0.5,2.0,10.0],\"xaxis\":\"x\",\"y\":[0.0,0.29850746268656714,0.31343283582089554],\"yaxis\":\"y\",\"type\":\"scatter\"},{\"hovertemplate\":\"depth=200x_NYGC\\u003cbr\\u003evaf=%{x}\\u003cbr\\u003eprecision=%{y}\\u003cextra\\u003e\\u003c\\u002fextra\\u003e\",\"legendgroup\":\"200x_NYGC\",\"line\":{\"color\":\"rgb(255,255,51)\",\"dash\":\"solid\"},\"marker\":{\"symbol\":3,\"size\":10},\"mode\":\"lines+markers\",\"name\":\"200x_NYGC\",\"orientation\":\"v\",\"showlegend\":true,\"x\":[0.5,2.0,10.0],\"xaxis\":\"x\",\"y\":[0.0,0.15384615384615385,0.17094017094017094],\"yaxis\":\"y\",\"type\":\"scatter\"},{\"hovertemplate\":\"depth=200x_NYGC_HK\\u003cbr\\u003evaf=%{x}\\u003cbr\\u003eprecision=%{y}\\u003cextra\\u003e\\u003c\\u002fextra\\u003e\",\"legendgroup\":\"200x_NYGC_HK\",\"line\":{\"color\":\"rgb(166,86,40)\",\"dash\":\"solid\"},\"marker\":{\"symbol\":16,\"size\":10},\"mode\":\"lines+markers\",\"name\":\"200x_NYGC_HK\",\"orientation\":\"v\",\"showlegend\":true,\"x\":[0.5,2.0,10.0],\"xaxis\":\"x\",\"y\":[0.025423728813559324,0.423728813559322,0.2033898305084746],\"yaxis\":\"y\",\"type\":\"scatter\"},{\"hovertemplate\":\"depth=300x\\u003cbr\\u003evaf=%{x}\\u003cbr\\u003eprecision=%{y}\\u003cextra\\u003e\\u003c\\u002fextra\\u003e\",\"legendgroup\":\"300x\",\"line\":{\"color\":\"rgb(247,129,191)\",\"dash\":\"solid\"},\"marker\":{\"symbol\":17,\"size\":10},\"mode\":\"lines+markers\",\"name\":\"300x\",\"orientation\":\"v\",\"showlegend\":true,\"x\":[0.5,2.0,10.0],\"xaxis\":\"x\",\"y\":[0.0,0.22666666666666666,0.28],\"yaxis\":\"y\",\"type\":\"scatter\"},{\"hovertemplate\":\"depth=400x\\u003cbr\\u003evaf=%{x}\\u003cbr\\u003eprecision=%{y}\\u003cextra\\u003e\\u003c\\u002fextra\\u003e\",\"legendgroup\":\"400x\",\"line\":{\"color\":\"rgb(153,153,153)\",\"dash\":\"solid\"},\"marker\":{\"symbol\":1,\"size\":10},\"mode\":\"lines+markers\",\"name\":\"400x\",\"orientation\":\"v\",\"showlegend\":true,\"x\":[0.5,2.0,10.0],\"xaxis\":\"x\",\"y\":[0.0,0.13725490196078433,0.19607843137254902],\"yaxis\":\"y\",\"type\":\"scatter\"},{\"hovertemplate\":\"depth=500x_WashU\\u003cbr\\u003evaf=%{x}\\u003cbr\\u003eprecision=%{y}\\u003cextra\\u003e\\u003c\\u002fextra\\u003e\",\"legendgroup\":\"500x_WashU\",\"line\":{\"color\":\"rgb(228,26,28)\",\"dash\":\"solid\"},\"marker\":{\"symbol\":3,\"size\":10},\"mode\":\"lines+markers\",\"name\":\"500x_WashU\",\"orientation\":\"v\",\"showlegend\":true,\"x\":[0.5,2.0,10.0],\"xaxis\":\"x\",\"y\":[0.011363636363636364,0.11363636363636363,0.19318181818181818],\"yaxis\":\"y\",\"type\":\"scatter\"}],                        {\"template\":{\"data\":{\"histogram2dcontour\":[{\"type\":\"histogram2dcontour\",\"colorbar\":{\"outlinewidth\":0,\"ticks\":\"\"},\"colorscale\":[[0.0,\"#0d0887\"],[0.1111111111111111,\"#46039f\"],[0.2222222222222222,\"#7201a8\"],[0.3333333333333333,\"#9c179e\"],[0.4444444444444444,\"#bd3786\"],[0.5555555555555556,\"#d8576b\"],[0.6666666666666666,\"#ed7953\"],[0.7777777777777778,\"#fb9f3a\"],[0.8888888888888888,\"#fdca26\"],[1.0,\"#f0f921\"]]}],\"choropleth\":[{\"type\":\"choropleth\",\"colorbar\":{\"outlinewidth\":0,\"ticks\":\"\"}}],\"histogram2d\":[{\"type\":\"histogram2d\",\"colorbar\":{\"outlinewidth\":0,\"ticks\":\"\"},\"colorscale\":[[0.0,\"#0d0887\"],[0.1111111111111111,\"#46039f\"],[0.2222222222222222,\"#7201a8\"],[0.3333333333333333,\"#9c179e\"],[0.4444444444444444,\"#bd3786\"],[0.5555555555555556,\"#d8576b\"],[0.6666666666666666,\"#ed7953\"],[0.7777777777777778,\"#fb9f3a\"],[0.8888888888888888,\"#fdca26\"],[1.0,\"#f0f921\"]]}],\"heatmap\":[{\"type\":\"heatmap\",\"colorbar\":{\"outlinewidth\":0,\"ticks\":\"\"},\"colorscale\":[[0.0,\"#0d0887\"],[0.1111111111111111,\"#46039f\"],[0.2222222222222222,\"#7201a8\"],[0.3333333333333333,\"#9c179e\"],[0.4444444444444444,\"#bd3786\"],[0.5555555555555556,\"#d8576b\"],[0.6666666666666666,\"#ed7953\"],[0.7777777777777778,\"#fb9f3a\"],[0.8888888888888888,\"#fdca26\"],[1.0,\"#f0f921\"]]}],\"heatmapgl\":[{\"type\":\"heatmapgl\",\"colorbar\":{\"outlinewidth\":0,\"ticks\":\"\"},\"colorscale\":[[0.0,\"#0d0887\"],[0.1111111111111111,\"#46039f\"],[0.2222222222222222,\"#7201a8\"],[0.3333333333333333,\"#9c179e\"],[0.4444444444444444,\"#bd3786\"],[0.5555555555555556,\"#d8576b\"],[0.6666666666666666,\"#ed7953\"],[0.7777777777777778,\"#fb9f3a\"],[0.8888888888888888,\"#fdca26\"],[1.0,\"#f0f921\"]]}],\"contourcarpet\":[{\"type\":\"contourcarpet\",\"colorbar\":{\"outlinewidth\":0,\"ticks\":\"\"}}],\"contour\":[{\"type\":\"contour\",\"colorbar\":{\"outlinewidth\":0,\"ticks\":\"\"},\"colorscale\":[[0.0,\"#0d0887\"],[0.1111111111111111,\"#46039f\"],[0.2222222222222222,\"#7201a8\"],[0.3333333333333333,\"#9c179e\"],[0.4444444444444444,\"#bd3786\"],[0.5555555555555556,\"#d8576b\"],[0.6666666666666666,\"#ed7953\"],[0.7777777777777778,\"#fb9f3a\"],[0.8888888888888888,\"#fdca26\"],[1.0,\"#f0f921\"]]}],\"surface\":[{\"type\":\"surface\",\"colorbar\":{\"outlinewidth\":0,\"ticks\":\"\"},\"colorscale\":[[0.0,\"#0d0887\"],[0.1111111111111111,\"#46039f\"],[0.2222222222222222,\"#7201a8\"],[0.3333333333333333,\"#9c179e\"],[0.4444444444444444,\"#bd3786\"],[0.5555555555555556,\"#d8576b\"],[0.6666666666666666,\"#ed7953\"],[0.7777777777777778,\"#fb9f3a\"],[0.8888888888888888,\"#fdca26\"],[1.0,\"#f0f921\"]]}],\"mesh3d\":[{\"type\":\"mesh3d\",\"colorbar\":{\"outlinewidth\":0,\"ticks\":\"\"}}],\"scatter\":[{\"fillpattern\":{\"fillmode\":\"overlay\",\"size\":10,\"solidity\":0.2},\"type\":\"scatter\"}],\"parcoords\":[{\"type\":\"parcoords\",\"line\":{\"colorbar\":{\"outlinewidth\":0,\"ticks\":\"\"}}}],\"scatterpolargl\":[{\"type\":\"scatterpolargl\",\"marker\":{\"colorbar\":{\"outlinewidth\":0,\"ticks\":\"\"}}}],\"bar\":[{\"error_x\":{\"color\":\"#2a3f5f\"},\"error_y\":{\"color\":\"#2a3f5f\"},\"marker\":{\"line\":{\"color\":\"#E5ECF6\",\"width\":0.5},\"pattern\":{\"fillmode\":\"overlay\",\"size\":10,\"solidity\":0.2}},\"type\":\"bar\"}],\"scattergeo\":[{\"type\":\"scattergeo\",\"marker\":{\"colorbar\":{\"outlinewidth\":0,\"ticks\":\"\"}}}],\"scatterpolar\":[{\"type\":\"scatterpolar\",\"marker\":{\"colorbar\":{\"outlinewidth\":0,\"ticks\":\"\"}}}],\"histogram\":[{\"marker\":{\"pattern\":{\"fillmode\":\"overlay\",\"size\":10,\"solidity\":0.2}},\"type\":\"histogram\"}],\"scattergl\":[{\"type\":\"scattergl\",\"marker\":{\"colorbar\":{\"outlinewidth\":0,\"ticks\":\"\"}}}],\"scatter3d\":[{\"type\":\"scatter3d\",\"line\":{\"colorbar\":{\"outlinewidth\":0,\"ticks\":\"\"}},\"marker\":{\"colorbar\":{\"outlinewidth\":0,\"ticks\":\"\"}}}],\"scattermapbox\":[{\"type\":\"scattermapbox\",\"marker\":{\"colorbar\":{\"outlinewidth\":0,\"ticks\":\"\"}}}],\"scatterternary\":[{\"type\":\"scatterternary\",\"marker\":{\"colorbar\":{\"outlinewidth\":0,\"ticks\":\"\"}}}],\"scattercarpet\":[{\"type\":\"scattercarpet\",\"marker\":{\"colorbar\":{\"outlinewidth\":0,\"ticks\":\"\"}}}],\"carpet\":[{\"aaxis\":{\"endlinecolor\":\"#2a3f5f\",\"gridcolor\":\"white\",\"linecolor\":\"white\",\"minorgridcolor\":\"white\",\"startlinecolor\":\"#2a3f5f\"},\"baxis\":{\"endlinecolor\":\"#2a3f5f\",\"gridcolor\":\"white\",\"linecolor\":\"white\",\"minorgridcolor\":\"white\",\"startlinecolor\":\"#2a3f5f\"},\"type\":\"carpet\"}],\"table\":[{\"cells\":{\"fill\":{\"color\":\"#EBF0F8\"},\"line\":{\"color\":\"white\"}},\"header\":{\"fill\":{\"color\":\"#C8D4E3\"},\"line\":{\"color\":\"white\"}},\"type\":\"table\"}],\"barpolar\":[{\"marker\":{\"line\":{\"color\":\"#E5ECF6\",\"width\":0.5},\"pattern\":{\"fillmode\":\"overlay\",\"size\":10,\"solidity\":0.2}},\"type\":\"barpolar\"}],\"pie\":[{\"automargin\":true,\"type\":\"pie\"}]},\"layout\":{\"autotypenumbers\":\"strict\",\"colorway\":[\"#636efa\",\"#EF553B\",\"#00cc96\",\"#ab63fa\",\"#FFA15A\",\"#19d3f3\",\"#FF6692\",\"#B6E880\",\"#FF97FF\",\"#FECB52\"],\"font\":{\"color\":\"#2a3f5f\"},\"hovermode\":\"closest\",\"hoverlabel\":{\"align\":\"left\"},\"paper_bgcolor\":\"white\",\"plot_bgcolor\":\"#E5ECF6\",\"polar\":{\"bgcolor\":\"#E5ECF6\",\"angularaxis\":{\"gridcolor\":\"white\",\"linecolor\":\"white\",\"ticks\":\"\"},\"radialaxis\":{\"gridcolor\":\"white\",\"linecolor\":\"white\",\"ticks\":\"\"}},\"ternary\":{\"bgcolor\":\"#E5ECF6\",\"aaxis\":{\"gridcolor\":\"white\",\"linecolor\":\"white\",\"ticks\":\"\"},\"baxis\":{\"gridcolor\":\"white\",\"linecolor\":\"white\",\"ticks\":\"\"},\"caxis\":{\"gridcolor\":\"white\",\"linecolor\":\"white\",\"ticks\":\"\"}},\"coloraxis\":{\"colorbar\":{\"outlinewidth\":0,\"ticks\":\"\"}},\"colorscale\":{\"sequential\":[[0.0,\"#0d0887\"],[0.1111111111111111,\"#46039f\"],[0.2222222222222222,\"#7201a8\"],[0.3333333333333333,\"#9c179e\"],[0.4444444444444444,\"#bd3786\"],[0.5555555555555556,\"#d8576b\"],[0.6666666666666666,\"#ed7953\"],[0.7777777777777778,\"#fb9f3a\"],[0.8888888888888888,\"#fdca26\"],[1.0,\"#f0f921\"]],\"sequentialminus\":[[0.0,\"#0d0887\"],[0.1111111111111111,\"#46039f\"],[0.2222222222222222,\"#7201a8\"],[0.3333333333333333,\"#9c179e\"],[0.4444444444444444,\"#bd3786\"],[0.5555555555555556,\"#d8576b\"],[0.6666666666666666,\"#ed7953\"],[0.7777777777777778,\"#fb9f3a\"],[0.8888888888888888,\"#fdca26\"],[1.0,\"#f0f921\"]],\"diverging\":[[0,\"#8e0152\"],[0.1,\"#c51b7d\"],[0.2,\"#de77ae\"],[0.3,\"#f1b6da\"],[0.4,\"#fde0ef\"],[0.5,\"#f7f7f7\"],[0.6,\"#e6f5d0\"],[0.7,\"#b8e186\"],[0.8,\"#7fbc41\"],[0.9,\"#4d9221\"],[1,\"#276419\"]]},\"xaxis\":{\"gridcolor\":\"white\",\"linecolor\":\"white\",\"ticks\":\"\",\"title\":{\"standoff\":15},\"zerolinecolor\":\"white\",\"automargin\":true,\"zerolinewidth\":2},\"yaxis\":{\"gridcolor\":\"white\",\"linecolor\":\"white\",\"ticks\":\"\",\"title\":{\"standoff\":15},\"zerolinecolor\":\"white\",\"automargin\":true,\"zerolinewidth\":2},\"scene\":{\"xaxis\":{\"backgroundcolor\":\"#E5ECF6\",\"gridcolor\":\"white\",\"linecolor\":\"white\",\"showbackground\":true,\"ticks\":\"\",\"zerolinecolor\":\"white\",\"gridwidth\":2},\"yaxis\":{\"backgroundcolor\":\"#E5ECF6\",\"gridcolor\":\"white\",\"linecolor\":\"white\",\"showbackground\":true,\"ticks\":\"\",\"zerolinecolor\":\"white\",\"gridwidth\":2},\"zaxis\":{\"backgroundcolor\":\"#E5ECF6\",\"gridcolor\":\"white\",\"linecolor\":\"white\",\"showbackground\":true,\"ticks\":\"\",\"zerolinecolor\":\"white\",\"gridwidth\":2}},\"shapedefaults\":{\"line\":{\"color\":\"#2a3f5f\"}},\"annotationdefaults\":{\"arrowcolor\":\"#2a3f5f\",\"arrowhead\":0,\"arrowwidth\":1},\"geo\":{\"bgcolor\":\"white\",\"landcolor\":\"#E5ECF6\",\"subunitcolor\":\"white\",\"showland\":true,\"showlakes\":true,\"lakecolor\":\"white\"},\"title\":{\"x\":0.05},\"mapbox\":{\"style\":\"light\"}}},\"xaxis\":{\"anchor\":\"y\",\"domain\":[0.0,1.0],\"title\":{\"text\":\"Level of Mosaicism (%)\"},\"type\":\"log\",\"tickvals\":[0.5,2.0,10.0],\"range\":[-2,3.25]},\"yaxis\":{\"anchor\":\"x\",\"domain\":[0.0,1.0],\"title\":{\"text\":\"Precision (L1)\"},\"range\":[0,1.1],\"tickvals\":[0,0.2,0.4,0.6,0.8,1]},\"legend\":{\"title\":{\"text\":\"depth\",\"font\":{\"size\":18,\"color\":\"black\"}},\"tracegroupgap\":0,\"font\":{\"size\":16},\"traceorder\":\"normal\",\"orientation\":\"v\",\"y\":1.1,\"x\":0.01},\"margin\":{\"t\":60},\"font\":{\"family\":\"Arial, sans-serif\",\"size\":18,\"color\":\"RebeccaPurple\"},\"width\":600,\"title\":{\"text\":\"Precision Plot-RetroSom\"}},                        {\"responsive\": true}                    ).then(function(){\n",
       "                            \n",
       "var gd = document.getElementById('994846f0-3a86-43cf-919e-0a6282f04b24');\n",
       "var x = new MutationObserver(function (mutations, observer) {{\n",
       "        var display = window.getComputedStyle(gd).display;\n",
       "        if (!display || display === 'none') {{\n",
       "            console.log([gd, 'removed!']);\n",
       "            Plotly.purge(gd);\n",
       "            observer.disconnect();\n",
       "        }}\n",
       "}});\n",
       "\n",
       "// Listen for the removal of the full notebook cells\n",
       "var notebookContainer = gd.closest('#notebook-container');\n",
       "if (notebookContainer) {{\n",
       "    x.observe(notebookContainer, {childList: true});\n",
       "}}\n",
       "\n",
       "// Listen for the clearing of the current output cell\n",
       "var outputEl = gd.closest('.output');\n",
       "if (outputEl) {{\n",
       "    x.observe(outputEl, {childList: true});\n",
       "}}\n",
       "\n",
       "                        })                };                });            </script>        </div>"
      ]
     },
     "metadata": {},
     "output_type": "display_data"
    },
    {
     "data": {
      "application/vnd.plotly.v1+json": {
       "config": {
        "plotlyServerURL": "https://plot.ly"
       },
       "data": [],
       "layout": {
        "font": {
         "color": "RebeccaPurple",
         "family": "Arial, sans-serif",
         "size": 18
        },
        "legend": {
         "font": {
          "size": 16
         },
         "orientation": "v",
         "title": {
          "font": {
           "color": "black",
           "size": 18
          },
          "text": "depth"
         },
         "tracegroupgap": 0,
         "traceorder": "normal",
         "x": 0.01,
         "y": 1.1
        },
        "margin": {
         "t": 60
        },
        "template": {
         "data": {
          "bar": [
           {
            "error_x": {
             "color": "#2a3f5f"
            },
            "error_y": {
             "color": "#2a3f5f"
            },
            "marker": {
             "line": {
              "color": "#E5ECF6",
              "width": 0.5
             },
             "pattern": {
              "fillmode": "overlay",
              "size": 10,
              "solidity": 0.2
             }
            },
            "type": "bar"
           }
          ],
          "barpolar": [
           {
            "marker": {
             "line": {
              "color": "#E5ECF6",
              "width": 0.5
             },
             "pattern": {
              "fillmode": "overlay",
              "size": 10,
              "solidity": 0.2
             }
            },
            "type": "barpolar"
           }
          ],
          "carpet": [
           {
            "aaxis": {
             "endlinecolor": "#2a3f5f",
             "gridcolor": "white",
             "linecolor": "white",
             "minorgridcolor": "white",
             "startlinecolor": "#2a3f5f"
            },
            "baxis": {
             "endlinecolor": "#2a3f5f",
             "gridcolor": "white",
             "linecolor": "white",
             "minorgridcolor": "white",
             "startlinecolor": "#2a3f5f"
            },
            "type": "carpet"
           }
          ],
          "choropleth": [
           {
            "colorbar": {
             "outlinewidth": 0,
             "ticks": ""
            },
            "type": "choropleth"
           }
          ],
          "contour": [
           {
            "colorbar": {
             "outlinewidth": 0,
             "ticks": ""
            },
            "colorscale": [
             [
              0,
              "#0d0887"
             ],
             [
              0.1111111111111111,
              "#46039f"
             ],
             [
              0.2222222222222222,
              "#7201a8"
             ],
             [
              0.3333333333333333,
              "#9c179e"
             ],
             [
              0.4444444444444444,
              "#bd3786"
             ],
             [
              0.5555555555555556,
              "#d8576b"
             ],
             [
              0.6666666666666666,
              "#ed7953"
             ],
             [
              0.7777777777777778,
              "#fb9f3a"
             ],
             [
              0.8888888888888888,
              "#fdca26"
             ],
             [
              1,
              "#f0f921"
             ]
            ],
            "type": "contour"
           }
          ],
          "contourcarpet": [
           {
            "colorbar": {
             "outlinewidth": 0,
             "ticks": ""
            },
            "type": "contourcarpet"
           }
          ],
          "heatmap": [
           {
            "colorbar": {
             "outlinewidth": 0,
             "ticks": ""
            },
            "colorscale": [
             [
              0,
              "#0d0887"
             ],
             [
              0.1111111111111111,
              "#46039f"
             ],
             [
              0.2222222222222222,
              "#7201a8"
             ],
             [
              0.3333333333333333,
              "#9c179e"
             ],
             [
              0.4444444444444444,
              "#bd3786"
             ],
             [
              0.5555555555555556,
              "#d8576b"
             ],
             [
              0.6666666666666666,
              "#ed7953"
             ],
             [
              0.7777777777777778,
              "#fb9f3a"
             ],
             [
              0.8888888888888888,
              "#fdca26"
             ],
             [
              1,
              "#f0f921"
             ]
            ],
            "type": "heatmap"
           }
          ],
          "heatmapgl": [
           {
            "colorbar": {
             "outlinewidth": 0,
             "ticks": ""
            },
            "colorscale": [
             [
              0,
              "#0d0887"
             ],
             [
              0.1111111111111111,
              "#46039f"
             ],
             [
              0.2222222222222222,
              "#7201a8"
             ],
             [
              0.3333333333333333,
              "#9c179e"
             ],
             [
              0.4444444444444444,
              "#bd3786"
             ],
             [
              0.5555555555555556,
              "#d8576b"
             ],
             [
              0.6666666666666666,
              "#ed7953"
             ],
             [
              0.7777777777777778,
              "#fb9f3a"
             ],
             [
              0.8888888888888888,
              "#fdca26"
             ],
             [
              1,
              "#f0f921"
             ]
            ],
            "type": "heatmapgl"
           }
          ],
          "histogram": [
           {
            "marker": {
             "pattern": {
              "fillmode": "overlay",
              "size": 10,
              "solidity": 0.2
             }
            },
            "type": "histogram"
           }
          ],
          "histogram2d": [
           {
            "colorbar": {
             "outlinewidth": 0,
             "ticks": ""
            },
            "colorscale": [
             [
              0,
              "#0d0887"
             ],
             [
              0.1111111111111111,
              "#46039f"
             ],
             [
              0.2222222222222222,
              "#7201a8"
             ],
             [
              0.3333333333333333,
              "#9c179e"
             ],
             [
              0.4444444444444444,
              "#bd3786"
             ],
             [
              0.5555555555555556,
              "#d8576b"
             ],
             [
              0.6666666666666666,
              "#ed7953"
             ],
             [
              0.7777777777777778,
              "#fb9f3a"
             ],
             [
              0.8888888888888888,
              "#fdca26"
             ],
             [
              1,
              "#f0f921"
             ]
            ],
            "type": "histogram2d"
           }
          ],
          "histogram2dcontour": [
           {
            "colorbar": {
             "outlinewidth": 0,
             "ticks": ""
            },
            "colorscale": [
             [
              0,
              "#0d0887"
             ],
             [
              0.1111111111111111,
              "#46039f"
             ],
             [
              0.2222222222222222,
              "#7201a8"
             ],
             [
              0.3333333333333333,
              "#9c179e"
             ],
             [
              0.4444444444444444,
              "#bd3786"
             ],
             [
              0.5555555555555556,
              "#d8576b"
             ],
             [
              0.6666666666666666,
              "#ed7953"
             ],
             [
              0.7777777777777778,
              "#fb9f3a"
             ],
             [
              0.8888888888888888,
              "#fdca26"
             ],
             [
              1,
              "#f0f921"
             ]
            ],
            "type": "histogram2dcontour"
           }
          ],
          "mesh3d": [
           {
            "colorbar": {
             "outlinewidth": 0,
             "ticks": ""
            },
            "type": "mesh3d"
           }
          ],
          "parcoords": [
           {
            "line": {
             "colorbar": {
              "outlinewidth": 0,
              "ticks": ""
             }
            },
            "type": "parcoords"
           }
          ],
          "pie": [
           {
            "automargin": true,
            "type": "pie"
           }
          ],
          "scatter": [
           {
            "fillpattern": {
             "fillmode": "overlay",
             "size": 10,
             "solidity": 0.2
            },
            "type": "scatter"
           }
          ],
          "scatter3d": [
           {
            "line": {
             "colorbar": {
              "outlinewidth": 0,
              "ticks": ""
             }
            },
            "marker": {
             "colorbar": {
              "outlinewidth": 0,
              "ticks": ""
             }
            },
            "type": "scatter3d"
           }
          ],
          "scattercarpet": [
           {
            "marker": {
             "colorbar": {
              "outlinewidth": 0,
              "ticks": ""
             }
            },
            "type": "scattercarpet"
           }
          ],
          "scattergeo": [
           {
            "marker": {
             "colorbar": {
              "outlinewidth": 0,
              "ticks": ""
             }
            },
            "type": "scattergeo"
           }
          ],
          "scattergl": [
           {
            "marker": {
             "colorbar": {
              "outlinewidth": 0,
              "ticks": ""
             }
            },
            "type": "scattergl"
           }
          ],
          "scattermapbox": [
           {
            "marker": {
             "colorbar": {
              "outlinewidth": 0,
              "ticks": ""
             }
            },
            "type": "scattermapbox"
           }
          ],
          "scatterpolar": [
           {
            "marker": {
             "colorbar": {
              "outlinewidth": 0,
              "ticks": ""
             }
            },
            "type": "scatterpolar"
           }
          ],
          "scatterpolargl": [
           {
            "marker": {
             "colorbar": {
              "outlinewidth": 0,
              "ticks": ""
             }
            },
            "type": "scatterpolargl"
           }
          ],
          "scatterternary": [
           {
            "marker": {
             "colorbar": {
              "outlinewidth": 0,
              "ticks": ""
             }
            },
            "type": "scatterternary"
           }
          ],
          "surface": [
           {
            "colorbar": {
             "outlinewidth": 0,
             "ticks": ""
            },
            "colorscale": [
             [
              0,
              "#0d0887"
             ],
             [
              0.1111111111111111,
              "#46039f"
             ],
             [
              0.2222222222222222,
              "#7201a8"
             ],
             [
              0.3333333333333333,
              "#9c179e"
             ],
             [
              0.4444444444444444,
              "#bd3786"
             ],
             [
              0.5555555555555556,
              "#d8576b"
             ],
             [
              0.6666666666666666,
              "#ed7953"
             ],
             [
              0.7777777777777778,
              "#fb9f3a"
             ],
             [
              0.8888888888888888,
              "#fdca26"
             ],
             [
              1,
              "#f0f921"
             ]
            ],
            "type": "surface"
           }
          ],
          "table": [
           {
            "cells": {
             "fill": {
              "color": "#EBF0F8"
             },
             "line": {
              "color": "white"
             }
            },
            "header": {
             "fill": {
              "color": "#C8D4E3"
             },
             "line": {
              "color": "white"
             }
            },
            "type": "table"
           }
          ]
         },
         "layout": {
          "annotationdefaults": {
           "arrowcolor": "#2a3f5f",
           "arrowhead": 0,
           "arrowwidth": 1
          },
          "autotypenumbers": "strict",
          "coloraxis": {
           "colorbar": {
            "outlinewidth": 0,
            "ticks": ""
           }
          },
          "colorscale": {
           "diverging": [
            [
             0,
             "#8e0152"
            ],
            [
             0.1,
             "#c51b7d"
            ],
            [
             0.2,
             "#de77ae"
            ],
            [
             0.3,
             "#f1b6da"
            ],
            [
             0.4,
             "#fde0ef"
            ],
            [
             0.5,
             "#f7f7f7"
            ],
            [
             0.6,
             "#e6f5d0"
            ],
            [
             0.7,
             "#b8e186"
            ],
            [
             0.8,
             "#7fbc41"
            ],
            [
             0.9,
             "#4d9221"
            ],
            [
             1,
             "#276419"
            ]
           ],
           "sequential": [
            [
             0,
             "#0d0887"
            ],
            [
             0.1111111111111111,
             "#46039f"
            ],
            [
             0.2222222222222222,
             "#7201a8"
            ],
            [
             0.3333333333333333,
             "#9c179e"
            ],
            [
             0.4444444444444444,
             "#bd3786"
            ],
            [
             0.5555555555555556,
             "#d8576b"
            ],
            [
             0.6666666666666666,
             "#ed7953"
            ],
            [
             0.7777777777777778,
             "#fb9f3a"
            ],
            [
             0.8888888888888888,
             "#fdca26"
            ],
            [
             1,
             "#f0f921"
            ]
           ],
           "sequentialminus": [
            [
             0,
             "#0d0887"
            ],
            [
             0.1111111111111111,
             "#46039f"
            ],
            [
             0.2222222222222222,
             "#7201a8"
            ],
            [
             0.3333333333333333,
             "#9c179e"
            ],
            [
             0.4444444444444444,
             "#bd3786"
            ],
            [
             0.5555555555555556,
             "#d8576b"
            ],
            [
             0.6666666666666666,
             "#ed7953"
            ],
            [
             0.7777777777777778,
             "#fb9f3a"
            ],
            [
             0.8888888888888888,
             "#fdca26"
            ],
            [
             1,
             "#f0f921"
            ]
           ]
          },
          "colorway": [
           "#636efa",
           "#EF553B",
           "#00cc96",
           "#ab63fa",
           "#FFA15A",
           "#19d3f3",
           "#FF6692",
           "#B6E880",
           "#FF97FF",
           "#FECB52"
          ],
          "font": {
           "color": "#2a3f5f"
          },
          "geo": {
           "bgcolor": "white",
           "lakecolor": "white",
           "landcolor": "#E5ECF6",
           "showlakes": true,
           "showland": true,
           "subunitcolor": "white"
          },
          "hoverlabel": {
           "align": "left"
          },
          "hovermode": "closest",
          "mapbox": {
           "style": "light"
          },
          "paper_bgcolor": "white",
          "plot_bgcolor": "#E5ECF6",
          "polar": {
           "angularaxis": {
            "gridcolor": "white",
            "linecolor": "white",
            "ticks": ""
           },
           "bgcolor": "#E5ECF6",
           "radialaxis": {
            "gridcolor": "white",
            "linecolor": "white",
            "ticks": ""
           }
          },
          "scene": {
           "xaxis": {
            "backgroundcolor": "#E5ECF6",
            "gridcolor": "white",
            "gridwidth": 2,
            "linecolor": "white",
            "showbackground": true,
            "ticks": "",
            "zerolinecolor": "white"
           },
           "yaxis": {
            "backgroundcolor": "#E5ECF6",
            "gridcolor": "white",
            "gridwidth": 2,
            "linecolor": "white",
            "showbackground": true,
            "ticks": "",
            "zerolinecolor": "white"
           },
           "zaxis": {
            "backgroundcolor": "#E5ECF6",
            "gridcolor": "white",
            "gridwidth": 2,
            "linecolor": "white",
            "showbackground": true,
            "ticks": "",
            "zerolinecolor": "white"
           }
          },
          "shapedefaults": {
           "line": {
            "color": "#2a3f5f"
           }
          },
          "ternary": {
           "aaxis": {
            "gridcolor": "white",
            "linecolor": "white",
            "ticks": ""
           },
           "baxis": {
            "gridcolor": "white",
            "linecolor": "white",
            "ticks": ""
           },
           "bgcolor": "#E5ECF6",
           "caxis": {
            "gridcolor": "white",
            "linecolor": "white",
            "ticks": ""
           }
          },
          "title": {
           "x": 0.05
          },
          "xaxis": {
           "automargin": true,
           "gridcolor": "white",
           "linecolor": "white",
           "ticks": "",
           "title": {
            "standoff": 15
           },
           "zerolinecolor": "white",
           "zerolinewidth": 2
          },
          "yaxis": {
           "automargin": true,
           "gridcolor": "white",
           "linecolor": "white",
           "ticks": "",
           "title": {
            "standoff": 15
           },
           "zerolinecolor": "white",
           "zerolinewidth": 2
          }
         }
        },
        "title": {
         "text": "Precision Plot-RetroSom-v3"
        },
        "width": 600,
        "xaxis": {
         "anchor": "y",
         "domain": [
          0,
          1
         ],
         "range": [
          -2,
          3.25
         ],
         "tickvals": [
          0.5,
          2,
          10
         ],
         "title": {
          "text": "Level of Mosaicism (%)"
         },
         "type": "log"
        },
        "yaxis": {
         "anchor": "x",
         "domain": [
          0,
          1
         ],
         "range": [
          0,
          1.1
         ],
         "tickvals": [
          0,
          0.2,
          0.4,
          0.6,
          0.8,
          1
         ],
         "title": {
          "text": "Precision (Alu)"
         }
        }
       }
      },
      "text/html": [
       "<div>                            <div id=\"4e031f02-3f17-4db3-b8df-947aa905a956\" class=\"plotly-graph-div\" style=\"height:525px; width:600px;\"></div>            <script type=\"text/javascript\">                require([\"plotly\"], function(Plotly) {                    window.PLOTLYENV=window.PLOTLYENV || {};                                    if (document.getElementById(\"4e031f02-3f17-4db3-b8df-947aa905a956\")) {                    Plotly.newPlot(                        \"4e031f02-3f17-4db3-b8df-947aa905a956\",                        [],                        {\"template\":{\"data\":{\"histogram2dcontour\":[{\"type\":\"histogram2dcontour\",\"colorbar\":{\"outlinewidth\":0,\"ticks\":\"\"},\"colorscale\":[[0.0,\"#0d0887\"],[0.1111111111111111,\"#46039f\"],[0.2222222222222222,\"#7201a8\"],[0.3333333333333333,\"#9c179e\"],[0.4444444444444444,\"#bd3786\"],[0.5555555555555556,\"#d8576b\"],[0.6666666666666666,\"#ed7953\"],[0.7777777777777778,\"#fb9f3a\"],[0.8888888888888888,\"#fdca26\"],[1.0,\"#f0f921\"]]}],\"choropleth\":[{\"type\":\"choropleth\",\"colorbar\":{\"outlinewidth\":0,\"ticks\":\"\"}}],\"histogram2d\":[{\"type\":\"histogram2d\",\"colorbar\":{\"outlinewidth\":0,\"ticks\":\"\"},\"colorscale\":[[0.0,\"#0d0887\"],[0.1111111111111111,\"#46039f\"],[0.2222222222222222,\"#7201a8\"],[0.3333333333333333,\"#9c179e\"],[0.4444444444444444,\"#bd3786\"],[0.5555555555555556,\"#d8576b\"],[0.6666666666666666,\"#ed7953\"],[0.7777777777777778,\"#fb9f3a\"],[0.8888888888888888,\"#fdca26\"],[1.0,\"#f0f921\"]]}],\"heatmap\":[{\"type\":\"heatmap\",\"colorbar\":{\"outlinewidth\":0,\"ticks\":\"\"},\"colorscale\":[[0.0,\"#0d0887\"],[0.1111111111111111,\"#46039f\"],[0.2222222222222222,\"#7201a8\"],[0.3333333333333333,\"#9c179e\"],[0.4444444444444444,\"#bd3786\"],[0.5555555555555556,\"#d8576b\"],[0.6666666666666666,\"#ed7953\"],[0.7777777777777778,\"#fb9f3a\"],[0.8888888888888888,\"#fdca26\"],[1.0,\"#f0f921\"]]}],\"heatmapgl\":[{\"type\":\"heatmapgl\",\"colorbar\":{\"outlinewidth\":0,\"ticks\":\"\"},\"colorscale\":[[0.0,\"#0d0887\"],[0.1111111111111111,\"#46039f\"],[0.2222222222222222,\"#7201a8\"],[0.3333333333333333,\"#9c179e\"],[0.4444444444444444,\"#bd3786\"],[0.5555555555555556,\"#d8576b\"],[0.6666666666666666,\"#ed7953\"],[0.7777777777777778,\"#fb9f3a\"],[0.8888888888888888,\"#fdca26\"],[1.0,\"#f0f921\"]]}],\"contourcarpet\":[{\"type\":\"contourcarpet\",\"colorbar\":{\"outlinewidth\":0,\"ticks\":\"\"}}],\"contour\":[{\"type\":\"contour\",\"colorbar\":{\"outlinewidth\":0,\"ticks\":\"\"},\"colorscale\":[[0.0,\"#0d0887\"],[0.1111111111111111,\"#46039f\"],[0.2222222222222222,\"#7201a8\"],[0.3333333333333333,\"#9c179e\"],[0.4444444444444444,\"#bd3786\"],[0.5555555555555556,\"#d8576b\"],[0.6666666666666666,\"#ed7953\"],[0.7777777777777778,\"#fb9f3a\"],[0.8888888888888888,\"#fdca26\"],[1.0,\"#f0f921\"]]}],\"surface\":[{\"type\":\"surface\",\"colorbar\":{\"outlinewidth\":0,\"ticks\":\"\"},\"colorscale\":[[0.0,\"#0d0887\"],[0.1111111111111111,\"#46039f\"],[0.2222222222222222,\"#7201a8\"],[0.3333333333333333,\"#9c179e\"],[0.4444444444444444,\"#bd3786\"],[0.5555555555555556,\"#d8576b\"],[0.6666666666666666,\"#ed7953\"],[0.7777777777777778,\"#fb9f3a\"],[0.8888888888888888,\"#fdca26\"],[1.0,\"#f0f921\"]]}],\"mesh3d\":[{\"type\":\"mesh3d\",\"colorbar\":{\"outlinewidth\":0,\"ticks\":\"\"}}],\"scatter\":[{\"fillpattern\":{\"fillmode\":\"overlay\",\"size\":10,\"solidity\":0.2},\"type\":\"scatter\"}],\"parcoords\":[{\"type\":\"parcoords\",\"line\":{\"colorbar\":{\"outlinewidth\":0,\"ticks\":\"\"}}}],\"scatterpolargl\":[{\"type\":\"scatterpolargl\",\"marker\":{\"colorbar\":{\"outlinewidth\":0,\"ticks\":\"\"}}}],\"bar\":[{\"error_x\":{\"color\":\"#2a3f5f\"},\"error_y\":{\"color\":\"#2a3f5f\"},\"marker\":{\"line\":{\"color\":\"#E5ECF6\",\"width\":0.5},\"pattern\":{\"fillmode\":\"overlay\",\"size\":10,\"solidity\":0.2}},\"type\":\"bar\"}],\"scattergeo\":[{\"type\":\"scattergeo\",\"marker\":{\"colorbar\":{\"outlinewidth\":0,\"ticks\":\"\"}}}],\"scatterpolar\":[{\"type\":\"scatterpolar\",\"marker\":{\"colorbar\":{\"outlinewidth\":0,\"ticks\":\"\"}}}],\"histogram\":[{\"marker\":{\"pattern\":{\"fillmode\":\"overlay\",\"size\":10,\"solidity\":0.2}},\"type\":\"histogram\"}],\"scattergl\":[{\"type\":\"scattergl\",\"marker\":{\"colorbar\":{\"outlinewidth\":0,\"ticks\":\"\"}}}],\"scatter3d\":[{\"type\":\"scatter3d\",\"line\":{\"colorbar\":{\"outlinewidth\":0,\"ticks\":\"\"}},\"marker\":{\"colorbar\":{\"outlinewidth\":0,\"ticks\":\"\"}}}],\"scattermapbox\":[{\"type\":\"scattermapbox\",\"marker\":{\"colorbar\":{\"outlinewidth\":0,\"ticks\":\"\"}}}],\"scatterternary\":[{\"type\":\"scatterternary\",\"marker\":{\"colorbar\":{\"outlinewidth\":0,\"ticks\":\"\"}}}],\"scattercarpet\":[{\"type\":\"scattercarpet\",\"marker\":{\"colorbar\":{\"outlinewidth\":0,\"ticks\":\"\"}}}],\"carpet\":[{\"aaxis\":{\"endlinecolor\":\"#2a3f5f\",\"gridcolor\":\"white\",\"linecolor\":\"white\",\"minorgridcolor\":\"white\",\"startlinecolor\":\"#2a3f5f\"},\"baxis\":{\"endlinecolor\":\"#2a3f5f\",\"gridcolor\":\"white\",\"linecolor\":\"white\",\"minorgridcolor\":\"white\",\"startlinecolor\":\"#2a3f5f\"},\"type\":\"carpet\"}],\"table\":[{\"cells\":{\"fill\":{\"color\":\"#EBF0F8\"},\"line\":{\"color\":\"white\"}},\"header\":{\"fill\":{\"color\":\"#C8D4E3\"},\"line\":{\"color\":\"white\"}},\"type\":\"table\"}],\"barpolar\":[{\"marker\":{\"line\":{\"color\":\"#E5ECF6\",\"width\":0.5},\"pattern\":{\"fillmode\":\"overlay\",\"size\":10,\"solidity\":0.2}},\"type\":\"barpolar\"}],\"pie\":[{\"automargin\":true,\"type\":\"pie\"}]},\"layout\":{\"autotypenumbers\":\"strict\",\"colorway\":[\"#636efa\",\"#EF553B\",\"#00cc96\",\"#ab63fa\",\"#FFA15A\",\"#19d3f3\",\"#FF6692\",\"#B6E880\",\"#FF97FF\",\"#FECB52\"],\"font\":{\"color\":\"#2a3f5f\"},\"hovermode\":\"closest\",\"hoverlabel\":{\"align\":\"left\"},\"paper_bgcolor\":\"white\",\"plot_bgcolor\":\"#E5ECF6\",\"polar\":{\"bgcolor\":\"#E5ECF6\",\"angularaxis\":{\"gridcolor\":\"white\",\"linecolor\":\"white\",\"ticks\":\"\"},\"radialaxis\":{\"gridcolor\":\"white\",\"linecolor\":\"white\",\"ticks\":\"\"}},\"ternary\":{\"bgcolor\":\"#E5ECF6\",\"aaxis\":{\"gridcolor\":\"white\",\"linecolor\":\"white\",\"ticks\":\"\"},\"baxis\":{\"gridcolor\":\"white\",\"linecolor\":\"white\",\"ticks\":\"\"},\"caxis\":{\"gridcolor\":\"white\",\"linecolor\":\"white\",\"ticks\":\"\"}},\"coloraxis\":{\"colorbar\":{\"outlinewidth\":0,\"ticks\":\"\"}},\"colorscale\":{\"sequential\":[[0.0,\"#0d0887\"],[0.1111111111111111,\"#46039f\"],[0.2222222222222222,\"#7201a8\"],[0.3333333333333333,\"#9c179e\"],[0.4444444444444444,\"#bd3786\"],[0.5555555555555556,\"#d8576b\"],[0.6666666666666666,\"#ed7953\"],[0.7777777777777778,\"#fb9f3a\"],[0.8888888888888888,\"#fdca26\"],[1.0,\"#f0f921\"]],\"sequentialminus\":[[0.0,\"#0d0887\"],[0.1111111111111111,\"#46039f\"],[0.2222222222222222,\"#7201a8\"],[0.3333333333333333,\"#9c179e\"],[0.4444444444444444,\"#bd3786\"],[0.5555555555555556,\"#d8576b\"],[0.6666666666666666,\"#ed7953\"],[0.7777777777777778,\"#fb9f3a\"],[0.8888888888888888,\"#fdca26\"],[1.0,\"#f0f921\"]],\"diverging\":[[0,\"#8e0152\"],[0.1,\"#c51b7d\"],[0.2,\"#de77ae\"],[0.3,\"#f1b6da\"],[0.4,\"#fde0ef\"],[0.5,\"#f7f7f7\"],[0.6,\"#e6f5d0\"],[0.7,\"#b8e186\"],[0.8,\"#7fbc41\"],[0.9,\"#4d9221\"],[1,\"#276419\"]]},\"xaxis\":{\"gridcolor\":\"white\",\"linecolor\":\"white\",\"ticks\":\"\",\"title\":{\"standoff\":15},\"zerolinecolor\":\"white\",\"automargin\":true,\"zerolinewidth\":2},\"yaxis\":{\"gridcolor\":\"white\",\"linecolor\":\"white\",\"ticks\":\"\",\"title\":{\"standoff\":15},\"zerolinecolor\":\"white\",\"automargin\":true,\"zerolinewidth\":2},\"scene\":{\"xaxis\":{\"backgroundcolor\":\"#E5ECF6\",\"gridcolor\":\"white\",\"linecolor\":\"white\",\"showbackground\":true,\"ticks\":\"\",\"zerolinecolor\":\"white\",\"gridwidth\":2},\"yaxis\":{\"backgroundcolor\":\"#E5ECF6\",\"gridcolor\":\"white\",\"linecolor\":\"white\",\"showbackground\":true,\"ticks\":\"\",\"zerolinecolor\":\"white\",\"gridwidth\":2},\"zaxis\":{\"backgroundcolor\":\"#E5ECF6\",\"gridcolor\":\"white\",\"linecolor\":\"white\",\"showbackground\":true,\"ticks\":\"\",\"zerolinecolor\":\"white\",\"gridwidth\":2}},\"shapedefaults\":{\"line\":{\"color\":\"#2a3f5f\"}},\"annotationdefaults\":{\"arrowcolor\":\"#2a3f5f\",\"arrowhead\":0,\"arrowwidth\":1},\"geo\":{\"bgcolor\":\"white\",\"landcolor\":\"#E5ECF6\",\"subunitcolor\":\"white\",\"showland\":true,\"showlakes\":true,\"lakecolor\":\"white\"},\"title\":{\"x\":0.05},\"mapbox\":{\"style\":\"light\"}}},\"xaxis\":{\"anchor\":\"y\",\"domain\":[0.0,1.0],\"title\":{\"text\":\"Level of Mosaicism (%)\"},\"type\":\"log\",\"tickvals\":[0.5,2.0,10.0],\"range\":[-2,3.25]},\"yaxis\":{\"anchor\":\"x\",\"domain\":[0.0,1.0],\"title\":{\"text\":\"Precision (Alu)\"},\"range\":[0,1.1],\"tickvals\":[0,0.2,0.4,0.6,0.8,1]},\"legend\":{\"tracegroupgap\":0,\"font\":{\"size\":16},\"title\":{\"font\":{\"size\":18,\"color\":\"black\"},\"text\":\"depth\"},\"traceorder\":\"normal\",\"orientation\":\"v\",\"y\":1.1,\"x\":0.01},\"margin\":{\"t\":60},\"font\":{\"family\":\"Arial, sans-serif\",\"size\":18,\"color\":\"RebeccaPurple\"},\"width\":600,\"title\":{\"text\":\"Precision Plot-RetroSom-v3\"}},                        {\"responsive\": true}                    ).then(function(){\n",
       "                            \n",
       "var gd = document.getElementById('4e031f02-3f17-4db3-b8df-947aa905a956');\n",
       "var x = new MutationObserver(function (mutations, observer) {{\n",
       "        var display = window.getComputedStyle(gd).display;\n",
       "        if (!display || display === 'none') {{\n",
       "            console.log([gd, 'removed!']);\n",
       "            Plotly.purge(gd);\n",
       "            observer.disconnect();\n",
       "        }}\n",
       "}});\n",
       "\n",
       "// Listen for the removal of the full notebook cells\n",
       "var notebookContainer = gd.closest('#notebook-container');\n",
       "if (notebookContainer) {{\n",
       "    x.observe(notebookContainer, {childList: true});\n",
       "}}\n",
       "\n",
       "// Listen for the clearing of the current output cell\n",
       "var outputEl = gd.closest('.output');\n",
       "if (outputEl) {{\n",
       "    x.observe(outputEl, {childList: true});\n",
       "}}\n",
       "\n",
       "                        })                };                });            </script>        </div>"
      ]
     },
     "metadata": {},
     "output_type": "display_data"
    },
    {
     "data": {
      "application/vnd.plotly.v1+json": {
       "config": {
        "plotlyServerURL": "https://plot.ly"
       },
       "data": [
        {
         "hovertemplate": "depth=200x_UW_HK<br>vaf=%{x}<br>precision=%{y}<extra></extra>",
         "legendgroup": "200x_UW_HK",
         "line": {
          "color": "rgb(228,26,28)",
          "dash": "solid"
         },
         "marker": {
          "size": 10,
          "symbol": 1
         },
         "mode": "lines+markers",
         "name": "200x_UW_HK",
         "orientation": "v",
         "showlegend": true,
         "type": "scatter",
         "x": [
          0.5,
          2,
          10
         ],
         "xaxis": "x",
         "y": [
          0,
          0.3581081081081081,
          0.30405405405405406
         ],
         "yaxis": "y"
        },
        {
         "hovertemplate": "depth=200x_NYGC_HK<br>vaf=%{x}<br>precision=%{y}<extra></extra>",
         "legendgroup": "200x_NYGC_HK",
         "line": {
          "color": "rgb(55,126,184)",
          "dash": "solid"
         },
         "marker": {
          "size": 10,
          "symbol": 3
         },
         "mode": "lines+markers",
         "name": "200x_NYGC_HK",
         "orientation": "v",
         "showlegend": true,
         "type": "scatter",
         "x": [
          0.5,
          2,
          10
         ],
         "xaxis": "x",
         "y": [
          0.01568627450980392,
          0.44313725490196076,
          0.22745098039215686
         ],
         "yaxis": "y"
        }
       ],
       "layout": {
        "font": {
         "color": "RebeccaPurple",
         "family": "Arial, sans-serif",
         "size": 18
        },
        "legend": {
         "font": {
          "size": 16
         },
         "orientation": "v",
         "title": {
          "font": {
           "color": "black",
           "size": 18
          },
          "text": "depth"
         },
         "tracegroupgap": 0,
         "traceorder": "normal",
         "x": 0.01,
         "y": 1.1
        },
        "margin": {
         "t": 60
        },
        "template": {
         "data": {
          "bar": [
           {
            "error_x": {
             "color": "#2a3f5f"
            },
            "error_y": {
             "color": "#2a3f5f"
            },
            "marker": {
             "line": {
              "color": "#E5ECF6",
              "width": 0.5
             },
             "pattern": {
              "fillmode": "overlay",
              "size": 10,
              "solidity": 0.2
             }
            },
            "type": "bar"
           }
          ],
          "barpolar": [
           {
            "marker": {
             "line": {
              "color": "#E5ECF6",
              "width": 0.5
             },
             "pattern": {
              "fillmode": "overlay",
              "size": 10,
              "solidity": 0.2
             }
            },
            "type": "barpolar"
           }
          ],
          "carpet": [
           {
            "aaxis": {
             "endlinecolor": "#2a3f5f",
             "gridcolor": "white",
             "linecolor": "white",
             "minorgridcolor": "white",
             "startlinecolor": "#2a3f5f"
            },
            "baxis": {
             "endlinecolor": "#2a3f5f",
             "gridcolor": "white",
             "linecolor": "white",
             "minorgridcolor": "white",
             "startlinecolor": "#2a3f5f"
            },
            "type": "carpet"
           }
          ],
          "choropleth": [
           {
            "colorbar": {
             "outlinewidth": 0,
             "ticks": ""
            },
            "type": "choropleth"
           }
          ],
          "contour": [
           {
            "colorbar": {
             "outlinewidth": 0,
             "ticks": ""
            },
            "colorscale": [
             [
              0,
              "#0d0887"
             ],
             [
              0.1111111111111111,
              "#46039f"
             ],
             [
              0.2222222222222222,
              "#7201a8"
             ],
             [
              0.3333333333333333,
              "#9c179e"
             ],
             [
              0.4444444444444444,
              "#bd3786"
             ],
             [
              0.5555555555555556,
              "#d8576b"
             ],
             [
              0.6666666666666666,
              "#ed7953"
             ],
             [
              0.7777777777777778,
              "#fb9f3a"
             ],
             [
              0.8888888888888888,
              "#fdca26"
             ],
             [
              1,
              "#f0f921"
             ]
            ],
            "type": "contour"
           }
          ],
          "contourcarpet": [
           {
            "colorbar": {
             "outlinewidth": 0,
             "ticks": ""
            },
            "type": "contourcarpet"
           }
          ],
          "heatmap": [
           {
            "colorbar": {
             "outlinewidth": 0,
             "ticks": ""
            },
            "colorscale": [
             [
              0,
              "#0d0887"
             ],
             [
              0.1111111111111111,
              "#46039f"
             ],
             [
              0.2222222222222222,
              "#7201a8"
             ],
             [
              0.3333333333333333,
              "#9c179e"
             ],
             [
              0.4444444444444444,
              "#bd3786"
             ],
             [
              0.5555555555555556,
              "#d8576b"
             ],
             [
              0.6666666666666666,
              "#ed7953"
             ],
             [
              0.7777777777777778,
              "#fb9f3a"
             ],
             [
              0.8888888888888888,
              "#fdca26"
             ],
             [
              1,
              "#f0f921"
             ]
            ],
            "type": "heatmap"
           }
          ],
          "heatmapgl": [
           {
            "colorbar": {
             "outlinewidth": 0,
             "ticks": ""
            },
            "colorscale": [
             [
              0,
              "#0d0887"
             ],
             [
              0.1111111111111111,
              "#46039f"
             ],
             [
              0.2222222222222222,
              "#7201a8"
             ],
             [
              0.3333333333333333,
              "#9c179e"
             ],
             [
              0.4444444444444444,
              "#bd3786"
             ],
             [
              0.5555555555555556,
              "#d8576b"
             ],
             [
              0.6666666666666666,
              "#ed7953"
             ],
             [
              0.7777777777777778,
              "#fb9f3a"
             ],
             [
              0.8888888888888888,
              "#fdca26"
             ],
             [
              1,
              "#f0f921"
             ]
            ],
            "type": "heatmapgl"
           }
          ],
          "histogram": [
           {
            "marker": {
             "pattern": {
              "fillmode": "overlay",
              "size": 10,
              "solidity": 0.2
             }
            },
            "type": "histogram"
           }
          ],
          "histogram2d": [
           {
            "colorbar": {
             "outlinewidth": 0,
             "ticks": ""
            },
            "colorscale": [
             [
              0,
              "#0d0887"
             ],
             [
              0.1111111111111111,
              "#46039f"
             ],
             [
              0.2222222222222222,
              "#7201a8"
             ],
             [
              0.3333333333333333,
              "#9c179e"
             ],
             [
              0.4444444444444444,
              "#bd3786"
             ],
             [
              0.5555555555555556,
              "#d8576b"
             ],
             [
              0.6666666666666666,
              "#ed7953"
             ],
             [
              0.7777777777777778,
              "#fb9f3a"
             ],
             [
              0.8888888888888888,
              "#fdca26"
             ],
             [
              1,
              "#f0f921"
             ]
            ],
            "type": "histogram2d"
           }
          ],
          "histogram2dcontour": [
           {
            "colorbar": {
             "outlinewidth": 0,
             "ticks": ""
            },
            "colorscale": [
             [
              0,
              "#0d0887"
             ],
             [
              0.1111111111111111,
              "#46039f"
             ],
             [
              0.2222222222222222,
              "#7201a8"
             ],
             [
              0.3333333333333333,
              "#9c179e"
             ],
             [
              0.4444444444444444,
              "#bd3786"
             ],
             [
              0.5555555555555556,
              "#d8576b"
             ],
             [
              0.6666666666666666,
              "#ed7953"
             ],
             [
              0.7777777777777778,
              "#fb9f3a"
             ],
             [
              0.8888888888888888,
              "#fdca26"
             ],
             [
              1,
              "#f0f921"
             ]
            ],
            "type": "histogram2dcontour"
           }
          ],
          "mesh3d": [
           {
            "colorbar": {
             "outlinewidth": 0,
             "ticks": ""
            },
            "type": "mesh3d"
           }
          ],
          "parcoords": [
           {
            "line": {
             "colorbar": {
              "outlinewidth": 0,
              "ticks": ""
             }
            },
            "type": "parcoords"
           }
          ],
          "pie": [
           {
            "automargin": true,
            "type": "pie"
           }
          ],
          "scatter": [
           {
            "fillpattern": {
             "fillmode": "overlay",
             "size": 10,
             "solidity": 0.2
            },
            "type": "scatter"
           }
          ],
          "scatter3d": [
           {
            "line": {
             "colorbar": {
              "outlinewidth": 0,
              "ticks": ""
             }
            },
            "marker": {
             "colorbar": {
              "outlinewidth": 0,
              "ticks": ""
             }
            },
            "type": "scatter3d"
           }
          ],
          "scattercarpet": [
           {
            "marker": {
             "colorbar": {
              "outlinewidth": 0,
              "ticks": ""
             }
            },
            "type": "scattercarpet"
           }
          ],
          "scattergeo": [
           {
            "marker": {
             "colorbar": {
              "outlinewidth": 0,
              "ticks": ""
             }
            },
            "type": "scattergeo"
           }
          ],
          "scattergl": [
           {
            "marker": {
             "colorbar": {
              "outlinewidth": 0,
              "ticks": ""
             }
            },
            "type": "scattergl"
           }
          ],
          "scattermapbox": [
           {
            "marker": {
             "colorbar": {
              "outlinewidth": 0,
              "ticks": ""
             }
            },
            "type": "scattermapbox"
           }
          ],
          "scatterpolar": [
           {
            "marker": {
             "colorbar": {
              "outlinewidth": 0,
              "ticks": ""
             }
            },
            "type": "scatterpolar"
           }
          ],
          "scatterpolargl": [
           {
            "marker": {
             "colorbar": {
              "outlinewidth": 0,
              "ticks": ""
             }
            },
            "type": "scatterpolargl"
           }
          ],
          "scatterternary": [
           {
            "marker": {
             "colorbar": {
              "outlinewidth": 0,
              "ticks": ""
             }
            },
            "type": "scatterternary"
           }
          ],
          "surface": [
           {
            "colorbar": {
             "outlinewidth": 0,
             "ticks": ""
            },
            "colorscale": [
             [
              0,
              "#0d0887"
             ],
             [
              0.1111111111111111,
              "#46039f"
             ],
             [
              0.2222222222222222,
              "#7201a8"
             ],
             [
              0.3333333333333333,
              "#9c179e"
             ],
             [
              0.4444444444444444,
              "#bd3786"
             ],
             [
              0.5555555555555556,
              "#d8576b"
             ],
             [
              0.6666666666666666,
              "#ed7953"
             ],
             [
              0.7777777777777778,
              "#fb9f3a"
             ],
             [
              0.8888888888888888,
              "#fdca26"
             ],
             [
              1,
              "#f0f921"
             ]
            ],
            "type": "surface"
           }
          ],
          "table": [
           {
            "cells": {
             "fill": {
              "color": "#EBF0F8"
             },
             "line": {
              "color": "white"
             }
            },
            "header": {
             "fill": {
              "color": "#C8D4E3"
             },
             "line": {
              "color": "white"
             }
            },
            "type": "table"
           }
          ]
         },
         "layout": {
          "annotationdefaults": {
           "arrowcolor": "#2a3f5f",
           "arrowhead": 0,
           "arrowwidth": 1
          },
          "autotypenumbers": "strict",
          "coloraxis": {
           "colorbar": {
            "outlinewidth": 0,
            "ticks": ""
           }
          },
          "colorscale": {
           "diverging": [
            [
             0,
             "#8e0152"
            ],
            [
             0.1,
             "#c51b7d"
            ],
            [
             0.2,
             "#de77ae"
            ],
            [
             0.3,
             "#f1b6da"
            ],
            [
             0.4,
             "#fde0ef"
            ],
            [
             0.5,
             "#f7f7f7"
            ],
            [
             0.6,
             "#e6f5d0"
            ],
            [
             0.7,
             "#b8e186"
            ],
            [
             0.8,
             "#7fbc41"
            ],
            [
             0.9,
             "#4d9221"
            ],
            [
             1,
             "#276419"
            ]
           ],
           "sequential": [
            [
             0,
             "#0d0887"
            ],
            [
             0.1111111111111111,
             "#46039f"
            ],
            [
             0.2222222222222222,
             "#7201a8"
            ],
            [
             0.3333333333333333,
             "#9c179e"
            ],
            [
             0.4444444444444444,
             "#bd3786"
            ],
            [
             0.5555555555555556,
             "#d8576b"
            ],
            [
             0.6666666666666666,
             "#ed7953"
            ],
            [
             0.7777777777777778,
             "#fb9f3a"
            ],
            [
             0.8888888888888888,
             "#fdca26"
            ],
            [
             1,
             "#f0f921"
            ]
           ],
           "sequentialminus": [
            [
             0,
             "#0d0887"
            ],
            [
             0.1111111111111111,
             "#46039f"
            ],
            [
             0.2222222222222222,
             "#7201a8"
            ],
            [
             0.3333333333333333,
             "#9c179e"
            ],
            [
             0.4444444444444444,
             "#bd3786"
            ],
            [
             0.5555555555555556,
             "#d8576b"
            ],
            [
             0.6666666666666666,
             "#ed7953"
            ],
            [
             0.7777777777777778,
             "#fb9f3a"
            ],
            [
             0.8888888888888888,
             "#fdca26"
            ],
            [
             1,
             "#f0f921"
            ]
           ]
          },
          "colorway": [
           "#636efa",
           "#EF553B",
           "#00cc96",
           "#ab63fa",
           "#FFA15A",
           "#19d3f3",
           "#FF6692",
           "#B6E880",
           "#FF97FF",
           "#FECB52"
          ],
          "font": {
           "color": "#2a3f5f"
          },
          "geo": {
           "bgcolor": "white",
           "lakecolor": "white",
           "landcolor": "#E5ECF6",
           "showlakes": true,
           "showland": true,
           "subunitcolor": "white"
          },
          "hoverlabel": {
           "align": "left"
          },
          "hovermode": "closest",
          "mapbox": {
           "style": "light"
          },
          "paper_bgcolor": "white",
          "plot_bgcolor": "#E5ECF6",
          "polar": {
           "angularaxis": {
            "gridcolor": "white",
            "linecolor": "white",
            "ticks": ""
           },
           "bgcolor": "#E5ECF6",
           "radialaxis": {
            "gridcolor": "white",
            "linecolor": "white",
            "ticks": ""
           }
          },
          "scene": {
           "xaxis": {
            "backgroundcolor": "#E5ECF6",
            "gridcolor": "white",
            "gridwidth": 2,
            "linecolor": "white",
            "showbackground": true,
            "ticks": "",
            "zerolinecolor": "white"
           },
           "yaxis": {
            "backgroundcolor": "#E5ECF6",
            "gridcolor": "white",
            "gridwidth": 2,
            "linecolor": "white",
            "showbackground": true,
            "ticks": "",
            "zerolinecolor": "white"
           },
           "zaxis": {
            "backgroundcolor": "#E5ECF6",
            "gridcolor": "white",
            "gridwidth": 2,
            "linecolor": "white",
            "showbackground": true,
            "ticks": "",
            "zerolinecolor": "white"
           }
          },
          "shapedefaults": {
           "line": {
            "color": "#2a3f5f"
           }
          },
          "ternary": {
           "aaxis": {
            "gridcolor": "white",
            "linecolor": "white",
            "ticks": ""
           },
           "baxis": {
            "gridcolor": "white",
            "linecolor": "white",
            "ticks": ""
           },
           "bgcolor": "#E5ECF6",
           "caxis": {
            "gridcolor": "white",
            "linecolor": "white",
            "ticks": ""
           }
          },
          "title": {
           "x": 0.05
          },
          "xaxis": {
           "automargin": true,
           "gridcolor": "white",
           "linecolor": "white",
           "ticks": "",
           "title": {
            "standoff": 15
           },
           "zerolinecolor": "white",
           "zerolinewidth": 2
          },
          "yaxis": {
           "automargin": true,
           "gridcolor": "white",
           "linecolor": "white",
           "ticks": "",
           "title": {
            "standoff": 15
           },
           "zerolinecolor": "white",
           "zerolinewidth": 2
          }
         }
        },
        "title": {
         "text": "Precision Plot-RetroSom-v3"
        },
        "width": 600,
        "xaxis": {
         "anchor": "y",
         "domain": [
          0,
          1
         ],
         "range": [
          -2,
          3.25
         ],
         "tickvals": [
          0.5,
          2,
          10
         ],
         "title": {
          "text": "Level of Mosaicism (%)"
         },
         "type": "log"
        },
        "yaxis": {
         "anchor": "x",
         "domain": [
          0,
          1
         ],
         "range": [
          0,
          1.1
         ],
         "tickvals": [
          0,
          0.2,
          0.4,
          0.6,
          0.8,
          1
         ],
         "title": {
          "text": "Precision (L1)"
         }
        }
       }
      },
      "text/html": [
       "<div>                            <div id=\"00ba9b87-af24-406a-8f2c-62aa6ae75834\" class=\"plotly-graph-div\" style=\"height:525px; width:600px;\"></div>            <script type=\"text/javascript\">                require([\"plotly\"], function(Plotly) {                    window.PLOTLYENV=window.PLOTLYENV || {};                                    if (document.getElementById(\"00ba9b87-af24-406a-8f2c-62aa6ae75834\")) {                    Plotly.newPlot(                        \"00ba9b87-af24-406a-8f2c-62aa6ae75834\",                        [{\"hovertemplate\":\"depth=200x_UW_HK\\u003cbr\\u003evaf=%{x}\\u003cbr\\u003eprecision=%{y}\\u003cextra\\u003e\\u003c\\u002fextra\\u003e\",\"legendgroup\":\"200x_UW_HK\",\"line\":{\"color\":\"rgb(228,26,28)\",\"dash\":\"solid\"},\"marker\":{\"symbol\":1,\"size\":10},\"mode\":\"lines+markers\",\"name\":\"200x_UW_HK\",\"orientation\":\"v\",\"showlegend\":true,\"x\":[0.5,2.0,10.0],\"xaxis\":\"x\",\"y\":[0.0,0.3581081081081081,0.30405405405405406],\"yaxis\":\"y\",\"type\":\"scatter\"},{\"hovertemplate\":\"depth=200x_NYGC_HK\\u003cbr\\u003evaf=%{x}\\u003cbr\\u003eprecision=%{y}\\u003cextra\\u003e\\u003c\\u002fextra\\u003e\",\"legendgroup\":\"200x_NYGC_HK\",\"line\":{\"color\":\"rgb(55,126,184)\",\"dash\":\"solid\"},\"marker\":{\"symbol\":3,\"size\":10},\"mode\":\"lines+markers\",\"name\":\"200x_NYGC_HK\",\"orientation\":\"v\",\"showlegend\":true,\"x\":[0.5,2.0,10.0],\"xaxis\":\"x\",\"y\":[0.01568627450980392,0.44313725490196076,0.22745098039215686],\"yaxis\":\"y\",\"type\":\"scatter\"}],                        {\"template\":{\"data\":{\"histogram2dcontour\":[{\"type\":\"histogram2dcontour\",\"colorbar\":{\"outlinewidth\":0,\"ticks\":\"\"},\"colorscale\":[[0.0,\"#0d0887\"],[0.1111111111111111,\"#46039f\"],[0.2222222222222222,\"#7201a8\"],[0.3333333333333333,\"#9c179e\"],[0.4444444444444444,\"#bd3786\"],[0.5555555555555556,\"#d8576b\"],[0.6666666666666666,\"#ed7953\"],[0.7777777777777778,\"#fb9f3a\"],[0.8888888888888888,\"#fdca26\"],[1.0,\"#f0f921\"]]}],\"choropleth\":[{\"type\":\"choropleth\",\"colorbar\":{\"outlinewidth\":0,\"ticks\":\"\"}}],\"histogram2d\":[{\"type\":\"histogram2d\",\"colorbar\":{\"outlinewidth\":0,\"ticks\":\"\"},\"colorscale\":[[0.0,\"#0d0887\"],[0.1111111111111111,\"#46039f\"],[0.2222222222222222,\"#7201a8\"],[0.3333333333333333,\"#9c179e\"],[0.4444444444444444,\"#bd3786\"],[0.5555555555555556,\"#d8576b\"],[0.6666666666666666,\"#ed7953\"],[0.7777777777777778,\"#fb9f3a\"],[0.8888888888888888,\"#fdca26\"],[1.0,\"#f0f921\"]]}],\"heatmap\":[{\"type\":\"heatmap\",\"colorbar\":{\"outlinewidth\":0,\"ticks\":\"\"},\"colorscale\":[[0.0,\"#0d0887\"],[0.1111111111111111,\"#46039f\"],[0.2222222222222222,\"#7201a8\"],[0.3333333333333333,\"#9c179e\"],[0.4444444444444444,\"#bd3786\"],[0.5555555555555556,\"#d8576b\"],[0.6666666666666666,\"#ed7953\"],[0.7777777777777778,\"#fb9f3a\"],[0.8888888888888888,\"#fdca26\"],[1.0,\"#f0f921\"]]}],\"heatmapgl\":[{\"type\":\"heatmapgl\",\"colorbar\":{\"outlinewidth\":0,\"ticks\":\"\"},\"colorscale\":[[0.0,\"#0d0887\"],[0.1111111111111111,\"#46039f\"],[0.2222222222222222,\"#7201a8\"],[0.3333333333333333,\"#9c179e\"],[0.4444444444444444,\"#bd3786\"],[0.5555555555555556,\"#d8576b\"],[0.6666666666666666,\"#ed7953\"],[0.7777777777777778,\"#fb9f3a\"],[0.8888888888888888,\"#fdca26\"],[1.0,\"#f0f921\"]]}],\"contourcarpet\":[{\"type\":\"contourcarpet\",\"colorbar\":{\"outlinewidth\":0,\"ticks\":\"\"}}],\"contour\":[{\"type\":\"contour\",\"colorbar\":{\"outlinewidth\":0,\"ticks\":\"\"},\"colorscale\":[[0.0,\"#0d0887\"],[0.1111111111111111,\"#46039f\"],[0.2222222222222222,\"#7201a8\"],[0.3333333333333333,\"#9c179e\"],[0.4444444444444444,\"#bd3786\"],[0.5555555555555556,\"#d8576b\"],[0.6666666666666666,\"#ed7953\"],[0.7777777777777778,\"#fb9f3a\"],[0.8888888888888888,\"#fdca26\"],[1.0,\"#f0f921\"]]}],\"surface\":[{\"type\":\"surface\",\"colorbar\":{\"outlinewidth\":0,\"ticks\":\"\"},\"colorscale\":[[0.0,\"#0d0887\"],[0.1111111111111111,\"#46039f\"],[0.2222222222222222,\"#7201a8\"],[0.3333333333333333,\"#9c179e\"],[0.4444444444444444,\"#bd3786\"],[0.5555555555555556,\"#d8576b\"],[0.6666666666666666,\"#ed7953\"],[0.7777777777777778,\"#fb9f3a\"],[0.8888888888888888,\"#fdca26\"],[1.0,\"#f0f921\"]]}],\"mesh3d\":[{\"type\":\"mesh3d\",\"colorbar\":{\"outlinewidth\":0,\"ticks\":\"\"}}],\"scatter\":[{\"fillpattern\":{\"fillmode\":\"overlay\",\"size\":10,\"solidity\":0.2},\"type\":\"scatter\"}],\"parcoords\":[{\"type\":\"parcoords\",\"line\":{\"colorbar\":{\"outlinewidth\":0,\"ticks\":\"\"}}}],\"scatterpolargl\":[{\"type\":\"scatterpolargl\",\"marker\":{\"colorbar\":{\"outlinewidth\":0,\"ticks\":\"\"}}}],\"bar\":[{\"error_x\":{\"color\":\"#2a3f5f\"},\"error_y\":{\"color\":\"#2a3f5f\"},\"marker\":{\"line\":{\"color\":\"#E5ECF6\",\"width\":0.5},\"pattern\":{\"fillmode\":\"overlay\",\"size\":10,\"solidity\":0.2}},\"type\":\"bar\"}],\"scattergeo\":[{\"type\":\"scattergeo\",\"marker\":{\"colorbar\":{\"outlinewidth\":0,\"ticks\":\"\"}}}],\"scatterpolar\":[{\"type\":\"scatterpolar\",\"marker\":{\"colorbar\":{\"outlinewidth\":0,\"ticks\":\"\"}}}],\"histogram\":[{\"marker\":{\"pattern\":{\"fillmode\":\"overlay\",\"size\":10,\"solidity\":0.2}},\"type\":\"histogram\"}],\"scattergl\":[{\"type\":\"scattergl\",\"marker\":{\"colorbar\":{\"outlinewidth\":0,\"ticks\":\"\"}}}],\"scatter3d\":[{\"type\":\"scatter3d\",\"line\":{\"colorbar\":{\"outlinewidth\":0,\"ticks\":\"\"}},\"marker\":{\"colorbar\":{\"outlinewidth\":0,\"ticks\":\"\"}}}],\"scattermapbox\":[{\"type\":\"scattermapbox\",\"marker\":{\"colorbar\":{\"outlinewidth\":0,\"ticks\":\"\"}}}],\"scatterternary\":[{\"type\":\"scatterternary\",\"marker\":{\"colorbar\":{\"outlinewidth\":0,\"ticks\":\"\"}}}],\"scattercarpet\":[{\"type\":\"scattercarpet\",\"marker\":{\"colorbar\":{\"outlinewidth\":0,\"ticks\":\"\"}}}],\"carpet\":[{\"aaxis\":{\"endlinecolor\":\"#2a3f5f\",\"gridcolor\":\"white\",\"linecolor\":\"white\",\"minorgridcolor\":\"white\",\"startlinecolor\":\"#2a3f5f\"},\"baxis\":{\"endlinecolor\":\"#2a3f5f\",\"gridcolor\":\"white\",\"linecolor\":\"white\",\"minorgridcolor\":\"white\",\"startlinecolor\":\"#2a3f5f\"},\"type\":\"carpet\"}],\"table\":[{\"cells\":{\"fill\":{\"color\":\"#EBF0F8\"},\"line\":{\"color\":\"white\"}},\"header\":{\"fill\":{\"color\":\"#C8D4E3\"},\"line\":{\"color\":\"white\"}},\"type\":\"table\"}],\"barpolar\":[{\"marker\":{\"line\":{\"color\":\"#E5ECF6\",\"width\":0.5},\"pattern\":{\"fillmode\":\"overlay\",\"size\":10,\"solidity\":0.2}},\"type\":\"barpolar\"}],\"pie\":[{\"automargin\":true,\"type\":\"pie\"}]},\"layout\":{\"autotypenumbers\":\"strict\",\"colorway\":[\"#636efa\",\"#EF553B\",\"#00cc96\",\"#ab63fa\",\"#FFA15A\",\"#19d3f3\",\"#FF6692\",\"#B6E880\",\"#FF97FF\",\"#FECB52\"],\"font\":{\"color\":\"#2a3f5f\"},\"hovermode\":\"closest\",\"hoverlabel\":{\"align\":\"left\"},\"paper_bgcolor\":\"white\",\"plot_bgcolor\":\"#E5ECF6\",\"polar\":{\"bgcolor\":\"#E5ECF6\",\"angularaxis\":{\"gridcolor\":\"white\",\"linecolor\":\"white\",\"ticks\":\"\"},\"radialaxis\":{\"gridcolor\":\"white\",\"linecolor\":\"white\",\"ticks\":\"\"}},\"ternary\":{\"bgcolor\":\"#E5ECF6\",\"aaxis\":{\"gridcolor\":\"white\",\"linecolor\":\"white\",\"ticks\":\"\"},\"baxis\":{\"gridcolor\":\"white\",\"linecolor\":\"white\",\"ticks\":\"\"},\"caxis\":{\"gridcolor\":\"white\",\"linecolor\":\"white\",\"ticks\":\"\"}},\"coloraxis\":{\"colorbar\":{\"outlinewidth\":0,\"ticks\":\"\"}},\"colorscale\":{\"sequential\":[[0.0,\"#0d0887\"],[0.1111111111111111,\"#46039f\"],[0.2222222222222222,\"#7201a8\"],[0.3333333333333333,\"#9c179e\"],[0.4444444444444444,\"#bd3786\"],[0.5555555555555556,\"#d8576b\"],[0.6666666666666666,\"#ed7953\"],[0.7777777777777778,\"#fb9f3a\"],[0.8888888888888888,\"#fdca26\"],[1.0,\"#f0f921\"]],\"sequentialminus\":[[0.0,\"#0d0887\"],[0.1111111111111111,\"#46039f\"],[0.2222222222222222,\"#7201a8\"],[0.3333333333333333,\"#9c179e\"],[0.4444444444444444,\"#bd3786\"],[0.5555555555555556,\"#d8576b\"],[0.6666666666666666,\"#ed7953\"],[0.7777777777777778,\"#fb9f3a\"],[0.8888888888888888,\"#fdca26\"],[1.0,\"#f0f921\"]],\"diverging\":[[0,\"#8e0152\"],[0.1,\"#c51b7d\"],[0.2,\"#de77ae\"],[0.3,\"#f1b6da\"],[0.4,\"#fde0ef\"],[0.5,\"#f7f7f7\"],[0.6,\"#e6f5d0\"],[0.7,\"#b8e186\"],[0.8,\"#7fbc41\"],[0.9,\"#4d9221\"],[1,\"#276419\"]]},\"xaxis\":{\"gridcolor\":\"white\",\"linecolor\":\"white\",\"ticks\":\"\",\"title\":{\"standoff\":15},\"zerolinecolor\":\"white\",\"automargin\":true,\"zerolinewidth\":2},\"yaxis\":{\"gridcolor\":\"white\",\"linecolor\":\"white\",\"ticks\":\"\",\"title\":{\"standoff\":15},\"zerolinecolor\":\"white\",\"automargin\":true,\"zerolinewidth\":2},\"scene\":{\"xaxis\":{\"backgroundcolor\":\"#E5ECF6\",\"gridcolor\":\"white\",\"linecolor\":\"white\",\"showbackground\":true,\"ticks\":\"\",\"zerolinecolor\":\"white\",\"gridwidth\":2},\"yaxis\":{\"backgroundcolor\":\"#E5ECF6\",\"gridcolor\":\"white\",\"linecolor\":\"white\",\"showbackground\":true,\"ticks\":\"\",\"zerolinecolor\":\"white\",\"gridwidth\":2},\"zaxis\":{\"backgroundcolor\":\"#E5ECF6\",\"gridcolor\":\"white\",\"linecolor\":\"white\",\"showbackground\":true,\"ticks\":\"\",\"zerolinecolor\":\"white\",\"gridwidth\":2}},\"shapedefaults\":{\"line\":{\"color\":\"#2a3f5f\"}},\"annotationdefaults\":{\"arrowcolor\":\"#2a3f5f\",\"arrowhead\":0,\"arrowwidth\":1},\"geo\":{\"bgcolor\":\"white\",\"landcolor\":\"#E5ECF6\",\"subunitcolor\":\"white\",\"showland\":true,\"showlakes\":true,\"lakecolor\":\"white\"},\"title\":{\"x\":0.05},\"mapbox\":{\"style\":\"light\"}}},\"xaxis\":{\"anchor\":\"y\",\"domain\":[0.0,1.0],\"title\":{\"text\":\"Level of Mosaicism (%)\"},\"type\":\"log\",\"tickvals\":[0.5,2.0,10.0],\"range\":[-2,3.25]},\"yaxis\":{\"anchor\":\"x\",\"domain\":[0.0,1.0],\"title\":{\"text\":\"Precision (L1)\"},\"range\":[0,1.1],\"tickvals\":[0,0.2,0.4,0.6,0.8,1]},\"legend\":{\"title\":{\"text\":\"depth\",\"font\":{\"size\":18,\"color\":\"black\"}},\"tracegroupgap\":0,\"font\":{\"size\":16},\"traceorder\":\"normal\",\"orientation\":\"v\",\"y\":1.1,\"x\":0.01},\"margin\":{\"t\":60},\"font\":{\"family\":\"Arial, sans-serif\",\"size\":18,\"color\":\"RebeccaPurple\"},\"width\":600,\"title\":{\"text\":\"Precision Plot-RetroSom-v3\"}},                        {\"responsive\": true}                    ).then(function(){\n",
       "                            \n",
       "var gd = document.getElementById('00ba9b87-af24-406a-8f2c-62aa6ae75834');\n",
       "var x = new MutationObserver(function (mutations, observer) {{\n",
       "        var display = window.getComputedStyle(gd).display;\n",
       "        if (!display || display === 'none') {{\n",
       "            console.log([gd, 'removed!']);\n",
       "            Plotly.purge(gd);\n",
       "            observer.disconnect();\n",
       "        }}\n",
       "}});\n",
       "\n",
       "// Listen for the removal of the full notebook cells\n",
       "var notebookContainer = gd.closest('#notebook-container');\n",
       "if (notebookContainer) {{\n",
       "    x.observe(notebookContainer, {childList: true});\n",
       "}}\n",
       "\n",
       "// Listen for the clearing of the current output cell\n",
       "var outputEl = gd.closest('.output');\n",
       "if (outputEl) {{\n",
       "    x.observe(outputEl, {childList: true});\n",
       "}}\n",
       "\n",
       "                        })                };                });            </script>        </div>"
      ]
     },
     "metadata": {},
     "output_type": "display_data"
    },
    {
     "data": {
      "application/vnd.plotly.v1+json": {
       "config": {
        "plotlyServerURL": "https://plot.ly"
       },
       "data": [],
       "layout": {
        "font": {
         "color": "RebeccaPurple",
         "family": "Arial, sans-serif",
         "size": 18
        },
        "legend": {
         "font": {
          "size": 16
         },
         "orientation": "v",
         "title": {
          "font": {
           "color": "black",
           "size": 18
          },
          "text": "depth"
         },
         "tracegroupgap": 0,
         "traceorder": "normal",
         "x": 0.01,
         "y": 1.1
        },
        "margin": {
         "t": 60
        },
        "template": {
         "data": {
          "bar": [
           {
            "error_x": {
             "color": "#2a3f5f"
            },
            "error_y": {
             "color": "#2a3f5f"
            },
            "marker": {
             "line": {
              "color": "#E5ECF6",
              "width": 0.5
             },
             "pattern": {
              "fillmode": "overlay",
              "size": 10,
              "solidity": 0.2
             }
            },
            "type": "bar"
           }
          ],
          "barpolar": [
           {
            "marker": {
             "line": {
              "color": "#E5ECF6",
              "width": 0.5
             },
             "pattern": {
              "fillmode": "overlay",
              "size": 10,
              "solidity": 0.2
             }
            },
            "type": "barpolar"
           }
          ],
          "carpet": [
           {
            "aaxis": {
             "endlinecolor": "#2a3f5f",
             "gridcolor": "white",
             "linecolor": "white",
             "minorgridcolor": "white",
             "startlinecolor": "#2a3f5f"
            },
            "baxis": {
             "endlinecolor": "#2a3f5f",
             "gridcolor": "white",
             "linecolor": "white",
             "minorgridcolor": "white",
             "startlinecolor": "#2a3f5f"
            },
            "type": "carpet"
           }
          ],
          "choropleth": [
           {
            "colorbar": {
             "outlinewidth": 0,
             "ticks": ""
            },
            "type": "choropleth"
           }
          ],
          "contour": [
           {
            "colorbar": {
             "outlinewidth": 0,
             "ticks": ""
            },
            "colorscale": [
             [
              0,
              "#0d0887"
             ],
             [
              0.1111111111111111,
              "#46039f"
             ],
             [
              0.2222222222222222,
              "#7201a8"
             ],
             [
              0.3333333333333333,
              "#9c179e"
             ],
             [
              0.4444444444444444,
              "#bd3786"
             ],
             [
              0.5555555555555556,
              "#d8576b"
             ],
             [
              0.6666666666666666,
              "#ed7953"
             ],
             [
              0.7777777777777778,
              "#fb9f3a"
             ],
             [
              0.8888888888888888,
              "#fdca26"
             ],
             [
              1,
              "#f0f921"
             ]
            ],
            "type": "contour"
           }
          ],
          "contourcarpet": [
           {
            "colorbar": {
             "outlinewidth": 0,
             "ticks": ""
            },
            "type": "contourcarpet"
           }
          ],
          "heatmap": [
           {
            "colorbar": {
             "outlinewidth": 0,
             "ticks": ""
            },
            "colorscale": [
             [
              0,
              "#0d0887"
             ],
             [
              0.1111111111111111,
              "#46039f"
             ],
             [
              0.2222222222222222,
              "#7201a8"
             ],
             [
              0.3333333333333333,
              "#9c179e"
             ],
             [
              0.4444444444444444,
              "#bd3786"
             ],
             [
              0.5555555555555556,
              "#d8576b"
             ],
             [
              0.6666666666666666,
              "#ed7953"
             ],
             [
              0.7777777777777778,
              "#fb9f3a"
             ],
             [
              0.8888888888888888,
              "#fdca26"
             ],
             [
              1,
              "#f0f921"
             ]
            ],
            "type": "heatmap"
           }
          ],
          "heatmapgl": [
           {
            "colorbar": {
             "outlinewidth": 0,
             "ticks": ""
            },
            "colorscale": [
             [
              0,
              "#0d0887"
             ],
             [
              0.1111111111111111,
              "#46039f"
             ],
             [
              0.2222222222222222,
              "#7201a8"
             ],
             [
              0.3333333333333333,
              "#9c179e"
             ],
             [
              0.4444444444444444,
              "#bd3786"
             ],
             [
              0.5555555555555556,
              "#d8576b"
             ],
             [
              0.6666666666666666,
              "#ed7953"
             ],
             [
              0.7777777777777778,
              "#fb9f3a"
             ],
             [
              0.8888888888888888,
              "#fdca26"
             ],
             [
              1,
              "#f0f921"
             ]
            ],
            "type": "heatmapgl"
           }
          ],
          "histogram": [
           {
            "marker": {
             "pattern": {
              "fillmode": "overlay",
              "size": 10,
              "solidity": 0.2
             }
            },
            "type": "histogram"
           }
          ],
          "histogram2d": [
           {
            "colorbar": {
             "outlinewidth": 0,
             "ticks": ""
            },
            "colorscale": [
             [
              0,
              "#0d0887"
             ],
             [
              0.1111111111111111,
              "#46039f"
             ],
             [
              0.2222222222222222,
              "#7201a8"
             ],
             [
              0.3333333333333333,
              "#9c179e"
             ],
             [
              0.4444444444444444,
              "#bd3786"
             ],
             [
              0.5555555555555556,
              "#d8576b"
             ],
             [
              0.6666666666666666,
              "#ed7953"
             ],
             [
              0.7777777777777778,
              "#fb9f3a"
             ],
             [
              0.8888888888888888,
              "#fdca26"
             ],
             [
              1,
              "#f0f921"
             ]
            ],
            "type": "histogram2d"
           }
          ],
          "histogram2dcontour": [
           {
            "colorbar": {
             "outlinewidth": 0,
             "ticks": ""
            },
            "colorscale": [
             [
              0,
              "#0d0887"
             ],
             [
              0.1111111111111111,
              "#46039f"
             ],
             [
              0.2222222222222222,
              "#7201a8"
             ],
             [
              0.3333333333333333,
              "#9c179e"
             ],
             [
              0.4444444444444444,
              "#bd3786"
             ],
             [
              0.5555555555555556,
              "#d8576b"
             ],
             [
              0.6666666666666666,
              "#ed7953"
             ],
             [
              0.7777777777777778,
              "#fb9f3a"
             ],
             [
              0.8888888888888888,
              "#fdca26"
             ],
             [
              1,
              "#f0f921"
             ]
            ],
            "type": "histogram2dcontour"
           }
          ],
          "mesh3d": [
           {
            "colorbar": {
             "outlinewidth": 0,
             "ticks": ""
            },
            "type": "mesh3d"
           }
          ],
          "parcoords": [
           {
            "line": {
             "colorbar": {
              "outlinewidth": 0,
              "ticks": ""
             }
            },
            "type": "parcoords"
           }
          ],
          "pie": [
           {
            "automargin": true,
            "type": "pie"
           }
          ],
          "scatter": [
           {
            "fillpattern": {
             "fillmode": "overlay",
             "size": 10,
             "solidity": 0.2
            },
            "type": "scatter"
           }
          ],
          "scatter3d": [
           {
            "line": {
             "colorbar": {
              "outlinewidth": 0,
              "ticks": ""
             }
            },
            "marker": {
             "colorbar": {
              "outlinewidth": 0,
              "ticks": ""
             }
            },
            "type": "scatter3d"
           }
          ],
          "scattercarpet": [
           {
            "marker": {
             "colorbar": {
              "outlinewidth": 0,
              "ticks": ""
             }
            },
            "type": "scattercarpet"
           }
          ],
          "scattergeo": [
           {
            "marker": {
             "colorbar": {
              "outlinewidth": 0,
              "ticks": ""
             }
            },
            "type": "scattergeo"
           }
          ],
          "scattergl": [
           {
            "marker": {
             "colorbar": {
              "outlinewidth": 0,
              "ticks": ""
             }
            },
            "type": "scattergl"
           }
          ],
          "scattermapbox": [
           {
            "marker": {
             "colorbar": {
              "outlinewidth": 0,
              "ticks": ""
             }
            },
            "type": "scattermapbox"
           }
          ],
          "scatterpolar": [
           {
            "marker": {
             "colorbar": {
              "outlinewidth": 0,
              "ticks": ""
             }
            },
            "type": "scatterpolar"
           }
          ],
          "scatterpolargl": [
           {
            "marker": {
             "colorbar": {
              "outlinewidth": 0,
              "ticks": ""
             }
            },
            "type": "scatterpolargl"
           }
          ],
          "scatterternary": [
           {
            "marker": {
             "colorbar": {
              "outlinewidth": 0,
              "ticks": ""
             }
            },
            "type": "scatterternary"
           }
          ],
          "surface": [
           {
            "colorbar": {
             "outlinewidth": 0,
             "ticks": ""
            },
            "colorscale": [
             [
              0,
              "#0d0887"
             ],
             [
              0.1111111111111111,
              "#46039f"
             ],
             [
              0.2222222222222222,
              "#7201a8"
             ],
             [
              0.3333333333333333,
              "#9c179e"
             ],
             [
              0.4444444444444444,
              "#bd3786"
             ],
             [
              0.5555555555555556,
              "#d8576b"
             ],
             [
              0.6666666666666666,
              "#ed7953"
             ],
             [
              0.7777777777777778,
              "#fb9f3a"
             ],
             [
              0.8888888888888888,
              "#fdca26"
             ],
             [
              1,
              "#f0f921"
             ]
            ],
            "type": "surface"
           }
          ],
          "table": [
           {
            "cells": {
             "fill": {
              "color": "#EBF0F8"
             },
             "line": {
              "color": "white"
             }
            },
            "header": {
             "fill": {
              "color": "#C8D4E3"
             },
             "line": {
              "color": "white"
             }
            },
            "type": "table"
           }
          ]
         },
         "layout": {
          "annotationdefaults": {
           "arrowcolor": "#2a3f5f",
           "arrowhead": 0,
           "arrowwidth": 1
          },
          "autotypenumbers": "strict",
          "coloraxis": {
           "colorbar": {
            "outlinewidth": 0,
            "ticks": ""
           }
          },
          "colorscale": {
           "diverging": [
            [
             0,
             "#8e0152"
            ],
            [
             0.1,
             "#c51b7d"
            ],
            [
             0.2,
             "#de77ae"
            ],
            [
             0.3,
             "#f1b6da"
            ],
            [
             0.4,
             "#fde0ef"
            ],
            [
             0.5,
             "#f7f7f7"
            ],
            [
             0.6,
             "#e6f5d0"
            ],
            [
             0.7,
             "#b8e186"
            ],
            [
             0.8,
             "#7fbc41"
            ],
            [
             0.9,
             "#4d9221"
            ],
            [
             1,
             "#276419"
            ]
           ],
           "sequential": [
            [
             0,
             "#0d0887"
            ],
            [
             0.1111111111111111,
             "#46039f"
            ],
            [
             0.2222222222222222,
             "#7201a8"
            ],
            [
             0.3333333333333333,
             "#9c179e"
            ],
            [
             0.4444444444444444,
             "#bd3786"
            ],
            [
             0.5555555555555556,
             "#d8576b"
            ],
            [
             0.6666666666666666,
             "#ed7953"
            ],
            [
             0.7777777777777778,
             "#fb9f3a"
            ],
            [
             0.8888888888888888,
             "#fdca26"
            ],
            [
             1,
             "#f0f921"
            ]
           ],
           "sequentialminus": [
            [
             0,
             "#0d0887"
            ],
            [
             0.1111111111111111,
             "#46039f"
            ],
            [
             0.2222222222222222,
             "#7201a8"
            ],
            [
             0.3333333333333333,
             "#9c179e"
            ],
            [
             0.4444444444444444,
             "#bd3786"
            ],
            [
             0.5555555555555556,
             "#d8576b"
            ],
            [
             0.6666666666666666,
             "#ed7953"
            ],
            [
             0.7777777777777778,
             "#fb9f3a"
            ],
            [
             0.8888888888888888,
             "#fdca26"
            ],
            [
             1,
             "#f0f921"
            ]
           ]
          },
          "colorway": [
           "#636efa",
           "#EF553B",
           "#00cc96",
           "#ab63fa",
           "#FFA15A",
           "#19d3f3",
           "#FF6692",
           "#B6E880",
           "#FF97FF",
           "#FECB52"
          ],
          "font": {
           "color": "#2a3f5f"
          },
          "geo": {
           "bgcolor": "white",
           "lakecolor": "white",
           "landcolor": "#E5ECF6",
           "showlakes": true,
           "showland": true,
           "subunitcolor": "white"
          },
          "hoverlabel": {
           "align": "left"
          },
          "hovermode": "closest",
          "mapbox": {
           "style": "light"
          },
          "paper_bgcolor": "white",
          "plot_bgcolor": "#E5ECF6",
          "polar": {
           "angularaxis": {
            "gridcolor": "white",
            "linecolor": "white",
            "ticks": ""
           },
           "bgcolor": "#E5ECF6",
           "radialaxis": {
            "gridcolor": "white",
            "linecolor": "white",
            "ticks": ""
           }
          },
          "scene": {
           "xaxis": {
            "backgroundcolor": "#E5ECF6",
            "gridcolor": "white",
            "gridwidth": 2,
            "linecolor": "white",
            "showbackground": true,
            "ticks": "",
            "zerolinecolor": "white"
           },
           "yaxis": {
            "backgroundcolor": "#E5ECF6",
            "gridcolor": "white",
            "gridwidth": 2,
            "linecolor": "white",
            "showbackground": true,
            "ticks": "",
            "zerolinecolor": "white"
           },
           "zaxis": {
            "backgroundcolor": "#E5ECF6",
            "gridcolor": "white",
            "gridwidth": 2,
            "linecolor": "white",
            "showbackground": true,
            "ticks": "",
            "zerolinecolor": "white"
           }
          },
          "shapedefaults": {
           "line": {
            "color": "#2a3f5f"
           }
          },
          "ternary": {
           "aaxis": {
            "gridcolor": "white",
            "linecolor": "white",
            "ticks": ""
           },
           "baxis": {
            "gridcolor": "white",
            "linecolor": "white",
            "ticks": ""
           },
           "bgcolor": "#E5ECF6",
           "caxis": {
            "gridcolor": "white",
            "linecolor": "white",
            "ticks": ""
           }
          },
          "title": {
           "x": 0.05
          },
          "xaxis": {
           "automargin": true,
           "gridcolor": "white",
           "linecolor": "white",
           "ticks": "",
           "title": {
            "standoff": 15
           },
           "zerolinecolor": "white",
           "zerolinewidth": 2
          },
          "yaxis": {
           "automargin": true,
           "gridcolor": "white",
           "linecolor": "white",
           "ticks": "",
           "title": {
            "standoff": 15
           },
           "zerolinecolor": "white",
           "zerolinewidth": 2
          }
         }
        },
        "title": {
         "text": "Precision Plot-xTea-mosaic"
        },
        "width": 600,
        "xaxis": {
         "anchor": "y",
         "domain": [
          0,
          1
         ],
         "range": [
          -2,
          3.25
         ],
         "tickvals": [
          0.5,
          2,
          10
         ],
         "title": {
          "text": "Level of Mosaicism (%)"
         },
         "type": "log"
        },
        "yaxis": {
         "anchor": "x",
         "domain": [
          0,
          1
         ],
         "range": [
          0,
          1.1
         ],
         "tickvals": [
          0,
          0.2,
          0.4,
          0.6,
          0.8,
          1
         ],
         "title": {
          "text": "Precision (Alu)"
         }
        }
       }
      },
      "text/html": [
       "<div>                            <div id=\"1885fcc1-c663-40fd-aea5-7629a951bc8f\" class=\"plotly-graph-div\" style=\"height:525px; width:600px;\"></div>            <script type=\"text/javascript\">                require([\"plotly\"], function(Plotly) {                    window.PLOTLYENV=window.PLOTLYENV || {};                                    if (document.getElementById(\"1885fcc1-c663-40fd-aea5-7629a951bc8f\")) {                    Plotly.newPlot(                        \"1885fcc1-c663-40fd-aea5-7629a951bc8f\",                        [],                        {\"template\":{\"data\":{\"histogram2dcontour\":[{\"type\":\"histogram2dcontour\",\"colorbar\":{\"outlinewidth\":0,\"ticks\":\"\"},\"colorscale\":[[0.0,\"#0d0887\"],[0.1111111111111111,\"#46039f\"],[0.2222222222222222,\"#7201a8\"],[0.3333333333333333,\"#9c179e\"],[0.4444444444444444,\"#bd3786\"],[0.5555555555555556,\"#d8576b\"],[0.6666666666666666,\"#ed7953\"],[0.7777777777777778,\"#fb9f3a\"],[0.8888888888888888,\"#fdca26\"],[1.0,\"#f0f921\"]]}],\"choropleth\":[{\"type\":\"choropleth\",\"colorbar\":{\"outlinewidth\":0,\"ticks\":\"\"}}],\"histogram2d\":[{\"type\":\"histogram2d\",\"colorbar\":{\"outlinewidth\":0,\"ticks\":\"\"},\"colorscale\":[[0.0,\"#0d0887\"],[0.1111111111111111,\"#46039f\"],[0.2222222222222222,\"#7201a8\"],[0.3333333333333333,\"#9c179e\"],[0.4444444444444444,\"#bd3786\"],[0.5555555555555556,\"#d8576b\"],[0.6666666666666666,\"#ed7953\"],[0.7777777777777778,\"#fb9f3a\"],[0.8888888888888888,\"#fdca26\"],[1.0,\"#f0f921\"]]}],\"heatmap\":[{\"type\":\"heatmap\",\"colorbar\":{\"outlinewidth\":0,\"ticks\":\"\"},\"colorscale\":[[0.0,\"#0d0887\"],[0.1111111111111111,\"#46039f\"],[0.2222222222222222,\"#7201a8\"],[0.3333333333333333,\"#9c179e\"],[0.4444444444444444,\"#bd3786\"],[0.5555555555555556,\"#d8576b\"],[0.6666666666666666,\"#ed7953\"],[0.7777777777777778,\"#fb9f3a\"],[0.8888888888888888,\"#fdca26\"],[1.0,\"#f0f921\"]]}],\"heatmapgl\":[{\"type\":\"heatmapgl\",\"colorbar\":{\"outlinewidth\":0,\"ticks\":\"\"},\"colorscale\":[[0.0,\"#0d0887\"],[0.1111111111111111,\"#46039f\"],[0.2222222222222222,\"#7201a8\"],[0.3333333333333333,\"#9c179e\"],[0.4444444444444444,\"#bd3786\"],[0.5555555555555556,\"#d8576b\"],[0.6666666666666666,\"#ed7953\"],[0.7777777777777778,\"#fb9f3a\"],[0.8888888888888888,\"#fdca26\"],[1.0,\"#f0f921\"]]}],\"contourcarpet\":[{\"type\":\"contourcarpet\",\"colorbar\":{\"outlinewidth\":0,\"ticks\":\"\"}}],\"contour\":[{\"type\":\"contour\",\"colorbar\":{\"outlinewidth\":0,\"ticks\":\"\"},\"colorscale\":[[0.0,\"#0d0887\"],[0.1111111111111111,\"#46039f\"],[0.2222222222222222,\"#7201a8\"],[0.3333333333333333,\"#9c179e\"],[0.4444444444444444,\"#bd3786\"],[0.5555555555555556,\"#d8576b\"],[0.6666666666666666,\"#ed7953\"],[0.7777777777777778,\"#fb9f3a\"],[0.8888888888888888,\"#fdca26\"],[1.0,\"#f0f921\"]]}],\"surface\":[{\"type\":\"surface\",\"colorbar\":{\"outlinewidth\":0,\"ticks\":\"\"},\"colorscale\":[[0.0,\"#0d0887\"],[0.1111111111111111,\"#46039f\"],[0.2222222222222222,\"#7201a8\"],[0.3333333333333333,\"#9c179e\"],[0.4444444444444444,\"#bd3786\"],[0.5555555555555556,\"#d8576b\"],[0.6666666666666666,\"#ed7953\"],[0.7777777777777778,\"#fb9f3a\"],[0.8888888888888888,\"#fdca26\"],[1.0,\"#f0f921\"]]}],\"mesh3d\":[{\"type\":\"mesh3d\",\"colorbar\":{\"outlinewidth\":0,\"ticks\":\"\"}}],\"scatter\":[{\"fillpattern\":{\"fillmode\":\"overlay\",\"size\":10,\"solidity\":0.2},\"type\":\"scatter\"}],\"parcoords\":[{\"type\":\"parcoords\",\"line\":{\"colorbar\":{\"outlinewidth\":0,\"ticks\":\"\"}}}],\"scatterpolargl\":[{\"type\":\"scatterpolargl\",\"marker\":{\"colorbar\":{\"outlinewidth\":0,\"ticks\":\"\"}}}],\"bar\":[{\"error_x\":{\"color\":\"#2a3f5f\"},\"error_y\":{\"color\":\"#2a3f5f\"},\"marker\":{\"line\":{\"color\":\"#E5ECF6\",\"width\":0.5},\"pattern\":{\"fillmode\":\"overlay\",\"size\":10,\"solidity\":0.2}},\"type\":\"bar\"}],\"scattergeo\":[{\"type\":\"scattergeo\",\"marker\":{\"colorbar\":{\"outlinewidth\":0,\"ticks\":\"\"}}}],\"scatterpolar\":[{\"type\":\"scatterpolar\",\"marker\":{\"colorbar\":{\"outlinewidth\":0,\"ticks\":\"\"}}}],\"histogram\":[{\"marker\":{\"pattern\":{\"fillmode\":\"overlay\",\"size\":10,\"solidity\":0.2}},\"type\":\"histogram\"}],\"scattergl\":[{\"type\":\"scattergl\",\"marker\":{\"colorbar\":{\"outlinewidth\":0,\"ticks\":\"\"}}}],\"scatter3d\":[{\"type\":\"scatter3d\",\"line\":{\"colorbar\":{\"outlinewidth\":0,\"ticks\":\"\"}},\"marker\":{\"colorbar\":{\"outlinewidth\":0,\"ticks\":\"\"}}}],\"scattermapbox\":[{\"type\":\"scattermapbox\",\"marker\":{\"colorbar\":{\"outlinewidth\":0,\"ticks\":\"\"}}}],\"scatterternary\":[{\"type\":\"scatterternary\",\"marker\":{\"colorbar\":{\"outlinewidth\":0,\"ticks\":\"\"}}}],\"scattercarpet\":[{\"type\":\"scattercarpet\",\"marker\":{\"colorbar\":{\"outlinewidth\":0,\"ticks\":\"\"}}}],\"carpet\":[{\"aaxis\":{\"endlinecolor\":\"#2a3f5f\",\"gridcolor\":\"white\",\"linecolor\":\"white\",\"minorgridcolor\":\"white\",\"startlinecolor\":\"#2a3f5f\"},\"baxis\":{\"endlinecolor\":\"#2a3f5f\",\"gridcolor\":\"white\",\"linecolor\":\"white\",\"minorgridcolor\":\"white\",\"startlinecolor\":\"#2a3f5f\"},\"type\":\"carpet\"}],\"table\":[{\"cells\":{\"fill\":{\"color\":\"#EBF0F8\"},\"line\":{\"color\":\"white\"}},\"header\":{\"fill\":{\"color\":\"#C8D4E3\"},\"line\":{\"color\":\"white\"}},\"type\":\"table\"}],\"barpolar\":[{\"marker\":{\"line\":{\"color\":\"#E5ECF6\",\"width\":0.5},\"pattern\":{\"fillmode\":\"overlay\",\"size\":10,\"solidity\":0.2}},\"type\":\"barpolar\"}],\"pie\":[{\"automargin\":true,\"type\":\"pie\"}]},\"layout\":{\"autotypenumbers\":\"strict\",\"colorway\":[\"#636efa\",\"#EF553B\",\"#00cc96\",\"#ab63fa\",\"#FFA15A\",\"#19d3f3\",\"#FF6692\",\"#B6E880\",\"#FF97FF\",\"#FECB52\"],\"font\":{\"color\":\"#2a3f5f\"},\"hovermode\":\"closest\",\"hoverlabel\":{\"align\":\"left\"},\"paper_bgcolor\":\"white\",\"plot_bgcolor\":\"#E5ECF6\",\"polar\":{\"bgcolor\":\"#E5ECF6\",\"angularaxis\":{\"gridcolor\":\"white\",\"linecolor\":\"white\",\"ticks\":\"\"},\"radialaxis\":{\"gridcolor\":\"white\",\"linecolor\":\"white\",\"ticks\":\"\"}},\"ternary\":{\"bgcolor\":\"#E5ECF6\",\"aaxis\":{\"gridcolor\":\"white\",\"linecolor\":\"white\",\"ticks\":\"\"},\"baxis\":{\"gridcolor\":\"white\",\"linecolor\":\"white\",\"ticks\":\"\"},\"caxis\":{\"gridcolor\":\"white\",\"linecolor\":\"white\",\"ticks\":\"\"}},\"coloraxis\":{\"colorbar\":{\"outlinewidth\":0,\"ticks\":\"\"}},\"colorscale\":{\"sequential\":[[0.0,\"#0d0887\"],[0.1111111111111111,\"#46039f\"],[0.2222222222222222,\"#7201a8\"],[0.3333333333333333,\"#9c179e\"],[0.4444444444444444,\"#bd3786\"],[0.5555555555555556,\"#d8576b\"],[0.6666666666666666,\"#ed7953\"],[0.7777777777777778,\"#fb9f3a\"],[0.8888888888888888,\"#fdca26\"],[1.0,\"#f0f921\"]],\"sequentialminus\":[[0.0,\"#0d0887\"],[0.1111111111111111,\"#46039f\"],[0.2222222222222222,\"#7201a8\"],[0.3333333333333333,\"#9c179e\"],[0.4444444444444444,\"#bd3786\"],[0.5555555555555556,\"#d8576b\"],[0.6666666666666666,\"#ed7953\"],[0.7777777777777778,\"#fb9f3a\"],[0.8888888888888888,\"#fdca26\"],[1.0,\"#f0f921\"]],\"diverging\":[[0,\"#8e0152\"],[0.1,\"#c51b7d\"],[0.2,\"#de77ae\"],[0.3,\"#f1b6da\"],[0.4,\"#fde0ef\"],[0.5,\"#f7f7f7\"],[0.6,\"#e6f5d0\"],[0.7,\"#b8e186\"],[0.8,\"#7fbc41\"],[0.9,\"#4d9221\"],[1,\"#276419\"]]},\"xaxis\":{\"gridcolor\":\"white\",\"linecolor\":\"white\",\"ticks\":\"\",\"title\":{\"standoff\":15},\"zerolinecolor\":\"white\",\"automargin\":true,\"zerolinewidth\":2},\"yaxis\":{\"gridcolor\":\"white\",\"linecolor\":\"white\",\"ticks\":\"\",\"title\":{\"standoff\":15},\"zerolinecolor\":\"white\",\"automargin\":true,\"zerolinewidth\":2},\"scene\":{\"xaxis\":{\"backgroundcolor\":\"#E5ECF6\",\"gridcolor\":\"white\",\"linecolor\":\"white\",\"showbackground\":true,\"ticks\":\"\",\"zerolinecolor\":\"white\",\"gridwidth\":2},\"yaxis\":{\"backgroundcolor\":\"#E5ECF6\",\"gridcolor\":\"white\",\"linecolor\":\"white\",\"showbackground\":true,\"ticks\":\"\",\"zerolinecolor\":\"white\",\"gridwidth\":2},\"zaxis\":{\"backgroundcolor\":\"#E5ECF6\",\"gridcolor\":\"white\",\"linecolor\":\"white\",\"showbackground\":true,\"ticks\":\"\",\"zerolinecolor\":\"white\",\"gridwidth\":2}},\"shapedefaults\":{\"line\":{\"color\":\"#2a3f5f\"}},\"annotationdefaults\":{\"arrowcolor\":\"#2a3f5f\",\"arrowhead\":0,\"arrowwidth\":1},\"geo\":{\"bgcolor\":\"white\",\"landcolor\":\"#E5ECF6\",\"subunitcolor\":\"white\",\"showland\":true,\"showlakes\":true,\"lakecolor\":\"white\"},\"title\":{\"x\":0.05},\"mapbox\":{\"style\":\"light\"}}},\"xaxis\":{\"anchor\":\"y\",\"domain\":[0.0,1.0],\"title\":{\"text\":\"Level of Mosaicism (%)\"},\"type\":\"log\",\"tickvals\":[0.5,2.0,10.0],\"range\":[-2,3.25]},\"yaxis\":{\"anchor\":\"x\",\"domain\":[0.0,1.0],\"title\":{\"text\":\"Precision (Alu)\"},\"range\":[0,1.1],\"tickvals\":[0,0.2,0.4,0.6,0.8,1]},\"legend\":{\"tracegroupgap\":0,\"font\":{\"size\":16},\"title\":{\"font\":{\"size\":18,\"color\":\"black\"},\"text\":\"depth\"},\"traceorder\":\"normal\",\"orientation\":\"v\",\"y\":1.1,\"x\":0.01},\"margin\":{\"t\":60},\"font\":{\"family\":\"Arial, sans-serif\",\"size\":18,\"color\":\"RebeccaPurple\"},\"width\":600,\"title\":{\"text\":\"Precision Plot-xTea-mosaic\"}},                        {\"responsive\": true}                    ).then(function(){\n",
       "                            \n",
       "var gd = document.getElementById('1885fcc1-c663-40fd-aea5-7629a951bc8f');\n",
       "var x = new MutationObserver(function (mutations, observer) {{\n",
       "        var display = window.getComputedStyle(gd).display;\n",
       "        if (!display || display === 'none') {{\n",
       "            console.log([gd, 'removed!']);\n",
       "            Plotly.purge(gd);\n",
       "            observer.disconnect();\n",
       "        }}\n",
       "}});\n",
       "\n",
       "// Listen for the removal of the full notebook cells\n",
       "var notebookContainer = gd.closest('#notebook-container');\n",
       "if (notebookContainer) {{\n",
       "    x.observe(notebookContainer, {childList: true});\n",
       "}}\n",
       "\n",
       "// Listen for the clearing of the current output cell\n",
       "var outputEl = gd.closest('.output');\n",
       "if (outputEl) {{\n",
       "    x.observe(outputEl, {childList: true});\n",
       "}}\n",
       "\n",
       "                        })                };                });            </script>        </div>"
      ]
     },
     "metadata": {},
     "output_type": "display_data"
    },
    {
     "data": {
      "application/vnd.plotly.v1+json": {
       "config": {
        "plotlyServerURL": "https://plot.ly"
       },
       "data": [
        {
         "hovertemplate": "depth=50x<br>vaf=%{x}<br>precision=%{y}<extra></extra>",
         "legendgroup": "50x",
         "line": {
          "color": "rgb(228,26,28)",
          "dash": "solid"
         },
         "marker": {
          "size": 10,
          "symbol": 1
         },
         "mode": "lines+markers",
         "name": "50x",
         "orientation": "v",
         "showlegend": true,
         "type": "scatter",
         "x": [
          0.5,
          2,
          10
         ],
         "xaxis": "x",
         "y": [
          0,
          0,
          0
         ],
         "yaxis": "y"
        },
        {
         "hovertemplate": "depth=100x<br>vaf=%{x}<br>precision=%{y}<extra></extra>",
         "legendgroup": "100x",
         "line": {
          "color": "rgb(55,126,184)",
          "dash": "solid"
         },
         "marker": {
          "size": 10,
          "symbol": 3
         },
         "mode": "lines+markers",
         "name": "100x",
         "orientation": "v",
         "showlegend": true,
         "type": "scatter",
         "x": [
          0.5,
          2,
          10
         ],
         "xaxis": "x",
         "y": [
          0,
          0,
          0
         ],
         "yaxis": "y"
        },
        {
         "hovertemplate": "depth=200x<br>vaf=%{x}<br>precision=%{y}<extra></extra>",
         "legendgroup": "200x",
         "line": {
          "color": "rgb(77,175,74)",
          "dash": "solid"
         },
         "marker": {
          "size": 10,
          "symbol": 16
         },
         "mode": "lines+markers",
         "name": "200x",
         "orientation": "v",
         "showlegend": true,
         "type": "scatter",
         "x": [
          0.5,
          2,
          10
         ],
         "xaxis": "x",
         "y": [
          0,
          0,
          0
         ],
         "yaxis": "y"
        },
        {
         "hovertemplate": "depth=200x_UW<br>vaf=%{x}<br>precision=%{y}<extra></extra>",
         "legendgroup": "200x_UW",
         "line": {
          "color": "rgb(152,78,163)",
          "dash": "solid"
         },
         "marker": {
          "size": 10,
          "symbol": 17
         },
         "mode": "lines+markers",
         "name": "200x_UW",
         "orientation": "v",
         "showlegend": true,
         "type": "scatter",
         "x": [
          0.5,
          2,
          10
         ],
         "xaxis": "x",
         "y": [
          0,
          0,
          0
         ],
         "yaxis": "y"
        },
        {
         "hovertemplate": "depth=200x_NYGC<br>vaf=%{x}<br>precision=%{y}<extra></extra>",
         "legendgroup": "200x_NYGC",
         "line": {
          "color": "rgb(255,127,0)",
          "dash": "solid"
         },
         "marker": {
          "size": 10,
          "symbol": 1
         },
         "mode": "lines+markers",
         "name": "200x_NYGC",
         "orientation": "v",
         "showlegend": true,
         "type": "scatter",
         "x": [
          0.5,
          2,
          10
         ],
         "xaxis": "x",
         "y": [
          0,
          0,
          0.0070921985815602835
         ],
         "yaxis": "y"
        },
        {
         "hovertemplate": "depth=200x_NYGC_Corrine<br>vaf=%{x}<br>precision=%{y}<extra></extra>",
         "legendgroup": "200x_NYGC_Corrine",
         "line": {
          "color": "rgb(255,255,51)",
          "dash": "solid"
         },
         "marker": {
          "size": 10,
          "symbol": 3
         },
         "mode": "lines+markers",
         "name": "200x_NYGC_Corrine",
         "orientation": "v",
         "showlegend": true,
         "type": "scatter",
         "x": [
          0.5,
          2,
          10
         ],
         "xaxis": "x",
         "y": [
          0,
          0,
          0
         ],
         "yaxis": "y"
        },
        {
         "hovertemplate": "depth=300x<br>vaf=%{x}<br>precision=%{y}<extra></extra>",
         "legendgroup": "300x",
         "line": {
          "color": "rgb(166,86,40)",
          "dash": "solid"
         },
         "marker": {
          "size": 10,
          "symbol": 16
         },
         "mode": "lines+markers",
         "name": "300x",
         "orientation": "v",
         "showlegend": true,
         "type": "scatter",
         "x": [
          0.5,
          2,
          10
         ],
         "xaxis": "x",
         "y": [
          0,
          0,
          0.017064846416382253
         ],
         "yaxis": "y"
        },
        {
         "hovertemplate": "depth=400x<br>vaf=%{x}<br>precision=%{y}<extra></extra>",
         "legendgroup": "400x",
         "line": {
          "color": "rgb(247,129,191)",
          "dash": "solid"
         },
         "marker": {
          "size": 10,
          "symbol": 17
         },
         "mode": "lines+markers",
         "name": "400x",
         "orientation": "v",
         "showlegend": true,
         "type": "scatter",
         "x": [
          0.5,
          2,
          10
         ],
         "xaxis": "x",
         "y": [
          0,
          0,
          0.02258064516129032
         ],
         "yaxis": "y"
        },
        {
         "hovertemplate": "depth=400x_Corrine<br>vaf=%{x}<br>precision=%{y}<extra></extra>",
         "legendgroup": "400x_Corrine",
         "line": {
          "color": "rgb(153,153,153)",
          "dash": "solid"
         },
         "marker": {
          "size": 10,
          "symbol": 1
         },
         "mode": "lines+markers",
         "name": "400x_Corrine",
         "orientation": "v",
         "showlegend": true,
         "type": "scatter",
         "x": [
          0.5,
          2,
          10
         ],
         "xaxis": "x",
         "y": [
          0,
          0,
          0
         ],
         "yaxis": "y"
        },
        {
         "hovertemplate": "depth=500x_WashU<br>vaf=%{x}<br>precision=%{y}<extra></extra>",
         "legendgroup": "500x_WashU",
         "line": {
          "color": "rgb(228,26,28)",
          "dash": "solid"
         },
         "marker": {
          "size": 10,
          "symbol": 3
         },
         "mode": "lines+markers",
         "name": "500x_WashU",
         "orientation": "v",
         "showlegend": true,
         "type": "scatter",
         "x": [
          0.5,
          2,
          10
         ],
         "xaxis": "x",
         "y": [
          0,
          0,
          0.029850746268656716
         ],
         "yaxis": "y"
        }
       ],
       "layout": {
        "font": {
         "color": "RebeccaPurple",
         "family": "Arial, sans-serif",
         "size": 18
        },
        "legend": {
         "font": {
          "size": 16
         },
         "orientation": "v",
         "title": {
          "font": {
           "color": "black",
           "size": 18
          },
          "text": "depth"
         },
         "tracegroupgap": 0,
         "traceorder": "normal",
         "x": 0.01,
         "y": 1.1
        },
        "margin": {
         "t": 60
        },
        "template": {
         "data": {
          "bar": [
           {
            "error_x": {
             "color": "#2a3f5f"
            },
            "error_y": {
             "color": "#2a3f5f"
            },
            "marker": {
             "line": {
              "color": "#E5ECF6",
              "width": 0.5
             },
             "pattern": {
              "fillmode": "overlay",
              "size": 10,
              "solidity": 0.2
             }
            },
            "type": "bar"
           }
          ],
          "barpolar": [
           {
            "marker": {
             "line": {
              "color": "#E5ECF6",
              "width": 0.5
             },
             "pattern": {
              "fillmode": "overlay",
              "size": 10,
              "solidity": 0.2
             }
            },
            "type": "barpolar"
           }
          ],
          "carpet": [
           {
            "aaxis": {
             "endlinecolor": "#2a3f5f",
             "gridcolor": "white",
             "linecolor": "white",
             "minorgridcolor": "white",
             "startlinecolor": "#2a3f5f"
            },
            "baxis": {
             "endlinecolor": "#2a3f5f",
             "gridcolor": "white",
             "linecolor": "white",
             "minorgridcolor": "white",
             "startlinecolor": "#2a3f5f"
            },
            "type": "carpet"
           }
          ],
          "choropleth": [
           {
            "colorbar": {
             "outlinewidth": 0,
             "ticks": ""
            },
            "type": "choropleth"
           }
          ],
          "contour": [
           {
            "colorbar": {
             "outlinewidth": 0,
             "ticks": ""
            },
            "colorscale": [
             [
              0,
              "#0d0887"
             ],
             [
              0.1111111111111111,
              "#46039f"
             ],
             [
              0.2222222222222222,
              "#7201a8"
             ],
             [
              0.3333333333333333,
              "#9c179e"
             ],
             [
              0.4444444444444444,
              "#bd3786"
             ],
             [
              0.5555555555555556,
              "#d8576b"
             ],
             [
              0.6666666666666666,
              "#ed7953"
             ],
             [
              0.7777777777777778,
              "#fb9f3a"
             ],
             [
              0.8888888888888888,
              "#fdca26"
             ],
             [
              1,
              "#f0f921"
             ]
            ],
            "type": "contour"
           }
          ],
          "contourcarpet": [
           {
            "colorbar": {
             "outlinewidth": 0,
             "ticks": ""
            },
            "type": "contourcarpet"
           }
          ],
          "heatmap": [
           {
            "colorbar": {
             "outlinewidth": 0,
             "ticks": ""
            },
            "colorscale": [
             [
              0,
              "#0d0887"
             ],
             [
              0.1111111111111111,
              "#46039f"
             ],
             [
              0.2222222222222222,
              "#7201a8"
             ],
             [
              0.3333333333333333,
              "#9c179e"
             ],
             [
              0.4444444444444444,
              "#bd3786"
             ],
             [
              0.5555555555555556,
              "#d8576b"
             ],
             [
              0.6666666666666666,
              "#ed7953"
             ],
             [
              0.7777777777777778,
              "#fb9f3a"
             ],
             [
              0.8888888888888888,
              "#fdca26"
             ],
             [
              1,
              "#f0f921"
             ]
            ],
            "type": "heatmap"
           }
          ],
          "heatmapgl": [
           {
            "colorbar": {
             "outlinewidth": 0,
             "ticks": ""
            },
            "colorscale": [
             [
              0,
              "#0d0887"
             ],
             [
              0.1111111111111111,
              "#46039f"
             ],
             [
              0.2222222222222222,
              "#7201a8"
             ],
             [
              0.3333333333333333,
              "#9c179e"
             ],
             [
              0.4444444444444444,
              "#bd3786"
             ],
             [
              0.5555555555555556,
              "#d8576b"
             ],
             [
              0.6666666666666666,
              "#ed7953"
             ],
             [
              0.7777777777777778,
              "#fb9f3a"
             ],
             [
              0.8888888888888888,
              "#fdca26"
             ],
             [
              1,
              "#f0f921"
             ]
            ],
            "type": "heatmapgl"
           }
          ],
          "histogram": [
           {
            "marker": {
             "pattern": {
              "fillmode": "overlay",
              "size": 10,
              "solidity": 0.2
             }
            },
            "type": "histogram"
           }
          ],
          "histogram2d": [
           {
            "colorbar": {
             "outlinewidth": 0,
             "ticks": ""
            },
            "colorscale": [
             [
              0,
              "#0d0887"
             ],
             [
              0.1111111111111111,
              "#46039f"
             ],
             [
              0.2222222222222222,
              "#7201a8"
             ],
             [
              0.3333333333333333,
              "#9c179e"
             ],
             [
              0.4444444444444444,
              "#bd3786"
             ],
             [
              0.5555555555555556,
              "#d8576b"
             ],
             [
              0.6666666666666666,
              "#ed7953"
             ],
             [
              0.7777777777777778,
              "#fb9f3a"
             ],
             [
              0.8888888888888888,
              "#fdca26"
             ],
             [
              1,
              "#f0f921"
             ]
            ],
            "type": "histogram2d"
           }
          ],
          "histogram2dcontour": [
           {
            "colorbar": {
             "outlinewidth": 0,
             "ticks": ""
            },
            "colorscale": [
             [
              0,
              "#0d0887"
             ],
             [
              0.1111111111111111,
              "#46039f"
             ],
             [
              0.2222222222222222,
              "#7201a8"
             ],
             [
              0.3333333333333333,
              "#9c179e"
             ],
             [
              0.4444444444444444,
              "#bd3786"
             ],
             [
              0.5555555555555556,
              "#d8576b"
             ],
             [
              0.6666666666666666,
              "#ed7953"
             ],
             [
              0.7777777777777778,
              "#fb9f3a"
             ],
             [
              0.8888888888888888,
              "#fdca26"
             ],
             [
              1,
              "#f0f921"
             ]
            ],
            "type": "histogram2dcontour"
           }
          ],
          "mesh3d": [
           {
            "colorbar": {
             "outlinewidth": 0,
             "ticks": ""
            },
            "type": "mesh3d"
           }
          ],
          "parcoords": [
           {
            "line": {
             "colorbar": {
              "outlinewidth": 0,
              "ticks": ""
             }
            },
            "type": "parcoords"
           }
          ],
          "pie": [
           {
            "automargin": true,
            "type": "pie"
           }
          ],
          "scatter": [
           {
            "fillpattern": {
             "fillmode": "overlay",
             "size": 10,
             "solidity": 0.2
            },
            "type": "scatter"
           }
          ],
          "scatter3d": [
           {
            "line": {
             "colorbar": {
              "outlinewidth": 0,
              "ticks": ""
             }
            },
            "marker": {
             "colorbar": {
              "outlinewidth": 0,
              "ticks": ""
             }
            },
            "type": "scatter3d"
           }
          ],
          "scattercarpet": [
           {
            "marker": {
             "colorbar": {
              "outlinewidth": 0,
              "ticks": ""
             }
            },
            "type": "scattercarpet"
           }
          ],
          "scattergeo": [
           {
            "marker": {
             "colorbar": {
              "outlinewidth": 0,
              "ticks": ""
             }
            },
            "type": "scattergeo"
           }
          ],
          "scattergl": [
           {
            "marker": {
             "colorbar": {
              "outlinewidth": 0,
              "ticks": ""
             }
            },
            "type": "scattergl"
           }
          ],
          "scattermapbox": [
           {
            "marker": {
             "colorbar": {
              "outlinewidth": 0,
              "ticks": ""
             }
            },
            "type": "scattermapbox"
           }
          ],
          "scatterpolar": [
           {
            "marker": {
             "colorbar": {
              "outlinewidth": 0,
              "ticks": ""
             }
            },
            "type": "scatterpolar"
           }
          ],
          "scatterpolargl": [
           {
            "marker": {
             "colorbar": {
              "outlinewidth": 0,
              "ticks": ""
             }
            },
            "type": "scatterpolargl"
           }
          ],
          "scatterternary": [
           {
            "marker": {
             "colorbar": {
              "outlinewidth": 0,
              "ticks": ""
             }
            },
            "type": "scatterternary"
           }
          ],
          "surface": [
           {
            "colorbar": {
             "outlinewidth": 0,
             "ticks": ""
            },
            "colorscale": [
             [
              0,
              "#0d0887"
             ],
             [
              0.1111111111111111,
              "#46039f"
             ],
             [
              0.2222222222222222,
              "#7201a8"
             ],
             [
              0.3333333333333333,
              "#9c179e"
             ],
             [
              0.4444444444444444,
              "#bd3786"
             ],
             [
              0.5555555555555556,
              "#d8576b"
             ],
             [
              0.6666666666666666,
              "#ed7953"
             ],
             [
              0.7777777777777778,
              "#fb9f3a"
             ],
             [
              0.8888888888888888,
              "#fdca26"
             ],
             [
              1,
              "#f0f921"
             ]
            ],
            "type": "surface"
           }
          ],
          "table": [
           {
            "cells": {
             "fill": {
              "color": "#EBF0F8"
             },
             "line": {
              "color": "white"
             }
            },
            "header": {
             "fill": {
              "color": "#C8D4E3"
             },
             "line": {
              "color": "white"
             }
            },
            "type": "table"
           }
          ]
         },
         "layout": {
          "annotationdefaults": {
           "arrowcolor": "#2a3f5f",
           "arrowhead": 0,
           "arrowwidth": 1
          },
          "autotypenumbers": "strict",
          "coloraxis": {
           "colorbar": {
            "outlinewidth": 0,
            "ticks": ""
           }
          },
          "colorscale": {
           "diverging": [
            [
             0,
             "#8e0152"
            ],
            [
             0.1,
             "#c51b7d"
            ],
            [
             0.2,
             "#de77ae"
            ],
            [
             0.3,
             "#f1b6da"
            ],
            [
             0.4,
             "#fde0ef"
            ],
            [
             0.5,
             "#f7f7f7"
            ],
            [
             0.6,
             "#e6f5d0"
            ],
            [
             0.7,
             "#b8e186"
            ],
            [
             0.8,
             "#7fbc41"
            ],
            [
             0.9,
             "#4d9221"
            ],
            [
             1,
             "#276419"
            ]
           ],
           "sequential": [
            [
             0,
             "#0d0887"
            ],
            [
             0.1111111111111111,
             "#46039f"
            ],
            [
             0.2222222222222222,
             "#7201a8"
            ],
            [
             0.3333333333333333,
             "#9c179e"
            ],
            [
             0.4444444444444444,
             "#bd3786"
            ],
            [
             0.5555555555555556,
             "#d8576b"
            ],
            [
             0.6666666666666666,
             "#ed7953"
            ],
            [
             0.7777777777777778,
             "#fb9f3a"
            ],
            [
             0.8888888888888888,
             "#fdca26"
            ],
            [
             1,
             "#f0f921"
            ]
           ],
           "sequentialminus": [
            [
             0,
             "#0d0887"
            ],
            [
             0.1111111111111111,
             "#46039f"
            ],
            [
             0.2222222222222222,
             "#7201a8"
            ],
            [
             0.3333333333333333,
             "#9c179e"
            ],
            [
             0.4444444444444444,
             "#bd3786"
            ],
            [
             0.5555555555555556,
             "#d8576b"
            ],
            [
             0.6666666666666666,
             "#ed7953"
            ],
            [
             0.7777777777777778,
             "#fb9f3a"
            ],
            [
             0.8888888888888888,
             "#fdca26"
            ],
            [
             1,
             "#f0f921"
            ]
           ]
          },
          "colorway": [
           "#636efa",
           "#EF553B",
           "#00cc96",
           "#ab63fa",
           "#FFA15A",
           "#19d3f3",
           "#FF6692",
           "#B6E880",
           "#FF97FF",
           "#FECB52"
          ],
          "font": {
           "color": "#2a3f5f"
          },
          "geo": {
           "bgcolor": "white",
           "lakecolor": "white",
           "landcolor": "#E5ECF6",
           "showlakes": true,
           "showland": true,
           "subunitcolor": "white"
          },
          "hoverlabel": {
           "align": "left"
          },
          "hovermode": "closest",
          "mapbox": {
           "style": "light"
          },
          "paper_bgcolor": "white",
          "plot_bgcolor": "#E5ECF6",
          "polar": {
           "angularaxis": {
            "gridcolor": "white",
            "linecolor": "white",
            "ticks": ""
           },
           "bgcolor": "#E5ECF6",
           "radialaxis": {
            "gridcolor": "white",
            "linecolor": "white",
            "ticks": ""
           }
          },
          "scene": {
           "xaxis": {
            "backgroundcolor": "#E5ECF6",
            "gridcolor": "white",
            "gridwidth": 2,
            "linecolor": "white",
            "showbackground": true,
            "ticks": "",
            "zerolinecolor": "white"
           },
           "yaxis": {
            "backgroundcolor": "#E5ECF6",
            "gridcolor": "white",
            "gridwidth": 2,
            "linecolor": "white",
            "showbackground": true,
            "ticks": "",
            "zerolinecolor": "white"
           },
           "zaxis": {
            "backgroundcolor": "#E5ECF6",
            "gridcolor": "white",
            "gridwidth": 2,
            "linecolor": "white",
            "showbackground": true,
            "ticks": "",
            "zerolinecolor": "white"
           }
          },
          "shapedefaults": {
           "line": {
            "color": "#2a3f5f"
           }
          },
          "ternary": {
           "aaxis": {
            "gridcolor": "white",
            "linecolor": "white",
            "ticks": ""
           },
           "baxis": {
            "gridcolor": "white",
            "linecolor": "white",
            "ticks": ""
           },
           "bgcolor": "#E5ECF6",
           "caxis": {
            "gridcolor": "white",
            "linecolor": "white",
            "ticks": ""
           }
          },
          "title": {
           "x": 0.05
          },
          "xaxis": {
           "automargin": true,
           "gridcolor": "white",
           "linecolor": "white",
           "ticks": "",
           "title": {
            "standoff": 15
           },
           "zerolinecolor": "white",
           "zerolinewidth": 2
          },
          "yaxis": {
           "automargin": true,
           "gridcolor": "white",
           "linecolor": "white",
           "ticks": "",
           "title": {
            "standoff": 15
           },
           "zerolinecolor": "white",
           "zerolinewidth": 2
          }
         }
        },
        "title": {
         "text": "Precision Plot-xTea-mosaic"
        },
        "width": 600,
        "xaxis": {
         "anchor": "y",
         "domain": [
          0,
          1
         ],
         "range": [
          -2,
          3.25
         ],
         "tickvals": [
          0.5,
          2,
          10
         ],
         "title": {
          "text": "Level of Mosaicism (%)"
         },
         "type": "log"
        },
        "yaxis": {
         "anchor": "x",
         "domain": [
          0,
          1
         ],
         "range": [
          0,
          1.1
         ],
         "tickvals": [
          0,
          0.2,
          0.4,
          0.6,
          0.8,
          1
         ],
         "title": {
          "text": "Precision (L1)"
         }
        }
       }
      },
      "text/html": [
       "<div>                            <div id=\"9ecb2f57-5919-4af5-b95e-1584382f2dd8\" class=\"plotly-graph-div\" style=\"height:525px; width:600px;\"></div>            <script type=\"text/javascript\">                require([\"plotly\"], function(Plotly) {                    window.PLOTLYENV=window.PLOTLYENV || {};                                    if (document.getElementById(\"9ecb2f57-5919-4af5-b95e-1584382f2dd8\")) {                    Plotly.newPlot(                        \"9ecb2f57-5919-4af5-b95e-1584382f2dd8\",                        [{\"hovertemplate\":\"depth=50x\\u003cbr\\u003evaf=%{x}\\u003cbr\\u003eprecision=%{y}\\u003cextra\\u003e\\u003c\\u002fextra\\u003e\",\"legendgroup\":\"50x\",\"line\":{\"color\":\"rgb(228,26,28)\",\"dash\":\"solid\"},\"marker\":{\"symbol\":1,\"size\":10},\"mode\":\"lines+markers\",\"name\":\"50x\",\"orientation\":\"v\",\"showlegend\":true,\"x\":[0.5,2.0,10.0],\"xaxis\":\"x\",\"y\":[0.0,0.0,0.0],\"yaxis\":\"y\",\"type\":\"scatter\"},{\"hovertemplate\":\"depth=100x\\u003cbr\\u003evaf=%{x}\\u003cbr\\u003eprecision=%{y}\\u003cextra\\u003e\\u003c\\u002fextra\\u003e\",\"legendgroup\":\"100x\",\"line\":{\"color\":\"rgb(55,126,184)\",\"dash\":\"solid\"},\"marker\":{\"symbol\":3,\"size\":10},\"mode\":\"lines+markers\",\"name\":\"100x\",\"orientation\":\"v\",\"showlegend\":true,\"x\":[0.5,2.0,10.0],\"xaxis\":\"x\",\"y\":[0.0,0.0,0.0],\"yaxis\":\"y\",\"type\":\"scatter\"},{\"hovertemplate\":\"depth=200x\\u003cbr\\u003evaf=%{x}\\u003cbr\\u003eprecision=%{y}\\u003cextra\\u003e\\u003c\\u002fextra\\u003e\",\"legendgroup\":\"200x\",\"line\":{\"color\":\"rgb(77,175,74)\",\"dash\":\"solid\"},\"marker\":{\"symbol\":16,\"size\":10},\"mode\":\"lines+markers\",\"name\":\"200x\",\"orientation\":\"v\",\"showlegend\":true,\"x\":[0.5,2.0,10.0],\"xaxis\":\"x\",\"y\":[0.0,0.0,0.0],\"yaxis\":\"y\",\"type\":\"scatter\"},{\"hovertemplate\":\"depth=200x_UW\\u003cbr\\u003evaf=%{x}\\u003cbr\\u003eprecision=%{y}\\u003cextra\\u003e\\u003c\\u002fextra\\u003e\",\"legendgroup\":\"200x_UW\",\"line\":{\"color\":\"rgb(152,78,163)\",\"dash\":\"solid\"},\"marker\":{\"symbol\":17,\"size\":10},\"mode\":\"lines+markers\",\"name\":\"200x_UW\",\"orientation\":\"v\",\"showlegend\":true,\"x\":[0.5,2.0,10.0],\"xaxis\":\"x\",\"y\":[0.0,0.0,0.0],\"yaxis\":\"y\",\"type\":\"scatter\"},{\"hovertemplate\":\"depth=200x_NYGC\\u003cbr\\u003evaf=%{x}\\u003cbr\\u003eprecision=%{y}\\u003cextra\\u003e\\u003c\\u002fextra\\u003e\",\"legendgroup\":\"200x_NYGC\",\"line\":{\"color\":\"rgb(255,127,0)\",\"dash\":\"solid\"},\"marker\":{\"symbol\":1,\"size\":10},\"mode\":\"lines+markers\",\"name\":\"200x_NYGC\",\"orientation\":\"v\",\"showlegend\":true,\"x\":[0.5,2.0,10.0],\"xaxis\":\"x\",\"y\":[0.0,0.0,0.0070921985815602835],\"yaxis\":\"y\",\"type\":\"scatter\"},{\"hovertemplate\":\"depth=200x_NYGC_Corrine\\u003cbr\\u003evaf=%{x}\\u003cbr\\u003eprecision=%{y}\\u003cextra\\u003e\\u003c\\u002fextra\\u003e\",\"legendgroup\":\"200x_NYGC_Corrine\",\"line\":{\"color\":\"rgb(255,255,51)\",\"dash\":\"solid\"},\"marker\":{\"symbol\":3,\"size\":10},\"mode\":\"lines+markers\",\"name\":\"200x_NYGC_Corrine\",\"orientation\":\"v\",\"showlegend\":true,\"x\":[0.5,2.0,10.0],\"xaxis\":\"x\",\"y\":[0.0,0.0,0.0],\"yaxis\":\"y\",\"type\":\"scatter\"},{\"hovertemplate\":\"depth=300x\\u003cbr\\u003evaf=%{x}\\u003cbr\\u003eprecision=%{y}\\u003cextra\\u003e\\u003c\\u002fextra\\u003e\",\"legendgroup\":\"300x\",\"line\":{\"color\":\"rgb(166,86,40)\",\"dash\":\"solid\"},\"marker\":{\"symbol\":16,\"size\":10},\"mode\":\"lines+markers\",\"name\":\"300x\",\"orientation\":\"v\",\"showlegend\":true,\"x\":[0.5,2.0,10.0],\"xaxis\":\"x\",\"y\":[0.0,0.0,0.017064846416382253],\"yaxis\":\"y\",\"type\":\"scatter\"},{\"hovertemplate\":\"depth=400x\\u003cbr\\u003evaf=%{x}\\u003cbr\\u003eprecision=%{y}\\u003cextra\\u003e\\u003c\\u002fextra\\u003e\",\"legendgroup\":\"400x\",\"line\":{\"color\":\"rgb(247,129,191)\",\"dash\":\"solid\"},\"marker\":{\"symbol\":17,\"size\":10},\"mode\":\"lines+markers\",\"name\":\"400x\",\"orientation\":\"v\",\"showlegend\":true,\"x\":[0.5,2.0,10.0],\"xaxis\":\"x\",\"y\":[0.0,0.0,0.02258064516129032],\"yaxis\":\"y\",\"type\":\"scatter\"},{\"hovertemplate\":\"depth=400x_Corrine\\u003cbr\\u003evaf=%{x}\\u003cbr\\u003eprecision=%{y}\\u003cextra\\u003e\\u003c\\u002fextra\\u003e\",\"legendgroup\":\"400x_Corrine\",\"line\":{\"color\":\"rgb(153,153,153)\",\"dash\":\"solid\"},\"marker\":{\"symbol\":1,\"size\":10},\"mode\":\"lines+markers\",\"name\":\"400x_Corrine\",\"orientation\":\"v\",\"showlegend\":true,\"x\":[0.5,2.0,10.0],\"xaxis\":\"x\",\"y\":[0.0,0.0,0.0],\"yaxis\":\"y\",\"type\":\"scatter\"},{\"hovertemplate\":\"depth=500x_WashU\\u003cbr\\u003evaf=%{x}\\u003cbr\\u003eprecision=%{y}\\u003cextra\\u003e\\u003c\\u002fextra\\u003e\",\"legendgroup\":\"500x_WashU\",\"line\":{\"color\":\"rgb(228,26,28)\",\"dash\":\"solid\"},\"marker\":{\"symbol\":3,\"size\":10},\"mode\":\"lines+markers\",\"name\":\"500x_WashU\",\"orientation\":\"v\",\"showlegend\":true,\"x\":[0.5,2.0,10.0],\"xaxis\":\"x\",\"y\":[0.0,0.0,0.029850746268656716],\"yaxis\":\"y\",\"type\":\"scatter\"}],                        {\"template\":{\"data\":{\"histogram2dcontour\":[{\"type\":\"histogram2dcontour\",\"colorbar\":{\"outlinewidth\":0,\"ticks\":\"\"},\"colorscale\":[[0.0,\"#0d0887\"],[0.1111111111111111,\"#46039f\"],[0.2222222222222222,\"#7201a8\"],[0.3333333333333333,\"#9c179e\"],[0.4444444444444444,\"#bd3786\"],[0.5555555555555556,\"#d8576b\"],[0.6666666666666666,\"#ed7953\"],[0.7777777777777778,\"#fb9f3a\"],[0.8888888888888888,\"#fdca26\"],[1.0,\"#f0f921\"]]}],\"choropleth\":[{\"type\":\"choropleth\",\"colorbar\":{\"outlinewidth\":0,\"ticks\":\"\"}}],\"histogram2d\":[{\"type\":\"histogram2d\",\"colorbar\":{\"outlinewidth\":0,\"ticks\":\"\"},\"colorscale\":[[0.0,\"#0d0887\"],[0.1111111111111111,\"#46039f\"],[0.2222222222222222,\"#7201a8\"],[0.3333333333333333,\"#9c179e\"],[0.4444444444444444,\"#bd3786\"],[0.5555555555555556,\"#d8576b\"],[0.6666666666666666,\"#ed7953\"],[0.7777777777777778,\"#fb9f3a\"],[0.8888888888888888,\"#fdca26\"],[1.0,\"#f0f921\"]]}],\"heatmap\":[{\"type\":\"heatmap\",\"colorbar\":{\"outlinewidth\":0,\"ticks\":\"\"},\"colorscale\":[[0.0,\"#0d0887\"],[0.1111111111111111,\"#46039f\"],[0.2222222222222222,\"#7201a8\"],[0.3333333333333333,\"#9c179e\"],[0.4444444444444444,\"#bd3786\"],[0.5555555555555556,\"#d8576b\"],[0.6666666666666666,\"#ed7953\"],[0.7777777777777778,\"#fb9f3a\"],[0.8888888888888888,\"#fdca26\"],[1.0,\"#f0f921\"]]}],\"heatmapgl\":[{\"type\":\"heatmapgl\",\"colorbar\":{\"outlinewidth\":0,\"ticks\":\"\"},\"colorscale\":[[0.0,\"#0d0887\"],[0.1111111111111111,\"#46039f\"],[0.2222222222222222,\"#7201a8\"],[0.3333333333333333,\"#9c179e\"],[0.4444444444444444,\"#bd3786\"],[0.5555555555555556,\"#d8576b\"],[0.6666666666666666,\"#ed7953\"],[0.7777777777777778,\"#fb9f3a\"],[0.8888888888888888,\"#fdca26\"],[1.0,\"#f0f921\"]]}],\"contourcarpet\":[{\"type\":\"contourcarpet\",\"colorbar\":{\"outlinewidth\":0,\"ticks\":\"\"}}],\"contour\":[{\"type\":\"contour\",\"colorbar\":{\"outlinewidth\":0,\"ticks\":\"\"},\"colorscale\":[[0.0,\"#0d0887\"],[0.1111111111111111,\"#46039f\"],[0.2222222222222222,\"#7201a8\"],[0.3333333333333333,\"#9c179e\"],[0.4444444444444444,\"#bd3786\"],[0.5555555555555556,\"#d8576b\"],[0.6666666666666666,\"#ed7953\"],[0.7777777777777778,\"#fb9f3a\"],[0.8888888888888888,\"#fdca26\"],[1.0,\"#f0f921\"]]}],\"surface\":[{\"type\":\"surface\",\"colorbar\":{\"outlinewidth\":0,\"ticks\":\"\"},\"colorscale\":[[0.0,\"#0d0887\"],[0.1111111111111111,\"#46039f\"],[0.2222222222222222,\"#7201a8\"],[0.3333333333333333,\"#9c179e\"],[0.4444444444444444,\"#bd3786\"],[0.5555555555555556,\"#d8576b\"],[0.6666666666666666,\"#ed7953\"],[0.7777777777777778,\"#fb9f3a\"],[0.8888888888888888,\"#fdca26\"],[1.0,\"#f0f921\"]]}],\"mesh3d\":[{\"type\":\"mesh3d\",\"colorbar\":{\"outlinewidth\":0,\"ticks\":\"\"}}],\"scatter\":[{\"fillpattern\":{\"fillmode\":\"overlay\",\"size\":10,\"solidity\":0.2},\"type\":\"scatter\"}],\"parcoords\":[{\"type\":\"parcoords\",\"line\":{\"colorbar\":{\"outlinewidth\":0,\"ticks\":\"\"}}}],\"scatterpolargl\":[{\"type\":\"scatterpolargl\",\"marker\":{\"colorbar\":{\"outlinewidth\":0,\"ticks\":\"\"}}}],\"bar\":[{\"error_x\":{\"color\":\"#2a3f5f\"},\"error_y\":{\"color\":\"#2a3f5f\"},\"marker\":{\"line\":{\"color\":\"#E5ECF6\",\"width\":0.5},\"pattern\":{\"fillmode\":\"overlay\",\"size\":10,\"solidity\":0.2}},\"type\":\"bar\"}],\"scattergeo\":[{\"type\":\"scattergeo\",\"marker\":{\"colorbar\":{\"outlinewidth\":0,\"ticks\":\"\"}}}],\"scatterpolar\":[{\"type\":\"scatterpolar\",\"marker\":{\"colorbar\":{\"outlinewidth\":0,\"ticks\":\"\"}}}],\"histogram\":[{\"marker\":{\"pattern\":{\"fillmode\":\"overlay\",\"size\":10,\"solidity\":0.2}},\"type\":\"histogram\"}],\"scattergl\":[{\"type\":\"scattergl\",\"marker\":{\"colorbar\":{\"outlinewidth\":0,\"ticks\":\"\"}}}],\"scatter3d\":[{\"type\":\"scatter3d\",\"line\":{\"colorbar\":{\"outlinewidth\":0,\"ticks\":\"\"}},\"marker\":{\"colorbar\":{\"outlinewidth\":0,\"ticks\":\"\"}}}],\"scattermapbox\":[{\"type\":\"scattermapbox\",\"marker\":{\"colorbar\":{\"outlinewidth\":0,\"ticks\":\"\"}}}],\"scatterternary\":[{\"type\":\"scatterternary\",\"marker\":{\"colorbar\":{\"outlinewidth\":0,\"ticks\":\"\"}}}],\"scattercarpet\":[{\"type\":\"scattercarpet\",\"marker\":{\"colorbar\":{\"outlinewidth\":0,\"ticks\":\"\"}}}],\"carpet\":[{\"aaxis\":{\"endlinecolor\":\"#2a3f5f\",\"gridcolor\":\"white\",\"linecolor\":\"white\",\"minorgridcolor\":\"white\",\"startlinecolor\":\"#2a3f5f\"},\"baxis\":{\"endlinecolor\":\"#2a3f5f\",\"gridcolor\":\"white\",\"linecolor\":\"white\",\"minorgridcolor\":\"white\",\"startlinecolor\":\"#2a3f5f\"},\"type\":\"carpet\"}],\"table\":[{\"cells\":{\"fill\":{\"color\":\"#EBF0F8\"},\"line\":{\"color\":\"white\"}},\"header\":{\"fill\":{\"color\":\"#C8D4E3\"},\"line\":{\"color\":\"white\"}},\"type\":\"table\"}],\"barpolar\":[{\"marker\":{\"line\":{\"color\":\"#E5ECF6\",\"width\":0.5},\"pattern\":{\"fillmode\":\"overlay\",\"size\":10,\"solidity\":0.2}},\"type\":\"barpolar\"}],\"pie\":[{\"automargin\":true,\"type\":\"pie\"}]},\"layout\":{\"autotypenumbers\":\"strict\",\"colorway\":[\"#636efa\",\"#EF553B\",\"#00cc96\",\"#ab63fa\",\"#FFA15A\",\"#19d3f3\",\"#FF6692\",\"#B6E880\",\"#FF97FF\",\"#FECB52\"],\"font\":{\"color\":\"#2a3f5f\"},\"hovermode\":\"closest\",\"hoverlabel\":{\"align\":\"left\"},\"paper_bgcolor\":\"white\",\"plot_bgcolor\":\"#E5ECF6\",\"polar\":{\"bgcolor\":\"#E5ECF6\",\"angularaxis\":{\"gridcolor\":\"white\",\"linecolor\":\"white\",\"ticks\":\"\"},\"radialaxis\":{\"gridcolor\":\"white\",\"linecolor\":\"white\",\"ticks\":\"\"}},\"ternary\":{\"bgcolor\":\"#E5ECF6\",\"aaxis\":{\"gridcolor\":\"white\",\"linecolor\":\"white\",\"ticks\":\"\"},\"baxis\":{\"gridcolor\":\"white\",\"linecolor\":\"white\",\"ticks\":\"\"},\"caxis\":{\"gridcolor\":\"white\",\"linecolor\":\"white\",\"ticks\":\"\"}},\"coloraxis\":{\"colorbar\":{\"outlinewidth\":0,\"ticks\":\"\"}},\"colorscale\":{\"sequential\":[[0.0,\"#0d0887\"],[0.1111111111111111,\"#46039f\"],[0.2222222222222222,\"#7201a8\"],[0.3333333333333333,\"#9c179e\"],[0.4444444444444444,\"#bd3786\"],[0.5555555555555556,\"#d8576b\"],[0.6666666666666666,\"#ed7953\"],[0.7777777777777778,\"#fb9f3a\"],[0.8888888888888888,\"#fdca26\"],[1.0,\"#f0f921\"]],\"sequentialminus\":[[0.0,\"#0d0887\"],[0.1111111111111111,\"#46039f\"],[0.2222222222222222,\"#7201a8\"],[0.3333333333333333,\"#9c179e\"],[0.4444444444444444,\"#bd3786\"],[0.5555555555555556,\"#d8576b\"],[0.6666666666666666,\"#ed7953\"],[0.7777777777777778,\"#fb9f3a\"],[0.8888888888888888,\"#fdca26\"],[1.0,\"#f0f921\"]],\"diverging\":[[0,\"#8e0152\"],[0.1,\"#c51b7d\"],[0.2,\"#de77ae\"],[0.3,\"#f1b6da\"],[0.4,\"#fde0ef\"],[0.5,\"#f7f7f7\"],[0.6,\"#e6f5d0\"],[0.7,\"#b8e186\"],[0.8,\"#7fbc41\"],[0.9,\"#4d9221\"],[1,\"#276419\"]]},\"xaxis\":{\"gridcolor\":\"white\",\"linecolor\":\"white\",\"ticks\":\"\",\"title\":{\"standoff\":15},\"zerolinecolor\":\"white\",\"automargin\":true,\"zerolinewidth\":2},\"yaxis\":{\"gridcolor\":\"white\",\"linecolor\":\"white\",\"ticks\":\"\",\"title\":{\"standoff\":15},\"zerolinecolor\":\"white\",\"automargin\":true,\"zerolinewidth\":2},\"scene\":{\"xaxis\":{\"backgroundcolor\":\"#E5ECF6\",\"gridcolor\":\"white\",\"linecolor\":\"white\",\"showbackground\":true,\"ticks\":\"\",\"zerolinecolor\":\"white\",\"gridwidth\":2},\"yaxis\":{\"backgroundcolor\":\"#E5ECF6\",\"gridcolor\":\"white\",\"linecolor\":\"white\",\"showbackground\":true,\"ticks\":\"\",\"zerolinecolor\":\"white\",\"gridwidth\":2},\"zaxis\":{\"backgroundcolor\":\"#E5ECF6\",\"gridcolor\":\"white\",\"linecolor\":\"white\",\"showbackground\":true,\"ticks\":\"\",\"zerolinecolor\":\"white\",\"gridwidth\":2}},\"shapedefaults\":{\"line\":{\"color\":\"#2a3f5f\"}},\"annotationdefaults\":{\"arrowcolor\":\"#2a3f5f\",\"arrowhead\":0,\"arrowwidth\":1},\"geo\":{\"bgcolor\":\"white\",\"landcolor\":\"#E5ECF6\",\"subunitcolor\":\"white\",\"showland\":true,\"showlakes\":true,\"lakecolor\":\"white\"},\"title\":{\"x\":0.05},\"mapbox\":{\"style\":\"light\"}}},\"xaxis\":{\"anchor\":\"y\",\"domain\":[0.0,1.0],\"title\":{\"text\":\"Level of Mosaicism (%)\"},\"type\":\"log\",\"tickvals\":[0.5,2.0,10.0],\"range\":[-2,3.25]},\"yaxis\":{\"anchor\":\"x\",\"domain\":[0.0,1.0],\"title\":{\"text\":\"Precision (L1)\"},\"range\":[0,1.1],\"tickvals\":[0,0.2,0.4,0.6,0.8,1]},\"legend\":{\"title\":{\"text\":\"depth\",\"font\":{\"size\":18,\"color\":\"black\"}},\"tracegroupgap\":0,\"font\":{\"size\":16},\"traceorder\":\"normal\",\"orientation\":\"v\",\"y\":1.1,\"x\":0.01},\"margin\":{\"t\":60},\"font\":{\"family\":\"Arial, sans-serif\",\"size\":18,\"color\":\"RebeccaPurple\"},\"width\":600,\"title\":{\"text\":\"Precision Plot-xTea-mosaic\"}},                        {\"responsive\": true}                    ).then(function(){\n",
       "                            \n",
       "var gd = document.getElementById('9ecb2f57-5919-4af5-b95e-1584382f2dd8');\n",
       "var x = new MutationObserver(function (mutations, observer) {{\n",
       "        var display = window.getComputedStyle(gd).display;\n",
       "        if (!display || display === 'none') {{\n",
       "            console.log([gd, 'removed!']);\n",
       "            Plotly.purge(gd);\n",
       "            observer.disconnect();\n",
       "        }}\n",
       "}});\n",
       "\n",
       "// Listen for the removal of the full notebook cells\n",
       "var notebookContainer = gd.closest('#notebook-container');\n",
       "if (notebookContainer) {{\n",
       "    x.observe(notebookContainer, {childList: true});\n",
       "}}\n",
       "\n",
       "// Listen for the clearing of the current output cell\n",
       "var outputEl = gd.closest('.output');\n",
       "if (outputEl) {{\n",
       "    x.observe(outputEl, {childList: true});\n",
       "}}\n",
       "\n",
       "                        })                };                });            </script>        </div>"
      ]
     },
     "metadata": {},
     "output_type": "display_data"
    },
    {
     "data": {
      "application/vnd.plotly.v1+json": {
       "config": {
        "plotlyServerURL": "https://plot.ly"
       },
       "data": [],
       "layout": {
        "font": {
         "color": "RebeccaPurple",
         "family": "Arial, sans-serif",
         "size": 18
        },
        "legend": {
         "font": {
          "size": 16
         },
         "orientation": "v",
         "title": {
          "font": {
           "color": "black",
           "size": 18
          },
          "text": "depth"
         },
         "tracegroupgap": 0,
         "traceorder": "normal",
         "x": 0.01,
         "y": 1.1
        },
        "margin": {
         "t": 60
        },
        "template": {
         "data": {
          "bar": [
           {
            "error_x": {
             "color": "#2a3f5f"
            },
            "error_y": {
             "color": "#2a3f5f"
            },
            "marker": {
             "line": {
              "color": "#E5ECF6",
              "width": 0.5
             },
             "pattern": {
              "fillmode": "overlay",
              "size": 10,
              "solidity": 0.2
             }
            },
            "type": "bar"
           }
          ],
          "barpolar": [
           {
            "marker": {
             "line": {
              "color": "#E5ECF6",
              "width": 0.5
             },
             "pattern": {
              "fillmode": "overlay",
              "size": 10,
              "solidity": 0.2
             }
            },
            "type": "barpolar"
           }
          ],
          "carpet": [
           {
            "aaxis": {
             "endlinecolor": "#2a3f5f",
             "gridcolor": "white",
             "linecolor": "white",
             "minorgridcolor": "white",
             "startlinecolor": "#2a3f5f"
            },
            "baxis": {
             "endlinecolor": "#2a3f5f",
             "gridcolor": "white",
             "linecolor": "white",
             "minorgridcolor": "white",
             "startlinecolor": "#2a3f5f"
            },
            "type": "carpet"
           }
          ],
          "choropleth": [
           {
            "colorbar": {
             "outlinewidth": 0,
             "ticks": ""
            },
            "type": "choropleth"
           }
          ],
          "contour": [
           {
            "colorbar": {
             "outlinewidth": 0,
             "ticks": ""
            },
            "colorscale": [
             [
              0,
              "#0d0887"
             ],
             [
              0.1111111111111111,
              "#46039f"
             ],
             [
              0.2222222222222222,
              "#7201a8"
             ],
             [
              0.3333333333333333,
              "#9c179e"
             ],
             [
              0.4444444444444444,
              "#bd3786"
             ],
             [
              0.5555555555555556,
              "#d8576b"
             ],
             [
              0.6666666666666666,
              "#ed7953"
             ],
             [
              0.7777777777777778,
              "#fb9f3a"
             ],
             [
              0.8888888888888888,
              "#fdca26"
             ],
             [
              1,
              "#f0f921"
             ]
            ],
            "type": "contour"
           }
          ],
          "contourcarpet": [
           {
            "colorbar": {
             "outlinewidth": 0,
             "ticks": ""
            },
            "type": "contourcarpet"
           }
          ],
          "heatmap": [
           {
            "colorbar": {
             "outlinewidth": 0,
             "ticks": ""
            },
            "colorscale": [
             [
              0,
              "#0d0887"
             ],
             [
              0.1111111111111111,
              "#46039f"
             ],
             [
              0.2222222222222222,
              "#7201a8"
             ],
             [
              0.3333333333333333,
              "#9c179e"
             ],
             [
              0.4444444444444444,
              "#bd3786"
             ],
             [
              0.5555555555555556,
              "#d8576b"
             ],
             [
              0.6666666666666666,
              "#ed7953"
             ],
             [
              0.7777777777777778,
              "#fb9f3a"
             ],
             [
              0.8888888888888888,
              "#fdca26"
             ],
             [
              1,
              "#f0f921"
             ]
            ],
            "type": "heatmap"
           }
          ],
          "heatmapgl": [
           {
            "colorbar": {
             "outlinewidth": 0,
             "ticks": ""
            },
            "colorscale": [
             [
              0,
              "#0d0887"
             ],
             [
              0.1111111111111111,
              "#46039f"
             ],
             [
              0.2222222222222222,
              "#7201a8"
             ],
             [
              0.3333333333333333,
              "#9c179e"
             ],
             [
              0.4444444444444444,
              "#bd3786"
             ],
             [
              0.5555555555555556,
              "#d8576b"
             ],
             [
              0.6666666666666666,
              "#ed7953"
             ],
             [
              0.7777777777777778,
              "#fb9f3a"
             ],
             [
              0.8888888888888888,
              "#fdca26"
             ],
             [
              1,
              "#f0f921"
             ]
            ],
            "type": "heatmapgl"
           }
          ],
          "histogram": [
           {
            "marker": {
             "pattern": {
              "fillmode": "overlay",
              "size": 10,
              "solidity": 0.2
             }
            },
            "type": "histogram"
           }
          ],
          "histogram2d": [
           {
            "colorbar": {
             "outlinewidth": 0,
             "ticks": ""
            },
            "colorscale": [
             [
              0,
              "#0d0887"
             ],
             [
              0.1111111111111111,
              "#46039f"
             ],
             [
              0.2222222222222222,
              "#7201a8"
             ],
             [
              0.3333333333333333,
              "#9c179e"
             ],
             [
              0.4444444444444444,
              "#bd3786"
             ],
             [
              0.5555555555555556,
              "#d8576b"
             ],
             [
              0.6666666666666666,
              "#ed7953"
             ],
             [
              0.7777777777777778,
              "#fb9f3a"
             ],
             [
              0.8888888888888888,
              "#fdca26"
             ],
             [
              1,
              "#f0f921"
             ]
            ],
            "type": "histogram2d"
           }
          ],
          "histogram2dcontour": [
           {
            "colorbar": {
             "outlinewidth": 0,
             "ticks": ""
            },
            "colorscale": [
             [
              0,
              "#0d0887"
             ],
             [
              0.1111111111111111,
              "#46039f"
             ],
             [
              0.2222222222222222,
              "#7201a8"
             ],
             [
              0.3333333333333333,
              "#9c179e"
             ],
             [
              0.4444444444444444,
              "#bd3786"
             ],
             [
              0.5555555555555556,
              "#d8576b"
             ],
             [
              0.6666666666666666,
              "#ed7953"
             ],
             [
              0.7777777777777778,
              "#fb9f3a"
             ],
             [
              0.8888888888888888,
              "#fdca26"
             ],
             [
              1,
              "#f0f921"
             ]
            ],
            "type": "histogram2dcontour"
           }
          ],
          "mesh3d": [
           {
            "colorbar": {
             "outlinewidth": 0,
             "ticks": ""
            },
            "type": "mesh3d"
           }
          ],
          "parcoords": [
           {
            "line": {
             "colorbar": {
              "outlinewidth": 0,
              "ticks": ""
             }
            },
            "type": "parcoords"
           }
          ],
          "pie": [
           {
            "automargin": true,
            "type": "pie"
           }
          ],
          "scatter": [
           {
            "fillpattern": {
             "fillmode": "overlay",
             "size": 10,
             "solidity": 0.2
            },
            "type": "scatter"
           }
          ],
          "scatter3d": [
           {
            "line": {
             "colorbar": {
              "outlinewidth": 0,
              "ticks": ""
             }
            },
            "marker": {
             "colorbar": {
              "outlinewidth": 0,
              "ticks": ""
             }
            },
            "type": "scatter3d"
           }
          ],
          "scattercarpet": [
           {
            "marker": {
             "colorbar": {
              "outlinewidth": 0,
              "ticks": ""
             }
            },
            "type": "scattercarpet"
           }
          ],
          "scattergeo": [
           {
            "marker": {
             "colorbar": {
              "outlinewidth": 0,
              "ticks": ""
             }
            },
            "type": "scattergeo"
           }
          ],
          "scattergl": [
           {
            "marker": {
             "colorbar": {
              "outlinewidth": 0,
              "ticks": ""
             }
            },
            "type": "scattergl"
           }
          ],
          "scattermapbox": [
           {
            "marker": {
             "colorbar": {
              "outlinewidth": 0,
              "ticks": ""
             }
            },
            "type": "scattermapbox"
           }
          ],
          "scatterpolar": [
           {
            "marker": {
             "colorbar": {
              "outlinewidth": 0,
              "ticks": ""
             }
            },
            "type": "scatterpolar"
           }
          ],
          "scatterpolargl": [
           {
            "marker": {
             "colorbar": {
              "outlinewidth": 0,
              "ticks": ""
             }
            },
            "type": "scatterpolargl"
           }
          ],
          "scatterternary": [
           {
            "marker": {
             "colorbar": {
              "outlinewidth": 0,
              "ticks": ""
             }
            },
            "type": "scatterternary"
           }
          ],
          "surface": [
           {
            "colorbar": {
             "outlinewidth": 0,
             "ticks": ""
            },
            "colorscale": [
             [
              0,
              "#0d0887"
             ],
             [
              0.1111111111111111,
              "#46039f"
             ],
             [
              0.2222222222222222,
              "#7201a8"
             ],
             [
              0.3333333333333333,
              "#9c179e"
             ],
             [
              0.4444444444444444,
              "#bd3786"
             ],
             [
              0.5555555555555556,
              "#d8576b"
             ],
             [
              0.6666666666666666,
              "#ed7953"
             ],
             [
              0.7777777777777778,
              "#fb9f3a"
             ],
             [
              0.8888888888888888,
              "#fdca26"
             ],
             [
              1,
              "#f0f921"
             ]
            ],
            "type": "surface"
           }
          ],
          "table": [
           {
            "cells": {
             "fill": {
              "color": "#EBF0F8"
             },
             "line": {
              "color": "white"
             }
            },
            "header": {
             "fill": {
              "color": "#C8D4E3"
             },
             "line": {
              "color": "white"
             }
            },
            "type": "table"
           }
          ]
         },
         "layout": {
          "annotationdefaults": {
           "arrowcolor": "#2a3f5f",
           "arrowhead": 0,
           "arrowwidth": 1
          },
          "autotypenumbers": "strict",
          "coloraxis": {
           "colorbar": {
            "outlinewidth": 0,
            "ticks": ""
           }
          },
          "colorscale": {
           "diverging": [
            [
             0,
             "#8e0152"
            ],
            [
             0.1,
             "#c51b7d"
            ],
            [
             0.2,
             "#de77ae"
            ],
            [
             0.3,
             "#f1b6da"
            ],
            [
             0.4,
             "#fde0ef"
            ],
            [
             0.5,
             "#f7f7f7"
            ],
            [
             0.6,
             "#e6f5d0"
            ],
            [
             0.7,
             "#b8e186"
            ],
            [
             0.8,
             "#7fbc41"
            ],
            [
             0.9,
             "#4d9221"
            ],
            [
             1,
             "#276419"
            ]
           ],
           "sequential": [
            [
             0,
             "#0d0887"
            ],
            [
             0.1111111111111111,
             "#46039f"
            ],
            [
             0.2222222222222222,
             "#7201a8"
            ],
            [
             0.3333333333333333,
             "#9c179e"
            ],
            [
             0.4444444444444444,
             "#bd3786"
            ],
            [
             0.5555555555555556,
             "#d8576b"
            ],
            [
             0.6666666666666666,
             "#ed7953"
            ],
            [
             0.7777777777777778,
             "#fb9f3a"
            ],
            [
             0.8888888888888888,
             "#fdca26"
            ],
            [
             1,
             "#f0f921"
            ]
           ],
           "sequentialminus": [
            [
             0,
             "#0d0887"
            ],
            [
             0.1111111111111111,
             "#46039f"
            ],
            [
             0.2222222222222222,
             "#7201a8"
            ],
            [
             0.3333333333333333,
             "#9c179e"
            ],
            [
             0.4444444444444444,
             "#bd3786"
            ],
            [
             0.5555555555555556,
             "#d8576b"
            ],
            [
             0.6666666666666666,
             "#ed7953"
            ],
            [
             0.7777777777777778,
             "#fb9f3a"
            ],
            [
             0.8888888888888888,
             "#fdca26"
            ],
            [
             1,
             "#f0f921"
            ]
           ]
          },
          "colorway": [
           "#636efa",
           "#EF553B",
           "#00cc96",
           "#ab63fa",
           "#FFA15A",
           "#19d3f3",
           "#FF6692",
           "#B6E880",
           "#FF97FF",
           "#FECB52"
          ],
          "font": {
           "color": "#2a3f5f"
          },
          "geo": {
           "bgcolor": "white",
           "lakecolor": "white",
           "landcolor": "#E5ECF6",
           "showlakes": true,
           "showland": true,
           "subunitcolor": "white"
          },
          "hoverlabel": {
           "align": "left"
          },
          "hovermode": "closest",
          "mapbox": {
           "style": "light"
          },
          "paper_bgcolor": "white",
          "plot_bgcolor": "#E5ECF6",
          "polar": {
           "angularaxis": {
            "gridcolor": "white",
            "linecolor": "white",
            "ticks": ""
           },
           "bgcolor": "#E5ECF6",
           "radialaxis": {
            "gridcolor": "white",
            "linecolor": "white",
            "ticks": ""
           }
          },
          "scene": {
           "xaxis": {
            "backgroundcolor": "#E5ECF6",
            "gridcolor": "white",
            "gridwidth": 2,
            "linecolor": "white",
            "showbackground": true,
            "ticks": "",
            "zerolinecolor": "white"
           },
           "yaxis": {
            "backgroundcolor": "#E5ECF6",
            "gridcolor": "white",
            "gridwidth": 2,
            "linecolor": "white",
            "showbackground": true,
            "ticks": "",
            "zerolinecolor": "white"
           },
           "zaxis": {
            "backgroundcolor": "#E5ECF6",
            "gridcolor": "white",
            "gridwidth": 2,
            "linecolor": "white",
            "showbackground": true,
            "ticks": "",
            "zerolinecolor": "white"
           }
          },
          "shapedefaults": {
           "line": {
            "color": "#2a3f5f"
           }
          },
          "ternary": {
           "aaxis": {
            "gridcolor": "white",
            "linecolor": "white",
            "ticks": ""
           },
           "baxis": {
            "gridcolor": "white",
            "linecolor": "white",
            "ticks": ""
           },
           "bgcolor": "#E5ECF6",
           "caxis": {
            "gridcolor": "white",
            "linecolor": "white",
            "ticks": ""
           }
          },
          "title": {
           "x": 0.05
          },
          "xaxis": {
           "automargin": true,
           "gridcolor": "white",
           "linecolor": "white",
           "ticks": "",
           "title": {
            "standoff": 15
           },
           "zerolinecolor": "white",
           "zerolinewidth": 2
          },
          "yaxis": {
           "automargin": true,
           "gridcolor": "white",
           "linecolor": "white",
           "ticks": "",
           "title": {
            "standoff": 15
           },
           "zerolinecolor": "white",
           "zerolinewidth": 2
          }
         }
        },
        "title": {
         "text": "Precision Plot-xTea"
        },
        "width": 600,
        "xaxis": {
         "anchor": "y",
         "domain": [
          0,
          1
         ],
         "range": [
          -2,
          3.25
         ],
         "tickvals": [
          0.5,
          2,
          10
         ],
         "title": {
          "text": "Level of Mosaicism (%)"
         },
         "type": "log"
        },
        "yaxis": {
         "anchor": "x",
         "domain": [
          0,
          1
         ],
         "range": [
          0,
          1.1
         ],
         "tickvals": [
          0,
          0.2,
          0.4,
          0.6,
          0.8,
          1
         ],
         "title": {
          "text": "Precision (Alu)"
         }
        }
       }
      },
      "text/html": [
       "<div>                            <div id=\"5e821e5f-203c-4c68-b3eb-3582497e544d\" class=\"plotly-graph-div\" style=\"height:525px; width:600px;\"></div>            <script type=\"text/javascript\">                require([\"plotly\"], function(Plotly) {                    window.PLOTLYENV=window.PLOTLYENV || {};                                    if (document.getElementById(\"5e821e5f-203c-4c68-b3eb-3582497e544d\")) {                    Plotly.newPlot(                        \"5e821e5f-203c-4c68-b3eb-3582497e544d\",                        [],                        {\"template\":{\"data\":{\"histogram2dcontour\":[{\"type\":\"histogram2dcontour\",\"colorbar\":{\"outlinewidth\":0,\"ticks\":\"\"},\"colorscale\":[[0.0,\"#0d0887\"],[0.1111111111111111,\"#46039f\"],[0.2222222222222222,\"#7201a8\"],[0.3333333333333333,\"#9c179e\"],[0.4444444444444444,\"#bd3786\"],[0.5555555555555556,\"#d8576b\"],[0.6666666666666666,\"#ed7953\"],[0.7777777777777778,\"#fb9f3a\"],[0.8888888888888888,\"#fdca26\"],[1.0,\"#f0f921\"]]}],\"choropleth\":[{\"type\":\"choropleth\",\"colorbar\":{\"outlinewidth\":0,\"ticks\":\"\"}}],\"histogram2d\":[{\"type\":\"histogram2d\",\"colorbar\":{\"outlinewidth\":0,\"ticks\":\"\"},\"colorscale\":[[0.0,\"#0d0887\"],[0.1111111111111111,\"#46039f\"],[0.2222222222222222,\"#7201a8\"],[0.3333333333333333,\"#9c179e\"],[0.4444444444444444,\"#bd3786\"],[0.5555555555555556,\"#d8576b\"],[0.6666666666666666,\"#ed7953\"],[0.7777777777777778,\"#fb9f3a\"],[0.8888888888888888,\"#fdca26\"],[1.0,\"#f0f921\"]]}],\"heatmap\":[{\"type\":\"heatmap\",\"colorbar\":{\"outlinewidth\":0,\"ticks\":\"\"},\"colorscale\":[[0.0,\"#0d0887\"],[0.1111111111111111,\"#46039f\"],[0.2222222222222222,\"#7201a8\"],[0.3333333333333333,\"#9c179e\"],[0.4444444444444444,\"#bd3786\"],[0.5555555555555556,\"#d8576b\"],[0.6666666666666666,\"#ed7953\"],[0.7777777777777778,\"#fb9f3a\"],[0.8888888888888888,\"#fdca26\"],[1.0,\"#f0f921\"]]}],\"heatmapgl\":[{\"type\":\"heatmapgl\",\"colorbar\":{\"outlinewidth\":0,\"ticks\":\"\"},\"colorscale\":[[0.0,\"#0d0887\"],[0.1111111111111111,\"#46039f\"],[0.2222222222222222,\"#7201a8\"],[0.3333333333333333,\"#9c179e\"],[0.4444444444444444,\"#bd3786\"],[0.5555555555555556,\"#d8576b\"],[0.6666666666666666,\"#ed7953\"],[0.7777777777777778,\"#fb9f3a\"],[0.8888888888888888,\"#fdca26\"],[1.0,\"#f0f921\"]]}],\"contourcarpet\":[{\"type\":\"contourcarpet\",\"colorbar\":{\"outlinewidth\":0,\"ticks\":\"\"}}],\"contour\":[{\"type\":\"contour\",\"colorbar\":{\"outlinewidth\":0,\"ticks\":\"\"},\"colorscale\":[[0.0,\"#0d0887\"],[0.1111111111111111,\"#46039f\"],[0.2222222222222222,\"#7201a8\"],[0.3333333333333333,\"#9c179e\"],[0.4444444444444444,\"#bd3786\"],[0.5555555555555556,\"#d8576b\"],[0.6666666666666666,\"#ed7953\"],[0.7777777777777778,\"#fb9f3a\"],[0.8888888888888888,\"#fdca26\"],[1.0,\"#f0f921\"]]}],\"surface\":[{\"type\":\"surface\",\"colorbar\":{\"outlinewidth\":0,\"ticks\":\"\"},\"colorscale\":[[0.0,\"#0d0887\"],[0.1111111111111111,\"#46039f\"],[0.2222222222222222,\"#7201a8\"],[0.3333333333333333,\"#9c179e\"],[0.4444444444444444,\"#bd3786\"],[0.5555555555555556,\"#d8576b\"],[0.6666666666666666,\"#ed7953\"],[0.7777777777777778,\"#fb9f3a\"],[0.8888888888888888,\"#fdca26\"],[1.0,\"#f0f921\"]]}],\"mesh3d\":[{\"type\":\"mesh3d\",\"colorbar\":{\"outlinewidth\":0,\"ticks\":\"\"}}],\"scatter\":[{\"fillpattern\":{\"fillmode\":\"overlay\",\"size\":10,\"solidity\":0.2},\"type\":\"scatter\"}],\"parcoords\":[{\"type\":\"parcoords\",\"line\":{\"colorbar\":{\"outlinewidth\":0,\"ticks\":\"\"}}}],\"scatterpolargl\":[{\"type\":\"scatterpolargl\",\"marker\":{\"colorbar\":{\"outlinewidth\":0,\"ticks\":\"\"}}}],\"bar\":[{\"error_x\":{\"color\":\"#2a3f5f\"},\"error_y\":{\"color\":\"#2a3f5f\"},\"marker\":{\"line\":{\"color\":\"#E5ECF6\",\"width\":0.5},\"pattern\":{\"fillmode\":\"overlay\",\"size\":10,\"solidity\":0.2}},\"type\":\"bar\"}],\"scattergeo\":[{\"type\":\"scattergeo\",\"marker\":{\"colorbar\":{\"outlinewidth\":0,\"ticks\":\"\"}}}],\"scatterpolar\":[{\"type\":\"scatterpolar\",\"marker\":{\"colorbar\":{\"outlinewidth\":0,\"ticks\":\"\"}}}],\"histogram\":[{\"marker\":{\"pattern\":{\"fillmode\":\"overlay\",\"size\":10,\"solidity\":0.2}},\"type\":\"histogram\"}],\"scattergl\":[{\"type\":\"scattergl\",\"marker\":{\"colorbar\":{\"outlinewidth\":0,\"ticks\":\"\"}}}],\"scatter3d\":[{\"type\":\"scatter3d\",\"line\":{\"colorbar\":{\"outlinewidth\":0,\"ticks\":\"\"}},\"marker\":{\"colorbar\":{\"outlinewidth\":0,\"ticks\":\"\"}}}],\"scattermapbox\":[{\"type\":\"scattermapbox\",\"marker\":{\"colorbar\":{\"outlinewidth\":0,\"ticks\":\"\"}}}],\"scatterternary\":[{\"type\":\"scatterternary\",\"marker\":{\"colorbar\":{\"outlinewidth\":0,\"ticks\":\"\"}}}],\"scattercarpet\":[{\"type\":\"scattercarpet\",\"marker\":{\"colorbar\":{\"outlinewidth\":0,\"ticks\":\"\"}}}],\"carpet\":[{\"aaxis\":{\"endlinecolor\":\"#2a3f5f\",\"gridcolor\":\"white\",\"linecolor\":\"white\",\"minorgridcolor\":\"white\",\"startlinecolor\":\"#2a3f5f\"},\"baxis\":{\"endlinecolor\":\"#2a3f5f\",\"gridcolor\":\"white\",\"linecolor\":\"white\",\"minorgridcolor\":\"white\",\"startlinecolor\":\"#2a3f5f\"},\"type\":\"carpet\"}],\"table\":[{\"cells\":{\"fill\":{\"color\":\"#EBF0F8\"},\"line\":{\"color\":\"white\"}},\"header\":{\"fill\":{\"color\":\"#C8D4E3\"},\"line\":{\"color\":\"white\"}},\"type\":\"table\"}],\"barpolar\":[{\"marker\":{\"line\":{\"color\":\"#E5ECF6\",\"width\":0.5},\"pattern\":{\"fillmode\":\"overlay\",\"size\":10,\"solidity\":0.2}},\"type\":\"barpolar\"}],\"pie\":[{\"automargin\":true,\"type\":\"pie\"}]},\"layout\":{\"autotypenumbers\":\"strict\",\"colorway\":[\"#636efa\",\"#EF553B\",\"#00cc96\",\"#ab63fa\",\"#FFA15A\",\"#19d3f3\",\"#FF6692\",\"#B6E880\",\"#FF97FF\",\"#FECB52\"],\"font\":{\"color\":\"#2a3f5f\"},\"hovermode\":\"closest\",\"hoverlabel\":{\"align\":\"left\"},\"paper_bgcolor\":\"white\",\"plot_bgcolor\":\"#E5ECF6\",\"polar\":{\"bgcolor\":\"#E5ECF6\",\"angularaxis\":{\"gridcolor\":\"white\",\"linecolor\":\"white\",\"ticks\":\"\"},\"radialaxis\":{\"gridcolor\":\"white\",\"linecolor\":\"white\",\"ticks\":\"\"}},\"ternary\":{\"bgcolor\":\"#E5ECF6\",\"aaxis\":{\"gridcolor\":\"white\",\"linecolor\":\"white\",\"ticks\":\"\"},\"baxis\":{\"gridcolor\":\"white\",\"linecolor\":\"white\",\"ticks\":\"\"},\"caxis\":{\"gridcolor\":\"white\",\"linecolor\":\"white\",\"ticks\":\"\"}},\"coloraxis\":{\"colorbar\":{\"outlinewidth\":0,\"ticks\":\"\"}},\"colorscale\":{\"sequential\":[[0.0,\"#0d0887\"],[0.1111111111111111,\"#46039f\"],[0.2222222222222222,\"#7201a8\"],[0.3333333333333333,\"#9c179e\"],[0.4444444444444444,\"#bd3786\"],[0.5555555555555556,\"#d8576b\"],[0.6666666666666666,\"#ed7953\"],[0.7777777777777778,\"#fb9f3a\"],[0.8888888888888888,\"#fdca26\"],[1.0,\"#f0f921\"]],\"sequentialminus\":[[0.0,\"#0d0887\"],[0.1111111111111111,\"#46039f\"],[0.2222222222222222,\"#7201a8\"],[0.3333333333333333,\"#9c179e\"],[0.4444444444444444,\"#bd3786\"],[0.5555555555555556,\"#d8576b\"],[0.6666666666666666,\"#ed7953\"],[0.7777777777777778,\"#fb9f3a\"],[0.8888888888888888,\"#fdca26\"],[1.0,\"#f0f921\"]],\"diverging\":[[0,\"#8e0152\"],[0.1,\"#c51b7d\"],[0.2,\"#de77ae\"],[0.3,\"#f1b6da\"],[0.4,\"#fde0ef\"],[0.5,\"#f7f7f7\"],[0.6,\"#e6f5d0\"],[0.7,\"#b8e186\"],[0.8,\"#7fbc41\"],[0.9,\"#4d9221\"],[1,\"#276419\"]]},\"xaxis\":{\"gridcolor\":\"white\",\"linecolor\":\"white\",\"ticks\":\"\",\"title\":{\"standoff\":15},\"zerolinecolor\":\"white\",\"automargin\":true,\"zerolinewidth\":2},\"yaxis\":{\"gridcolor\":\"white\",\"linecolor\":\"white\",\"ticks\":\"\",\"title\":{\"standoff\":15},\"zerolinecolor\":\"white\",\"automargin\":true,\"zerolinewidth\":2},\"scene\":{\"xaxis\":{\"backgroundcolor\":\"#E5ECF6\",\"gridcolor\":\"white\",\"linecolor\":\"white\",\"showbackground\":true,\"ticks\":\"\",\"zerolinecolor\":\"white\",\"gridwidth\":2},\"yaxis\":{\"backgroundcolor\":\"#E5ECF6\",\"gridcolor\":\"white\",\"linecolor\":\"white\",\"showbackground\":true,\"ticks\":\"\",\"zerolinecolor\":\"white\",\"gridwidth\":2},\"zaxis\":{\"backgroundcolor\":\"#E5ECF6\",\"gridcolor\":\"white\",\"linecolor\":\"white\",\"showbackground\":true,\"ticks\":\"\",\"zerolinecolor\":\"white\",\"gridwidth\":2}},\"shapedefaults\":{\"line\":{\"color\":\"#2a3f5f\"}},\"annotationdefaults\":{\"arrowcolor\":\"#2a3f5f\",\"arrowhead\":0,\"arrowwidth\":1},\"geo\":{\"bgcolor\":\"white\",\"landcolor\":\"#E5ECF6\",\"subunitcolor\":\"white\",\"showland\":true,\"showlakes\":true,\"lakecolor\":\"white\"},\"title\":{\"x\":0.05},\"mapbox\":{\"style\":\"light\"}}},\"xaxis\":{\"anchor\":\"y\",\"domain\":[0.0,1.0],\"title\":{\"text\":\"Level of Mosaicism (%)\"},\"type\":\"log\",\"tickvals\":[0.5,2.0,10.0],\"range\":[-2,3.25]},\"yaxis\":{\"anchor\":\"x\",\"domain\":[0.0,1.0],\"title\":{\"text\":\"Precision (Alu)\"},\"range\":[0,1.1],\"tickvals\":[0,0.2,0.4,0.6,0.8,1]},\"legend\":{\"tracegroupgap\":0,\"font\":{\"size\":16},\"title\":{\"font\":{\"size\":18,\"color\":\"black\"},\"text\":\"depth\"},\"traceorder\":\"normal\",\"orientation\":\"v\",\"y\":1.1,\"x\":0.01},\"margin\":{\"t\":60},\"font\":{\"family\":\"Arial, sans-serif\",\"size\":18,\"color\":\"RebeccaPurple\"},\"width\":600,\"title\":{\"text\":\"Precision Plot-xTea\"}},                        {\"responsive\": true}                    ).then(function(){\n",
       "                            \n",
       "var gd = document.getElementById('5e821e5f-203c-4c68-b3eb-3582497e544d');\n",
       "var x = new MutationObserver(function (mutations, observer) {{\n",
       "        var display = window.getComputedStyle(gd).display;\n",
       "        if (!display || display === 'none') {{\n",
       "            console.log([gd, 'removed!']);\n",
       "            Plotly.purge(gd);\n",
       "            observer.disconnect();\n",
       "        }}\n",
       "}});\n",
       "\n",
       "// Listen for the removal of the full notebook cells\n",
       "var notebookContainer = gd.closest('#notebook-container');\n",
       "if (notebookContainer) {{\n",
       "    x.observe(notebookContainer, {childList: true});\n",
       "}}\n",
       "\n",
       "// Listen for the clearing of the current output cell\n",
       "var outputEl = gd.closest('.output');\n",
       "if (outputEl) {{\n",
       "    x.observe(outputEl, {childList: true});\n",
       "}}\n",
       "\n",
       "                        })                };                });            </script>        </div>"
      ]
     },
     "metadata": {},
     "output_type": "display_data"
    },
    {
     "data": {
      "application/vnd.plotly.v1+json": {
       "config": {
        "plotlyServerURL": "https://plot.ly"
       },
       "data": [
        {
         "hovertemplate": "depth=50x<br>vaf=%{x}<br>precision=%{y}<extra></extra>",
         "legendgroup": "50x",
         "line": {
          "color": "rgb(228,26,28)",
          "dash": "solid"
         },
         "marker": {
          "size": 10,
          "symbol": 1
         },
         "mode": "lines+markers",
         "name": "50x",
         "orientation": "v",
         "showlegend": true,
         "type": "scatter",
         "x": [
          0.5,
          2,
          10
         ],
         "xaxis": "x",
         "y": [
          0,
          0,
          0
         ],
         "yaxis": "y"
        },
        {
         "hovertemplate": "depth=100x<br>vaf=%{x}<br>precision=%{y}<extra></extra>",
         "legendgroup": "100x",
         "line": {
          "color": "rgb(55,126,184)",
          "dash": "solid"
         },
         "marker": {
          "size": 10,
          "symbol": 3
         },
         "mode": "lines+markers",
         "name": "100x",
         "orientation": "v",
         "showlegend": true,
         "type": "scatter",
         "x": [
          0.5,
          2,
          10
         ],
         "xaxis": "x",
         "y": [
          0,
          0,
          0
         ],
         "yaxis": "y"
        },
        {
         "hovertemplate": "depth=200x<br>vaf=%{x}<br>precision=%{y}<extra></extra>",
         "legendgroup": "200x",
         "line": {
          "color": "rgb(77,175,74)",
          "dash": "solid"
         },
         "marker": {
          "size": 10,
          "symbol": 16
         },
         "mode": "lines+markers",
         "name": "200x",
         "orientation": "v",
         "showlegend": true,
         "type": "scatter",
         "x": [
          0.5,
          2,
          10
         ],
         "xaxis": "x",
         "y": [
          0,
          0,
          0
         ],
         "yaxis": "y"
        },
        {
         "hovertemplate": "depth=200x_UW<br>vaf=%{x}<br>precision=%{y}<extra></extra>",
         "legendgroup": "200x_UW",
         "line": {
          "color": "rgb(152,78,163)",
          "dash": "solid"
         },
         "marker": {
          "size": 10,
          "symbol": 17
         },
         "mode": "lines+markers",
         "name": "200x_UW",
         "orientation": "v",
         "showlegend": true,
         "type": "scatter",
         "x": [
          0.5,
          2,
          10
         ],
         "xaxis": "x",
         "y": [
          0,
          0,
          0
         ],
         "yaxis": "y"
        },
        {
         "hovertemplate": "depth=200x_NYGC<br>vaf=%{x}<br>precision=%{y}<extra></extra>",
         "legendgroup": "200x_NYGC",
         "line": {
          "color": "rgb(255,127,0)",
          "dash": "solid"
         },
         "marker": {
          "size": 10,
          "symbol": 1
         },
         "mode": "lines+markers",
         "name": "200x_NYGC",
         "orientation": "v",
         "showlegend": true,
         "type": "scatter",
         "x": [
          0.5,
          2,
          10
         ],
         "xaxis": "x",
         "y": [
          0,
          0,
          0.0070921985815602835
         ],
         "yaxis": "y"
        },
        {
         "hovertemplate": "depth=300x<br>vaf=%{x}<br>precision=%{y}<extra></extra>",
         "legendgroup": "300x",
         "line": {
          "color": "rgb(255,255,51)",
          "dash": "solid"
         },
         "marker": {
          "size": 10,
          "symbol": 3
         },
         "mode": "lines+markers",
         "name": "300x",
         "orientation": "v",
         "showlegend": true,
         "type": "scatter",
         "x": [
          0.5,
          2,
          10
         ],
         "xaxis": "x",
         "y": [
          0,
          0,
          0.017064846416382253
         ],
         "yaxis": "y"
        },
        {
         "hovertemplate": "depth=400x<br>vaf=%{x}<br>precision=%{y}<extra></extra>",
         "legendgroup": "400x",
         "line": {
          "color": "rgb(166,86,40)",
          "dash": "solid"
         },
         "marker": {
          "size": 10,
          "symbol": 16
         },
         "mode": "lines+markers",
         "name": "400x",
         "orientation": "v",
         "showlegend": true,
         "type": "scatter",
         "x": [
          0.5,
          2,
          10
         ],
         "xaxis": "x",
         "y": [
          0,
          0,
          0.022508038585209004
         ],
         "yaxis": "y"
        },
        {
         "hovertemplate": "depth=500x_WashU<br>vaf=%{x}<br>precision=%{y}<extra></extra>",
         "legendgroup": "500x_WashU",
         "line": {
          "color": "rgb(247,129,191)",
          "dash": "solid"
         },
         "marker": {
          "size": 10,
          "symbol": 17
         },
         "mode": "lines+markers",
         "name": "500x_WashU",
         "orientation": "v",
         "showlegend": true,
         "type": "scatter",
         "x": [
          0.5,
          2,
          10
         ],
         "xaxis": "x",
         "y": [
          0,
          0,
          0.02976190476190476
         ],
         "yaxis": "y"
        }
       ],
       "layout": {
        "font": {
         "color": "RebeccaPurple",
         "family": "Arial, sans-serif",
         "size": 18
        },
        "legend": {
         "font": {
          "size": 16
         },
         "orientation": "v",
         "title": {
          "font": {
           "color": "black",
           "size": 18
          },
          "text": "depth"
         },
         "tracegroupgap": 0,
         "traceorder": "normal",
         "x": 0.01,
         "y": 1.1
        },
        "margin": {
         "t": 60
        },
        "template": {
         "data": {
          "bar": [
           {
            "error_x": {
             "color": "#2a3f5f"
            },
            "error_y": {
             "color": "#2a3f5f"
            },
            "marker": {
             "line": {
              "color": "#E5ECF6",
              "width": 0.5
             },
             "pattern": {
              "fillmode": "overlay",
              "size": 10,
              "solidity": 0.2
             }
            },
            "type": "bar"
           }
          ],
          "barpolar": [
           {
            "marker": {
             "line": {
              "color": "#E5ECF6",
              "width": 0.5
             },
             "pattern": {
              "fillmode": "overlay",
              "size": 10,
              "solidity": 0.2
             }
            },
            "type": "barpolar"
           }
          ],
          "carpet": [
           {
            "aaxis": {
             "endlinecolor": "#2a3f5f",
             "gridcolor": "white",
             "linecolor": "white",
             "minorgridcolor": "white",
             "startlinecolor": "#2a3f5f"
            },
            "baxis": {
             "endlinecolor": "#2a3f5f",
             "gridcolor": "white",
             "linecolor": "white",
             "minorgridcolor": "white",
             "startlinecolor": "#2a3f5f"
            },
            "type": "carpet"
           }
          ],
          "choropleth": [
           {
            "colorbar": {
             "outlinewidth": 0,
             "ticks": ""
            },
            "type": "choropleth"
           }
          ],
          "contour": [
           {
            "colorbar": {
             "outlinewidth": 0,
             "ticks": ""
            },
            "colorscale": [
             [
              0,
              "#0d0887"
             ],
             [
              0.1111111111111111,
              "#46039f"
             ],
             [
              0.2222222222222222,
              "#7201a8"
             ],
             [
              0.3333333333333333,
              "#9c179e"
             ],
             [
              0.4444444444444444,
              "#bd3786"
             ],
             [
              0.5555555555555556,
              "#d8576b"
             ],
             [
              0.6666666666666666,
              "#ed7953"
             ],
             [
              0.7777777777777778,
              "#fb9f3a"
             ],
             [
              0.8888888888888888,
              "#fdca26"
             ],
             [
              1,
              "#f0f921"
             ]
            ],
            "type": "contour"
           }
          ],
          "contourcarpet": [
           {
            "colorbar": {
             "outlinewidth": 0,
             "ticks": ""
            },
            "type": "contourcarpet"
           }
          ],
          "heatmap": [
           {
            "colorbar": {
             "outlinewidth": 0,
             "ticks": ""
            },
            "colorscale": [
             [
              0,
              "#0d0887"
             ],
             [
              0.1111111111111111,
              "#46039f"
             ],
             [
              0.2222222222222222,
              "#7201a8"
             ],
             [
              0.3333333333333333,
              "#9c179e"
             ],
             [
              0.4444444444444444,
              "#bd3786"
             ],
             [
              0.5555555555555556,
              "#d8576b"
             ],
             [
              0.6666666666666666,
              "#ed7953"
             ],
             [
              0.7777777777777778,
              "#fb9f3a"
             ],
             [
              0.8888888888888888,
              "#fdca26"
             ],
             [
              1,
              "#f0f921"
             ]
            ],
            "type": "heatmap"
           }
          ],
          "heatmapgl": [
           {
            "colorbar": {
             "outlinewidth": 0,
             "ticks": ""
            },
            "colorscale": [
             [
              0,
              "#0d0887"
             ],
             [
              0.1111111111111111,
              "#46039f"
             ],
             [
              0.2222222222222222,
              "#7201a8"
             ],
             [
              0.3333333333333333,
              "#9c179e"
             ],
             [
              0.4444444444444444,
              "#bd3786"
             ],
             [
              0.5555555555555556,
              "#d8576b"
             ],
             [
              0.6666666666666666,
              "#ed7953"
             ],
             [
              0.7777777777777778,
              "#fb9f3a"
             ],
             [
              0.8888888888888888,
              "#fdca26"
             ],
             [
              1,
              "#f0f921"
             ]
            ],
            "type": "heatmapgl"
           }
          ],
          "histogram": [
           {
            "marker": {
             "pattern": {
              "fillmode": "overlay",
              "size": 10,
              "solidity": 0.2
             }
            },
            "type": "histogram"
           }
          ],
          "histogram2d": [
           {
            "colorbar": {
             "outlinewidth": 0,
             "ticks": ""
            },
            "colorscale": [
             [
              0,
              "#0d0887"
             ],
             [
              0.1111111111111111,
              "#46039f"
             ],
             [
              0.2222222222222222,
              "#7201a8"
             ],
             [
              0.3333333333333333,
              "#9c179e"
             ],
             [
              0.4444444444444444,
              "#bd3786"
             ],
             [
              0.5555555555555556,
              "#d8576b"
             ],
             [
              0.6666666666666666,
              "#ed7953"
             ],
             [
              0.7777777777777778,
              "#fb9f3a"
             ],
             [
              0.8888888888888888,
              "#fdca26"
             ],
             [
              1,
              "#f0f921"
             ]
            ],
            "type": "histogram2d"
           }
          ],
          "histogram2dcontour": [
           {
            "colorbar": {
             "outlinewidth": 0,
             "ticks": ""
            },
            "colorscale": [
             [
              0,
              "#0d0887"
             ],
             [
              0.1111111111111111,
              "#46039f"
             ],
             [
              0.2222222222222222,
              "#7201a8"
             ],
             [
              0.3333333333333333,
              "#9c179e"
             ],
             [
              0.4444444444444444,
              "#bd3786"
             ],
             [
              0.5555555555555556,
              "#d8576b"
             ],
             [
              0.6666666666666666,
              "#ed7953"
             ],
             [
              0.7777777777777778,
              "#fb9f3a"
             ],
             [
              0.8888888888888888,
              "#fdca26"
             ],
             [
              1,
              "#f0f921"
             ]
            ],
            "type": "histogram2dcontour"
           }
          ],
          "mesh3d": [
           {
            "colorbar": {
             "outlinewidth": 0,
             "ticks": ""
            },
            "type": "mesh3d"
           }
          ],
          "parcoords": [
           {
            "line": {
             "colorbar": {
              "outlinewidth": 0,
              "ticks": ""
             }
            },
            "type": "parcoords"
           }
          ],
          "pie": [
           {
            "automargin": true,
            "type": "pie"
           }
          ],
          "scatter": [
           {
            "fillpattern": {
             "fillmode": "overlay",
             "size": 10,
             "solidity": 0.2
            },
            "type": "scatter"
           }
          ],
          "scatter3d": [
           {
            "line": {
             "colorbar": {
              "outlinewidth": 0,
              "ticks": ""
             }
            },
            "marker": {
             "colorbar": {
              "outlinewidth": 0,
              "ticks": ""
             }
            },
            "type": "scatter3d"
           }
          ],
          "scattercarpet": [
           {
            "marker": {
             "colorbar": {
              "outlinewidth": 0,
              "ticks": ""
             }
            },
            "type": "scattercarpet"
           }
          ],
          "scattergeo": [
           {
            "marker": {
             "colorbar": {
              "outlinewidth": 0,
              "ticks": ""
             }
            },
            "type": "scattergeo"
           }
          ],
          "scattergl": [
           {
            "marker": {
             "colorbar": {
              "outlinewidth": 0,
              "ticks": ""
             }
            },
            "type": "scattergl"
           }
          ],
          "scattermapbox": [
           {
            "marker": {
             "colorbar": {
              "outlinewidth": 0,
              "ticks": ""
             }
            },
            "type": "scattermapbox"
           }
          ],
          "scatterpolar": [
           {
            "marker": {
             "colorbar": {
              "outlinewidth": 0,
              "ticks": ""
             }
            },
            "type": "scatterpolar"
           }
          ],
          "scatterpolargl": [
           {
            "marker": {
             "colorbar": {
              "outlinewidth": 0,
              "ticks": ""
             }
            },
            "type": "scatterpolargl"
           }
          ],
          "scatterternary": [
           {
            "marker": {
             "colorbar": {
              "outlinewidth": 0,
              "ticks": ""
             }
            },
            "type": "scatterternary"
           }
          ],
          "surface": [
           {
            "colorbar": {
             "outlinewidth": 0,
             "ticks": ""
            },
            "colorscale": [
             [
              0,
              "#0d0887"
             ],
             [
              0.1111111111111111,
              "#46039f"
             ],
             [
              0.2222222222222222,
              "#7201a8"
             ],
             [
              0.3333333333333333,
              "#9c179e"
             ],
             [
              0.4444444444444444,
              "#bd3786"
             ],
             [
              0.5555555555555556,
              "#d8576b"
             ],
             [
              0.6666666666666666,
              "#ed7953"
             ],
             [
              0.7777777777777778,
              "#fb9f3a"
             ],
             [
              0.8888888888888888,
              "#fdca26"
             ],
             [
              1,
              "#f0f921"
             ]
            ],
            "type": "surface"
           }
          ],
          "table": [
           {
            "cells": {
             "fill": {
              "color": "#EBF0F8"
             },
             "line": {
              "color": "white"
             }
            },
            "header": {
             "fill": {
              "color": "#C8D4E3"
             },
             "line": {
              "color": "white"
             }
            },
            "type": "table"
           }
          ]
         },
         "layout": {
          "annotationdefaults": {
           "arrowcolor": "#2a3f5f",
           "arrowhead": 0,
           "arrowwidth": 1
          },
          "autotypenumbers": "strict",
          "coloraxis": {
           "colorbar": {
            "outlinewidth": 0,
            "ticks": ""
           }
          },
          "colorscale": {
           "diverging": [
            [
             0,
             "#8e0152"
            ],
            [
             0.1,
             "#c51b7d"
            ],
            [
             0.2,
             "#de77ae"
            ],
            [
             0.3,
             "#f1b6da"
            ],
            [
             0.4,
             "#fde0ef"
            ],
            [
             0.5,
             "#f7f7f7"
            ],
            [
             0.6,
             "#e6f5d0"
            ],
            [
             0.7,
             "#b8e186"
            ],
            [
             0.8,
             "#7fbc41"
            ],
            [
             0.9,
             "#4d9221"
            ],
            [
             1,
             "#276419"
            ]
           ],
           "sequential": [
            [
             0,
             "#0d0887"
            ],
            [
             0.1111111111111111,
             "#46039f"
            ],
            [
             0.2222222222222222,
             "#7201a8"
            ],
            [
             0.3333333333333333,
             "#9c179e"
            ],
            [
             0.4444444444444444,
             "#bd3786"
            ],
            [
             0.5555555555555556,
             "#d8576b"
            ],
            [
             0.6666666666666666,
             "#ed7953"
            ],
            [
             0.7777777777777778,
             "#fb9f3a"
            ],
            [
             0.8888888888888888,
             "#fdca26"
            ],
            [
             1,
             "#f0f921"
            ]
           ],
           "sequentialminus": [
            [
             0,
             "#0d0887"
            ],
            [
             0.1111111111111111,
             "#46039f"
            ],
            [
             0.2222222222222222,
             "#7201a8"
            ],
            [
             0.3333333333333333,
             "#9c179e"
            ],
            [
             0.4444444444444444,
             "#bd3786"
            ],
            [
             0.5555555555555556,
             "#d8576b"
            ],
            [
             0.6666666666666666,
             "#ed7953"
            ],
            [
             0.7777777777777778,
             "#fb9f3a"
            ],
            [
             0.8888888888888888,
             "#fdca26"
            ],
            [
             1,
             "#f0f921"
            ]
           ]
          },
          "colorway": [
           "#636efa",
           "#EF553B",
           "#00cc96",
           "#ab63fa",
           "#FFA15A",
           "#19d3f3",
           "#FF6692",
           "#B6E880",
           "#FF97FF",
           "#FECB52"
          ],
          "font": {
           "color": "#2a3f5f"
          },
          "geo": {
           "bgcolor": "white",
           "lakecolor": "white",
           "landcolor": "#E5ECF6",
           "showlakes": true,
           "showland": true,
           "subunitcolor": "white"
          },
          "hoverlabel": {
           "align": "left"
          },
          "hovermode": "closest",
          "mapbox": {
           "style": "light"
          },
          "paper_bgcolor": "white",
          "plot_bgcolor": "#E5ECF6",
          "polar": {
           "angularaxis": {
            "gridcolor": "white",
            "linecolor": "white",
            "ticks": ""
           },
           "bgcolor": "#E5ECF6",
           "radialaxis": {
            "gridcolor": "white",
            "linecolor": "white",
            "ticks": ""
           }
          },
          "scene": {
           "xaxis": {
            "backgroundcolor": "#E5ECF6",
            "gridcolor": "white",
            "gridwidth": 2,
            "linecolor": "white",
            "showbackground": true,
            "ticks": "",
            "zerolinecolor": "white"
           },
           "yaxis": {
            "backgroundcolor": "#E5ECF6",
            "gridcolor": "white",
            "gridwidth": 2,
            "linecolor": "white",
            "showbackground": true,
            "ticks": "",
            "zerolinecolor": "white"
           },
           "zaxis": {
            "backgroundcolor": "#E5ECF6",
            "gridcolor": "white",
            "gridwidth": 2,
            "linecolor": "white",
            "showbackground": true,
            "ticks": "",
            "zerolinecolor": "white"
           }
          },
          "shapedefaults": {
           "line": {
            "color": "#2a3f5f"
           }
          },
          "ternary": {
           "aaxis": {
            "gridcolor": "white",
            "linecolor": "white",
            "ticks": ""
           },
           "baxis": {
            "gridcolor": "white",
            "linecolor": "white",
            "ticks": ""
           },
           "bgcolor": "#E5ECF6",
           "caxis": {
            "gridcolor": "white",
            "linecolor": "white",
            "ticks": ""
           }
          },
          "title": {
           "x": 0.05
          },
          "xaxis": {
           "automargin": true,
           "gridcolor": "white",
           "linecolor": "white",
           "ticks": "",
           "title": {
            "standoff": 15
           },
           "zerolinecolor": "white",
           "zerolinewidth": 2
          },
          "yaxis": {
           "automargin": true,
           "gridcolor": "white",
           "linecolor": "white",
           "ticks": "",
           "title": {
            "standoff": 15
           },
           "zerolinecolor": "white",
           "zerolinewidth": 2
          }
         }
        },
        "title": {
         "text": "Precision Plot-xTea"
        },
        "width": 600,
        "xaxis": {
         "anchor": "y",
         "domain": [
          0,
          1
         ],
         "range": [
          -2,
          3.25
         ],
         "tickvals": [
          0.5,
          2,
          10
         ],
         "title": {
          "text": "Level of Mosaicism (%)"
         },
         "type": "log"
        },
        "yaxis": {
         "anchor": "x",
         "domain": [
          0,
          1
         ],
         "range": [
          0,
          1.1
         ],
         "tickvals": [
          0,
          0.2,
          0.4,
          0.6,
          0.8,
          1
         ],
         "title": {
          "text": "Precision (L1)"
         }
        }
       }
      },
      "text/html": [
       "<div>                            <div id=\"e5b84b34-d956-43bc-bf9f-4087569da966\" class=\"plotly-graph-div\" style=\"height:525px; width:600px;\"></div>            <script type=\"text/javascript\">                require([\"plotly\"], function(Plotly) {                    window.PLOTLYENV=window.PLOTLYENV || {};                                    if (document.getElementById(\"e5b84b34-d956-43bc-bf9f-4087569da966\")) {                    Plotly.newPlot(                        \"e5b84b34-d956-43bc-bf9f-4087569da966\",                        [{\"hovertemplate\":\"depth=50x\\u003cbr\\u003evaf=%{x}\\u003cbr\\u003eprecision=%{y}\\u003cextra\\u003e\\u003c\\u002fextra\\u003e\",\"legendgroup\":\"50x\",\"line\":{\"color\":\"rgb(228,26,28)\",\"dash\":\"solid\"},\"marker\":{\"symbol\":1,\"size\":10},\"mode\":\"lines+markers\",\"name\":\"50x\",\"orientation\":\"v\",\"showlegend\":true,\"x\":[0.5,2.0,10.0],\"xaxis\":\"x\",\"y\":[0.0,0.0,0.0],\"yaxis\":\"y\",\"type\":\"scatter\"},{\"hovertemplate\":\"depth=100x\\u003cbr\\u003evaf=%{x}\\u003cbr\\u003eprecision=%{y}\\u003cextra\\u003e\\u003c\\u002fextra\\u003e\",\"legendgroup\":\"100x\",\"line\":{\"color\":\"rgb(55,126,184)\",\"dash\":\"solid\"},\"marker\":{\"symbol\":3,\"size\":10},\"mode\":\"lines+markers\",\"name\":\"100x\",\"orientation\":\"v\",\"showlegend\":true,\"x\":[0.5,2.0,10.0],\"xaxis\":\"x\",\"y\":[0.0,0.0,0.0],\"yaxis\":\"y\",\"type\":\"scatter\"},{\"hovertemplate\":\"depth=200x\\u003cbr\\u003evaf=%{x}\\u003cbr\\u003eprecision=%{y}\\u003cextra\\u003e\\u003c\\u002fextra\\u003e\",\"legendgroup\":\"200x\",\"line\":{\"color\":\"rgb(77,175,74)\",\"dash\":\"solid\"},\"marker\":{\"symbol\":16,\"size\":10},\"mode\":\"lines+markers\",\"name\":\"200x\",\"orientation\":\"v\",\"showlegend\":true,\"x\":[0.5,2.0,10.0],\"xaxis\":\"x\",\"y\":[0.0,0.0,0.0],\"yaxis\":\"y\",\"type\":\"scatter\"},{\"hovertemplate\":\"depth=200x_UW\\u003cbr\\u003evaf=%{x}\\u003cbr\\u003eprecision=%{y}\\u003cextra\\u003e\\u003c\\u002fextra\\u003e\",\"legendgroup\":\"200x_UW\",\"line\":{\"color\":\"rgb(152,78,163)\",\"dash\":\"solid\"},\"marker\":{\"symbol\":17,\"size\":10},\"mode\":\"lines+markers\",\"name\":\"200x_UW\",\"orientation\":\"v\",\"showlegend\":true,\"x\":[0.5,2.0,10.0],\"xaxis\":\"x\",\"y\":[0.0,0.0,0.0],\"yaxis\":\"y\",\"type\":\"scatter\"},{\"hovertemplate\":\"depth=200x_NYGC\\u003cbr\\u003evaf=%{x}\\u003cbr\\u003eprecision=%{y}\\u003cextra\\u003e\\u003c\\u002fextra\\u003e\",\"legendgroup\":\"200x_NYGC\",\"line\":{\"color\":\"rgb(255,127,0)\",\"dash\":\"solid\"},\"marker\":{\"symbol\":1,\"size\":10},\"mode\":\"lines+markers\",\"name\":\"200x_NYGC\",\"orientation\":\"v\",\"showlegend\":true,\"x\":[0.5,2.0,10.0],\"xaxis\":\"x\",\"y\":[0.0,0.0,0.0070921985815602835],\"yaxis\":\"y\",\"type\":\"scatter\"},{\"hovertemplate\":\"depth=300x\\u003cbr\\u003evaf=%{x}\\u003cbr\\u003eprecision=%{y}\\u003cextra\\u003e\\u003c\\u002fextra\\u003e\",\"legendgroup\":\"300x\",\"line\":{\"color\":\"rgb(255,255,51)\",\"dash\":\"solid\"},\"marker\":{\"symbol\":3,\"size\":10},\"mode\":\"lines+markers\",\"name\":\"300x\",\"orientation\":\"v\",\"showlegend\":true,\"x\":[0.5,2.0,10.0],\"xaxis\":\"x\",\"y\":[0.0,0.0,0.017064846416382253],\"yaxis\":\"y\",\"type\":\"scatter\"},{\"hovertemplate\":\"depth=400x\\u003cbr\\u003evaf=%{x}\\u003cbr\\u003eprecision=%{y}\\u003cextra\\u003e\\u003c\\u002fextra\\u003e\",\"legendgroup\":\"400x\",\"line\":{\"color\":\"rgb(166,86,40)\",\"dash\":\"solid\"},\"marker\":{\"symbol\":16,\"size\":10},\"mode\":\"lines+markers\",\"name\":\"400x\",\"orientation\":\"v\",\"showlegend\":true,\"x\":[0.5,2.0,10.0],\"xaxis\":\"x\",\"y\":[0.0,0.0,0.022508038585209004],\"yaxis\":\"y\",\"type\":\"scatter\"},{\"hovertemplate\":\"depth=500x_WashU\\u003cbr\\u003evaf=%{x}\\u003cbr\\u003eprecision=%{y}\\u003cextra\\u003e\\u003c\\u002fextra\\u003e\",\"legendgroup\":\"500x_WashU\",\"line\":{\"color\":\"rgb(247,129,191)\",\"dash\":\"solid\"},\"marker\":{\"symbol\":17,\"size\":10},\"mode\":\"lines+markers\",\"name\":\"500x_WashU\",\"orientation\":\"v\",\"showlegend\":true,\"x\":[0.5,2.0,10.0],\"xaxis\":\"x\",\"y\":[0.0,0.0,0.02976190476190476],\"yaxis\":\"y\",\"type\":\"scatter\"}],                        {\"template\":{\"data\":{\"histogram2dcontour\":[{\"type\":\"histogram2dcontour\",\"colorbar\":{\"outlinewidth\":0,\"ticks\":\"\"},\"colorscale\":[[0.0,\"#0d0887\"],[0.1111111111111111,\"#46039f\"],[0.2222222222222222,\"#7201a8\"],[0.3333333333333333,\"#9c179e\"],[0.4444444444444444,\"#bd3786\"],[0.5555555555555556,\"#d8576b\"],[0.6666666666666666,\"#ed7953\"],[0.7777777777777778,\"#fb9f3a\"],[0.8888888888888888,\"#fdca26\"],[1.0,\"#f0f921\"]]}],\"choropleth\":[{\"type\":\"choropleth\",\"colorbar\":{\"outlinewidth\":0,\"ticks\":\"\"}}],\"histogram2d\":[{\"type\":\"histogram2d\",\"colorbar\":{\"outlinewidth\":0,\"ticks\":\"\"},\"colorscale\":[[0.0,\"#0d0887\"],[0.1111111111111111,\"#46039f\"],[0.2222222222222222,\"#7201a8\"],[0.3333333333333333,\"#9c179e\"],[0.4444444444444444,\"#bd3786\"],[0.5555555555555556,\"#d8576b\"],[0.6666666666666666,\"#ed7953\"],[0.7777777777777778,\"#fb9f3a\"],[0.8888888888888888,\"#fdca26\"],[1.0,\"#f0f921\"]]}],\"heatmap\":[{\"type\":\"heatmap\",\"colorbar\":{\"outlinewidth\":0,\"ticks\":\"\"},\"colorscale\":[[0.0,\"#0d0887\"],[0.1111111111111111,\"#46039f\"],[0.2222222222222222,\"#7201a8\"],[0.3333333333333333,\"#9c179e\"],[0.4444444444444444,\"#bd3786\"],[0.5555555555555556,\"#d8576b\"],[0.6666666666666666,\"#ed7953\"],[0.7777777777777778,\"#fb9f3a\"],[0.8888888888888888,\"#fdca26\"],[1.0,\"#f0f921\"]]}],\"heatmapgl\":[{\"type\":\"heatmapgl\",\"colorbar\":{\"outlinewidth\":0,\"ticks\":\"\"},\"colorscale\":[[0.0,\"#0d0887\"],[0.1111111111111111,\"#46039f\"],[0.2222222222222222,\"#7201a8\"],[0.3333333333333333,\"#9c179e\"],[0.4444444444444444,\"#bd3786\"],[0.5555555555555556,\"#d8576b\"],[0.6666666666666666,\"#ed7953\"],[0.7777777777777778,\"#fb9f3a\"],[0.8888888888888888,\"#fdca26\"],[1.0,\"#f0f921\"]]}],\"contourcarpet\":[{\"type\":\"contourcarpet\",\"colorbar\":{\"outlinewidth\":0,\"ticks\":\"\"}}],\"contour\":[{\"type\":\"contour\",\"colorbar\":{\"outlinewidth\":0,\"ticks\":\"\"},\"colorscale\":[[0.0,\"#0d0887\"],[0.1111111111111111,\"#46039f\"],[0.2222222222222222,\"#7201a8\"],[0.3333333333333333,\"#9c179e\"],[0.4444444444444444,\"#bd3786\"],[0.5555555555555556,\"#d8576b\"],[0.6666666666666666,\"#ed7953\"],[0.7777777777777778,\"#fb9f3a\"],[0.8888888888888888,\"#fdca26\"],[1.0,\"#f0f921\"]]}],\"surface\":[{\"type\":\"surface\",\"colorbar\":{\"outlinewidth\":0,\"ticks\":\"\"},\"colorscale\":[[0.0,\"#0d0887\"],[0.1111111111111111,\"#46039f\"],[0.2222222222222222,\"#7201a8\"],[0.3333333333333333,\"#9c179e\"],[0.4444444444444444,\"#bd3786\"],[0.5555555555555556,\"#d8576b\"],[0.6666666666666666,\"#ed7953\"],[0.7777777777777778,\"#fb9f3a\"],[0.8888888888888888,\"#fdca26\"],[1.0,\"#f0f921\"]]}],\"mesh3d\":[{\"type\":\"mesh3d\",\"colorbar\":{\"outlinewidth\":0,\"ticks\":\"\"}}],\"scatter\":[{\"fillpattern\":{\"fillmode\":\"overlay\",\"size\":10,\"solidity\":0.2},\"type\":\"scatter\"}],\"parcoords\":[{\"type\":\"parcoords\",\"line\":{\"colorbar\":{\"outlinewidth\":0,\"ticks\":\"\"}}}],\"scatterpolargl\":[{\"type\":\"scatterpolargl\",\"marker\":{\"colorbar\":{\"outlinewidth\":0,\"ticks\":\"\"}}}],\"bar\":[{\"error_x\":{\"color\":\"#2a3f5f\"},\"error_y\":{\"color\":\"#2a3f5f\"},\"marker\":{\"line\":{\"color\":\"#E5ECF6\",\"width\":0.5},\"pattern\":{\"fillmode\":\"overlay\",\"size\":10,\"solidity\":0.2}},\"type\":\"bar\"}],\"scattergeo\":[{\"type\":\"scattergeo\",\"marker\":{\"colorbar\":{\"outlinewidth\":0,\"ticks\":\"\"}}}],\"scatterpolar\":[{\"type\":\"scatterpolar\",\"marker\":{\"colorbar\":{\"outlinewidth\":0,\"ticks\":\"\"}}}],\"histogram\":[{\"marker\":{\"pattern\":{\"fillmode\":\"overlay\",\"size\":10,\"solidity\":0.2}},\"type\":\"histogram\"}],\"scattergl\":[{\"type\":\"scattergl\",\"marker\":{\"colorbar\":{\"outlinewidth\":0,\"ticks\":\"\"}}}],\"scatter3d\":[{\"type\":\"scatter3d\",\"line\":{\"colorbar\":{\"outlinewidth\":0,\"ticks\":\"\"}},\"marker\":{\"colorbar\":{\"outlinewidth\":0,\"ticks\":\"\"}}}],\"scattermapbox\":[{\"type\":\"scattermapbox\",\"marker\":{\"colorbar\":{\"outlinewidth\":0,\"ticks\":\"\"}}}],\"scatterternary\":[{\"type\":\"scatterternary\",\"marker\":{\"colorbar\":{\"outlinewidth\":0,\"ticks\":\"\"}}}],\"scattercarpet\":[{\"type\":\"scattercarpet\",\"marker\":{\"colorbar\":{\"outlinewidth\":0,\"ticks\":\"\"}}}],\"carpet\":[{\"aaxis\":{\"endlinecolor\":\"#2a3f5f\",\"gridcolor\":\"white\",\"linecolor\":\"white\",\"minorgridcolor\":\"white\",\"startlinecolor\":\"#2a3f5f\"},\"baxis\":{\"endlinecolor\":\"#2a3f5f\",\"gridcolor\":\"white\",\"linecolor\":\"white\",\"minorgridcolor\":\"white\",\"startlinecolor\":\"#2a3f5f\"},\"type\":\"carpet\"}],\"table\":[{\"cells\":{\"fill\":{\"color\":\"#EBF0F8\"},\"line\":{\"color\":\"white\"}},\"header\":{\"fill\":{\"color\":\"#C8D4E3\"},\"line\":{\"color\":\"white\"}},\"type\":\"table\"}],\"barpolar\":[{\"marker\":{\"line\":{\"color\":\"#E5ECF6\",\"width\":0.5},\"pattern\":{\"fillmode\":\"overlay\",\"size\":10,\"solidity\":0.2}},\"type\":\"barpolar\"}],\"pie\":[{\"automargin\":true,\"type\":\"pie\"}]},\"layout\":{\"autotypenumbers\":\"strict\",\"colorway\":[\"#636efa\",\"#EF553B\",\"#00cc96\",\"#ab63fa\",\"#FFA15A\",\"#19d3f3\",\"#FF6692\",\"#B6E880\",\"#FF97FF\",\"#FECB52\"],\"font\":{\"color\":\"#2a3f5f\"},\"hovermode\":\"closest\",\"hoverlabel\":{\"align\":\"left\"},\"paper_bgcolor\":\"white\",\"plot_bgcolor\":\"#E5ECF6\",\"polar\":{\"bgcolor\":\"#E5ECF6\",\"angularaxis\":{\"gridcolor\":\"white\",\"linecolor\":\"white\",\"ticks\":\"\"},\"radialaxis\":{\"gridcolor\":\"white\",\"linecolor\":\"white\",\"ticks\":\"\"}},\"ternary\":{\"bgcolor\":\"#E5ECF6\",\"aaxis\":{\"gridcolor\":\"white\",\"linecolor\":\"white\",\"ticks\":\"\"},\"baxis\":{\"gridcolor\":\"white\",\"linecolor\":\"white\",\"ticks\":\"\"},\"caxis\":{\"gridcolor\":\"white\",\"linecolor\":\"white\",\"ticks\":\"\"}},\"coloraxis\":{\"colorbar\":{\"outlinewidth\":0,\"ticks\":\"\"}},\"colorscale\":{\"sequential\":[[0.0,\"#0d0887\"],[0.1111111111111111,\"#46039f\"],[0.2222222222222222,\"#7201a8\"],[0.3333333333333333,\"#9c179e\"],[0.4444444444444444,\"#bd3786\"],[0.5555555555555556,\"#d8576b\"],[0.6666666666666666,\"#ed7953\"],[0.7777777777777778,\"#fb9f3a\"],[0.8888888888888888,\"#fdca26\"],[1.0,\"#f0f921\"]],\"sequentialminus\":[[0.0,\"#0d0887\"],[0.1111111111111111,\"#46039f\"],[0.2222222222222222,\"#7201a8\"],[0.3333333333333333,\"#9c179e\"],[0.4444444444444444,\"#bd3786\"],[0.5555555555555556,\"#d8576b\"],[0.6666666666666666,\"#ed7953\"],[0.7777777777777778,\"#fb9f3a\"],[0.8888888888888888,\"#fdca26\"],[1.0,\"#f0f921\"]],\"diverging\":[[0,\"#8e0152\"],[0.1,\"#c51b7d\"],[0.2,\"#de77ae\"],[0.3,\"#f1b6da\"],[0.4,\"#fde0ef\"],[0.5,\"#f7f7f7\"],[0.6,\"#e6f5d0\"],[0.7,\"#b8e186\"],[0.8,\"#7fbc41\"],[0.9,\"#4d9221\"],[1,\"#276419\"]]},\"xaxis\":{\"gridcolor\":\"white\",\"linecolor\":\"white\",\"ticks\":\"\",\"title\":{\"standoff\":15},\"zerolinecolor\":\"white\",\"automargin\":true,\"zerolinewidth\":2},\"yaxis\":{\"gridcolor\":\"white\",\"linecolor\":\"white\",\"ticks\":\"\",\"title\":{\"standoff\":15},\"zerolinecolor\":\"white\",\"automargin\":true,\"zerolinewidth\":2},\"scene\":{\"xaxis\":{\"backgroundcolor\":\"#E5ECF6\",\"gridcolor\":\"white\",\"linecolor\":\"white\",\"showbackground\":true,\"ticks\":\"\",\"zerolinecolor\":\"white\",\"gridwidth\":2},\"yaxis\":{\"backgroundcolor\":\"#E5ECF6\",\"gridcolor\":\"white\",\"linecolor\":\"white\",\"showbackground\":true,\"ticks\":\"\",\"zerolinecolor\":\"white\",\"gridwidth\":2},\"zaxis\":{\"backgroundcolor\":\"#E5ECF6\",\"gridcolor\":\"white\",\"linecolor\":\"white\",\"showbackground\":true,\"ticks\":\"\",\"zerolinecolor\":\"white\",\"gridwidth\":2}},\"shapedefaults\":{\"line\":{\"color\":\"#2a3f5f\"}},\"annotationdefaults\":{\"arrowcolor\":\"#2a3f5f\",\"arrowhead\":0,\"arrowwidth\":1},\"geo\":{\"bgcolor\":\"white\",\"landcolor\":\"#E5ECF6\",\"subunitcolor\":\"white\",\"showland\":true,\"showlakes\":true,\"lakecolor\":\"white\"},\"title\":{\"x\":0.05},\"mapbox\":{\"style\":\"light\"}}},\"xaxis\":{\"anchor\":\"y\",\"domain\":[0.0,1.0],\"title\":{\"text\":\"Level of Mosaicism (%)\"},\"type\":\"log\",\"tickvals\":[0.5,2.0,10.0],\"range\":[-2,3.25]},\"yaxis\":{\"anchor\":\"x\",\"domain\":[0.0,1.0],\"title\":{\"text\":\"Precision (L1)\"},\"range\":[0,1.1],\"tickvals\":[0,0.2,0.4,0.6,0.8,1]},\"legend\":{\"title\":{\"text\":\"depth\",\"font\":{\"size\":18,\"color\":\"black\"}},\"tracegroupgap\":0,\"font\":{\"size\":16},\"traceorder\":\"normal\",\"orientation\":\"v\",\"y\":1.1,\"x\":0.01},\"margin\":{\"t\":60},\"font\":{\"family\":\"Arial, sans-serif\",\"size\":18,\"color\":\"RebeccaPurple\"},\"width\":600,\"title\":{\"text\":\"Precision Plot-xTea\"}},                        {\"responsive\": true}                    ).then(function(){\n",
       "                            \n",
       "var gd = document.getElementById('e5b84b34-d956-43bc-bf9f-4087569da966');\n",
       "var x = new MutationObserver(function (mutations, observer) {{\n",
       "        var display = window.getComputedStyle(gd).display;\n",
       "        if (!display || display === 'none') {{\n",
       "            console.log([gd, 'removed!']);\n",
       "            Plotly.purge(gd);\n",
       "            observer.disconnect();\n",
       "        }}\n",
       "}});\n",
       "\n",
       "// Listen for the removal of the full notebook cells\n",
       "var notebookContainer = gd.closest('#notebook-container');\n",
       "if (notebookContainer) {{\n",
       "    x.observe(notebookContainer, {childList: true});\n",
       "}}\n",
       "\n",
       "// Listen for the clearing of the current output cell\n",
       "var outputEl = gd.closest('.output');\n",
       "if (outputEl) {{\n",
       "    x.observe(outputEl, {childList: true});\n",
       "}}\n",
       "\n",
       "                        })                };                });            </script>        </div>"
      ]
     },
     "metadata": {},
     "output_type": "display_data"
    },
    {
     "data": {
      "application/vnd.plotly.v1+json": {
       "config": {
        "plotlyServerURL": "https://plot.ly"
       },
       "data": [],
       "layout": {
        "font": {
         "color": "RebeccaPurple",
         "family": "Arial, sans-serif",
         "size": 18
        },
        "legend": {
         "font": {
          "size": 16
         },
         "orientation": "v",
         "title": {
          "font": {
           "color": "black",
           "size": 18
          },
          "text": "depth"
         },
         "tracegroupgap": 0,
         "traceorder": "normal",
         "x": 0.01,
         "y": 1.1
        },
        "margin": {
         "t": 60
        },
        "template": {
         "data": {
          "bar": [
           {
            "error_x": {
             "color": "#2a3f5f"
            },
            "error_y": {
             "color": "#2a3f5f"
            },
            "marker": {
             "line": {
              "color": "#E5ECF6",
              "width": 0.5
             },
             "pattern": {
              "fillmode": "overlay",
              "size": 10,
              "solidity": 0.2
             }
            },
            "type": "bar"
           }
          ],
          "barpolar": [
           {
            "marker": {
             "line": {
              "color": "#E5ECF6",
              "width": 0.5
             },
             "pattern": {
              "fillmode": "overlay",
              "size": 10,
              "solidity": 0.2
             }
            },
            "type": "barpolar"
           }
          ],
          "carpet": [
           {
            "aaxis": {
             "endlinecolor": "#2a3f5f",
             "gridcolor": "white",
             "linecolor": "white",
             "minorgridcolor": "white",
             "startlinecolor": "#2a3f5f"
            },
            "baxis": {
             "endlinecolor": "#2a3f5f",
             "gridcolor": "white",
             "linecolor": "white",
             "minorgridcolor": "white",
             "startlinecolor": "#2a3f5f"
            },
            "type": "carpet"
           }
          ],
          "choropleth": [
           {
            "colorbar": {
             "outlinewidth": 0,
             "ticks": ""
            },
            "type": "choropleth"
           }
          ],
          "contour": [
           {
            "colorbar": {
             "outlinewidth": 0,
             "ticks": ""
            },
            "colorscale": [
             [
              0,
              "#0d0887"
             ],
             [
              0.1111111111111111,
              "#46039f"
             ],
             [
              0.2222222222222222,
              "#7201a8"
             ],
             [
              0.3333333333333333,
              "#9c179e"
             ],
             [
              0.4444444444444444,
              "#bd3786"
             ],
             [
              0.5555555555555556,
              "#d8576b"
             ],
             [
              0.6666666666666666,
              "#ed7953"
             ],
             [
              0.7777777777777778,
              "#fb9f3a"
             ],
             [
              0.8888888888888888,
              "#fdca26"
             ],
             [
              1,
              "#f0f921"
             ]
            ],
            "type": "contour"
           }
          ],
          "contourcarpet": [
           {
            "colorbar": {
             "outlinewidth": 0,
             "ticks": ""
            },
            "type": "contourcarpet"
           }
          ],
          "heatmap": [
           {
            "colorbar": {
             "outlinewidth": 0,
             "ticks": ""
            },
            "colorscale": [
             [
              0,
              "#0d0887"
             ],
             [
              0.1111111111111111,
              "#46039f"
             ],
             [
              0.2222222222222222,
              "#7201a8"
             ],
             [
              0.3333333333333333,
              "#9c179e"
             ],
             [
              0.4444444444444444,
              "#bd3786"
             ],
             [
              0.5555555555555556,
              "#d8576b"
             ],
             [
              0.6666666666666666,
              "#ed7953"
             ],
             [
              0.7777777777777778,
              "#fb9f3a"
             ],
             [
              0.8888888888888888,
              "#fdca26"
             ],
             [
              1,
              "#f0f921"
             ]
            ],
            "type": "heatmap"
           }
          ],
          "heatmapgl": [
           {
            "colorbar": {
             "outlinewidth": 0,
             "ticks": ""
            },
            "colorscale": [
             [
              0,
              "#0d0887"
             ],
             [
              0.1111111111111111,
              "#46039f"
             ],
             [
              0.2222222222222222,
              "#7201a8"
             ],
             [
              0.3333333333333333,
              "#9c179e"
             ],
             [
              0.4444444444444444,
              "#bd3786"
             ],
             [
              0.5555555555555556,
              "#d8576b"
             ],
             [
              0.6666666666666666,
              "#ed7953"
             ],
             [
              0.7777777777777778,
              "#fb9f3a"
             ],
             [
              0.8888888888888888,
              "#fdca26"
             ],
             [
              1,
              "#f0f921"
             ]
            ],
            "type": "heatmapgl"
           }
          ],
          "histogram": [
           {
            "marker": {
             "pattern": {
              "fillmode": "overlay",
              "size": 10,
              "solidity": 0.2
             }
            },
            "type": "histogram"
           }
          ],
          "histogram2d": [
           {
            "colorbar": {
             "outlinewidth": 0,
             "ticks": ""
            },
            "colorscale": [
             [
              0,
              "#0d0887"
             ],
             [
              0.1111111111111111,
              "#46039f"
             ],
             [
              0.2222222222222222,
              "#7201a8"
             ],
             [
              0.3333333333333333,
              "#9c179e"
             ],
             [
              0.4444444444444444,
              "#bd3786"
             ],
             [
              0.5555555555555556,
              "#d8576b"
             ],
             [
              0.6666666666666666,
              "#ed7953"
             ],
             [
              0.7777777777777778,
              "#fb9f3a"
             ],
             [
              0.8888888888888888,
              "#fdca26"
             ],
             [
              1,
              "#f0f921"
             ]
            ],
            "type": "histogram2d"
           }
          ],
          "histogram2dcontour": [
           {
            "colorbar": {
             "outlinewidth": 0,
             "ticks": ""
            },
            "colorscale": [
             [
              0,
              "#0d0887"
             ],
             [
              0.1111111111111111,
              "#46039f"
             ],
             [
              0.2222222222222222,
              "#7201a8"
             ],
             [
              0.3333333333333333,
              "#9c179e"
             ],
             [
              0.4444444444444444,
              "#bd3786"
             ],
             [
              0.5555555555555556,
              "#d8576b"
             ],
             [
              0.6666666666666666,
              "#ed7953"
             ],
             [
              0.7777777777777778,
              "#fb9f3a"
             ],
             [
              0.8888888888888888,
              "#fdca26"
             ],
             [
              1,
              "#f0f921"
             ]
            ],
            "type": "histogram2dcontour"
           }
          ],
          "mesh3d": [
           {
            "colorbar": {
             "outlinewidth": 0,
             "ticks": ""
            },
            "type": "mesh3d"
           }
          ],
          "parcoords": [
           {
            "line": {
             "colorbar": {
              "outlinewidth": 0,
              "ticks": ""
             }
            },
            "type": "parcoords"
           }
          ],
          "pie": [
           {
            "automargin": true,
            "type": "pie"
           }
          ],
          "scatter": [
           {
            "fillpattern": {
             "fillmode": "overlay",
             "size": 10,
             "solidity": 0.2
            },
            "type": "scatter"
           }
          ],
          "scatter3d": [
           {
            "line": {
             "colorbar": {
              "outlinewidth": 0,
              "ticks": ""
             }
            },
            "marker": {
             "colorbar": {
              "outlinewidth": 0,
              "ticks": ""
             }
            },
            "type": "scatter3d"
           }
          ],
          "scattercarpet": [
           {
            "marker": {
             "colorbar": {
              "outlinewidth": 0,
              "ticks": ""
             }
            },
            "type": "scattercarpet"
           }
          ],
          "scattergeo": [
           {
            "marker": {
             "colorbar": {
              "outlinewidth": 0,
              "ticks": ""
             }
            },
            "type": "scattergeo"
           }
          ],
          "scattergl": [
           {
            "marker": {
             "colorbar": {
              "outlinewidth": 0,
              "ticks": ""
             }
            },
            "type": "scattergl"
           }
          ],
          "scattermapbox": [
           {
            "marker": {
             "colorbar": {
              "outlinewidth": 0,
              "ticks": ""
             }
            },
            "type": "scattermapbox"
           }
          ],
          "scatterpolar": [
           {
            "marker": {
             "colorbar": {
              "outlinewidth": 0,
              "ticks": ""
             }
            },
            "type": "scatterpolar"
           }
          ],
          "scatterpolargl": [
           {
            "marker": {
             "colorbar": {
              "outlinewidth": 0,
              "ticks": ""
             }
            },
            "type": "scatterpolargl"
           }
          ],
          "scatterternary": [
           {
            "marker": {
             "colorbar": {
              "outlinewidth": 0,
              "ticks": ""
             }
            },
            "type": "scatterternary"
           }
          ],
          "surface": [
           {
            "colorbar": {
             "outlinewidth": 0,
             "ticks": ""
            },
            "colorscale": [
             [
              0,
              "#0d0887"
             ],
             [
              0.1111111111111111,
              "#46039f"
             ],
             [
              0.2222222222222222,
              "#7201a8"
             ],
             [
              0.3333333333333333,
              "#9c179e"
             ],
             [
              0.4444444444444444,
              "#bd3786"
             ],
             [
              0.5555555555555556,
              "#d8576b"
             ],
             [
              0.6666666666666666,
              "#ed7953"
             ],
             [
              0.7777777777777778,
              "#fb9f3a"
             ],
             [
              0.8888888888888888,
              "#fdca26"
             ],
             [
              1,
              "#f0f921"
             ]
            ],
            "type": "surface"
           }
          ],
          "table": [
           {
            "cells": {
             "fill": {
              "color": "#EBF0F8"
             },
             "line": {
              "color": "white"
             }
            },
            "header": {
             "fill": {
              "color": "#C8D4E3"
             },
             "line": {
              "color": "white"
             }
            },
            "type": "table"
           }
          ]
         },
         "layout": {
          "annotationdefaults": {
           "arrowcolor": "#2a3f5f",
           "arrowhead": 0,
           "arrowwidth": 1
          },
          "autotypenumbers": "strict",
          "coloraxis": {
           "colorbar": {
            "outlinewidth": 0,
            "ticks": ""
           }
          },
          "colorscale": {
           "diverging": [
            [
             0,
             "#8e0152"
            ],
            [
             0.1,
             "#c51b7d"
            ],
            [
             0.2,
             "#de77ae"
            ],
            [
             0.3,
             "#f1b6da"
            ],
            [
             0.4,
             "#fde0ef"
            ],
            [
             0.5,
             "#f7f7f7"
            ],
            [
             0.6,
             "#e6f5d0"
            ],
            [
             0.7,
             "#b8e186"
            ],
            [
             0.8,
             "#7fbc41"
            ],
            [
             0.9,
             "#4d9221"
            ],
            [
             1,
             "#276419"
            ]
           ],
           "sequential": [
            [
             0,
             "#0d0887"
            ],
            [
             0.1111111111111111,
             "#46039f"
            ],
            [
             0.2222222222222222,
             "#7201a8"
            ],
            [
             0.3333333333333333,
             "#9c179e"
            ],
            [
             0.4444444444444444,
             "#bd3786"
            ],
            [
             0.5555555555555556,
             "#d8576b"
            ],
            [
             0.6666666666666666,
             "#ed7953"
            ],
            [
             0.7777777777777778,
             "#fb9f3a"
            ],
            [
             0.8888888888888888,
             "#fdca26"
            ],
            [
             1,
             "#f0f921"
            ]
           ],
           "sequentialminus": [
            [
             0,
             "#0d0887"
            ],
            [
             0.1111111111111111,
             "#46039f"
            ],
            [
             0.2222222222222222,
             "#7201a8"
            ],
            [
             0.3333333333333333,
             "#9c179e"
            ],
            [
             0.4444444444444444,
             "#bd3786"
            ],
            [
             0.5555555555555556,
             "#d8576b"
            ],
            [
             0.6666666666666666,
             "#ed7953"
            ],
            [
             0.7777777777777778,
             "#fb9f3a"
            ],
            [
             0.8888888888888888,
             "#fdca26"
            ],
            [
             1,
             "#f0f921"
            ]
           ]
          },
          "colorway": [
           "#636efa",
           "#EF553B",
           "#00cc96",
           "#ab63fa",
           "#FFA15A",
           "#19d3f3",
           "#FF6692",
           "#B6E880",
           "#FF97FF",
           "#FECB52"
          ],
          "font": {
           "color": "#2a3f5f"
          },
          "geo": {
           "bgcolor": "white",
           "lakecolor": "white",
           "landcolor": "#E5ECF6",
           "showlakes": true,
           "showland": true,
           "subunitcolor": "white"
          },
          "hoverlabel": {
           "align": "left"
          },
          "hovermode": "closest",
          "mapbox": {
           "style": "light"
          },
          "paper_bgcolor": "white",
          "plot_bgcolor": "#E5ECF6",
          "polar": {
           "angularaxis": {
            "gridcolor": "white",
            "linecolor": "white",
            "ticks": ""
           },
           "bgcolor": "#E5ECF6",
           "radialaxis": {
            "gridcolor": "white",
            "linecolor": "white",
            "ticks": ""
           }
          },
          "scene": {
           "xaxis": {
            "backgroundcolor": "#E5ECF6",
            "gridcolor": "white",
            "gridwidth": 2,
            "linecolor": "white",
            "showbackground": true,
            "ticks": "",
            "zerolinecolor": "white"
           },
           "yaxis": {
            "backgroundcolor": "#E5ECF6",
            "gridcolor": "white",
            "gridwidth": 2,
            "linecolor": "white",
            "showbackground": true,
            "ticks": "",
            "zerolinecolor": "white"
           },
           "zaxis": {
            "backgroundcolor": "#E5ECF6",
            "gridcolor": "white",
            "gridwidth": 2,
            "linecolor": "white",
            "showbackground": true,
            "ticks": "",
            "zerolinecolor": "white"
           }
          },
          "shapedefaults": {
           "line": {
            "color": "#2a3f5f"
           }
          },
          "ternary": {
           "aaxis": {
            "gridcolor": "white",
            "linecolor": "white",
            "ticks": ""
           },
           "baxis": {
            "gridcolor": "white",
            "linecolor": "white",
            "ticks": ""
           },
           "bgcolor": "#E5ECF6",
           "caxis": {
            "gridcolor": "white",
            "linecolor": "white",
            "ticks": ""
           }
          },
          "title": {
           "x": 0.05
          },
          "xaxis": {
           "automargin": true,
           "gridcolor": "white",
           "linecolor": "white",
           "ticks": "",
           "title": {
            "standoff": 15
           },
           "zerolinecolor": "white",
           "zerolinewidth": 2
          },
          "yaxis": {
           "automargin": true,
           "gridcolor": "white",
           "linecolor": "white",
           "ticks": "",
           "title": {
            "standoff": 15
           },
           "zerolinecolor": "white",
           "zerolinewidth": 2
          }
         }
        },
        "title": {
         "text": "Precision Plot-MELT"
        },
        "width": 600,
        "xaxis": {
         "anchor": "y",
         "domain": [
          0,
          1
         ],
         "range": [
          -2,
          3.25
         ],
         "tickvals": [
          0.5,
          2,
          10
         ],
         "title": {
          "text": "Level of Mosaicism (%)"
         },
         "type": "log"
        },
        "yaxis": {
         "anchor": "x",
         "domain": [
          0,
          1
         ],
         "range": [
          0,
          1.1
         ],
         "tickvals": [
          0,
          0.2,
          0.4,
          0.6,
          0.8,
          1
         ],
         "title": {
          "text": "Precision (Alu)"
         }
        }
       }
      },
      "text/html": [
       "<div>                            <div id=\"c11cb22b-89b2-4bef-a856-38b595811e9e\" class=\"plotly-graph-div\" style=\"height:525px; width:600px;\"></div>            <script type=\"text/javascript\">                require([\"plotly\"], function(Plotly) {                    window.PLOTLYENV=window.PLOTLYENV || {};                                    if (document.getElementById(\"c11cb22b-89b2-4bef-a856-38b595811e9e\")) {                    Plotly.newPlot(                        \"c11cb22b-89b2-4bef-a856-38b595811e9e\",                        [],                        {\"template\":{\"data\":{\"histogram2dcontour\":[{\"type\":\"histogram2dcontour\",\"colorbar\":{\"outlinewidth\":0,\"ticks\":\"\"},\"colorscale\":[[0.0,\"#0d0887\"],[0.1111111111111111,\"#46039f\"],[0.2222222222222222,\"#7201a8\"],[0.3333333333333333,\"#9c179e\"],[0.4444444444444444,\"#bd3786\"],[0.5555555555555556,\"#d8576b\"],[0.6666666666666666,\"#ed7953\"],[0.7777777777777778,\"#fb9f3a\"],[0.8888888888888888,\"#fdca26\"],[1.0,\"#f0f921\"]]}],\"choropleth\":[{\"type\":\"choropleth\",\"colorbar\":{\"outlinewidth\":0,\"ticks\":\"\"}}],\"histogram2d\":[{\"type\":\"histogram2d\",\"colorbar\":{\"outlinewidth\":0,\"ticks\":\"\"},\"colorscale\":[[0.0,\"#0d0887\"],[0.1111111111111111,\"#46039f\"],[0.2222222222222222,\"#7201a8\"],[0.3333333333333333,\"#9c179e\"],[0.4444444444444444,\"#bd3786\"],[0.5555555555555556,\"#d8576b\"],[0.6666666666666666,\"#ed7953\"],[0.7777777777777778,\"#fb9f3a\"],[0.8888888888888888,\"#fdca26\"],[1.0,\"#f0f921\"]]}],\"heatmap\":[{\"type\":\"heatmap\",\"colorbar\":{\"outlinewidth\":0,\"ticks\":\"\"},\"colorscale\":[[0.0,\"#0d0887\"],[0.1111111111111111,\"#46039f\"],[0.2222222222222222,\"#7201a8\"],[0.3333333333333333,\"#9c179e\"],[0.4444444444444444,\"#bd3786\"],[0.5555555555555556,\"#d8576b\"],[0.6666666666666666,\"#ed7953\"],[0.7777777777777778,\"#fb9f3a\"],[0.8888888888888888,\"#fdca26\"],[1.0,\"#f0f921\"]]}],\"heatmapgl\":[{\"type\":\"heatmapgl\",\"colorbar\":{\"outlinewidth\":0,\"ticks\":\"\"},\"colorscale\":[[0.0,\"#0d0887\"],[0.1111111111111111,\"#46039f\"],[0.2222222222222222,\"#7201a8\"],[0.3333333333333333,\"#9c179e\"],[0.4444444444444444,\"#bd3786\"],[0.5555555555555556,\"#d8576b\"],[0.6666666666666666,\"#ed7953\"],[0.7777777777777778,\"#fb9f3a\"],[0.8888888888888888,\"#fdca26\"],[1.0,\"#f0f921\"]]}],\"contourcarpet\":[{\"type\":\"contourcarpet\",\"colorbar\":{\"outlinewidth\":0,\"ticks\":\"\"}}],\"contour\":[{\"type\":\"contour\",\"colorbar\":{\"outlinewidth\":0,\"ticks\":\"\"},\"colorscale\":[[0.0,\"#0d0887\"],[0.1111111111111111,\"#46039f\"],[0.2222222222222222,\"#7201a8\"],[0.3333333333333333,\"#9c179e\"],[0.4444444444444444,\"#bd3786\"],[0.5555555555555556,\"#d8576b\"],[0.6666666666666666,\"#ed7953\"],[0.7777777777777778,\"#fb9f3a\"],[0.8888888888888888,\"#fdca26\"],[1.0,\"#f0f921\"]]}],\"surface\":[{\"type\":\"surface\",\"colorbar\":{\"outlinewidth\":0,\"ticks\":\"\"},\"colorscale\":[[0.0,\"#0d0887\"],[0.1111111111111111,\"#46039f\"],[0.2222222222222222,\"#7201a8\"],[0.3333333333333333,\"#9c179e\"],[0.4444444444444444,\"#bd3786\"],[0.5555555555555556,\"#d8576b\"],[0.6666666666666666,\"#ed7953\"],[0.7777777777777778,\"#fb9f3a\"],[0.8888888888888888,\"#fdca26\"],[1.0,\"#f0f921\"]]}],\"mesh3d\":[{\"type\":\"mesh3d\",\"colorbar\":{\"outlinewidth\":0,\"ticks\":\"\"}}],\"scatter\":[{\"fillpattern\":{\"fillmode\":\"overlay\",\"size\":10,\"solidity\":0.2},\"type\":\"scatter\"}],\"parcoords\":[{\"type\":\"parcoords\",\"line\":{\"colorbar\":{\"outlinewidth\":0,\"ticks\":\"\"}}}],\"scatterpolargl\":[{\"type\":\"scatterpolargl\",\"marker\":{\"colorbar\":{\"outlinewidth\":0,\"ticks\":\"\"}}}],\"bar\":[{\"error_x\":{\"color\":\"#2a3f5f\"},\"error_y\":{\"color\":\"#2a3f5f\"},\"marker\":{\"line\":{\"color\":\"#E5ECF6\",\"width\":0.5},\"pattern\":{\"fillmode\":\"overlay\",\"size\":10,\"solidity\":0.2}},\"type\":\"bar\"}],\"scattergeo\":[{\"type\":\"scattergeo\",\"marker\":{\"colorbar\":{\"outlinewidth\":0,\"ticks\":\"\"}}}],\"scatterpolar\":[{\"type\":\"scatterpolar\",\"marker\":{\"colorbar\":{\"outlinewidth\":0,\"ticks\":\"\"}}}],\"histogram\":[{\"marker\":{\"pattern\":{\"fillmode\":\"overlay\",\"size\":10,\"solidity\":0.2}},\"type\":\"histogram\"}],\"scattergl\":[{\"type\":\"scattergl\",\"marker\":{\"colorbar\":{\"outlinewidth\":0,\"ticks\":\"\"}}}],\"scatter3d\":[{\"type\":\"scatter3d\",\"line\":{\"colorbar\":{\"outlinewidth\":0,\"ticks\":\"\"}},\"marker\":{\"colorbar\":{\"outlinewidth\":0,\"ticks\":\"\"}}}],\"scattermapbox\":[{\"type\":\"scattermapbox\",\"marker\":{\"colorbar\":{\"outlinewidth\":0,\"ticks\":\"\"}}}],\"scatterternary\":[{\"type\":\"scatterternary\",\"marker\":{\"colorbar\":{\"outlinewidth\":0,\"ticks\":\"\"}}}],\"scattercarpet\":[{\"type\":\"scattercarpet\",\"marker\":{\"colorbar\":{\"outlinewidth\":0,\"ticks\":\"\"}}}],\"carpet\":[{\"aaxis\":{\"endlinecolor\":\"#2a3f5f\",\"gridcolor\":\"white\",\"linecolor\":\"white\",\"minorgridcolor\":\"white\",\"startlinecolor\":\"#2a3f5f\"},\"baxis\":{\"endlinecolor\":\"#2a3f5f\",\"gridcolor\":\"white\",\"linecolor\":\"white\",\"minorgridcolor\":\"white\",\"startlinecolor\":\"#2a3f5f\"},\"type\":\"carpet\"}],\"table\":[{\"cells\":{\"fill\":{\"color\":\"#EBF0F8\"},\"line\":{\"color\":\"white\"}},\"header\":{\"fill\":{\"color\":\"#C8D4E3\"},\"line\":{\"color\":\"white\"}},\"type\":\"table\"}],\"barpolar\":[{\"marker\":{\"line\":{\"color\":\"#E5ECF6\",\"width\":0.5},\"pattern\":{\"fillmode\":\"overlay\",\"size\":10,\"solidity\":0.2}},\"type\":\"barpolar\"}],\"pie\":[{\"automargin\":true,\"type\":\"pie\"}]},\"layout\":{\"autotypenumbers\":\"strict\",\"colorway\":[\"#636efa\",\"#EF553B\",\"#00cc96\",\"#ab63fa\",\"#FFA15A\",\"#19d3f3\",\"#FF6692\",\"#B6E880\",\"#FF97FF\",\"#FECB52\"],\"font\":{\"color\":\"#2a3f5f\"},\"hovermode\":\"closest\",\"hoverlabel\":{\"align\":\"left\"},\"paper_bgcolor\":\"white\",\"plot_bgcolor\":\"#E5ECF6\",\"polar\":{\"bgcolor\":\"#E5ECF6\",\"angularaxis\":{\"gridcolor\":\"white\",\"linecolor\":\"white\",\"ticks\":\"\"},\"radialaxis\":{\"gridcolor\":\"white\",\"linecolor\":\"white\",\"ticks\":\"\"}},\"ternary\":{\"bgcolor\":\"#E5ECF6\",\"aaxis\":{\"gridcolor\":\"white\",\"linecolor\":\"white\",\"ticks\":\"\"},\"baxis\":{\"gridcolor\":\"white\",\"linecolor\":\"white\",\"ticks\":\"\"},\"caxis\":{\"gridcolor\":\"white\",\"linecolor\":\"white\",\"ticks\":\"\"}},\"coloraxis\":{\"colorbar\":{\"outlinewidth\":0,\"ticks\":\"\"}},\"colorscale\":{\"sequential\":[[0.0,\"#0d0887\"],[0.1111111111111111,\"#46039f\"],[0.2222222222222222,\"#7201a8\"],[0.3333333333333333,\"#9c179e\"],[0.4444444444444444,\"#bd3786\"],[0.5555555555555556,\"#d8576b\"],[0.6666666666666666,\"#ed7953\"],[0.7777777777777778,\"#fb9f3a\"],[0.8888888888888888,\"#fdca26\"],[1.0,\"#f0f921\"]],\"sequentialminus\":[[0.0,\"#0d0887\"],[0.1111111111111111,\"#46039f\"],[0.2222222222222222,\"#7201a8\"],[0.3333333333333333,\"#9c179e\"],[0.4444444444444444,\"#bd3786\"],[0.5555555555555556,\"#d8576b\"],[0.6666666666666666,\"#ed7953\"],[0.7777777777777778,\"#fb9f3a\"],[0.8888888888888888,\"#fdca26\"],[1.0,\"#f0f921\"]],\"diverging\":[[0,\"#8e0152\"],[0.1,\"#c51b7d\"],[0.2,\"#de77ae\"],[0.3,\"#f1b6da\"],[0.4,\"#fde0ef\"],[0.5,\"#f7f7f7\"],[0.6,\"#e6f5d0\"],[0.7,\"#b8e186\"],[0.8,\"#7fbc41\"],[0.9,\"#4d9221\"],[1,\"#276419\"]]},\"xaxis\":{\"gridcolor\":\"white\",\"linecolor\":\"white\",\"ticks\":\"\",\"title\":{\"standoff\":15},\"zerolinecolor\":\"white\",\"automargin\":true,\"zerolinewidth\":2},\"yaxis\":{\"gridcolor\":\"white\",\"linecolor\":\"white\",\"ticks\":\"\",\"title\":{\"standoff\":15},\"zerolinecolor\":\"white\",\"automargin\":true,\"zerolinewidth\":2},\"scene\":{\"xaxis\":{\"backgroundcolor\":\"#E5ECF6\",\"gridcolor\":\"white\",\"linecolor\":\"white\",\"showbackground\":true,\"ticks\":\"\",\"zerolinecolor\":\"white\",\"gridwidth\":2},\"yaxis\":{\"backgroundcolor\":\"#E5ECF6\",\"gridcolor\":\"white\",\"linecolor\":\"white\",\"showbackground\":true,\"ticks\":\"\",\"zerolinecolor\":\"white\",\"gridwidth\":2},\"zaxis\":{\"backgroundcolor\":\"#E5ECF6\",\"gridcolor\":\"white\",\"linecolor\":\"white\",\"showbackground\":true,\"ticks\":\"\",\"zerolinecolor\":\"white\",\"gridwidth\":2}},\"shapedefaults\":{\"line\":{\"color\":\"#2a3f5f\"}},\"annotationdefaults\":{\"arrowcolor\":\"#2a3f5f\",\"arrowhead\":0,\"arrowwidth\":1},\"geo\":{\"bgcolor\":\"white\",\"landcolor\":\"#E5ECF6\",\"subunitcolor\":\"white\",\"showland\":true,\"showlakes\":true,\"lakecolor\":\"white\"},\"title\":{\"x\":0.05},\"mapbox\":{\"style\":\"light\"}}},\"xaxis\":{\"anchor\":\"y\",\"domain\":[0.0,1.0],\"title\":{\"text\":\"Level of Mosaicism (%)\"},\"type\":\"log\",\"tickvals\":[0.5,2.0,10.0],\"range\":[-2,3.25]},\"yaxis\":{\"anchor\":\"x\",\"domain\":[0.0,1.0],\"title\":{\"text\":\"Precision (Alu)\"},\"range\":[0,1.1],\"tickvals\":[0,0.2,0.4,0.6,0.8,1]},\"legend\":{\"tracegroupgap\":0,\"font\":{\"size\":16},\"title\":{\"font\":{\"size\":18,\"color\":\"black\"},\"text\":\"depth\"},\"traceorder\":\"normal\",\"orientation\":\"v\",\"y\":1.1,\"x\":0.01},\"margin\":{\"t\":60},\"font\":{\"family\":\"Arial, sans-serif\",\"size\":18,\"color\":\"RebeccaPurple\"},\"width\":600,\"title\":{\"text\":\"Precision Plot-MELT\"}},                        {\"responsive\": true}                    ).then(function(){\n",
       "                            \n",
       "var gd = document.getElementById('c11cb22b-89b2-4bef-a856-38b595811e9e');\n",
       "var x = new MutationObserver(function (mutations, observer) {{\n",
       "        var display = window.getComputedStyle(gd).display;\n",
       "        if (!display || display === 'none') {{\n",
       "            console.log([gd, 'removed!']);\n",
       "            Plotly.purge(gd);\n",
       "            observer.disconnect();\n",
       "        }}\n",
       "}});\n",
       "\n",
       "// Listen for the removal of the full notebook cells\n",
       "var notebookContainer = gd.closest('#notebook-container');\n",
       "if (notebookContainer) {{\n",
       "    x.observe(notebookContainer, {childList: true});\n",
       "}}\n",
       "\n",
       "// Listen for the clearing of the current output cell\n",
       "var outputEl = gd.closest('.output');\n",
       "if (outputEl) {{\n",
       "    x.observe(outputEl, {childList: true});\n",
       "}}\n",
       "\n",
       "                        })                };                });            </script>        </div>"
      ]
     },
     "metadata": {},
     "output_type": "display_data"
    },
    {
     "data": {
      "application/vnd.plotly.v1+json": {
       "config": {
        "plotlyServerURL": "https://plot.ly"
       },
       "data": [
        {
         "hovertemplate": "depth=50x<br>vaf=%{x}<br>precision=%{y}<extra></extra>",
         "legendgroup": "50x",
         "line": {
          "color": "rgb(228,26,28)",
          "dash": "solid"
         },
         "marker": {
          "size": 10,
          "symbol": 1
         },
         "mode": "lines+markers",
         "name": "50x",
         "orientation": "v",
         "showlegend": true,
         "type": "scatter",
         "x": [
          0.5,
          2,
          10
         ],
         "xaxis": "x",
         "y": [
          0,
          0,
          0.11564625850340136
         ],
         "yaxis": "y"
        },
        {
         "hovertemplate": "depth=100x<br>vaf=%{x}<br>precision=%{y}<extra></extra>",
         "legendgroup": "100x",
         "line": {
          "color": "rgb(55,126,184)",
          "dash": "solid"
         },
         "marker": {
          "size": 10,
          "symbol": 3
         },
         "mode": "lines+markers",
         "name": "100x",
         "orientation": "v",
         "showlegend": true,
         "type": "scatter",
         "x": [
          0.5,
          2,
          10
         ],
         "xaxis": "x",
         "y": [
          0,
          0.006711409395973154,
          0.1476510067114094
         ],
         "yaxis": "y"
        },
        {
         "hovertemplate": "depth=200x_UW<br>vaf=%{x}<br>precision=%{y}<extra></extra>",
         "legendgroup": "200x_UW",
         "line": {
          "color": "rgb(77,175,74)",
          "dash": "solid"
         },
         "marker": {
          "size": 10,
          "symbol": 16
         },
         "mode": "lines+markers",
         "name": "200x_UW",
         "orientation": "v",
         "showlegend": true,
         "type": "scatter",
         "x": [
          0.5,
          2,
          10
         ],
         "xaxis": "x",
         "y": [
          0,
          0,
          0.25
         ],
         "yaxis": "y"
        },
        {
         "hovertemplate": "depth=200x_NYGC<br>vaf=%{x}<br>precision=%{y}<extra></extra>",
         "legendgroup": "200x_NYGC",
         "line": {
          "color": "rgb(152,78,163)",
          "dash": "solid"
         },
         "marker": {
          "size": 10,
          "symbol": 17
         },
         "mode": "lines+markers",
         "name": "200x_NYGC",
         "orientation": "v",
         "showlegend": true,
         "type": "scatter",
         "x": [
          0.5,
          2,
          10
         ],
         "xaxis": "x",
         "y": [
          0,
          0.08421052631578947,
          0.3157894736842105
         ],
         "yaxis": "y"
        }
       ],
       "layout": {
        "font": {
         "color": "RebeccaPurple",
         "family": "Arial, sans-serif",
         "size": 18
        },
        "legend": {
         "font": {
          "size": 16
         },
         "orientation": "v",
         "title": {
          "font": {
           "color": "black",
           "size": 18
          },
          "text": "depth"
         },
         "tracegroupgap": 0,
         "traceorder": "normal",
         "x": 0.01,
         "y": 1.1
        },
        "margin": {
         "t": 60
        },
        "template": {
         "data": {
          "bar": [
           {
            "error_x": {
             "color": "#2a3f5f"
            },
            "error_y": {
             "color": "#2a3f5f"
            },
            "marker": {
             "line": {
              "color": "#E5ECF6",
              "width": 0.5
             },
             "pattern": {
              "fillmode": "overlay",
              "size": 10,
              "solidity": 0.2
             }
            },
            "type": "bar"
           }
          ],
          "barpolar": [
           {
            "marker": {
             "line": {
              "color": "#E5ECF6",
              "width": 0.5
             },
             "pattern": {
              "fillmode": "overlay",
              "size": 10,
              "solidity": 0.2
             }
            },
            "type": "barpolar"
           }
          ],
          "carpet": [
           {
            "aaxis": {
             "endlinecolor": "#2a3f5f",
             "gridcolor": "white",
             "linecolor": "white",
             "minorgridcolor": "white",
             "startlinecolor": "#2a3f5f"
            },
            "baxis": {
             "endlinecolor": "#2a3f5f",
             "gridcolor": "white",
             "linecolor": "white",
             "minorgridcolor": "white",
             "startlinecolor": "#2a3f5f"
            },
            "type": "carpet"
           }
          ],
          "choropleth": [
           {
            "colorbar": {
             "outlinewidth": 0,
             "ticks": ""
            },
            "type": "choropleth"
           }
          ],
          "contour": [
           {
            "colorbar": {
             "outlinewidth": 0,
             "ticks": ""
            },
            "colorscale": [
             [
              0,
              "#0d0887"
             ],
             [
              0.1111111111111111,
              "#46039f"
             ],
             [
              0.2222222222222222,
              "#7201a8"
             ],
             [
              0.3333333333333333,
              "#9c179e"
             ],
             [
              0.4444444444444444,
              "#bd3786"
             ],
             [
              0.5555555555555556,
              "#d8576b"
             ],
             [
              0.6666666666666666,
              "#ed7953"
             ],
             [
              0.7777777777777778,
              "#fb9f3a"
             ],
             [
              0.8888888888888888,
              "#fdca26"
             ],
             [
              1,
              "#f0f921"
             ]
            ],
            "type": "contour"
           }
          ],
          "contourcarpet": [
           {
            "colorbar": {
             "outlinewidth": 0,
             "ticks": ""
            },
            "type": "contourcarpet"
           }
          ],
          "heatmap": [
           {
            "colorbar": {
             "outlinewidth": 0,
             "ticks": ""
            },
            "colorscale": [
             [
              0,
              "#0d0887"
             ],
             [
              0.1111111111111111,
              "#46039f"
             ],
             [
              0.2222222222222222,
              "#7201a8"
             ],
             [
              0.3333333333333333,
              "#9c179e"
             ],
             [
              0.4444444444444444,
              "#bd3786"
             ],
             [
              0.5555555555555556,
              "#d8576b"
             ],
             [
              0.6666666666666666,
              "#ed7953"
             ],
             [
              0.7777777777777778,
              "#fb9f3a"
             ],
             [
              0.8888888888888888,
              "#fdca26"
             ],
             [
              1,
              "#f0f921"
             ]
            ],
            "type": "heatmap"
           }
          ],
          "heatmapgl": [
           {
            "colorbar": {
             "outlinewidth": 0,
             "ticks": ""
            },
            "colorscale": [
             [
              0,
              "#0d0887"
             ],
             [
              0.1111111111111111,
              "#46039f"
             ],
             [
              0.2222222222222222,
              "#7201a8"
             ],
             [
              0.3333333333333333,
              "#9c179e"
             ],
             [
              0.4444444444444444,
              "#bd3786"
             ],
             [
              0.5555555555555556,
              "#d8576b"
             ],
             [
              0.6666666666666666,
              "#ed7953"
             ],
             [
              0.7777777777777778,
              "#fb9f3a"
             ],
             [
              0.8888888888888888,
              "#fdca26"
             ],
             [
              1,
              "#f0f921"
             ]
            ],
            "type": "heatmapgl"
           }
          ],
          "histogram": [
           {
            "marker": {
             "pattern": {
              "fillmode": "overlay",
              "size": 10,
              "solidity": 0.2
             }
            },
            "type": "histogram"
           }
          ],
          "histogram2d": [
           {
            "colorbar": {
             "outlinewidth": 0,
             "ticks": ""
            },
            "colorscale": [
             [
              0,
              "#0d0887"
             ],
             [
              0.1111111111111111,
              "#46039f"
             ],
             [
              0.2222222222222222,
              "#7201a8"
             ],
             [
              0.3333333333333333,
              "#9c179e"
             ],
             [
              0.4444444444444444,
              "#bd3786"
             ],
             [
              0.5555555555555556,
              "#d8576b"
             ],
             [
              0.6666666666666666,
              "#ed7953"
             ],
             [
              0.7777777777777778,
              "#fb9f3a"
             ],
             [
              0.8888888888888888,
              "#fdca26"
             ],
             [
              1,
              "#f0f921"
             ]
            ],
            "type": "histogram2d"
           }
          ],
          "histogram2dcontour": [
           {
            "colorbar": {
             "outlinewidth": 0,
             "ticks": ""
            },
            "colorscale": [
             [
              0,
              "#0d0887"
             ],
             [
              0.1111111111111111,
              "#46039f"
             ],
             [
              0.2222222222222222,
              "#7201a8"
             ],
             [
              0.3333333333333333,
              "#9c179e"
             ],
             [
              0.4444444444444444,
              "#bd3786"
             ],
             [
              0.5555555555555556,
              "#d8576b"
             ],
             [
              0.6666666666666666,
              "#ed7953"
             ],
             [
              0.7777777777777778,
              "#fb9f3a"
             ],
             [
              0.8888888888888888,
              "#fdca26"
             ],
             [
              1,
              "#f0f921"
             ]
            ],
            "type": "histogram2dcontour"
           }
          ],
          "mesh3d": [
           {
            "colorbar": {
             "outlinewidth": 0,
             "ticks": ""
            },
            "type": "mesh3d"
           }
          ],
          "parcoords": [
           {
            "line": {
             "colorbar": {
              "outlinewidth": 0,
              "ticks": ""
             }
            },
            "type": "parcoords"
           }
          ],
          "pie": [
           {
            "automargin": true,
            "type": "pie"
           }
          ],
          "scatter": [
           {
            "fillpattern": {
             "fillmode": "overlay",
             "size": 10,
             "solidity": 0.2
            },
            "type": "scatter"
           }
          ],
          "scatter3d": [
           {
            "line": {
             "colorbar": {
              "outlinewidth": 0,
              "ticks": ""
             }
            },
            "marker": {
             "colorbar": {
              "outlinewidth": 0,
              "ticks": ""
             }
            },
            "type": "scatter3d"
           }
          ],
          "scattercarpet": [
           {
            "marker": {
             "colorbar": {
              "outlinewidth": 0,
              "ticks": ""
             }
            },
            "type": "scattercarpet"
           }
          ],
          "scattergeo": [
           {
            "marker": {
             "colorbar": {
              "outlinewidth": 0,
              "ticks": ""
             }
            },
            "type": "scattergeo"
           }
          ],
          "scattergl": [
           {
            "marker": {
             "colorbar": {
              "outlinewidth": 0,
              "ticks": ""
             }
            },
            "type": "scattergl"
           }
          ],
          "scattermapbox": [
           {
            "marker": {
             "colorbar": {
              "outlinewidth": 0,
              "ticks": ""
             }
            },
            "type": "scattermapbox"
           }
          ],
          "scatterpolar": [
           {
            "marker": {
             "colorbar": {
              "outlinewidth": 0,
              "ticks": ""
             }
            },
            "type": "scatterpolar"
           }
          ],
          "scatterpolargl": [
           {
            "marker": {
             "colorbar": {
              "outlinewidth": 0,
              "ticks": ""
             }
            },
            "type": "scatterpolargl"
           }
          ],
          "scatterternary": [
           {
            "marker": {
             "colorbar": {
              "outlinewidth": 0,
              "ticks": ""
             }
            },
            "type": "scatterternary"
           }
          ],
          "surface": [
           {
            "colorbar": {
             "outlinewidth": 0,
             "ticks": ""
            },
            "colorscale": [
             [
              0,
              "#0d0887"
             ],
             [
              0.1111111111111111,
              "#46039f"
             ],
             [
              0.2222222222222222,
              "#7201a8"
             ],
             [
              0.3333333333333333,
              "#9c179e"
             ],
             [
              0.4444444444444444,
              "#bd3786"
             ],
             [
              0.5555555555555556,
              "#d8576b"
             ],
             [
              0.6666666666666666,
              "#ed7953"
             ],
             [
              0.7777777777777778,
              "#fb9f3a"
             ],
             [
              0.8888888888888888,
              "#fdca26"
             ],
             [
              1,
              "#f0f921"
             ]
            ],
            "type": "surface"
           }
          ],
          "table": [
           {
            "cells": {
             "fill": {
              "color": "#EBF0F8"
             },
             "line": {
              "color": "white"
             }
            },
            "header": {
             "fill": {
              "color": "#C8D4E3"
             },
             "line": {
              "color": "white"
             }
            },
            "type": "table"
           }
          ]
         },
         "layout": {
          "annotationdefaults": {
           "arrowcolor": "#2a3f5f",
           "arrowhead": 0,
           "arrowwidth": 1
          },
          "autotypenumbers": "strict",
          "coloraxis": {
           "colorbar": {
            "outlinewidth": 0,
            "ticks": ""
           }
          },
          "colorscale": {
           "diverging": [
            [
             0,
             "#8e0152"
            ],
            [
             0.1,
             "#c51b7d"
            ],
            [
             0.2,
             "#de77ae"
            ],
            [
             0.3,
             "#f1b6da"
            ],
            [
             0.4,
             "#fde0ef"
            ],
            [
             0.5,
             "#f7f7f7"
            ],
            [
             0.6,
             "#e6f5d0"
            ],
            [
             0.7,
             "#b8e186"
            ],
            [
             0.8,
             "#7fbc41"
            ],
            [
             0.9,
             "#4d9221"
            ],
            [
             1,
             "#276419"
            ]
           ],
           "sequential": [
            [
             0,
             "#0d0887"
            ],
            [
             0.1111111111111111,
             "#46039f"
            ],
            [
             0.2222222222222222,
             "#7201a8"
            ],
            [
             0.3333333333333333,
             "#9c179e"
            ],
            [
             0.4444444444444444,
             "#bd3786"
            ],
            [
             0.5555555555555556,
             "#d8576b"
            ],
            [
             0.6666666666666666,
             "#ed7953"
            ],
            [
             0.7777777777777778,
             "#fb9f3a"
            ],
            [
             0.8888888888888888,
             "#fdca26"
            ],
            [
             1,
             "#f0f921"
            ]
           ],
           "sequentialminus": [
            [
             0,
             "#0d0887"
            ],
            [
             0.1111111111111111,
             "#46039f"
            ],
            [
             0.2222222222222222,
             "#7201a8"
            ],
            [
             0.3333333333333333,
             "#9c179e"
            ],
            [
             0.4444444444444444,
             "#bd3786"
            ],
            [
             0.5555555555555556,
             "#d8576b"
            ],
            [
             0.6666666666666666,
             "#ed7953"
            ],
            [
             0.7777777777777778,
             "#fb9f3a"
            ],
            [
             0.8888888888888888,
             "#fdca26"
            ],
            [
             1,
             "#f0f921"
            ]
           ]
          },
          "colorway": [
           "#636efa",
           "#EF553B",
           "#00cc96",
           "#ab63fa",
           "#FFA15A",
           "#19d3f3",
           "#FF6692",
           "#B6E880",
           "#FF97FF",
           "#FECB52"
          ],
          "font": {
           "color": "#2a3f5f"
          },
          "geo": {
           "bgcolor": "white",
           "lakecolor": "white",
           "landcolor": "#E5ECF6",
           "showlakes": true,
           "showland": true,
           "subunitcolor": "white"
          },
          "hoverlabel": {
           "align": "left"
          },
          "hovermode": "closest",
          "mapbox": {
           "style": "light"
          },
          "paper_bgcolor": "white",
          "plot_bgcolor": "#E5ECF6",
          "polar": {
           "angularaxis": {
            "gridcolor": "white",
            "linecolor": "white",
            "ticks": ""
           },
           "bgcolor": "#E5ECF6",
           "radialaxis": {
            "gridcolor": "white",
            "linecolor": "white",
            "ticks": ""
           }
          },
          "scene": {
           "xaxis": {
            "backgroundcolor": "#E5ECF6",
            "gridcolor": "white",
            "gridwidth": 2,
            "linecolor": "white",
            "showbackground": true,
            "ticks": "",
            "zerolinecolor": "white"
           },
           "yaxis": {
            "backgroundcolor": "#E5ECF6",
            "gridcolor": "white",
            "gridwidth": 2,
            "linecolor": "white",
            "showbackground": true,
            "ticks": "",
            "zerolinecolor": "white"
           },
           "zaxis": {
            "backgroundcolor": "#E5ECF6",
            "gridcolor": "white",
            "gridwidth": 2,
            "linecolor": "white",
            "showbackground": true,
            "ticks": "",
            "zerolinecolor": "white"
           }
          },
          "shapedefaults": {
           "line": {
            "color": "#2a3f5f"
           }
          },
          "ternary": {
           "aaxis": {
            "gridcolor": "white",
            "linecolor": "white",
            "ticks": ""
           },
           "baxis": {
            "gridcolor": "white",
            "linecolor": "white",
            "ticks": ""
           },
           "bgcolor": "#E5ECF6",
           "caxis": {
            "gridcolor": "white",
            "linecolor": "white",
            "ticks": ""
           }
          },
          "title": {
           "x": 0.05
          },
          "xaxis": {
           "automargin": true,
           "gridcolor": "white",
           "linecolor": "white",
           "ticks": "",
           "title": {
            "standoff": 15
           },
           "zerolinecolor": "white",
           "zerolinewidth": 2
          },
          "yaxis": {
           "automargin": true,
           "gridcolor": "white",
           "linecolor": "white",
           "ticks": "",
           "title": {
            "standoff": 15
           },
           "zerolinecolor": "white",
           "zerolinewidth": 2
          }
         }
        },
        "title": {
         "text": "Precision Plot-MELT"
        },
        "width": 600,
        "xaxis": {
         "anchor": "y",
         "domain": [
          0,
          1
         ],
         "range": [
          -2,
          3.25
         ],
         "tickvals": [
          0.5,
          2,
          10
         ],
         "title": {
          "text": "Level of Mosaicism (%)"
         },
         "type": "log"
        },
        "yaxis": {
         "anchor": "x",
         "domain": [
          0,
          1
         ],
         "range": [
          0,
          1.1
         ],
         "tickvals": [
          0,
          0.2,
          0.4,
          0.6,
          0.8,
          1
         ],
         "title": {
          "text": "Precision (L1)"
         }
        }
       }
      },
      "text/html": [
       "<div>                            <div id=\"0477758f-f994-49ab-ad55-b9f7c2432159\" class=\"plotly-graph-div\" style=\"height:525px; width:600px;\"></div>            <script type=\"text/javascript\">                require([\"plotly\"], function(Plotly) {                    window.PLOTLYENV=window.PLOTLYENV || {};                                    if (document.getElementById(\"0477758f-f994-49ab-ad55-b9f7c2432159\")) {                    Plotly.newPlot(                        \"0477758f-f994-49ab-ad55-b9f7c2432159\",                        [{\"hovertemplate\":\"depth=50x\\u003cbr\\u003evaf=%{x}\\u003cbr\\u003eprecision=%{y}\\u003cextra\\u003e\\u003c\\u002fextra\\u003e\",\"legendgroup\":\"50x\",\"line\":{\"color\":\"rgb(228,26,28)\",\"dash\":\"solid\"},\"marker\":{\"symbol\":1,\"size\":10},\"mode\":\"lines+markers\",\"name\":\"50x\",\"orientation\":\"v\",\"showlegend\":true,\"x\":[0.5,2.0,10.0],\"xaxis\":\"x\",\"y\":[0.0,0.0,0.11564625850340136],\"yaxis\":\"y\",\"type\":\"scatter\"},{\"hovertemplate\":\"depth=100x\\u003cbr\\u003evaf=%{x}\\u003cbr\\u003eprecision=%{y}\\u003cextra\\u003e\\u003c\\u002fextra\\u003e\",\"legendgroup\":\"100x\",\"line\":{\"color\":\"rgb(55,126,184)\",\"dash\":\"solid\"},\"marker\":{\"symbol\":3,\"size\":10},\"mode\":\"lines+markers\",\"name\":\"100x\",\"orientation\":\"v\",\"showlegend\":true,\"x\":[0.5,2.0,10.0],\"xaxis\":\"x\",\"y\":[0.0,0.006711409395973154,0.1476510067114094],\"yaxis\":\"y\",\"type\":\"scatter\"},{\"hovertemplate\":\"depth=200x_UW\\u003cbr\\u003evaf=%{x}\\u003cbr\\u003eprecision=%{y}\\u003cextra\\u003e\\u003c\\u002fextra\\u003e\",\"legendgroup\":\"200x_UW\",\"line\":{\"color\":\"rgb(77,175,74)\",\"dash\":\"solid\"},\"marker\":{\"symbol\":16,\"size\":10},\"mode\":\"lines+markers\",\"name\":\"200x_UW\",\"orientation\":\"v\",\"showlegend\":true,\"x\":[0.5,2.0,10.0],\"xaxis\":\"x\",\"y\":[0.0,0.0,0.25],\"yaxis\":\"y\",\"type\":\"scatter\"},{\"hovertemplate\":\"depth=200x_NYGC\\u003cbr\\u003evaf=%{x}\\u003cbr\\u003eprecision=%{y}\\u003cextra\\u003e\\u003c\\u002fextra\\u003e\",\"legendgroup\":\"200x_NYGC\",\"line\":{\"color\":\"rgb(152,78,163)\",\"dash\":\"solid\"},\"marker\":{\"symbol\":17,\"size\":10},\"mode\":\"lines+markers\",\"name\":\"200x_NYGC\",\"orientation\":\"v\",\"showlegend\":true,\"x\":[0.5,2.0,10.0],\"xaxis\":\"x\",\"y\":[0.0,0.08421052631578947,0.3157894736842105],\"yaxis\":\"y\",\"type\":\"scatter\"}],                        {\"template\":{\"data\":{\"histogram2dcontour\":[{\"type\":\"histogram2dcontour\",\"colorbar\":{\"outlinewidth\":0,\"ticks\":\"\"},\"colorscale\":[[0.0,\"#0d0887\"],[0.1111111111111111,\"#46039f\"],[0.2222222222222222,\"#7201a8\"],[0.3333333333333333,\"#9c179e\"],[0.4444444444444444,\"#bd3786\"],[0.5555555555555556,\"#d8576b\"],[0.6666666666666666,\"#ed7953\"],[0.7777777777777778,\"#fb9f3a\"],[0.8888888888888888,\"#fdca26\"],[1.0,\"#f0f921\"]]}],\"choropleth\":[{\"type\":\"choropleth\",\"colorbar\":{\"outlinewidth\":0,\"ticks\":\"\"}}],\"histogram2d\":[{\"type\":\"histogram2d\",\"colorbar\":{\"outlinewidth\":0,\"ticks\":\"\"},\"colorscale\":[[0.0,\"#0d0887\"],[0.1111111111111111,\"#46039f\"],[0.2222222222222222,\"#7201a8\"],[0.3333333333333333,\"#9c179e\"],[0.4444444444444444,\"#bd3786\"],[0.5555555555555556,\"#d8576b\"],[0.6666666666666666,\"#ed7953\"],[0.7777777777777778,\"#fb9f3a\"],[0.8888888888888888,\"#fdca26\"],[1.0,\"#f0f921\"]]}],\"heatmap\":[{\"type\":\"heatmap\",\"colorbar\":{\"outlinewidth\":0,\"ticks\":\"\"},\"colorscale\":[[0.0,\"#0d0887\"],[0.1111111111111111,\"#46039f\"],[0.2222222222222222,\"#7201a8\"],[0.3333333333333333,\"#9c179e\"],[0.4444444444444444,\"#bd3786\"],[0.5555555555555556,\"#d8576b\"],[0.6666666666666666,\"#ed7953\"],[0.7777777777777778,\"#fb9f3a\"],[0.8888888888888888,\"#fdca26\"],[1.0,\"#f0f921\"]]}],\"heatmapgl\":[{\"type\":\"heatmapgl\",\"colorbar\":{\"outlinewidth\":0,\"ticks\":\"\"},\"colorscale\":[[0.0,\"#0d0887\"],[0.1111111111111111,\"#46039f\"],[0.2222222222222222,\"#7201a8\"],[0.3333333333333333,\"#9c179e\"],[0.4444444444444444,\"#bd3786\"],[0.5555555555555556,\"#d8576b\"],[0.6666666666666666,\"#ed7953\"],[0.7777777777777778,\"#fb9f3a\"],[0.8888888888888888,\"#fdca26\"],[1.0,\"#f0f921\"]]}],\"contourcarpet\":[{\"type\":\"contourcarpet\",\"colorbar\":{\"outlinewidth\":0,\"ticks\":\"\"}}],\"contour\":[{\"type\":\"contour\",\"colorbar\":{\"outlinewidth\":0,\"ticks\":\"\"},\"colorscale\":[[0.0,\"#0d0887\"],[0.1111111111111111,\"#46039f\"],[0.2222222222222222,\"#7201a8\"],[0.3333333333333333,\"#9c179e\"],[0.4444444444444444,\"#bd3786\"],[0.5555555555555556,\"#d8576b\"],[0.6666666666666666,\"#ed7953\"],[0.7777777777777778,\"#fb9f3a\"],[0.8888888888888888,\"#fdca26\"],[1.0,\"#f0f921\"]]}],\"surface\":[{\"type\":\"surface\",\"colorbar\":{\"outlinewidth\":0,\"ticks\":\"\"},\"colorscale\":[[0.0,\"#0d0887\"],[0.1111111111111111,\"#46039f\"],[0.2222222222222222,\"#7201a8\"],[0.3333333333333333,\"#9c179e\"],[0.4444444444444444,\"#bd3786\"],[0.5555555555555556,\"#d8576b\"],[0.6666666666666666,\"#ed7953\"],[0.7777777777777778,\"#fb9f3a\"],[0.8888888888888888,\"#fdca26\"],[1.0,\"#f0f921\"]]}],\"mesh3d\":[{\"type\":\"mesh3d\",\"colorbar\":{\"outlinewidth\":0,\"ticks\":\"\"}}],\"scatter\":[{\"fillpattern\":{\"fillmode\":\"overlay\",\"size\":10,\"solidity\":0.2},\"type\":\"scatter\"}],\"parcoords\":[{\"type\":\"parcoords\",\"line\":{\"colorbar\":{\"outlinewidth\":0,\"ticks\":\"\"}}}],\"scatterpolargl\":[{\"type\":\"scatterpolargl\",\"marker\":{\"colorbar\":{\"outlinewidth\":0,\"ticks\":\"\"}}}],\"bar\":[{\"error_x\":{\"color\":\"#2a3f5f\"},\"error_y\":{\"color\":\"#2a3f5f\"},\"marker\":{\"line\":{\"color\":\"#E5ECF6\",\"width\":0.5},\"pattern\":{\"fillmode\":\"overlay\",\"size\":10,\"solidity\":0.2}},\"type\":\"bar\"}],\"scattergeo\":[{\"type\":\"scattergeo\",\"marker\":{\"colorbar\":{\"outlinewidth\":0,\"ticks\":\"\"}}}],\"scatterpolar\":[{\"type\":\"scatterpolar\",\"marker\":{\"colorbar\":{\"outlinewidth\":0,\"ticks\":\"\"}}}],\"histogram\":[{\"marker\":{\"pattern\":{\"fillmode\":\"overlay\",\"size\":10,\"solidity\":0.2}},\"type\":\"histogram\"}],\"scattergl\":[{\"type\":\"scattergl\",\"marker\":{\"colorbar\":{\"outlinewidth\":0,\"ticks\":\"\"}}}],\"scatter3d\":[{\"type\":\"scatter3d\",\"line\":{\"colorbar\":{\"outlinewidth\":0,\"ticks\":\"\"}},\"marker\":{\"colorbar\":{\"outlinewidth\":0,\"ticks\":\"\"}}}],\"scattermapbox\":[{\"type\":\"scattermapbox\",\"marker\":{\"colorbar\":{\"outlinewidth\":0,\"ticks\":\"\"}}}],\"scatterternary\":[{\"type\":\"scatterternary\",\"marker\":{\"colorbar\":{\"outlinewidth\":0,\"ticks\":\"\"}}}],\"scattercarpet\":[{\"type\":\"scattercarpet\",\"marker\":{\"colorbar\":{\"outlinewidth\":0,\"ticks\":\"\"}}}],\"carpet\":[{\"aaxis\":{\"endlinecolor\":\"#2a3f5f\",\"gridcolor\":\"white\",\"linecolor\":\"white\",\"minorgridcolor\":\"white\",\"startlinecolor\":\"#2a3f5f\"},\"baxis\":{\"endlinecolor\":\"#2a3f5f\",\"gridcolor\":\"white\",\"linecolor\":\"white\",\"minorgridcolor\":\"white\",\"startlinecolor\":\"#2a3f5f\"},\"type\":\"carpet\"}],\"table\":[{\"cells\":{\"fill\":{\"color\":\"#EBF0F8\"},\"line\":{\"color\":\"white\"}},\"header\":{\"fill\":{\"color\":\"#C8D4E3\"},\"line\":{\"color\":\"white\"}},\"type\":\"table\"}],\"barpolar\":[{\"marker\":{\"line\":{\"color\":\"#E5ECF6\",\"width\":0.5},\"pattern\":{\"fillmode\":\"overlay\",\"size\":10,\"solidity\":0.2}},\"type\":\"barpolar\"}],\"pie\":[{\"automargin\":true,\"type\":\"pie\"}]},\"layout\":{\"autotypenumbers\":\"strict\",\"colorway\":[\"#636efa\",\"#EF553B\",\"#00cc96\",\"#ab63fa\",\"#FFA15A\",\"#19d3f3\",\"#FF6692\",\"#B6E880\",\"#FF97FF\",\"#FECB52\"],\"font\":{\"color\":\"#2a3f5f\"},\"hovermode\":\"closest\",\"hoverlabel\":{\"align\":\"left\"},\"paper_bgcolor\":\"white\",\"plot_bgcolor\":\"#E5ECF6\",\"polar\":{\"bgcolor\":\"#E5ECF6\",\"angularaxis\":{\"gridcolor\":\"white\",\"linecolor\":\"white\",\"ticks\":\"\"},\"radialaxis\":{\"gridcolor\":\"white\",\"linecolor\":\"white\",\"ticks\":\"\"}},\"ternary\":{\"bgcolor\":\"#E5ECF6\",\"aaxis\":{\"gridcolor\":\"white\",\"linecolor\":\"white\",\"ticks\":\"\"},\"baxis\":{\"gridcolor\":\"white\",\"linecolor\":\"white\",\"ticks\":\"\"},\"caxis\":{\"gridcolor\":\"white\",\"linecolor\":\"white\",\"ticks\":\"\"}},\"coloraxis\":{\"colorbar\":{\"outlinewidth\":0,\"ticks\":\"\"}},\"colorscale\":{\"sequential\":[[0.0,\"#0d0887\"],[0.1111111111111111,\"#46039f\"],[0.2222222222222222,\"#7201a8\"],[0.3333333333333333,\"#9c179e\"],[0.4444444444444444,\"#bd3786\"],[0.5555555555555556,\"#d8576b\"],[0.6666666666666666,\"#ed7953\"],[0.7777777777777778,\"#fb9f3a\"],[0.8888888888888888,\"#fdca26\"],[1.0,\"#f0f921\"]],\"sequentialminus\":[[0.0,\"#0d0887\"],[0.1111111111111111,\"#46039f\"],[0.2222222222222222,\"#7201a8\"],[0.3333333333333333,\"#9c179e\"],[0.4444444444444444,\"#bd3786\"],[0.5555555555555556,\"#d8576b\"],[0.6666666666666666,\"#ed7953\"],[0.7777777777777778,\"#fb9f3a\"],[0.8888888888888888,\"#fdca26\"],[1.0,\"#f0f921\"]],\"diverging\":[[0,\"#8e0152\"],[0.1,\"#c51b7d\"],[0.2,\"#de77ae\"],[0.3,\"#f1b6da\"],[0.4,\"#fde0ef\"],[0.5,\"#f7f7f7\"],[0.6,\"#e6f5d0\"],[0.7,\"#b8e186\"],[0.8,\"#7fbc41\"],[0.9,\"#4d9221\"],[1,\"#276419\"]]},\"xaxis\":{\"gridcolor\":\"white\",\"linecolor\":\"white\",\"ticks\":\"\",\"title\":{\"standoff\":15},\"zerolinecolor\":\"white\",\"automargin\":true,\"zerolinewidth\":2},\"yaxis\":{\"gridcolor\":\"white\",\"linecolor\":\"white\",\"ticks\":\"\",\"title\":{\"standoff\":15},\"zerolinecolor\":\"white\",\"automargin\":true,\"zerolinewidth\":2},\"scene\":{\"xaxis\":{\"backgroundcolor\":\"#E5ECF6\",\"gridcolor\":\"white\",\"linecolor\":\"white\",\"showbackground\":true,\"ticks\":\"\",\"zerolinecolor\":\"white\",\"gridwidth\":2},\"yaxis\":{\"backgroundcolor\":\"#E5ECF6\",\"gridcolor\":\"white\",\"linecolor\":\"white\",\"showbackground\":true,\"ticks\":\"\",\"zerolinecolor\":\"white\",\"gridwidth\":2},\"zaxis\":{\"backgroundcolor\":\"#E5ECF6\",\"gridcolor\":\"white\",\"linecolor\":\"white\",\"showbackground\":true,\"ticks\":\"\",\"zerolinecolor\":\"white\",\"gridwidth\":2}},\"shapedefaults\":{\"line\":{\"color\":\"#2a3f5f\"}},\"annotationdefaults\":{\"arrowcolor\":\"#2a3f5f\",\"arrowhead\":0,\"arrowwidth\":1},\"geo\":{\"bgcolor\":\"white\",\"landcolor\":\"#E5ECF6\",\"subunitcolor\":\"white\",\"showland\":true,\"showlakes\":true,\"lakecolor\":\"white\"},\"title\":{\"x\":0.05},\"mapbox\":{\"style\":\"light\"}}},\"xaxis\":{\"anchor\":\"y\",\"domain\":[0.0,1.0],\"title\":{\"text\":\"Level of Mosaicism (%)\"},\"type\":\"log\",\"tickvals\":[0.5,2.0,10.0],\"range\":[-2,3.25]},\"yaxis\":{\"anchor\":\"x\",\"domain\":[0.0,1.0],\"title\":{\"text\":\"Precision (L1)\"},\"range\":[0,1.1],\"tickvals\":[0,0.2,0.4,0.6,0.8,1]},\"legend\":{\"title\":{\"text\":\"depth\",\"font\":{\"size\":18,\"color\":\"black\"}},\"tracegroupgap\":0,\"font\":{\"size\":16},\"traceorder\":\"normal\",\"orientation\":\"v\",\"y\":1.1,\"x\":0.01},\"margin\":{\"t\":60},\"font\":{\"family\":\"Arial, sans-serif\",\"size\":18,\"color\":\"RebeccaPurple\"},\"width\":600,\"title\":{\"text\":\"Precision Plot-MELT\"}},                        {\"responsive\": true}                    ).then(function(){\n",
       "                            \n",
       "var gd = document.getElementById('0477758f-f994-49ab-ad55-b9f7c2432159');\n",
       "var x = new MutationObserver(function (mutations, observer) {{\n",
       "        var display = window.getComputedStyle(gd).display;\n",
       "        if (!display || display === 'none') {{\n",
       "            console.log([gd, 'removed!']);\n",
       "            Plotly.purge(gd);\n",
       "            observer.disconnect();\n",
       "        }}\n",
       "}});\n",
       "\n",
       "// Listen for the removal of the full notebook cells\n",
       "var notebookContainer = gd.closest('#notebook-container');\n",
       "if (notebookContainer) {{\n",
       "    x.observe(notebookContainer, {childList: true});\n",
       "}}\n",
       "\n",
       "// Listen for the clearing of the current output cell\n",
       "var outputEl = gd.closest('.output');\n",
       "if (outputEl) {{\n",
       "    x.observe(outputEl, {childList: true});\n",
       "}}\n",
       "\n",
       "                        })                };                });            </script>        </div>"
      ]
     },
     "metadata": {},
     "output_type": "display_data"
    }
   ],
   "source": [
    "for tool, teClass in figureCombinations:\n",
    "    temp_result = resultDF[(resultDF['toolName'] == tool) & (resultDF['teClass'] == teClass) & (resultDF['windowSize'] == windowSize) ]\n",
    "    create_line_plot(temp_result, 'vaf', 'precision', vafs, \"depth\", \"Level of Mosaicism (%)\", f\"Precision ({teClass})\", f\"Precision Plot-{tool}\")\n"
   ]
  },
  {
   "cell_type": "markdown",
   "metadata": {},
   "source": [
    "# Test Codes"
   ]
  },
  {
   "cell_type": "code",
   "execution_count": null,
   "metadata": {},
   "outputs": [],
   "source": [
    "toolName = \"RetroSom\"\n",
    "teClass = \"L1\"\n",
    "depth = \"200x\"\n",
    "vaf = 10\n",
    "windowSize = 1000\n",
    "\n",
    "\n",
    "resultColumns = ['toolName','teClass','depth', 'vaf', 'windowSize','totalRows','TP','FP', 'FN','precision','recall']\n",
    "resultdDF = pd.DataFrame(columns= resultColumns)\n",
    "\n",
    "\n",
    "# Load Bed Files : This would be loop for all the results\n",
    "caseBedFile = resultBedDF[(resultBedDF['toolName'] == toolName) &\n",
    "                      (resultBedDF['depth'] == depth) &\n",
    "                      (resultBedDF['class'] == teClass)]['filePath'].tolist()[0]\n",
    "caseBed = BedTool(caseBedFile)\n",
    "\n",
    "controlBedFile = goldStandardDF[(goldStandardDF['class'] == teClass) &\n",
    "                            (goldStandardDF['backBone'] == True)]['filePath'].tolist()[0]\n",
    "controlBed = BedTool(controlBedFile)\n",
    "\n",
    "answerBedFiles = goldStandardDF[(goldStandardDF['class'] == teClass) &\n",
    "                            (goldStandardDF['backBone'] == False)]['filePath'].tolist()\n",
    "answerBeds = [BedTool(bed_file) for bed_file in answerBedFiles]\n",
    "\n",
    "\n",
    "# This would be function\n",
    "\n",
    "# print(\"caseBed\")\n",
    "# display(len(caseBed))\n",
    "# print(\"controlBed\")\n",
    "# display(len(controlBed))\n",
    "# print(\"answerBeds\")\n",
    "# display(len(answerBeds))\n",
    "\n",
    "# False Positive\n",
    "# (case) - (control) - Union (GoldStandard)\n",
    "FP_bed = getUniqueWithWindowFromBeds(caseBed, [controlBed, getUnionBed(answerBeds)],windowSize,windowSize)\n",
    "# print(\"FP\")\n",
    "# display(len(FP_bed))\n",
    "\n",
    "# True Positive\n",
    "# (1) Unique MEI\n",
    "targetAnswerBedFiles = goldStandardDF[(goldStandardDF['class'] == teClass) & \n",
    "                                 (goldStandardDF['backBone'] == False) &\n",
    "                                 (goldStandardDF['mixedRatio'] == vaf)]['filePath'].tolist()\n",
    "\n",
    "targetControlBedFiles = [item for item in answerBedFiles if item not in targetAnswerBedFiles]\n",
    "targetControlBedFiles.append(controlBedFile)\n",
    "\n",
    "# print(\"targetAnswerBedFiles\")\n",
    "# print(targetAnswerBedFiles)\n",
    "# print(\"targetControlBedFiles\")\n",
    "# print(targetControlBedFiles)\n",
    "\n",
    "if len(targetAnswerBedFiles) > 1 :\n",
    "    targetAnswerBed = getUnionBed([BedTool(bed_file) for bed_file in targetAnswerBedFiles])\n",
    "else:\n",
    "    targetAnswerBed = BedTool(targetAnswerBedFiles[0])\n",
    "\n",
    "targetControlBed = [BedTool(bed_file) for bed_file in targetControlBedFiles]\n",
    "uniqueBed = getUniqueWithWindowFromBeds(targetAnswerBed,[getUnionBed(targetControlBed)], windowSize, windowSize)\n",
    "\n",
    "# print(\"uniqueBeds\")\n",
    "# display(len(uniqueBed))\n",
    "\n",
    "# (2) Get True Positive\n",
    "TP_bed = getIntersectBed([getUniqueWithWindowFromBeds(caseBed, [controlBed], windowSize, windowSize), uniqueBed],\n",
    "                         windowSize, windowSize)\n",
    "# print(\"TP\")\n",
    "# display(len(TP_bed))\n",
    "\n",
    "# False Negative\n",
    "FN_bed = getUniqueWithWindowFromBeds(caseBed, [TP_bed], windowSize, windowSize)\n",
    "# print(\"FN\")\n",
    "# display(len(FN_bed))\n",
    "\n",
    "# Precision and Recall\n",
    "precision = len(TP_bed) / (len(TP_bed) + len(FP_bed))\n",
    "# print(\"precision:\",precision)\n",
    "\n",
    "recall = len(TP_bed) / (len(TP_bed) + len(FN_bed))\n",
    "# print(\"recall:\", recall)\n",
    "\n",
    "\n"
   ]
  },
  {
   "cell_type": "code",
   "execution_count": 80,
   "metadata": {},
   "outputs": [],
   "source": [
    "def find_intersection_with_window(bed_files, l=300, r=20000):\n",
    "    bedtools_objs = [BedTool(bed_file) for bed_file in bed_files]\n",
    "    intersection = bedtools_objs[0]\n",
    "    for bedtool in bedtools_objs[1:]:\n",
    "        intersection = intersection.window(b=bedtool, l=l, r=r)\n",
    "    #intersection.saveas('intersection_with_window.bed')\n",
    "    return intersection\n"
   ]
  },
  {
   "cell_type": "code",
   "execution_count": 74,
   "metadata": {},
   "outputs": [],
   "source": [
    "bed_files = ['exampleData/testA.bed', 'exampleData/testB.bed']"
   ]
  },
  {
   "cell_type": "code",
   "execution_count": 99,
   "metadata": {},
   "outputs": [],
   "source": [
    "intersection = find_intersection_with_window(bed_files, 1000, 1000)"
   ]
  },
  {
   "cell_type": "code",
   "execution_count": 100,
   "metadata": {},
   "outputs": [
    {
     "data": {
      "text/plain": [
       "6"
      ]
     },
     "execution_count": 100,
     "metadata": {},
     "output_type": "execute_result"
    }
   ],
   "source": [
    "len(intersection)"
   ]
  },
  {
   "cell_type": "code",
   "execution_count": 45,
   "metadata": {},
   "outputs": [],
   "source": [
    "bed_files = ['results/resultComparisons/HapMapMix/RetroSomV2/HMS_HapMapMix_Illumina-200x_UW_MEI.bed',\n",
    "            'results/resultComparisons/HapMapMix/RetroSomV2/HMS_HapMapMix_Illumina-200x_NYGC_MEI.bed']"
   ]
  },
  {
   "cell_type": "code",
   "execution_count": 49,
   "metadata": {},
   "outputs": [],
   "source": [
    "intersection = find_intersection(bed_files, 500)"
   ]
  },
  {
   "cell_type": "code",
   "execution_count": 50,
   "metadata": {},
   "outputs": [
    {
     "data": {
      "text/plain": [
       "28"
      ]
     },
     "execution_count": 50,
     "metadata": {},
     "output_type": "execute_result"
    }
   ],
   "source": [
    "len(intersection)"
   ]
  },
  {
   "cell_type": "code",
   "execution_count": null,
   "metadata": {},
   "outputs": [],
   "source": [
    "## 정답셋 처리 할 때는 윈도우 0\n",
    "## 정답셋과 비교할 때는 가변 윈도우로 처리 (이것도 인풋 값으로 진행해서 For Loop 로 갈 것)\n",
    "## 결과를 아래와 같이 저장 (마지막에 window 사이즈를 저장해 놓을 것)\n",
    "\n",
    "\n",
    "def generate_tp_fp_fn_set_from_bed(case_result_df, gs_bed_array, control_result_df, na12878_vcf,\n",
    "                                   window_size = 10, key_column_name = 'chrom'):\n",
    "    \n",
    "    \n",
    "    #gs_bed_array = [set(x.file.vcf) for x in gs_vcf_array]\n",
    "    gs_bed_df_array = [ x.file.bed.iloc[:,:2] for x in gs_bed_array]\n",
    "    \n",
    "    combined_gs_bed_df = pd.concat(gs_bed_df_array, axis=0, ignore_index=True).drop_duplicates().iloc[:,:2]\n",
    "    \n",
    "    print(\"gs_set:\", len(combined_gs_bed_df))\n",
    "    \n",
    "    # False Positive\n",
    "    # (1) - (2) - Union(3)\n",
    "    #control_set = set(control_vcf)\n",
    "    #case_result_df = pd.DataFrame(case_result_vcf, columns=['chrom','position'])\n",
    "    \n",
    "    #FP = set(case_result_vcf) - control_set - set.union(*gs_set_array)    \n",
    "    temp_compareSet_df = compareTwoSets(case_result_df, control_result_df,  key_column_name, window_size).iloc[:,:2]\n",
    "    #print(temp_compareSet_df)\n",
    "    \n",
    "    FP_temp = getLeftDFOnly(case_result_df, temp_compareSet_df)\n",
    "    temp_compareSet_df = compareTwoSets(FP_temp, combined_gs_bed_df,key_column_name ,window_size).iloc[:,:2]\n",
    "    FP = getLeftDFOnly(FP_temp, temp_compareSet_df)\n",
    "        \n",
    "    print(\"False Positive:\", len(FP))\n",
    "    \n",
    "    # Unique MEI\n",
    "    unique_MEI = []\n",
    "    #set_unique_array = gs_set_array + [control_set]   \n",
    "    set_unique_array = gs_bed_df_array + [pd.DataFrame(na12878_vcf, columns=['chrom','position'])]     #NA12878을 더해줘야 함\n",
    "     \n",
    "    #case_unique = set(case_result_vcf) - set.union(*set_unique_array)\n",
    "    \n",
    "    for gs_bed in gs_bed_array:\n",
    "        \n",
    "        #print(gs_bed.file.bed)\n",
    "        print(gs_bed.file.name,  len(gs_bed.file.bed))\n",
    "        temp = getLeftDFOnly(gs_bed.file.bed.iloc[:,:2],                              \n",
    "                             getLeftDFOnly(pd.concat(set_unique_array, axis=0, ignore_index=True).drop_duplicates(),\n",
    "                                           gs_bed.file.bed.iloc[:,:2])\n",
    "                             )\n",
    "        \n",
    "        unique_MEI += [{ \"Freq\": gs_bed.vaf,\n",
    "                         \"Set\": temp\n",
    "        \n",
    "        }]\n",
    "        print(\"case unique(\", gs_bed.vaf, \"):\",  len(temp))\n",
    "    \n",
    "\n",
    "    result_list = []\n",
    "    \n",
    "    for MEI in unique_MEI:\n",
    "        \n",
    "        # True Positive\n",
    "        # ( (1) - (2) ) Intersect Unique MEI ( (3)_i - Union( (3) except (3)_i + (4))  )\n",
    "        print(\"VAF:\", MEI[\"Freq\"])\n",
    "        \n",
    "        #TP = (set(case_result_vcf) - control_set).intersection(MEI[\"Set\"])\n",
    "        \n",
    "        TP_temp = getLeftDFOnly(case_result_df, control_result_df)\n",
    "        print(\"TP_temp:\", len(TP_temp))\n",
    "\n",
    "        TP = compareTwoSets(TP_temp, MEI[\"Set\"], 'chrom', window_size)\n",
    "    \n",
    "        print(\"True Positive:\", len(TP))\n",
    "\n",
    "        # False Negative\n",
    "        # ( (3)_i - True_Positive_i)\n",
    "        \n",
    "        #FN = set(case_result_vcf) - TP\n",
    "        \n",
    "        #FN = case_result_df if len(TP) == 0 else getLeftDFOnly(case_result_df, TP)\n",
    "        FN = case_result_df if len(TP) == 0 else getLeftDFOnly(case_result_df, TP)\n",
    "        print(\"False Negative:\", len(FN))\n",
    "        \n",
    "        result_list += [\n",
    "            { \"Freq\" : MEI[\"Freq\"],\n",
    "              \"TP\": TP,\n",
    "              \"FN\": FN\n",
    "            }\n",
    "        \n",
    "        ]\n",
    "        \n",
    "    addtional_field = {\"FP\": FP }\n",
    "    \n",
    "    result_list = [{**item, **addtional_field } for item in result_list]\n",
    "\n",
    "    return result_list\n",
    "    \n",
    "\n",
    "\n",
    "\n",
    "\n"
   ]
  },
  {
   "cell_type": "code",
   "execution_count": 23,
   "metadata": {},
   "outputs": [],
   "source": [
    "HapMap_200x_UW_L1 = filter_svg_files('../results/RetroSom/shortread/mosaic/HapMap/v2/200x_UW/HapMapMix_NoModel/visual','L1')\n",
    "convertResultToBedFile(HapMap_200x_UW_L1, 'results/HapMapMix/RetroSomV2/HMS_HapMapMix_Illumina-200x_UW_MEI.bed')\n"
   ]
  },
  {
   "cell_type": "code",
   "execution_count": 24,
   "metadata": {},
   "outputs": [],
   "source": [
    "HapMap_200x_NYGC_L1 = filter_svg_files('../results/RetroSom/shortread/mosaic/HapMap/v2/200x_NYGC/HapMapMix_NoModel/visual','L1')\n",
    "convertResultToBedFile(HapMap_200x_NYGC_L1, 'results/HapMapMix/RetroSomV2/HMS_HapMapMix_Illumina-200x_NYGC_MEI.bed')\n",
    "\n"
   ]
  },
  {
   "cell_type": "code",
   "execution_count": 26,
   "metadata": {},
   "outputs": [],
   "source": [
    "HapMap_200x_BCM_L1 = filter_svg_files('../results/RetroSom/shortread/mosaic/HapMap/v2/200x/HapMapMix_NoModel/visual','L1')\n",
    "# convertResultToBedFile(HapMap_200x_BCM_L1, 'results/HapMapMix/RetroSomV2/HMS_HapMapMix_Illumina-200x_BCM_MEI.bed')"
   ]
  },
  {
   "cell_type": "code",
   "execution_count": 29,
   "metadata": {},
   "outputs": [],
   "source": [
    "convertResultToBedFile(HapMap_200x_BCM_L1, 'results/resultComparisons/HapMapMix/RetroSomV2/HMS_HapMapMix_Illumina-200x_BCM_MEI.bed')"
   ]
  },
  {
   "cell_type": "code",
   "execution_count": 31,
   "metadata": {},
   "outputs": [],
   "source": [
    "HapMap_50x_BCM_L1 = filter_svg_files('../results/RetroSom/shortread/mosaic/HapMap/v2/50x/HapMapMix/visual','L1')\n",
    "#HapMap_100x_BCM_L1 = filter_svg_files('../results/RetroSom/shortread/mosaic/HapMap/v2/100x/HapMapMix_NoModel/visual','L1')\n",
    "HapMap_300x_BCM_L1 = filter_svg_files('../results/RetroSom/shortread/mosaic/HapMap/v2/300x/HapMapMix_NoModel/visual','L1')\n"
   ]
  },
  {
   "cell_type": "code",
   "execution_count": 32,
   "metadata": {},
   "outputs": [],
   "source": [
    "convertResultToBedFile(HapMap_50x_BCM_L1, 'results/resultComparisons/HapMapMix/RetroSomV2/HMS_HapMapMix_Illumina-50x_BCM_MEI.bed')\n",
    "convertResultToBedFile(HapMap_300x_BCM_L1, 'results/resultComparisons/HapMapMix/RetroSomV2/HMS_HapMapMix_Illumina-300x_BCM_MEI.bed')"
   ]
  },
  {
   "cell_type": "code",
   "execution_count": 51,
   "metadata": {},
   "outputs": [],
   "source": [
    "HapMap_400x_BCM_L1 = filter_svg_files('../results/RetroSom/shortread/mosaic/HapMap/v2/400x/HapMapMix_NoModel/visual','L1')\n",
    "#HapMap_100x_BCM_L1 = filter_svg_files('../results/RetroSom/shortread/mosaic/HapMap/v2/100x/HapMapMix_NoModel/visual','L1')\n",
    "HapMap_500x_BCM_L1 = filter_svg_files('../results/RetroSom/shortread/mosaic/HapMap/v2/500x_WashU/HapMapMix_NoModel/visual','L1')\n"
   ]
  },
  {
   "cell_type": "code",
   "execution_count": 55,
   "metadata": {},
   "outputs": [],
   "source": [
    "convertResultToBedFile(HapMap_400x_BCM_L1, 'results/resultComparisons/HapMapMix/RetroSomV2/HMS_HapMapMix_Illumina-400x_BCM_MEI.bed')\n",
    "convertResultToBedFile(HapMap_500x_BCM_L1, 'results/resultComparisons/HapMapMix/RetroSomV2/HMS_HapMapMix_Illumina-500x_WashU_MEI.bed')"
   ]
  },
  {
   "cell_type": "code",
   "execution_count": 54,
   "metadata": {},
   "outputs": [
    {
     "data": {
      "text/html": [
       "<div>\n",
       "<style scoped>\n",
       "    .dataframe tbody tr th:only-of-type {\n",
       "        vertical-align: middle;\n",
       "    }\n",
       "\n",
       "    .dataframe tbody tr th {\n",
       "        vertical-align: top;\n",
       "    }\n",
       "\n",
       "    .dataframe thead th {\n",
       "        text-align: right;\n",
       "    }\n",
       "</style>\n",
       "<table border=\"1\" class=\"dataframe\">\n",
       "  <thead>\n",
       "    <tr style=\"text-align: right;\">\n",
       "      <th></th>\n",
       "      <th>chrom</th>\n",
       "      <th>position</th>\n",
       "      <th>strand</th>\n",
       "      <th>class</th>\n",
       "      <th>family</th>\n",
       "    </tr>\n",
       "  </thead>\n",
       "  <tbody>\n",
       "    <tr>\n",
       "      <th>0</th>\n",
       "      <td>chr10</td>\n",
       "      <td>115560693</td>\n",
       "      <td>+</td>\n",
       "      <td>L1</td>\n",
       "      <td>L1HS</td>\n",
       "    </tr>\n",
       "    <tr>\n",
       "      <th>1</th>\n",
       "      <td>chr11</td>\n",
       "      <td>117324478</td>\n",
       "      <td>+</td>\n",
       "      <td>L1</td>\n",
       "      <td>L1HS</td>\n",
       "    </tr>\n",
       "    <tr>\n",
       "      <th>2</th>\n",
       "      <td>chr12</td>\n",
       "      <td>128865636</td>\n",
       "      <td>+</td>\n",
       "      <td>L1</td>\n",
       "      <td>L1HS</td>\n",
       "    </tr>\n",
       "    <tr>\n",
       "      <th>3</th>\n",
       "      <td>chr12</td>\n",
       "      <td>28073470</td>\n",
       "      <td>+</td>\n",
       "      <td>L1</td>\n",
       "      <td>L1HS</td>\n",
       "    </tr>\n",
       "    <tr>\n",
       "      <th>4</th>\n",
       "      <td>chr14</td>\n",
       "      <td>41199885</td>\n",
       "      <td>+</td>\n",
       "      <td>L1</td>\n",
       "      <td>L1HS</td>\n",
       "    </tr>\n",
       "    <tr>\n",
       "      <th>...</th>\n",
       "      <td>...</td>\n",
       "      <td>...</td>\n",
       "      <td>...</td>\n",
       "      <td>...</td>\n",
       "      <td>...</td>\n",
       "    </tr>\n",
       "    <tr>\n",
       "      <th>83</th>\n",
       "      <td>chrX</td>\n",
       "      <td>126723679</td>\n",
       "      <td>-</td>\n",
       "      <td>L1</td>\n",
       "      <td>L1HS</td>\n",
       "    </tr>\n",
       "    <tr>\n",
       "      <th>84</th>\n",
       "      <td>chrX</td>\n",
       "      <td>33407521</td>\n",
       "      <td>-</td>\n",
       "      <td>L1</td>\n",
       "      <td>L1HS</td>\n",
       "    </tr>\n",
       "    <tr>\n",
       "      <th>85</th>\n",
       "      <td>chrX</td>\n",
       "      <td>34973901</td>\n",
       "      <td>-</td>\n",
       "      <td>L1</td>\n",
       "      <td>L1HS</td>\n",
       "    </tr>\n",
       "    <tr>\n",
       "      <th>86</th>\n",
       "      <td>chrX</td>\n",
       "      <td>72092746</td>\n",
       "      <td>-</td>\n",
       "      <td>L1</td>\n",
       "      <td>L1HS</td>\n",
       "    </tr>\n",
       "    <tr>\n",
       "      <th>87</th>\n",
       "      <td>chrX</td>\n",
       "      <td>77191412</td>\n",
       "      <td>-</td>\n",
       "      <td>L1</td>\n",
       "      <td>L1HS</td>\n",
       "    </tr>\n",
       "  </tbody>\n",
       "</table>\n",
       "<p>88 rows × 5 columns</p>\n",
       "</div>"
      ],
      "text/plain": [
       "    chrom   position strand class family\n",
       "0   chr10  115560693      +    L1   L1HS\n",
       "1   chr11  117324478      +    L1   L1HS\n",
       "2   chr12  128865636      +    L1   L1HS\n",
       "3   chr12   28073470      +    L1   L1HS\n",
       "4   chr14   41199885      +    L1   L1HS\n",
       "..    ...        ...    ...   ...    ...\n",
       "83   chrX  126723679      -    L1   L1HS\n",
       "84   chrX   33407521      -    L1   L1HS\n",
       "85   chrX   34973901      -    L1   L1HS\n",
       "86   chrX   72092746      -    L1   L1HS\n",
       "87   chrX   77191412      -    L1   L1HS\n",
       "\n",
       "[88 rows x 5 columns]"
      ]
     },
     "execution_count": 54,
     "metadata": {},
     "output_type": "execute_result"
    }
   ],
   "source": [
    "HapMap_500x_BCM_L1"
   ]
  },
  {
   "cell_type": "code",
   "execution_count": null,
   "metadata": {},
   "outputs": [],
   "source": []
  }
 ],
 "metadata": {
  "kernelspec": {
   "display_name": "SMaHT-3.9",
   "language": "python",
   "name": "python3"
  },
  "language_info": {
   "codemirror_mode": {
    "name": "ipython",
    "version": 3
   },
   "file_extension": ".py",
   "mimetype": "text/x-python",
   "name": "python",
   "nbconvert_exporter": "python",
   "pygments_lexer": "ipython3",
   "version": "3.9.19"
  }
 },
 "nbformat": 4,
 "nbformat_minor": 2
}
