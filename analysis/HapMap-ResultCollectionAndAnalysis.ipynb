{
 "cells": [
  {
   "cell_type": "code",
   "execution_count": 1,
   "metadata": {},
   "outputs": [],
   "source": [
    "import pandas as pd\n",
    "import matplotlib.pyplot as plt\n",
    "import seaborn as sns\n",
    "from scipy.stats import t\n",
    "import numpy as np\n",
    "import os\n",
    "import itertools\n",
    "from matplotlib import pyplot as plt\n",
    "from tqdm.notebook import trange, tqdm\n",
    "from datetime import datetime\n",
    "\n",
    "# bedtools\n",
    "from pybedtools import BedTool\n",
    "\n",
    "# pysam\n",
    "import pysam\n",
    "\n",
    "# graphical utilities\n",
    "import pygwalker as pyg\n",
    "import plotly.express as px\n",
    "import plotly.offline as pyo\n"
   ]
  },
  {
   "cell_type": "code",
   "execution_count": 2,
   "metadata": {},
   "outputs": [],
   "source": [
    "# Function to find and count intersection with a window\n",
    "def find_intersection(bed_files, window=1000):\n",
    "    bedtools_objs = [BedTool(bed_file) for bed_file in bed_files]\n",
    "    intersection = bedtools_objs[0]\n",
    "    for bedtool in bedtools_objs[1:]:\n",
    "        intersection = intersection.intersect(bedtool, wa=True, wb=True, e=True, f=0.9, F=0.1)\n",
    "    #intersection.saveas('intersection.bed')\n",
    "    return intersection\n",
    "\n",
    "# Function to find and count union with a window\n",
    "def find_union(bed_files):\n",
    "    bedtools_objs = [BedTool(bed_file) for bed_file in bed_files]\n",
    "    union = bedtools_objs[0]\n",
    "    for bedtool in bedtools_objs[1:]:\n",
    "        union = union.cat(bedtool, postmerge=False)\n",
    "    union = union.sort().merge()\n",
    "    #union.saveas('union.bed')\n",
    "    return union\n",
    "\n",
    "# Function to find and count unique sets with a window\n",
    "def find_unique(bed_file, other_bed_files, index, window=1000):\n",
    "    bedtool = BedTool(bed_file)\n",
    "    other_bedtools = [BedTool(bed_file) for bed_file in other_bed_files]\n",
    "    unique = bedtool\n",
    "    for other_bedtool in other_bedtools:\n",
    "        unique = unique.subtract(other_bedtool, A=True, s=True, r=True, f=window/1000)\n",
    "    #unique.saveas(f'unique_{index}.bed')\n",
    "    return unique\n",
    "\n",
    "\n",
    "# Function to find intersections with a window\n",
    "def find_intersection_with_window(bed_files, l=300, r=20000):\n",
    "    bedtools_objs = [BedTool(bed_file) for bed_file in bed_files]\n",
    "    intersection = bedtools_objs[0]\n",
    "    for bedtool in bedtools_objs[1:]:\n",
    "        intersection = intersection.window(b=bedtool, l=l, r=r)\n",
    "    intersection.saveas('intersection_with_window.bed')\n",
    "    return len(intersection)\n",
    "\n",
    "# Function to find union\n",
    "def find_union(bed_files):\n",
    "    bedtools_objs = [BedTool(bed_file) for bed_file in bed_files]\n",
    "    union = bedtools_objs[0]\n",
    "    for bedtool in bedtools_objs[1:]:\n",
    "        union = union.cat(bedtool, postmerge=False)\n",
    "    union = union.sort().merge()\n",
    "    \n",
    "    #union.saveas('union.bed')\n",
    "    return union\n",
    "\n",
    "# Function to find unique sets with a window\n",
    "def find_unique_with_window(bed_file, other_bed_files, index, l=300, r=20000):\n",
    "    bedtool = BedTool(bed_file)\n",
    "    other_bedtools = [BedTool(bed_file) for bed_file in other_bed_files]\n",
    "    unique = bedtool\n",
    "    for other_bedtool in other_bedtools:\n",
    "        unique = unique.window(b=other_bedtool, l=l, r=r, v=True)\n",
    "    unique.saveas(f'unique_with_window_{index}.bed')\n",
    "    return len(unique)\n",
    "\n",
    "# # Paths to your BED files\n",
    "# bed_files = ['file1.bed', 'file2.bed', 'file3.bed']\n",
    "\n",
    "# # Finding the intersection of all BED files and counting intervals with a window\n",
    "# intersection_count = find_intersection_with_window(bed_files, l=300, r=20000)\n",
    "# print(f'Number of intervals in intersection with window: {intersection_count}')\n",
    "\n",
    "# # Finding the union of all BED files and counting intervals\n",
    "# union_count = find_union(bed_files)\n",
    "# print(f'Number of intervals in union: {union_count}')\n",
    "\n",
    "# # Finding unique sets for each file and counting intervals with a window\n",
    "# for i, bed_file in enumerate(bed_files):\n",
    "#     other_bed_files = [f for j, f in enumerate(bed_files) if j != i]\n",
    "#     unique_count = find_unique_with_window(bed_file, other_bed_files, i + 1, l=300, r=20000)\n",
    "#     print(f'Number of unique intervals in file {i+1} with window: {unique_count}')"
   ]
  },
  {
   "cell_type": "code",
   "execution_count": 3,
   "metadata": {},
   "outputs": [],
   "source": [
    "def LoadRetroSomResults(directory, te_type):\n",
    "    \n",
    "\n",
    "    # List all files in the directory\n",
    "    files = os.listdir(directory)\n",
    "        \n",
    "    # Filter files with '.svg' extension\n",
    "    svg_files = [file for file in files if file.endswith('.svg')]\n",
    "    \n",
    "    column_names = [\"strand\",\"family\",\"chrom\",\"position\"]\n",
    "    result_df = pd.DataFrame(columns=column_names)\n",
    "    \n",
    "    # Divide filenames by \"_\" and check if they start with \"strand*\"\n",
    "    relevant_files = []\n",
    "    for filename in svg_files:\n",
    "        filename = filename[filename.find('strand'):]\n",
    "        \n",
    "        parts = filename.split('_')\n",
    "        \n",
    "        \n",
    "        if parts[0] == \"strand1\":\n",
    "            parts[0] = \"-\"\n",
    "        else:\n",
    "            parts[0] = \"+\"\n",
    "        \n",
    "        parts[len(parts)-1] = parts[len(parts)-1].replace('.svg','')\n",
    "        row_df = pd.DataFrame([parts], columns=column_names)      \n",
    "        result_df = pd.concat([result_df,row_df], ignore_index=True)\n",
    "        relevant_files.append(filename)\n",
    "\n",
    "    \n",
    "    def extract_te_type(family):\n",
    "        if family.startswith('Alu'):\n",
    "            return 'Alu'\n",
    "        elif family.startswith('L1'):\n",
    "            return 'L1'\n",
    "        else:\n",
    "            return None\n",
    "    \n",
    "    result_df['class'] = result_df['family'].apply(extract_te_type)    \n",
    "\n",
    "    result_df = result_df.reindex(columns = [column_names[2],column_names[3],column_names[0],'class',column_names[1]])\n",
    "    \n",
    "    result_df = result_df[result_df['class'].str.upper().str.contains(te_type.upper())]\n",
    "\n",
    "    return result_df \n",
    "# # Specify the directory containing the files\n",
    "# directory = '../results/RetroSom/shortread/mosaic/mixedDataRetroSom/200x/v2/TITR_1/visual'\n",
    "\n",
    "# # Retrieve relevant SVG files\n",
    "# df = filter_svg_files(directory, \"l1\")\n",
    "\n",
    "# df\n",
    "\n",
    "\n",
    "def convertResultToBedFile(df, saveFileNameWithDir):\n",
    "    temp = df\n",
    "    temp['position'] = temp['position'].astype(int)\n",
    "    temp['position2'] = temp['position'] +1 \n",
    "    temp['name'] = '.'\n",
    "    temp['score'] = None\n",
    "\n",
    "    temp = temp\n",
    "    temp = temp[['chrom','position','position2','class','score','strand','family']]\n",
    "\n",
    "    temp.to_csv(saveFileNameWithDir, sep='\\t', index=False, header=False)\n",
    "    \n",
    "#    return temp\n",
    "\n",
    "def count_directories_with_string(directory, search_string):\n",
    "    count = 0\n",
    "    for filename in os.listdir(directory):\n",
    "        if os.path.isdir(os.path.join(directory, filename)) and search_string in filename and \"NoModel\" not in filename:\n",
    "            count += 1\n",
    "    return count\n",
    "\n",
    "\n",
    "def loadVCF(file_path):\n",
    "    vcf = pysam.VariantFile(file_path)\n",
    "    print(file_path,countVCF(vcf))\n",
    "    return vcf\n",
    "\n",
    "def countVCF(vcf):\n",
    "    return sum(1 for _ in vcf)\n",
    "\n",
    "def filterVCF(vcf, filter_condition=None):\n",
    "    filtered_variants = []\n",
    "    for record in vcf.fetch():\n",
    "        if record.filter.keys() == [filter_condition]:\n",
    "            filtered_variants.append(record)\n",
    "    return filtered_variants\n",
    "\n",
    "def VCFtoBED(variants):\n",
    "    column_names = ['chrom','position','position2','class','score','strand','family']\n",
    "    bed_records = []\n",
    "    for variant in variants:\n",
    "        chrom = variant.chrom\n",
    "        start = variant.pos - 1  # BED format uses 0-based start\n",
    "        end = variant.pos + len(variant.ref) - 1\n",
    "        name =  variant.alts[0].replace(\"<INS:ME:\", \"\").replace(\">\", \"\").capitalize() if variant.alts else \".\"\n",
    "        if name == \"Line1\":\n",
    "            name = \"L1\"\n",
    "        \n",
    "        score = \"0\"  # BED score is optional, here we set it to 0\n",
    "        strand = \".\"  # Strand information is optional and not present in VCF, so set to '.'\n",
    "        bed_records.append([chrom, start, end, name, score, strand, \".\"])\n",
    "\n",
    "    return pd.DataFrame(bed_records, columns=column_names)"
   ]
  },
  {
   "cell_type": "markdown",
   "metadata": {},
   "source": [
    "# 1. Configuration for performance check"
   ]
  },
  {
   "cell_type": "code",
   "execution_count": 4,
   "metadata": {},
   "outputs": [],
   "source": [
    "sampleDepths = [\"50x\", \"100x\", \"200x\", \"300x\"]\n",
    "teClasses = [\"Alu\", \"L1\"]\n",
    "backBoneCellLineName = \"HG005\"\n",
    "caseSampleName = \"HapMapMix\"\n",
    "\n",
    "toolAndResultDirectory = {\n",
    "    \"RetroSom\": \"/n/data1/bch/genetics/lee/projects/SMaHT/results/RetroSom/shortread/mosaic/HapMap/v2\",\n",
    "    \"xTea-mosaic\": \"/n/data1/bch/genetics/lee/projects/SMaHT/results/xTea/shortread/mosaic/HapMap\",\n",
    "    \"xTea\": \"/n/data1/bch/genetics/lee/projects/SMaHT/results/xTea/shortread/germline/HapMap\"\n",
    "#    \"MELT\": \"/n/data1/bch/genetics/lee/projects/SMaHT/results/MELT/shortread/germline/HapMap\"\n",
    "}\n",
    "\n",
    "goldStandardDirectory = \"/n/data1/bch/genetics/lee/projects/SMaHT/gold_standards/HapMapMix\"\n",
    "\n",
    "cellLinesAndMixtureRatio = {\n",
    "    \"HG00438\":0.5,\n",
    "    \"HG002\":2,\n",
    "    \"HG02257\":2,\n",
    "    \"HG02486\":2,\n",
    "    \"HG02622\":10,\n",
    "    \"HG005\": 83.5\n",
    "}\n",
    "\n",
    "resultExcelFileName = \"hapmapmix\"\n",
    "resultExcelPath=\"results/resultComparisons/HapMapMix\"\n"
   ]
  },
  {
   "cell_type": "code",
   "execution_count": 5,
   "metadata": {},
   "outputs": [],
   "source": [
    "resultFileCombinations = itertools.product(\n",
    "        toolAndResultDirectory.keys(),\n",
    "        teClasses,\n",
    "        sampleDepths)"
   ]
  },
  {
   "cell_type": "code",
   "execution_count": 6,
   "metadata": {},
   "outputs": [],
   "source": [
    "# for a,b,c in resultFileCombinations:\n",
    "#     print(a,b,c)"
   ]
  },
  {
   "cell_type": "markdown",
   "metadata": {},
   "source": [
    "# 2. Convert results to bed files under the depth"
   ]
  },
  {
   "cell_type": "code",
   "execution_count": 7,
   "metadata": {},
   "outputs": [],
   "source": [
    "def convertTEClassString(inputClass):\n",
    "    if inputClass == \"L1\":\n",
    "        return \"LINE1\"\n",
    "    else:\n",
    "        return inputClass.upper()\n",
    "    \n",
    "def getResultFunctionForTool(toolName,resultParentDirectory,caseSampleName,teClass):\n",
    "    if toolName.strip().lower() in [\"xtea-mosaic\", \"xtea\"] :\n",
    "        vcf = loadVCF(os.path.join(resultParentDirectory,caseSampleName,teClass,caseSampleName+\"_\"+convertTEClassString(teClass)+\".vcf\"))\n",
    "        filtered_vcf = filterVCF(vcf,\"PASS\")\n",
    "        tempResultDF = VCFtoBED(filtered_vcf)\n",
    "    elif toolName.strip().lower() == \"melt\":\n",
    "        vcf = loadVCF(os.path.join(resultParentDirectory,caseSampleName,convertTEClassString(teClass)+\".final_comp.vcf\"))\n",
    "        filtered_vcf = filterVCF(vcf,\"PASS\")\n",
    "        tempResultDF = VCFtoBED(filtered_vcf)\n",
    "    elif toolName.strip().lower() == \"retrosom\":\n",
    "        resultDirectory = caseSampleName + \"_NoModel\"\n",
    "        visualDirectory = \"visual\"\n",
    "        count = count_directories_with_string(resultParentDirectory,caseSampleName)\n",
    "        if count <= 1:\n",
    "            resultDirectory = os.path.join(resultParentDirectory, caseSampleName)\n",
    "        else:\n",
    "            resultDirectory = os.path.join(resultParentDirectory, resultDirectory)\n",
    "        \n",
    "        tempResultDF = LoadRetroSomResults(os.path.join(resultDirectory,visualDirectory) , teClass)\n",
    "    else:\n",
    "        print(toolName + \"is not available for the function\")\n",
    "        return None\n",
    "    \n",
    "    return tempResultDF\n",
    "\n",
    "def saveResultDFtoBedFileforTool(toolName, resultParentDirectory, resultFileName, resultDF):\n",
    "    if toolName.strip().lower() in [\"xtea-mosaic\", \"xtea\", \"melt\"] :\n",
    "        resultDF.to_csv(os.path.join(resultParentDirectory, resultFileName), sep='\\t', index=False, header=False)\n",
    "    elif toolName.strip().lower() == \"retrosom\":\n",
    "        convertResultToBedFile(resultDF, os.path.join(resultParentDirectory, resultFileName))\n",
    "\n",
    "    else: \n",
    "        print(toolName + \"is not available for the function\")\n",
    "        return None\n",
    "    "
   ]
  },
  {
   "cell_type": "code",
   "execution_count": 8,
   "metadata": {},
   "outputs": [
    {
     "data": {
      "application/vnd.jupyter.widget-view+json": {
       "model_id": "16a453277fd14838a3b095e11ce996c9",
       "version_major": 2,
       "version_minor": 0
      },
      "text/plain": [
       "Generating result files: 0it [00:00, ?it/s]"
      ]
     },
     "metadata": {},
     "output_type": "display_data"
    },
    {
     "name": "stdout",
     "output_type": "stream",
     "text": [
      "/n/data1/bch/genetics/lee/projects/SMaHT/results/RetroSom/shortread/mosaic/HapMap/v2/50x/Alu.bed is existing\n",
      "/n/data1/bch/genetics/lee/projects/SMaHT/results/RetroSom/shortread/mosaic/HapMap/v2/100x/Alu.bed is not exist. Generate the result.\n",
      "no rows from the result file, no save\n",
      "/n/data1/bch/genetics/lee/projects/SMaHT/results/RetroSom/shortread/mosaic/HapMap/v2/200x/Alu.bed is not exist. Generate the result.\n",
      "no rows from the result file, no save\n",
      "/n/data1/bch/genetics/lee/projects/SMaHT/results/RetroSom/shortread/mosaic/HapMap/v2/300x/Alu.bed is not exist. Generate the result.\n",
      "no rows from the result file, no save\n",
      "/n/data1/bch/genetics/lee/projects/SMaHT/results/RetroSom/shortread/mosaic/HapMap/v2/50x/L1.bed is existing\n",
      "/n/data1/bch/genetics/lee/projects/SMaHT/results/RetroSom/shortread/mosaic/HapMap/v2/100x/L1.bed is existing\n",
      "/n/data1/bch/genetics/lee/projects/SMaHT/results/RetroSom/shortread/mosaic/HapMap/v2/200x/L1.bed is existing\n",
      "/n/data1/bch/genetics/lee/projects/SMaHT/results/RetroSom/shortread/mosaic/HapMap/v2/300x/L1.bed is existing\n",
      "/n/data1/bch/genetics/lee/projects/SMaHT/results/xTea/shortread/mosaic/HapMap/50x/Alu.bed is existing\n",
      "/n/data1/bch/genetics/lee/projects/SMaHT/results/xTea/shortread/mosaic/HapMap/100x/Alu.bed is existing\n",
      "/n/data1/bch/genetics/lee/projects/SMaHT/results/xTea/shortread/mosaic/HapMap/200x/Alu.bed is existing\n",
      "/n/data1/bch/genetics/lee/projects/SMaHT/results/xTea/shortread/mosaic/HapMap/300x/Alu.bed is existing\n",
      "/n/data1/bch/genetics/lee/projects/SMaHT/results/xTea/shortread/mosaic/HapMap/50x/L1.bed is existing\n",
      "/n/data1/bch/genetics/lee/projects/SMaHT/results/xTea/shortread/mosaic/HapMap/100x/L1.bed is existing\n",
      "/n/data1/bch/genetics/lee/projects/SMaHT/results/xTea/shortread/mosaic/HapMap/200x/L1.bed is existing\n",
      "/n/data1/bch/genetics/lee/projects/SMaHT/results/xTea/shortread/mosaic/HapMap/300x/L1.bed is existing\n",
      "/n/data1/bch/genetics/lee/projects/SMaHT/results/xTea/shortread/germline/HapMap/50x/Alu.bed is existing\n",
      "/n/data1/bch/genetics/lee/projects/SMaHT/results/xTea/shortread/germline/HapMap/100x/Alu.bed is existing\n",
      "/n/data1/bch/genetics/lee/projects/SMaHT/results/xTea/shortread/germline/HapMap/200x/Alu.bed is existing\n",
      "/n/data1/bch/genetics/lee/projects/SMaHT/results/xTea/shortread/germline/HapMap/300x/Alu.bed is existing\n",
      "/n/data1/bch/genetics/lee/projects/SMaHT/results/xTea/shortread/germline/HapMap/50x/L1.bed is existing\n",
      "/n/data1/bch/genetics/lee/projects/SMaHT/results/xTea/shortread/germline/HapMap/100x/L1.bed is existing\n",
      "/n/data1/bch/genetics/lee/projects/SMaHT/results/xTea/shortread/germline/HapMap/200x/L1.bed is existing\n",
      "/n/data1/bch/genetics/lee/projects/SMaHT/results/xTea/shortread/germline/HapMap/300x/L1.bed is existing\n"
     ]
    }
   ],
   "source": [
    "resultFile_description = \"Generating result files\"\n",
    "\n",
    "resultFile_progress_bar = tqdm(resultFileCombinations, desc=resultFile_description)\n",
    "for toolName, teClass, sampleDepth in resultFile_progress_bar:\n",
    "    \n",
    "    tempResultDF = []\n",
    "    resultFile_progress_bar.set_description(f\"{resultFile_description}-{toolName} {teClass} {sampleDepth}\")\n",
    "\n",
    "    \n",
    "    resultParentDirectory = os.path.join(toolAndResultDirectory[toolName],sampleDepth)\n",
    "    count = count_directories_with_string(resultParentDirectory,caseSampleName)\n",
    "    \n",
    "    resultFileName = teClass+\".bed\"\n",
    "    resultFileNameWithPath = os.path.join(resultParentDirectory, resultFileName)\n",
    "    if os.path.exists(resultFileNameWithPath):\n",
    "        print(resultFileNameWithPath + \" is existing\")\n",
    "        continue\n",
    "    else:\n",
    "        print(resultFileNameWithPath + \" is not exist. Generate the result.\")\n",
    "        #print(os.path.join(resultParentDirectory,caseSampleName,teClass,caseSampleName+\"_\"+convertTEClassString(teClass)+\".vcf\"))\n",
    "        tempResultDF = getResultFunctionForTool(toolName,resultParentDirectory,caseSampleName,teClass)\n",
    "        \n",
    "    if len(tempResultDF) >= 1 :\n",
    "        print(\"result count: \" + str(len(tempResultDF)) )\n",
    "        saveResultDFtoBedFileforTool(toolName,resultParentDirectory, resultFileName, tempResultDF)\n",
    "        \n",
    "    else:\n",
    "        print(\"no rows from the result file, no save\")"
   ]
  },
  {
   "cell_type": "code",
   "execution_count": 9,
   "metadata": {},
   "outputs": [],
   "source": [
    "\n",
    "# # RetroSomV2\n",
    "# # check the number of directories based on the result file name\n",
    "\n",
    "# caseSampleName = \"HapMapMix\"\n",
    "# resultDirectory = caseSampleName + \"_NoModel\"\n",
    "# toolName = \"RetroSom\"\n",
    "# depth = \"300x\"\n",
    "# visualDirectory = \"visual\"\n",
    "\n",
    "\n",
    "# resultParentDirectory = os.path.join(toolAndResultDirectory[toolName],depth)\n",
    "# count = count_directories_with_string(resultParentDirectory,caseSampleName)\n",
    "\n",
    "# # RetroSomOnly\n",
    "# if count <= 1:\n",
    "#     resultDirectory = os.path.join(resultParentDirectory, caseSampleName)\n",
    "# else:\n",
    "#     resultDirectory = os.path.join(resultParentDirectory, resultDirectory)\n",
    "    \n",
    "# # Check the result (Test)\n",
    "# print(resultDirectory)\n",
    "# print(count)\n",
    "\n",
    "# for teClass in teClasses:\n",
    "#     resultFileName = teClass+\".bed\"\n",
    "#     if os.path.exists(os.path.join(resultParentDirectory, resultFileName)):\n",
    "#         print(\"Exist\")\n",
    "#     else:\n",
    "#         print(\"Not exist\")\n",
    "        \n",
    "#         tempResultDF = LoadRetroSomResults(os.path.join(resultDirectory,visualDirectory) , teClass)\n",
    "        \n",
    "#     if len(tempResultDF) >= 1 :\n",
    "#         print(\"result count: \" + str(len(tempResultDF)) )\n",
    "#         convertResultToBedFile(tempResultDF, os.path.join(resultParentDirectory, resultFileName))\n",
    "        \n",
    "#     else:\n",
    "#         print(\"no result, no save\")\n",
    "    \n",
    "\n",
    "# ## Need to generate data table for summary\n",
    "# ## Tool Name, Sample Name, Depth, TE Class, Number of results, result file name\n",
    "\n"
   ]
  },
  {
   "cell_type": "markdown",
   "metadata": {},
   "source": [
    "# 3. Load Files and calculate statistics of results"
   ]
  },
  {
   "cell_type": "code",
   "execution_count": 10,
   "metadata": {},
   "outputs": [
    {
     "name": "stdout",
     "output_type": "stream",
     "text": [
      "['HG00438', 0.5, 'Alu', '/n/data1/bch/genetics/lee/projects/SMaHT/gold_standards/HapMapMix/Alu/HG00438-tier1.bed', False, 1220]\n",
      "['HG00438', 0.5, 'L1', '/n/data1/bch/genetics/lee/projects/SMaHT/gold_standards/HapMapMix/L1/HG00438-tier1.bed', False, 267]\n",
      "['HG002', 2, 'Alu', '/n/data1/bch/genetics/lee/projects/SMaHT/gold_standards/HapMapMix/Alu/HG002-tier1.bed', False, 1188]\n",
      "['HG002', 2, 'L1', '/n/data1/bch/genetics/lee/projects/SMaHT/gold_standards/HapMapMix/L1/HG002-tier1.bed', False, 233]\n",
      "['HG02257', 2, 'Alu', '/n/data1/bch/genetics/lee/projects/SMaHT/gold_standards/HapMapMix/Alu/HG02257-tier1.bed', False, 1520]\n",
      "['HG02257', 2, 'L1', '/n/data1/bch/genetics/lee/projects/SMaHT/gold_standards/HapMapMix/L1/HG02257-tier1.bed', False, 286]\n",
      "['HG02486', 2, 'Alu', '/n/data1/bch/genetics/lee/projects/SMaHT/gold_standards/HapMapMix/Alu/HG02486-tier1.bed', False, 1458]\n",
      "['HG02486', 2, 'L1', '/n/data1/bch/genetics/lee/projects/SMaHT/gold_standards/HapMapMix/L1/HG02486-tier1.bed', False, 333]\n",
      "['HG02622', 10, 'Alu', '/n/data1/bch/genetics/lee/projects/SMaHT/gold_standards/HapMapMix/Alu/HG02622-tier1.bed', False, 1539]\n",
      "['HG02622', 10, 'L1', '/n/data1/bch/genetics/lee/projects/SMaHT/gold_standards/HapMapMix/L1/HG02622-tier1.bed', False, 320]\n",
      "['HG005', 83.5, 'Alu', '/n/data1/bch/genetics/lee/projects/SMaHT/gold_standards/HapMapMix/Alu/HG005-tier1.bed', True, 1196]\n",
      "['HG005', 83.5, 'L1', '/n/data1/bch/genetics/lee/projects/SMaHT/gold_standards/HapMapMix/L1/HG005-tier1.bed', True, 253]\n",
      "['RetroSom', '50x', 'Alu', '/n/data1/bch/genetics/lee/projects/SMaHT/results/RetroSom/shortread/mosaic/HapMap/v2/50x/Alu.bed', 263]\n",
      "['RetroSom', '50x', 'L1', '/n/data1/bch/genetics/lee/projects/SMaHT/results/RetroSom/shortread/mosaic/HapMap/v2/50x/L1.bed', 68]\n",
      "The file '/n/data1/bch/genetics/lee/projects/SMaHT/results/RetroSom/shortread/mosaic/HapMap/v2/100x/Alu.bed' does not exist. Continue to the next.\n",
      "['RetroSom', '100x', 'L1', '/n/data1/bch/genetics/lee/projects/SMaHT/results/RetroSom/shortread/mosaic/HapMap/v2/100x/L1.bed', 64]\n",
      "The file '/n/data1/bch/genetics/lee/projects/SMaHT/results/RetroSom/shortread/mosaic/HapMap/v2/200x/Alu.bed' does not exist. Continue to the next.\n",
      "['RetroSom', '200x', 'L1', '/n/data1/bch/genetics/lee/projects/SMaHT/results/RetroSom/shortread/mosaic/HapMap/v2/200x/L1.bed', 51]\n",
      "The file '/n/data1/bch/genetics/lee/projects/SMaHT/results/RetroSom/shortread/mosaic/HapMap/v2/300x/Alu.bed' does not exist. Continue to the next.\n",
      "['RetroSom', '300x', 'L1', '/n/data1/bch/genetics/lee/projects/SMaHT/results/RetroSom/shortread/mosaic/HapMap/v2/300x/L1.bed', 75]\n",
      "['xTea-mosaic', '50x', 'Alu', '/n/data1/bch/genetics/lee/projects/SMaHT/results/xTea/shortread/mosaic/HapMap/50x/Alu.bed', 1271]\n",
      "['xTea-mosaic', '50x', 'L1', '/n/data1/bch/genetics/lee/projects/SMaHT/results/xTea/shortread/mosaic/HapMap/50x/L1.bed', 201]\n",
      "['xTea-mosaic', '100x', 'Alu', '/n/data1/bch/genetics/lee/projects/SMaHT/results/xTea/shortread/mosaic/HapMap/100x/Alu.bed', 1364]\n",
      "['xTea-mosaic', '100x', 'L1', '/n/data1/bch/genetics/lee/projects/SMaHT/results/xTea/shortread/mosaic/HapMap/100x/L1.bed', 230]\n",
      "['xTea-mosaic', '200x', 'Alu', '/n/data1/bch/genetics/lee/projects/SMaHT/results/xTea/shortread/mosaic/HapMap/200x/Alu.bed', 1464]\n",
      "['xTea-mosaic', '200x', 'L1', '/n/data1/bch/genetics/lee/projects/SMaHT/results/xTea/shortread/mosaic/HapMap/200x/L1.bed', 245]\n",
      "['xTea-mosaic', '300x', 'Alu', '/n/data1/bch/genetics/lee/projects/SMaHT/results/xTea/shortread/mosaic/HapMap/300x/Alu.bed', 1596]\n",
      "['xTea-mosaic', '300x', 'L1', '/n/data1/bch/genetics/lee/projects/SMaHT/results/xTea/shortread/mosaic/HapMap/300x/L1.bed', 293]\n",
      "['xTea', '50x', 'Alu', '/n/data1/bch/genetics/lee/projects/SMaHT/results/xTea/shortread/germline/HapMap/50x/Alu.bed', 1272]\n",
      "['xTea', '50x', 'L1', '/n/data1/bch/genetics/lee/projects/SMaHT/results/xTea/shortread/germline/HapMap/50x/L1.bed', 202]\n",
      "['xTea', '100x', 'Alu', '/n/data1/bch/genetics/lee/projects/SMaHT/results/xTea/shortread/germline/HapMap/100x/Alu.bed', 1364]\n",
      "['xTea', '100x', 'L1', '/n/data1/bch/genetics/lee/projects/SMaHT/results/xTea/shortread/germline/HapMap/100x/L1.bed', 229]\n",
      "['xTea', '200x', 'Alu', '/n/data1/bch/genetics/lee/projects/SMaHT/results/xTea/shortread/germline/HapMap/200x/Alu.bed', 1462]\n",
      "['xTea', '200x', 'L1', '/n/data1/bch/genetics/lee/projects/SMaHT/results/xTea/shortread/germline/HapMap/200x/L1.bed', 246]\n",
      "['xTea', '300x', 'Alu', '/n/data1/bch/genetics/lee/projects/SMaHT/results/xTea/shortread/germline/HapMap/300x/Alu.bed', 1596]\n",
      "['xTea', '300x', 'L1', '/n/data1/bch/genetics/lee/projects/SMaHT/results/xTea/shortread/germline/HapMap/300x/L1.bed', 293]\n"
     ]
    }
   ],
   "source": [
    "## Load Gold Standard Sets\n",
    "\n",
    "goldStandardColumns = ['cellLineName','mixedRatio','class', 'filePath', 'backBone', 'count']\n",
    "goldStandardDF = pd.DataFrame(columns= goldStandardColumns)\n",
    "\n",
    "for cellLineName, mixtureRatio in cellLinesAndMixtureRatio.items():\n",
    "    \n",
    "    for teClass in teClasses:\n",
    "    \n",
    "        filePath=os.path.join(goldStandardDirectory,teClass,cellLineName+\"-tier1.bed\")\n",
    "        \n",
    "        if not os.path.exists(filePath):\n",
    "            print(f\"The file '{filePath}' does not exist. Stopping the script.\")\n",
    "            # Stop the script by exiting or raising an exception\n",
    "            exit\n",
    "        \n",
    "        backBone = False\n",
    "        if cellLineName == backBoneCellLineName:\n",
    "            backBone = True            \n",
    "\n",
    "        \n",
    "        ## Add Numbers\n",
    "        print([cellLineName, mixtureRatio, teClass, filePath, backBone, len(BedTool(filePath))])\n",
    "        \n",
    "        #row_df = pd.DataFrame([[fileName, mixtureRatio, teClass, filePath]], columns=goldStandardColumns)\n",
    "        #goldStandardDF = pd.concat([goldStandardDF,row_df], ignore_index=True)\n",
    "                \n",
    "        goldStandardDF.loc[len(goldStandardDF)] = [cellLineName, mixtureRatio, teClass, filePath, backBone, len(BedTool(filePath))]\n",
    "\n",
    "\n",
    "## Load Tool Files per each depth\n",
    "\n",
    "resultBedColumns = ['toolName','depth','class', 'filePath', 'count']\n",
    "resultBedDF = pd.DataFrame(columns= resultBedColumns)\n",
    "\n",
    "for toolName, resultDir in toolAndResultDirectory.items():\n",
    "    \n",
    "    for depth in sampleDepths:\n",
    "        \n",
    "        for teClass in teClasses:\n",
    "            \n",
    "            filePath = os.path.join(resultDir,depth,teClass+\".bed\")\n",
    "            if not os.path.exists(filePath):\n",
    "                print(f\"The file '{filePath}' does not exist. Continue to the next.\")\n",
    "                # Stop the script by exiting or raising an exception\n",
    "                continue\n",
    "                \n",
    "            print([toolName, depth, teClass, filePath,len(BedTool(filePath))])\n",
    "            \n",
    "            resultBedDF.loc[len(resultBedDF)] = [toolName, depth, teClass, filePath, len(BedTool(filePath))]\n",
    "\n",
    "# Need to make a table here\n",
    "\n",
    "# need to run intervene upset figure per each depths (auto generate)\n",
    "\n",
    "# need to run venn diagram for same tool for all depths\n",
    "\n",
    "# need to run \n",
    "\n",
    "# 위 결과는 Strict 한 것 만 진행할 것\n"
   ]
  },
  {
   "cell_type": "code",
   "execution_count": 11,
   "metadata": {},
   "outputs": [
    {
     "data": {
      "text/html": [
       "<div>\n",
       "<style scoped>\n",
       "    .dataframe tbody tr th:only-of-type {\n",
       "        vertical-align: middle;\n",
       "    }\n",
       "\n",
       "    .dataframe tbody tr th {\n",
       "        vertical-align: top;\n",
       "    }\n",
       "\n",
       "    .dataframe thead th {\n",
       "        text-align: right;\n",
       "    }\n",
       "</style>\n",
       "<table border=\"1\" class=\"dataframe\">\n",
       "  <thead>\n",
       "    <tr style=\"text-align: right;\">\n",
       "      <th></th>\n",
       "      <th>cellLineName</th>\n",
       "      <th>mixedRatio</th>\n",
       "      <th>class</th>\n",
       "      <th>filePath</th>\n",
       "      <th>backBone</th>\n",
       "      <th>count</th>\n",
       "    </tr>\n",
       "  </thead>\n",
       "  <tbody>\n",
       "    <tr>\n",
       "      <th>0</th>\n",
       "      <td>HG00438</td>\n",
       "      <td>0.5</td>\n",
       "      <td>Alu</td>\n",
       "      <td>/n/data1/bch/genetics/lee/projects/SMaHT/gold_...</td>\n",
       "      <td>False</td>\n",
       "      <td>1220</td>\n",
       "    </tr>\n",
       "    <tr>\n",
       "      <th>1</th>\n",
       "      <td>HG00438</td>\n",
       "      <td>0.5</td>\n",
       "      <td>L1</td>\n",
       "      <td>/n/data1/bch/genetics/lee/projects/SMaHT/gold_...</td>\n",
       "      <td>False</td>\n",
       "      <td>267</td>\n",
       "    </tr>\n",
       "    <tr>\n",
       "      <th>2</th>\n",
       "      <td>HG002</td>\n",
       "      <td>2.0</td>\n",
       "      <td>Alu</td>\n",
       "      <td>/n/data1/bch/genetics/lee/projects/SMaHT/gold_...</td>\n",
       "      <td>False</td>\n",
       "      <td>1188</td>\n",
       "    </tr>\n",
       "    <tr>\n",
       "      <th>3</th>\n",
       "      <td>HG002</td>\n",
       "      <td>2.0</td>\n",
       "      <td>L1</td>\n",
       "      <td>/n/data1/bch/genetics/lee/projects/SMaHT/gold_...</td>\n",
       "      <td>False</td>\n",
       "      <td>233</td>\n",
       "    </tr>\n",
       "    <tr>\n",
       "      <th>4</th>\n",
       "      <td>HG02257</td>\n",
       "      <td>2.0</td>\n",
       "      <td>Alu</td>\n",
       "      <td>/n/data1/bch/genetics/lee/projects/SMaHT/gold_...</td>\n",
       "      <td>False</td>\n",
       "      <td>1520</td>\n",
       "    </tr>\n",
       "    <tr>\n",
       "      <th>5</th>\n",
       "      <td>HG02257</td>\n",
       "      <td>2.0</td>\n",
       "      <td>L1</td>\n",
       "      <td>/n/data1/bch/genetics/lee/projects/SMaHT/gold_...</td>\n",
       "      <td>False</td>\n",
       "      <td>286</td>\n",
       "    </tr>\n",
       "    <tr>\n",
       "      <th>6</th>\n",
       "      <td>HG02486</td>\n",
       "      <td>2.0</td>\n",
       "      <td>Alu</td>\n",
       "      <td>/n/data1/bch/genetics/lee/projects/SMaHT/gold_...</td>\n",
       "      <td>False</td>\n",
       "      <td>1458</td>\n",
       "    </tr>\n",
       "    <tr>\n",
       "      <th>7</th>\n",
       "      <td>HG02486</td>\n",
       "      <td>2.0</td>\n",
       "      <td>L1</td>\n",
       "      <td>/n/data1/bch/genetics/lee/projects/SMaHT/gold_...</td>\n",
       "      <td>False</td>\n",
       "      <td>333</td>\n",
       "    </tr>\n",
       "    <tr>\n",
       "      <th>8</th>\n",
       "      <td>HG02622</td>\n",
       "      <td>10.0</td>\n",
       "      <td>Alu</td>\n",
       "      <td>/n/data1/bch/genetics/lee/projects/SMaHT/gold_...</td>\n",
       "      <td>False</td>\n",
       "      <td>1539</td>\n",
       "    </tr>\n",
       "    <tr>\n",
       "      <th>9</th>\n",
       "      <td>HG02622</td>\n",
       "      <td>10.0</td>\n",
       "      <td>L1</td>\n",
       "      <td>/n/data1/bch/genetics/lee/projects/SMaHT/gold_...</td>\n",
       "      <td>False</td>\n",
       "      <td>320</td>\n",
       "    </tr>\n",
       "    <tr>\n",
       "      <th>10</th>\n",
       "      <td>HG005</td>\n",
       "      <td>83.5</td>\n",
       "      <td>Alu</td>\n",
       "      <td>/n/data1/bch/genetics/lee/projects/SMaHT/gold_...</td>\n",
       "      <td>True</td>\n",
       "      <td>1196</td>\n",
       "    </tr>\n",
       "    <tr>\n",
       "      <th>11</th>\n",
       "      <td>HG005</td>\n",
       "      <td>83.5</td>\n",
       "      <td>L1</td>\n",
       "      <td>/n/data1/bch/genetics/lee/projects/SMaHT/gold_...</td>\n",
       "      <td>True</td>\n",
       "      <td>253</td>\n",
       "    </tr>\n",
       "  </tbody>\n",
       "</table>\n",
       "</div>"
      ],
      "text/plain": [
       "   cellLineName  mixedRatio class  \\\n",
       "0       HG00438         0.5   Alu   \n",
       "1       HG00438         0.5    L1   \n",
       "2         HG002         2.0   Alu   \n",
       "3         HG002         2.0    L1   \n",
       "4       HG02257         2.0   Alu   \n",
       "5       HG02257         2.0    L1   \n",
       "6       HG02486         2.0   Alu   \n",
       "7       HG02486         2.0    L1   \n",
       "8       HG02622        10.0   Alu   \n",
       "9       HG02622        10.0    L1   \n",
       "10        HG005        83.5   Alu   \n",
       "11        HG005        83.5    L1   \n",
       "\n",
       "                                             filePath  backBone  count  \n",
       "0   /n/data1/bch/genetics/lee/projects/SMaHT/gold_...     False   1220  \n",
       "1   /n/data1/bch/genetics/lee/projects/SMaHT/gold_...     False    267  \n",
       "2   /n/data1/bch/genetics/lee/projects/SMaHT/gold_...     False   1188  \n",
       "3   /n/data1/bch/genetics/lee/projects/SMaHT/gold_...     False    233  \n",
       "4   /n/data1/bch/genetics/lee/projects/SMaHT/gold_...     False   1520  \n",
       "5   /n/data1/bch/genetics/lee/projects/SMaHT/gold_...     False    286  \n",
       "6   /n/data1/bch/genetics/lee/projects/SMaHT/gold_...     False   1458  \n",
       "7   /n/data1/bch/genetics/lee/projects/SMaHT/gold_...     False    333  \n",
       "8   /n/data1/bch/genetics/lee/projects/SMaHT/gold_...     False   1539  \n",
       "9   /n/data1/bch/genetics/lee/projects/SMaHT/gold_...     False    320  \n",
       "10  /n/data1/bch/genetics/lee/projects/SMaHT/gold_...      True   1196  \n",
       "11  /n/data1/bch/genetics/lee/projects/SMaHT/gold_...      True    253  "
      ]
     },
     "execution_count": 11,
     "metadata": {},
     "output_type": "execute_result"
    }
   ],
   "source": [
    "goldStandardDF"
   ]
  },
  {
   "cell_type": "code",
   "execution_count": 12,
   "metadata": {},
   "outputs": [
    {
     "data": {
      "text/html": [
       "<div>\n",
       "<style scoped>\n",
       "    .dataframe tbody tr th:only-of-type {\n",
       "        vertical-align: middle;\n",
       "    }\n",
       "\n",
       "    .dataframe tbody tr th {\n",
       "        vertical-align: top;\n",
       "    }\n",
       "\n",
       "    .dataframe thead th {\n",
       "        text-align: right;\n",
       "    }\n",
       "</style>\n",
       "<table border=\"1\" class=\"dataframe\">\n",
       "  <thead>\n",
       "    <tr style=\"text-align: right;\">\n",
       "      <th></th>\n",
       "      <th>toolName</th>\n",
       "      <th>depth</th>\n",
       "      <th>class</th>\n",
       "      <th>filePath</th>\n",
       "      <th>count</th>\n",
       "    </tr>\n",
       "  </thead>\n",
       "  <tbody>\n",
       "    <tr>\n",
       "      <th>0</th>\n",
       "      <td>RetroSom</td>\n",
       "      <td>50x</td>\n",
       "      <td>Alu</td>\n",
       "      <td>/n/data1/bch/genetics/lee/projects/SMaHT/resul...</td>\n",
       "      <td>263</td>\n",
       "    </tr>\n",
       "    <tr>\n",
       "      <th>1</th>\n",
       "      <td>RetroSom</td>\n",
       "      <td>50x</td>\n",
       "      <td>L1</td>\n",
       "      <td>/n/data1/bch/genetics/lee/projects/SMaHT/resul...</td>\n",
       "      <td>68</td>\n",
       "    </tr>\n",
       "    <tr>\n",
       "      <th>2</th>\n",
       "      <td>RetroSom</td>\n",
       "      <td>100x</td>\n",
       "      <td>L1</td>\n",
       "      <td>/n/data1/bch/genetics/lee/projects/SMaHT/resul...</td>\n",
       "      <td>64</td>\n",
       "    </tr>\n",
       "    <tr>\n",
       "      <th>3</th>\n",
       "      <td>RetroSom</td>\n",
       "      <td>200x</td>\n",
       "      <td>L1</td>\n",
       "      <td>/n/data1/bch/genetics/lee/projects/SMaHT/resul...</td>\n",
       "      <td>51</td>\n",
       "    </tr>\n",
       "    <tr>\n",
       "      <th>4</th>\n",
       "      <td>RetroSom</td>\n",
       "      <td>300x</td>\n",
       "      <td>L1</td>\n",
       "      <td>/n/data1/bch/genetics/lee/projects/SMaHT/resul...</td>\n",
       "      <td>75</td>\n",
       "    </tr>\n",
       "    <tr>\n",
       "      <th>5</th>\n",
       "      <td>xTea-mosaic</td>\n",
       "      <td>50x</td>\n",
       "      <td>Alu</td>\n",
       "      <td>/n/data1/bch/genetics/lee/projects/SMaHT/resul...</td>\n",
       "      <td>1271</td>\n",
       "    </tr>\n",
       "    <tr>\n",
       "      <th>6</th>\n",
       "      <td>xTea-mosaic</td>\n",
       "      <td>50x</td>\n",
       "      <td>L1</td>\n",
       "      <td>/n/data1/bch/genetics/lee/projects/SMaHT/resul...</td>\n",
       "      <td>201</td>\n",
       "    </tr>\n",
       "    <tr>\n",
       "      <th>7</th>\n",
       "      <td>xTea-mosaic</td>\n",
       "      <td>100x</td>\n",
       "      <td>Alu</td>\n",
       "      <td>/n/data1/bch/genetics/lee/projects/SMaHT/resul...</td>\n",
       "      <td>1364</td>\n",
       "    </tr>\n",
       "    <tr>\n",
       "      <th>8</th>\n",
       "      <td>xTea-mosaic</td>\n",
       "      <td>100x</td>\n",
       "      <td>L1</td>\n",
       "      <td>/n/data1/bch/genetics/lee/projects/SMaHT/resul...</td>\n",
       "      <td>230</td>\n",
       "    </tr>\n",
       "    <tr>\n",
       "      <th>9</th>\n",
       "      <td>xTea-mosaic</td>\n",
       "      <td>200x</td>\n",
       "      <td>Alu</td>\n",
       "      <td>/n/data1/bch/genetics/lee/projects/SMaHT/resul...</td>\n",
       "      <td>1464</td>\n",
       "    </tr>\n",
       "    <tr>\n",
       "      <th>10</th>\n",
       "      <td>xTea-mosaic</td>\n",
       "      <td>200x</td>\n",
       "      <td>L1</td>\n",
       "      <td>/n/data1/bch/genetics/lee/projects/SMaHT/resul...</td>\n",
       "      <td>245</td>\n",
       "    </tr>\n",
       "    <tr>\n",
       "      <th>11</th>\n",
       "      <td>xTea-mosaic</td>\n",
       "      <td>300x</td>\n",
       "      <td>Alu</td>\n",
       "      <td>/n/data1/bch/genetics/lee/projects/SMaHT/resul...</td>\n",
       "      <td>1596</td>\n",
       "    </tr>\n",
       "    <tr>\n",
       "      <th>12</th>\n",
       "      <td>xTea-mosaic</td>\n",
       "      <td>300x</td>\n",
       "      <td>L1</td>\n",
       "      <td>/n/data1/bch/genetics/lee/projects/SMaHT/resul...</td>\n",
       "      <td>293</td>\n",
       "    </tr>\n",
       "    <tr>\n",
       "      <th>13</th>\n",
       "      <td>xTea</td>\n",
       "      <td>50x</td>\n",
       "      <td>Alu</td>\n",
       "      <td>/n/data1/bch/genetics/lee/projects/SMaHT/resul...</td>\n",
       "      <td>1272</td>\n",
       "    </tr>\n",
       "    <tr>\n",
       "      <th>14</th>\n",
       "      <td>xTea</td>\n",
       "      <td>50x</td>\n",
       "      <td>L1</td>\n",
       "      <td>/n/data1/bch/genetics/lee/projects/SMaHT/resul...</td>\n",
       "      <td>202</td>\n",
       "    </tr>\n",
       "    <tr>\n",
       "      <th>15</th>\n",
       "      <td>xTea</td>\n",
       "      <td>100x</td>\n",
       "      <td>Alu</td>\n",
       "      <td>/n/data1/bch/genetics/lee/projects/SMaHT/resul...</td>\n",
       "      <td>1364</td>\n",
       "    </tr>\n",
       "    <tr>\n",
       "      <th>16</th>\n",
       "      <td>xTea</td>\n",
       "      <td>100x</td>\n",
       "      <td>L1</td>\n",
       "      <td>/n/data1/bch/genetics/lee/projects/SMaHT/resul...</td>\n",
       "      <td>229</td>\n",
       "    </tr>\n",
       "    <tr>\n",
       "      <th>17</th>\n",
       "      <td>xTea</td>\n",
       "      <td>200x</td>\n",
       "      <td>Alu</td>\n",
       "      <td>/n/data1/bch/genetics/lee/projects/SMaHT/resul...</td>\n",
       "      <td>1462</td>\n",
       "    </tr>\n",
       "    <tr>\n",
       "      <th>18</th>\n",
       "      <td>xTea</td>\n",
       "      <td>200x</td>\n",
       "      <td>L1</td>\n",
       "      <td>/n/data1/bch/genetics/lee/projects/SMaHT/resul...</td>\n",
       "      <td>246</td>\n",
       "    </tr>\n",
       "    <tr>\n",
       "      <th>19</th>\n",
       "      <td>xTea</td>\n",
       "      <td>300x</td>\n",
       "      <td>Alu</td>\n",
       "      <td>/n/data1/bch/genetics/lee/projects/SMaHT/resul...</td>\n",
       "      <td>1596</td>\n",
       "    </tr>\n",
       "    <tr>\n",
       "      <th>20</th>\n",
       "      <td>xTea</td>\n",
       "      <td>300x</td>\n",
       "      <td>L1</td>\n",
       "      <td>/n/data1/bch/genetics/lee/projects/SMaHT/resul...</td>\n",
       "      <td>293</td>\n",
       "    </tr>\n",
       "  </tbody>\n",
       "</table>\n",
       "</div>"
      ],
      "text/plain": [
       "       toolName depth class  \\\n",
       "0      RetroSom   50x   Alu   \n",
       "1      RetroSom   50x    L1   \n",
       "2      RetroSom  100x    L1   \n",
       "3      RetroSom  200x    L1   \n",
       "4      RetroSom  300x    L1   \n",
       "5   xTea-mosaic   50x   Alu   \n",
       "6   xTea-mosaic   50x    L1   \n",
       "7   xTea-mosaic  100x   Alu   \n",
       "8   xTea-mosaic  100x    L1   \n",
       "9   xTea-mosaic  200x   Alu   \n",
       "10  xTea-mosaic  200x    L1   \n",
       "11  xTea-mosaic  300x   Alu   \n",
       "12  xTea-mosaic  300x    L1   \n",
       "13         xTea   50x   Alu   \n",
       "14         xTea   50x    L1   \n",
       "15         xTea  100x   Alu   \n",
       "16         xTea  100x    L1   \n",
       "17         xTea  200x   Alu   \n",
       "18         xTea  200x    L1   \n",
       "19         xTea  300x   Alu   \n",
       "20         xTea  300x    L1   \n",
       "\n",
       "                                             filePath  count  \n",
       "0   /n/data1/bch/genetics/lee/projects/SMaHT/resul...    263  \n",
       "1   /n/data1/bch/genetics/lee/projects/SMaHT/resul...     68  \n",
       "2   /n/data1/bch/genetics/lee/projects/SMaHT/resul...     64  \n",
       "3   /n/data1/bch/genetics/lee/projects/SMaHT/resul...     51  \n",
       "4   /n/data1/bch/genetics/lee/projects/SMaHT/resul...     75  \n",
       "5   /n/data1/bch/genetics/lee/projects/SMaHT/resul...   1271  \n",
       "6   /n/data1/bch/genetics/lee/projects/SMaHT/resul...    201  \n",
       "7   /n/data1/bch/genetics/lee/projects/SMaHT/resul...   1364  \n",
       "8   /n/data1/bch/genetics/lee/projects/SMaHT/resul...    230  \n",
       "9   /n/data1/bch/genetics/lee/projects/SMaHT/resul...   1464  \n",
       "10  /n/data1/bch/genetics/lee/projects/SMaHT/resul...    245  \n",
       "11  /n/data1/bch/genetics/lee/projects/SMaHT/resul...   1596  \n",
       "12  /n/data1/bch/genetics/lee/projects/SMaHT/resul...    293  \n",
       "13  /n/data1/bch/genetics/lee/projects/SMaHT/resul...   1272  \n",
       "14  /n/data1/bch/genetics/lee/projects/SMaHT/resul...    202  \n",
       "15  /n/data1/bch/genetics/lee/projects/SMaHT/resul...   1364  \n",
       "16  /n/data1/bch/genetics/lee/projects/SMaHT/resul...    229  \n",
       "17  /n/data1/bch/genetics/lee/projects/SMaHT/resul...   1462  \n",
       "18  /n/data1/bch/genetics/lee/projects/SMaHT/resul...    246  \n",
       "19  /n/data1/bch/genetics/lee/projects/SMaHT/resul...   1596  \n",
       "20  /n/data1/bch/genetics/lee/projects/SMaHT/resul...    293  "
      ]
     },
     "execution_count": 12,
     "metadata": {},
     "output_type": "execute_result"
    }
   ],
   "source": [
    "resultBedDF"
   ]
  },
  {
   "cell_type": "code",
   "execution_count": 14,
   "metadata": {},
   "outputs": [],
   "source": [
    "# Add counts above\n",
    "# Need to draw upset figure here? "
   ]
  },
  {
   "cell_type": "markdown",
   "metadata": {},
   "source": [
    "# 4. Calculate TP, FP, FN and a contingency table "
   ]
  },
  {
   "cell_type": "code",
   "execution_count": 13,
   "metadata": {},
   "outputs": [],
   "source": [
    "def getUniqueWithWindowFromBeds (bed, other_beds, l=100, r=100):\n",
    "    unique = bed\n",
    "    for other_bed in other_beds:\n",
    "        unique = unique.window(b=other_bed, l=l, r=r, v=True)\n",
    "    unique = unique.sort()\n",
    "    \n",
    "    return unique\n",
    "\n",
    "def getUnionBed(beds):\n",
    "    union = beds[0]\n",
    "    #print(len(union))\n",
    "    for bed in beds[1:]:\n",
    "        union = union.cat(bed, postmerge=False)\n",
    "        #print(len(union))\n",
    "    union = union.sort().merge()\n",
    "    \n",
    "    return union\n",
    "\n",
    "def getIntersectBed(beds, l=100, r=100):\n",
    "    intersection = beds[0]\n",
    "    for bed in beds[1:]:\n",
    "        intersection = intersection.window(b=bed, l=l, r=r)\n",
    "    return intersection"
   ]
  },
  {
   "cell_type": "code",
   "execution_count": 14,
   "metadata": {},
   "outputs": [],
   "source": [
    "def getResultDF(toolName, teClass, depth, vaf, windowSize, resultBedDF, goldStandardDF):\n",
    "    resultColumns = ['toolName','teClass','depth', 'vaf', 'windowSize','totalEvents','TP','FP', 'FN','precision','recall']\n",
    "    resultdDF = pd.DataFrame(columns= resultColumns)\n",
    "\n",
    "\n",
    "    # Load Bed Files : This would be loop for all the results\n",
    "    caseBedFile = resultBedDF[(resultBedDF['toolName'] == toolName) &\n",
    "                        (resultBedDF['depth'] == depth) &\n",
    "                        (resultBedDF['class'] == teClass)]['filePath'].tolist()[0]\n",
    "    caseBed = BedTool(caseBedFile)\n",
    "\n",
    "    controlBedFile = goldStandardDF[(goldStandardDF['class'] == teClass) &\n",
    "                                (goldStandardDF['backBone'] == True)]['filePath'].tolist()[0]\n",
    "    controlBed = BedTool(controlBedFile)\n",
    "\n",
    "    answerBedFiles = goldStandardDF[(goldStandardDF['class'] == teClass) &\n",
    "                                (goldStandardDF['backBone'] == False)]['filePath'].tolist()\n",
    "    answerBeds = [BedTool(bed_file) for bed_file in answerBedFiles]\n",
    "\n",
    "\n",
    "    # False Positive\n",
    "    # (case) - (control) - Union (GoldStandard)\n",
    "    FP_bed = getUniqueWithWindowFromBeds(caseBed, [controlBed, getUnionBed(answerBeds)],windowSize,windowSize)\n",
    "    \n",
    "    # True Positive\n",
    "    # (1) Unique MEI\n",
    "    targetAnswerBedFiles = goldStandardDF[(goldStandardDF['class'] == teClass) & \n",
    "                                    (goldStandardDF['backBone'] == False) &\n",
    "                                    (goldStandardDF['mixedRatio'] == vaf)]['filePath'].tolist()\n",
    "\n",
    "    targetControlBedFiles = [item for item in answerBedFiles if item not in targetAnswerBedFiles]\n",
    "    targetControlBedFiles.append(controlBedFile)\n",
    "\n",
    "    if len(targetAnswerBedFiles) > 1 :\n",
    "        targetAnswerBed = getUnionBed([BedTool(bed_file) for bed_file in targetAnswerBedFiles])\n",
    "    else:\n",
    "        targetAnswerBed = BedTool(targetAnswerBedFiles[0])\n",
    "\n",
    "    targetControlBed = [BedTool(bed_file) for bed_file in targetControlBedFiles]\n",
    "    uniqueBed = getUniqueWithWindowFromBeds(targetAnswerBed,[getUnionBed(targetControlBed)], windowSize, windowSize)\n",
    "\n",
    "    # (2) Get True Positive\n",
    "    TP_bed = getIntersectBed([getUniqueWithWindowFromBeds(caseBed, [controlBed], windowSize, windowSize), uniqueBed],\n",
    "                            windowSize, windowSize)\n",
    "\n",
    "    # False Negative\n",
    "    FN_bed = getUniqueWithWindowFromBeds(caseBed, [TP_bed], windowSize, windowSize)\n",
    "    \n",
    "    \n",
    "    # Recalcuations (ingore the previous codes for FN and FP), 6/12\n",
    "    FP = len(caseBed) - len(TP_bed)\n",
    "    FN = len(uniqueBed) - len(TP_bed)\n",
    "\n",
    "    # Precision and Recall\n",
    "    #precision = len(TP_bed) / (len(TP_bed) + len(FP_bed))\n",
    "    precision = len(TP_bed) / (len(TP_bed) + FP)\n",
    "    #recall = len(TP_bed) / (len(TP_bed) + len(FN_bed))\n",
    "    recall = len(TP_bed) / (len(TP_bed) + FN)\n",
    "    \n",
    "    # total results\n",
    "    #resultdDF.loc[len(resultdDF)] = [toolName, teClass, depth, vaf, windowSize, len(caseBed), len(TP_bed), len(FP_bed), len(FN_bed), precision, recall]\n",
    "    resultdDF.loc[len(resultdDF)] = [toolName, teClass, depth, vaf, windowSize, len(caseBed), len(TP_bed), FP, FN, precision, recall]\n",
    "    \n",
    "    # need to save each results\n",
    "    \n",
    "    return resultdDF\n",
    "    \n",
    "    \n"
   ]
  },
  {
   "cell_type": "code",
   "execution_count": 17,
   "metadata": {},
   "outputs": [
    {
     "data": {
      "application/vnd.jupyter.widget-view+json": {
       "model_id": "783dd6a725ee422e9905605c2ed41790",
       "version_major": 2,
       "version_minor": 0
      },
      "text/plain": [
       "Processing combinations:   0%|          | 0/720 [00:00<?, ?it/s]"
      ]
     },
     "metadata": {},
     "output_type": "display_data"
    },
    {
     "name": "stdout",
     "output_type": "stream",
     "text": [
      "     toolName teClass depth   vaf  windowSize  totalEvents  TP   FP   FN  \\\n",
      "0    RetroSom      L1   50x   0.5           0           68   0   68   68   \n",
      "1    RetroSom      L1   50x   2.0           0           68   0   68  306   \n",
      "2    RetroSom      L1   50x  10.0           0           68   1   67  126   \n",
      "3    RetroSom      L1  100x   0.5           0           64   0   64   68   \n",
      "4    RetroSom      L1  100x   2.0           0           64   1   63  305   \n",
      "..        ...     ...   ...   ...         ...          ...  ..  ...  ...   \n",
      "427      xTea      L1  200x   2.0        1000          246   0  246  251   \n",
      "428      xTea      L1  200x  10.0        1000          246   0  246  101   \n",
      "429      xTea      L1  300x   0.5        1000          293   0  293   55   \n",
      "430      xTea      L1  300x   2.0        1000          293   0  293  251   \n",
      "431      xTea      L1  300x  10.0        1000          293   5  288   96   \n",
      "\n",
      "     precision    recall  \n",
      "0     0.000000  0.000000  \n",
      "1     0.000000  0.000000  \n",
      "2     0.014706  0.007874  \n",
      "3     0.000000  0.000000  \n",
      "4     0.015625  0.003268  \n",
      "..         ...       ...  \n",
      "427   0.000000  0.000000  \n",
      "428   0.000000  0.000000  \n",
      "429   0.000000  0.000000  \n",
      "430   0.000000  0.000000  \n",
      "431   0.017065  0.049505  \n",
      "\n",
      "[432 rows x 11 columns]\n"
     ]
    }
   ],
   "source": [
    "# Initial values\n",
    "initial_values = [0, 50, 100]\n",
    "\n",
    "# Generate values from 200 to 1000 with a step of 100\n",
    "incremental_values = list(range(200, 1100, 100))\n",
    "\n",
    "# Concatenate the lists\n",
    "window_sizes = initial_values + incremental_values\n",
    "\n",
    "teClass = \"L1\"\n",
    "\n",
    "vafCheck = 0\n",
    "filteredCellLinesAndMixtureRatio = {k: v for k, v in cellLinesAndMixtureRatio.items() if k != backBoneCellLineName}\n",
    "\n",
    "\n",
    "all_result_combinations = []\n",
    "for idx, window_size in enumerate(window_sizes, start=1):\n",
    "    resultCombinations = list(itertools.product(\n",
    "        toolAndResultDirectory.keys(),\n",
    "        sampleDepths,\n",
    "        filteredCellLinesAndMixtureRatio.values(),\n",
    "        [window_size]\n",
    "    ))\n",
    "    if idx > 1:\n",
    "        all_result_combinations += resultCombinations\n",
    "    else:\n",
    "        all_result_combinations = resultCombinations\n",
    "\n",
    "results = []\n",
    "\n",
    "calculateResults = lambda toolName, sampleDepth, vaf, window_size: (\n",
    "    (results.append(getResultDF(toolName, teClass,sampleDepth,vaf, window_size, resultBedDF, goldStandardDF)) )\n",
    "    if (globals().update(vafCheck=vaf) if vafCheck != vaf else False) is None else None\n",
    ")\n",
    "\n",
    "progress_bar = tqdm(all_result_combinations, desc=\"Processing combinations\")\n",
    "for toolName, sampleDepth, vaf, window_size in progress_bar:\n",
    "    progress_bar.set_description(f\"Processing: {toolName} {sampleDepth} {vaf} {window_size}\")\n",
    "    calculateResults(toolName, sampleDepth, vaf, window_size)\n",
    "\n",
    "# Concatenate all DataFrames into a single DataFrame\n",
    "resultDF = pd.concat(results, ignore_index=True)\n",
    "\n",
    "# Display the final DataFrame\n",
    "print(resultDF)"
   ]
  },
  {
   "cell_type": "code",
   "execution_count": 15,
   "metadata": {},
   "outputs": [
    {
     "name": "stdout",
     "output_type": "stream",
     "text": [
      "DataFrames have been saved to results/resultComparisons/HapMapMix/06122024-hapmapmix.xlsx\n"
     ]
    }
   ],
   "source": [
    "current_date = datetime.now()\n",
    "formatted_date = current_date.strftime('%m%d%Y')\n",
    "resultExcelFile = os.path.join(resultExcelPath,formatted_date+'-'+resultExcelFileName+'.xlsx')\n",
    "# with pd.ExcelWriter(resultExcelFile, engine='xlsxwriter') as writer:\n",
    "#     resultDF.to_excel(writer, sheet_name='result', index=False)\n",
    "#     resultBedDF.to_excel(writer, sheet_name='resultBeds', index=False)\n",
    "#     goldStandardDF.to_excel(writer, sheet_name='goldStandards', index=False) \n",
    "\n",
    "print(\"DataFrames have been saved to \" + resultExcelFile)"
   ]
  },
  {
   "cell_type": "code",
   "execution_count": 18,
   "metadata": {},
   "outputs": [],
   "source": [
    "resultDF = pd.read_excel(resultExcelFile, sheet_name=\"result\")"
   ]
  },
  {
   "cell_type": "markdown",
   "metadata": {},
   "source": [
    "# 5. Check the results with figures"
   ]
  },
  {
   "cell_type": "code",
   "execution_count": 19,
   "metadata": {},
   "outputs": [
    {
     "data": {
      "application/vnd.jupyter.widget-view+json": {
       "model_id": "5f420cbf8ff0401d8500739668d4e8ed",
       "version_major": 2,
       "version_minor": 0
      },
      "text/plain": [
       "Box(children=(HTML(value='<div id=\"ifr-pyg-00061ab3af674834FGkJThP7pMmZwlEH\" style=\"height: auto\">\\n    <head>…"
      ]
     },
     "metadata": {},
     "output_type": "display_data"
    },
    {
     "data": {
      "text/html": [],
      "text/plain": [
       "<IPython.core.display.HTML object>"
      ]
     },
     "metadata": {},
     "output_type": "display_data"
    }
   ],
   "source": [
    "walker = pyg.walk(resultDF)"
   ]
  },
  {
   "cell_type": "markdown",
   "metadata": {},
   "source": [
    "## 5.1. Venn Diagram for Result Set"
   ]
  },
  {
   "cell_type": "code",
   "execution_count": null,
   "metadata": {},
   "outputs": [],
   "source": []
  },
  {
   "cell_type": "markdown",
   "metadata": {},
   "source": [
    "## 5.2. Upset Plot"
   ]
  },
  {
   "cell_type": "code",
   "execution_count": null,
   "metadata": {},
   "outputs": [],
   "source": []
  },
  {
   "cell_type": "markdown",
   "metadata": {},
   "source": [
    "## 5.2. Performance Plot"
   ]
  },
  {
   "cell_type": "code",
   "execution_count": 19,
   "metadata": {},
   "outputs": [],
   "source": [
    "def create_line_plot(df, x_column, y_column, colour_column, x_label, y_label, title):\n",
    "    \"\"\"\n",
    "    Create a line plot using Plotly Express.\n",
    "\n",
    "    Parameters:\n",
    "    - df (pd.DataFrame): DataFrame containing the data.\n",
    "    - x_column (str): Column for the x-axis.\n",
    "    - y_column (str): Column for the y-axis.\n",
    "    - x_label (str): Label for the x-axis.\n",
    "    - y_label (str): Label for the y-axis.\n",
    "    - title (str): Title of the plot.\n",
    "\n",
    "    Returns:\n",
    "    - None\n",
    "    \"\"\"\n",
    "    \n",
    "\n",
    "    fig = px.line(df, x=x_column, y=y_column, color=colour_column, markers=True,\n",
    "#                  line_group=colour_column, \n",
    "                  color_discrete_sequence=px.colors.qualitative.Set1,\n",
    "                  symbol=colour_column, symbol_sequence=[1, 3, 16, 17])\n",
    "\n",
    "    fig.update_traces(marker=dict(size=10))\n",
    "\n",
    "    fig.update_layout(\n",
    "        width=600,\n",
    "        xaxis_title=x_label,\n",
    "        yaxis_title=y_label,\n",
    "        xaxis=dict(\n",
    "            type='log',\n",
    "            tickvals=[0.04, 0.2, 1, 5, 25],\n",
    "            range=[-2, 3.25]\n",
    "        ),\n",
    "        yaxis=dict(\n",
    "            range=[0, 1.1],\n",
    "            tickvals=[0, 0.2, 0.4, 0.6, 0.8, 1]\n",
    "        ),\n",
    "        legend=dict(\n",
    "            traceorder='normal',\n",
    "            orientation='v',\n",
    "            y=1.1,\n",
    "            x=0.01,\n",
    "            font=dict(size=16),\n",
    "            title=dict(text=colour_column, font=dict(size=18, color='black'))\n",
    "        ),\n",
    "        font=dict(\n",
    "            family=\"Arial, sans-serif\",\n",
    "            size=18,\n",
    "            color=\"RebeccaPurple\"\n",
    "        ),\n",
    "        title=title\n",
    "    )\n",
    "\n",
    "    fig.show()\n"
   ]
  },
  {
   "cell_type": "code",
   "execution_count": 29,
   "metadata": {},
   "outputs": [],
   "source": [
    "windowSize = 1000"
   ]
  },
  {
   "cell_type": "code",
   "execution_count": 30,
   "metadata": {},
   "outputs": [],
   "source": [
    "figureCombinations = itertools.product(\n",
    "        toolAndResultDirectory.keys(),\n",
    "        teClasses)"
   ]
  },
  {
   "cell_type": "code",
   "execution_count": 31,
   "metadata": {},
   "outputs": [
    {
     "data": {
      "application/vnd.plotly.v1+json": {
       "config": {
        "plotlyServerURL": "https://plot.ly"
       },
       "data": [],
       "layout": {
        "font": {
         "color": "RebeccaPurple",
         "family": "Arial, sans-serif",
         "size": 18
        },
        "legend": {
         "font": {
          "size": 16
         },
         "orientation": "v",
         "title": {
          "font": {
           "color": "black",
           "size": 18
          },
          "text": "depth"
         },
         "tracegroupgap": 0,
         "traceorder": "normal",
         "x": 0.01,
         "y": 1.1
        },
        "margin": {
         "t": 60
        },
        "template": {
         "data": {
          "bar": [
           {
            "error_x": {
             "color": "#2a3f5f"
            },
            "error_y": {
             "color": "#2a3f5f"
            },
            "marker": {
             "line": {
              "color": "#E5ECF6",
              "width": 0.5
             },
             "pattern": {
              "fillmode": "overlay",
              "size": 10,
              "solidity": 0.2
             }
            },
            "type": "bar"
           }
          ],
          "barpolar": [
           {
            "marker": {
             "line": {
              "color": "#E5ECF6",
              "width": 0.5
             },
             "pattern": {
              "fillmode": "overlay",
              "size": 10,
              "solidity": 0.2
             }
            },
            "type": "barpolar"
           }
          ],
          "carpet": [
           {
            "aaxis": {
             "endlinecolor": "#2a3f5f",
             "gridcolor": "white",
             "linecolor": "white",
             "minorgridcolor": "white",
             "startlinecolor": "#2a3f5f"
            },
            "baxis": {
             "endlinecolor": "#2a3f5f",
             "gridcolor": "white",
             "linecolor": "white",
             "minorgridcolor": "white",
             "startlinecolor": "#2a3f5f"
            },
            "type": "carpet"
           }
          ],
          "choropleth": [
           {
            "colorbar": {
             "outlinewidth": 0,
             "ticks": ""
            },
            "type": "choropleth"
           }
          ],
          "contour": [
           {
            "colorbar": {
             "outlinewidth": 0,
             "ticks": ""
            },
            "colorscale": [
             [
              0,
              "#0d0887"
             ],
             [
              0.1111111111111111,
              "#46039f"
             ],
             [
              0.2222222222222222,
              "#7201a8"
             ],
             [
              0.3333333333333333,
              "#9c179e"
             ],
             [
              0.4444444444444444,
              "#bd3786"
             ],
             [
              0.5555555555555556,
              "#d8576b"
             ],
             [
              0.6666666666666666,
              "#ed7953"
             ],
             [
              0.7777777777777778,
              "#fb9f3a"
             ],
             [
              0.8888888888888888,
              "#fdca26"
             ],
             [
              1,
              "#f0f921"
             ]
            ],
            "type": "contour"
           }
          ],
          "contourcarpet": [
           {
            "colorbar": {
             "outlinewidth": 0,
             "ticks": ""
            },
            "type": "contourcarpet"
           }
          ],
          "heatmap": [
           {
            "colorbar": {
             "outlinewidth": 0,
             "ticks": ""
            },
            "colorscale": [
             [
              0,
              "#0d0887"
             ],
             [
              0.1111111111111111,
              "#46039f"
             ],
             [
              0.2222222222222222,
              "#7201a8"
             ],
             [
              0.3333333333333333,
              "#9c179e"
             ],
             [
              0.4444444444444444,
              "#bd3786"
             ],
             [
              0.5555555555555556,
              "#d8576b"
             ],
             [
              0.6666666666666666,
              "#ed7953"
             ],
             [
              0.7777777777777778,
              "#fb9f3a"
             ],
             [
              0.8888888888888888,
              "#fdca26"
             ],
             [
              1,
              "#f0f921"
             ]
            ],
            "type": "heatmap"
           }
          ],
          "heatmapgl": [
           {
            "colorbar": {
             "outlinewidth": 0,
             "ticks": ""
            },
            "colorscale": [
             [
              0,
              "#0d0887"
             ],
             [
              0.1111111111111111,
              "#46039f"
             ],
             [
              0.2222222222222222,
              "#7201a8"
             ],
             [
              0.3333333333333333,
              "#9c179e"
             ],
             [
              0.4444444444444444,
              "#bd3786"
             ],
             [
              0.5555555555555556,
              "#d8576b"
             ],
             [
              0.6666666666666666,
              "#ed7953"
             ],
             [
              0.7777777777777778,
              "#fb9f3a"
             ],
             [
              0.8888888888888888,
              "#fdca26"
             ],
             [
              1,
              "#f0f921"
             ]
            ],
            "type": "heatmapgl"
           }
          ],
          "histogram": [
           {
            "marker": {
             "pattern": {
              "fillmode": "overlay",
              "size": 10,
              "solidity": 0.2
             }
            },
            "type": "histogram"
           }
          ],
          "histogram2d": [
           {
            "colorbar": {
             "outlinewidth": 0,
             "ticks": ""
            },
            "colorscale": [
             [
              0,
              "#0d0887"
             ],
             [
              0.1111111111111111,
              "#46039f"
             ],
             [
              0.2222222222222222,
              "#7201a8"
             ],
             [
              0.3333333333333333,
              "#9c179e"
             ],
             [
              0.4444444444444444,
              "#bd3786"
             ],
             [
              0.5555555555555556,
              "#d8576b"
             ],
             [
              0.6666666666666666,
              "#ed7953"
             ],
             [
              0.7777777777777778,
              "#fb9f3a"
             ],
             [
              0.8888888888888888,
              "#fdca26"
             ],
             [
              1,
              "#f0f921"
             ]
            ],
            "type": "histogram2d"
           }
          ],
          "histogram2dcontour": [
           {
            "colorbar": {
             "outlinewidth": 0,
             "ticks": ""
            },
            "colorscale": [
             [
              0,
              "#0d0887"
             ],
             [
              0.1111111111111111,
              "#46039f"
             ],
             [
              0.2222222222222222,
              "#7201a8"
             ],
             [
              0.3333333333333333,
              "#9c179e"
             ],
             [
              0.4444444444444444,
              "#bd3786"
             ],
             [
              0.5555555555555556,
              "#d8576b"
             ],
             [
              0.6666666666666666,
              "#ed7953"
             ],
             [
              0.7777777777777778,
              "#fb9f3a"
             ],
             [
              0.8888888888888888,
              "#fdca26"
             ],
             [
              1,
              "#f0f921"
             ]
            ],
            "type": "histogram2dcontour"
           }
          ],
          "mesh3d": [
           {
            "colorbar": {
             "outlinewidth": 0,
             "ticks": ""
            },
            "type": "mesh3d"
           }
          ],
          "parcoords": [
           {
            "line": {
             "colorbar": {
              "outlinewidth": 0,
              "ticks": ""
             }
            },
            "type": "parcoords"
           }
          ],
          "pie": [
           {
            "automargin": true,
            "type": "pie"
           }
          ],
          "scatter": [
           {
            "fillpattern": {
             "fillmode": "overlay",
             "size": 10,
             "solidity": 0.2
            },
            "type": "scatter"
           }
          ],
          "scatter3d": [
           {
            "line": {
             "colorbar": {
              "outlinewidth": 0,
              "ticks": ""
             }
            },
            "marker": {
             "colorbar": {
              "outlinewidth": 0,
              "ticks": ""
             }
            },
            "type": "scatter3d"
           }
          ],
          "scattercarpet": [
           {
            "marker": {
             "colorbar": {
              "outlinewidth": 0,
              "ticks": ""
             }
            },
            "type": "scattercarpet"
           }
          ],
          "scattergeo": [
           {
            "marker": {
             "colorbar": {
              "outlinewidth": 0,
              "ticks": ""
             }
            },
            "type": "scattergeo"
           }
          ],
          "scattergl": [
           {
            "marker": {
             "colorbar": {
              "outlinewidth": 0,
              "ticks": ""
             }
            },
            "type": "scattergl"
           }
          ],
          "scattermapbox": [
           {
            "marker": {
             "colorbar": {
              "outlinewidth": 0,
              "ticks": ""
             }
            },
            "type": "scattermapbox"
           }
          ],
          "scatterpolar": [
           {
            "marker": {
             "colorbar": {
              "outlinewidth": 0,
              "ticks": ""
             }
            },
            "type": "scatterpolar"
           }
          ],
          "scatterpolargl": [
           {
            "marker": {
             "colorbar": {
              "outlinewidth": 0,
              "ticks": ""
             }
            },
            "type": "scatterpolargl"
           }
          ],
          "scatterternary": [
           {
            "marker": {
             "colorbar": {
              "outlinewidth": 0,
              "ticks": ""
             }
            },
            "type": "scatterternary"
           }
          ],
          "surface": [
           {
            "colorbar": {
             "outlinewidth": 0,
             "ticks": ""
            },
            "colorscale": [
             [
              0,
              "#0d0887"
             ],
             [
              0.1111111111111111,
              "#46039f"
             ],
             [
              0.2222222222222222,
              "#7201a8"
             ],
             [
              0.3333333333333333,
              "#9c179e"
             ],
             [
              0.4444444444444444,
              "#bd3786"
             ],
             [
              0.5555555555555556,
              "#d8576b"
             ],
             [
              0.6666666666666666,
              "#ed7953"
             ],
             [
              0.7777777777777778,
              "#fb9f3a"
             ],
             [
              0.8888888888888888,
              "#fdca26"
             ],
             [
              1,
              "#f0f921"
             ]
            ],
            "type": "surface"
           }
          ],
          "table": [
           {
            "cells": {
             "fill": {
              "color": "#EBF0F8"
             },
             "line": {
              "color": "white"
             }
            },
            "header": {
             "fill": {
              "color": "#C8D4E3"
             },
             "line": {
              "color": "white"
             }
            },
            "type": "table"
           }
          ]
         },
         "layout": {
          "annotationdefaults": {
           "arrowcolor": "#2a3f5f",
           "arrowhead": 0,
           "arrowwidth": 1
          },
          "autotypenumbers": "strict",
          "coloraxis": {
           "colorbar": {
            "outlinewidth": 0,
            "ticks": ""
           }
          },
          "colorscale": {
           "diverging": [
            [
             0,
             "#8e0152"
            ],
            [
             0.1,
             "#c51b7d"
            ],
            [
             0.2,
             "#de77ae"
            ],
            [
             0.3,
             "#f1b6da"
            ],
            [
             0.4,
             "#fde0ef"
            ],
            [
             0.5,
             "#f7f7f7"
            ],
            [
             0.6,
             "#e6f5d0"
            ],
            [
             0.7,
             "#b8e186"
            ],
            [
             0.8,
             "#7fbc41"
            ],
            [
             0.9,
             "#4d9221"
            ],
            [
             1,
             "#276419"
            ]
           ],
           "sequential": [
            [
             0,
             "#0d0887"
            ],
            [
             0.1111111111111111,
             "#46039f"
            ],
            [
             0.2222222222222222,
             "#7201a8"
            ],
            [
             0.3333333333333333,
             "#9c179e"
            ],
            [
             0.4444444444444444,
             "#bd3786"
            ],
            [
             0.5555555555555556,
             "#d8576b"
            ],
            [
             0.6666666666666666,
             "#ed7953"
            ],
            [
             0.7777777777777778,
             "#fb9f3a"
            ],
            [
             0.8888888888888888,
             "#fdca26"
            ],
            [
             1,
             "#f0f921"
            ]
           ],
           "sequentialminus": [
            [
             0,
             "#0d0887"
            ],
            [
             0.1111111111111111,
             "#46039f"
            ],
            [
             0.2222222222222222,
             "#7201a8"
            ],
            [
             0.3333333333333333,
             "#9c179e"
            ],
            [
             0.4444444444444444,
             "#bd3786"
            ],
            [
             0.5555555555555556,
             "#d8576b"
            ],
            [
             0.6666666666666666,
             "#ed7953"
            ],
            [
             0.7777777777777778,
             "#fb9f3a"
            ],
            [
             0.8888888888888888,
             "#fdca26"
            ],
            [
             1,
             "#f0f921"
            ]
           ]
          },
          "colorway": [
           "#636efa",
           "#EF553B",
           "#00cc96",
           "#ab63fa",
           "#FFA15A",
           "#19d3f3",
           "#FF6692",
           "#B6E880",
           "#FF97FF",
           "#FECB52"
          ],
          "font": {
           "color": "#2a3f5f"
          },
          "geo": {
           "bgcolor": "white",
           "lakecolor": "white",
           "landcolor": "#E5ECF6",
           "showlakes": true,
           "showland": true,
           "subunitcolor": "white"
          },
          "hoverlabel": {
           "align": "left"
          },
          "hovermode": "closest",
          "mapbox": {
           "style": "light"
          },
          "paper_bgcolor": "white",
          "plot_bgcolor": "#E5ECF6",
          "polar": {
           "angularaxis": {
            "gridcolor": "white",
            "linecolor": "white",
            "ticks": ""
           },
           "bgcolor": "#E5ECF6",
           "radialaxis": {
            "gridcolor": "white",
            "linecolor": "white",
            "ticks": ""
           }
          },
          "scene": {
           "xaxis": {
            "backgroundcolor": "#E5ECF6",
            "gridcolor": "white",
            "gridwidth": 2,
            "linecolor": "white",
            "showbackground": true,
            "ticks": "",
            "zerolinecolor": "white"
           },
           "yaxis": {
            "backgroundcolor": "#E5ECF6",
            "gridcolor": "white",
            "gridwidth": 2,
            "linecolor": "white",
            "showbackground": true,
            "ticks": "",
            "zerolinecolor": "white"
           },
           "zaxis": {
            "backgroundcolor": "#E5ECF6",
            "gridcolor": "white",
            "gridwidth": 2,
            "linecolor": "white",
            "showbackground": true,
            "ticks": "",
            "zerolinecolor": "white"
           }
          },
          "shapedefaults": {
           "line": {
            "color": "#2a3f5f"
           }
          },
          "ternary": {
           "aaxis": {
            "gridcolor": "white",
            "linecolor": "white",
            "ticks": ""
           },
           "baxis": {
            "gridcolor": "white",
            "linecolor": "white",
            "ticks": ""
           },
           "bgcolor": "#E5ECF6",
           "caxis": {
            "gridcolor": "white",
            "linecolor": "white",
            "ticks": ""
           }
          },
          "title": {
           "x": 0.05
          },
          "xaxis": {
           "automargin": true,
           "gridcolor": "white",
           "linecolor": "white",
           "ticks": "",
           "title": {
            "standoff": 15
           },
           "zerolinecolor": "white",
           "zerolinewidth": 2
          },
          "yaxis": {
           "automargin": true,
           "gridcolor": "white",
           "linecolor": "white",
           "ticks": "",
           "title": {
            "standoff": 15
           },
           "zerolinecolor": "white",
           "zerolinewidth": 2
          }
         }
        },
        "title": {
         "text": "Precision Plot-RetroSom"
        },
        "width": 600,
        "xaxis": {
         "anchor": "y",
         "domain": [
          0,
          1
         ],
         "range": [
          -2,
          3.25
         ],
         "tickvals": [
          0.04,
          0.2,
          1,
          5,
          25
         ],
         "title": {
          "text": "Level of Mosaicism (%)"
         },
         "type": "log"
        },
        "yaxis": {
         "anchor": "x",
         "domain": [
          0,
          1
         ],
         "range": [
          0,
          1.1
         ],
         "tickvals": [
          0,
          0.2,
          0.4,
          0.6,
          0.8,
          1
         ],
         "title": {
          "text": "Precision (Alu)"
         }
        }
       }
      },
      "text/html": [
       "<div>                            <div id=\"be924a0a-f055-473f-8d83-53d5dee2a3c0\" class=\"plotly-graph-div\" style=\"height:525px; width:600px;\"></div>            <script type=\"text/javascript\">                require([\"plotly\"], function(Plotly) {                    window.PLOTLYENV=window.PLOTLYENV || {};                                    if (document.getElementById(\"be924a0a-f055-473f-8d83-53d5dee2a3c0\")) {                    Plotly.newPlot(                        \"be924a0a-f055-473f-8d83-53d5dee2a3c0\",                        [],                        {\"template\":{\"data\":{\"histogram2dcontour\":[{\"type\":\"histogram2dcontour\",\"colorbar\":{\"outlinewidth\":0,\"ticks\":\"\"},\"colorscale\":[[0.0,\"#0d0887\"],[0.1111111111111111,\"#46039f\"],[0.2222222222222222,\"#7201a8\"],[0.3333333333333333,\"#9c179e\"],[0.4444444444444444,\"#bd3786\"],[0.5555555555555556,\"#d8576b\"],[0.6666666666666666,\"#ed7953\"],[0.7777777777777778,\"#fb9f3a\"],[0.8888888888888888,\"#fdca26\"],[1.0,\"#f0f921\"]]}],\"choropleth\":[{\"type\":\"choropleth\",\"colorbar\":{\"outlinewidth\":0,\"ticks\":\"\"}}],\"histogram2d\":[{\"type\":\"histogram2d\",\"colorbar\":{\"outlinewidth\":0,\"ticks\":\"\"},\"colorscale\":[[0.0,\"#0d0887\"],[0.1111111111111111,\"#46039f\"],[0.2222222222222222,\"#7201a8\"],[0.3333333333333333,\"#9c179e\"],[0.4444444444444444,\"#bd3786\"],[0.5555555555555556,\"#d8576b\"],[0.6666666666666666,\"#ed7953\"],[0.7777777777777778,\"#fb9f3a\"],[0.8888888888888888,\"#fdca26\"],[1.0,\"#f0f921\"]]}],\"heatmap\":[{\"type\":\"heatmap\",\"colorbar\":{\"outlinewidth\":0,\"ticks\":\"\"},\"colorscale\":[[0.0,\"#0d0887\"],[0.1111111111111111,\"#46039f\"],[0.2222222222222222,\"#7201a8\"],[0.3333333333333333,\"#9c179e\"],[0.4444444444444444,\"#bd3786\"],[0.5555555555555556,\"#d8576b\"],[0.6666666666666666,\"#ed7953\"],[0.7777777777777778,\"#fb9f3a\"],[0.8888888888888888,\"#fdca26\"],[1.0,\"#f0f921\"]]}],\"heatmapgl\":[{\"type\":\"heatmapgl\",\"colorbar\":{\"outlinewidth\":0,\"ticks\":\"\"},\"colorscale\":[[0.0,\"#0d0887\"],[0.1111111111111111,\"#46039f\"],[0.2222222222222222,\"#7201a8\"],[0.3333333333333333,\"#9c179e\"],[0.4444444444444444,\"#bd3786\"],[0.5555555555555556,\"#d8576b\"],[0.6666666666666666,\"#ed7953\"],[0.7777777777777778,\"#fb9f3a\"],[0.8888888888888888,\"#fdca26\"],[1.0,\"#f0f921\"]]}],\"contourcarpet\":[{\"type\":\"contourcarpet\",\"colorbar\":{\"outlinewidth\":0,\"ticks\":\"\"}}],\"contour\":[{\"type\":\"contour\",\"colorbar\":{\"outlinewidth\":0,\"ticks\":\"\"},\"colorscale\":[[0.0,\"#0d0887\"],[0.1111111111111111,\"#46039f\"],[0.2222222222222222,\"#7201a8\"],[0.3333333333333333,\"#9c179e\"],[0.4444444444444444,\"#bd3786\"],[0.5555555555555556,\"#d8576b\"],[0.6666666666666666,\"#ed7953\"],[0.7777777777777778,\"#fb9f3a\"],[0.8888888888888888,\"#fdca26\"],[1.0,\"#f0f921\"]]}],\"surface\":[{\"type\":\"surface\",\"colorbar\":{\"outlinewidth\":0,\"ticks\":\"\"},\"colorscale\":[[0.0,\"#0d0887\"],[0.1111111111111111,\"#46039f\"],[0.2222222222222222,\"#7201a8\"],[0.3333333333333333,\"#9c179e\"],[0.4444444444444444,\"#bd3786\"],[0.5555555555555556,\"#d8576b\"],[0.6666666666666666,\"#ed7953\"],[0.7777777777777778,\"#fb9f3a\"],[0.8888888888888888,\"#fdca26\"],[1.0,\"#f0f921\"]]}],\"mesh3d\":[{\"type\":\"mesh3d\",\"colorbar\":{\"outlinewidth\":0,\"ticks\":\"\"}}],\"scatter\":[{\"fillpattern\":{\"fillmode\":\"overlay\",\"size\":10,\"solidity\":0.2},\"type\":\"scatter\"}],\"parcoords\":[{\"type\":\"parcoords\",\"line\":{\"colorbar\":{\"outlinewidth\":0,\"ticks\":\"\"}}}],\"scatterpolargl\":[{\"type\":\"scatterpolargl\",\"marker\":{\"colorbar\":{\"outlinewidth\":0,\"ticks\":\"\"}}}],\"bar\":[{\"error_x\":{\"color\":\"#2a3f5f\"},\"error_y\":{\"color\":\"#2a3f5f\"},\"marker\":{\"line\":{\"color\":\"#E5ECF6\",\"width\":0.5},\"pattern\":{\"fillmode\":\"overlay\",\"size\":10,\"solidity\":0.2}},\"type\":\"bar\"}],\"scattergeo\":[{\"type\":\"scattergeo\",\"marker\":{\"colorbar\":{\"outlinewidth\":0,\"ticks\":\"\"}}}],\"scatterpolar\":[{\"type\":\"scatterpolar\",\"marker\":{\"colorbar\":{\"outlinewidth\":0,\"ticks\":\"\"}}}],\"histogram\":[{\"marker\":{\"pattern\":{\"fillmode\":\"overlay\",\"size\":10,\"solidity\":0.2}},\"type\":\"histogram\"}],\"scattergl\":[{\"type\":\"scattergl\",\"marker\":{\"colorbar\":{\"outlinewidth\":0,\"ticks\":\"\"}}}],\"scatter3d\":[{\"type\":\"scatter3d\",\"line\":{\"colorbar\":{\"outlinewidth\":0,\"ticks\":\"\"}},\"marker\":{\"colorbar\":{\"outlinewidth\":0,\"ticks\":\"\"}}}],\"scattermapbox\":[{\"type\":\"scattermapbox\",\"marker\":{\"colorbar\":{\"outlinewidth\":0,\"ticks\":\"\"}}}],\"scatterternary\":[{\"type\":\"scatterternary\",\"marker\":{\"colorbar\":{\"outlinewidth\":0,\"ticks\":\"\"}}}],\"scattercarpet\":[{\"type\":\"scattercarpet\",\"marker\":{\"colorbar\":{\"outlinewidth\":0,\"ticks\":\"\"}}}],\"carpet\":[{\"aaxis\":{\"endlinecolor\":\"#2a3f5f\",\"gridcolor\":\"white\",\"linecolor\":\"white\",\"minorgridcolor\":\"white\",\"startlinecolor\":\"#2a3f5f\"},\"baxis\":{\"endlinecolor\":\"#2a3f5f\",\"gridcolor\":\"white\",\"linecolor\":\"white\",\"minorgridcolor\":\"white\",\"startlinecolor\":\"#2a3f5f\"},\"type\":\"carpet\"}],\"table\":[{\"cells\":{\"fill\":{\"color\":\"#EBF0F8\"},\"line\":{\"color\":\"white\"}},\"header\":{\"fill\":{\"color\":\"#C8D4E3\"},\"line\":{\"color\":\"white\"}},\"type\":\"table\"}],\"barpolar\":[{\"marker\":{\"line\":{\"color\":\"#E5ECF6\",\"width\":0.5},\"pattern\":{\"fillmode\":\"overlay\",\"size\":10,\"solidity\":0.2}},\"type\":\"barpolar\"}],\"pie\":[{\"automargin\":true,\"type\":\"pie\"}]},\"layout\":{\"autotypenumbers\":\"strict\",\"colorway\":[\"#636efa\",\"#EF553B\",\"#00cc96\",\"#ab63fa\",\"#FFA15A\",\"#19d3f3\",\"#FF6692\",\"#B6E880\",\"#FF97FF\",\"#FECB52\"],\"font\":{\"color\":\"#2a3f5f\"},\"hovermode\":\"closest\",\"hoverlabel\":{\"align\":\"left\"},\"paper_bgcolor\":\"white\",\"plot_bgcolor\":\"#E5ECF6\",\"polar\":{\"bgcolor\":\"#E5ECF6\",\"angularaxis\":{\"gridcolor\":\"white\",\"linecolor\":\"white\",\"ticks\":\"\"},\"radialaxis\":{\"gridcolor\":\"white\",\"linecolor\":\"white\",\"ticks\":\"\"}},\"ternary\":{\"bgcolor\":\"#E5ECF6\",\"aaxis\":{\"gridcolor\":\"white\",\"linecolor\":\"white\",\"ticks\":\"\"},\"baxis\":{\"gridcolor\":\"white\",\"linecolor\":\"white\",\"ticks\":\"\"},\"caxis\":{\"gridcolor\":\"white\",\"linecolor\":\"white\",\"ticks\":\"\"}},\"coloraxis\":{\"colorbar\":{\"outlinewidth\":0,\"ticks\":\"\"}},\"colorscale\":{\"sequential\":[[0.0,\"#0d0887\"],[0.1111111111111111,\"#46039f\"],[0.2222222222222222,\"#7201a8\"],[0.3333333333333333,\"#9c179e\"],[0.4444444444444444,\"#bd3786\"],[0.5555555555555556,\"#d8576b\"],[0.6666666666666666,\"#ed7953\"],[0.7777777777777778,\"#fb9f3a\"],[0.8888888888888888,\"#fdca26\"],[1.0,\"#f0f921\"]],\"sequentialminus\":[[0.0,\"#0d0887\"],[0.1111111111111111,\"#46039f\"],[0.2222222222222222,\"#7201a8\"],[0.3333333333333333,\"#9c179e\"],[0.4444444444444444,\"#bd3786\"],[0.5555555555555556,\"#d8576b\"],[0.6666666666666666,\"#ed7953\"],[0.7777777777777778,\"#fb9f3a\"],[0.8888888888888888,\"#fdca26\"],[1.0,\"#f0f921\"]],\"diverging\":[[0,\"#8e0152\"],[0.1,\"#c51b7d\"],[0.2,\"#de77ae\"],[0.3,\"#f1b6da\"],[0.4,\"#fde0ef\"],[0.5,\"#f7f7f7\"],[0.6,\"#e6f5d0\"],[0.7,\"#b8e186\"],[0.8,\"#7fbc41\"],[0.9,\"#4d9221\"],[1,\"#276419\"]]},\"xaxis\":{\"gridcolor\":\"white\",\"linecolor\":\"white\",\"ticks\":\"\",\"title\":{\"standoff\":15},\"zerolinecolor\":\"white\",\"automargin\":true,\"zerolinewidth\":2},\"yaxis\":{\"gridcolor\":\"white\",\"linecolor\":\"white\",\"ticks\":\"\",\"title\":{\"standoff\":15},\"zerolinecolor\":\"white\",\"automargin\":true,\"zerolinewidth\":2},\"scene\":{\"xaxis\":{\"backgroundcolor\":\"#E5ECF6\",\"gridcolor\":\"white\",\"linecolor\":\"white\",\"showbackground\":true,\"ticks\":\"\",\"zerolinecolor\":\"white\",\"gridwidth\":2},\"yaxis\":{\"backgroundcolor\":\"#E5ECF6\",\"gridcolor\":\"white\",\"linecolor\":\"white\",\"showbackground\":true,\"ticks\":\"\",\"zerolinecolor\":\"white\",\"gridwidth\":2},\"zaxis\":{\"backgroundcolor\":\"#E5ECF6\",\"gridcolor\":\"white\",\"linecolor\":\"white\",\"showbackground\":true,\"ticks\":\"\",\"zerolinecolor\":\"white\",\"gridwidth\":2}},\"shapedefaults\":{\"line\":{\"color\":\"#2a3f5f\"}},\"annotationdefaults\":{\"arrowcolor\":\"#2a3f5f\",\"arrowhead\":0,\"arrowwidth\":1},\"geo\":{\"bgcolor\":\"white\",\"landcolor\":\"#E5ECF6\",\"subunitcolor\":\"white\",\"showland\":true,\"showlakes\":true,\"lakecolor\":\"white\"},\"title\":{\"x\":0.05},\"mapbox\":{\"style\":\"light\"}}},\"xaxis\":{\"anchor\":\"y\",\"domain\":[0.0,1.0],\"title\":{\"text\":\"Level of Mosaicism (%)\"},\"type\":\"log\",\"tickvals\":[0.04,0.2,1,5,25],\"range\":[-2,3.25]},\"yaxis\":{\"anchor\":\"x\",\"domain\":[0.0,1.0],\"title\":{\"text\":\"Precision (Alu)\"},\"range\":[0,1.1],\"tickvals\":[0,0.2,0.4,0.6,0.8,1]},\"legend\":{\"tracegroupgap\":0,\"font\":{\"size\":16},\"title\":{\"font\":{\"size\":18,\"color\":\"black\"},\"text\":\"depth\"},\"traceorder\":\"normal\",\"orientation\":\"v\",\"y\":1.1,\"x\":0.01},\"margin\":{\"t\":60},\"font\":{\"family\":\"Arial, sans-serif\",\"size\":18,\"color\":\"RebeccaPurple\"},\"width\":600,\"title\":{\"text\":\"Precision Plot-RetroSom\"}},                        {\"responsive\": true}                    ).then(function(){\n",
       "                            \n",
       "var gd = document.getElementById('be924a0a-f055-473f-8d83-53d5dee2a3c0');\n",
       "var x = new MutationObserver(function (mutations, observer) {{\n",
       "        var display = window.getComputedStyle(gd).display;\n",
       "        if (!display || display === 'none') {{\n",
       "            console.log([gd, 'removed!']);\n",
       "            Plotly.purge(gd);\n",
       "            observer.disconnect();\n",
       "        }}\n",
       "}});\n",
       "\n",
       "// Listen for the removal of the full notebook cells\n",
       "var notebookContainer = gd.closest('#notebook-container');\n",
       "if (notebookContainer) {{\n",
       "    x.observe(notebookContainer, {childList: true});\n",
       "}}\n",
       "\n",
       "// Listen for the clearing of the current output cell\n",
       "var outputEl = gd.closest('.output');\n",
       "if (outputEl) {{\n",
       "    x.observe(outputEl, {childList: true});\n",
       "}}\n",
       "\n",
       "                        })                };                });            </script>        </div>"
      ]
     },
     "metadata": {},
     "output_type": "display_data"
    },
    {
     "data": {
      "application/vnd.plotly.v1+json": {
       "config": {
        "plotlyServerURL": "https://plot.ly"
       },
       "data": [
        {
         "hovertemplate": "depth=50x<br>vaf=%{x}<br>precision=%{y}<extra></extra>",
         "legendgroup": "50x",
         "line": {
          "color": "rgb(228,26,28)",
          "dash": "solid"
         },
         "marker": {
          "size": 10,
          "symbol": 1
         },
         "mode": "lines+markers",
         "name": "50x",
         "orientation": "v",
         "showlegend": true,
         "type": "scatter",
         "x": [
          0.5,
          2,
          10
         ],
         "xaxis": "x",
         "y": [
          0.01470588235294118,
          0.25,
          0.3529411764705883
         ],
         "yaxis": "y"
        },
        {
         "hovertemplate": "depth=100x<br>vaf=%{x}<br>precision=%{y}<extra></extra>",
         "legendgroup": "100x",
         "line": {
          "color": "rgb(55,126,184)",
          "dash": "solid"
         },
         "marker": {
          "size": 10,
          "symbol": 3
         },
         "mode": "lines+markers",
         "name": "100x",
         "orientation": "v",
         "showlegend": true,
         "type": "scatter",
         "x": [
          0.5,
          2,
          10
         ],
         "xaxis": "x",
         "y": [
          0,
          0.296875,
          0.328125
         ],
         "yaxis": "y"
        },
        {
         "hovertemplate": "depth=200x<br>vaf=%{x}<br>precision=%{y}<extra></extra>",
         "legendgroup": "200x",
         "line": {
          "color": "rgb(77,175,74)",
          "dash": "solid"
         },
         "marker": {
          "size": 10,
          "symbol": 16
         },
         "mode": "lines+markers",
         "name": "200x",
         "orientation": "v",
         "showlegend": true,
         "type": "scatter",
         "x": [
          0.5,
          2,
          10
         ],
         "xaxis": "x",
         "y": [
          0.0196078431372549,
          0.2549019607843137,
          0.3333333333333333
         ],
         "yaxis": "y"
        },
        {
         "hovertemplate": "depth=300x<br>vaf=%{x}<br>precision=%{y}<extra></extra>",
         "legendgroup": "300x",
         "line": {
          "color": "rgb(152,78,163)",
          "dash": "solid"
         },
         "marker": {
          "size": 10,
          "symbol": 17
         },
         "mode": "lines+markers",
         "name": "300x",
         "orientation": "v",
         "showlegend": true,
         "type": "scatter",
         "x": [
          0.5,
          2,
          10
         ],
         "xaxis": "x",
         "y": [
          0,
          0.2266666666666667,
          0.28
         ],
         "yaxis": "y"
        }
       ],
       "layout": {
        "font": {
         "color": "RebeccaPurple",
         "family": "Arial, sans-serif",
         "size": 18
        },
        "legend": {
         "font": {
          "size": 16
         },
         "orientation": "v",
         "title": {
          "font": {
           "color": "black",
           "size": 18
          },
          "text": "depth"
         },
         "tracegroupgap": 0,
         "traceorder": "normal",
         "x": 0.01,
         "y": 1.1
        },
        "margin": {
         "t": 60
        },
        "template": {
         "data": {
          "bar": [
           {
            "error_x": {
             "color": "#2a3f5f"
            },
            "error_y": {
             "color": "#2a3f5f"
            },
            "marker": {
             "line": {
              "color": "#E5ECF6",
              "width": 0.5
             },
             "pattern": {
              "fillmode": "overlay",
              "size": 10,
              "solidity": 0.2
             }
            },
            "type": "bar"
           }
          ],
          "barpolar": [
           {
            "marker": {
             "line": {
              "color": "#E5ECF6",
              "width": 0.5
             },
             "pattern": {
              "fillmode": "overlay",
              "size": 10,
              "solidity": 0.2
             }
            },
            "type": "barpolar"
           }
          ],
          "carpet": [
           {
            "aaxis": {
             "endlinecolor": "#2a3f5f",
             "gridcolor": "white",
             "linecolor": "white",
             "minorgridcolor": "white",
             "startlinecolor": "#2a3f5f"
            },
            "baxis": {
             "endlinecolor": "#2a3f5f",
             "gridcolor": "white",
             "linecolor": "white",
             "minorgridcolor": "white",
             "startlinecolor": "#2a3f5f"
            },
            "type": "carpet"
           }
          ],
          "choropleth": [
           {
            "colorbar": {
             "outlinewidth": 0,
             "ticks": ""
            },
            "type": "choropleth"
           }
          ],
          "contour": [
           {
            "colorbar": {
             "outlinewidth": 0,
             "ticks": ""
            },
            "colorscale": [
             [
              0,
              "#0d0887"
             ],
             [
              0.1111111111111111,
              "#46039f"
             ],
             [
              0.2222222222222222,
              "#7201a8"
             ],
             [
              0.3333333333333333,
              "#9c179e"
             ],
             [
              0.4444444444444444,
              "#bd3786"
             ],
             [
              0.5555555555555556,
              "#d8576b"
             ],
             [
              0.6666666666666666,
              "#ed7953"
             ],
             [
              0.7777777777777778,
              "#fb9f3a"
             ],
             [
              0.8888888888888888,
              "#fdca26"
             ],
             [
              1,
              "#f0f921"
             ]
            ],
            "type": "contour"
           }
          ],
          "contourcarpet": [
           {
            "colorbar": {
             "outlinewidth": 0,
             "ticks": ""
            },
            "type": "contourcarpet"
           }
          ],
          "heatmap": [
           {
            "colorbar": {
             "outlinewidth": 0,
             "ticks": ""
            },
            "colorscale": [
             [
              0,
              "#0d0887"
             ],
             [
              0.1111111111111111,
              "#46039f"
             ],
             [
              0.2222222222222222,
              "#7201a8"
             ],
             [
              0.3333333333333333,
              "#9c179e"
             ],
             [
              0.4444444444444444,
              "#bd3786"
             ],
             [
              0.5555555555555556,
              "#d8576b"
             ],
             [
              0.6666666666666666,
              "#ed7953"
             ],
             [
              0.7777777777777778,
              "#fb9f3a"
             ],
             [
              0.8888888888888888,
              "#fdca26"
             ],
             [
              1,
              "#f0f921"
             ]
            ],
            "type": "heatmap"
           }
          ],
          "heatmapgl": [
           {
            "colorbar": {
             "outlinewidth": 0,
             "ticks": ""
            },
            "colorscale": [
             [
              0,
              "#0d0887"
             ],
             [
              0.1111111111111111,
              "#46039f"
             ],
             [
              0.2222222222222222,
              "#7201a8"
             ],
             [
              0.3333333333333333,
              "#9c179e"
             ],
             [
              0.4444444444444444,
              "#bd3786"
             ],
             [
              0.5555555555555556,
              "#d8576b"
             ],
             [
              0.6666666666666666,
              "#ed7953"
             ],
             [
              0.7777777777777778,
              "#fb9f3a"
             ],
             [
              0.8888888888888888,
              "#fdca26"
             ],
             [
              1,
              "#f0f921"
             ]
            ],
            "type": "heatmapgl"
           }
          ],
          "histogram": [
           {
            "marker": {
             "pattern": {
              "fillmode": "overlay",
              "size": 10,
              "solidity": 0.2
             }
            },
            "type": "histogram"
           }
          ],
          "histogram2d": [
           {
            "colorbar": {
             "outlinewidth": 0,
             "ticks": ""
            },
            "colorscale": [
             [
              0,
              "#0d0887"
             ],
             [
              0.1111111111111111,
              "#46039f"
             ],
             [
              0.2222222222222222,
              "#7201a8"
             ],
             [
              0.3333333333333333,
              "#9c179e"
             ],
             [
              0.4444444444444444,
              "#bd3786"
             ],
             [
              0.5555555555555556,
              "#d8576b"
             ],
             [
              0.6666666666666666,
              "#ed7953"
             ],
             [
              0.7777777777777778,
              "#fb9f3a"
             ],
             [
              0.8888888888888888,
              "#fdca26"
             ],
             [
              1,
              "#f0f921"
             ]
            ],
            "type": "histogram2d"
           }
          ],
          "histogram2dcontour": [
           {
            "colorbar": {
             "outlinewidth": 0,
             "ticks": ""
            },
            "colorscale": [
             [
              0,
              "#0d0887"
             ],
             [
              0.1111111111111111,
              "#46039f"
             ],
             [
              0.2222222222222222,
              "#7201a8"
             ],
             [
              0.3333333333333333,
              "#9c179e"
             ],
             [
              0.4444444444444444,
              "#bd3786"
             ],
             [
              0.5555555555555556,
              "#d8576b"
             ],
             [
              0.6666666666666666,
              "#ed7953"
             ],
             [
              0.7777777777777778,
              "#fb9f3a"
             ],
             [
              0.8888888888888888,
              "#fdca26"
             ],
             [
              1,
              "#f0f921"
             ]
            ],
            "type": "histogram2dcontour"
           }
          ],
          "mesh3d": [
           {
            "colorbar": {
             "outlinewidth": 0,
             "ticks": ""
            },
            "type": "mesh3d"
           }
          ],
          "parcoords": [
           {
            "line": {
             "colorbar": {
              "outlinewidth": 0,
              "ticks": ""
             }
            },
            "type": "parcoords"
           }
          ],
          "pie": [
           {
            "automargin": true,
            "type": "pie"
           }
          ],
          "scatter": [
           {
            "fillpattern": {
             "fillmode": "overlay",
             "size": 10,
             "solidity": 0.2
            },
            "type": "scatter"
           }
          ],
          "scatter3d": [
           {
            "line": {
             "colorbar": {
              "outlinewidth": 0,
              "ticks": ""
             }
            },
            "marker": {
             "colorbar": {
              "outlinewidth": 0,
              "ticks": ""
             }
            },
            "type": "scatter3d"
           }
          ],
          "scattercarpet": [
           {
            "marker": {
             "colorbar": {
              "outlinewidth": 0,
              "ticks": ""
             }
            },
            "type": "scattercarpet"
           }
          ],
          "scattergeo": [
           {
            "marker": {
             "colorbar": {
              "outlinewidth": 0,
              "ticks": ""
             }
            },
            "type": "scattergeo"
           }
          ],
          "scattergl": [
           {
            "marker": {
             "colorbar": {
              "outlinewidth": 0,
              "ticks": ""
             }
            },
            "type": "scattergl"
           }
          ],
          "scattermapbox": [
           {
            "marker": {
             "colorbar": {
              "outlinewidth": 0,
              "ticks": ""
             }
            },
            "type": "scattermapbox"
           }
          ],
          "scatterpolar": [
           {
            "marker": {
             "colorbar": {
              "outlinewidth": 0,
              "ticks": ""
             }
            },
            "type": "scatterpolar"
           }
          ],
          "scatterpolargl": [
           {
            "marker": {
             "colorbar": {
              "outlinewidth": 0,
              "ticks": ""
             }
            },
            "type": "scatterpolargl"
           }
          ],
          "scatterternary": [
           {
            "marker": {
             "colorbar": {
              "outlinewidth": 0,
              "ticks": ""
             }
            },
            "type": "scatterternary"
           }
          ],
          "surface": [
           {
            "colorbar": {
             "outlinewidth": 0,
             "ticks": ""
            },
            "colorscale": [
             [
              0,
              "#0d0887"
             ],
             [
              0.1111111111111111,
              "#46039f"
             ],
             [
              0.2222222222222222,
              "#7201a8"
             ],
             [
              0.3333333333333333,
              "#9c179e"
             ],
             [
              0.4444444444444444,
              "#bd3786"
             ],
             [
              0.5555555555555556,
              "#d8576b"
             ],
             [
              0.6666666666666666,
              "#ed7953"
             ],
             [
              0.7777777777777778,
              "#fb9f3a"
             ],
             [
              0.8888888888888888,
              "#fdca26"
             ],
             [
              1,
              "#f0f921"
             ]
            ],
            "type": "surface"
           }
          ],
          "table": [
           {
            "cells": {
             "fill": {
              "color": "#EBF0F8"
             },
             "line": {
              "color": "white"
             }
            },
            "header": {
             "fill": {
              "color": "#C8D4E3"
             },
             "line": {
              "color": "white"
             }
            },
            "type": "table"
           }
          ]
         },
         "layout": {
          "annotationdefaults": {
           "arrowcolor": "#2a3f5f",
           "arrowhead": 0,
           "arrowwidth": 1
          },
          "autotypenumbers": "strict",
          "coloraxis": {
           "colorbar": {
            "outlinewidth": 0,
            "ticks": ""
           }
          },
          "colorscale": {
           "diverging": [
            [
             0,
             "#8e0152"
            ],
            [
             0.1,
             "#c51b7d"
            ],
            [
             0.2,
             "#de77ae"
            ],
            [
             0.3,
             "#f1b6da"
            ],
            [
             0.4,
             "#fde0ef"
            ],
            [
             0.5,
             "#f7f7f7"
            ],
            [
             0.6,
             "#e6f5d0"
            ],
            [
             0.7,
             "#b8e186"
            ],
            [
             0.8,
             "#7fbc41"
            ],
            [
             0.9,
             "#4d9221"
            ],
            [
             1,
             "#276419"
            ]
           ],
           "sequential": [
            [
             0,
             "#0d0887"
            ],
            [
             0.1111111111111111,
             "#46039f"
            ],
            [
             0.2222222222222222,
             "#7201a8"
            ],
            [
             0.3333333333333333,
             "#9c179e"
            ],
            [
             0.4444444444444444,
             "#bd3786"
            ],
            [
             0.5555555555555556,
             "#d8576b"
            ],
            [
             0.6666666666666666,
             "#ed7953"
            ],
            [
             0.7777777777777778,
             "#fb9f3a"
            ],
            [
             0.8888888888888888,
             "#fdca26"
            ],
            [
             1,
             "#f0f921"
            ]
           ],
           "sequentialminus": [
            [
             0,
             "#0d0887"
            ],
            [
             0.1111111111111111,
             "#46039f"
            ],
            [
             0.2222222222222222,
             "#7201a8"
            ],
            [
             0.3333333333333333,
             "#9c179e"
            ],
            [
             0.4444444444444444,
             "#bd3786"
            ],
            [
             0.5555555555555556,
             "#d8576b"
            ],
            [
             0.6666666666666666,
             "#ed7953"
            ],
            [
             0.7777777777777778,
             "#fb9f3a"
            ],
            [
             0.8888888888888888,
             "#fdca26"
            ],
            [
             1,
             "#f0f921"
            ]
           ]
          },
          "colorway": [
           "#636efa",
           "#EF553B",
           "#00cc96",
           "#ab63fa",
           "#FFA15A",
           "#19d3f3",
           "#FF6692",
           "#B6E880",
           "#FF97FF",
           "#FECB52"
          ],
          "font": {
           "color": "#2a3f5f"
          },
          "geo": {
           "bgcolor": "white",
           "lakecolor": "white",
           "landcolor": "#E5ECF6",
           "showlakes": true,
           "showland": true,
           "subunitcolor": "white"
          },
          "hoverlabel": {
           "align": "left"
          },
          "hovermode": "closest",
          "mapbox": {
           "style": "light"
          },
          "paper_bgcolor": "white",
          "plot_bgcolor": "#E5ECF6",
          "polar": {
           "angularaxis": {
            "gridcolor": "white",
            "linecolor": "white",
            "ticks": ""
           },
           "bgcolor": "#E5ECF6",
           "radialaxis": {
            "gridcolor": "white",
            "linecolor": "white",
            "ticks": ""
           }
          },
          "scene": {
           "xaxis": {
            "backgroundcolor": "#E5ECF6",
            "gridcolor": "white",
            "gridwidth": 2,
            "linecolor": "white",
            "showbackground": true,
            "ticks": "",
            "zerolinecolor": "white"
           },
           "yaxis": {
            "backgroundcolor": "#E5ECF6",
            "gridcolor": "white",
            "gridwidth": 2,
            "linecolor": "white",
            "showbackground": true,
            "ticks": "",
            "zerolinecolor": "white"
           },
           "zaxis": {
            "backgroundcolor": "#E5ECF6",
            "gridcolor": "white",
            "gridwidth": 2,
            "linecolor": "white",
            "showbackground": true,
            "ticks": "",
            "zerolinecolor": "white"
           }
          },
          "shapedefaults": {
           "line": {
            "color": "#2a3f5f"
           }
          },
          "ternary": {
           "aaxis": {
            "gridcolor": "white",
            "linecolor": "white",
            "ticks": ""
           },
           "baxis": {
            "gridcolor": "white",
            "linecolor": "white",
            "ticks": ""
           },
           "bgcolor": "#E5ECF6",
           "caxis": {
            "gridcolor": "white",
            "linecolor": "white",
            "ticks": ""
           }
          },
          "title": {
           "x": 0.05
          },
          "xaxis": {
           "automargin": true,
           "gridcolor": "white",
           "linecolor": "white",
           "ticks": "",
           "title": {
            "standoff": 15
           },
           "zerolinecolor": "white",
           "zerolinewidth": 2
          },
          "yaxis": {
           "automargin": true,
           "gridcolor": "white",
           "linecolor": "white",
           "ticks": "",
           "title": {
            "standoff": 15
           },
           "zerolinecolor": "white",
           "zerolinewidth": 2
          }
         }
        },
        "title": {
         "text": "Precision Plot-RetroSom"
        },
        "width": 600,
        "xaxis": {
         "anchor": "y",
         "domain": [
          0,
          1
         ],
         "range": [
          -2,
          3.25
         ],
         "tickvals": [
          0.04,
          0.2,
          1,
          5,
          25
         ],
         "title": {
          "text": "Level of Mosaicism (%)"
         },
         "type": "log"
        },
        "yaxis": {
         "anchor": "x",
         "domain": [
          0,
          1
         ],
         "range": [
          0,
          1.1
         ],
         "tickvals": [
          0,
          0.2,
          0.4,
          0.6,
          0.8,
          1
         ],
         "title": {
          "text": "Precision (L1)"
         }
        }
       }
      },
      "text/html": [
       "<div>                            <div id=\"40d4fe0c-9391-4c6a-986c-e6138101ff5d\" class=\"plotly-graph-div\" style=\"height:525px; width:600px;\"></div>            <script type=\"text/javascript\">                require([\"plotly\"], function(Plotly) {                    window.PLOTLYENV=window.PLOTLYENV || {};                                    if (document.getElementById(\"40d4fe0c-9391-4c6a-986c-e6138101ff5d\")) {                    Plotly.newPlot(                        \"40d4fe0c-9391-4c6a-986c-e6138101ff5d\",                        [{\"hovertemplate\":\"depth=50x\\u003cbr\\u003evaf=%{x}\\u003cbr\\u003eprecision=%{y}\\u003cextra\\u003e\\u003c\\u002fextra\\u003e\",\"legendgroup\":\"50x\",\"line\":{\"color\":\"rgb(228,26,28)\",\"dash\":\"solid\"},\"marker\":{\"symbol\":1,\"size\":10},\"mode\":\"lines+markers\",\"name\":\"50x\",\"orientation\":\"v\",\"showlegend\":true,\"x\":[0.5,2.0,10.0],\"xaxis\":\"x\",\"y\":[0.01470588235294118,0.25,0.3529411764705883],\"yaxis\":\"y\",\"type\":\"scatter\"},{\"hovertemplate\":\"depth=100x\\u003cbr\\u003evaf=%{x}\\u003cbr\\u003eprecision=%{y}\\u003cextra\\u003e\\u003c\\u002fextra\\u003e\",\"legendgroup\":\"100x\",\"line\":{\"color\":\"rgb(55,126,184)\",\"dash\":\"solid\"},\"marker\":{\"symbol\":3,\"size\":10},\"mode\":\"lines+markers\",\"name\":\"100x\",\"orientation\":\"v\",\"showlegend\":true,\"x\":[0.5,2.0,10.0],\"xaxis\":\"x\",\"y\":[0.0,0.296875,0.328125],\"yaxis\":\"y\",\"type\":\"scatter\"},{\"hovertemplate\":\"depth=200x\\u003cbr\\u003evaf=%{x}\\u003cbr\\u003eprecision=%{y}\\u003cextra\\u003e\\u003c\\u002fextra\\u003e\",\"legendgroup\":\"200x\",\"line\":{\"color\":\"rgb(77,175,74)\",\"dash\":\"solid\"},\"marker\":{\"symbol\":16,\"size\":10},\"mode\":\"lines+markers\",\"name\":\"200x\",\"orientation\":\"v\",\"showlegend\":true,\"x\":[0.5,2.0,10.0],\"xaxis\":\"x\",\"y\":[0.0196078431372549,0.2549019607843137,0.3333333333333333],\"yaxis\":\"y\",\"type\":\"scatter\"},{\"hovertemplate\":\"depth=300x\\u003cbr\\u003evaf=%{x}\\u003cbr\\u003eprecision=%{y}\\u003cextra\\u003e\\u003c\\u002fextra\\u003e\",\"legendgroup\":\"300x\",\"line\":{\"color\":\"rgb(152,78,163)\",\"dash\":\"solid\"},\"marker\":{\"symbol\":17,\"size\":10},\"mode\":\"lines+markers\",\"name\":\"300x\",\"orientation\":\"v\",\"showlegend\":true,\"x\":[0.5,2.0,10.0],\"xaxis\":\"x\",\"y\":[0.0,0.2266666666666667,0.28],\"yaxis\":\"y\",\"type\":\"scatter\"}],                        {\"template\":{\"data\":{\"histogram2dcontour\":[{\"type\":\"histogram2dcontour\",\"colorbar\":{\"outlinewidth\":0,\"ticks\":\"\"},\"colorscale\":[[0.0,\"#0d0887\"],[0.1111111111111111,\"#46039f\"],[0.2222222222222222,\"#7201a8\"],[0.3333333333333333,\"#9c179e\"],[0.4444444444444444,\"#bd3786\"],[0.5555555555555556,\"#d8576b\"],[0.6666666666666666,\"#ed7953\"],[0.7777777777777778,\"#fb9f3a\"],[0.8888888888888888,\"#fdca26\"],[1.0,\"#f0f921\"]]}],\"choropleth\":[{\"type\":\"choropleth\",\"colorbar\":{\"outlinewidth\":0,\"ticks\":\"\"}}],\"histogram2d\":[{\"type\":\"histogram2d\",\"colorbar\":{\"outlinewidth\":0,\"ticks\":\"\"},\"colorscale\":[[0.0,\"#0d0887\"],[0.1111111111111111,\"#46039f\"],[0.2222222222222222,\"#7201a8\"],[0.3333333333333333,\"#9c179e\"],[0.4444444444444444,\"#bd3786\"],[0.5555555555555556,\"#d8576b\"],[0.6666666666666666,\"#ed7953\"],[0.7777777777777778,\"#fb9f3a\"],[0.8888888888888888,\"#fdca26\"],[1.0,\"#f0f921\"]]}],\"heatmap\":[{\"type\":\"heatmap\",\"colorbar\":{\"outlinewidth\":0,\"ticks\":\"\"},\"colorscale\":[[0.0,\"#0d0887\"],[0.1111111111111111,\"#46039f\"],[0.2222222222222222,\"#7201a8\"],[0.3333333333333333,\"#9c179e\"],[0.4444444444444444,\"#bd3786\"],[0.5555555555555556,\"#d8576b\"],[0.6666666666666666,\"#ed7953\"],[0.7777777777777778,\"#fb9f3a\"],[0.8888888888888888,\"#fdca26\"],[1.0,\"#f0f921\"]]}],\"heatmapgl\":[{\"type\":\"heatmapgl\",\"colorbar\":{\"outlinewidth\":0,\"ticks\":\"\"},\"colorscale\":[[0.0,\"#0d0887\"],[0.1111111111111111,\"#46039f\"],[0.2222222222222222,\"#7201a8\"],[0.3333333333333333,\"#9c179e\"],[0.4444444444444444,\"#bd3786\"],[0.5555555555555556,\"#d8576b\"],[0.6666666666666666,\"#ed7953\"],[0.7777777777777778,\"#fb9f3a\"],[0.8888888888888888,\"#fdca26\"],[1.0,\"#f0f921\"]]}],\"contourcarpet\":[{\"type\":\"contourcarpet\",\"colorbar\":{\"outlinewidth\":0,\"ticks\":\"\"}}],\"contour\":[{\"type\":\"contour\",\"colorbar\":{\"outlinewidth\":0,\"ticks\":\"\"},\"colorscale\":[[0.0,\"#0d0887\"],[0.1111111111111111,\"#46039f\"],[0.2222222222222222,\"#7201a8\"],[0.3333333333333333,\"#9c179e\"],[0.4444444444444444,\"#bd3786\"],[0.5555555555555556,\"#d8576b\"],[0.6666666666666666,\"#ed7953\"],[0.7777777777777778,\"#fb9f3a\"],[0.8888888888888888,\"#fdca26\"],[1.0,\"#f0f921\"]]}],\"surface\":[{\"type\":\"surface\",\"colorbar\":{\"outlinewidth\":0,\"ticks\":\"\"},\"colorscale\":[[0.0,\"#0d0887\"],[0.1111111111111111,\"#46039f\"],[0.2222222222222222,\"#7201a8\"],[0.3333333333333333,\"#9c179e\"],[0.4444444444444444,\"#bd3786\"],[0.5555555555555556,\"#d8576b\"],[0.6666666666666666,\"#ed7953\"],[0.7777777777777778,\"#fb9f3a\"],[0.8888888888888888,\"#fdca26\"],[1.0,\"#f0f921\"]]}],\"mesh3d\":[{\"type\":\"mesh3d\",\"colorbar\":{\"outlinewidth\":0,\"ticks\":\"\"}}],\"scatter\":[{\"fillpattern\":{\"fillmode\":\"overlay\",\"size\":10,\"solidity\":0.2},\"type\":\"scatter\"}],\"parcoords\":[{\"type\":\"parcoords\",\"line\":{\"colorbar\":{\"outlinewidth\":0,\"ticks\":\"\"}}}],\"scatterpolargl\":[{\"type\":\"scatterpolargl\",\"marker\":{\"colorbar\":{\"outlinewidth\":0,\"ticks\":\"\"}}}],\"bar\":[{\"error_x\":{\"color\":\"#2a3f5f\"},\"error_y\":{\"color\":\"#2a3f5f\"},\"marker\":{\"line\":{\"color\":\"#E5ECF6\",\"width\":0.5},\"pattern\":{\"fillmode\":\"overlay\",\"size\":10,\"solidity\":0.2}},\"type\":\"bar\"}],\"scattergeo\":[{\"type\":\"scattergeo\",\"marker\":{\"colorbar\":{\"outlinewidth\":0,\"ticks\":\"\"}}}],\"scatterpolar\":[{\"type\":\"scatterpolar\",\"marker\":{\"colorbar\":{\"outlinewidth\":0,\"ticks\":\"\"}}}],\"histogram\":[{\"marker\":{\"pattern\":{\"fillmode\":\"overlay\",\"size\":10,\"solidity\":0.2}},\"type\":\"histogram\"}],\"scattergl\":[{\"type\":\"scattergl\",\"marker\":{\"colorbar\":{\"outlinewidth\":0,\"ticks\":\"\"}}}],\"scatter3d\":[{\"type\":\"scatter3d\",\"line\":{\"colorbar\":{\"outlinewidth\":0,\"ticks\":\"\"}},\"marker\":{\"colorbar\":{\"outlinewidth\":0,\"ticks\":\"\"}}}],\"scattermapbox\":[{\"type\":\"scattermapbox\",\"marker\":{\"colorbar\":{\"outlinewidth\":0,\"ticks\":\"\"}}}],\"scatterternary\":[{\"type\":\"scatterternary\",\"marker\":{\"colorbar\":{\"outlinewidth\":0,\"ticks\":\"\"}}}],\"scattercarpet\":[{\"type\":\"scattercarpet\",\"marker\":{\"colorbar\":{\"outlinewidth\":0,\"ticks\":\"\"}}}],\"carpet\":[{\"aaxis\":{\"endlinecolor\":\"#2a3f5f\",\"gridcolor\":\"white\",\"linecolor\":\"white\",\"minorgridcolor\":\"white\",\"startlinecolor\":\"#2a3f5f\"},\"baxis\":{\"endlinecolor\":\"#2a3f5f\",\"gridcolor\":\"white\",\"linecolor\":\"white\",\"minorgridcolor\":\"white\",\"startlinecolor\":\"#2a3f5f\"},\"type\":\"carpet\"}],\"table\":[{\"cells\":{\"fill\":{\"color\":\"#EBF0F8\"},\"line\":{\"color\":\"white\"}},\"header\":{\"fill\":{\"color\":\"#C8D4E3\"},\"line\":{\"color\":\"white\"}},\"type\":\"table\"}],\"barpolar\":[{\"marker\":{\"line\":{\"color\":\"#E5ECF6\",\"width\":0.5},\"pattern\":{\"fillmode\":\"overlay\",\"size\":10,\"solidity\":0.2}},\"type\":\"barpolar\"}],\"pie\":[{\"automargin\":true,\"type\":\"pie\"}]},\"layout\":{\"autotypenumbers\":\"strict\",\"colorway\":[\"#636efa\",\"#EF553B\",\"#00cc96\",\"#ab63fa\",\"#FFA15A\",\"#19d3f3\",\"#FF6692\",\"#B6E880\",\"#FF97FF\",\"#FECB52\"],\"font\":{\"color\":\"#2a3f5f\"},\"hovermode\":\"closest\",\"hoverlabel\":{\"align\":\"left\"},\"paper_bgcolor\":\"white\",\"plot_bgcolor\":\"#E5ECF6\",\"polar\":{\"bgcolor\":\"#E5ECF6\",\"angularaxis\":{\"gridcolor\":\"white\",\"linecolor\":\"white\",\"ticks\":\"\"},\"radialaxis\":{\"gridcolor\":\"white\",\"linecolor\":\"white\",\"ticks\":\"\"}},\"ternary\":{\"bgcolor\":\"#E5ECF6\",\"aaxis\":{\"gridcolor\":\"white\",\"linecolor\":\"white\",\"ticks\":\"\"},\"baxis\":{\"gridcolor\":\"white\",\"linecolor\":\"white\",\"ticks\":\"\"},\"caxis\":{\"gridcolor\":\"white\",\"linecolor\":\"white\",\"ticks\":\"\"}},\"coloraxis\":{\"colorbar\":{\"outlinewidth\":0,\"ticks\":\"\"}},\"colorscale\":{\"sequential\":[[0.0,\"#0d0887\"],[0.1111111111111111,\"#46039f\"],[0.2222222222222222,\"#7201a8\"],[0.3333333333333333,\"#9c179e\"],[0.4444444444444444,\"#bd3786\"],[0.5555555555555556,\"#d8576b\"],[0.6666666666666666,\"#ed7953\"],[0.7777777777777778,\"#fb9f3a\"],[0.8888888888888888,\"#fdca26\"],[1.0,\"#f0f921\"]],\"sequentialminus\":[[0.0,\"#0d0887\"],[0.1111111111111111,\"#46039f\"],[0.2222222222222222,\"#7201a8\"],[0.3333333333333333,\"#9c179e\"],[0.4444444444444444,\"#bd3786\"],[0.5555555555555556,\"#d8576b\"],[0.6666666666666666,\"#ed7953\"],[0.7777777777777778,\"#fb9f3a\"],[0.8888888888888888,\"#fdca26\"],[1.0,\"#f0f921\"]],\"diverging\":[[0,\"#8e0152\"],[0.1,\"#c51b7d\"],[0.2,\"#de77ae\"],[0.3,\"#f1b6da\"],[0.4,\"#fde0ef\"],[0.5,\"#f7f7f7\"],[0.6,\"#e6f5d0\"],[0.7,\"#b8e186\"],[0.8,\"#7fbc41\"],[0.9,\"#4d9221\"],[1,\"#276419\"]]},\"xaxis\":{\"gridcolor\":\"white\",\"linecolor\":\"white\",\"ticks\":\"\",\"title\":{\"standoff\":15},\"zerolinecolor\":\"white\",\"automargin\":true,\"zerolinewidth\":2},\"yaxis\":{\"gridcolor\":\"white\",\"linecolor\":\"white\",\"ticks\":\"\",\"title\":{\"standoff\":15},\"zerolinecolor\":\"white\",\"automargin\":true,\"zerolinewidth\":2},\"scene\":{\"xaxis\":{\"backgroundcolor\":\"#E5ECF6\",\"gridcolor\":\"white\",\"linecolor\":\"white\",\"showbackground\":true,\"ticks\":\"\",\"zerolinecolor\":\"white\",\"gridwidth\":2},\"yaxis\":{\"backgroundcolor\":\"#E5ECF6\",\"gridcolor\":\"white\",\"linecolor\":\"white\",\"showbackground\":true,\"ticks\":\"\",\"zerolinecolor\":\"white\",\"gridwidth\":2},\"zaxis\":{\"backgroundcolor\":\"#E5ECF6\",\"gridcolor\":\"white\",\"linecolor\":\"white\",\"showbackground\":true,\"ticks\":\"\",\"zerolinecolor\":\"white\",\"gridwidth\":2}},\"shapedefaults\":{\"line\":{\"color\":\"#2a3f5f\"}},\"annotationdefaults\":{\"arrowcolor\":\"#2a3f5f\",\"arrowhead\":0,\"arrowwidth\":1},\"geo\":{\"bgcolor\":\"white\",\"landcolor\":\"#E5ECF6\",\"subunitcolor\":\"white\",\"showland\":true,\"showlakes\":true,\"lakecolor\":\"white\"},\"title\":{\"x\":0.05},\"mapbox\":{\"style\":\"light\"}}},\"xaxis\":{\"anchor\":\"y\",\"domain\":[0.0,1.0],\"title\":{\"text\":\"Level of Mosaicism (%)\"},\"type\":\"log\",\"tickvals\":[0.04,0.2,1,5,25],\"range\":[-2,3.25]},\"yaxis\":{\"anchor\":\"x\",\"domain\":[0.0,1.0],\"title\":{\"text\":\"Precision (L1)\"},\"range\":[0,1.1],\"tickvals\":[0,0.2,0.4,0.6,0.8,1]},\"legend\":{\"title\":{\"text\":\"depth\",\"font\":{\"size\":18,\"color\":\"black\"}},\"tracegroupgap\":0,\"font\":{\"size\":16},\"traceorder\":\"normal\",\"orientation\":\"v\",\"y\":1.1,\"x\":0.01},\"margin\":{\"t\":60},\"font\":{\"family\":\"Arial, sans-serif\",\"size\":18,\"color\":\"RebeccaPurple\"},\"width\":600,\"title\":{\"text\":\"Precision Plot-RetroSom\"}},                        {\"responsive\": true}                    ).then(function(){\n",
       "                            \n",
       "var gd = document.getElementById('40d4fe0c-9391-4c6a-986c-e6138101ff5d');\n",
       "var x = new MutationObserver(function (mutations, observer) {{\n",
       "        var display = window.getComputedStyle(gd).display;\n",
       "        if (!display || display === 'none') {{\n",
       "            console.log([gd, 'removed!']);\n",
       "            Plotly.purge(gd);\n",
       "            observer.disconnect();\n",
       "        }}\n",
       "}});\n",
       "\n",
       "// Listen for the removal of the full notebook cells\n",
       "var notebookContainer = gd.closest('#notebook-container');\n",
       "if (notebookContainer) {{\n",
       "    x.observe(notebookContainer, {childList: true});\n",
       "}}\n",
       "\n",
       "// Listen for the clearing of the current output cell\n",
       "var outputEl = gd.closest('.output');\n",
       "if (outputEl) {{\n",
       "    x.observe(outputEl, {childList: true});\n",
       "}}\n",
       "\n",
       "                        })                };                });            </script>        </div>"
      ]
     },
     "metadata": {},
     "output_type": "display_data"
    },
    {
     "data": {
      "application/vnd.plotly.v1+json": {
       "config": {
        "plotlyServerURL": "https://plot.ly"
       },
       "data": [],
       "layout": {
        "font": {
         "color": "RebeccaPurple",
         "family": "Arial, sans-serif",
         "size": 18
        },
        "legend": {
         "font": {
          "size": 16
         },
         "orientation": "v",
         "title": {
          "font": {
           "color": "black",
           "size": 18
          },
          "text": "depth"
         },
         "tracegroupgap": 0,
         "traceorder": "normal",
         "x": 0.01,
         "y": 1.1
        },
        "margin": {
         "t": 60
        },
        "template": {
         "data": {
          "bar": [
           {
            "error_x": {
             "color": "#2a3f5f"
            },
            "error_y": {
             "color": "#2a3f5f"
            },
            "marker": {
             "line": {
              "color": "#E5ECF6",
              "width": 0.5
             },
             "pattern": {
              "fillmode": "overlay",
              "size": 10,
              "solidity": 0.2
             }
            },
            "type": "bar"
           }
          ],
          "barpolar": [
           {
            "marker": {
             "line": {
              "color": "#E5ECF6",
              "width": 0.5
             },
             "pattern": {
              "fillmode": "overlay",
              "size": 10,
              "solidity": 0.2
             }
            },
            "type": "barpolar"
           }
          ],
          "carpet": [
           {
            "aaxis": {
             "endlinecolor": "#2a3f5f",
             "gridcolor": "white",
             "linecolor": "white",
             "minorgridcolor": "white",
             "startlinecolor": "#2a3f5f"
            },
            "baxis": {
             "endlinecolor": "#2a3f5f",
             "gridcolor": "white",
             "linecolor": "white",
             "minorgridcolor": "white",
             "startlinecolor": "#2a3f5f"
            },
            "type": "carpet"
           }
          ],
          "choropleth": [
           {
            "colorbar": {
             "outlinewidth": 0,
             "ticks": ""
            },
            "type": "choropleth"
           }
          ],
          "contour": [
           {
            "colorbar": {
             "outlinewidth": 0,
             "ticks": ""
            },
            "colorscale": [
             [
              0,
              "#0d0887"
             ],
             [
              0.1111111111111111,
              "#46039f"
             ],
             [
              0.2222222222222222,
              "#7201a8"
             ],
             [
              0.3333333333333333,
              "#9c179e"
             ],
             [
              0.4444444444444444,
              "#bd3786"
             ],
             [
              0.5555555555555556,
              "#d8576b"
             ],
             [
              0.6666666666666666,
              "#ed7953"
             ],
             [
              0.7777777777777778,
              "#fb9f3a"
             ],
             [
              0.8888888888888888,
              "#fdca26"
             ],
             [
              1,
              "#f0f921"
             ]
            ],
            "type": "contour"
           }
          ],
          "contourcarpet": [
           {
            "colorbar": {
             "outlinewidth": 0,
             "ticks": ""
            },
            "type": "contourcarpet"
           }
          ],
          "heatmap": [
           {
            "colorbar": {
             "outlinewidth": 0,
             "ticks": ""
            },
            "colorscale": [
             [
              0,
              "#0d0887"
             ],
             [
              0.1111111111111111,
              "#46039f"
             ],
             [
              0.2222222222222222,
              "#7201a8"
             ],
             [
              0.3333333333333333,
              "#9c179e"
             ],
             [
              0.4444444444444444,
              "#bd3786"
             ],
             [
              0.5555555555555556,
              "#d8576b"
             ],
             [
              0.6666666666666666,
              "#ed7953"
             ],
             [
              0.7777777777777778,
              "#fb9f3a"
             ],
             [
              0.8888888888888888,
              "#fdca26"
             ],
             [
              1,
              "#f0f921"
             ]
            ],
            "type": "heatmap"
           }
          ],
          "heatmapgl": [
           {
            "colorbar": {
             "outlinewidth": 0,
             "ticks": ""
            },
            "colorscale": [
             [
              0,
              "#0d0887"
             ],
             [
              0.1111111111111111,
              "#46039f"
             ],
             [
              0.2222222222222222,
              "#7201a8"
             ],
             [
              0.3333333333333333,
              "#9c179e"
             ],
             [
              0.4444444444444444,
              "#bd3786"
             ],
             [
              0.5555555555555556,
              "#d8576b"
             ],
             [
              0.6666666666666666,
              "#ed7953"
             ],
             [
              0.7777777777777778,
              "#fb9f3a"
             ],
             [
              0.8888888888888888,
              "#fdca26"
             ],
             [
              1,
              "#f0f921"
             ]
            ],
            "type": "heatmapgl"
           }
          ],
          "histogram": [
           {
            "marker": {
             "pattern": {
              "fillmode": "overlay",
              "size": 10,
              "solidity": 0.2
             }
            },
            "type": "histogram"
           }
          ],
          "histogram2d": [
           {
            "colorbar": {
             "outlinewidth": 0,
             "ticks": ""
            },
            "colorscale": [
             [
              0,
              "#0d0887"
             ],
             [
              0.1111111111111111,
              "#46039f"
             ],
             [
              0.2222222222222222,
              "#7201a8"
             ],
             [
              0.3333333333333333,
              "#9c179e"
             ],
             [
              0.4444444444444444,
              "#bd3786"
             ],
             [
              0.5555555555555556,
              "#d8576b"
             ],
             [
              0.6666666666666666,
              "#ed7953"
             ],
             [
              0.7777777777777778,
              "#fb9f3a"
             ],
             [
              0.8888888888888888,
              "#fdca26"
             ],
             [
              1,
              "#f0f921"
             ]
            ],
            "type": "histogram2d"
           }
          ],
          "histogram2dcontour": [
           {
            "colorbar": {
             "outlinewidth": 0,
             "ticks": ""
            },
            "colorscale": [
             [
              0,
              "#0d0887"
             ],
             [
              0.1111111111111111,
              "#46039f"
             ],
             [
              0.2222222222222222,
              "#7201a8"
             ],
             [
              0.3333333333333333,
              "#9c179e"
             ],
             [
              0.4444444444444444,
              "#bd3786"
             ],
             [
              0.5555555555555556,
              "#d8576b"
             ],
             [
              0.6666666666666666,
              "#ed7953"
             ],
             [
              0.7777777777777778,
              "#fb9f3a"
             ],
             [
              0.8888888888888888,
              "#fdca26"
             ],
             [
              1,
              "#f0f921"
             ]
            ],
            "type": "histogram2dcontour"
           }
          ],
          "mesh3d": [
           {
            "colorbar": {
             "outlinewidth": 0,
             "ticks": ""
            },
            "type": "mesh3d"
           }
          ],
          "parcoords": [
           {
            "line": {
             "colorbar": {
              "outlinewidth": 0,
              "ticks": ""
             }
            },
            "type": "parcoords"
           }
          ],
          "pie": [
           {
            "automargin": true,
            "type": "pie"
           }
          ],
          "scatter": [
           {
            "fillpattern": {
             "fillmode": "overlay",
             "size": 10,
             "solidity": 0.2
            },
            "type": "scatter"
           }
          ],
          "scatter3d": [
           {
            "line": {
             "colorbar": {
              "outlinewidth": 0,
              "ticks": ""
             }
            },
            "marker": {
             "colorbar": {
              "outlinewidth": 0,
              "ticks": ""
             }
            },
            "type": "scatter3d"
           }
          ],
          "scattercarpet": [
           {
            "marker": {
             "colorbar": {
              "outlinewidth": 0,
              "ticks": ""
             }
            },
            "type": "scattercarpet"
           }
          ],
          "scattergeo": [
           {
            "marker": {
             "colorbar": {
              "outlinewidth": 0,
              "ticks": ""
             }
            },
            "type": "scattergeo"
           }
          ],
          "scattergl": [
           {
            "marker": {
             "colorbar": {
              "outlinewidth": 0,
              "ticks": ""
             }
            },
            "type": "scattergl"
           }
          ],
          "scattermapbox": [
           {
            "marker": {
             "colorbar": {
              "outlinewidth": 0,
              "ticks": ""
             }
            },
            "type": "scattermapbox"
           }
          ],
          "scatterpolar": [
           {
            "marker": {
             "colorbar": {
              "outlinewidth": 0,
              "ticks": ""
             }
            },
            "type": "scatterpolar"
           }
          ],
          "scatterpolargl": [
           {
            "marker": {
             "colorbar": {
              "outlinewidth": 0,
              "ticks": ""
             }
            },
            "type": "scatterpolargl"
           }
          ],
          "scatterternary": [
           {
            "marker": {
             "colorbar": {
              "outlinewidth": 0,
              "ticks": ""
             }
            },
            "type": "scatterternary"
           }
          ],
          "surface": [
           {
            "colorbar": {
             "outlinewidth": 0,
             "ticks": ""
            },
            "colorscale": [
             [
              0,
              "#0d0887"
             ],
             [
              0.1111111111111111,
              "#46039f"
             ],
             [
              0.2222222222222222,
              "#7201a8"
             ],
             [
              0.3333333333333333,
              "#9c179e"
             ],
             [
              0.4444444444444444,
              "#bd3786"
             ],
             [
              0.5555555555555556,
              "#d8576b"
             ],
             [
              0.6666666666666666,
              "#ed7953"
             ],
             [
              0.7777777777777778,
              "#fb9f3a"
             ],
             [
              0.8888888888888888,
              "#fdca26"
             ],
             [
              1,
              "#f0f921"
             ]
            ],
            "type": "surface"
           }
          ],
          "table": [
           {
            "cells": {
             "fill": {
              "color": "#EBF0F8"
             },
             "line": {
              "color": "white"
             }
            },
            "header": {
             "fill": {
              "color": "#C8D4E3"
             },
             "line": {
              "color": "white"
             }
            },
            "type": "table"
           }
          ]
         },
         "layout": {
          "annotationdefaults": {
           "arrowcolor": "#2a3f5f",
           "arrowhead": 0,
           "arrowwidth": 1
          },
          "autotypenumbers": "strict",
          "coloraxis": {
           "colorbar": {
            "outlinewidth": 0,
            "ticks": ""
           }
          },
          "colorscale": {
           "diverging": [
            [
             0,
             "#8e0152"
            ],
            [
             0.1,
             "#c51b7d"
            ],
            [
             0.2,
             "#de77ae"
            ],
            [
             0.3,
             "#f1b6da"
            ],
            [
             0.4,
             "#fde0ef"
            ],
            [
             0.5,
             "#f7f7f7"
            ],
            [
             0.6,
             "#e6f5d0"
            ],
            [
             0.7,
             "#b8e186"
            ],
            [
             0.8,
             "#7fbc41"
            ],
            [
             0.9,
             "#4d9221"
            ],
            [
             1,
             "#276419"
            ]
           ],
           "sequential": [
            [
             0,
             "#0d0887"
            ],
            [
             0.1111111111111111,
             "#46039f"
            ],
            [
             0.2222222222222222,
             "#7201a8"
            ],
            [
             0.3333333333333333,
             "#9c179e"
            ],
            [
             0.4444444444444444,
             "#bd3786"
            ],
            [
             0.5555555555555556,
             "#d8576b"
            ],
            [
             0.6666666666666666,
             "#ed7953"
            ],
            [
             0.7777777777777778,
             "#fb9f3a"
            ],
            [
             0.8888888888888888,
             "#fdca26"
            ],
            [
             1,
             "#f0f921"
            ]
           ],
           "sequentialminus": [
            [
             0,
             "#0d0887"
            ],
            [
             0.1111111111111111,
             "#46039f"
            ],
            [
             0.2222222222222222,
             "#7201a8"
            ],
            [
             0.3333333333333333,
             "#9c179e"
            ],
            [
             0.4444444444444444,
             "#bd3786"
            ],
            [
             0.5555555555555556,
             "#d8576b"
            ],
            [
             0.6666666666666666,
             "#ed7953"
            ],
            [
             0.7777777777777778,
             "#fb9f3a"
            ],
            [
             0.8888888888888888,
             "#fdca26"
            ],
            [
             1,
             "#f0f921"
            ]
           ]
          },
          "colorway": [
           "#636efa",
           "#EF553B",
           "#00cc96",
           "#ab63fa",
           "#FFA15A",
           "#19d3f3",
           "#FF6692",
           "#B6E880",
           "#FF97FF",
           "#FECB52"
          ],
          "font": {
           "color": "#2a3f5f"
          },
          "geo": {
           "bgcolor": "white",
           "lakecolor": "white",
           "landcolor": "#E5ECF6",
           "showlakes": true,
           "showland": true,
           "subunitcolor": "white"
          },
          "hoverlabel": {
           "align": "left"
          },
          "hovermode": "closest",
          "mapbox": {
           "style": "light"
          },
          "paper_bgcolor": "white",
          "plot_bgcolor": "#E5ECF6",
          "polar": {
           "angularaxis": {
            "gridcolor": "white",
            "linecolor": "white",
            "ticks": ""
           },
           "bgcolor": "#E5ECF6",
           "radialaxis": {
            "gridcolor": "white",
            "linecolor": "white",
            "ticks": ""
           }
          },
          "scene": {
           "xaxis": {
            "backgroundcolor": "#E5ECF6",
            "gridcolor": "white",
            "gridwidth": 2,
            "linecolor": "white",
            "showbackground": true,
            "ticks": "",
            "zerolinecolor": "white"
           },
           "yaxis": {
            "backgroundcolor": "#E5ECF6",
            "gridcolor": "white",
            "gridwidth": 2,
            "linecolor": "white",
            "showbackground": true,
            "ticks": "",
            "zerolinecolor": "white"
           },
           "zaxis": {
            "backgroundcolor": "#E5ECF6",
            "gridcolor": "white",
            "gridwidth": 2,
            "linecolor": "white",
            "showbackground": true,
            "ticks": "",
            "zerolinecolor": "white"
           }
          },
          "shapedefaults": {
           "line": {
            "color": "#2a3f5f"
           }
          },
          "ternary": {
           "aaxis": {
            "gridcolor": "white",
            "linecolor": "white",
            "ticks": ""
           },
           "baxis": {
            "gridcolor": "white",
            "linecolor": "white",
            "ticks": ""
           },
           "bgcolor": "#E5ECF6",
           "caxis": {
            "gridcolor": "white",
            "linecolor": "white",
            "ticks": ""
           }
          },
          "title": {
           "x": 0.05
          },
          "xaxis": {
           "automargin": true,
           "gridcolor": "white",
           "linecolor": "white",
           "ticks": "",
           "title": {
            "standoff": 15
           },
           "zerolinecolor": "white",
           "zerolinewidth": 2
          },
          "yaxis": {
           "automargin": true,
           "gridcolor": "white",
           "linecolor": "white",
           "ticks": "",
           "title": {
            "standoff": 15
           },
           "zerolinecolor": "white",
           "zerolinewidth": 2
          }
         }
        },
        "title": {
         "text": "Precision Plot-xTea-mosaic"
        },
        "width": 600,
        "xaxis": {
         "anchor": "y",
         "domain": [
          0,
          1
         ],
         "range": [
          -2,
          3.25
         ],
         "tickvals": [
          0.04,
          0.2,
          1,
          5,
          25
         ],
         "title": {
          "text": "Level of Mosaicism (%)"
         },
         "type": "log"
        },
        "yaxis": {
         "anchor": "x",
         "domain": [
          0,
          1
         ],
         "range": [
          0,
          1.1
         ],
         "tickvals": [
          0,
          0.2,
          0.4,
          0.6,
          0.8,
          1
         ],
         "title": {
          "text": "Precision (Alu)"
         }
        }
       }
      },
      "text/html": [
       "<div>                            <div id=\"ac96b8f6-75a6-459a-aab7-c30b9b5568b5\" class=\"plotly-graph-div\" style=\"height:525px; width:600px;\"></div>            <script type=\"text/javascript\">                require([\"plotly\"], function(Plotly) {                    window.PLOTLYENV=window.PLOTLYENV || {};                                    if (document.getElementById(\"ac96b8f6-75a6-459a-aab7-c30b9b5568b5\")) {                    Plotly.newPlot(                        \"ac96b8f6-75a6-459a-aab7-c30b9b5568b5\",                        [],                        {\"template\":{\"data\":{\"histogram2dcontour\":[{\"type\":\"histogram2dcontour\",\"colorbar\":{\"outlinewidth\":0,\"ticks\":\"\"},\"colorscale\":[[0.0,\"#0d0887\"],[0.1111111111111111,\"#46039f\"],[0.2222222222222222,\"#7201a8\"],[0.3333333333333333,\"#9c179e\"],[0.4444444444444444,\"#bd3786\"],[0.5555555555555556,\"#d8576b\"],[0.6666666666666666,\"#ed7953\"],[0.7777777777777778,\"#fb9f3a\"],[0.8888888888888888,\"#fdca26\"],[1.0,\"#f0f921\"]]}],\"choropleth\":[{\"type\":\"choropleth\",\"colorbar\":{\"outlinewidth\":0,\"ticks\":\"\"}}],\"histogram2d\":[{\"type\":\"histogram2d\",\"colorbar\":{\"outlinewidth\":0,\"ticks\":\"\"},\"colorscale\":[[0.0,\"#0d0887\"],[0.1111111111111111,\"#46039f\"],[0.2222222222222222,\"#7201a8\"],[0.3333333333333333,\"#9c179e\"],[0.4444444444444444,\"#bd3786\"],[0.5555555555555556,\"#d8576b\"],[0.6666666666666666,\"#ed7953\"],[0.7777777777777778,\"#fb9f3a\"],[0.8888888888888888,\"#fdca26\"],[1.0,\"#f0f921\"]]}],\"heatmap\":[{\"type\":\"heatmap\",\"colorbar\":{\"outlinewidth\":0,\"ticks\":\"\"},\"colorscale\":[[0.0,\"#0d0887\"],[0.1111111111111111,\"#46039f\"],[0.2222222222222222,\"#7201a8\"],[0.3333333333333333,\"#9c179e\"],[0.4444444444444444,\"#bd3786\"],[0.5555555555555556,\"#d8576b\"],[0.6666666666666666,\"#ed7953\"],[0.7777777777777778,\"#fb9f3a\"],[0.8888888888888888,\"#fdca26\"],[1.0,\"#f0f921\"]]}],\"heatmapgl\":[{\"type\":\"heatmapgl\",\"colorbar\":{\"outlinewidth\":0,\"ticks\":\"\"},\"colorscale\":[[0.0,\"#0d0887\"],[0.1111111111111111,\"#46039f\"],[0.2222222222222222,\"#7201a8\"],[0.3333333333333333,\"#9c179e\"],[0.4444444444444444,\"#bd3786\"],[0.5555555555555556,\"#d8576b\"],[0.6666666666666666,\"#ed7953\"],[0.7777777777777778,\"#fb9f3a\"],[0.8888888888888888,\"#fdca26\"],[1.0,\"#f0f921\"]]}],\"contourcarpet\":[{\"type\":\"contourcarpet\",\"colorbar\":{\"outlinewidth\":0,\"ticks\":\"\"}}],\"contour\":[{\"type\":\"contour\",\"colorbar\":{\"outlinewidth\":0,\"ticks\":\"\"},\"colorscale\":[[0.0,\"#0d0887\"],[0.1111111111111111,\"#46039f\"],[0.2222222222222222,\"#7201a8\"],[0.3333333333333333,\"#9c179e\"],[0.4444444444444444,\"#bd3786\"],[0.5555555555555556,\"#d8576b\"],[0.6666666666666666,\"#ed7953\"],[0.7777777777777778,\"#fb9f3a\"],[0.8888888888888888,\"#fdca26\"],[1.0,\"#f0f921\"]]}],\"surface\":[{\"type\":\"surface\",\"colorbar\":{\"outlinewidth\":0,\"ticks\":\"\"},\"colorscale\":[[0.0,\"#0d0887\"],[0.1111111111111111,\"#46039f\"],[0.2222222222222222,\"#7201a8\"],[0.3333333333333333,\"#9c179e\"],[0.4444444444444444,\"#bd3786\"],[0.5555555555555556,\"#d8576b\"],[0.6666666666666666,\"#ed7953\"],[0.7777777777777778,\"#fb9f3a\"],[0.8888888888888888,\"#fdca26\"],[1.0,\"#f0f921\"]]}],\"mesh3d\":[{\"type\":\"mesh3d\",\"colorbar\":{\"outlinewidth\":0,\"ticks\":\"\"}}],\"scatter\":[{\"fillpattern\":{\"fillmode\":\"overlay\",\"size\":10,\"solidity\":0.2},\"type\":\"scatter\"}],\"parcoords\":[{\"type\":\"parcoords\",\"line\":{\"colorbar\":{\"outlinewidth\":0,\"ticks\":\"\"}}}],\"scatterpolargl\":[{\"type\":\"scatterpolargl\",\"marker\":{\"colorbar\":{\"outlinewidth\":0,\"ticks\":\"\"}}}],\"bar\":[{\"error_x\":{\"color\":\"#2a3f5f\"},\"error_y\":{\"color\":\"#2a3f5f\"},\"marker\":{\"line\":{\"color\":\"#E5ECF6\",\"width\":0.5},\"pattern\":{\"fillmode\":\"overlay\",\"size\":10,\"solidity\":0.2}},\"type\":\"bar\"}],\"scattergeo\":[{\"type\":\"scattergeo\",\"marker\":{\"colorbar\":{\"outlinewidth\":0,\"ticks\":\"\"}}}],\"scatterpolar\":[{\"type\":\"scatterpolar\",\"marker\":{\"colorbar\":{\"outlinewidth\":0,\"ticks\":\"\"}}}],\"histogram\":[{\"marker\":{\"pattern\":{\"fillmode\":\"overlay\",\"size\":10,\"solidity\":0.2}},\"type\":\"histogram\"}],\"scattergl\":[{\"type\":\"scattergl\",\"marker\":{\"colorbar\":{\"outlinewidth\":0,\"ticks\":\"\"}}}],\"scatter3d\":[{\"type\":\"scatter3d\",\"line\":{\"colorbar\":{\"outlinewidth\":0,\"ticks\":\"\"}},\"marker\":{\"colorbar\":{\"outlinewidth\":0,\"ticks\":\"\"}}}],\"scattermapbox\":[{\"type\":\"scattermapbox\",\"marker\":{\"colorbar\":{\"outlinewidth\":0,\"ticks\":\"\"}}}],\"scatterternary\":[{\"type\":\"scatterternary\",\"marker\":{\"colorbar\":{\"outlinewidth\":0,\"ticks\":\"\"}}}],\"scattercarpet\":[{\"type\":\"scattercarpet\",\"marker\":{\"colorbar\":{\"outlinewidth\":0,\"ticks\":\"\"}}}],\"carpet\":[{\"aaxis\":{\"endlinecolor\":\"#2a3f5f\",\"gridcolor\":\"white\",\"linecolor\":\"white\",\"minorgridcolor\":\"white\",\"startlinecolor\":\"#2a3f5f\"},\"baxis\":{\"endlinecolor\":\"#2a3f5f\",\"gridcolor\":\"white\",\"linecolor\":\"white\",\"minorgridcolor\":\"white\",\"startlinecolor\":\"#2a3f5f\"},\"type\":\"carpet\"}],\"table\":[{\"cells\":{\"fill\":{\"color\":\"#EBF0F8\"},\"line\":{\"color\":\"white\"}},\"header\":{\"fill\":{\"color\":\"#C8D4E3\"},\"line\":{\"color\":\"white\"}},\"type\":\"table\"}],\"barpolar\":[{\"marker\":{\"line\":{\"color\":\"#E5ECF6\",\"width\":0.5},\"pattern\":{\"fillmode\":\"overlay\",\"size\":10,\"solidity\":0.2}},\"type\":\"barpolar\"}],\"pie\":[{\"automargin\":true,\"type\":\"pie\"}]},\"layout\":{\"autotypenumbers\":\"strict\",\"colorway\":[\"#636efa\",\"#EF553B\",\"#00cc96\",\"#ab63fa\",\"#FFA15A\",\"#19d3f3\",\"#FF6692\",\"#B6E880\",\"#FF97FF\",\"#FECB52\"],\"font\":{\"color\":\"#2a3f5f\"},\"hovermode\":\"closest\",\"hoverlabel\":{\"align\":\"left\"},\"paper_bgcolor\":\"white\",\"plot_bgcolor\":\"#E5ECF6\",\"polar\":{\"bgcolor\":\"#E5ECF6\",\"angularaxis\":{\"gridcolor\":\"white\",\"linecolor\":\"white\",\"ticks\":\"\"},\"radialaxis\":{\"gridcolor\":\"white\",\"linecolor\":\"white\",\"ticks\":\"\"}},\"ternary\":{\"bgcolor\":\"#E5ECF6\",\"aaxis\":{\"gridcolor\":\"white\",\"linecolor\":\"white\",\"ticks\":\"\"},\"baxis\":{\"gridcolor\":\"white\",\"linecolor\":\"white\",\"ticks\":\"\"},\"caxis\":{\"gridcolor\":\"white\",\"linecolor\":\"white\",\"ticks\":\"\"}},\"coloraxis\":{\"colorbar\":{\"outlinewidth\":0,\"ticks\":\"\"}},\"colorscale\":{\"sequential\":[[0.0,\"#0d0887\"],[0.1111111111111111,\"#46039f\"],[0.2222222222222222,\"#7201a8\"],[0.3333333333333333,\"#9c179e\"],[0.4444444444444444,\"#bd3786\"],[0.5555555555555556,\"#d8576b\"],[0.6666666666666666,\"#ed7953\"],[0.7777777777777778,\"#fb9f3a\"],[0.8888888888888888,\"#fdca26\"],[1.0,\"#f0f921\"]],\"sequentialminus\":[[0.0,\"#0d0887\"],[0.1111111111111111,\"#46039f\"],[0.2222222222222222,\"#7201a8\"],[0.3333333333333333,\"#9c179e\"],[0.4444444444444444,\"#bd3786\"],[0.5555555555555556,\"#d8576b\"],[0.6666666666666666,\"#ed7953\"],[0.7777777777777778,\"#fb9f3a\"],[0.8888888888888888,\"#fdca26\"],[1.0,\"#f0f921\"]],\"diverging\":[[0,\"#8e0152\"],[0.1,\"#c51b7d\"],[0.2,\"#de77ae\"],[0.3,\"#f1b6da\"],[0.4,\"#fde0ef\"],[0.5,\"#f7f7f7\"],[0.6,\"#e6f5d0\"],[0.7,\"#b8e186\"],[0.8,\"#7fbc41\"],[0.9,\"#4d9221\"],[1,\"#276419\"]]},\"xaxis\":{\"gridcolor\":\"white\",\"linecolor\":\"white\",\"ticks\":\"\",\"title\":{\"standoff\":15},\"zerolinecolor\":\"white\",\"automargin\":true,\"zerolinewidth\":2},\"yaxis\":{\"gridcolor\":\"white\",\"linecolor\":\"white\",\"ticks\":\"\",\"title\":{\"standoff\":15},\"zerolinecolor\":\"white\",\"automargin\":true,\"zerolinewidth\":2},\"scene\":{\"xaxis\":{\"backgroundcolor\":\"#E5ECF6\",\"gridcolor\":\"white\",\"linecolor\":\"white\",\"showbackground\":true,\"ticks\":\"\",\"zerolinecolor\":\"white\",\"gridwidth\":2},\"yaxis\":{\"backgroundcolor\":\"#E5ECF6\",\"gridcolor\":\"white\",\"linecolor\":\"white\",\"showbackground\":true,\"ticks\":\"\",\"zerolinecolor\":\"white\",\"gridwidth\":2},\"zaxis\":{\"backgroundcolor\":\"#E5ECF6\",\"gridcolor\":\"white\",\"linecolor\":\"white\",\"showbackground\":true,\"ticks\":\"\",\"zerolinecolor\":\"white\",\"gridwidth\":2}},\"shapedefaults\":{\"line\":{\"color\":\"#2a3f5f\"}},\"annotationdefaults\":{\"arrowcolor\":\"#2a3f5f\",\"arrowhead\":0,\"arrowwidth\":1},\"geo\":{\"bgcolor\":\"white\",\"landcolor\":\"#E5ECF6\",\"subunitcolor\":\"white\",\"showland\":true,\"showlakes\":true,\"lakecolor\":\"white\"},\"title\":{\"x\":0.05},\"mapbox\":{\"style\":\"light\"}}},\"xaxis\":{\"anchor\":\"y\",\"domain\":[0.0,1.0],\"title\":{\"text\":\"Level of Mosaicism (%)\"},\"type\":\"log\",\"tickvals\":[0.04,0.2,1,5,25],\"range\":[-2,3.25]},\"yaxis\":{\"anchor\":\"x\",\"domain\":[0.0,1.0],\"title\":{\"text\":\"Precision (Alu)\"},\"range\":[0,1.1],\"tickvals\":[0,0.2,0.4,0.6,0.8,1]},\"legend\":{\"tracegroupgap\":0,\"font\":{\"size\":16},\"title\":{\"font\":{\"size\":18,\"color\":\"black\"},\"text\":\"depth\"},\"traceorder\":\"normal\",\"orientation\":\"v\",\"y\":1.1,\"x\":0.01},\"margin\":{\"t\":60},\"font\":{\"family\":\"Arial, sans-serif\",\"size\":18,\"color\":\"RebeccaPurple\"},\"width\":600,\"title\":{\"text\":\"Precision Plot-xTea-mosaic\"}},                        {\"responsive\": true}                    ).then(function(){\n",
       "                            \n",
       "var gd = document.getElementById('ac96b8f6-75a6-459a-aab7-c30b9b5568b5');\n",
       "var x = new MutationObserver(function (mutations, observer) {{\n",
       "        var display = window.getComputedStyle(gd).display;\n",
       "        if (!display || display === 'none') {{\n",
       "            console.log([gd, 'removed!']);\n",
       "            Plotly.purge(gd);\n",
       "            observer.disconnect();\n",
       "        }}\n",
       "}});\n",
       "\n",
       "// Listen for the removal of the full notebook cells\n",
       "var notebookContainer = gd.closest('#notebook-container');\n",
       "if (notebookContainer) {{\n",
       "    x.observe(notebookContainer, {childList: true});\n",
       "}}\n",
       "\n",
       "// Listen for the clearing of the current output cell\n",
       "var outputEl = gd.closest('.output');\n",
       "if (outputEl) {{\n",
       "    x.observe(outputEl, {childList: true});\n",
       "}}\n",
       "\n",
       "                        })                };                });            </script>        </div>"
      ]
     },
     "metadata": {},
     "output_type": "display_data"
    },
    {
     "data": {
      "application/vnd.plotly.v1+json": {
       "config": {
        "plotlyServerURL": "https://plot.ly"
       },
       "data": [
        {
         "hovertemplate": "depth=50x<br>vaf=%{x}<br>precision=%{y}<extra></extra>",
         "legendgroup": "50x",
         "line": {
          "color": "rgb(228,26,28)",
          "dash": "solid"
         },
         "marker": {
          "size": 10,
          "symbol": 1
         },
         "mode": "lines+markers",
         "name": "50x",
         "orientation": "v",
         "showlegend": true,
         "type": "scatter",
         "x": [
          0.5,
          2,
          10
         ],
         "xaxis": "x",
         "y": [
          0,
          0,
          0
         ],
         "yaxis": "y"
        },
        {
         "hovertemplate": "depth=100x<br>vaf=%{x}<br>precision=%{y}<extra></extra>",
         "legendgroup": "100x",
         "line": {
          "color": "rgb(55,126,184)",
          "dash": "solid"
         },
         "marker": {
          "size": 10,
          "symbol": 3
         },
         "mode": "lines+markers",
         "name": "100x",
         "orientation": "v",
         "showlegend": true,
         "type": "scatter",
         "x": [
          0.5,
          2,
          10
         ],
         "xaxis": "x",
         "y": [
          0,
          0,
          0
         ],
         "yaxis": "y"
        },
        {
         "hovertemplate": "depth=200x<br>vaf=%{x}<br>precision=%{y}<extra></extra>",
         "legendgroup": "200x",
         "line": {
          "color": "rgb(77,175,74)",
          "dash": "solid"
         },
         "marker": {
          "size": 10,
          "symbol": 16
         },
         "mode": "lines+markers",
         "name": "200x",
         "orientation": "v",
         "showlegend": true,
         "type": "scatter",
         "x": [
          0.5,
          2,
          10
         ],
         "xaxis": "x",
         "y": [
          0,
          0,
          0
         ],
         "yaxis": "y"
        },
        {
         "hovertemplate": "depth=300x<br>vaf=%{x}<br>precision=%{y}<extra></extra>",
         "legendgroup": "300x",
         "line": {
          "color": "rgb(152,78,163)",
          "dash": "solid"
         },
         "marker": {
          "size": 10,
          "symbol": 17
         },
         "mode": "lines+markers",
         "name": "300x",
         "orientation": "v",
         "showlegend": true,
         "type": "scatter",
         "x": [
          0.5,
          2,
          10
         ],
         "xaxis": "x",
         "y": [
          0,
          0,
          0.01706484641638225
         ],
         "yaxis": "y"
        }
       ],
       "layout": {
        "font": {
         "color": "RebeccaPurple",
         "family": "Arial, sans-serif",
         "size": 18
        },
        "legend": {
         "font": {
          "size": 16
         },
         "orientation": "v",
         "title": {
          "font": {
           "color": "black",
           "size": 18
          },
          "text": "depth"
         },
         "tracegroupgap": 0,
         "traceorder": "normal",
         "x": 0.01,
         "y": 1.1
        },
        "margin": {
         "t": 60
        },
        "template": {
         "data": {
          "bar": [
           {
            "error_x": {
             "color": "#2a3f5f"
            },
            "error_y": {
             "color": "#2a3f5f"
            },
            "marker": {
             "line": {
              "color": "#E5ECF6",
              "width": 0.5
             },
             "pattern": {
              "fillmode": "overlay",
              "size": 10,
              "solidity": 0.2
             }
            },
            "type": "bar"
           }
          ],
          "barpolar": [
           {
            "marker": {
             "line": {
              "color": "#E5ECF6",
              "width": 0.5
             },
             "pattern": {
              "fillmode": "overlay",
              "size": 10,
              "solidity": 0.2
             }
            },
            "type": "barpolar"
           }
          ],
          "carpet": [
           {
            "aaxis": {
             "endlinecolor": "#2a3f5f",
             "gridcolor": "white",
             "linecolor": "white",
             "minorgridcolor": "white",
             "startlinecolor": "#2a3f5f"
            },
            "baxis": {
             "endlinecolor": "#2a3f5f",
             "gridcolor": "white",
             "linecolor": "white",
             "minorgridcolor": "white",
             "startlinecolor": "#2a3f5f"
            },
            "type": "carpet"
           }
          ],
          "choropleth": [
           {
            "colorbar": {
             "outlinewidth": 0,
             "ticks": ""
            },
            "type": "choropleth"
           }
          ],
          "contour": [
           {
            "colorbar": {
             "outlinewidth": 0,
             "ticks": ""
            },
            "colorscale": [
             [
              0,
              "#0d0887"
             ],
             [
              0.1111111111111111,
              "#46039f"
             ],
             [
              0.2222222222222222,
              "#7201a8"
             ],
             [
              0.3333333333333333,
              "#9c179e"
             ],
             [
              0.4444444444444444,
              "#bd3786"
             ],
             [
              0.5555555555555556,
              "#d8576b"
             ],
             [
              0.6666666666666666,
              "#ed7953"
             ],
             [
              0.7777777777777778,
              "#fb9f3a"
             ],
             [
              0.8888888888888888,
              "#fdca26"
             ],
             [
              1,
              "#f0f921"
             ]
            ],
            "type": "contour"
           }
          ],
          "contourcarpet": [
           {
            "colorbar": {
             "outlinewidth": 0,
             "ticks": ""
            },
            "type": "contourcarpet"
           }
          ],
          "heatmap": [
           {
            "colorbar": {
             "outlinewidth": 0,
             "ticks": ""
            },
            "colorscale": [
             [
              0,
              "#0d0887"
             ],
             [
              0.1111111111111111,
              "#46039f"
             ],
             [
              0.2222222222222222,
              "#7201a8"
             ],
             [
              0.3333333333333333,
              "#9c179e"
             ],
             [
              0.4444444444444444,
              "#bd3786"
             ],
             [
              0.5555555555555556,
              "#d8576b"
             ],
             [
              0.6666666666666666,
              "#ed7953"
             ],
             [
              0.7777777777777778,
              "#fb9f3a"
             ],
             [
              0.8888888888888888,
              "#fdca26"
             ],
             [
              1,
              "#f0f921"
             ]
            ],
            "type": "heatmap"
           }
          ],
          "heatmapgl": [
           {
            "colorbar": {
             "outlinewidth": 0,
             "ticks": ""
            },
            "colorscale": [
             [
              0,
              "#0d0887"
             ],
             [
              0.1111111111111111,
              "#46039f"
             ],
             [
              0.2222222222222222,
              "#7201a8"
             ],
             [
              0.3333333333333333,
              "#9c179e"
             ],
             [
              0.4444444444444444,
              "#bd3786"
             ],
             [
              0.5555555555555556,
              "#d8576b"
             ],
             [
              0.6666666666666666,
              "#ed7953"
             ],
             [
              0.7777777777777778,
              "#fb9f3a"
             ],
             [
              0.8888888888888888,
              "#fdca26"
             ],
             [
              1,
              "#f0f921"
             ]
            ],
            "type": "heatmapgl"
           }
          ],
          "histogram": [
           {
            "marker": {
             "pattern": {
              "fillmode": "overlay",
              "size": 10,
              "solidity": 0.2
             }
            },
            "type": "histogram"
           }
          ],
          "histogram2d": [
           {
            "colorbar": {
             "outlinewidth": 0,
             "ticks": ""
            },
            "colorscale": [
             [
              0,
              "#0d0887"
             ],
             [
              0.1111111111111111,
              "#46039f"
             ],
             [
              0.2222222222222222,
              "#7201a8"
             ],
             [
              0.3333333333333333,
              "#9c179e"
             ],
             [
              0.4444444444444444,
              "#bd3786"
             ],
             [
              0.5555555555555556,
              "#d8576b"
             ],
             [
              0.6666666666666666,
              "#ed7953"
             ],
             [
              0.7777777777777778,
              "#fb9f3a"
             ],
             [
              0.8888888888888888,
              "#fdca26"
             ],
             [
              1,
              "#f0f921"
             ]
            ],
            "type": "histogram2d"
           }
          ],
          "histogram2dcontour": [
           {
            "colorbar": {
             "outlinewidth": 0,
             "ticks": ""
            },
            "colorscale": [
             [
              0,
              "#0d0887"
             ],
             [
              0.1111111111111111,
              "#46039f"
             ],
             [
              0.2222222222222222,
              "#7201a8"
             ],
             [
              0.3333333333333333,
              "#9c179e"
             ],
             [
              0.4444444444444444,
              "#bd3786"
             ],
             [
              0.5555555555555556,
              "#d8576b"
             ],
             [
              0.6666666666666666,
              "#ed7953"
             ],
             [
              0.7777777777777778,
              "#fb9f3a"
             ],
             [
              0.8888888888888888,
              "#fdca26"
             ],
             [
              1,
              "#f0f921"
             ]
            ],
            "type": "histogram2dcontour"
           }
          ],
          "mesh3d": [
           {
            "colorbar": {
             "outlinewidth": 0,
             "ticks": ""
            },
            "type": "mesh3d"
           }
          ],
          "parcoords": [
           {
            "line": {
             "colorbar": {
              "outlinewidth": 0,
              "ticks": ""
             }
            },
            "type": "parcoords"
           }
          ],
          "pie": [
           {
            "automargin": true,
            "type": "pie"
           }
          ],
          "scatter": [
           {
            "fillpattern": {
             "fillmode": "overlay",
             "size": 10,
             "solidity": 0.2
            },
            "type": "scatter"
           }
          ],
          "scatter3d": [
           {
            "line": {
             "colorbar": {
              "outlinewidth": 0,
              "ticks": ""
             }
            },
            "marker": {
             "colorbar": {
              "outlinewidth": 0,
              "ticks": ""
             }
            },
            "type": "scatter3d"
           }
          ],
          "scattercarpet": [
           {
            "marker": {
             "colorbar": {
              "outlinewidth": 0,
              "ticks": ""
             }
            },
            "type": "scattercarpet"
           }
          ],
          "scattergeo": [
           {
            "marker": {
             "colorbar": {
              "outlinewidth": 0,
              "ticks": ""
             }
            },
            "type": "scattergeo"
           }
          ],
          "scattergl": [
           {
            "marker": {
             "colorbar": {
              "outlinewidth": 0,
              "ticks": ""
             }
            },
            "type": "scattergl"
           }
          ],
          "scattermapbox": [
           {
            "marker": {
             "colorbar": {
              "outlinewidth": 0,
              "ticks": ""
             }
            },
            "type": "scattermapbox"
           }
          ],
          "scatterpolar": [
           {
            "marker": {
             "colorbar": {
              "outlinewidth": 0,
              "ticks": ""
             }
            },
            "type": "scatterpolar"
           }
          ],
          "scatterpolargl": [
           {
            "marker": {
             "colorbar": {
              "outlinewidth": 0,
              "ticks": ""
             }
            },
            "type": "scatterpolargl"
           }
          ],
          "scatterternary": [
           {
            "marker": {
             "colorbar": {
              "outlinewidth": 0,
              "ticks": ""
             }
            },
            "type": "scatterternary"
           }
          ],
          "surface": [
           {
            "colorbar": {
             "outlinewidth": 0,
             "ticks": ""
            },
            "colorscale": [
             [
              0,
              "#0d0887"
             ],
             [
              0.1111111111111111,
              "#46039f"
             ],
             [
              0.2222222222222222,
              "#7201a8"
             ],
             [
              0.3333333333333333,
              "#9c179e"
             ],
             [
              0.4444444444444444,
              "#bd3786"
             ],
             [
              0.5555555555555556,
              "#d8576b"
             ],
             [
              0.6666666666666666,
              "#ed7953"
             ],
             [
              0.7777777777777778,
              "#fb9f3a"
             ],
             [
              0.8888888888888888,
              "#fdca26"
             ],
             [
              1,
              "#f0f921"
             ]
            ],
            "type": "surface"
           }
          ],
          "table": [
           {
            "cells": {
             "fill": {
              "color": "#EBF0F8"
             },
             "line": {
              "color": "white"
             }
            },
            "header": {
             "fill": {
              "color": "#C8D4E3"
             },
             "line": {
              "color": "white"
             }
            },
            "type": "table"
           }
          ]
         },
         "layout": {
          "annotationdefaults": {
           "arrowcolor": "#2a3f5f",
           "arrowhead": 0,
           "arrowwidth": 1
          },
          "autotypenumbers": "strict",
          "coloraxis": {
           "colorbar": {
            "outlinewidth": 0,
            "ticks": ""
           }
          },
          "colorscale": {
           "diverging": [
            [
             0,
             "#8e0152"
            ],
            [
             0.1,
             "#c51b7d"
            ],
            [
             0.2,
             "#de77ae"
            ],
            [
             0.3,
             "#f1b6da"
            ],
            [
             0.4,
             "#fde0ef"
            ],
            [
             0.5,
             "#f7f7f7"
            ],
            [
             0.6,
             "#e6f5d0"
            ],
            [
             0.7,
             "#b8e186"
            ],
            [
             0.8,
             "#7fbc41"
            ],
            [
             0.9,
             "#4d9221"
            ],
            [
             1,
             "#276419"
            ]
           ],
           "sequential": [
            [
             0,
             "#0d0887"
            ],
            [
             0.1111111111111111,
             "#46039f"
            ],
            [
             0.2222222222222222,
             "#7201a8"
            ],
            [
             0.3333333333333333,
             "#9c179e"
            ],
            [
             0.4444444444444444,
             "#bd3786"
            ],
            [
             0.5555555555555556,
             "#d8576b"
            ],
            [
             0.6666666666666666,
             "#ed7953"
            ],
            [
             0.7777777777777778,
             "#fb9f3a"
            ],
            [
             0.8888888888888888,
             "#fdca26"
            ],
            [
             1,
             "#f0f921"
            ]
           ],
           "sequentialminus": [
            [
             0,
             "#0d0887"
            ],
            [
             0.1111111111111111,
             "#46039f"
            ],
            [
             0.2222222222222222,
             "#7201a8"
            ],
            [
             0.3333333333333333,
             "#9c179e"
            ],
            [
             0.4444444444444444,
             "#bd3786"
            ],
            [
             0.5555555555555556,
             "#d8576b"
            ],
            [
             0.6666666666666666,
             "#ed7953"
            ],
            [
             0.7777777777777778,
             "#fb9f3a"
            ],
            [
             0.8888888888888888,
             "#fdca26"
            ],
            [
             1,
             "#f0f921"
            ]
           ]
          },
          "colorway": [
           "#636efa",
           "#EF553B",
           "#00cc96",
           "#ab63fa",
           "#FFA15A",
           "#19d3f3",
           "#FF6692",
           "#B6E880",
           "#FF97FF",
           "#FECB52"
          ],
          "font": {
           "color": "#2a3f5f"
          },
          "geo": {
           "bgcolor": "white",
           "lakecolor": "white",
           "landcolor": "#E5ECF6",
           "showlakes": true,
           "showland": true,
           "subunitcolor": "white"
          },
          "hoverlabel": {
           "align": "left"
          },
          "hovermode": "closest",
          "mapbox": {
           "style": "light"
          },
          "paper_bgcolor": "white",
          "plot_bgcolor": "#E5ECF6",
          "polar": {
           "angularaxis": {
            "gridcolor": "white",
            "linecolor": "white",
            "ticks": ""
           },
           "bgcolor": "#E5ECF6",
           "radialaxis": {
            "gridcolor": "white",
            "linecolor": "white",
            "ticks": ""
           }
          },
          "scene": {
           "xaxis": {
            "backgroundcolor": "#E5ECF6",
            "gridcolor": "white",
            "gridwidth": 2,
            "linecolor": "white",
            "showbackground": true,
            "ticks": "",
            "zerolinecolor": "white"
           },
           "yaxis": {
            "backgroundcolor": "#E5ECF6",
            "gridcolor": "white",
            "gridwidth": 2,
            "linecolor": "white",
            "showbackground": true,
            "ticks": "",
            "zerolinecolor": "white"
           },
           "zaxis": {
            "backgroundcolor": "#E5ECF6",
            "gridcolor": "white",
            "gridwidth": 2,
            "linecolor": "white",
            "showbackground": true,
            "ticks": "",
            "zerolinecolor": "white"
           }
          },
          "shapedefaults": {
           "line": {
            "color": "#2a3f5f"
           }
          },
          "ternary": {
           "aaxis": {
            "gridcolor": "white",
            "linecolor": "white",
            "ticks": ""
           },
           "baxis": {
            "gridcolor": "white",
            "linecolor": "white",
            "ticks": ""
           },
           "bgcolor": "#E5ECF6",
           "caxis": {
            "gridcolor": "white",
            "linecolor": "white",
            "ticks": ""
           }
          },
          "title": {
           "x": 0.05
          },
          "xaxis": {
           "automargin": true,
           "gridcolor": "white",
           "linecolor": "white",
           "ticks": "",
           "title": {
            "standoff": 15
           },
           "zerolinecolor": "white",
           "zerolinewidth": 2
          },
          "yaxis": {
           "automargin": true,
           "gridcolor": "white",
           "linecolor": "white",
           "ticks": "",
           "title": {
            "standoff": 15
           },
           "zerolinecolor": "white",
           "zerolinewidth": 2
          }
         }
        },
        "title": {
         "text": "Precision Plot-xTea-mosaic"
        },
        "width": 600,
        "xaxis": {
         "anchor": "y",
         "domain": [
          0,
          1
         ],
         "range": [
          -2,
          3.25
         ],
         "tickvals": [
          0.04,
          0.2,
          1,
          5,
          25
         ],
         "title": {
          "text": "Level of Mosaicism (%)"
         },
         "type": "log"
        },
        "yaxis": {
         "anchor": "x",
         "domain": [
          0,
          1
         ],
         "range": [
          0,
          1.1
         ],
         "tickvals": [
          0,
          0.2,
          0.4,
          0.6,
          0.8,
          1
         ],
         "title": {
          "text": "Precision (L1)"
         }
        }
       }
      },
      "text/html": [
       "<div>                            <div id=\"6ada00fa-b551-412b-8acd-c7d3514707ec\" class=\"plotly-graph-div\" style=\"height:525px; width:600px;\"></div>            <script type=\"text/javascript\">                require([\"plotly\"], function(Plotly) {                    window.PLOTLYENV=window.PLOTLYENV || {};                                    if (document.getElementById(\"6ada00fa-b551-412b-8acd-c7d3514707ec\")) {                    Plotly.newPlot(                        \"6ada00fa-b551-412b-8acd-c7d3514707ec\",                        [{\"hovertemplate\":\"depth=50x\\u003cbr\\u003evaf=%{x}\\u003cbr\\u003eprecision=%{y}\\u003cextra\\u003e\\u003c\\u002fextra\\u003e\",\"legendgroup\":\"50x\",\"line\":{\"color\":\"rgb(228,26,28)\",\"dash\":\"solid\"},\"marker\":{\"symbol\":1,\"size\":10},\"mode\":\"lines+markers\",\"name\":\"50x\",\"orientation\":\"v\",\"showlegend\":true,\"x\":[0.5,2.0,10.0],\"xaxis\":\"x\",\"y\":[0.0,0.0,0.0],\"yaxis\":\"y\",\"type\":\"scatter\"},{\"hovertemplate\":\"depth=100x\\u003cbr\\u003evaf=%{x}\\u003cbr\\u003eprecision=%{y}\\u003cextra\\u003e\\u003c\\u002fextra\\u003e\",\"legendgroup\":\"100x\",\"line\":{\"color\":\"rgb(55,126,184)\",\"dash\":\"solid\"},\"marker\":{\"symbol\":3,\"size\":10},\"mode\":\"lines+markers\",\"name\":\"100x\",\"orientation\":\"v\",\"showlegend\":true,\"x\":[0.5,2.0,10.0],\"xaxis\":\"x\",\"y\":[0.0,0.0,0.0],\"yaxis\":\"y\",\"type\":\"scatter\"},{\"hovertemplate\":\"depth=200x\\u003cbr\\u003evaf=%{x}\\u003cbr\\u003eprecision=%{y}\\u003cextra\\u003e\\u003c\\u002fextra\\u003e\",\"legendgroup\":\"200x\",\"line\":{\"color\":\"rgb(77,175,74)\",\"dash\":\"solid\"},\"marker\":{\"symbol\":16,\"size\":10},\"mode\":\"lines+markers\",\"name\":\"200x\",\"orientation\":\"v\",\"showlegend\":true,\"x\":[0.5,2.0,10.0],\"xaxis\":\"x\",\"y\":[0.0,0.0,0.0],\"yaxis\":\"y\",\"type\":\"scatter\"},{\"hovertemplate\":\"depth=300x\\u003cbr\\u003evaf=%{x}\\u003cbr\\u003eprecision=%{y}\\u003cextra\\u003e\\u003c\\u002fextra\\u003e\",\"legendgroup\":\"300x\",\"line\":{\"color\":\"rgb(152,78,163)\",\"dash\":\"solid\"},\"marker\":{\"symbol\":17,\"size\":10},\"mode\":\"lines+markers\",\"name\":\"300x\",\"orientation\":\"v\",\"showlegend\":true,\"x\":[0.5,2.0,10.0],\"xaxis\":\"x\",\"y\":[0.0,0.0,0.01706484641638225],\"yaxis\":\"y\",\"type\":\"scatter\"}],                        {\"template\":{\"data\":{\"histogram2dcontour\":[{\"type\":\"histogram2dcontour\",\"colorbar\":{\"outlinewidth\":0,\"ticks\":\"\"},\"colorscale\":[[0.0,\"#0d0887\"],[0.1111111111111111,\"#46039f\"],[0.2222222222222222,\"#7201a8\"],[0.3333333333333333,\"#9c179e\"],[0.4444444444444444,\"#bd3786\"],[0.5555555555555556,\"#d8576b\"],[0.6666666666666666,\"#ed7953\"],[0.7777777777777778,\"#fb9f3a\"],[0.8888888888888888,\"#fdca26\"],[1.0,\"#f0f921\"]]}],\"choropleth\":[{\"type\":\"choropleth\",\"colorbar\":{\"outlinewidth\":0,\"ticks\":\"\"}}],\"histogram2d\":[{\"type\":\"histogram2d\",\"colorbar\":{\"outlinewidth\":0,\"ticks\":\"\"},\"colorscale\":[[0.0,\"#0d0887\"],[0.1111111111111111,\"#46039f\"],[0.2222222222222222,\"#7201a8\"],[0.3333333333333333,\"#9c179e\"],[0.4444444444444444,\"#bd3786\"],[0.5555555555555556,\"#d8576b\"],[0.6666666666666666,\"#ed7953\"],[0.7777777777777778,\"#fb9f3a\"],[0.8888888888888888,\"#fdca26\"],[1.0,\"#f0f921\"]]}],\"heatmap\":[{\"type\":\"heatmap\",\"colorbar\":{\"outlinewidth\":0,\"ticks\":\"\"},\"colorscale\":[[0.0,\"#0d0887\"],[0.1111111111111111,\"#46039f\"],[0.2222222222222222,\"#7201a8\"],[0.3333333333333333,\"#9c179e\"],[0.4444444444444444,\"#bd3786\"],[0.5555555555555556,\"#d8576b\"],[0.6666666666666666,\"#ed7953\"],[0.7777777777777778,\"#fb9f3a\"],[0.8888888888888888,\"#fdca26\"],[1.0,\"#f0f921\"]]}],\"heatmapgl\":[{\"type\":\"heatmapgl\",\"colorbar\":{\"outlinewidth\":0,\"ticks\":\"\"},\"colorscale\":[[0.0,\"#0d0887\"],[0.1111111111111111,\"#46039f\"],[0.2222222222222222,\"#7201a8\"],[0.3333333333333333,\"#9c179e\"],[0.4444444444444444,\"#bd3786\"],[0.5555555555555556,\"#d8576b\"],[0.6666666666666666,\"#ed7953\"],[0.7777777777777778,\"#fb9f3a\"],[0.8888888888888888,\"#fdca26\"],[1.0,\"#f0f921\"]]}],\"contourcarpet\":[{\"type\":\"contourcarpet\",\"colorbar\":{\"outlinewidth\":0,\"ticks\":\"\"}}],\"contour\":[{\"type\":\"contour\",\"colorbar\":{\"outlinewidth\":0,\"ticks\":\"\"},\"colorscale\":[[0.0,\"#0d0887\"],[0.1111111111111111,\"#46039f\"],[0.2222222222222222,\"#7201a8\"],[0.3333333333333333,\"#9c179e\"],[0.4444444444444444,\"#bd3786\"],[0.5555555555555556,\"#d8576b\"],[0.6666666666666666,\"#ed7953\"],[0.7777777777777778,\"#fb9f3a\"],[0.8888888888888888,\"#fdca26\"],[1.0,\"#f0f921\"]]}],\"surface\":[{\"type\":\"surface\",\"colorbar\":{\"outlinewidth\":0,\"ticks\":\"\"},\"colorscale\":[[0.0,\"#0d0887\"],[0.1111111111111111,\"#46039f\"],[0.2222222222222222,\"#7201a8\"],[0.3333333333333333,\"#9c179e\"],[0.4444444444444444,\"#bd3786\"],[0.5555555555555556,\"#d8576b\"],[0.6666666666666666,\"#ed7953\"],[0.7777777777777778,\"#fb9f3a\"],[0.8888888888888888,\"#fdca26\"],[1.0,\"#f0f921\"]]}],\"mesh3d\":[{\"type\":\"mesh3d\",\"colorbar\":{\"outlinewidth\":0,\"ticks\":\"\"}}],\"scatter\":[{\"fillpattern\":{\"fillmode\":\"overlay\",\"size\":10,\"solidity\":0.2},\"type\":\"scatter\"}],\"parcoords\":[{\"type\":\"parcoords\",\"line\":{\"colorbar\":{\"outlinewidth\":0,\"ticks\":\"\"}}}],\"scatterpolargl\":[{\"type\":\"scatterpolargl\",\"marker\":{\"colorbar\":{\"outlinewidth\":0,\"ticks\":\"\"}}}],\"bar\":[{\"error_x\":{\"color\":\"#2a3f5f\"},\"error_y\":{\"color\":\"#2a3f5f\"},\"marker\":{\"line\":{\"color\":\"#E5ECF6\",\"width\":0.5},\"pattern\":{\"fillmode\":\"overlay\",\"size\":10,\"solidity\":0.2}},\"type\":\"bar\"}],\"scattergeo\":[{\"type\":\"scattergeo\",\"marker\":{\"colorbar\":{\"outlinewidth\":0,\"ticks\":\"\"}}}],\"scatterpolar\":[{\"type\":\"scatterpolar\",\"marker\":{\"colorbar\":{\"outlinewidth\":0,\"ticks\":\"\"}}}],\"histogram\":[{\"marker\":{\"pattern\":{\"fillmode\":\"overlay\",\"size\":10,\"solidity\":0.2}},\"type\":\"histogram\"}],\"scattergl\":[{\"type\":\"scattergl\",\"marker\":{\"colorbar\":{\"outlinewidth\":0,\"ticks\":\"\"}}}],\"scatter3d\":[{\"type\":\"scatter3d\",\"line\":{\"colorbar\":{\"outlinewidth\":0,\"ticks\":\"\"}},\"marker\":{\"colorbar\":{\"outlinewidth\":0,\"ticks\":\"\"}}}],\"scattermapbox\":[{\"type\":\"scattermapbox\",\"marker\":{\"colorbar\":{\"outlinewidth\":0,\"ticks\":\"\"}}}],\"scatterternary\":[{\"type\":\"scatterternary\",\"marker\":{\"colorbar\":{\"outlinewidth\":0,\"ticks\":\"\"}}}],\"scattercarpet\":[{\"type\":\"scattercarpet\",\"marker\":{\"colorbar\":{\"outlinewidth\":0,\"ticks\":\"\"}}}],\"carpet\":[{\"aaxis\":{\"endlinecolor\":\"#2a3f5f\",\"gridcolor\":\"white\",\"linecolor\":\"white\",\"minorgridcolor\":\"white\",\"startlinecolor\":\"#2a3f5f\"},\"baxis\":{\"endlinecolor\":\"#2a3f5f\",\"gridcolor\":\"white\",\"linecolor\":\"white\",\"minorgridcolor\":\"white\",\"startlinecolor\":\"#2a3f5f\"},\"type\":\"carpet\"}],\"table\":[{\"cells\":{\"fill\":{\"color\":\"#EBF0F8\"},\"line\":{\"color\":\"white\"}},\"header\":{\"fill\":{\"color\":\"#C8D4E3\"},\"line\":{\"color\":\"white\"}},\"type\":\"table\"}],\"barpolar\":[{\"marker\":{\"line\":{\"color\":\"#E5ECF6\",\"width\":0.5},\"pattern\":{\"fillmode\":\"overlay\",\"size\":10,\"solidity\":0.2}},\"type\":\"barpolar\"}],\"pie\":[{\"automargin\":true,\"type\":\"pie\"}]},\"layout\":{\"autotypenumbers\":\"strict\",\"colorway\":[\"#636efa\",\"#EF553B\",\"#00cc96\",\"#ab63fa\",\"#FFA15A\",\"#19d3f3\",\"#FF6692\",\"#B6E880\",\"#FF97FF\",\"#FECB52\"],\"font\":{\"color\":\"#2a3f5f\"},\"hovermode\":\"closest\",\"hoverlabel\":{\"align\":\"left\"},\"paper_bgcolor\":\"white\",\"plot_bgcolor\":\"#E5ECF6\",\"polar\":{\"bgcolor\":\"#E5ECF6\",\"angularaxis\":{\"gridcolor\":\"white\",\"linecolor\":\"white\",\"ticks\":\"\"},\"radialaxis\":{\"gridcolor\":\"white\",\"linecolor\":\"white\",\"ticks\":\"\"}},\"ternary\":{\"bgcolor\":\"#E5ECF6\",\"aaxis\":{\"gridcolor\":\"white\",\"linecolor\":\"white\",\"ticks\":\"\"},\"baxis\":{\"gridcolor\":\"white\",\"linecolor\":\"white\",\"ticks\":\"\"},\"caxis\":{\"gridcolor\":\"white\",\"linecolor\":\"white\",\"ticks\":\"\"}},\"coloraxis\":{\"colorbar\":{\"outlinewidth\":0,\"ticks\":\"\"}},\"colorscale\":{\"sequential\":[[0.0,\"#0d0887\"],[0.1111111111111111,\"#46039f\"],[0.2222222222222222,\"#7201a8\"],[0.3333333333333333,\"#9c179e\"],[0.4444444444444444,\"#bd3786\"],[0.5555555555555556,\"#d8576b\"],[0.6666666666666666,\"#ed7953\"],[0.7777777777777778,\"#fb9f3a\"],[0.8888888888888888,\"#fdca26\"],[1.0,\"#f0f921\"]],\"sequentialminus\":[[0.0,\"#0d0887\"],[0.1111111111111111,\"#46039f\"],[0.2222222222222222,\"#7201a8\"],[0.3333333333333333,\"#9c179e\"],[0.4444444444444444,\"#bd3786\"],[0.5555555555555556,\"#d8576b\"],[0.6666666666666666,\"#ed7953\"],[0.7777777777777778,\"#fb9f3a\"],[0.8888888888888888,\"#fdca26\"],[1.0,\"#f0f921\"]],\"diverging\":[[0,\"#8e0152\"],[0.1,\"#c51b7d\"],[0.2,\"#de77ae\"],[0.3,\"#f1b6da\"],[0.4,\"#fde0ef\"],[0.5,\"#f7f7f7\"],[0.6,\"#e6f5d0\"],[0.7,\"#b8e186\"],[0.8,\"#7fbc41\"],[0.9,\"#4d9221\"],[1,\"#276419\"]]},\"xaxis\":{\"gridcolor\":\"white\",\"linecolor\":\"white\",\"ticks\":\"\",\"title\":{\"standoff\":15},\"zerolinecolor\":\"white\",\"automargin\":true,\"zerolinewidth\":2},\"yaxis\":{\"gridcolor\":\"white\",\"linecolor\":\"white\",\"ticks\":\"\",\"title\":{\"standoff\":15},\"zerolinecolor\":\"white\",\"automargin\":true,\"zerolinewidth\":2},\"scene\":{\"xaxis\":{\"backgroundcolor\":\"#E5ECF6\",\"gridcolor\":\"white\",\"linecolor\":\"white\",\"showbackground\":true,\"ticks\":\"\",\"zerolinecolor\":\"white\",\"gridwidth\":2},\"yaxis\":{\"backgroundcolor\":\"#E5ECF6\",\"gridcolor\":\"white\",\"linecolor\":\"white\",\"showbackground\":true,\"ticks\":\"\",\"zerolinecolor\":\"white\",\"gridwidth\":2},\"zaxis\":{\"backgroundcolor\":\"#E5ECF6\",\"gridcolor\":\"white\",\"linecolor\":\"white\",\"showbackground\":true,\"ticks\":\"\",\"zerolinecolor\":\"white\",\"gridwidth\":2}},\"shapedefaults\":{\"line\":{\"color\":\"#2a3f5f\"}},\"annotationdefaults\":{\"arrowcolor\":\"#2a3f5f\",\"arrowhead\":0,\"arrowwidth\":1},\"geo\":{\"bgcolor\":\"white\",\"landcolor\":\"#E5ECF6\",\"subunitcolor\":\"white\",\"showland\":true,\"showlakes\":true,\"lakecolor\":\"white\"},\"title\":{\"x\":0.05},\"mapbox\":{\"style\":\"light\"}}},\"xaxis\":{\"anchor\":\"y\",\"domain\":[0.0,1.0],\"title\":{\"text\":\"Level of Mosaicism (%)\"},\"type\":\"log\",\"tickvals\":[0.04,0.2,1,5,25],\"range\":[-2,3.25]},\"yaxis\":{\"anchor\":\"x\",\"domain\":[0.0,1.0],\"title\":{\"text\":\"Precision (L1)\"},\"range\":[0,1.1],\"tickvals\":[0,0.2,0.4,0.6,0.8,1]},\"legend\":{\"title\":{\"text\":\"depth\",\"font\":{\"size\":18,\"color\":\"black\"}},\"tracegroupgap\":0,\"font\":{\"size\":16},\"traceorder\":\"normal\",\"orientation\":\"v\",\"y\":1.1,\"x\":0.01},\"margin\":{\"t\":60},\"font\":{\"family\":\"Arial, sans-serif\",\"size\":18,\"color\":\"RebeccaPurple\"},\"width\":600,\"title\":{\"text\":\"Precision Plot-xTea-mosaic\"}},                        {\"responsive\": true}                    ).then(function(){\n",
       "                            \n",
       "var gd = document.getElementById('6ada00fa-b551-412b-8acd-c7d3514707ec');\n",
       "var x = new MutationObserver(function (mutations, observer) {{\n",
       "        var display = window.getComputedStyle(gd).display;\n",
       "        if (!display || display === 'none') {{\n",
       "            console.log([gd, 'removed!']);\n",
       "            Plotly.purge(gd);\n",
       "            observer.disconnect();\n",
       "        }}\n",
       "}});\n",
       "\n",
       "// Listen for the removal of the full notebook cells\n",
       "var notebookContainer = gd.closest('#notebook-container');\n",
       "if (notebookContainer) {{\n",
       "    x.observe(notebookContainer, {childList: true});\n",
       "}}\n",
       "\n",
       "// Listen for the clearing of the current output cell\n",
       "var outputEl = gd.closest('.output');\n",
       "if (outputEl) {{\n",
       "    x.observe(outputEl, {childList: true});\n",
       "}}\n",
       "\n",
       "                        })                };                });            </script>        </div>"
      ]
     },
     "metadata": {},
     "output_type": "display_data"
    },
    {
     "data": {
      "application/vnd.plotly.v1+json": {
       "config": {
        "plotlyServerURL": "https://plot.ly"
       },
       "data": [],
       "layout": {
        "font": {
         "color": "RebeccaPurple",
         "family": "Arial, sans-serif",
         "size": 18
        },
        "legend": {
         "font": {
          "size": 16
         },
         "orientation": "v",
         "title": {
          "font": {
           "color": "black",
           "size": 18
          },
          "text": "depth"
         },
         "tracegroupgap": 0,
         "traceorder": "normal",
         "x": 0.01,
         "y": 1.1
        },
        "margin": {
         "t": 60
        },
        "template": {
         "data": {
          "bar": [
           {
            "error_x": {
             "color": "#2a3f5f"
            },
            "error_y": {
             "color": "#2a3f5f"
            },
            "marker": {
             "line": {
              "color": "#E5ECF6",
              "width": 0.5
             },
             "pattern": {
              "fillmode": "overlay",
              "size": 10,
              "solidity": 0.2
             }
            },
            "type": "bar"
           }
          ],
          "barpolar": [
           {
            "marker": {
             "line": {
              "color": "#E5ECF6",
              "width": 0.5
             },
             "pattern": {
              "fillmode": "overlay",
              "size": 10,
              "solidity": 0.2
             }
            },
            "type": "barpolar"
           }
          ],
          "carpet": [
           {
            "aaxis": {
             "endlinecolor": "#2a3f5f",
             "gridcolor": "white",
             "linecolor": "white",
             "minorgridcolor": "white",
             "startlinecolor": "#2a3f5f"
            },
            "baxis": {
             "endlinecolor": "#2a3f5f",
             "gridcolor": "white",
             "linecolor": "white",
             "minorgridcolor": "white",
             "startlinecolor": "#2a3f5f"
            },
            "type": "carpet"
           }
          ],
          "choropleth": [
           {
            "colorbar": {
             "outlinewidth": 0,
             "ticks": ""
            },
            "type": "choropleth"
           }
          ],
          "contour": [
           {
            "colorbar": {
             "outlinewidth": 0,
             "ticks": ""
            },
            "colorscale": [
             [
              0,
              "#0d0887"
             ],
             [
              0.1111111111111111,
              "#46039f"
             ],
             [
              0.2222222222222222,
              "#7201a8"
             ],
             [
              0.3333333333333333,
              "#9c179e"
             ],
             [
              0.4444444444444444,
              "#bd3786"
             ],
             [
              0.5555555555555556,
              "#d8576b"
             ],
             [
              0.6666666666666666,
              "#ed7953"
             ],
             [
              0.7777777777777778,
              "#fb9f3a"
             ],
             [
              0.8888888888888888,
              "#fdca26"
             ],
             [
              1,
              "#f0f921"
             ]
            ],
            "type": "contour"
           }
          ],
          "contourcarpet": [
           {
            "colorbar": {
             "outlinewidth": 0,
             "ticks": ""
            },
            "type": "contourcarpet"
           }
          ],
          "heatmap": [
           {
            "colorbar": {
             "outlinewidth": 0,
             "ticks": ""
            },
            "colorscale": [
             [
              0,
              "#0d0887"
             ],
             [
              0.1111111111111111,
              "#46039f"
             ],
             [
              0.2222222222222222,
              "#7201a8"
             ],
             [
              0.3333333333333333,
              "#9c179e"
             ],
             [
              0.4444444444444444,
              "#bd3786"
             ],
             [
              0.5555555555555556,
              "#d8576b"
             ],
             [
              0.6666666666666666,
              "#ed7953"
             ],
             [
              0.7777777777777778,
              "#fb9f3a"
             ],
             [
              0.8888888888888888,
              "#fdca26"
             ],
             [
              1,
              "#f0f921"
             ]
            ],
            "type": "heatmap"
           }
          ],
          "heatmapgl": [
           {
            "colorbar": {
             "outlinewidth": 0,
             "ticks": ""
            },
            "colorscale": [
             [
              0,
              "#0d0887"
             ],
             [
              0.1111111111111111,
              "#46039f"
             ],
             [
              0.2222222222222222,
              "#7201a8"
             ],
             [
              0.3333333333333333,
              "#9c179e"
             ],
             [
              0.4444444444444444,
              "#bd3786"
             ],
             [
              0.5555555555555556,
              "#d8576b"
             ],
             [
              0.6666666666666666,
              "#ed7953"
             ],
             [
              0.7777777777777778,
              "#fb9f3a"
             ],
             [
              0.8888888888888888,
              "#fdca26"
             ],
             [
              1,
              "#f0f921"
             ]
            ],
            "type": "heatmapgl"
           }
          ],
          "histogram": [
           {
            "marker": {
             "pattern": {
              "fillmode": "overlay",
              "size": 10,
              "solidity": 0.2
             }
            },
            "type": "histogram"
           }
          ],
          "histogram2d": [
           {
            "colorbar": {
             "outlinewidth": 0,
             "ticks": ""
            },
            "colorscale": [
             [
              0,
              "#0d0887"
             ],
             [
              0.1111111111111111,
              "#46039f"
             ],
             [
              0.2222222222222222,
              "#7201a8"
             ],
             [
              0.3333333333333333,
              "#9c179e"
             ],
             [
              0.4444444444444444,
              "#bd3786"
             ],
             [
              0.5555555555555556,
              "#d8576b"
             ],
             [
              0.6666666666666666,
              "#ed7953"
             ],
             [
              0.7777777777777778,
              "#fb9f3a"
             ],
             [
              0.8888888888888888,
              "#fdca26"
             ],
             [
              1,
              "#f0f921"
             ]
            ],
            "type": "histogram2d"
           }
          ],
          "histogram2dcontour": [
           {
            "colorbar": {
             "outlinewidth": 0,
             "ticks": ""
            },
            "colorscale": [
             [
              0,
              "#0d0887"
             ],
             [
              0.1111111111111111,
              "#46039f"
             ],
             [
              0.2222222222222222,
              "#7201a8"
             ],
             [
              0.3333333333333333,
              "#9c179e"
             ],
             [
              0.4444444444444444,
              "#bd3786"
             ],
             [
              0.5555555555555556,
              "#d8576b"
             ],
             [
              0.6666666666666666,
              "#ed7953"
             ],
             [
              0.7777777777777778,
              "#fb9f3a"
             ],
             [
              0.8888888888888888,
              "#fdca26"
             ],
             [
              1,
              "#f0f921"
             ]
            ],
            "type": "histogram2dcontour"
           }
          ],
          "mesh3d": [
           {
            "colorbar": {
             "outlinewidth": 0,
             "ticks": ""
            },
            "type": "mesh3d"
           }
          ],
          "parcoords": [
           {
            "line": {
             "colorbar": {
              "outlinewidth": 0,
              "ticks": ""
             }
            },
            "type": "parcoords"
           }
          ],
          "pie": [
           {
            "automargin": true,
            "type": "pie"
           }
          ],
          "scatter": [
           {
            "fillpattern": {
             "fillmode": "overlay",
             "size": 10,
             "solidity": 0.2
            },
            "type": "scatter"
           }
          ],
          "scatter3d": [
           {
            "line": {
             "colorbar": {
              "outlinewidth": 0,
              "ticks": ""
             }
            },
            "marker": {
             "colorbar": {
              "outlinewidth": 0,
              "ticks": ""
             }
            },
            "type": "scatter3d"
           }
          ],
          "scattercarpet": [
           {
            "marker": {
             "colorbar": {
              "outlinewidth": 0,
              "ticks": ""
             }
            },
            "type": "scattercarpet"
           }
          ],
          "scattergeo": [
           {
            "marker": {
             "colorbar": {
              "outlinewidth": 0,
              "ticks": ""
             }
            },
            "type": "scattergeo"
           }
          ],
          "scattergl": [
           {
            "marker": {
             "colorbar": {
              "outlinewidth": 0,
              "ticks": ""
             }
            },
            "type": "scattergl"
           }
          ],
          "scattermapbox": [
           {
            "marker": {
             "colorbar": {
              "outlinewidth": 0,
              "ticks": ""
             }
            },
            "type": "scattermapbox"
           }
          ],
          "scatterpolar": [
           {
            "marker": {
             "colorbar": {
              "outlinewidth": 0,
              "ticks": ""
             }
            },
            "type": "scatterpolar"
           }
          ],
          "scatterpolargl": [
           {
            "marker": {
             "colorbar": {
              "outlinewidth": 0,
              "ticks": ""
             }
            },
            "type": "scatterpolargl"
           }
          ],
          "scatterternary": [
           {
            "marker": {
             "colorbar": {
              "outlinewidth": 0,
              "ticks": ""
             }
            },
            "type": "scatterternary"
           }
          ],
          "surface": [
           {
            "colorbar": {
             "outlinewidth": 0,
             "ticks": ""
            },
            "colorscale": [
             [
              0,
              "#0d0887"
             ],
             [
              0.1111111111111111,
              "#46039f"
             ],
             [
              0.2222222222222222,
              "#7201a8"
             ],
             [
              0.3333333333333333,
              "#9c179e"
             ],
             [
              0.4444444444444444,
              "#bd3786"
             ],
             [
              0.5555555555555556,
              "#d8576b"
             ],
             [
              0.6666666666666666,
              "#ed7953"
             ],
             [
              0.7777777777777778,
              "#fb9f3a"
             ],
             [
              0.8888888888888888,
              "#fdca26"
             ],
             [
              1,
              "#f0f921"
             ]
            ],
            "type": "surface"
           }
          ],
          "table": [
           {
            "cells": {
             "fill": {
              "color": "#EBF0F8"
             },
             "line": {
              "color": "white"
             }
            },
            "header": {
             "fill": {
              "color": "#C8D4E3"
             },
             "line": {
              "color": "white"
             }
            },
            "type": "table"
           }
          ]
         },
         "layout": {
          "annotationdefaults": {
           "arrowcolor": "#2a3f5f",
           "arrowhead": 0,
           "arrowwidth": 1
          },
          "autotypenumbers": "strict",
          "coloraxis": {
           "colorbar": {
            "outlinewidth": 0,
            "ticks": ""
           }
          },
          "colorscale": {
           "diverging": [
            [
             0,
             "#8e0152"
            ],
            [
             0.1,
             "#c51b7d"
            ],
            [
             0.2,
             "#de77ae"
            ],
            [
             0.3,
             "#f1b6da"
            ],
            [
             0.4,
             "#fde0ef"
            ],
            [
             0.5,
             "#f7f7f7"
            ],
            [
             0.6,
             "#e6f5d0"
            ],
            [
             0.7,
             "#b8e186"
            ],
            [
             0.8,
             "#7fbc41"
            ],
            [
             0.9,
             "#4d9221"
            ],
            [
             1,
             "#276419"
            ]
           ],
           "sequential": [
            [
             0,
             "#0d0887"
            ],
            [
             0.1111111111111111,
             "#46039f"
            ],
            [
             0.2222222222222222,
             "#7201a8"
            ],
            [
             0.3333333333333333,
             "#9c179e"
            ],
            [
             0.4444444444444444,
             "#bd3786"
            ],
            [
             0.5555555555555556,
             "#d8576b"
            ],
            [
             0.6666666666666666,
             "#ed7953"
            ],
            [
             0.7777777777777778,
             "#fb9f3a"
            ],
            [
             0.8888888888888888,
             "#fdca26"
            ],
            [
             1,
             "#f0f921"
            ]
           ],
           "sequentialminus": [
            [
             0,
             "#0d0887"
            ],
            [
             0.1111111111111111,
             "#46039f"
            ],
            [
             0.2222222222222222,
             "#7201a8"
            ],
            [
             0.3333333333333333,
             "#9c179e"
            ],
            [
             0.4444444444444444,
             "#bd3786"
            ],
            [
             0.5555555555555556,
             "#d8576b"
            ],
            [
             0.6666666666666666,
             "#ed7953"
            ],
            [
             0.7777777777777778,
             "#fb9f3a"
            ],
            [
             0.8888888888888888,
             "#fdca26"
            ],
            [
             1,
             "#f0f921"
            ]
           ]
          },
          "colorway": [
           "#636efa",
           "#EF553B",
           "#00cc96",
           "#ab63fa",
           "#FFA15A",
           "#19d3f3",
           "#FF6692",
           "#B6E880",
           "#FF97FF",
           "#FECB52"
          ],
          "font": {
           "color": "#2a3f5f"
          },
          "geo": {
           "bgcolor": "white",
           "lakecolor": "white",
           "landcolor": "#E5ECF6",
           "showlakes": true,
           "showland": true,
           "subunitcolor": "white"
          },
          "hoverlabel": {
           "align": "left"
          },
          "hovermode": "closest",
          "mapbox": {
           "style": "light"
          },
          "paper_bgcolor": "white",
          "plot_bgcolor": "#E5ECF6",
          "polar": {
           "angularaxis": {
            "gridcolor": "white",
            "linecolor": "white",
            "ticks": ""
           },
           "bgcolor": "#E5ECF6",
           "radialaxis": {
            "gridcolor": "white",
            "linecolor": "white",
            "ticks": ""
           }
          },
          "scene": {
           "xaxis": {
            "backgroundcolor": "#E5ECF6",
            "gridcolor": "white",
            "gridwidth": 2,
            "linecolor": "white",
            "showbackground": true,
            "ticks": "",
            "zerolinecolor": "white"
           },
           "yaxis": {
            "backgroundcolor": "#E5ECF6",
            "gridcolor": "white",
            "gridwidth": 2,
            "linecolor": "white",
            "showbackground": true,
            "ticks": "",
            "zerolinecolor": "white"
           },
           "zaxis": {
            "backgroundcolor": "#E5ECF6",
            "gridcolor": "white",
            "gridwidth": 2,
            "linecolor": "white",
            "showbackground": true,
            "ticks": "",
            "zerolinecolor": "white"
           }
          },
          "shapedefaults": {
           "line": {
            "color": "#2a3f5f"
           }
          },
          "ternary": {
           "aaxis": {
            "gridcolor": "white",
            "linecolor": "white",
            "ticks": ""
           },
           "baxis": {
            "gridcolor": "white",
            "linecolor": "white",
            "ticks": ""
           },
           "bgcolor": "#E5ECF6",
           "caxis": {
            "gridcolor": "white",
            "linecolor": "white",
            "ticks": ""
           }
          },
          "title": {
           "x": 0.05
          },
          "xaxis": {
           "automargin": true,
           "gridcolor": "white",
           "linecolor": "white",
           "ticks": "",
           "title": {
            "standoff": 15
           },
           "zerolinecolor": "white",
           "zerolinewidth": 2
          },
          "yaxis": {
           "automargin": true,
           "gridcolor": "white",
           "linecolor": "white",
           "ticks": "",
           "title": {
            "standoff": 15
           },
           "zerolinecolor": "white",
           "zerolinewidth": 2
          }
         }
        },
        "title": {
         "text": "Precision Plot-xTea"
        },
        "width": 600,
        "xaxis": {
         "anchor": "y",
         "domain": [
          0,
          1
         ],
         "range": [
          -2,
          3.25
         ],
         "tickvals": [
          0.04,
          0.2,
          1,
          5,
          25
         ],
         "title": {
          "text": "Level of Mosaicism (%)"
         },
         "type": "log"
        },
        "yaxis": {
         "anchor": "x",
         "domain": [
          0,
          1
         ],
         "range": [
          0,
          1.1
         ],
         "tickvals": [
          0,
          0.2,
          0.4,
          0.6,
          0.8,
          1
         ],
         "title": {
          "text": "Precision (Alu)"
         }
        }
       }
      },
      "text/html": [
       "<div>                            <div id=\"84c4619d-f169-41ea-add9-3339cf88926f\" class=\"plotly-graph-div\" style=\"height:525px; width:600px;\"></div>            <script type=\"text/javascript\">                require([\"plotly\"], function(Plotly) {                    window.PLOTLYENV=window.PLOTLYENV || {};                                    if (document.getElementById(\"84c4619d-f169-41ea-add9-3339cf88926f\")) {                    Plotly.newPlot(                        \"84c4619d-f169-41ea-add9-3339cf88926f\",                        [],                        {\"template\":{\"data\":{\"histogram2dcontour\":[{\"type\":\"histogram2dcontour\",\"colorbar\":{\"outlinewidth\":0,\"ticks\":\"\"},\"colorscale\":[[0.0,\"#0d0887\"],[0.1111111111111111,\"#46039f\"],[0.2222222222222222,\"#7201a8\"],[0.3333333333333333,\"#9c179e\"],[0.4444444444444444,\"#bd3786\"],[0.5555555555555556,\"#d8576b\"],[0.6666666666666666,\"#ed7953\"],[0.7777777777777778,\"#fb9f3a\"],[0.8888888888888888,\"#fdca26\"],[1.0,\"#f0f921\"]]}],\"choropleth\":[{\"type\":\"choropleth\",\"colorbar\":{\"outlinewidth\":0,\"ticks\":\"\"}}],\"histogram2d\":[{\"type\":\"histogram2d\",\"colorbar\":{\"outlinewidth\":0,\"ticks\":\"\"},\"colorscale\":[[0.0,\"#0d0887\"],[0.1111111111111111,\"#46039f\"],[0.2222222222222222,\"#7201a8\"],[0.3333333333333333,\"#9c179e\"],[0.4444444444444444,\"#bd3786\"],[0.5555555555555556,\"#d8576b\"],[0.6666666666666666,\"#ed7953\"],[0.7777777777777778,\"#fb9f3a\"],[0.8888888888888888,\"#fdca26\"],[1.0,\"#f0f921\"]]}],\"heatmap\":[{\"type\":\"heatmap\",\"colorbar\":{\"outlinewidth\":0,\"ticks\":\"\"},\"colorscale\":[[0.0,\"#0d0887\"],[0.1111111111111111,\"#46039f\"],[0.2222222222222222,\"#7201a8\"],[0.3333333333333333,\"#9c179e\"],[0.4444444444444444,\"#bd3786\"],[0.5555555555555556,\"#d8576b\"],[0.6666666666666666,\"#ed7953\"],[0.7777777777777778,\"#fb9f3a\"],[0.8888888888888888,\"#fdca26\"],[1.0,\"#f0f921\"]]}],\"heatmapgl\":[{\"type\":\"heatmapgl\",\"colorbar\":{\"outlinewidth\":0,\"ticks\":\"\"},\"colorscale\":[[0.0,\"#0d0887\"],[0.1111111111111111,\"#46039f\"],[0.2222222222222222,\"#7201a8\"],[0.3333333333333333,\"#9c179e\"],[0.4444444444444444,\"#bd3786\"],[0.5555555555555556,\"#d8576b\"],[0.6666666666666666,\"#ed7953\"],[0.7777777777777778,\"#fb9f3a\"],[0.8888888888888888,\"#fdca26\"],[1.0,\"#f0f921\"]]}],\"contourcarpet\":[{\"type\":\"contourcarpet\",\"colorbar\":{\"outlinewidth\":0,\"ticks\":\"\"}}],\"contour\":[{\"type\":\"contour\",\"colorbar\":{\"outlinewidth\":0,\"ticks\":\"\"},\"colorscale\":[[0.0,\"#0d0887\"],[0.1111111111111111,\"#46039f\"],[0.2222222222222222,\"#7201a8\"],[0.3333333333333333,\"#9c179e\"],[0.4444444444444444,\"#bd3786\"],[0.5555555555555556,\"#d8576b\"],[0.6666666666666666,\"#ed7953\"],[0.7777777777777778,\"#fb9f3a\"],[0.8888888888888888,\"#fdca26\"],[1.0,\"#f0f921\"]]}],\"surface\":[{\"type\":\"surface\",\"colorbar\":{\"outlinewidth\":0,\"ticks\":\"\"},\"colorscale\":[[0.0,\"#0d0887\"],[0.1111111111111111,\"#46039f\"],[0.2222222222222222,\"#7201a8\"],[0.3333333333333333,\"#9c179e\"],[0.4444444444444444,\"#bd3786\"],[0.5555555555555556,\"#d8576b\"],[0.6666666666666666,\"#ed7953\"],[0.7777777777777778,\"#fb9f3a\"],[0.8888888888888888,\"#fdca26\"],[1.0,\"#f0f921\"]]}],\"mesh3d\":[{\"type\":\"mesh3d\",\"colorbar\":{\"outlinewidth\":0,\"ticks\":\"\"}}],\"scatter\":[{\"fillpattern\":{\"fillmode\":\"overlay\",\"size\":10,\"solidity\":0.2},\"type\":\"scatter\"}],\"parcoords\":[{\"type\":\"parcoords\",\"line\":{\"colorbar\":{\"outlinewidth\":0,\"ticks\":\"\"}}}],\"scatterpolargl\":[{\"type\":\"scatterpolargl\",\"marker\":{\"colorbar\":{\"outlinewidth\":0,\"ticks\":\"\"}}}],\"bar\":[{\"error_x\":{\"color\":\"#2a3f5f\"},\"error_y\":{\"color\":\"#2a3f5f\"},\"marker\":{\"line\":{\"color\":\"#E5ECF6\",\"width\":0.5},\"pattern\":{\"fillmode\":\"overlay\",\"size\":10,\"solidity\":0.2}},\"type\":\"bar\"}],\"scattergeo\":[{\"type\":\"scattergeo\",\"marker\":{\"colorbar\":{\"outlinewidth\":0,\"ticks\":\"\"}}}],\"scatterpolar\":[{\"type\":\"scatterpolar\",\"marker\":{\"colorbar\":{\"outlinewidth\":0,\"ticks\":\"\"}}}],\"histogram\":[{\"marker\":{\"pattern\":{\"fillmode\":\"overlay\",\"size\":10,\"solidity\":0.2}},\"type\":\"histogram\"}],\"scattergl\":[{\"type\":\"scattergl\",\"marker\":{\"colorbar\":{\"outlinewidth\":0,\"ticks\":\"\"}}}],\"scatter3d\":[{\"type\":\"scatter3d\",\"line\":{\"colorbar\":{\"outlinewidth\":0,\"ticks\":\"\"}},\"marker\":{\"colorbar\":{\"outlinewidth\":0,\"ticks\":\"\"}}}],\"scattermapbox\":[{\"type\":\"scattermapbox\",\"marker\":{\"colorbar\":{\"outlinewidth\":0,\"ticks\":\"\"}}}],\"scatterternary\":[{\"type\":\"scatterternary\",\"marker\":{\"colorbar\":{\"outlinewidth\":0,\"ticks\":\"\"}}}],\"scattercarpet\":[{\"type\":\"scattercarpet\",\"marker\":{\"colorbar\":{\"outlinewidth\":0,\"ticks\":\"\"}}}],\"carpet\":[{\"aaxis\":{\"endlinecolor\":\"#2a3f5f\",\"gridcolor\":\"white\",\"linecolor\":\"white\",\"minorgridcolor\":\"white\",\"startlinecolor\":\"#2a3f5f\"},\"baxis\":{\"endlinecolor\":\"#2a3f5f\",\"gridcolor\":\"white\",\"linecolor\":\"white\",\"minorgridcolor\":\"white\",\"startlinecolor\":\"#2a3f5f\"},\"type\":\"carpet\"}],\"table\":[{\"cells\":{\"fill\":{\"color\":\"#EBF0F8\"},\"line\":{\"color\":\"white\"}},\"header\":{\"fill\":{\"color\":\"#C8D4E3\"},\"line\":{\"color\":\"white\"}},\"type\":\"table\"}],\"barpolar\":[{\"marker\":{\"line\":{\"color\":\"#E5ECF6\",\"width\":0.5},\"pattern\":{\"fillmode\":\"overlay\",\"size\":10,\"solidity\":0.2}},\"type\":\"barpolar\"}],\"pie\":[{\"automargin\":true,\"type\":\"pie\"}]},\"layout\":{\"autotypenumbers\":\"strict\",\"colorway\":[\"#636efa\",\"#EF553B\",\"#00cc96\",\"#ab63fa\",\"#FFA15A\",\"#19d3f3\",\"#FF6692\",\"#B6E880\",\"#FF97FF\",\"#FECB52\"],\"font\":{\"color\":\"#2a3f5f\"},\"hovermode\":\"closest\",\"hoverlabel\":{\"align\":\"left\"},\"paper_bgcolor\":\"white\",\"plot_bgcolor\":\"#E5ECF6\",\"polar\":{\"bgcolor\":\"#E5ECF6\",\"angularaxis\":{\"gridcolor\":\"white\",\"linecolor\":\"white\",\"ticks\":\"\"},\"radialaxis\":{\"gridcolor\":\"white\",\"linecolor\":\"white\",\"ticks\":\"\"}},\"ternary\":{\"bgcolor\":\"#E5ECF6\",\"aaxis\":{\"gridcolor\":\"white\",\"linecolor\":\"white\",\"ticks\":\"\"},\"baxis\":{\"gridcolor\":\"white\",\"linecolor\":\"white\",\"ticks\":\"\"},\"caxis\":{\"gridcolor\":\"white\",\"linecolor\":\"white\",\"ticks\":\"\"}},\"coloraxis\":{\"colorbar\":{\"outlinewidth\":0,\"ticks\":\"\"}},\"colorscale\":{\"sequential\":[[0.0,\"#0d0887\"],[0.1111111111111111,\"#46039f\"],[0.2222222222222222,\"#7201a8\"],[0.3333333333333333,\"#9c179e\"],[0.4444444444444444,\"#bd3786\"],[0.5555555555555556,\"#d8576b\"],[0.6666666666666666,\"#ed7953\"],[0.7777777777777778,\"#fb9f3a\"],[0.8888888888888888,\"#fdca26\"],[1.0,\"#f0f921\"]],\"sequentialminus\":[[0.0,\"#0d0887\"],[0.1111111111111111,\"#46039f\"],[0.2222222222222222,\"#7201a8\"],[0.3333333333333333,\"#9c179e\"],[0.4444444444444444,\"#bd3786\"],[0.5555555555555556,\"#d8576b\"],[0.6666666666666666,\"#ed7953\"],[0.7777777777777778,\"#fb9f3a\"],[0.8888888888888888,\"#fdca26\"],[1.0,\"#f0f921\"]],\"diverging\":[[0,\"#8e0152\"],[0.1,\"#c51b7d\"],[0.2,\"#de77ae\"],[0.3,\"#f1b6da\"],[0.4,\"#fde0ef\"],[0.5,\"#f7f7f7\"],[0.6,\"#e6f5d0\"],[0.7,\"#b8e186\"],[0.8,\"#7fbc41\"],[0.9,\"#4d9221\"],[1,\"#276419\"]]},\"xaxis\":{\"gridcolor\":\"white\",\"linecolor\":\"white\",\"ticks\":\"\",\"title\":{\"standoff\":15},\"zerolinecolor\":\"white\",\"automargin\":true,\"zerolinewidth\":2},\"yaxis\":{\"gridcolor\":\"white\",\"linecolor\":\"white\",\"ticks\":\"\",\"title\":{\"standoff\":15},\"zerolinecolor\":\"white\",\"automargin\":true,\"zerolinewidth\":2},\"scene\":{\"xaxis\":{\"backgroundcolor\":\"#E5ECF6\",\"gridcolor\":\"white\",\"linecolor\":\"white\",\"showbackground\":true,\"ticks\":\"\",\"zerolinecolor\":\"white\",\"gridwidth\":2},\"yaxis\":{\"backgroundcolor\":\"#E5ECF6\",\"gridcolor\":\"white\",\"linecolor\":\"white\",\"showbackground\":true,\"ticks\":\"\",\"zerolinecolor\":\"white\",\"gridwidth\":2},\"zaxis\":{\"backgroundcolor\":\"#E5ECF6\",\"gridcolor\":\"white\",\"linecolor\":\"white\",\"showbackground\":true,\"ticks\":\"\",\"zerolinecolor\":\"white\",\"gridwidth\":2}},\"shapedefaults\":{\"line\":{\"color\":\"#2a3f5f\"}},\"annotationdefaults\":{\"arrowcolor\":\"#2a3f5f\",\"arrowhead\":0,\"arrowwidth\":1},\"geo\":{\"bgcolor\":\"white\",\"landcolor\":\"#E5ECF6\",\"subunitcolor\":\"white\",\"showland\":true,\"showlakes\":true,\"lakecolor\":\"white\"},\"title\":{\"x\":0.05},\"mapbox\":{\"style\":\"light\"}}},\"xaxis\":{\"anchor\":\"y\",\"domain\":[0.0,1.0],\"title\":{\"text\":\"Level of Mosaicism (%)\"},\"type\":\"log\",\"tickvals\":[0.04,0.2,1,5,25],\"range\":[-2,3.25]},\"yaxis\":{\"anchor\":\"x\",\"domain\":[0.0,1.0],\"title\":{\"text\":\"Precision (Alu)\"},\"range\":[0,1.1],\"tickvals\":[0,0.2,0.4,0.6,0.8,1]},\"legend\":{\"tracegroupgap\":0,\"font\":{\"size\":16},\"title\":{\"font\":{\"size\":18,\"color\":\"black\"},\"text\":\"depth\"},\"traceorder\":\"normal\",\"orientation\":\"v\",\"y\":1.1,\"x\":0.01},\"margin\":{\"t\":60},\"font\":{\"family\":\"Arial, sans-serif\",\"size\":18,\"color\":\"RebeccaPurple\"},\"width\":600,\"title\":{\"text\":\"Precision Plot-xTea\"}},                        {\"responsive\": true}                    ).then(function(){\n",
       "                            \n",
       "var gd = document.getElementById('84c4619d-f169-41ea-add9-3339cf88926f');\n",
       "var x = new MutationObserver(function (mutations, observer) {{\n",
       "        var display = window.getComputedStyle(gd).display;\n",
       "        if (!display || display === 'none') {{\n",
       "            console.log([gd, 'removed!']);\n",
       "            Plotly.purge(gd);\n",
       "            observer.disconnect();\n",
       "        }}\n",
       "}});\n",
       "\n",
       "// Listen for the removal of the full notebook cells\n",
       "var notebookContainer = gd.closest('#notebook-container');\n",
       "if (notebookContainer) {{\n",
       "    x.observe(notebookContainer, {childList: true});\n",
       "}}\n",
       "\n",
       "// Listen for the clearing of the current output cell\n",
       "var outputEl = gd.closest('.output');\n",
       "if (outputEl) {{\n",
       "    x.observe(outputEl, {childList: true});\n",
       "}}\n",
       "\n",
       "                        })                };                });            </script>        </div>"
      ]
     },
     "metadata": {},
     "output_type": "display_data"
    },
    {
     "data": {
      "application/vnd.plotly.v1+json": {
       "config": {
        "plotlyServerURL": "https://plot.ly"
       },
       "data": [
        {
         "hovertemplate": "depth=50x<br>vaf=%{x}<br>precision=%{y}<extra></extra>",
         "legendgroup": "50x",
         "line": {
          "color": "rgb(228,26,28)",
          "dash": "solid"
         },
         "marker": {
          "size": 10,
          "symbol": 1
         },
         "mode": "lines+markers",
         "name": "50x",
         "orientation": "v",
         "showlegend": true,
         "type": "scatter",
         "x": [
          0.5,
          2,
          10
         ],
         "xaxis": "x",
         "y": [
          0,
          0,
          0
         ],
         "yaxis": "y"
        },
        {
         "hovertemplate": "depth=100x<br>vaf=%{x}<br>precision=%{y}<extra></extra>",
         "legendgroup": "100x",
         "line": {
          "color": "rgb(55,126,184)",
          "dash": "solid"
         },
         "marker": {
          "size": 10,
          "symbol": 3
         },
         "mode": "lines+markers",
         "name": "100x",
         "orientation": "v",
         "showlegend": true,
         "type": "scatter",
         "x": [
          0.5,
          2,
          10
         ],
         "xaxis": "x",
         "y": [
          0,
          0,
          0
         ],
         "yaxis": "y"
        },
        {
         "hovertemplate": "depth=200x<br>vaf=%{x}<br>precision=%{y}<extra></extra>",
         "legendgroup": "200x",
         "line": {
          "color": "rgb(77,175,74)",
          "dash": "solid"
         },
         "marker": {
          "size": 10,
          "symbol": 16
         },
         "mode": "lines+markers",
         "name": "200x",
         "orientation": "v",
         "showlegend": true,
         "type": "scatter",
         "x": [
          0.5,
          2,
          10
         ],
         "xaxis": "x",
         "y": [
          0,
          0,
          0
         ],
         "yaxis": "y"
        },
        {
         "hovertemplate": "depth=300x<br>vaf=%{x}<br>precision=%{y}<extra></extra>",
         "legendgroup": "300x",
         "line": {
          "color": "rgb(152,78,163)",
          "dash": "solid"
         },
         "marker": {
          "size": 10,
          "symbol": 17
         },
         "mode": "lines+markers",
         "name": "300x",
         "orientation": "v",
         "showlegend": true,
         "type": "scatter",
         "x": [
          0.5,
          2,
          10
         ],
         "xaxis": "x",
         "y": [
          0,
          0,
          0.01706484641638225
         ],
         "yaxis": "y"
        }
       ],
       "layout": {
        "font": {
         "color": "RebeccaPurple",
         "family": "Arial, sans-serif",
         "size": 18
        },
        "legend": {
         "font": {
          "size": 16
         },
         "orientation": "v",
         "title": {
          "font": {
           "color": "black",
           "size": 18
          },
          "text": "depth"
         },
         "tracegroupgap": 0,
         "traceorder": "normal",
         "x": 0.01,
         "y": 1.1
        },
        "margin": {
         "t": 60
        },
        "template": {
         "data": {
          "bar": [
           {
            "error_x": {
             "color": "#2a3f5f"
            },
            "error_y": {
             "color": "#2a3f5f"
            },
            "marker": {
             "line": {
              "color": "#E5ECF6",
              "width": 0.5
             },
             "pattern": {
              "fillmode": "overlay",
              "size": 10,
              "solidity": 0.2
             }
            },
            "type": "bar"
           }
          ],
          "barpolar": [
           {
            "marker": {
             "line": {
              "color": "#E5ECF6",
              "width": 0.5
             },
             "pattern": {
              "fillmode": "overlay",
              "size": 10,
              "solidity": 0.2
             }
            },
            "type": "barpolar"
           }
          ],
          "carpet": [
           {
            "aaxis": {
             "endlinecolor": "#2a3f5f",
             "gridcolor": "white",
             "linecolor": "white",
             "minorgridcolor": "white",
             "startlinecolor": "#2a3f5f"
            },
            "baxis": {
             "endlinecolor": "#2a3f5f",
             "gridcolor": "white",
             "linecolor": "white",
             "minorgridcolor": "white",
             "startlinecolor": "#2a3f5f"
            },
            "type": "carpet"
           }
          ],
          "choropleth": [
           {
            "colorbar": {
             "outlinewidth": 0,
             "ticks": ""
            },
            "type": "choropleth"
           }
          ],
          "contour": [
           {
            "colorbar": {
             "outlinewidth": 0,
             "ticks": ""
            },
            "colorscale": [
             [
              0,
              "#0d0887"
             ],
             [
              0.1111111111111111,
              "#46039f"
             ],
             [
              0.2222222222222222,
              "#7201a8"
             ],
             [
              0.3333333333333333,
              "#9c179e"
             ],
             [
              0.4444444444444444,
              "#bd3786"
             ],
             [
              0.5555555555555556,
              "#d8576b"
             ],
             [
              0.6666666666666666,
              "#ed7953"
             ],
             [
              0.7777777777777778,
              "#fb9f3a"
             ],
             [
              0.8888888888888888,
              "#fdca26"
             ],
             [
              1,
              "#f0f921"
             ]
            ],
            "type": "contour"
           }
          ],
          "contourcarpet": [
           {
            "colorbar": {
             "outlinewidth": 0,
             "ticks": ""
            },
            "type": "contourcarpet"
           }
          ],
          "heatmap": [
           {
            "colorbar": {
             "outlinewidth": 0,
             "ticks": ""
            },
            "colorscale": [
             [
              0,
              "#0d0887"
             ],
             [
              0.1111111111111111,
              "#46039f"
             ],
             [
              0.2222222222222222,
              "#7201a8"
             ],
             [
              0.3333333333333333,
              "#9c179e"
             ],
             [
              0.4444444444444444,
              "#bd3786"
             ],
             [
              0.5555555555555556,
              "#d8576b"
             ],
             [
              0.6666666666666666,
              "#ed7953"
             ],
             [
              0.7777777777777778,
              "#fb9f3a"
             ],
             [
              0.8888888888888888,
              "#fdca26"
             ],
             [
              1,
              "#f0f921"
             ]
            ],
            "type": "heatmap"
           }
          ],
          "heatmapgl": [
           {
            "colorbar": {
             "outlinewidth": 0,
             "ticks": ""
            },
            "colorscale": [
             [
              0,
              "#0d0887"
             ],
             [
              0.1111111111111111,
              "#46039f"
             ],
             [
              0.2222222222222222,
              "#7201a8"
             ],
             [
              0.3333333333333333,
              "#9c179e"
             ],
             [
              0.4444444444444444,
              "#bd3786"
             ],
             [
              0.5555555555555556,
              "#d8576b"
             ],
             [
              0.6666666666666666,
              "#ed7953"
             ],
             [
              0.7777777777777778,
              "#fb9f3a"
             ],
             [
              0.8888888888888888,
              "#fdca26"
             ],
             [
              1,
              "#f0f921"
             ]
            ],
            "type": "heatmapgl"
           }
          ],
          "histogram": [
           {
            "marker": {
             "pattern": {
              "fillmode": "overlay",
              "size": 10,
              "solidity": 0.2
             }
            },
            "type": "histogram"
           }
          ],
          "histogram2d": [
           {
            "colorbar": {
             "outlinewidth": 0,
             "ticks": ""
            },
            "colorscale": [
             [
              0,
              "#0d0887"
             ],
             [
              0.1111111111111111,
              "#46039f"
             ],
             [
              0.2222222222222222,
              "#7201a8"
             ],
             [
              0.3333333333333333,
              "#9c179e"
             ],
             [
              0.4444444444444444,
              "#bd3786"
             ],
             [
              0.5555555555555556,
              "#d8576b"
             ],
             [
              0.6666666666666666,
              "#ed7953"
             ],
             [
              0.7777777777777778,
              "#fb9f3a"
             ],
             [
              0.8888888888888888,
              "#fdca26"
             ],
             [
              1,
              "#f0f921"
             ]
            ],
            "type": "histogram2d"
           }
          ],
          "histogram2dcontour": [
           {
            "colorbar": {
             "outlinewidth": 0,
             "ticks": ""
            },
            "colorscale": [
             [
              0,
              "#0d0887"
             ],
             [
              0.1111111111111111,
              "#46039f"
             ],
             [
              0.2222222222222222,
              "#7201a8"
             ],
             [
              0.3333333333333333,
              "#9c179e"
             ],
             [
              0.4444444444444444,
              "#bd3786"
             ],
             [
              0.5555555555555556,
              "#d8576b"
             ],
             [
              0.6666666666666666,
              "#ed7953"
             ],
             [
              0.7777777777777778,
              "#fb9f3a"
             ],
             [
              0.8888888888888888,
              "#fdca26"
             ],
             [
              1,
              "#f0f921"
             ]
            ],
            "type": "histogram2dcontour"
           }
          ],
          "mesh3d": [
           {
            "colorbar": {
             "outlinewidth": 0,
             "ticks": ""
            },
            "type": "mesh3d"
           }
          ],
          "parcoords": [
           {
            "line": {
             "colorbar": {
              "outlinewidth": 0,
              "ticks": ""
             }
            },
            "type": "parcoords"
           }
          ],
          "pie": [
           {
            "automargin": true,
            "type": "pie"
           }
          ],
          "scatter": [
           {
            "fillpattern": {
             "fillmode": "overlay",
             "size": 10,
             "solidity": 0.2
            },
            "type": "scatter"
           }
          ],
          "scatter3d": [
           {
            "line": {
             "colorbar": {
              "outlinewidth": 0,
              "ticks": ""
             }
            },
            "marker": {
             "colorbar": {
              "outlinewidth": 0,
              "ticks": ""
             }
            },
            "type": "scatter3d"
           }
          ],
          "scattercarpet": [
           {
            "marker": {
             "colorbar": {
              "outlinewidth": 0,
              "ticks": ""
             }
            },
            "type": "scattercarpet"
           }
          ],
          "scattergeo": [
           {
            "marker": {
             "colorbar": {
              "outlinewidth": 0,
              "ticks": ""
             }
            },
            "type": "scattergeo"
           }
          ],
          "scattergl": [
           {
            "marker": {
             "colorbar": {
              "outlinewidth": 0,
              "ticks": ""
             }
            },
            "type": "scattergl"
           }
          ],
          "scattermapbox": [
           {
            "marker": {
             "colorbar": {
              "outlinewidth": 0,
              "ticks": ""
             }
            },
            "type": "scattermapbox"
           }
          ],
          "scatterpolar": [
           {
            "marker": {
             "colorbar": {
              "outlinewidth": 0,
              "ticks": ""
             }
            },
            "type": "scatterpolar"
           }
          ],
          "scatterpolargl": [
           {
            "marker": {
             "colorbar": {
              "outlinewidth": 0,
              "ticks": ""
             }
            },
            "type": "scatterpolargl"
           }
          ],
          "scatterternary": [
           {
            "marker": {
             "colorbar": {
              "outlinewidth": 0,
              "ticks": ""
             }
            },
            "type": "scatterternary"
           }
          ],
          "surface": [
           {
            "colorbar": {
             "outlinewidth": 0,
             "ticks": ""
            },
            "colorscale": [
             [
              0,
              "#0d0887"
             ],
             [
              0.1111111111111111,
              "#46039f"
             ],
             [
              0.2222222222222222,
              "#7201a8"
             ],
             [
              0.3333333333333333,
              "#9c179e"
             ],
             [
              0.4444444444444444,
              "#bd3786"
             ],
             [
              0.5555555555555556,
              "#d8576b"
             ],
             [
              0.6666666666666666,
              "#ed7953"
             ],
             [
              0.7777777777777778,
              "#fb9f3a"
             ],
             [
              0.8888888888888888,
              "#fdca26"
             ],
             [
              1,
              "#f0f921"
             ]
            ],
            "type": "surface"
           }
          ],
          "table": [
           {
            "cells": {
             "fill": {
              "color": "#EBF0F8"
             },
             "line": {
              "color": "white"
             }
            },
            "header": {
             "fill": {
              "color": "#C8D4E3"
             },
             "line": {
              "color": "white"
             }
            },
            "type": "table"
           }
          ]
         },
         "layout": {
          "annotationdefaults": {
           "arrowcolor": "#2a3f5f",
           "arrowhead": 0,
           "arrowwidth": 1
          },
          "autotypenumbers": "strict",
          "coloraxis": {
           "colorbar": {
            "outlinewidth": 0,
            "ticks": ""
           }
          },
          "colorscale": {
           "diverging": [
            [
             0,
             "#8e0152"
            ],
            [
             0.1,
             "#c51b7d"
            ],
            [
             0.2,
             "#de77ae"
            ],
            [
             0.3,
             "#f1b6da"
            ],
            [
             0.4,
             "#fde0ef"
            ],
            [
             0.5,
             "#f7f7f7"
            ],
            [
             0.6,
             "#e6f5d0"
            ],
            [
             0.7,
             "#b8e186"
            ],
            [
             0.8,
             "#7fbc41"
            ],
            [
             0.9,
             "#4d9221"
            ],
            [
             1,
             "#276419"
            ]
           ],
           "sequential": [
            [
             0,
             "#0d0887"
            ],
            [
             0.1111111111111111,
             "#46039f"
            ],
            [
             0.2222222222222222,
             "#7201a8"
            ],
            [
             0.3333333333333333,
             "#9c179e"
            ],
            [
             0.4444444444444444,
             "#bd3786"
            ],
            [
             0.5555555555555556,
             "#d8576b"
            ],
            [
             0.6666666666666666,
             "#ed7953"
            ],
            [
             0.7777777777777778,
             "#fb9f3a"
            ],
            [
             0.8888888888888888,
             "#fdca26"
            ],
            [
             1,
             "#f0f921"
            ]
           ],
           "sequentialminus": [
            [
             0,
             "#0d0887"
            ],
            [
             0.1111111111111111,
             "#46039f"
            ],
            [
             0.2222222222222222,
             "#7201a8"
            ],
            [
             0.3333333333333333,
             "#9c179e"
            ],
            [
             0.4444444444444444,
             "#bd3786"
            ],
            [
             0.5555555555555556,
             "#d8576b"
            ],
            [
             0.6666666666666666,
             "#ed7953"
            ],
            [
             0.7777777777777778,
             "#fb9f3a"
            ],
            [
             0.8888888888888888,
             "#fdca26"
            ],
            [
             1,
             "#f0f921"
            ]
           ]
          },
          "colorway": [
           "#636efa",
           "#EF553B",
           "#00cc96",
           "#ab63fa",
           "#FFA15A",
           "#19d3f3",
           "#FF6692",
           "#B6E880",
           "#FF97FF",
           "#FECB52"
          ],
          "font": {
           "color": "#2a3f5f"
          },
          "geo": {
           "bgcolor": "white",
           "lakecolor": "white",
           "landcolor": "#E5ECF6",
           "showlakes": true,
           "showland": true,
           "subunitcolor": "white"
          },
          "hoverlabel": {
           "align": "left"
          },
          "hovermode": "closest",
          "mapbox": {
           "style": "light"
          },
          "paper_bgcolor": "white",
          "plot_bgcolor": "#E5ECF6",
          "polar": {
           "angularaxis": {
            "gridcolor": "white",
            "linecolor": "white",
            "ticks": ""
           },
           "bgcolor": "#E5ECF6",
           "radialaxis": {
            "gridcolor": "white",
            "linecolor": "white",
            "ticks": ""
           }
          },
          "scene": {
           "xaxis": {
            "backgroundcolor": "#E5ECF6",
            "gridcolor": "white",
            "gridwidth": 2,
            "linecolor": "white",
            "showbackground": true,
            "ticks": "",
            "zerolinecolor": "white"
           },
           "yaxis": {
            "backgroundcolor": "#E5ECF6",
            "gridcolor": "white",
            "gridwidth": 2,
            "linecolor": "white",
            "showbackground": true,
            "ticks": "",
            "zerolinecolor": "white"
           },
           "zaxis": {
            "backgroundcolor": "#E5ECF6",
            "gridcolor": "white",
            "gridwidth": 2,
            "linecolor": "white",
            "showbackground": true,
            "ticks": "",
            "zerolinecolor": "white"
           }
          },
          "shapedefaults": {
           "line": {
            "color": "#2a3f5f"
           }
          },
          "ternary": {
           "aaxis": {
            "gridcolor": "white",
            "linecolor": "white",
            "ticks": ""
           },
           "baxis": {
            "gridcolor": "white",
            "linecolor": "white",
            "ticks": ""
           },
           "bgcolor": "#E5ECF6",
           "caxis": {
            "gridcolor": "white",
            "linecolor": "white",
            "ticks": ""
           }
          },
          "title": {
           "x": 0.05
          },
          "xaxis": {
           "automargin": true,
           "gridcolor": "white",
           "linecolor": "white",
           "ticks": "",
           "title": {
            "standoff": 15
           },
           "zerolinecolor": "white",
           "zerolinewidth": 2
          },
          "yaxis": {
           "automargin": true,
           "gridcolor": "white",
           "linecolor": "white",
           "ticks": "",
           "title": {
            "standoff": 15
           },
           "zerolinecolor": "white",
           "zerolinewidth": 2
          }
         }
        },
        "title": {
         "text": "Precision Plot-xTea"
        },
        "width": 600,
        "xaxis": {
         "anchor": "y",
         "domain": [
          0,
          1
         ],
         "range": [
          -2,
          3.25
         ],
         "tickvals": [
          0.04,
          0.2,
          1,
          5,
          25
         ],
         "title": {
          "text": "Level of Mosaicism (%)"
         },
         "type": "log"
        },
        "yaxis": {
         "anchor": "x",
         "domain": [
          0,
          1
         ],
         "range": [
          0,
          1.1
         ],
         "tickvals": [
          0,
          0.2,
          0.4,
          0.6,
          0.8,
          1
         ],
         "title": {
          "text": "Precision (L1)"
         }
        }
       }
      },
      "text/html": [
       "<div>                            <div id=\"a0ff832a-514c-4609-aa05-305f90a44adb\" class=\"plotly-graph-div\" style=\"height:525px; width:600px;\"></div>            <script type=\"text/javascript\">                require([\"plotly\"], function(Plotly) {                    window.PLOTLYENV=window.PLOTLYENV || {};                                    if (document.getElementById(\"a0ff832a-514c-4609-aa05-305f90a44adb\")) {                    Plotly.newPlot(                        \"a0ff832a-514c-4609-aa05-305f90a44adb\",                        [{\"hovertemplate\":\"depth=50x\\u003cbr\\u003evaf=%{x}\\u003cbr\\u003eprecision=%{y}\\u003cextra\\u003e\\u003c\\u002fextra\\u003e\",\"legendgroup\":\"50x\",\"line\":{\"color\":\"rgb(228,26,28)\",\"dash\":\"solid\"},\"marker\":{\"symbol\":1,\"size\":10},\"mode\":\"lines+markers\",\"name\":\"50x\",\"orientation\":\"v\",\"showlegend\":true,\"x\":[0.5,2.0,10.0],\"xaxis\":\"x\",\"y\":[0.0,0.0,0.0],\"yaxis\":\"y\",\"type\":\"scatter\"},{\"hovertemplate\":\"depth=100x\\u003cbr\\u003evaf=%{x}\\u003cbr\\u003eprecision=%{y}\\u003cextra\\u003e\\u003c\\u002fextra\\u003e\",\"legendgroup\":\"100x\",\"line\":{\"color\":\"rgb(55,126,184)\",\"dash\":\"solid\"},\"marker\":{\"symbol\":3,\"size\":10},\"mode\":\"lines+markers\",\"name\":\"100x\",\"orientation\":\"v\",\"showlegend\":true,\"x\":[0.5,2.0,10.0],\"xaxis\":\"x\",\"y\":[0.0,0.0,0.0],\"yaxis\":\"y\",\"type\":\"scatter\"},{\"hovertemplate\":\"depth=200x\\u003cbr\\u003evaf=%{x}\\u003cbr\\u003eprecision=%{y}\\u003cextra\\u003e\\u003c\\u002fextra\\u003e\",\"legendgroup\":\"200x\",\"line\":{\"color\":\"rgb(77,175,74)\",\"dash\":\"solid\"},\"marker\":{\"symbol\":16,\"size\":10},\"mode\":\"lines+markers\",\"name\":\"200x\",\"orientation\":\"v\",\"showlegend\":true,\"x\":[0.5,2.0,10.0],\"xaxis\":\"x\",\"y\":[0.0,0.0,0.0],\"yaxis\":\"y\",\"type\":\"scatter\"},{\"hovertemplate\":\"depth=300x\\u003cbr\\u003evaf=%{x}\\u003cbr\\u003eprecision=%{y}\\u003cextra\\u003e\\u003c\\u002fextra\\u003e\",\"legendgroup\":\"300x\",\"line\":{\"color\":\"rgb(152,78,163)\",\"dash\":\"solid\"},\"marker\":{\"symbol\":17,\"size\":10},\"mode\":\"lines+markers\",\"name\":\"300x\",\"orientation\":\"v\",\"showlegend\":true,\"x\":[0.5,2.0,10.0],\"xaxis\":\"x\",\"y\":[0.0,0.0,0.01706484641638225],\"yaxis\":\"y\",\"type\":\"scatter\"}],                        {\"template\":{\"data\":{\"histogram2dcontour\":[{\"type\":\"histogram2dcontour\",\"colorbar\":{\"outlinewidth\":0,\"ticks\":\"\"},\"colorscale\":[[0.0,\"#0d0887\"],[0.1111111111111111,\"#46039f\"],[0.2222222222222222,\"#7201a8\"],[0.3333333333333333,\"#9c179e\"],[0.4444444444444444,\"#bd3786\"],[0.5555555555555556,\"#d8576b\"],[0.6666666666666666,\"#ed7953\"],[0.7777777777777778,\"#fb9f3a\"],[0.8888888888888888,\"#fdca26\"],[1.0,\"#f0f921\"]]}],\"choropleth\":[{\"type\":\"choropleth\",\"colorbar\":{\"outlinewidth\":0,\"ticks\":\"\"}}],\"histogram2d\":[{\"type\":\"histogram2d\",\"colorbar\":{\"outlinewidth\":0,\"ticks\":\"\"},\"colorscale\":[[0.0,\"#0d0887\"],[0.1111111111111111,\"#46039f\"],[0.2222222222222222,\"#7201a8\"],[0.3333333333333333,\"#9c179e\"],[0.4444444444444444,\"#bd3786\"],[0.5555555555555556,\"#d8576b\"],[0.6666666666666666,\"#ed7953\"],[0.7777777777777778,\"#fb9f3a\"],[0.8888888888888888,\"#fdca26\"],[1.0,\"#f0f921\"]]}],\"heatmap\":[{\"type\":\"heatmap\",\"colorbar\":{\"outlinewidth\":0,\"ticks\":\"\"},\"colorscale\":[[0.0,\"#0d0887\"],[0.1111111111111111,\"#46039f\"],[0.2222222222222222,\"#7201a8\"],[0.3333333333333333,\"#9c179e\"],[0.4444444444444444,\"#bd3786\"],[0.5555555555555556,\"#d8576b\"],[0.6666666666666666,\"#ed7953\"],[0.7777777777777778,\"#fb9f3a\"],[0.8888888888888888,\"#fdca26\"],[1.0,\"#f0f921\"]]}],\"heatmapgl\":[{\"type\":\"heatmapgl\",\"colorbar\":{\"outlinewidth\":0,\"ticks\":\"\"},\"colorscale\":[[0.0,\"#0d0887\"],[0.1111111111111111,\"#46039f\"],[0.2222222222222222,\"#7201a8\"],[0.3333333333333333,\"#9c179e\"],[0.4444444444444444,\"#bd3786\"],[0.5555555555555556,\"#d8576b\"],[0.6666666666666666,\"#ed7953\"],[0.7777777777777778,\"#fb9f3a\"],[0.8888888888888888,\"#fdca26\"],[1.0,\"#f0f921\"]]}],\"contourcarpet\":[{\"type\":\"contourcarpet\",\"colorbar\":{\"outlinewidth\":0,\"ticks\":\"\"}}],\"contour\":[{\"type\":\"contour\",\"colorbar\":{\"outlinewidth\":0,\"ticks\":\"\"},\"colorscale\":[[0.0,\"#0d0887\"],[0.1111111111111111,\"#46039f\"],[0.2222222222222222,\"#7201a8\"],[0.3333333333333333,\"#9c179e\"],[0.4444444444444444,\"#bd3786\"],[0.5555555555555556,\"#d8576b\"],[0.6666666666666666,\"#ed7953\"],[0.7777777777777778,\"#fb9f3a\"],[0.8888888888888888,\"#fdca26\"],[1.0,\"#f0f921\"]]}],\"surface\":[{\"type\":\"surface\",\"colorbar\":{\"outlinewidth\":0,\"ticks\":\"\"},\"colorscale\":[[0.0,\"#0d0887\"],[0.1111111111111111,\"#46039f\"],[0.2222222222222222,\"#7201a8\"],[0.3333333333333333,\"#9c179e\"],[0.4444444444444444,\"#bd3786\"],[0.5555555555555556,\"#d8576b\"],[0.6666666666666666,\"#ed7953\"],[0.7777777777777778,\"#fb9f3a\"],[0.8888888888888888,\"#fdca26\"],[1.0,\"#f0f921\"]]}],\"mesh3d\":[{\"type\":\"mesh3d\",\"colorbar\":{\"outlinewidth\":0,\"ticks\":\"\"}}],\"scatter\":[{\"fillpattern\":{\"fillmode\":\"overlay\",\"size\":10,\"solidity\":0.2},\"type\":\"scatter\"}],\"parcoords\":[{\"type\":\"parcoords\",\"line\":{\"colorbar\":{\"outlinewidth\":0,\"ticks\":\"\"}}}],\"scatterpolargl\":[{\"type\":\"scatterpolargl\",\"marker\":{\"colorbar\":{\"outlinewidth\":0,\"ticks\":\"\"}}}],\"bar\":[{\"error_x\":{\"color\":\"#2a3f5f\"},\"error_y\":{\"color\":\"#2a3f5f\"},\"marker\":{\"line\":{\"color\":\"#E5ECF6\",\"width\":0.5},\"pattern\":{\"fillmode\":\"overlay\",\"size\":10,\"solidity\":0.2}},\"type\":\"bar\"}],\"scattergeo\":[{\"type\":\"scattergeo\",\"marker\":{\"colorbar\":{\"outlinewidth\":0,\"ticks\":\"\"}}}],\"scatterpolar\":[{\"type\":\"scatterpolar\",\"marker\":{\"colorbar\":{\"outlinewidth\":0,\"ticks\":\"\"}}}],\"histogram\":[{\"marker\":{\"pattern\":{\"fillmode\":\"overlay\",\"size\":10,\"solidity\":0.2}},\"type\":\"histogram\"}],\"scattergl\":[{\"type\":\"scattergl\",\"marker\":{\"colorbar\":{\"outlinewidth\":0,\"ticks\":\"\"}}}],\"scatter3d\":[{\"type\":\"scatter3d\",\"line\":{\"colorbar\":{\"outlinewidth\":0,\"ticks\":\"\"}},\"marker\":{\"colorbar\":{\"outlinewidth\":0,\"ticks\":\"\"}}}],\"scattermapbox\":[{\"type\":\"scattermapbox\",\"marker\":{\"colorbar\":{\"outlinewidth\":0,\"ticks\":\"\"}}}],\"scatterternary\":[{\"type\":\"scatterternary\",\"marker\":{\"colorbar\":{\"outlinewidth\":0,\"ticks\":\"\"}}}],\"scattercarpet\":[{\"type\":\"scattercarpet\",\"marker\":{\"colorbar\":{\"outlinewidth\":0,\"ticks\":\"\"}}}],\"carpet\":[{\"aaxis\":{\"endlinecolor\":\"#2a3f5f\",\"gridcolor\":\"white\",\"linecolor\":\"white\",\"minorgridcolor\":\"white\",\"startlinecolor\":\"#2a3f5f\"},\"baxis\":{\"endlinecolor\":\"#2a3f5f\",\"gridcolor\":\"white\",\"linecolor\":\"white\",\"minorgridcolor\":\"white\",\"startlinecolor\":\"#2a3f5f\"},\"type\":\"carpet\"}],\"table\":[{\"cells\":{\"fill\":{\"color\":\"#EBF0F8\"},\"line\":{\"color\":\"white\"}},\"header\":{\"fill\":{\"color\":\"#C8D4E3\"},\"line\":{\"color\":\"white\"}},\"type\":\"table\"}],\"barpolar\":[{\"marker\":{\"line\":{\"color\":\"#E5ECF6\",\"width\":0.5},\"pattern\":{\"fillmode\":\"overlay\",\"size\":10,\"solidity\":0.2}},\"type\":\"barpolar\"}],\"pie\":[{\"automargin\":true,\"type\":\"pie\"}]},\"layout\":{\"autotypenumbers\":\"strict\",\"colorway\":[\"#636efa\",\"#EF553B\",\"#00cc96\",\"#ab63fa\",\"#FFA15A\",\"#19d3f3\",\"#FF6692\",\"#B6E880\",\"#FF97FF\",\"#FECB52\"],\"font\":{\"color\":\"#2a3f5f\"},\"hovermode\":\"closest\",\"hoverlabel\":{\"align\":\"left\"},\"paper_bgcolor\":\"white\",\"plot_bgcolor\":\"#E5ECF6\",\"polar\":{\"bgcolor\":\"#E5ECF6\",\"angularaxis\":{\"gridcolor\":\"white\",\"linecolor\":\"white\",\"ticks\":\"\"},\"radialaxis\":{\"gridcolor\":\"white\",\"linecolor\":\"white\",\"ticks\":\"\"}},\"ternary\":{\"bgcolor\":\"#E5ECF6\",\"aaxis\":{\"gridcolor\":\"white\",\"linecolor\":\"white\",\"ticks\":\"\"},\"baxis\":{\"gridcolor\":\"white\",\"linecolor\":\"white\",\"ticks\":\"\"},\"caxis\":{\"gridcolor\":\"white\",\"linecolor\":\"white\",\"ticks\":\"\"}},\"coloraxis\":{\"colorbar\":{\"outlinewidth\":0,\"ticks\":\"\"}},\"colorscale\":{\"sequential\":[[0.0,\"#0d0887\"],[0.1111111111111111,\"#46039f\"],[0.2222222222222222,\"#7201a8\"],[0.3333333333333333,\"#9c179e\"],[0.4444444444444444,\"#bd3786\"],[0.5555555555555556,\"#d8576b\"],[0.6666666666666666,\"#ed7953\"],[0.7777777777777778,\"#fb9f3a\"],[0.8888888888888888,\"#fdca26\"],[1.0,\"#f0f921\"]],\"sequentialminus\":[[0.0,\"#0d0887\"],[0.1111111111111111,\"#46039f\"],[0.2222222222222222,\"#7201a8\"],[0.3333333333333333,\"#9c179e\"],[0.4444444444444444,\"#bd3786\"],[0.5555555555555556,\"#d8576b\"],[0.6666666666666666,\"#ed7953\"],[0.7777777777777778,\"#fb9f3a\"],[0.8888888888888888,\"#fdca26\"],[1.0,\"#f0f921\"]],\"diverging\":[[0,\"#8e0152\"],[0.1,\"#c51b7d\"],[0.2,\"#de77ae\"],[0.3,\"#f1b6da\"],[0.4,\"#fde0ef\"],[0.5,\"#f7f7f7\"],[0.6,\"#e6f5d0\"],[0.7,\"#b8e186\"],[0.8,\"#7fbc41\"],[0.9,\"#4d9221\"],[1,\"#276419\"]]},\"xaxis\":{\"gridcolor\":\"white\",\"linecolor\":\"white\",\"ticks\":\"\",\"title\":{\"standoff\":15},\"zerolinecolor\":\"white\",\"automargin\":true,\"zerolinewidth\":2},\"yaxis\":{\"gridcolor\":\"white\",\"linecolor\":\"white\",\"ticks\":\"\",\"title\":{\"standoff\":15},\"zerolinecolor\":\"white\",\"automargin\":true,\"zerolinewidth\":2},\"scene\":{\"xaxis\":{\"backgroundcolor\":\"#E5ECF6\",\"gridcolor\":\"white\",\"linecolor\":\"white\",\"showbackground\":true,\"ticks\":\"\",\"zerolinecolor\":\"white\",\"gridwidth\":2},\"yaxis\":{\"backgroundcolor\":\"#E5ECF6\",\"gridcolor\":\"white\",\"linecolor\":\"white\",\"showbackground\":true,\"ticks\":\"\",\"zerolinecolor\":\"white\",\"gridwidth\":2},\"zaxis\":{\"backgroundcolor\":\"#E5ECF6\",\"gridcolor\":\"white\",\"linecolor\":\"white\",\"showbackground\":true,\"ticks\":\"\",\"zerolinecolor\":\"white\",\"gridwidth\":2}},\"shapedefaults\":{\"line\":{\"color\":\"#2a3f5f\"}},\"annotationdefaults\":{\"arrowcolor\":\"#2a3f5f\",\"arrowhead\":0,\"arrowwidth\":1},\"geo\":{\"bgcolor\":\"white\",\"landcolor\":\"#E5ECF6\",\"subunitcolor\":\"white\",\"showland\":true,\"showlakes\":true,\"lakecolor\":\"white\"},\"title\":{\"x\":0.05},\"mapbox\":{\"style\":\"light\"}}},\"xaxis\":{\"anchor\":\"y\",\"domain\":[0.0,1.0],\"title\":{\"text\":\"Level of Mosaicism (%)\"},\"type\":\"log\",\"tickvals\":[0.04,0.2,1,5,25],\"range\":[-2,3.25]},\"yaxis\":{\"anchor\":\"x\",\"domain\":[0.0,1.0],\"title\":{\"text\":\"Precision (L1)\"},\"range\":[0,1.1],\"tickvals\":[0,0.2,0.4,0.6,0.8,1]},\"legend\":{\"title\":{\"text\":\"depth\",\"font\":{\"size\":18,\"color\":\"black\"}},\"tracegroupgap\":0,\"font\":{\"size\":16},\"traceorder\":\"normal\",\"orientation\":\"v\",\"y\":1.1,\"x\":0.01},\"margin\":{\"t\":60},\"font\":{\"family\":\"Arial, sans-serif\",\"size\":18,\"color\":\"RebeccaPurple\"},\"width\":600,\"title\":{\"text\":\"Precision Plot-xTea\"}},                        {\"responsive\": true}                    ).then(function(){\n",
       "                            \n",
       "var gd = document.getElementById('a0ff832a-514c-4609-aa05-305f90a44adb');\n",
       "var x = new MutationObserver(function (mutations, observer) {{\n",
       "        var display = window.getComputedStyle(gd).display;\n",
       "        if (!display || display === 'none') {{\n",
       "            console.log([gd, 'removed!']);\n",
       "            Plotly.purge(gd);\n",
       "            observer.disconnect();\n",
       "        }}\n",
       "}});\n",
       "\n",
       "// Listen for the removal of the full notebook cells\n",
       "var notebookContainer = gd.closest('#notebook-container');\n",
       "if (notebookContainer) {{\n",
       "    x.observe(notebookContainer, {childList: true});\n",
       "}}\n",
       "\n",
       "// Listen for the clearing of the current output cell\n",
       "var outputEl = gd.closest('.output');\n",
       "if (outputEl) {{\n",
       "    x.observe(outputEl, {childList: true});\n",
       "}}\n",
       "\n",
       "                        })                };                });            </script>        </div>"
      ]
     },
     "metadata": {},
     "output_type": "display_data"
    }
   ],
   "source": [
    "for tool, teClass in figureCombinations:\n",
    "    temp_result = resultDF[(resultDF['toolName'] == tool) & (resultDF['teClass'] == teClass) & (resultDF['windowSize'] == windowSize) ]\n",
    "    create_line_plot(temp_result, 'vaf', 'precision', \"depth\", \"Level of Mosaicism (%)\", f\"Precision ({teClass})\", f\"Precision Plot-{tool}\")\n"
   ]
  },
  {
   "cell_type": "markdown",
   "metadata": {},
   "source": [
    "# Test Codes"
   ]
  },
  {
   "cell_type": "code",
   "execution_count": null,
   "metadata": {},
   "outputs": [],
   "source": [
    "toolName = \"RetroSom\"\n",
    "teClass = \"L1\"\n",
    "depth = \"200x\"\n",
    "vaf = 10\n",
    "windowSize = 1000\n",
    "\n",
    "\n",
    "resultColumns = ['toolName','teClass','depth', 'vaf', 'windowSize','totalRows','TP','FP', 'FN','precision','recall']\n",
    "resultdDF = pd.DataFrame(columns= resultColumns)\n",
    "\n",
    "\n",
    "# Load Bed Files : This would be loop for all the results\n",
    "caseBedFile = resultBedDF[(resultBedDF['toolName'] == toolName) &\n",
    "                      (resultBedDF['depth'] == depth) &\n",
    "                      (resultBedDF['class'] == teClass)]['filePath'].tolist()[0]\n",
    "caseBed = BedTool(caseBedFile)\n",
    "\n",
    "controlBedFile = goldStandardDF[(goldStandardDF['class'] == teClass) &\n",
    "                            (goldStandardDF['backBone'] == True)]['filePath'].tolist()[0]\n",
    "controlBed = BedTool(controlBedFile)\n",
    "\n",
    "answerBedFiles = goldStandardDF[(goldStandardDF['class'] == teClass) &\n",
    "                            (goldStandardDF['backBone'] == False)]['filePath'].tolist()\n",
    "answerBeds = [BedTool(bed_file) for bed_file in answerBedFiles]\n",
    "\n",
    "\n",
    "# This would be function\n",
    "\n",
    "# print(\"caseBed\")\n",
    "# display(len(caseBed))\n",
    "# print(\"controlBed\")\n",
    "# display(len(controlBed))\n",
    "# print(\"answerBeds\")\n",
    "# display(len(answerBeds))\n",
    "\n",
    "# False Positive\n",
    "# (case) - (control) - Union (GoldStandard)\n",
    "FP_bed = getUniqueWithWindowFromBeds(caseBed, [controlBed, getUnionBed(answerBeds)],windowSize,windowSize)\n",
    "# print(\"FP\")\n",
    "# display(len(FP_bed))\n",
    "\n",
    "# True Positive\n",
    "# (1) Unique MEI\n",
    "targetAnswerBedFiles = goldStandardDF[(goldStandardDF['class'] == teClass) & \n",
    "                                 (goldStandardDF['backBone'] == False) &\n",
    "                                 (goldStandardDF['mixedRatio'] == vaf)]['filePath'].tolist()\n",
    "\n",
    "targetControlBedFiles = [item for item in answerBedFiles if item not in targetAnswerBedFiles]\n",
    "targetControlBedFiles.append(controlBedFile)\n",
    "\n",
    "# print(\"targetAnswerBedFiles\")\n",
    "# print(targetAnswerBedFiles)\n",
    "# print(\"targetControlBedFiles\")\n",
    "# print(targetControlBedFiles)\n",
    "\n",
    "if len(targetAnswerBedFiles) > 1 :\n",
    "    targetAnswerBed = getUnionBed([BedTool(bed_file) for bed_file in targetAnswerBedFiles])\n",
    "else:\n",
    "    targetAnswerBed = BedTool(targetAnswerBedFiles[0])\n",
    "\n",
    "targetControlBed = [BedTool(bed_file) for bed_file in targetControlBedFiles]\n",
    "uniqueBed = getUniqueWithWindowFromBeds(targetAnswerBed,[getUnionBed(targetControlBed)], windowSize, windowSize)\n",
    "\n",
    "# print(\"uniqueBeds\")\n",
    "# display(len(uniqueBed))\n",
    "\n",
    "# (2) Get True Positive\n",
    "TP_bed = getIntersectBed([getUniqueWithWindowFromBeds(caseBed, [controlBed], windowSize, windowSize), uniqueBed],\n",
    "                         windowSize, windowSize)\n",
    "# print(\"TP\")\n",
    "# display(len(TP_bed))\n",
    "\n",
    "# False Negative\n",
    "FN_bed = getUniqueWithWindowFromBeds(caseBed, [TP_bed], windowSize, windowSize)\n",
    "# print(\"FN\")\n",
    "# display(len(FN_bed))\n",
    "\n",
    "# Precision and Recall\n",
    "precision = len(TP_bed) / (len(TP_bed) + len(FP_bed))\n",
    "# print(\"precision:\",precision)\n",
    "\n",
    "recall = len(TP_bed) / (len(TP_bed) + len(FN_bed))\n",
    "# print(\"recall:\", recall)\n",
    "\n",
    "\n"
   ]
  },
  {
   "cell_type": "code",
   "execution_count": 80,
   "metadata": {},
   "outputs": [],
   "source": [
    "def find_intersection_with_window(bed_files, l=300, r=20000):\n",
    "    bedtools_objs = [BedTool(bed_file) for bed_file in bed_files]\n",
    "    intersection = bedtools_objs[0]\n",
    "    for bedtool in bedtools_objs[1:]:\n",
    "        intersection = intersection.window(b=bedtool, l=l, r=r)\n",
    "    #intersection.saveas('intersection_with_window.bed')\n",
    "    return intersection\n"
   ]
  },
  {
   "cell_type": "code",
   "execution_count": 74,
   "metadata": {},
   "outputs": [],
   "source": [
    "bed_files = ['exampleData/testA.bed', 'exampleData/testB.bed']"
   ]
  },
  {
   "cell_type": "code",
   "execution_count": 99,
   "metadata": {},
   "outputs": [],
   "source": [
    "intersection = find_intersection_with_window(bed_files, 1000, 1000)"
   ]
  },
  {
   "cell_type": "code",
   "execution_count": 100,
   "metadata": {},
   "outputs": [
    {
     "data": {
      "text/plain": [
       "6"
      ]
     },
     "execution_count": 100,
     "metadata": {},
     "output_type": "execute_result"
    }
   ],
   "source": [
    "len(intersection)"
   ]
  },
  {
   "cell_type": "code",
   "execution_count": 45,
   "metadata": {},
   "outputs": [],
   "source": [
    "bed_files = ['results/resultComparisons/HapMapMix/RetroSomV2/HMS_HapMapMix_Illumina-200x_UW_MEI.bed',\n",
    "            'results/resultComparisons/HapMapMix/RetroSomV2/HMS_HapMapMix_Illumina-200x_NYGC_MEI.bed']"
   ]
  },
  {
   "cell_type": "code",
   "execution_count": 49,
   "metadata": {},
   "outputs": [],
   "source": [
    "intersection = find_intersection(bed_files, 500)"
   ]
  },
  {
   "cell_type": "code",
   "execution_count": 50,
   "metadata": {},
   "outputs": [
    {
     "data": {
      "text/plain": [
       "28"
      ]
     },
     "execution_count": 50,
     "metadata": {},
     "output_type": "execute_result"
    }
   ],
   "source": [
    "len(intersection)"
   ]
  },
  {
   "cell_type": "code",
   "execution_count": null,
   "metadata": {},
   "outputs": [],
   "source": [
    "## 정답셋 처리 할 때는 윈도우 0\n",
    "## 정답셋과 비교할 때는 가변 윈도우로 처리 (이것도 인풋 값으로 진행해서 For Loop 로 갈 것)\n",
    "## 결과를 아래와 같이 저장 (마지막에 window 사이즈를 저장해 놓을 것)\n",
    "\n",
    "\n",
    "def generate_tp_fp_fn_set_from_bed(case_result_df, gs_bed_array, control_result_df, na12878_vcf,\n",
    "                                   window_size = 10, key_column_name = 'chrom'):\n",
    "    \n",
    "    \n",
    "    #gs_bed_array = [set(x.file.vcf) for x in gs_vcf_array]\n",
    "    gs_bed_df_array = [ x.file.bed.iloc[:,:2] for x in gs_bed_array]\n",
    "    \n",
    "    combined_gs_bed_df = pd.concat(gs_bed_df_array, axis=0, ignore_index=True).drop_duplicates().iloc[:,:2]\n",
    "    \n",
    "    print(\"gs_set:\", len(combined_gs_bed_df))\n",
    "    \n",
    "    # False Positive\n",
    "    # (1) - (2) - Union(3)\n",
    "    #control_set = set(control_vcf)\n",
    "    #case_result_df = pd.DataFrame(case_result_vcf, columns=['chrom','position'])\n",
    "    \n",
    "    #FP = set(case_result_vcf) - control_set - set.union(*gs_set_array)    \n",
    "    temp_compareSet_df = compareTwoSets(case_result_df, control_result_df,  key_column_name, window_size).iloc[:,:2]\n",
    "    #print(temp_compareSet_df)\n",
    "    \n",
    "    FP_temp = getLeftDFOnly(case_result_df, temp_compareSet_df)\n",
    "    temp_compareSet_df = compareTwoSets(FP_temp, combined_gs_bed_df,key_column_name ,window_size).iloc[:,:2]\n",
    "    FP = getLeftDFOnly(FP_temp, temp_compareSet_df)\n",
    "        \n",
    "    print(\"False Positive:\", len(FP))\n",
    "    \n",
    "    # Unique MEI\n",
    "    unique_MEI = []\n",
    "    #set_unique_array = gs_set_array + [control_set]   \n",
    "    set_unique_array = gs_bed_df_array + [pd.DataFrame(na12878_vcf, columns=['chrom','position'])]     #NA12878을 더해줘야 함\n",
    "     \n",
    "    #case_unique = set(case_result_vcf) - set.union(*set_unique_array)\n",
    "    \n",
    "    for gs_bed in gs_bed_array:\n",
    "        \n",
    "        #print(gs_bed.file.bed)\n",
    "        print(gs_bed.file.name,  len(gs_bed.file.bed))\n",
    "        temp = getLeftDFOnly(gs_bed.file.bed.iloc[:,:2],                              \n",
    "                             getLeftDFOnly(pd.concat(set_unique_array, axis=0, ignore_index=True).drop_duplicates(),\n",
    "                                           gs_bed.file.bed.iloc[:,:2])\n",
    "                             )\n",
    "        \n",
    "        unique_MEI += [{ \"Freq\": gs_bed.vaf,\n",
    "                         \"Set\": temp\n",
    "        \n",
    "        }]\n",
    "        print(\"case unique(\", gs_bed.vaf, \"):\",  len(temp))\n",
    "    \n",
    "\n",
    "    result_list = []\n",
    "    \n",
    "    for MEI in unique_MEI:\n",
    "        \n",
    "        # True Positive\n",
    "        # ( (1) - (2) ) Intersect Unique MEI ( (3)_i - Union( (3) except (3)_i + (4))  )\n",
    "        print(\"VAF:\", MEI[\"Freq\"])\n",
    "        \n",
    "        #TP = (set(case_result_vcf) - control_set).intersection(MEI[\"Set\"])\n",
    "        \n",
    "        TP_temp = getLeftDFOnly(case_result_df, control_result_df)\n",
    "        print(\"TP_temp:\", len(TP_temp))\n",
    "\n",
    "        TP = compareTwoSets(TP_temp, MEI[\"Set\"], 'chrom', window_size)\n",
    "    \n",
    "        print(\"True Positive:\", len(TP))\n",
    "\n",
    "        # False Negative\n",
    "        # ( (3)_i - True_Positive_i)\n",
    "        \n",
    "        #FN = set(case_result_vcf) - TP\n",
    "        \n",
    "        #FN = case_result_df if len(TP) == 0 else getLeftDFOnly(case_result_df, TP)\n",
    "        FN = case_result_df if len(TP) == 0 else getLeftDFOnly(case_result_df, TP)\n",
    "        print(\"False Negative:\", len(FN))\n",
    "        \n",
    "        result_list += [\n",
    "            { \"Freq\" : MEI[\"Freq\"],\n",
    "              \"TP\": TP,\n",
    "              \"FN\": FN\n",
    "            }\n",
    "        \n",
    "        ]\n",
    "        \n",
    "    addtional_field = {\"FP\": FP }\n",
    "    \n",
    "    result_list = [{**item, **addtional_field } for item in result_list]\n",
    "\n",
    "    return result_list\n",
    "    \n",
    "\n",
    "\n",
    "\n",
    "\n"
   ]
  },
  {
   "cell_type": "code",
   "execution_count": 23,
   "metadata": {},
   "outputs": [],
   "source": [
    "HapMap_200x_UW_L1 = filter_svg_files('../results/RetroSom/shortread/mosaic/HapMap/v2/200x_UW/HapMapMix_NoModel/visual','L1')\n",
    "convertResultToBedFile(HapMap_200x_UW_L1, 'results/HapMapMix/RetroSomV2/HMS_HapMapMix_Illumina-200x_UW_MEI.bed')\n"
   ]
  },
  {
   "cell_type": "code",
   "execution_count": 24,
   "metadata": {},
   "outputs": [],
   "source": [
    "HapMap_200x_NYGC_L1 = filter_svg_files('../results/RetroSom/shortread/mosaic/HapMap/v2/200x_NYGC/HapMapMix_NoModel/visual','L1')\n",
    "convertResultToBedFile(HapMap_200x_NYGC_L1, 'results/HapMapMix/RetroSomV2/HMS_HapMapMix_Illumina-200x_NYGC_MEI.bed')\n",
    "\n"
   ]
  },
  {
   "cell_type": "code",
   "execution_count": 26,
   "metadata": {},
   "outputs": [],
   "source": [
    "HapMap_200x_BCM_L1 = filter_svg_files('../results/RetroSom/shortread/mosaic/HapMap/v2/200x/HapMapMix_NoModel/visual','L1')\n",
    "# convertResultToBedFile(HapMap_200x_BCM_L1, 'results/HapMapMix/RetroSomV2/HMS_HapMapMix_Illumina-200x_BCM_MEI.bed')"
   ]
  },
  {
   "cell_type": "code",
   "execution_count": 29,
   "metadata": {},
   "outputs": [],
   "source": [
    "convertResultToBedFile(HapMap_200x_BCM_L1, 'results/resultComparisons/HapMapMix/RetroSomV2/HMS_HapMapMix_Illumina-200x_BCM_MEI.bed')"
   ]
  },
  {
   "cell_type": "code",
   "execution_count": 31,
   "metadata": {},
   "outputs": [],
   "source": [
    "HapMap_50x_BCM_L1 = filter_svg_files('../results/RetroSom/shortread/mosaic/HapMap/v2/50x/HapMapMix/visual','L1')\n",
    "#HapMap_100x_BCM_L1 = filter_svg_files('../results/RetroSom/shortread/mosaic/HapMap/v2/100x/HapMapMix_NoModel/visual','L1')\n",
    "HapMap_300x_BCM_L1 = filter_svg_files('../results/RetroSom/shortread/mosaic/HapMap/v2/300x/HapMapMix_NoModel/visual','L1')\n"
   ]
  },
  {
   "cell_type": "code",
   "execution_count": 32,
   "metadata": {},
   "outputs": [],
   "source": [
    "convertResultToBedFile(HapMap_50x_BCM_L1, 'results/resultComparisons/HapMapMix/RetroSomV2/HMS_HapMapMix_Illumina-50x_BCM_MEI.bed')\n",
    "convertResultToBedFile(HapMap_300x_BCM_L1, 'results/resultComparisons/HapMapMix/RetroSomV2/HMS_HapMapMix_Illumina-300x_BCM_MEI.bed')"
   ]
  },
  {
   "cell_type": "code",
   "execution_count": 51,
   "metadata": {},
   "outputs": [],
   "source": [
    "HapMap_400x_BCM_L1 = filter_svg_files('../results/RetroSom/shortread/mosaic/HapMap/v2/400x/HapMapMix_NoModel/visual','L1')\n",
    "#HapMap_100x_BCM_L1 = filter_svg_files('../results/RetroSom/shortread/mosaic/HapMap/v2/100x/HapMapMix_NoModel/visual','L1')\n",
    "HapMap_500x_BCM_L1 = filter_svg_files('../results/RetroSom/shortread/mosaic/HapMap/v2/500x_WashU/HapMapMix_NoModel/visual','L1')\n"
   ]
  },
  {
   "cell_type": "code",
   "execution_count": 55,
   "metadata": {},
   "outputs": [],
   "source": [
    "convertResultToBedFile(HapMap_400x_BCM_L1, 'results/resultComparisons/HapMapMix/RetroSomV2/HMS_HapMapMix_Illumina-400x_BCM_MEI.bed')\n",
    "convertResultToBedFile(HapMap_500x_BCM_L1, 'results/resultComparisons/HapMapMix/RetroSomV2/HMS_HapMapMix_Illumina-500x_WashU_MEI.bed')"
   ]
  },
  {
   "cell_type": "code",
   "execution_count": 54,
   "metadata": {},
   "outputs": [
    {
     "data": {
      "text/html": [
       "<div>\n",
       "<style scoped>\n",
       "    .dataframe tbody tr th:only-of-type {\n",
       "        vertical-align: middle;\n",
       "    }\n",
       "\n",
       "    .dataframe tbody tr th {\n",
       "        vertical-align: top;\n",
       "    }\n",
       "\n",
       "    .dataframe thead th {\n",
       "        text-align: right;\n",
       "    }\n",
       "</style>\n",
       "<table border=\"1\" class=\"dataframe\">\n",
       "  <thead>\n",
       "    <tr style=\"text-align: right;\">\n",
       "      <th></th>\n",
       "      <th>chrom</th>\n",
       "      <th>position</th>\n",
       "      <th>strand</th>\n",
       "      <th>class</th>\n",
       "      <th>family</th>\n",
       "    </tr>\n",
       "  </thead>\n",
       "  <tbody>\n",
       "    <tr>\n",
       "      <th>0</th>\n",
       "      <td>chr10</td>\n",
       "      <td>115560693</td>\n",
       "      <td>+</td>\n",
       "      <td>L1</td>\n",
       "      <td>L1HS</td>\n",
       "    </tr>\n",
       "    <tr>\n",
       "      <th>1</th>\n",
       "      <td>chr11</td>\n",
       "      <td>117324478</td>\n",
       "      <td>+</td>\n",
       "      <td>L1</td>\n",
       "      <td>L1HS</td>\n",
       "    </tr>\n",
       "    <tr>\n",
       "      <th>2</th>\n",
       "      <td>chr12</td>\n",
       "      <td>128865636</td>\n",
       "      <td>+</td>\n",
       "      <td>L1</td>\n",
       "      <td>L1HS</td>\n",
       "    </tr>\n",
       "    <tr>\n",
       "      <th>3</th>\n",
       "      <td>chr12</td>\n",
       "      <td>28073470</td>\n",
       "      <td>+</td>\n",
       "      <td>L1</td>\n",
       "      <td>L1HS</td>\n",
       "    </tr>\n",
       "    <tr>\n",
       "      <th>4</th>\n",
       "      <td>chr14</td>\n",
       "      <td>41199885</td>\n",
       "      <td>+</td>\n",
       "      <td>L1</td>\n",
       "      <td>L1HS</td>\n",
       "    </tr>\n",
       "    <tr>\n",
       "      <th>...</th>\n",
       "      <td>...</td>\n",
       "      <td>...</td>\n",
       "      <td>...</td>\n",
       "      <td>...</td>\n",
       "      <td>...</td>\n",
       "    </tr>\n",
       "    <tr>\n",
       "      <th>83</th>\n",
       "      <td>chrX</td>\n",
       "      <td>126723679</td>\n",
       "      <td>-</td>\n",
       "      <td>L1</td>\n",
       "      <td>L1HS</td>\n",
       "    </tr>\n",
       "    <tr>\n",
       "      <th>84</th>\n",
       "      <td>chrX</td>\n",
       "      <td>33407521</td>\n",
       "      <td>-</td>\n",
       "      <td>L1</td>\n",
       "      <td>L1HS</td>\n",
       "    </tr>\n",
       "    <tr>\n",
       "      <th>85</th>\n",
       "      <td>chrX</td>\n",
       "      <td>34973901</td>\n",
       "      <td>-</td>\n",
       "      <td>L1</td>\n",
       "      <td>L1HS</td>\n",
       "    </tr>\n",
       "    <tr>\n",
       "      <th>86</th>\n",
       "      <td>chrX</td>\n",
       "      <td>72092746</td>\n",
       "      <td>-</td>\n",
       "      <td>L1</td>\n",
       "      <td>L1HS</td>\n",
       "    </tr>\n",
       "    <tr>\n",
       "      <th>87</th>\n",
       "      <td>chrX</td>\n",
       "      <td>77191412</td>\n",
       "      <td>-</td>\n",
       "      <td>L1</td>\n",
       "      <td>L1HS</td>\n",
       "    </tr>\n",
       "  </tbody>\n",
       "</table>\n",
       "<p>88 rows × 5 columns</p>\n",
       "</div>"
      ],
      "text/plain": [
       "    chrom   position strand class family\n",
       "0   chr10  115560693      +    L1   L1HS\n",
       "1   chr11  117324478      +    L1   L1HS\n",
       "2   chr12  128865636      +    L1   L1HS\n",
       "3   chr12   28073470      +    L1   L1HS\n",
       "4   chr14   41199885      +    L1   L1HS\n",
       "..    ...        ...    ...   ...    ...\n",
       "83   chrX  126723679      -    L1   L1HS\n",
       "84   chrX   33407521      -    L1   L1HS\n",
       "85   chrX   34973901      -    L1   L1HS\n",
       "86   chrX   72092746      -    L1   L1HS\n",
       "87   chrX   77191412      -    L1   L1HS\n",
       "\n",
       "[88 rows x 5 columns]"
      ]
     },
     "execution_count": 54,
     "metadata": {},
     "output_type": "execute_result"
    }
   ],
   "source": [
    "HapMap_500x_BCM_L1"
   ]
  },
  {
   "cell_type": "code",
   "execution_count": null,
   "metadata": {},
   "outputs": [],
   "source": []
  }
 ],
 "metadata": {
  "kernelspec": {
   "display_name": "SMaHT-3.9",
   "language": "python",
   "name": "python3"
  },
  "language_info": {
   "codemirror_mode": {
    "name": "ipython",
    "version": 3
   },
   "file_extension": ".py",
   "mimetype": "text/x-python",
   "name": "python",
   "nbconvert_exporter": "python",
   "pygments_lexer": "ipython3",
   "version": "3.9.19"
  }
 },
 "nbformat": 4,
 "nbformat_minor": 2
}
