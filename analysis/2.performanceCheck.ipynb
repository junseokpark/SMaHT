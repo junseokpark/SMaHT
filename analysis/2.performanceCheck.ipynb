{
 "cells": [
  {
   "cell_type": "code",
   "execution_count": 16,
   "id": "5f2bdb73-d6e5-4df6-a842-65cc1058cac5",
   "metadata": {
    "tags": []
   },
   "outputs": [],
   "source": [
    "import pandas as pd\n",
    "import matplotlib.pyplot as plt\n",
    "import seaborn as sns\n",
    "from scipy.stats import t\n",
    "import numpy as np\n",
    "import plotly.express as px\n",
    "import plotly.offline as pyo"
   ]
  },
  {
   "cell_type": "code",
   "execution_count": 27,
   "id": "4707ec6d-f42c-43fb-aadc-90cb413bf722",
   "metadata": {
    "tags": []
   },
   "outputs": [],
   "source": [
    "pyo.init_notebook_mode()\n",
    "# pip install plotly jupyterlab \n",
    "# (Install plotly jupyerlab and restart jupyter kernel)\n",
    "# pip install jupyterlab-spreadsheet-editor"
   ]
  },
  {
   "cell_type": "code",
   "execution_count": 18,
   "id": "ae457e9e-b59f-4893-a7d3-a5c03efbb09f",
   "metadata": {
    "tags": []
   },
   "outputs": [],
   "source": [
    "# mamba install -c conda-forge nodejs\n",
    "# then install extensions"
   ]
  },
  {
   "cell_type": "markdown",
   "id": "cf496d9a-8155-4622-977e-19d4b893b066",
   "metadata": {},
   "source": [
    "# Define Functions"
   ]
  },
  {
   "cell_type": "code",
   "execution_count": 19,
   "id": "59def427-9d5c-4314-9eb5-bd4f739dee06",
   "metadata": {
    "tags": []
   },
   "outputs": [],
   "source": [
    "def summarySE(data=None, measurevar=None, groupvars=None, na_rm=False, conf_interval=0.95):\n",
    "    # New version of length which can handle NA's: if na_rm==True, don't count them\n",
    "    def length2(x, na_rm=False):\n",
    "        if na_rm:\n",
    "            return np.sum(~np.isnan(x))\n",
    "        else:\n",
    "            return len(x)\n",
    "\n",
    "    # This does the summary. For each group's data frame, return a DataFrame with N, mean, and sd\n",
    "    def summary_fun(xx, col):\n",
    "        return pd.Series({\n",
    "            'N': length2(xx[col], na_rm=na_rm),\n",
    "            'mean': np.mean(xx[col]),\n",
    "            'sd': np.std(xx[col])\n",
    "        })\n",
    "\n",
    "    datac = data.groupby(groupvars, dropna=True).apply(summary_fun, col=measurevar).reset_index()\n",
    "\n",
    "    # Rename the \"mean\" column\n",
    "    datac.rename(columns={'mean': measurevar}, inplace=True)\n",
    "\n",
    "    datac['se'] = datac['sd'] / np.sqrt(datac['N'])  # Calculate standard error of the mean\n",
    "\n",
    "    # Confidence interval multiplier for standard error\n",
    "    # Calculate t-statistic for confidence interval:\n",
    "    # e.g., if conf_interval is 0.95, use 0.975 (above/below), and use df=N-1\n",
    "    ci_mult = t.ppf(conf_interval / 2 + 0.5, datac['N'] - 1)\n",
    "    datac['ci'] = datac['se'] * ci_mult\n",
    "\n",
    "    return datac \n",
    "\n",
    "\n",
    "\n",
    "\n",
    "# # Example data (replace these paths with your actual data paths)\n",
    "# L1_data = {\n",
    "#     'subject': ['A', 'B', 'C'],\n",
    "#     'support': [1, 2, 1],\n",
    "#     'recall': [0.8, 0.6, 0.7]\n",
    "# }\n",
    "\n",
    "# L2_data = {\n",
    "#     'subject': ['A', 'B', 'C'],\n",
    "#     'support': [1, 2, 1],\n",
    "#     'recall': [0.7, 0.5, 0.6]\n",
    "# }\n",
    "\n",
    "# L1 = pd.DataFrame(L1_data)\n",
    "# L2 = pd.DataFrame(L2_data)\n",
    "\n",
    "# LINE = pd.concat([L1, L2], ignore_index=True)\n"
   ]
  },
  {
   "cell_type": "code",
   "execution_count": 20,
   "id": "67f7ca70-8faa-444b-8164-b580d702c6a0",
   "metadata": {
    "tags": []
   },
   "outputs": [],
   "source": [
    "def plot_sensitivity_boxstrip(df, x_column, y_column,\n",
    "                              title, palette):\n",
    "    \"\"\"\n",
    "    Plot sensitivity using Seaborn with boxplot and stripplot.\n",
    "\n",
    "    Parameters:\n",
    "    - df (pd.DataFrame): DataFrame containing sensitivity data.\n",
    "    - x_column (str): Column for the x-axis.\n",
    "    - y_column (str): Column for the y-axis.\n",
    "    - palette (list): Color palette for the plot.\n",
    "\n",
    "    Returns:\n",
    "    - None\n",
    "    \"\"\"\n",
    "\n",
    "    plt.figure(figsize=(10, 6))\n",
    "\n",
    "    # Boxplot\n",
    "    sns.boxplot(x=x_column, y=y_column, data=df, hue=\"subject\",\n",
    "                width=0.5, linewidth=0.2, palette=palette, fliersize=0)\n",
    "\n",
    "    # # Scatter plot with jitter and dodge\n",
    "    sns.stripplot(x=x_column, y=y_column, data=df, hue=\"subject\",\n",
    "                  palette=palette, s=5, dodge=True, jitter=True,\n",
    "                  alpha=0.7, edgecolor='black', linewidth=0.2)\n",
    "\n",
    "    plt.xlabel(\"\")\n",
    "    plt.ylabel(\"\")\n",
    "    plt.ylim(0, 1.05)\n",
    "    plt.yticks([0, 0.2, 0.4, 0.6, 0.8, 1])\n",
    "    plt.xticks([0, 1], labels=[\">=1 read\", \">=2 reads\"])\n",
    "\n",
    "    # Remove the legend\n",
    "    plt.legend().set_visible(False)\n",
    "\n",
    "    # Set the color palette for fill and color\n",
    "    sns.set_palette(palette)\n",
    "\n",
    "    plt.grid(True, linestyle='--', alpha=0.7)\n",
    "\n",
    "    plt.title(title)\n",
    "\n",
    "    # Adjust font sizes\n",
    "    plt.rc('xtick', labelsize=12)\n",
    "    plt.rc('ytick', labelsize=12)\n",
    "    plt.rc('axes', labelsize=24)\n",
    "\n",
    "    plt.show()\n",
    "\n",
    "## Plotly\n",
    "# import plotly.express as px\n",
    "\n",
    "# def plot_sensitivity_boxstrip(df, x_column, y_column, title, palette):\n",
    "#     \"\"\"\n",
    "#     Plot sensitivity using Plotly Express with box plot and strip plot.\n",
    "\n",
    "#     Parameters:\n",
    "#     - df (pd.DataFrame): DataFrame containing sensitivity data.\n",
    "#     - x_column (str): Column for the x-axis.\n",
    "#     - y_column (str): Column for the y-axis.\n",
    "#     - palette (list): Color palette for the plot.\n",
    "\n",
    "#     Returns:\n",
    "#     - None\n",
    "#     \"\"\"\n",
    "\n",
    "#     # Create box plot with points\n",
    "#     fig = px.box(df, x=x_column, y=y_column, color=\"subject\",\n",
    "#                   color_discrete_sequence=palette,points=\"all\",\n",
    "#                  notched=True, boxmode=\"group\")\n",
    "\n",
    "#     # Update layout for box plot\n",
    "#     fig.update_traces(marker=dict(size=8, line=dict(width=1, color='black')))\n",
    "\n",
    "#     # Update layout\n",
    "#     fig.update_layout(\n",
    "#         title=title,\n",
    "#         xaxis_title=\"\",\n",
    "#         yaxis_title=\"\",\n",
    "#         xaxis=dict(tickmode='array', tickvals=[0, 1], ticktext=[\">=1 read\", \">=2 reads\"]),\n",
    "#         yaxis=dict(range=[0, 1.05], tickvals=[0, 0.2, 0.4, 0.6, 0.8, 1]),\n",
    "#         font=dict(size=12),\n",
    "#         legend=dict(title=\"\"),\n",
    "#         hovermode=\"closest\",\n",
    "#         hoverlabel=dict(bgcolor=\"white\", font_size=12),\n",
    "#     )\n",
    "\n",
    "#     # Show the figure\n",
    "#     fig.show()"
   ]
  },
  {
   "cell_type": "code",
   "execution_count": 21,
   "id": "db5c789a-aa7d-4df0-a738-dcbc1dca56c6",
   "metadata": {
    "tags": []
   },
   "outputs": [],
   "source": [
    "def create_line_plot(df, x_column, y_column, x_label, y_label, title):\n",
    "    \"\"\"\n",
    "    Create a line plot using Plotly Express.\n",
    "\n",
    "    Parameters:\n",
    "    - df (pd.DataFrame): DataFrame containing the data.\n",
    "    - x_column (str): Column for the x-axis.\n",
    "    - y_column (str): Column for the y-axis.\n",
    "    - x_label (str): Label for the x-axis.\n",
    "    - y_label (str): Label for the y-axis.\n",
    "    - title (str): Title of the plot.\n",
    "\n",
    "    Returns:\n",
    "    - None\n",
    "    \"\"\"\n",
    "\n",
    "    fig = px.line(df, x=x_column, y=y_column, color='Depth',\n",
    "                  line_group='Depth', markers=True,\n",
    "                  color_discrete_sequence=px.colors.qualitative.Set1,\n",
    "                  symbol='Depth', symbol_sequence=[1, 3, 16, 17])\n",
    "\n",
    "    fig.update_traces(marker=dict(size=10))\n",
    "\n",
    "    fig.update_layout(\n",
    "        xaxis_title=x_label,\n",
    "        yaxis_title=y_label,\n",
    "        xaxis=dict(\n",
    "            type='log',\n",
    "            tickvals=[0.04, 0.2, 1, 5, 25],\n",
    "            range=[-2, 3.25]\n",
    "        ),\n",
    "        yaxis=dict(\n",
    "            range=[0, 1.1],\n",
    "            tickvals=[0, 0.2, 0.4, 0.6, 0.8, 1]\n",
    "        ),\n",
    "        legend=dict(\n",
    "            traceorder='normal',\n",
    "            orientation='v',\n",
    "            y=1.1,\n",
    "            x=0.01,\n",
    "            font=dict(size=16),\n",
    "            title=dict(text='Depth', font=dict(size=18, color='black'))\n",
    "        ),\n",
    "        font=dict(\n",
    "            family=\"Arial, sans-serif\",\n",
    "            size=18,\n",
    "            color=\"RebeccaPurple\"\n",
    "        ),\n",
    "        title=title\n",
    "    )\n",
    "\n",
    "    fig.show()\n"
   ]
  },
  {
   "cell_type": "markdown",
   "id": "e4a0ffaf-9b38-4b85-a825-aa602197f9f3",
   "metadata": {},
   "source": [
    "# 1. Sensitivity, Precision, False Positive Plots"
   ]
  },
  {
   "cell_type": "code",
   "execution_count": 22,
   "id": "90b43cda-095f-465f-83cb-79043e6086fc",
   "metadata": {
    "tags": []
   },
   "outputs": [],
   "source": [
    "df_L1_data = pd.read_excel('exampleData/SD_Fig_2.xlsx', sheet_name='Fig2a_one_read')\n",
    "df_L2_data = pd.read_excel('exampleData/SD_Fig_2.xlsx', sheet_name='Fig2a_two_reads')"
   ]
  },
  {
   "cell_type": "code",
   "execution_count": 23,
   "id": "d5bc73f8-c296-41f7-8c15-0927a46cbd25",
   "metadata": {
    "tags": []
   },
   "outputs": [],
   "source": [
    "LINE = pd.concat([df_L1_data, df_L2_data], ignore_index=True)\n",
    "LINE['support'] = LINE['support'].str.extract('(\\d+)', expand=False).astype(float)"
   ]
  },
  {
   "cell_type": "code",
   "execution_count": 24,
   "id": "0d832c06-515a-4822-8c36-5c636682cabd",
   "metadata": {
    "tags": []
   },
   "outputs": [],
   "source": [
    "LINE"
   ]
  },
  {
   "cell_type": "code",
   "execution_count": 25,
   "id": "55532c0e-de8a-4724-9cf6-feb1437c1347",
   "metadata": {
    "tags": []
   },
   "outputs": [],
   "source": [
    "# Define the color palette\n",
    "cbPalette = [\"#E41A1C\", \"#377EB8\", \"#4DAF4A\"]"
   ]
  },
  {
   "cell_type": "markdown",
   "id": "03283766-1e7a-43ea-a74d-213573343942",
   "metadata": {},
   "source": [
    "## 1.1. RetroSom"
   ]
  },
  {
   "cell_type": "code",
   "execution_count": 26,
   "id": "9af408fa-1842-40da-baea-1bc3f75cb25d",
   "metadata": {
    "tags": []
   },
   "outputs": [],
   "source": [
    "plot_sensitivity_boxstrip(LINE,\"support\",\"recall\",\n",
    "                          \"Sensitivity\",cbPalette)\n",
    "\n",
    "plot_sensitivity_boxstrip(LINE,\"support\",\"precision\",\n",
    "                          \"Precision\",\n",
    "                          cbPalette)"
   ]
  },
  {
   "cell_type": "markdown",
   "id": "d208c695-44bc-4aea-be2d-c93e677d8c37",
   "metadata": {},
   "source": [
    "## 1.2. xTea"
   ]
  },
  {
   "cell_type": "code",
   "execution_count": null,
   "id": "b08f572f-cdab-4b99-ba85-6e3d3414f3cc",
   "metadata": {},
   "outputs": [],
   "source": []
  },
  {
   "cell_type": "markdown",
   "id": "51b33271-5346-4cee-81bb-5fd7105bcf33",
   "metadata": {},
   "source": [
    "# 2. Sensitivity and Precision per Level of Mosaicism"
   ]
  },
  {
   "cell_type": "code",
   "execution_count": 12,
   "id": "145b4eff-8309-40d7-9971-e165f8303d29",
   "metadata": {
    "tags": []
   },
   "outputs": [],
   "source": [
    "dat = pd.read_excel('exampleData/SD_Fig_2.xlsx', sheet_name='Fig2c,d')"
   ]
  },
  {
   "cell_type": "code",
   "execution_count": 13,
   "id": "3bcb218e-56f6-49a4-8d7f-0ccc4f64c7cb",
   "metadata": {
    "tags": []
   },
   "outputs": [],
   "source": [
    "# Extract columns 1 to 3 for 'sens'\n",
    "sens = dat.iloc[:, :3]\n",
    "\n",
    "# Extract all columns except the third for 'prec'\n",
    "#prec = dat.iloc[:, :-1]\n",
    "prec = dat.drop(dat.columns[2], axis=1)\n",
    "\n",
    "# Convert 'Depth' columns to factors\n",
    "sens['Depth'] = sens['Depth'].astype('category')\n",
    "prec['Depth'] = prec['Depth'].astype('category')"
   ]
  },
  {
   "cell_type": "markdown",
   "id": "26f2df49-9319-4bb0-969b-afdfb5fb36fc",
   "metadata": {},
   "source": [
    "## 2.1. RetroSom"
   ]
  },
  {
   "cell_type": "code",
   "execution_count": 30,
   "id": "9b6021ed",
   "metadata": {},
   "outputs": [],
   "source": [
    "import matplotlib.pyplot as plt\n",
    "%matplotlib inline"
   ]
  },
  {
   "cell_type": "code",
   "execution_count": 31,
   "id": "a575e54c-e9d4-4f94-a220-fbd98270a683",
   "metadata": {
    "tags": []
   },
   "outputs": [],
   "source": [
    "create_line_plot(sens, 'Freq', 'Sensitivity', \"Level of Mosaicism (%)\", \"Sensitivity (L1)\", \"Sensitivity Plot\")\n",
    "create_line_plot(prec, 'Freq', 'Precision', \"Level of Mosaicism (%)\", \"Precision (L1)\", \"Precision Plot\")"
   ]
  },
  {
   "cell_type": "markdown",
   "id": "625407b0-0f59-4ec6-aa41-ae1c40dabe20",
   "metadata": {},
   "source": [
    "## 2.2. xTea-Mosaic"
   ]
  },
  {
   "cell_type": "code",
   "execution_count": null,
   "id": "239c8def-917c-4962-bfc1-1bfdbc982bd5",
   "metadata": {},
   "outputs": [],
   "source": []
  },
  {
   "cell_type": "code",
   "execution_count": null,
   "id": "d575ace8-68f4-49e4-a7a1-f4f7a5e5dfb0",
   "metadata": {},
   "outputs": [],
   "source": []
  },
  {
   "cell_type": "code",
   "execution_count": null,
   "id": "4315842a-7c4d-4b9b-8743-bff70f72da5f",
   "metadata": {},
   "outputs": [],
   "source": []
  }
 ],
 "metadata": {
  "kernelspec": {
   "display_name": "Python 3 (ipykernel)",
   "language": "python",
   "name": "python3"
  },
  "language_info": {
   "codemirror_mode": {
    "name": "ipython",
    "version": 3
   },
   "file_extension": ".py",
   "mimetype": "text/x-python",
   "name": "python",
   "nbconvert_exporter": "python",
   "pygments_lexer": "ipython3",
   "version": "3.10.13"
  }
 },
 "nbformat": 4,
 "nbformat_minor": 5
}
