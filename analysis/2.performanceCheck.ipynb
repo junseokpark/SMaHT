{
 "cells": [
  {
   "cell_type": "code",
   "execution_count": 26,
   "id": "5f2bdb73-d6e5-4df6-a842-65cc1058cac5",
   "metadata": {
    "tags": []
   },
   "outputs": [],
   "source": [
    "import pandas as pd\n",
    "import matplotlib.pyplot as plt\n",
    "import seaborn as sns\n",
    "from scipy.stats import t\n",
    "import numpy as np\n",
    "import plotly.express as px\n",
    "import plotly.offline as pyo"
   ]
  },
  {
   "cell_type": "markdown",
   "id": "cf496d9a-8155-4622-977e-19d4b893b066",
   "metadata": {},
   "source": [
    "# Define Functions"
   ]
  },
  {
   "cell_type": "code",
   "execution_count": 2,
   "id": "59def427-9d5c-4314-9eb5-bd4f739dee06",
   "metadata": {},
   "outputs": [],
   "source": [
    "def summarySE(data=None, measurevar=None, groupvars=None, na_rm=False, conf_interval=0.95):\n",
    "    # New version of length which can handle NA's: if na_rm==True, don't count them\n",
    "    def length2(x, na_rm=False):\n",
    "        if na_rm:\n",
    "            return np.sum(~np.isnan(x))\n",
    "        else:\n",
    "            return len(x)\n",
    "\n",
    "    # This does the summary. For each group's data frame, return a DataFrame with N, mean, and sd\n",
    "    def summary_fun(xx, col):\n",
    "        return pd.Series({\n",
    "            'N': length2(xx[col], na_rm=na_rm),\n",
    "            'mean': np.mean(xx[col]),\n",
    "            'sd': np.std(xx[col])\n",
    "        })\n",
    "\n",
    "    datac = data.groupby(groupvars, dropna=True).apply(summary_fun, col=measurevar).reset_index()\n",
    "\n",
    "    # Rename the \"mean\" column\n",
    "    datac.rename(columns={'mean': measurevar}, inplace=True)\n",
    "\n",
    "    datac['se'] = datac['sd'] / np.sqrt(datac['N'])  # Calculate standard error of the mean\n",
    "\n",
    "    # Confidence interval multiplier for standard error\n",
    "    # Calculate t-statistic for confidence interval:\n",
    "    # e.g., if conf_interval is 0.95, use 0.975 (above/below), and use df=N-1\n",
    "    ci_mult = t.ppf(conf_interval / 2 + 0.5, datac['N'] - 1)\n",
    "    datac['ci'] = datac['se'] * ci_mult\n",
    "\n",
    "    return datac \n",
    "\n",
    "\n",
    "\n",
    "\n",
    "# # Example data (replace these paths with your actual data paths)\n",
    "# L1_data = {\n",
    "#     'subject': ['A', 'B', 'C'],\n",
    "#     'support': [1, 2, 1],\n",
    "#     'recall': [0.8, 0.6, 0.7]\n",
    "# }\n",
    "\n",
    "# L2_data = {\n",
    "#     'subject': ['A', 'B', 'C'],\n",
    "#     'support': [1, 2, 1],\n",
    "#     'recall': [0.7, 0.5, 0.6]\n",
    "# }\n",
    "\n",
    "# L1 = pd.DataFrame(L1_data)\n",
    "# L2 = pd.DataFrame(L2_data)\n",
    "\n",
    "# LINE = pd.concat([L1, L2], ignore_index=True)\n"
   ]
  },
  {
   "cell_type": "code",
   "execution_count": 32,
   "id": "67f7ca70-8faa-444b-8164-b580d702c6a0",
   "metadata": {},
   "outputs": [],
   "source": [
    "def plot_sensitivity_boxstrip(df, x_column, y_column,\n",
    "                              title, palette):\n",
    "    \"\"\"\n",
    "    Plot sensitivity using Seaborn with boxplot and stripplot.\n",
    "\n",
    "    Parameters:\n",
    "    - df (pd.DataFrame): DataFrame containing sensitivity data.\n",
    "    - x_column (str): Column for the x-axis.\n",
    "    - y_column (str): Column for the y-axis.\n",
    "    - palette (list): Color palette for the plot.\n",
    "\n",
    "    Returns:\n",
    "    - None\n",
    "    \"\"\"\n",
    "\n",
    "    plt.figure(figsize=(10, 6))\n",
    "\n",
    "    # Boxplot\n",
    "    sns.boxplot(x=x_column, y=y_column, data=df, hue=\"subject\",\n",
    "                width=0.5, linewidth=0.2, palette=palette, fliersize=0)\n",
    "\n",
    "    # Scatter plot with jitter and dodge\n",
    "    sns.stripplot(x=x_column, y=y_column, data=df, hue=\"subject\",\n",
    "                  palette=palette, s=5, dodge=True, jitter=True,\n",
    "                  alpha=0.7, edgecolor='black', linewidth=0.2)\n",
    "\n",
    "    plt.xlabel(\"\")\n",
    "    plt.ylabel(\"\")\n",
    "    plt.ylim(0, 1.05)\n",
    "    plt.yticks([0, 0.2, 0.4, 0.6, 0.8, 1])\n",
    "    plt.xticks([0, 1], labels=[\">=1 read\", \">=2 reads\"])\n",
    "\n",
    "    # Remove the legend\n",
    "    plt.legend().set_visible(False)\n",
    "\n",
    "    # Set the color palette for fill and color\n",
    "    sns.set_palette(palette)\n",
    "\n",
    "    plt.grid(True, linestyle='--', alpha=0.7)\n",
    "\n",
    "    plt.title(title)\n",
    "\n",
    "    # Adjust font sizes\n",
    "    plt.rc('xtick', labelsize=12)\n",
    "    plt.rc('ytick', labelsize=12)\n",
    "    plt.rc('axes', labelsize=24)\n",
    "\n",
    "    plt.show()\n",
    "\n",
    "## Plotly\n",
    "# import plotly.express as px\n",
    "\n",
    "# def plot_sensitivity_boxstrip(df, x_column, y_column, title, palette):\n",
    "#     \"\"\"\n",
    "#     Plot sensitivity using Plotly Express with box plot and strip plot.\n",
    "\n",
    "#     Parameters:\n",
    "#     - df (pd.DataFrame): DataFrame containing sensitivity data.\n",
    "#     - x_column (str): Column for the x-axis.\n",
    "#     - y_column (str): Column for the y-axis.\n",
    "#     - palette (list): Color palette for the plot.\n",
    "\n",
    "#     Returns:\n",
    "#     - None\n",
    "#     \"\"\"\n",
    "\n",
    "#     # Create box plot with points\n",
    "#     fig = px.box(df, x=x_column, y=y_column, color=\"subject\",\n",
    "#                  points=\"all\", color_discrete_sequence=palette,\n",
    "#                  notched=True, boxmode=\"overlay\")\n",
    "\n",
    "#     # Update layout for box plot\n",
    "#     fig.update_traces(marker=dict(size=8, line=dict(width=1, color='black')))\n",
    "\n",
    "#     # Update layout\n",
    "#     fig.update_layout(\n",
    "#         title=title,\n",
    "#         xaxis_title=\"\",\n",
    "#         yaxis_title=\"\",\n",
    "#         xaxis=dict(tickmode='array', tickvals=[0, 1], ticktext=[\">=1 read\", \">=2 reads\"]),\n",
    "#         yaxis=dict(range=[0, 1.05], tickvals=[0, 0.2, 0.4, 0.6, 0.8, 1]),\n",
    "#         font=dict(size=12),\n",
    "#         legend=dict(title=\"\"),\n",
    "#         hovermode=\"closest\",\n",
    "#         hoverlabel=dict(bgcolor=\"white\", font_size=12),\n",
    "#     )\n",
    "\n",
    "#     # Show the figure\n",
    "#     fig.show()"
   ]
  },
  {
   "cell_type": "code",
   "execution_count": 38,
   "id": "db5c789a-aa7d-4df0-a738-dcbc1dca56c6",
   "metadata": {},
   "outputs": [],
   "source": [
    "def create_line_plot(sens):\n",
    "    fig = px.line(sens, x='Freq', y='Sensitivity', color='Depth', \n",
    "                  line_group='Depth', \n",
    "                  markers=True, \n",
    "                  color_discrete_sequence=px.colors.qualitative.Set1,\n",
    "                  symbol='Depth',\n",
    "                  symbol_sequence=[1, 3, 16, 17])\n",
    "\n",
    "    fig.update_traces(marker=dict(size=10))\n",
    "\n",
    "    fig.update_layout(\n",
    "        xaxis_title=\"Level of Mosaicism (%)\",\n",
    "        yaxis_title=\"Sensitivity (L1)\",\n",
    "        xaxis=dict(\n",
    "            type='log',\n",
    "            tickvals=[0.04, 0.2, 1, 5, 25],\n",
    "            range=[-2, 3.25]  # Adjusted range to cover values up to 25\n",
    "        ),\n",
    "        yaxis=dict(\n",
    "            range=[0, 1],\n",
    "            tickvals=[0, 0.2, 0.4, 0.6, 0.8, 1]\n",
    "        ),\n",
    "        legend=dict(\n",
    "            traceorder='normal',\n",
    "            orientation='v',\n",
    "            y=1.1,\n",
    "            x=0.01,\n",
    "            font=dict(size=16),\n",
    "            title=dict(text='Depth', font=dict(size=18, color='black'))\n",
    "        ),\n",
    "        font=dict(\n",
    "            family=\"Arial, sans-serif\",\n",
    "            size=18,\n",
    "            color=\"RebeccaPurple\"\n",
    "        )\n",
    "    )\n",
    "\n",
    "    return fig\n"
   ]
  },
  {
   "cell_type": "markdown",
   "id": "e4a0ffaf-9b38-4b85-a825-aa602197f9f3",
   "metadata": {},
   "source": [
    "# 1. Sensitivity, Precision, False Positive Plots"
   ]
  },
  {
   "cell_type": "code",
   "execution_count": 4,
   "id": "90b43cda-095f-465f-83cb-79043e6086fc",
   "metadata": {},
   "outputs": [],
   "source": [
    "df_L1_data = pd.read_excel('exampleData/NIHMS1648953-supplement-1648953_SD_Fig_2.xlsx', sheet_name='Fig2a_one_read')\n",
    "df_L2_data = pd.read_excel('exampleData/NIHMS1648953-supplement-1648953_SD_Fig_2.xlsx', sheet_name='Fig2a_two_reads')"
   ]
  },
  {
   "cell_type": "code",
   "execution_count": 5,
   "id": "d5bc73f8-c296-41f7-8c15-0927a46cbd25",
   "metadata": {},
   "outputs": [],
   "source": [
    "LINE = pd.concat([df_L1_data, df_L2_data], ignore_index=True)\n",
    "LINE['support'] = LINE['support'].str.extract('(\\d+)', expand=False).astype(float)"
   ]
  },
  {
   "cell_type": "code",
   "execution_count": 6,
   "id": "0d832c06-515a-4822-8c36-5c636682cabd",
   "metadata": {},
   "outputs": [
    {
     "data": {
      "text/html": [
       "<div>\n",
       "<style scoped>\n",
       "    .dataframe tbody tr th:only-of-type {\n",
       "        vertical-align: middle;\n",
       "    }\n",
       "\n",
       "    .dataframe tbody tr th {\n",
       "        vertical-align: top;\n",
       "    }\n",
       "\n",
       "    .dataframe thead th {\n",
       "        text-align: right;\n",
       "    }\n",
       "</style>\n",
       "<table border=\"1\" class=\"dataframe\">\n",
       "  <thead>\n",
       "    <tr style=\"text-align: right;\">\n",
       "      <th></th>\n",
       "      <th>subject</th>\n",
       "      <th>sample</th>\n",
       "      <th>support</th>\n",
       "      <th>cutoff</th>\n",
       "      <th>recall</th>\n",
       "      <th>precision</th>\n",
       "      <th>FP</th>\n",
       "    </tr>\n",
       "  </thead>\n",
       "  <tbody>\n",
       "    <tr>\n",
       "      <th>0</th>\n",
       "      <td>F2noMDA</td>\n",
       "      <td>Sample_316-BG-clone19</td>\n",
       "      <td>1.0</td>\n",
       "      <td>0.5</td>\n",
       "      <td>0.506423</td>\n",
       "      <td>0.947320</td>\n",
       "      <td>57</td>\n",
       "    </tr>\n",
       "    <tr>\n",
       "      <th>1</th>\n",
       "      <td>F2noMDA</td>\n",
       "      <td>Sample_316-clone20</td>\n",
       "      <td>1.0</td>\n",
       "      <td>0.5</td>\n",
       "      <td>0.498718</td>\n",
       "      <td>0.961285</td>\n",
       "      <td>47</td>\n",
       "    </tr>\n",
       "    <tr>\n",
       "      <th>2</th>\n",
       "      <td>F2noMDA</td>\n",
       "      <td>Sample_316-clone21</td>\n",
       "      <td>1.0</td>\n",
       "      <td>0.5</td>\n",
       "      <td>0.501931</td>\n",
       "      <td>0.964551</td>\n",
       "      <td>43</td>\n",
       "    </tr>\n",
       "    <tr>\n",
       "      <th>3</th>\n",
       "      <td>F2noMDA</td>\n",
       "      <td>Sample_316-FR-clone1</td>\n",
       "      <td>1.0</td>\n",
       "      <td>0.5</td>\n",
       "      <td>0.573609</td>\n",
       "      <td>0.987127</td>\n",
       "      <td>25</td>\n",
       "    </tr>\n",
       "    <tr>\n",
       "      <th>4</th>\n",
       "      <td>F2noMDA</td>\n",
       "      <td>Sample_316-FR-clone11</td>\n",
       "      <td>1.0</td>\n",
       "      <td>0.5</td>\n",
       "      <td>0.561694</td>\n",
       "      <td>0.979133</td>\n",
       "      <td>39</td>\n",
       "    </tr>\n",
       "    <tr>\n",
       "      <th>...</th>\n",
       "      <td>...</td>\n",
       "      <td>...</td>\n",
       "      <td>...</td>\n",
       "      <td>...</td>\n",
       "      <td>...</td>\n",
       "      <td>...</td>\n",
       "      <td>...</td>\n",
       "    </tr>\n",
       "    <tr>\n",
       "      <th>131</th>\n",
       "      <td>F3noMDA</td>\n",
       "      <td>Sample_320-FR-clone7</td>\n",
       "      <td>2.0</td>\n",
       "      <td>0.5</td>\n",
       "      <td>0.441807</td>\n",
       "      <td>1.000000</td>\n",
       "      <td>0</td>\n",
       "    </tr>\n",
       "    <tr>\n",
       "      <th>132</th>\n",
       "      <td>F3noMDA</td>\n",
       "      <td>Sample_320-FR-clone8</td>\n",
       "      <td>2.0</td>\n",
       "      <td>0.5</td>\n",
       "      <td>0.419312</td>\n",
       "      <td>1.000000</td>\n",
       "      <td>0</td>\n",
       "    </tr>\n",
       "    <tr>\n",
       "      <th>133</th>\n",
       "      <td>F3noMDA</td>\n",
       "      <td>Sample_320-FR-clone9</td>\n",
       "      <td>2.0</td>\n",
       "      <td>0.5</td>\n",
       "      <td>0.436522</td>\n",
       "      <td>1.000000</td>\n",
       "      <td>0</td>\n",
       "    </tr>\n",
       "    <tr>\n",
       "      <th>134</th>\n",
       "      <td>F3noMDA</td>\n",
       "      <td>Sample_320-FR-tissue</td>\n",
       "      <td>2.0</td>\n",
       "      <td>0.5</td>\n",
       "      <td>0.452381</td>\n",
       "      <td>0.998580</td>\n",
       "      <td>2</td>\n",
       "    </tr>\n",
       "    <tr>\n",
       "      <th>135</th>\n",
       "      <td>F3noMDA</td>\n",
       "      <td>Sample_320-spleen</td>\n",
       "      <td>2.0</td>\n",
       "      <td>0.5</td>\n",
       "      <td>0.536831</td>\n",
       "      <td>1.000000</td>\n",
       "      <td>0</td>\n",
       "    </tr>\n",
       "  </tbody>\n",
       "</table>\n",
       "<p>136 rows × 7 columns</p>\n",
       "</div>"
      ],
      "text/plain": [
       "     subject                 sample  support  cutoff    recall  precision  FP\n",
       "0    F2noMDA  Sample_316-BG-clone19      1.0     0.5  0.506423   0.947320  57\n",
       "1    F2noMDA     Sample_316-clone20      1.0     0.5  0.498718   0.961285  47\n",
       "2    F2noMDA     Sample_316-clone21      1.0     0.5  0.501931   0.964551  43\n",
       "3    F2noMDA   Sample_316-FR-clone1      1.0     0.5  0.573609   0.987127  25\n",
       "4    F2noMDA  Sample_316-FR-clone11      1.0     0.5  0.561694   0.979133  39\n",
       "..       ...                    ...      ...     ...       ...        ...  ..\n",
       "131  F3noMDA   Sample_320-FR-clone7      2.0     0.5  0.441807   1.000000   0\n",
       "132  F3noMDA   Sample_320-FR-clone8      2.0     0.5  0.419312   1.000000   0\n",
       "133  F3noMDA   Sample_320-FR-clone9      2.0     0.5  0.436522   1.000000   0\n",
       "134  F3noMDA   Sample_320-FR-tissue      2.0     0.5  0.452381   0.998580   2\n",
       "135  F3noMDA      Sample_320-spleen      2.0     0.5  0.536831   1.000000   0\n",
       "\n",
       "[136 rows x 7 columns]"
      ]
     },
     "execution_count": 6,
     "metadata": {},
     "output_type": "execute_result"
    }
   ],
   "source": [
    "LINE"
   ]
  },
  {
   "cell_type": "code",
   "execution_count": 7,
   "id": "55532c0e-de8a-4724-9cf6-feb1437c1347",
   "metadata": {},
   "outputs": [],
   "source": [
    "# Define the color palette\n",
    "cbPalette = [\"#E41A1C\", \"#377EB8\", \"#4DAF4A\"]"
   ]
  },
  {
   "cell_type": "markdown",
   "id": "03283766-1e7a-43ea-a74d-213573343942",
   "metadata": {},
   "source": [
    "## 1.1. RetroSom"
   ]
  },
  {
   "cell_type": "code",
   "execution_count": 33,
   "id": "9af408fa-1842-40da-baea-1bc3f75cb25d",
   "metadata": {},
   "outputs": [
    {
     "data": {
      "image/png": "[encoded data removed]",
      "text/plain": [
       "<Figure size 1000x600 with 1 Axes>"
      ]
     },
     "metadata": {},
     "output_type": "display_data"
    }
   ],
   "source": [
    "plot_sensitivity_boxstrip(LINE,\"support\",\"recall\",\n",
    "                          \"Sensitivity\",cbPalette)"
   ]
  },
  {
   "cell_type": "code",
   "execution_count": 34,
   "id": "2f94f9f3-b87a-4e2e-b459-71772bfa1006",
   "metadata": {},
   "outputs": [
    {
     "data": {
      "image/png": "[encoded data removed]",
      "text/plain": [
       "<Figure size 1000x600 with 1 Axes>"
      ]
     },
     "metadata": {},
     "output_type": "display_data"
    }
   ],
   "source": [
    "plot_sensitivity_boxstrip(LINE,\"support\",\"precision\",\n",
    "                          \"Precision\",\n",
    "                          cbPalette)"
   ]
  },
  {
   "cell_type": "markdown",
   "id": "d208c695-44bc-4aea-be2d-c93e677d8c37",
   "metadata": {},
   "source": [
    "## 1.2. xTea"
   ]
  },
  {
   "cell_type": "markdown",
   "id": "51b33271-5346-4cee-81bb-5fd7105bcf33",
   "metadata": {},
   "source": [
    "# 2. Sensitivity and Precision per Level of Mosaicism"
   ]
  },
  {
   "cell_type": "code",
   "execution_count": 35,
   "id": "145b4eff-8309-40d7-9971-e165f8303d29",
   "metadata": {},
   "outputs": [],
   "source": [
    "dat = pd.read_excel('exampleData/NIHMS1648953-supplement-1648953_SD_Fig_2.xlsx', sheet_name='Fig2c,d')"
   ]
  },
  {
   "cell_type": "code",
   "execution_count": 36,
   "id": "3bcb218e-56f6-49a4-8d7f-0ccc4f64c7cb",
   "metadata": {},
   "outputs": [],
   "source": [
    "# Extract columns 1 to 3 for 'sens'\n",
    "sens = dat.iloc[:, :3]\n",
    "\n",
    "# Extract all columns except the third for 'prec'\n",
    "prec = dat.iloc[:, :-1]\n",
    "\n",
    "# Convert 'Depth' columns to factors\n",
    "sens['Depth'] = sens['Depth'].astype('category')\n",
    "prec['Depth'] = prec['Depth'].astype('category')"
   ]
  },
  {
   "cell_type": "code",
   "execution_count": 39,
   "id": "b03d6f2f-11ee-4c10-8a83-2f4528221760",
   "metadata": {},
   "outputs": [
    {
     "data": {
      "application/vnd.plotly.v1+json": {
       "config": {
        "plotlyServerURL": "https://plot.ly"
       },
       "data": [
        {
         "hovertemplate": "Depth=50<br>Freq=%{x}<br>Sensitivity=%{y}<extra></extra>",
         "legendgroup": "50",
         "line": {
          "color": "rgb(228,26,28)",
          "dash": "solid"
         },
         "marker": {
          "size": 10,
          "symbol": 1
         },
         "mode": "lines+markers",
         "name": "50",
         "orientation": "v",
         "showlegend": true,
         "type": "scatter",
         "x": [
          0.04,
          0.2,
          1,
          5,
          25
         ],
         "xaxis": "x",
         "y": [
          0,
          0,
          0.040816327,
          0.133333333,
          0.80952381
         ],
         "yaxis": "y"
        },
        {
         "hovertemplate": "Depth=100<br>Freq=%{x}<br>Sensitivity=%{y}<extra></extra>",
         "legendgroup": "100",
         "line": {
          "color": "rgb(55,126,184)",
          "dash": "solid"
         },
         "marker": {
          "size": 10,
          "symbol": 3
         },
         "mode": "lines+markers",
         "name": "100",
         "orientation": "v",
         "showlegend": true,
         "type": "scatter",
         "x": [
          0.04,
          0.2,
          1,
          5,
          25
         ],
         "xaxis": "x",
         "y": [
          0,
          0,
          0.06122449,
          0.266666667,
          0.857142857
         ],
         "yaxis": "y"
        },
        {
         "hovertemplate": "Depth=200<br>Freq=%{x}<br>Sensitivity=%{y}<extra></extra>",
         "legendgroup": "200",
         "line": {
          "color": "rgb(77,175,74)",
          "dash": "solid"
         },
         "marker": {
          "size": 10,
          "symbol": 16
         },
         "mode": "lines+markers",
         "name": "200",
         "orientation": "v",
         "showlegend": true,
         "type": "scatter",
         "x": [
          0.04,
          0.2,
          1,
          5,
          25
         ],
         "xaxis": "x",
         "y": [
          0,
          0,
          0.163265306,
          0.666666667,
          0.904761905
         ],
         "yaxis": "y"
        },
        {
         "hovertemplate": "Depth=400<br>Freq=%{x}<br>Sensitivity=%{y}<extra></extra>",
         "legendgroup": "400",
         "line": {
          "color": "rgb(152,78,163)",
          "dash": "solid"
         },
         "marker": {
          "size": 10,
          "symbol": 17
         },
         "mode": "lines+markers",
         "name": "400",
         "orientation": "v",
         "showlegend": true,
         "type": "scatter",
         "x": [
          0.04,
          0.2,
          1,
          5,
          25
         ],
         "xaxis": "x",
         "y": [
          0,
          0,
          0.387755102,
          0.733333333,
          0.857142857
         ],
         "yaxis": "y"
        }
       ],
       "layout": {
        "autosize": true,
        "font": {
         "color": "RebeccaPurple",
         "family": "Arial, sans-serif",
         "size": 18
        },
        "legend": {
         "font": {
          "size": 16
         },
         "orientation": "v",
         "title": {
          "font": {
           "color": "black",
           "size": 18
          },
          "text": "Depth"
         },
         "tracegroupgap": 0,
         "traceorder": "normal",
         "x": 0.01,
         "y": 1.1
        },
        "margin": {
         "t": 60
        },
        "template": {
         "data": {
          "bar": [
           {
            "error_x": {
             "color": "#2a3f5f"
            },
            "error_y": {
             "color": "#2a3f5f"
            },
            "marker": {
             "line": {
              "color": "#E5ECF6",
              "width": 0.5
             },
             "pattern": {
              "fillmode": "overlay",
              "size": 10,
              "solidity": 0.2
             }
            },
            "type": "bar"
           }
          ],
          "barpolar": [
           {
            "marker": {
             "line": {
              "color": "#E5ECF6",
              "width": 0.5
             },
             "pattern": {
              "fillmode": "overlay",
              "size": 10,
              "solidity": 0.2
             }
            },
            "type": "barpolar"
           }
          ],
          "carpet": [
           {
            "aaxis": {
             "endlinecolor": "#2a3f5f",
             "gridcolor": "white",
             "linecolor": "white",
             "minorgridcolor": "white",
             "startlinecolor": "#2a3f5f"
            },
            "baxis": {
             "endlinecolor": "#2a3f5f",
             "gridcolor": "white",
             "linecolor": "white",
             "minorgridcolor": "white",
             "startlinecolor": "#2a3f5f"
            },
            "type": "carpet"
           }
          ],
          "choropleth": [
           {
            "colorbar": {
             "outlinewidth": 0,
             "ticks": ""
            },
            "type": "choropleth"
           }
          ],
          "contour": [
           {
            "colorbar": {
             "outlinewidth": 0,
             "ticks": ""
            },
            "colorscale": [
             [
              0,
              "#0d0887"
             ],
             [
              0.1111111111111111,
              "#46039f"
             ],
             [
              0.2222222222222222,
              "#7201a8"
             ],
             [
              0.3333333333333333,
              "#9c179e"
             ],
             [
              0.4444444444444444,
              "#bd3786"
             ],
             [
              0.5555555555555556,
              "#d8576b"
             ],
             [
              0.6666666666666666,
              "#ed7953"
             ],
             [
              0.7777777777777778,
              "#fb9f3a"
             ],
             [
              0.8888888888888888,
              "#fdca26"
             ],
             [
              1,
              "#f0f921"
             ]
            ],
            "type": "contour"
           }
          ],
          "contourcarpet": [
           {
            "colorbar": {
             "outlinewidth": 0,
             "ticks": ""
            },
            "type": "contourcarpet"
           }
          ],
          "heatmap": [
           {
            "colorbar": {
             "outlinewidth": 0,
             "ticks": ""
            },
            "colorscale": [
             [
              0,
              "#0d0887"
             ],
             [
              0.1111111111111111,
              "#46039f"
             ],
             [
              0.2222222222222222,
              "#7201a8"
             ],
             [
              0.3333333333333333,
              "#9c179e"
             ],
             [
              0.4444444444444444,
              "#bd3786"
             ],
             [
              0.5555555555555556,
              "#d8576b"
             ],
             [
              0.6666666666666666,
              "#ed7953"
             ],
             [
              0.7777777777777778,
              "#fb9f3a"
             ],
             [
              0.8888888888888888,
              "#fdca26"
             ],
             [
              1,
              "#f0f921"
             ]
            ],
            "type": "heatmap"
           }
          ],
          "heatmapgl": [
           {
            "colorbar": {
             "outlinewidth": 0,
             "ticks": ""
            },
            "colorscale": [
             [
              0,
              "#0d0887"
             ],
             [
              0.1111111111111111,
              "#46039f"
             ],
             [
              0.2222222222222222,
              "#7201a8"
             ],
             [
              0.3333333333333333,
              "#9c179e"
             ],
             [
              0.4444444444444444,
              "#bd3786"
             ],
             [
              0.5555555555555556,
              "#d8576b"
             ],
             [
              0.6666666666666666,
              "#ed7953"
             ],
             [
              0.7777777777777778,
              "#fb9f3a"
             ],
             [
              0.8888888888888888,
              "#fdca26"
             ],
             [
              1,
              "#f0f921"
             ]
            ],
            "type": "heatmapgl"
           }
          ],
          "histogram": [
           {
            "marker": {
             "pattern": {
              "fillmode": "overlay",
              "size": 10,
              "solidity": 0.2
             }
            },
            "type": "histogram"
           }
          ],
          "histogram2d": [
           {
            "colorbar": {
             "outlinewidth": 0,
             "ticks": ""
            },
            "colorscale": [
             [
              0,
              "#0d0887"
             ],
             [
              0.1111111111111111,
              "#46039f"
             ],
             [
              0.2222222222222222,
              "#7201a8"
             ],
             [
              0.3333333333333333,
              "#9c179e"
             ],
             [
              0.4444444444444444,
              "#bd3786"
             ],
             [
              0.5555555555555556,
              "#d8576b"
             ],
             [
              0.6666666666666666,
              "#ed7953"
             ],
             [
              0.7777777777777778,
              "#fb9f3a"
             ],
             [
              0.8888888888888888,
              "#fdca26"
             ],
             [
              1,
              "#f0f921"
             ]
            ],
            "type": "histogram2d"
           }
          ],
          "histogram2dcontour": [
           {
            "colorbar": {
             "outlinewidth": 0,
             "ticks": ""
            },
            "colorscale": [
             [
              0,
              "#0d0887"
             ],
             [
              0.1111111111111111,
              "#46039f"
             ],
             [
              0.2222222222222222,
              "#7201a8"
             ],
             [
              0.3333333333333333,
              "#9c179e"
             ],
             [
              0.4444444444444444,
              "#bd3786"
             ],
             [
              0.5555555555555556,
              "#d8576b"
             ],
             [
              0.6666666666666666,
              "#ed7953"
             ],
             [
              0.7777777777777778,
              "#fb9f3a"
             ],
             [
              0.8888888888888888,
              "#fdca26"
             ],
             [
              1,
              "#f0f921"
             ]
            ],
            "type": "histogram2dcontour"
           }
          ],
          "mesh3d": [
           {
            "colorbar": {
             "outlinewidth": 0,
             "ticks": ""
            },
            "type": "mesh3d"
           }
          ],
          "parcoords": [
           {
            "line": {
             "colorbar": {
              "outlinewidth": 0,
              "ticks": ""
             }
            },
            "type": "parcoords"
           }
          ],
          "pie": [
           {
            "automargin": true,
            "type": "pie"
           }
          ],
          "scatter": [
           {
            "fillpattern": {
             "fillmode": "overlay",
             "size": 10,
             "solidity": 0.2
            },
            "type": "scatter"
           }
          ],
          "scatter3d": [
           {
            "line": {
             "colorbar": {
              "outlinewidth": 0,
              "ticks": ""
             }
            },
            "marker": {
             "colorbar": {
              "outlinewidth": 0,
              "ticks": ""
             }
            },
            "type": "scatter3d"
           }
          ],
          "scattercarpet": [
           {
            "marker": {
             "colorbar": {
              "outlinewidth": 0,
              "ticks": ""
             }
            },
            "type": "scattercarpet"
           }
          ],
          "scattergeo": [
           {
            "marker": {
             "colorbar": {
              "outlinewidth": 0,
              "ticks": ""
             }
            },
            "type": "scattergeo"
           }
          ],
          "scattergl": [
           {
            "marker": {
             "colorbar": {
              "outlinewidth": 0,
              "ticks": ""
             }
            },
            "type": "scattergl"
           }
          ],
          "scattermapbox": [
           {
            "marker": {
             "colorbar": {
              "outlinewidth": 0,
              "ticks": ""
             }
            },
            "type": "scattermapbox"
           }
          ],
          "scatterpolar": [
           {
            "marker": {
             "colorbar": {
              "outlinewidth": 0,
              "ticks": ""
             }
            },
            "type": "scatterpolar"
           }
          ],
          "scatterpolargl": [
           {
            "marker": {
             "colorbar": {
              "outlinewidth": 0,
              "ticks": ""
             }
            },
            "type": "scatterpolargl"
           }
          ],
          "scatterternary": [
           {
            "marker": {
             "colorbar": {
              "outlinewidth": 0,
              "ticks": ""
             }
            },
            "type": "scatterternary"
           }
          ],
          "surface": [
           {
            "colorbar": {
             "outlinewidth": 0,
             "ticks": ""
            },
            "colorscale": [
             [
              0,
              "#0d0887"
             ],
             [
              0.1111111111111111,
              "#46039f"
             ],
             [
              0.2222222222222222,
              "#7201a8"
             ],
             [
              0.3333333333333333,
              "#9c179e"
             ],
             [
              0.4444444444444444,
              "#bd3786"
             ],
             [
              0.5555555555555556,
              "#d8576b"
             ],
             [
              0.6666666666666666,
              "#ed7953"
             ],
             [
              0.7777777777777778,
              "#fb9f3a"
             ],
             [
              0.8888888888888888,
              "#fdca26"
             ],
             [
              1,
              "#f0f921"
             ]
            ],
            "type": "surface"
           }
          ],
          "table": [
           {
            "cells": {
             "fill": {
              "color": "#EBF0F8"
             },
             "line": {
              "color": "white"
             }
            },
            "header": {
             "fill": {
              "color": "#C8D4E3"
             },
             "line": {
              "color": "white"
             }
            },
            "type": "table"
           }
          ]
         },
         "layout": {
          "annotationdefaults": {
           "arrowcolor": "#2a3f5f",
           "arrowhead": 0,
           "arrowwidth": 1
          },
          "autotypenumbers": "strict",
          "coloraxis": {
           "colorbar": {
            "outlinewidth": 0,
            "ticks": ""
           }
          },
          "colorscale": {
           "diverging": [
            [
             0,
             "#8e0152"
            ],
            [
             0.1,
             "#c51b7d"
            ],
            [
             0.2,
             "#de77ae"
            ],
            [
             0.3,
             "#f1b6da"
            ],
            [
             0.4,
             "#fde0ef"
            ],
            [
             0.5,
             "#f7f7f7"
            ],
            [
             0.6,
             "#e6f5d0"
            ],
            [
             0.7,
             "#b8e186"
            ],
            [
             0.8,
             "#7fbc41"
            ],
            [
             0.9,
             "#4d9221"
            ],
            [
             1,
             "#276419"
            ]
           ],
           "sequential": [
            [
             0,
             "#0d0887"
            ],
            [
             0.1111111111111111,
             "#46039f"
            ],
            [
             0.2222222222222222,
             "#7201a8"
            ],
            [
             0.3333333333333333,
             "#9c179e"
            ],
            [
             0.4444444444444444,
             "#bd3786"
            ],
            [
             0.5555555555555556,
             "#d8576b"
            ],
            [
             0.6666666666666666,
             "#ed7953"
            ],
            [
             0.7777777777777778,
             "#fb9f3a"
            ],
            [
             0.8888888888888888,
             "#fdca26"
            ],
            [
             1,
             "#f0f921"
            ]
           ],
           "sequentialminus": [
            [
             0,
             "#0d0887"
            ],
            [
             0.1111111111111111,
             "#46039f"
            ],
            [
             0.2222222222222222,
             "#7201a8"
            ],
            [
             0.3333333333333333,
             "#9c179e"
            ],
            [
             0.4444444444444444,
             "#bd3786"
            ],
            [
             0.5555555555555556,
             "#d8576b"
            ],
            [
             0.6666666666666666,
             "#ed7953"
            ],
            [
             0.7777777777777778,
             "#fb9f3a"
            ],
            [
             0.8888888888888888,
             "#fdca26"
            ],
            [
             1,
             "#f0f921"
            ]
           ]
          },
          "colorway": [
           "#636efa",
           "#EF553B",
           "#00cc96",
           "#ab63fa",
           "#FFA15A",
           "#19d3f3",
           "#FF6692",
           "#B6E880",
           "#FF97FF",
           "#FECB52"
          ],
          "font": {
           "color": "#2a3f5f"
          },
          "geo": {
           "bgcolor": "white",
           "lakecolor": "white",
           "landcolor": "#E5ECF6",
           "showlakes": true,
           "showland": true,
           "subunitcolor": "white"
          },
          "hoverlabel": {
           "align": "left"
          },
          "hovermode": "closest",
          "mapbox": {
           "style": "light"
          },
          "paper_bgcolor": "white",
          "plot_bgcolor": "#E5ECF6",
          "polar": {
           "angularaxis": {
            "gridcolor": "white",
            "linecolor": "white",
            "ticks": ""
           },
           "bgcolor": "#E5ECF6",
           "radialaxis": {
            "gridcolor": "white",
            "linecolor": "white",
            "ticks": ""
           }
          },
          "scene": {
           "xaxis": {
            "backgroundcolor": "#E5ECF6",
            "gridcolor": "white",
            "gridwidth": 2,
            "linecolor": "white",
            "showbackground": true,
            "ticks": "",
            "zerolinecolor": "white"
           },
           "yaxis": {
            "backgroundcolor": "#E5ECF6",
            "gridcolor": "white",
            "gridwidth": 2,
            "linecolor": "white",
            "showbackground": true,
            "ticks": "",
            "zerolinecolor": "white"
           },
           "zaxis": {
            "backgroundcolor": "#E5ECF6",
            "gridcolor": "white",
            "gridwidth": 2,
            "linecolor": "white",
            "showbackground": true,
            "ticks": "",
            "zerolinecolor": "white"
           }
          },
          "shapedefaults": {
           "line": {
            "color": "#2a3f5f"
           }
          },
          "ternary": {
           "aaxis": {
            "gridcolor": "white",
            "linecolor": "white",
            "ticks": ""
           },
           "baxis": {
            "gridcolor": "white",
            "linecolor": "white",
            "ticks": ""
           },
           "bgcolor": "#E5ECF6",
           "caxis": {
            "gridcolor": "white",
            "linecolor": "white",
            "ticks": ""
           }
          },
          "title": {
           "x": 0.05
          },
          "xaxis": {
           "automargin": true,
           "gridcolor": "white",
           "linecolor": "white",
           "ticks": "",
           "title": {
            "standoff": 15
           },
           "zerolinecolor": "white",
           "zerolinewidth": 2
          },
          "yaxis": {
           "automargin": true,
           "gridcolor": "white",
           "linecolor": "white",
           "ticks": "",
           "title": {
            "standoff": 15
           },
           "zerolinecolor": "white",
           "zerolinewidth": 2
          }
         }
        },
        "xaxis": {
         "anchor": "y",
         "domain": [
          0,
          1
         ],
         "range": [
          -2,
          3.25
         ],
         "tickvals": [
          0.04,
          0.2,
          1,
          5,
          25
         ],
         "title": {
          "text": "Level of Mosaicism (%)"
         },
         "type": "log"
        },
        "yaxis": {
         "anchor": "x",
         "domain": [
          0,
          1
         ],
         "range": [
          0,
          1
         ],
         "tickvals": [
          0,
          0.2,
          0.4,
          0.6,
          0.8,
          1
         ],
         "title": {
          "text": "Sensitivity (L1)"
         },
         "type": "linear"
        }
       }
      },
      "image/png": "[encoded data removed]",
      "text/html": [
       "<div>                            <div id=\"7982f492-a584-4a9e-8f85-b8eb05b3507c\" class=\"plotly-graph-div\" style=\"height:525px; width:100%;\"></div>            <script type=\"text/javascript\">                require([\"plotly\"], function(Plotly) {                    window.PLOTLYENV=window.PLOTLYENV || {};                                    if (document.getElementById(\"7982f492-a584-4a9e-8f85-b8eb05b3507c\")) {                    Plotly.newPlot(                        \"7982f492-a584-4a9e-8f85-b8eb05b3507c\",                        [{\"hovertemplate\":\"Depth=50\\u003cbr\\u003eFreq=%{x}\\u003cbr\\u003eSensitivity=%{y}\\u003cextra\\u003e\\u003c\\u002fextra\\u003e\",\"legendgroup\":\"50\",\"line\":{\"color\":\"rgb(228,26,28)\",\"dash\":\"solid\"},\"marker\":{\"symbol\":1,\"size\":10},\"mode\":\"lines+markers\",\"name\":\"50\",\"orientation\":\"v\",\"showlegend\":true,\"x\":[0.04,0.2,1.0,5.0,25.0],\"xaxis\":\"x\",\"y\":[0.0,0.0,0.040816327,0.133333333,0.80952381],\"yaxis\":\"y\",\"type\":\"scatter\"},{\"hovertemplate\":\"Depth=100\\u003cbr\\u003eFreq=%{x}\\u003cbr\\u003eSensitivity=%{y}\\u003cextra\\u003e\\u003c\\u002fextra\\u003e\",\"legendgroup\":\"100\",\"line\":{\"color\":\"rgb(55,126,184)\",\"dash\":\"solid\"},\"marker\":{\"symbol\":3,\"size\":10},\"mode\":\"lines+markers\",\"name\":\"100\",\"orientation\":\"v\",\"showlegend\":true,\"x\":[0.04,0.2,1.0,5.0,25.0],\"xaxis\":\"x\",\"y\":[0.0,0.0,0.06122449,0.266666667,0.857142857],\"yaxis\":\"y\",\"type\":\"scatter\"},{\"hovertemplate\":\"Depth=200\\u003cbr\\u003eFreq=%{x}\\u003cbr\\u003eSensitivity=%{y}\\u003cextra\\u003e\\u003c\\u002fextra\\u003e\",\"legendgroup\":\"200\",\"line\":{\"color\":\"rgb(77,175,74)\",\"dash\":\"solid\"},\"marker\":{\"symbol\":16,\"size\":10},\"mode\":\"lines+markers\",\"name\":\"200\",\"orientation\":\"v\",\"showlegend\":true,\"x\":[0.04,0.2,1.0,5.0,25.0],\"xaxis\":\"x\",\"y\":[0.0,0.0,0.163265306,0.666666667,0.904761905],\"yaxis\":\"y\",\"type\":\"scatter\"},{\"hovertemplate\":\"Depth=400\\u003cbr\\u003eFreq=%{x}\\u003cbr\\u003eSensitivity=%{y}\\u003cextra\\u003e\\u003c\\u002fextra\\u003e\",\"legendgroup\":\"400\",\"line\":{\"color\":\"rgb(152,78,163)\",\"dash\":\"solid\"},\"marker\":{\"symbol\":17,\"size\":10},\"mode\":\"lines+markers\",\"name\":\"400\",\"orientation\":\"v\",\"showlegend\":true,\"x\":[0.04,0.2,1.0,5.0,25.0],\"xaxis\":\"x\",\"y\":[0.0,0.0,0.387755102,0.733333333,0.857142857],\"yaxis\":\"y\",\"type\":\"scatter\"}],                        {\"template\":{\"data\":{\"histogram2dcontour\":[{\"type\":\"histogram2dcontour\",\"colorbar\":{\"outlinewidth\":0,\"ticks\":\"\"},\"colorscale\":[[0.0,\"#0d0887\"],[0.1111111111111111,\"#46039f\"],[0.2222222222222222,\"#7201a8\"],[0.3333333333333333,\"#9c179e\"],[0.4444444444444444,\"#bd3786\"],[0.5555555555555556,\"#d8576b\"],[0.6666666666666666,\"#ed7953\"],[0.7777777777777778,\"#fb9f3a\"],[0.8888888888888888,\"#fdca26\"],[1.0,\"#f0f921\"]]}],\"choropleth\":[{\"type\":\"choropleth\",\"colorbar\":{\"outlinewidth\":0,\"ticks\":\"\"}}],\"histogram2d\":[{\"type\":\"histogram2d\",\"colorbar\":{\"outlinewidth\":0,\"ticks\":\"\"},\"colorscale\":[[0.0,\"#0d0887\"],[0.1111111111111111,\"#46039f\"],[0.2222222222222222,\"#7201a8\"],[0.3333333333333333,\"#9c179e\"],[0.4444444444444444,\"#bd3786\"],[0.5555555555555556,\"#d8576b\"],[0.6666666666666666,\"#ed7953\"],[0.7777777777777778,\"#fb9f3a\"],[0.8888888888888888,\"#fdca26\"],[1.0,\"#f0f921\"]]}],\"heatmap\":[{\"type\":\"heatmap\",\"colorbar\":{\"outlinewidth\":0,\"ticks\":\"\"},\"colorscale\":[[0.0,\"#0d0887\"],[0.1111111111111111,\"#46039f\"],[0.2222222222222222,\"#7201a8\"],[0.3333333333333333,\"#9c179e\"],[0.4444444444444444,\"#bd3786\"],[0.5555555555555556,\"#d8576b\"],[0.6666666666666666,\"#ed7953\"],[0.7777777777777778,\"#fb9f3a\"],[0.8888888888888888,\"#fdca26\"],[1.0,\"#f0f921\"]]}],\"heatmapgl\":[{\"type\":\"heatmapgl\",\"colorbar\":{\"outlinewidth\":0,\"ticks\":\"\"},\"colorscale\":[[0.0,\"#0d0887\"],[0.1111111111111111,\"#46039f\"],[0.2222222222222222,\"#7201a8\"],[0.3333333333333333,\"#9c179e\"],[0.4444444444444444,\"#bd3786\"],[0.5555555555555556,\"#d8576b\"],[0.6666666666666666,\"#ed7953\"],[0.7777777777777778,\"#fb9f3a\"],[0.8888888888888888,\"#fdca26\"],[1.0,\"#f0f921\"]]}],\"contourcarpet\":[{\"type\":\"contourcarpet\",\"colorbar\":{\"outlinewidth\":0,\"ticks\":\"\"}}],\"contour\":[{\"type\":\"contour\",\"colorbar\":{\"outlinewidth\":0,\"ticks\":\"\"},\"colorscale\":[[0.0,\"#0d0887\"],[0.1111111111111111,\"#46039f\"],[0.2222222222222222,\"#7201a8\"],[0.3333333333333333,\"#9c179e\"],[0.4444444444444444,\"#bd3786\"],[0.5555555555555556,\"#d8576b\"],[0.6666666666666666,\"#ed7953\"],[0.7777777777777778,\"#fb9f3a\"],[0.8888888888888888,\"#fdca26\"],[1.0,\"#f0f921\"]]}],\"surface\":[{\"type\":\"surface\",\"colorbar\":{\"outlinewidth\":0,\"ticks\":\"\"},\"colorscale\":[[0.0,\"#0d0887\"],[0.1111111111111111,\"#46039f\"],[0.2222222222222222,\"#7201a8\"],[0.3333333333333333,\"#9c179e\"],[0.4444444444444444,\"#bd3786\"],[0.5555555555555556,\"#d8576b\"],[0.6666666666666666,\"#ed7953\"],[0.7777777777777778,\"#fb9f3a\"],[0.8888888888888888,\"#fdca26\"],[1.0,\"#f0f921\"]]}],\"mesh3d\":[{\"type\":\"mesh3d\",\"colorbar\":{\"outlinewidth\":0,\"ticks\":\"\"}}],\"scatter\":[{\"fillpattern\":{\"fillmode\":\"overlay\",\"size\":10,\"solidity\":0.2},\"type\":\"scatter\"}],\"parcoords\":[{\"type\":\"parcoords\",\"line\":{\"colorbar\":{\"outlinewidth\":0,\"ticks\":\"\"}}}],\"scatterpolargl\":[{\"type\":\"scatterpolargl\",\"marker\":{\"colorbar\":{\"outlinewidth\":0,\"ticks\":\"\"}}}],\"bar\":[{\"error_x\":{\"color\":\"#2a3f5f\"},\"error_y\":{\"color\":\"#2a3f5f\"},\"marker\":{\"line\":{\"color\":\"#E5ECF6\",\"width\":0.5},\"pattern\":{\"fillmode\":\"overlay\",\"size\":10,\"solidity\":0.2}},\"type\":\"bar\"}],\"scattergeo\":[{\"type\":\"scattergeo\",\"marker\":{\"colorbar\":{\"outlinewidth\":0,\"ticks\":\"\"}}}],\"scatterpolar\":[{\"type\":\"scatterpolar\",\"marker\":{\"colorbar\":{\"outlinewidth\":0,\"ticks\":\"\"}}}],\"histogram\":[{\"marker\":{\"pattern\":{\"fillmode\":\"overlay\",\"size\":10,\"solidity\":0.2}},\"type\":\"histogram\"}],\"scattergl\":[{\"type\":\"scattergl\",\"marker\":{\"colorbar\":{\"outlinewidth\":0,\"ticks\":\"\"}}}],\"scatter3d\":[{\"type\":\"scatter3d\",\"line\":{\"colorbar\":{\"outlinewidth\":0,\"ticks\":\"\"}},\"marker\":{\"colorbar\":{\"outlinewidth\":0,\"ticks\":\"\"}}}],\"scattermapbox\":[{\"type\":\"scattermapbox\",\"marker\":{\"colorbar\":{\"outlinewidth\":0,\"ticks\":\"\"}}}],\"scatterternary\":[{\"type\":\"scatterternary\",\"marker\":{\"colorbar\":{\"outlinewidth\":0,\"ticks\":\"\"}}}],\"scattercarpet\":[{\"type\":\"scattercarpet\",\"marker\":{\"colorbar\":{\"outlinewidth\":0,\"ticks\":\"\"}}}],\"carpet\":[{\"aaxis\":{\"endlinecolor\":\"#2a3f5f\",\"gridcolor\":\"white\",\"linecolor\":\"white\",\"minorgridcolor\":\"white\",\"startlinecolor\":\"#2a3f5f\"},\"baxis\":{\"endlinecolor\":\"#2a3f5f\",\"gridcolor\":\"white\",\"linecolor\":\"white\",\"minorgridcolor\":\"white\",\"startlinecolor\":\"#2a3f5f\"},\"type\":\"carpet\"}],\"table\":[{\"cells\":{\"fill\":{\"color\":\"#EBF0F8\"},\"line\":{\"color\":\"white\"}},\"header\":{\"fill\":{\"color\":\"#C8D4E3\"},\"line\":{\"color\":\"white\"}},\"type\":\"table\"}],\"barpolar\":[{\"marker\":{\"line\":{\"color\":\"#E5ECF6\",\"width\":0.5},\"pattern\":{\"fillmode\":\"overlay\",\"size\":10,\"solidity\":0.2}},\"type\":\"barpolar\"}],\"pie\":[{\"automargin\":true,\"type\":\"pie\"}]},\"layout\":{\"autotypenumbers\":\"strict\",\"colorway\":[\"#636efa\",\"#EF553B\",\"#00cc96\",\"#ab63fa\",\"#FFA15A\",\"#19d3f3\",\"#FF6692\",\"#B6E880\",\"#FF97FF\",\"#FECB52\"],\"font\":{\"color\":\"#2a3f5f\"},\"hovermode\":\"closest\",\"hoverlabel\":{\"align\":\"left\"},\"paper_bgcolor\":\"white\",\"plot_bgcolor\":\"#E5ECF6\",\"polar\":{\"bgcolor\":\"#E5ECF6\",\"angularaxis\":{\"gridcolor\":\"white\",\"linecolor\":\"white\",\"ticks\":\"\"},\"radialaxis\":{\"gridcolor\":\"white\",\"linecolor\":\"white\",\"ticks\":\"\"}},\"ternary\":{\"bgcolor\":\"#E5ECF6\",\"aaxis\":{\"gridcolor\":\"white\",\"linecolor\":\"white\",\"ticks\":\"\"},\"baxis\":{\"gridcolor\":\"white\",\"linecolor\":\"white\",\"ticks\":\"\"},\"caxis\":{\"gridcolor\":\"white\",\"linecolor\":\"white\",\"ticks\":\"\"}},\"coloraxis\":{\"colorbar\":{\"outlinewidth\":0,\"ticks\":\"\"}},\"colorscale\":{\"sequential\":[[0.0,\"#0d0887\"],[0.1111111111111111,\"#46039f\"],[0.2222222222222222,\"#7201a8\"],[0.3333333333333333,\"#9c179e\"],[0.4444444444444444,\"#bd3786\"],[0.5555555555555556,\"#d8576b\"],[0.6666666666666666,\"#ed7953\"],[0.7777777777777778,\"#fb9f3a\"],[0.8888888888888888,\"#fdca26\"],[1.0,\"#f0f921\"]],\"sequentialminus\":[[0.0,\"#0d0887\"],[0.1111111111111111,\"#46039f\"],[0.2222222222222222,\"#7201a8\"],[0.3333333333333333,\"#9c179e\"],[0.4444444444444444,\"#bd3786\"],[0.5555555555555556,\"#d8576b\"],[0.6666666666666666,\"#ed7953\"],[0.7777777777777778,\"#fb9f3a\"],[0.8888888888888888,\"#fdca26\"],[1.0,\"#f0f921\"]],\"diverging\":[[0,\"#8e0152\"],[0.1,\"#c51b7d\"],[0.2,\"#de77ae\"],[0.3,\"#f1b6da\"],[0.4,\"#fde0ef\"],[0.5,\"#f7f7f7\"],[0.6,\"#e6f5d0\"],[0.7,\"#b8e186\"],[0.8,\"#7fbc41\"],[0.9,\"#4d9221\"],[1,\"#276419\"]]},\"xaxis\":{\"gridcolor\":\"white\",\"linecolor\":\"white\",\"ticks\":\"\",\"title\":{\"standoff\":15},\"zerolinecolor\":\"white\",\"automargin\":true,\"zerolinewidth\":2},\"yaxis\":{\"gridcolor\":\"white\",\"linecolor\":\"white\",\"ticks\":\"\",\"title\":{\"standoff\":15},\"zerolinecolor\":\"white\",\"automargin\":true,\"zerolinewidth\":2},\"scene\":{\"xaxis\":{\"backgroundcolor\":\"#E5ECF6\",\"gridcolor\":\"white\",\"linecolor\":\"white\",\"showbackground\":true,\"ticks\":\"\",\"zerolinecolor\":\"white\",\"gridwidth\":2},\"yaxis\":{\"backgroundcolor\":\"#E5ECF6\",\"gridcolor\":\"white\",\"linecolor\":\"white\",\"showbackground\":true,\"ticks\":\"\",\"zerolinecolor\":\"white\",\"gridwidth\":2},\"zaxis\":{\"backgroundcolor\":\"#E5ECF6\",\"gridcolor\":\"white\",\"linecolor\":\"white\",\"showbackground\":true,\"ticks\":\"\",\"zerolinecolor\":\"white\",\"gridwidth\":2}},\"shapedefaults\":{\"line\":{\"color\":\"#2a3f5f\"}},\"annotationdefaults\":{\"arrowcolor\":\"#2a3f5f\",\"arrowhead\":0,\"arrowwidth\":1},\"geo\":{\"bgcolor\":\"white\",\"landcolor\":\"#E5ECF6\",\"subunitcolor\":\"white\",\"showland\":true,\"showlakes\":true,\"lakecolor\":\"white\"},\"title\":{\"x\":0.05},\"mapbox\":{\"style\":\"light\"}}},\"xaxis\":{\"anchor\":\"y\",\"domain\":[0.0,1.0],\"title\":{\"text\":\"Level of Mosaicism (%)\"},\"type\":\"log\",\"tickvals\":[0.04,0.2,1,5,25],\"range\":[-2,3.25]},\"yaxis\":{\"anchor\":\"x\",\"domain\":[0.0,1.0],\"title\":{\"text\":\"Sensitivity (L1)\"},\"range\":[0,1],\"tickvals\":[0,0.2,0.4,0.6,0.8,1]},\"legend\":{\"title\":{\"text\":\"Depth\",\"font\":{\"size\":18,\"color\":\"black\"}},\"tracegroupgap\":0,\"font\":{\"size\":16},\"traceorder\":\"normal\",\"orientation\":\"v\",\"y\":1.1,\"x\":0.01},\"margin\":{\"t\":60},\"font\":{\"family\":\"Arial, sans-serif\",\"size\":18,\"color\":\"RebeccaPurple\"}},                        {\"responsive\": true}                    ).then(function(){\n",
       "                            \n",
       "var gd = document.getElementById('7982f492-a584-4a9e-8f85-b8eb05b3507c');\n",
       "var x = new MutationObserver(function (mutations, observer) {{\n",
       "        var display = window.getComputedStyle(gd).display;\n",
       "        if (!display || display === 'none') {{\n",
       "            console.log([gd, 'removed!']);\n",
       "            Plotly.purge(gd);\n",
       "            observer.disconnect();\n",
       "        }}\n",
       "}});\n",
       "\n",
       "// Listen for the removal of the full notebook cells\n",
       "var notebookContainer = gd.closest('#notebook-container');\n",
       "if (notebookContainer) {{\n",
       "    x.observe(notebookContainer, {childList: true});\n",
       "}}\n",
       "\n",
       "// Listen for the clearing of the current output cell\n",
       "var outputEl = gd.closest('.output');\n",
       "if (outputEl) {{\n",
       "    x.observe(outputEl, {childList: true});\n",
       "}}\n",
       "\n",
       "                        })                };                });            </script>        </div>"
      ]
     },
     "metadata": {},
     "output_type": "display_data"
    }
   ],
   "source": [
    "create_line_plot(sens)"
   ]
  },
  {
   "cell_type": "code",
   "execution_count": null,
   "id": "0ad841d1-44e8-4522-934f-730ede30f147",
   "metadata": {},
   "outputs": [],
   "source": []
  }
 ],
 "metadata": {
  "kernelspec": {
   "display_name": "Python 3 (ipykernel)",
   "language": "python",
   "name": "python3"
  },
  "language_info": {
   "codemirror_mode": {
    "name": "ipython",
    "version": 3
   },
   "file_extension": ".py",
   "mimetype": "text/x-python",
   "name": "python",
   "nbconvert_exporter": "python",
   "pygments_lexer": "ipython3",
   "version": "3.8.18"
  }
 },
 "nbformat": 4,
 "nbformat_minor": 5
}
